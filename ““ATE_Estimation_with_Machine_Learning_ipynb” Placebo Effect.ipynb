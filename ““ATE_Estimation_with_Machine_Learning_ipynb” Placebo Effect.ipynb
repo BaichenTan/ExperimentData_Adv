{
  "cells": [
    {
      "cell_type": "markdown",
      "metadata": {
        "id": "view-in-github",
        "colab_type": "text"
      },
      "source": [
        "<a href=\"https://colab.research.google.com/github/BaichenTan/ExperimentData_Adv/blob/master/%E2%80%9C%E2%80%9CATE_Estimation_with_Machine_Learning_ipynb%E2%80%9D%20Placebo%20Effect.ipynb\" target=\"_parent\"><img src=\"https://colab.research.google.com/assets/colab-badge.svg\" alt=\"Open In Colab\"/></a>"
      ]
    },
    {
      "cell_type": "markdown",
      "metadata": {
        "id": "QfZkNLUb4B-p"
      },
      "source": [
        "# ATT Estimation Tutorial\n",
        "\n",
        "This tutorial gives a short example for how to estimate average treatment effect on the treated using machine learning methods"
      ]
    },
    {
      "cell_type": "code",
      "execution_count": 229,
      "metadata": {
        "id": "dS2X3Bq1-fxE"
      },
      "outputs": [],
      "source": [
        "import numpy as np\n",
        "import pandas as pd\n",
        "import scipy as sp\n",
        "from sklearn.ensemble import RandomForestClassifier, RandomForestRegressor\n",
        "from sklearn.linear_model import LogisticRegression\n",
        "from sklearn.linear_model import LinearRegression\n",
        "from sklearn.neighbors import KNeighborsRegressor, KNeighborsClassifier\n",
        "from sklearn.tree import DecisionTreeRegressor, DecisionTreeClassifier\n",
        "from sklearn.model_selection import KFold, StratifiedKFold, train_test_split\n",
        "from sklearn.metrics import mean_squared_error, log_loss\n",
        "from xgboost import XGBClassifier, XGBRegressor\n",
        "import sklearn\n",
        "import os\n",
        "import matplotlib.pyplot as plt\n",
        "from matplotlib.pyplot import hist\n",
        "from tabulate import tabulate"
      ]
    },
    {
      "cell_type": "code",
      "execution_count": 230,
      "metadata": {
        "id": "nxJ46X9cFJ9X"
      },
      "outputs": [],
      "source": [
        "RANDOM_SEED=42\n",
        "np.random.seed(RANDOM_SEED)"
      ]
    },
    {
      "cell_type": "markdown",
      "metadata": {
        "id": "CjKmYJkW2YiC"
      },
      "source": [
        "# Import dataset"
      ]
    },
    {
      "cell_type": "code",
      "execution_count": 326,
      "metadata": {
        "colab": {
          "base_uri": "https://localhost:8080/",
          "height": 162
        },
        "id": "-L-Q9K1V2XWI",
        "outputId": "a7b48d38-5c83-4e7a-e531-0b4540bf6c6b"
      },
      "outputs": [
        {
          "output_type": "execute_result",
          "data": {
            "text/plain": [
              "     Unnamed: 0  ...1  followup_fallstudyhours  followup_getwritinghelp  \\\n",
              "694         695   991                       15                        4   \n",
              "\n",
              "     followup_metwithinstructor  followup_metwithfreetutor  \\\n",
              "694                           2                          2   \n",
              "\n",
              "     followup_imptodowellatuoft  followup_depressed  followup_stressed  \\\n",
              "694                           6                   0                  1   \n",
              "\n",
              "     fathers_education  mothers_education  fall_meangrade_year1  exp_gradschl  \\\n",
              "694                  6                  6             77.333336             0   \n",
              "\n",
              "     agreeableness2  agreeableness  extraversion2  extraversion  study_habit  \n",
              "694        0.445675              1      -0.194478             0            8  "
            ],
            "text/html": [
              "\n",
              "  <div id=\"df-bb1c483e-2847-42fa-bb18-7a0614e0a987\">\n",
              "    <div class=\"colab-df-container\">\n",
              "      <div>\n",
              "<style scoped>\n",
              "    .dataframe tbody tr th:only-of-type {\n",
              "        vertical-align: middle;\n",
              "    }\n",
              "\n",
              "    .dataframe tbody tr th {\n",
              "        vertical-align: top;\n",
              "    }\n",
              "\n",
              "    .dataframe thead th {\n",
              "        text-align: right;\n",
              "    }\n",
              "</style>\n",
              "<table border=\"1\" class=\"dataframe\">\n",
              "  <thead>\n",
              "    <tr style=\"text-align: right;\">\n",
              "      <th></th>\n",
              "      <th>Unnamed: 0</th>\n",
              "      <th>...1</th>\n",
              "      <th>followup_fallstudyhours</th>\n",
              "      <th>followup_getwritinghelp</th>\n",
              "      <th>followup_metwithinstructor</th>\n",
              "      <th>followup_metwithfreetutor</th>\n",
              "      <th>followup_imptodowellatuoft</th>\n",
              "      <th>followup_depressed</th>\n",
              "      <th>followup_stressed</th>\n",
              "      <th>fathers_education</th>\n",
              "      <th>mothers_education</th>\n",
              "      <th>fall_meangrade_year1</th>\n",
              "      <th>exp_gradschl</th>\n",
              "      <th>agreeableness2</th>\n",
              "      <th>agreeableness</th>\n",
              "      <th>extraversion2</th>\n",
              "      <th>extraversion</th>\n",
              "      <th>study_habit</th>\n",
              "    </tr>\n",
              "  </thead>\n",
              "  <tbody>\n",
              "    <tr>\n",
              "      <th>694</th>\n",
              "      <td>695</td>\n",
              "      <td>991</td>\n",
              "      <td>15</td>\n",
              "      <td>4</td>\n",
              "      <td>2</td>\n",
              "      <td>2</td>\n",
              "      <td>6</td>\n",
              "      <td>0</td>\n",
              "      <td>1</td>\n",
              "      <td>6</td>\n",
              "      <td>6</td>\n",
              "      <td>77.333336</td>\n",
              "      <td>0</td>\n",
              "      <td>0.445675</td>\n",
              "      <td>1</td>\n",
              "      <td>-0.194478</td>\n",
              "      <td>0</td>\n",
              "      <td>8</td>\n",
              "    </tr>\n",
              "  </tbody>\n",
              "</table>\n",
              "</div>\n",
              "      <button class=\"colab-df-convert\" onclick=\"convertToInteractive('df-bb1c483e-2847-42fa-bb18-7a0614e0a987')\"\n",
              "              title=\"Convert this dataframe to an interactive table.\"\n",
              "              style=\"display:none;\">\n",
              "        \n",
              "  <svg xmlns=\"http://www.w3.org/2000/svg\" height=\"24px\"viewBox=\"0 0 24 24\"\n",
              "       width=\"24px\">\n",
              "    <path d=\"M0 0h24v24H0V0z\" fill=\"none\"/>\n",
              "    <path d=\"M18.56 5.44l.94 2.06.94-2.06 2.06-.94-2.06-.94-.94-2.06-.94 2.06-2.06.94zm-11 1L8.5 8.5l.94-2.06 2.06-.94-2.06-.94L8.5 2.5l-.94 2.06-2.06.94zm10 10l.94 2.06.94-2.06 2.06-.94-2.06-.94-.94-2.06-.94 2.06-2.06.94z\"/><path d=\"M17.41 7.96l-1.37-1.37c-.4-.4-.92-.59-1.43-.59-.52 0-1.04.2-1.43.59L10.3 9.45l-7.72 7.72c-.78.78-.78 2.05 0 2.83L4 21.41c.39.39.9.59 1.41.59.51 0 1.02-.2 1.41-.59l7.78-7.78 2.81-2.81c.8-.78.8-2.07 0-2.86zM5.41 20L4 18.59l7.72-7.72 1.47 1.35L5.41 20z\"/>\n",
              "  </svg>\n",
              "      </button>\n",
              "      \n",
              "  <style>\n",
              "    .colab-df-container {\n",
              "      display:flex;\n",
              "      flex-wrap:wrap;\n",
              "      gap: 12px;\n",
              "    }\n",
              "\n",
              "    .colab-df-convert {\n",
              "      background-color: #E8F0FE;\n",
              "      border: none;\n",
              "      border-radius: 50%;\n",
              "      cursor: pointer;\n",
              "      display: none;\n",
              "      fill: #1967D2;\n",
              "      height: 32px;\n",
              "      padding: 0 0 0 0;\n",
              "      width: 32px;\n",
              "    }\n",
              "\n",
              "    .colab-df-convert:hover {\n",
              "      background-color: #E2EBFA;\n",
              "      box-shadow: 0px 1px 2px rgba(60, 64, 67, 0.3), 0px 1px 3px 1px rgba(60, 64, 67, 0.15);\n",
              "      fill: #174EA6;\n",
              "    }\n",
              "\n",
              "    [theme=dark] .colab-df-convert {\n",
              "      background-color: #3B4455;\n",
              "      fill: #D2E3FC;\n",
              "    }\n",
              "\n",
              "    [theme=dark] .colab-df-convert:hover {\n",
              "      background-color: #434B5C;\n",
              "      box-shadow: 0px 1px 3px 1px rgba(0, 0, 0, 0.15);\n",
              "      filter: drop-shadow(0px 1px 2px rgba(0, 0, 0, 0.3));\n",
              "      fill: #FFFFFF;\n",
              "    }\n",
              "  </style>\n",
              "\n",
              "      <script>\n",
              "        const buttonEl =\n",
              "          document.querySelector('#df-bb1c483e-2847-42fa-bb18-7a0614e0a987 button.colab-df-convert');\n",
              "        buttonEl.style.display =\n",
              "          google.colab.kernel.accessAllowed ? 'block' : 'none';\n",
              "\n",
              "        async function convertToInteractive(key) {\n",
              "          const element = document.querySelector('#df-bb1c483e-2847-42fa-bb18-7a0614e0a987');\n",
              "          const dataTable =\n",
              "            await google.colab.kernel.invokeFunction('convertToInteractive',\n",
              "                                                     [key], {});\n",
              "          if (!dataTable) return;\n",
              "\n",
              "          const docLinkHtml = 'Like what you see? Visit the ' +\n",
              "            '<a target=\"_blank\" href=https://colab.research.google.com/notebooks/data_table.ipynb>data table notebook</a>'\n",
              "            + ' to learn more about interactive tables.';\n",
              "          element.innerHTML = '';\n",
              "          dataTable['output_type'] = 'display_data';\n",
              "          await google.colab.output.renderOutput(dataTable, element);\n",
              "          const docLink = document.createElement('div');\n",
              "          docLink.innerHTML = docLinkHtml;\n",
              "          element.appendChild(docLink);\n",
              "        }\n",
              "      </script>\n",
              "    </div>\n",
              "  </div>\n",
              "  "
            ]
          },
          "metadata": {},
          "execution_count": 326
        }
      ],
      "source": [
        "data = pd.read_csv(\"https://raw.githubusercontent.com/BaichenTan/ExperimentData_Adv/master/dataset_trimmed_agreeableness_final.csv\")\n",
        "data\n"
      ]
    },
    {
      "cell_type": "markdown",
      "metadata": {
        "id": "Q57avql1Pu4k"
      },
      "source": [
        "## Counfounders, Outcome, and Treatment"
      ]
    },
    {
      "cell_type": "code",
      "execution_count": 232,
      "metadata": {
        "id": "PHF8AKpy4o4I"
      },
      "outputs": [],
      "source": [
        "#create a dataset of confounders\n",
        "confounders_without_Mediator = data[['fathers_education', 'mothers_education']]\n",
        "confounders_with_allMediators = data[[\"followup_fallstudyhours\", \"followup_imptodowellatuoft\", \"followup_depressed\", \"followup_stressed\", \"fathers_education\",\t\"mothers_education\", \"exp_gradschl\", \"study_habit\"]]\n",
        "confounders_with_mediatorStudyHours = data[[\"followup_fallstudyhours\", \"followup_imptodowellatuoft\", \"followup_depressed\", \"followup_stressed\", \"fathers_education\",\t\"mothers_education\", \"exp_gradschl\"]]\n",
        "confounders_with_mediatorStudyHabits = data[[\"study_habit\",\"followup_imptodowellatuoft\", \"followup_depressed\", \"followup_stressed\", \"fathers_education\",\t\"mothers_education\", \"exp_gradschl\"]]\n",
        "outcome = data['fall_meangrade_year1']\n",
        "treatment = data['extraversion']\n",
        "placebo = data['agreeableness']"
      ]
    },
    {
      "cell_type": "markdown",
      "metadata": {
        "id": "C576dWRsa3ad"
      },
      "source": [
        "## Specify Nuisance Function Models\n",
        "\n",
        "The next step is to specify models for the conditional expected outcome and propensity score"
      ]
    },
    {
      "cell_type": "markdown",
      "metadata": {
        "id": "5PmmVpO89glE"
      },
      "source": [
        "## Q model with randomforest"
      ]
    },
    {
      "cell_type": "code",
      "execution_count": 233,
      "metadata": {
        "id": "qyOhSZRQRb8W"
      },
      "outputs": [],
      "source": [
        "# specify a model for the conditional expected outcome\n",
        "\n",
        "# make a function that returns a sklearn model for later use in k-folding\n",
        "def make_Qmodel_randomForest():\n",
        "  return RandomForestRegressor(random_state=RANDOM_SEED, n_estimators=500, max_depth=3)\n",
        "\n",
        "Qmodel_randomForest = make_Qmodel_randomForest()\n",
        "\n",
        "# Sanity check that chosen model actually improves test error\n",
        "# A real analysis should give substantial attention to model selection and validation "
      ]
    },
    {
      "cell_type": "markdown",
      "metadata": {
        "id": "gbhY1xyi9WfR"
      },
      "source": [
        "## Q model with linear regression"
      ]
    },
    {
      "cell_type": "code",
      "execution_count": 234,
      "metadata": {
        "id": "KlvJEIUb9W1D"
      },
      "outputs": [],
      "source": [
        "def make_Qmodel_linearRegression():\n",
        "  return LinearRegression()\n",
        "\n",
        "Qmodel_LinearRegression = make_Qmodel_linearRegression()\n",
        "\n"
      ]
    },
    {
      "cell_type": "markdown",
      "metadata": {
        "id": "gcyeKSydAr4w"
      },
      "source": [
        "## Q model with XGBoost "
      ]
    },
    {
      "cell_type": "code",
      "execution_count": 235,
      "metadata": {
        "id": "5hiMWUOgAsMd"
      },
      "outputs": [],
      "source": [
        "def make_Qmodel_XGBoost():\n",
        "  return XGBRegressor(n_jobs=1, objective = \"reg:squarederror\", random_state=RANDOM_SEED)\n",
        "\n",
        "Qmodel_XGBRegressor = make_Qmodel_XGBoost()"
      ]
    },
    {
      "cell_type": "markdown",
      "metadata": {
        "id": "pFykT_xgDXKK"
      },
      "source": [
        "## Sanity Check of Qmodel for various confounder conditions"
      ]
    },
    {
      "cell_type": "markdown",
      "source": [
        "### Confounders without Mediators"
      ],
      "metadata": {
        "id": "yIn7aRtIFeqR"
      }
    },
    {
      "cell_type": "code",
      "source": [
        "Qmodel_randomForest = make_Qmodel_randomForest()\n",
        "Qmodel_LinearRegression = make_Qmodel_linearRegression()\n",
        "Qmodel_XGBoost = make_Qmodel_XGBoost()\n",
        "Qmodel_KNeighbors = make_Qmodel_KNeighbors()\n",
        "Qmodel_DecisionTree = make_Qmodel_DecisionTree()\n",
        "\n",
        "# Sanity check that chosen model actually improves test error\n",
        "# A real analysis should give substantial attention to model selection and validation \n",
        "\n",
        "X_w_treatment = confounders_without_Mediator.copy()\n",
        "X_w_treatment[\"treatment\"] = treatment\n",
        "\n",
        "X_train, X_test, y_train, y_test = train_test_split(X_w_treatment, outcome, test_size=0.2)\n",
        "Qmodel_randomForest.fit(X_train, y_train)\n",
        "Qmodel_LinearRegression.fit(X_train, y_train)\n",
        "Qmodel_XGBoost.fit(X_train, y_train)\n",
        "Qmodel_DecisionTree.fit(X_train, y_train)\n",
        "y_pred_RF0 = Qmodel_randomForest.predict(X_test)\n",
        "y_pred_LR0 = Qmodel_LinearRegression.predict(X_test)\n",
        "y_pred_XGB0 = Qmodel_XGBoost.predict(X_test)\n",
        "y_pred_DT0 = Qmodel_DecisionTree.predict(X_test)\n",
        "\n",
        "test_mse_RF0=mean_squared_error(y_pred_RF0, y_test)\n",
        "print(f\"Test MSE of fit model of RandomForest is {test_mse_RF0}\") \n",
        "test_mse_LR0=mean_squared_error(y_pred_LR0, y_test)\n",
        "print(f\"Test MSE of fit model of LogisticRegression is {test_mse_LR0}\")\n",
        "test_mse_XGB0=mean_squared_error(y_pred_XGB0, y_test)\n",
        "print(f\"Test MSE of fit model of XGBoost is {test_mse_XGB0}\")  \n",
        "baseline_mse_RF0=mean_squared_error(y_train.mean()*np.ones_like(y_test), y_test)\n",
        "print(f\"Test MSE of no-covariate model {baseline_mse_RF0}\")"
      ],
      "metadata": {
        "colab": {
          "base_uri": "https://localhost:8080/"
        },
        "id": "WxSl0LydFk5O",
        "outputId": "93b275a3-ea43-4913-d879-d90f431c010f"
      },
      "execution_count": 236,
      "outputs": [
        {
          "output_type": "stream",
          "name": "stdout",
          "text": [
            "Test MSE of fit model of RandomForest is 118.32320600039039\n",
            "Test MSE of fit model of LogisticRegression is 115.52500040803571\n",
            "Test MSE of fit model of XGBoost is 122.90570601624253\n",
            "Test MSE of no-covariate model 121.05502610132534\n"
          ]
        }
      ]
    },
    {
      "cell_type": "markdown",
      "source": [
        "### Confounders with both mediators"
      ],
      "metadata": {
        "id": "ALvKeOdnG2Cb"
      }
    },
    {
      "cell_type": "code",
      "source": [
        "Qmodel_randomForest = make_Qmodel_randomForest()\n",
        "Qmodel_LinearRegression = make_Qmodel_linearRegression()\n",
        "Qmodel_XGBoost = make_Qmodel_XGBoost()\n",
        "\n",
        "# Sanity check that chosen model actually improves test error\n",
        "# A real analysis should give substantial attention to model selection and validation \n",
        "\n",
        "X_w_treatment = confounders_with_allMediators.copy()\n",
        "X_w_treatment[\"treatment\"] = treatment\n",
        "\n",
        "X_train, X_test, y_train, y_test = train_test_split(X_w_treatment, outcome, test_size=0.2)\n",
        "Qmodel_randomForest.fit(X_train, y_train)\n",
        "Qmodel_LinearRegression.fit(X_train, y_train)\n",
        "Qmodel_XGBoost.fit(X_train, y_train)\n",
        "y_pred_RF1 = Qmodel_randomForest.predict(X_test)\n",
        "y_pred_LR1 = Qmodel_LinearRegression.predict(X_test)\n",
        "y_pred_XGB1 = Qmodel_XGBoost.predict(X_test)\n",
        "\n",
        "test_mse_RF1=mean_squared_error(y_pred_RF1, y_test)\n",
        "print(f\"Test MSE of fit model of RandomForest is {test_mse_RF1}\") \n",
        "test_mse_LR1=mean_squared_error(y_pred_LR1, y_test)\n",
        "print(f\"Test MSE of fit model of LogisticRegression is {test_mse_LR1}\")\n",
        "test_mse_XGB1=mean_squared_error(y_pred_XGB1, y_test)\n",
        "print(f\"Test MSE of fit model of XGBoost is {test_mse_XGB1}\")  \n",
        "baseline_mse_RF1=mean_squared_error(y_train.mean()*np.ones_like(y_test), y_test)\n",
        "print(f\"Test MSE of no-covariate model {baseline_mse_RF1}\")"
      ],
      "metadata": {
        "colab": {
          "base_uri": "https://localhost:8080/"
        },
        "id": "OT-Q1HtuHZDR",
        "outputId": "9d0c4b9c-4022-4d27-e986-17446c74d5ca"
      },
      "execution_count": 237,
      "outputs": [
        {
          "output_type": "stream",
          "name": "stdout",
          "text": [
            "Test MSE of fit model of RandomForest is 139.8510981109038\n",
            "Test MSE of fit model of LogisticRegression is 141.07182610971813\n",
            "Test MSE of fit model of XGBoost is 145.1962681350014\n",
            "Test MSE of no-covariate model 141.49195483399038\n"
          ]
        }
      ]
    },
    {
      "cell_type": "markdown",
      "source": [
        "### Confounders with Mediator StudyHours"
      ],
      "metadata": {
        "id": "syjSf3g8IKXP"
      }
    },
    {
      "cell_type": "code",
      "source": [
        "Qmodel_randomForest = make_Qmodel_randomForest()\n",
        "Qmodel_LinearRegression = make_Qmodel_linearRegression()\n",
        "Qmodel_XGBoost = make_Qmodel_XGBoost()\n",
        "\n",
        "# Sanity check that chosen model actually improves test error\n",
        "# A real analysis should give substantial attention to model selection and validation \n",
        "\n",
        "X_w_treatment = confounders_with_mediatorStudyHours.copy()\n",
        "X_w_treatment[\"treatment\"] = treatment\n",
        "\n",
        "X_train, X_test, y_train, y_test = train_test_split(X_w_treatment, outcome, test_size=0.2)\n",
        "Qmodel_randomForest.fit(X_train, y_train)\n",
        "Qmodel_LinearRegression.fit(X_train, y_train)\n",
        "Qmodel_XGBoost.fit(X_train, y_train)\n",
        "y_pred_RF2 = Qmodel_randomForest.predict(X_test)\n",
        "y_pred_LR2 = Qmodel_LinearRegression.predict(X_test)\n",
        "y_pred_XGB2 = Qmodel_XGBoost.predict(X_test)\n",
        "\n",
        "test_mse_RF2=mean_squared_error(y_pred_RF2, y_test)\n",
        "print(f\"Test MSE of fit model of RandomForest is {test_mse_RF2}\") \n",
        "test_mse_LR2=mean_squared_error(y_pred_LR2, y_test)\n",
        "print(f\"Test MSE of fit model of LogisticRegression is {test_mse_LR2}\")\n",
        "test_mse_XGB2=mean_squared_error(y_pred_XGB2, y_test)\n",
        "print(f\"Test MSE of fit model of XGBoost is {test_mse_XGB2}\")  \n",
        "baseline_mse_RF2=mean_squared_error(y_train.mean()*np.ones_like(y_test), y_test)\n",
        "print(f\"Test MSE of no-covariate model {baseline_mse_RF2}\")"
      ],
      "metadata": {
        "colab": {
          "base_uri": "https://localhost:8080/"
        },
        "id": "nqe87OyZIPlm",
        "outputId": "97f91cdf-b75a-4059-cc64-e2c343c7e86e"
      },
      "execution_count": 238,
      "outputs": [
        {
          "output_type": "stream",
          "name": "stdout",
          "text": [
            "Test MSE of fit model of RandomForest is 131.87566308227088\n",
            "Test MSE of fit model of LogisticRegression is 130.52333681310748\n",
            "Test MSE of fit model of XGBoost is 134.4416646636651\n",
            "Test MSE of no-covariate model 139.97981000891141\n"
          ]
        }
      ]
    },
    {
      "cell_type": "markdown",
      "source": [
        "### Confounders with Mediator StudyHabit"
      ],
      "metadata": {
        "id": "Pa5OA-KfIntI"
      }
    },
    {
      "cell_type": "code",
      "source": [
        "Qmodel_randomForest = make_Qmodel_randomForest()\n",
        "Qmodel_LinearRegression = make_Qmodel_linearRegression()\n",
        "Qmodel_XGBoost = make_Qmodel_XGBoost()\n",
        "\n",
        "# Sanity check that chosen model actually improves test error\n",
        "# A real analysis should give substantial attention to model selection and validation \n",
        "\n",
        "X_w_treatment = confounders_with_mediatorStudyHabits.copy()\n",
        "X_w_treatment[\"treatment\"] = treatment\n",
        "\n",
        "X_train, X_test, y_train, y_test = train_test_split(X_w_treatment, outcome, test_size=0.2)\n",
        "Qmodel_randomForest.fit(X_train, y_train)\n",
        "Qmodel_LinearRegression.fit(X_train, y_train)\n",
        "Qmodel_XGBoost.fit(X_train, y_train)\n",
        "y_pred_RF3 = Qmodel_randomForest.predict(X_test)\n",
        "y_pred_LR3 = Qmodel_LinearRegression.predict(X_test)\n",
        "y_pred_XGB3 = Qmodel_XGBoost.predict(X_test)\n",
        "\n",
        "test_mse_RF3=mean_squared_error(y_pred_RF3, y_test)\n",
        "print(f\"Test MSE of fit model of RandomForest is {test_mse_RF3}\") \n",
        "test_mse_LR3=mean_squared_error(y_pred_LR2, y_test)\n",
        "print(f\"Test MSE of fit model of LogisticRegression is {test_mse_LR3}\")\n",
        "test_mse_XGB3=mean_squared_error(y_pred_XGB3, y_test)\n",
        "print(f\"Test MSE of fit model of XGBoost is {test_mse_XGB3}\")  \n",
        "baseline_mse_RF3=mean_squared_error(y_train.mean()*np.ones_like(y_test), y_test)\n",
        "print(f\"Test MSE of no-covariate model {baseline_mse_RF3}\")"
      ],
      "metadata": {
        "colab": {
          "base_uri": "https://localhost:8080/"
        },
        "id": "dWkpOxNAIrRN",
        "outputId": "af9ff8da-893a-4845-8f81-1787d53d680b"
      },
      "execution_count": 239,
      "outputs": [
        {
          "output_type": "stream",
          "name": "stdout",
          "text": [
            "Test MSE of fit model of RandomForest is 115.71029956538172\n",
            "Test MSE of fit model of LogisticRegression is 138.1409924758852\n",
            "Test MSE of fit model of XGBoost is 126.73285167710858\n",
            "Test MSE of no-covariate model 119.5016062536552\n"
          ]
        }
      ]
    },
    {
      "cell_type": "markdown",
      "metadata": {
        "id": "-jKu1MwyCdCC"
      },
      "source": [
        "## g model"
      ]
    },
    {
      "cell_type": "markdown",
      "metadata": {
        "id": "0eaO1Oi3DS8I"
      },
      "source": [
        "### g model with RandomForest"
      ]
    },
    {
      "cell_type": "code",
      "execution_count": 240,
      "metadata": {
        "id": "uq6eZEBXbsaI"
      },
      "outputs": [],
      "source": [
        "# specify a model for the propensity score\n",
        "\n",
        "def make_gmodel_randomForest():\n",
        "\n",
        "  return RandomForestClassifier(n_estimators=100, max_depth=10)\n",
        "\n",
        "gmodel_randomForest = make_gmodel_randomForest()"
      ]
    },
    {
      "cell_type": "markdown",
      "metadata": {
        "id": "4X3sCNeyC6K0"
      },
      "source": [
        "## g model with logistic regression"
      ]
    },
    {
      "cell_type": "code",
      "execution_count": 241,
      "metadata": {
        "id": "dV-pn9FXJrDX"
      },
      "outputs": [],
      "source": [
        "def make_gmodel_logisticRegression():\n",
        "  return LogisticRegression(max_iter=1000)\n",
        "\n",
        "gmodel_LogisticRegression = make_gmodel_logisticRegression()"
      ]
    },
    {
      "cell_type": "markdown",
      "metadata": {
        "id": "O-DrXpsQJrW6"
      },
      "source": [
        "## g model with XGBoost"
      ]
    },
    {
      "cell_type": "code",
      "execution_count": 242,
      "metadata": {
        "id": "7iX9s1VrJriP"
      },
      "outputs": [],
      "source": [
        "def make_gmodel_XGBClassifier():\n",
        "  return XGBClassifier(use_label_encoder=False, n_jobs=1, objective='binary:logistic',eval_metric = 'logloss', random_state =RANDOM_SEED)\n",
        "\n",
        "gmodel_XGBClassifier = make_gmodel_XGBClassifier()"
      ]
    },
    {
      "cell_type": "markdown",
      "metadata": {
        "id": "oYvqsja_dhUj"
      },
      "source": [
        "## Sanity Check of gmodel for Various Confounding Conditions"
      ]
    },
    {
      "cell_type": "markdown",
      "source": [
        "### Confounder without Mediators"
      ],
      "metadata": {
        "id": "dm3smeI_JvjZ"
      }
    },
    {
      "cell_type": "code",
      "source": [
        "gmodel_randomForest = make_gmodel_randomForest()\n",
        "gmodel_LogisticRegression = make_gmodel_logisticRegression()\n",
        "gmodel_XGBoost = make_gmodel_XGBClassifier()\n",
        "# Sanity check that chosen model actually improves test error\n",
        "# A real analysis should give substantial attention to model selection and validation \n",
        "\n",
        "# Sanity check of confounders with mediators\n",
        "X_train, X_test, a_train, a_test = train_test_split(confounders_without_Mediator, treatment, test_size=0.2)\n",
        "gmodel_randomForest.fit(X_train, a_train)\n",
        "gmodel_LogisticRegression.fit(X_train, a_train)\n",
        "gmodel_XGBoost.fit(X_train, a_train)\n",
        "\n",
        "a_pred_RF0 = gmodel_randomForest.predict_proba(X_test)[:,1]\n",
        "a_pred_LR0 = gmodel_LogisticRegression.predict_proba(X_test)[:,1]\n",
        "a_pred_XGB0 = gmodel_XGBoost.predict_proba(X_test)[:,1]\n",
        "\n",
        "test_ce_RF0=log_loss(a_test, a_pred_RF0)\n",
        "print(f\"Test CE of fit model {test_ce_RF0}\") \n",
        "test_ce_LR0=log_loss(a_test, a_pred_LR0)\n",
        "print(f\"Test CE of fit model {test_ce_LR0}\") \n",
        "test_ce_XGB0=log_loss(a_test, a_pred_XGB0)\n",
        "print(f\"Test CE of fit model {test_ce_XGB0}\") \n",
        "baseline_ce_RF0=log_loss(a_test, a_train.mean()*np.ones_like(a_test))\n",
        "print(f\"Test CE of no-covariate model {baseline_ce_RF0}\")"
      ],
      "metadata": {
        "colab": {
          "base_uri": "https://localhost:8080/"
        },
        "id": "gG5Whi0IJqSt",
        "outputId": "e6186dd4-ca57-4a52-9b43-44266a0b7b70"
      },
      "execution_count": 243,
      "outputs": [
        {
          "output_type": "stream",
          "name": "stdout",
          "text": [
            "Test CE of fit model 0.7062994599826368\n",
            "Test CE of fit model 0.6916722951971188\n",
            "Test CE of fit model 0.6904647391271818\n",
            "Test CE of no-covariate model 0.6951313118045875\n"
          ]
        }
      ]
    },
    {
      "cell_type": "markdown",
      "source": [
        "### Confounder with both Mediators"
      ],
      "metadata": {
        "id": "lTTtyfljKehy"
      }
    },
    {
      "cell_type": "code",
      "source": [
        "gmodel_randomForest = make_gmodel_randomForest()\n",
        "gmodel_LogisticRegression = make_gmodel_logisticRegression()\n",
        "gmodel_XGBoost = make_gmodel_XGBClassifier()\n",
        "# Sanity check that chosen model actually improves test error\n",
        "# A real analysis should give substantial attention to model selection and validation \n",
        "\n",
        "# Sanity check of confounders with mediators\n",
        "X_train, X_test, a_train, a_test = train_test_split(confounders_with_allMediators, treatment, test_size=0.2)\n",
        "gmodel_randomForest.fit(X_train, a_train)\n",
        "gmodel_LogisticRegression.fit(X_train, a_train)\n",
        "gmodel_XGBoost.fit(X_train, a_train)\n",
        "a_pred_RF1 = gmodel_randomForest.predict_proba(X_test)[:,1]\n",
        "a_pred_LR1 = gmodel_LogisticRegression.predict_proba(X_test)[:,1]\n",
        "a_pred_XGB1 = gmodel_XGBoost.predict_proba(X_test)[:,1]\n",
        "\n",
        "test_ce_RF1=log_loss(a_test, a_pred_RF1)\n",
        "print(f\"Test CE of fit model {test_ce_RF1}\") \n",
        "test_ce_LR1=log_loss(a_test, a_pred_LR1)\n",
        "print(f\"Test CE of fit model {test_ce_LR1}\") \n",
        "test_ce_XGB1=log_loss(a_test, a_pred_XGB1)\n",
        "print(f\"Test CE of fit model {test_ce_XGB1}\") \n",
        "baseline_ce_RF1=log_loss(a_test, a_train.mean()*np.ones_like(a_test))\n",
        "print(f\"Test CE of no-covariate model {baseline_ce_RF1}\")"
      ],
      "metadata": {
        "colab": {
          "base_uri": "https://localhost:8080/"
        },
        "id": "aPxmmAFuKiKr",
        "outputId": "523e9d3f-d6c5-4008-9aa1-3a0dd7507210"
      },
      "execution_count": 244,
      "outputs": [
        {
          "output_type": "stream",
          "name": "stdout",
          "text": [
            "Test CE of fit model 0.6894102272559897\n",
            "Test CE of fit model 0.6827515731436329\n",
            "Test CE of fit model 0.7278006770317024\n",
            "Test CE of no-covariate model 0.6924267973140459\n"
          ]
        }
      ]
    },
    {
      "cell_type": "markdown",
      "source": [
        "### Confounder with Mediator StudyHour"
      ],
      "metadata": {
        "id": "9w5AmJ3dK7rt"
      }
    },
    {
      "cell_type": "code",
      "source": [
        "gmodel_randomForest = make_gmodel_randomForest()\n",
        "gmodel_LogisticRegression = make_gmodel_logisticRegression()\n",
        "gmodel_XGBoost = make_gmodel_XGBClassifier()\n",
        "# Sanity check that chosen model actually improves test error\n",
        "# A real analysis should give substantial attention to model selection and validation \n",
        "\n",
        "# Sanity check of confounders with mediators\n",
        "X_train, X_test, a_train, a_test = train_test_split(confounders_with_mediatorStudyHours, treatment, test_size=0.2)\n",
        "gmodel_randomForest.fit(X_train, a_train)\n",
        "gmodel_LogisticRegression.fit(X_train, a_train)\n",
        "gmodel_XGBoost.fit(X_train, a_train)\n",
        "\n",
        "a_pred_RF2 = gmodel_randomForest.predict_proba(X_test)[:,1]\n",
        "a_pred_LR2 = gmodel_LogisticRegression.predict_proba(X_test)[:,1]\n",
        "a_pred_XGB2 = gmodel_XGBoost.predict_proba(X_test)[:,1]\n",
        "\n",
        "test_ce_RF2=log_loss(a_test, a_pred_RF2)\n",
        "print(f\"Test CE of fit model {test_ce_RF2}\") \n",
        "test_ce_LR2=log_loss(a_test, a_pred_LR1)\n",
        "print(f\"Test CE of fit model {test_ce_LR2}\") \n",
        "test_ce_XGB2=log_loss(a_test, a_pred_XGB2)\n",
        "print(f\"Test CE of fit model {test_ce_XGB2}\") \n",
        "baseline_ce_RF2=log_loss(a_test, a_train.mean()*np.ones_like(a_test))\n",
        "print(f\"Test CE of no-covariate model {baseline_ce_RF2}\")"
      ],
      "metadata": {
        "colab": {
          "base_uri": "https://localhost:8080/"
        },
        "id": "WRsn0T8ALCP1",
        "outputId": "2a5d8c27-7b3f-4559-874e-6fff480ed5ff"
      },
      "execution_count": 245,
      "outputs": [
        {
          "output_type": "stream",
          "name": "stdout",
          "text": [
            "Test CE of fit model 0.6697666009811757\n",
            "Test CE of fit model 0.6914936488635022\n",
            "Test CE of fit model 0.7034659138505492\n",
            "Test CE of no-covariate model 0.693770551837665\n"
          ]
        }
      ]
    },
    {
      "cell_type": "markdown",
      "source": [
        "### Confounder with Mediator StudyHabit"
      ],
      "metadata": {
        "id": "h4nHCy6mbsVm"
      }
    },
    {
      "cell_type": "code",
      "source": [
        "gmodel_randomForest = make_gmodel_randomForest()\n",
        "gmodel_LogisticRegression = make_gmodel_logisticRegression()\n",
        "gmodel_XGBoost = make_gmodel_XGBClassifier()\n",
        "# Sanity check that chosen model actually improves test error\n",
        "# A real analysis should give substantial attention to model selection and validation \n",
        "\n",
        "# Sanity check of confounders with mediators\n",
        "X_train, X_test, a_train, a_test = train_test_split(confounders_with_mediatorStudyHabits, treatment, test_size=0.2)\n",
        "gmodel_randomForest.fit(X_train, a_train)\n",
        "gmodel_LogisticRegression.fit(X_train, a_train)\n",
        "gmodel_XGBoost.fit(X_train, a_train)\n",
        "\n",
        "a_pred_RF3 = gmodel_randomForest.predict_proba(X_test)[:,1]\n",
        "a_pred_LR3 = gmodel_LogisticRegression.predict_proba(X_test)[:,1]\n",
        "a_pred_XGB3 = gmodel_XGBoost.predict_proba(X_test)[:,1]\n",
        "\n",
        "test_ce_RF3=log_loss(a_test, a_pred_RF3)\n",
        "print(f\"Test CE of fit model {test_ce_RF3}\") \n",
        "test_ce_LR3=log_loss(a_test, a_pred_LR3)\n",
        "print(f\"Test CE of fit model {test_ce_LR3}\") \n",
        "test_ce_XGB3=log_loss(a_test, a_pred_XGB3)\n",
        "print(f\"Test CE of fit model {test_ce_XGB3}\") \n",
        "baseline_ce_RF3=log_loss(a_test, a_train.mean()*np.ones_like(a_test))\n",
        "print(f\"Test CE of no-covariate model {baseline_ce_RF3}\")"
      ],
      "metadata": {
        "colab": {
          "base_uri": "https://localhost:8080/"
        },
        "id": "TvhPjl7pZgJC",
        "outputId": "ade467f4-2207-4437-a572-5ed5c63b89d5"
      },
      "execution_count": 246,
      "outputs": [
        {
          "output_type": "stream",
          "name": "stdout",
          "text": [
            "Test CE of fit model 0.7184906283224443\n",
            "Test CE of fit model 0.6977003966248745\n",
            "Test CE of fit model 0.742976221463409\n",
            "Test CE of no-covariate model 0.6937705518376651\n"
          ]
        }
      ]
    },
    {
      "cell_type": "markdown",
      "metadata": {
        "id": "2RkvV_4_dFWo"
      },
      "source": [
        "## Use cross fitting to get get predicted outcomes and propensity scores for each unit"
      ]
    },
    {
      "cell_type": "code",
      "execution_count": 247,
      "metadata": {
        "id": "KA0AsEGJ_X3b"
      },
      "outputs": [],
      "source": [
        "# helper functions to implement the cross fitting\n",
        "\n",
        "def treatment_k_fold_fit_and_predict(make_model, X:pd.DataFrame, A:np.array, n_splits:int):\n",
        "    \"\"\"\n",
        "    Implements K fold cross-fitting for the model predicting the treatment A. \n",
        "    That is, \n",
        "    1. Split data into K folds\n",
        "    2. For each fold j, the model is fit on the other K-1 folds\n",
        "    3. The fitted model is used to make predictions for each data point in fold j\n",
        "    Returns an array containing the predictions  \n",
        "\n",
        "    Args:\n",
        "    model: function that returns sklearn model (which implements fit and predict_prob)\n",
        "    X: dataframe of variables to adjust for\n",
        "    A: array of treatments\n",
        "    n_splits: number of splits to use\n",
        "    \"\"\"\n",
        "    predictions = np.full_like(A, np.nan, dtype=float)\n",
        "    kf = StratifiedKFold(n_splits=n_splits, shuffle=True, random_state=RANDOM_SEED)\n",
        "    \n",
        "    for train_index, test_index in kf.split(X, A):\n",
        "      X_train = X.loc[train_index]\n",
        "      A_train = A.loc[train_index]\n",
        "      g = make_model()\n",
        "      g.fit(X_train, A_train)\n",
        "\n",
        "      # get predictions for split\n",
        "      predictions[test_index] = g.predict_proba(X.loc[test_index])[:, 1]\n",
        "\n",
        "    assert np.isnan(predictions).sum() == 0\n",
        "    return predictions\n",
        "\n",
        "\n",
        "def outcome_k_fold_fit_and_predict(make_model, X:pd.DataFrame, y:np.array, A:np.array, n_splits:int, output_type:str):\n",
        "    \"\"\"\n",
        "    Implements K fold cross-fitting for the model predicting the outcome Y. \n",
        "    That is, \n",
        "    1. Split data into K folds\n",
        "    2. For each fold j, the model is fit on the other K-1 folds\n",
        "    3. The fitted model is used to make predictions for each data point in fold j\n",
        "    Returns two arrays containing the predictions for all units untreated, all units treated  \n",
        "\n",
        "    Args:\n",
        "    model: function that returns sklearn model (that implements fit and either predict_prob or predict)\n",
        "    X: dataframe of variables to adjust for\n",
        "    y: array of outcomes\n",
        "    A: array of treatments\n",
        "    n_splits: number of splits to use\n",
        "    output_type: type of outcome, \"binary\" or \"continuous\"\n",
        "\n",
        "    \"\"\"\n",
        "    predictions0 = np.full_like(A, np.nan, dtype=float)\n",
        "    predictions1 = np.full_like(y, np.nan, dtype=float)\n",
        "    if output_type == 'binary':\n",
        "      kf = StratifiedKFold(n_splits=n_splits, shuffle=True, random_state=RANDOM_SEED)\n",
        "    elif output_type == 'continuous':\n",
        "      kf = KFold(n_splits=n_splits, shuffle=True, random_state=RANDOM_SEED)\n",
        "\n",
        "    # include the treatment as input feature\n",
        "    X_w_treatment = X.copy()\n",
        "    X_w_treatment[\"A\"] = A\n",
        "\n",
        "    # for predicting effect under treatment / control status for each data point \n",
        "    X0 = X_w_treatment.copy()\n",
        "    X0[\"A\"] = 0\n",
        "    X1 = X_w_treatment.copy()\n",
        "    X1[\"A\"] = 1\n",
        "\n",
        "    \n",
        "    for train_index, test_index in kf.split(X_w_treatment, y):\n",
        "      X_train = X_w_treatment.loc[train_index]\n",
        "      y_train = y.loc[train_index]\n",
        "      q = make_model()\n",
        "      q.fit(X_train, y_train)\n",
        "\n",
        "      if output_type =='binary':\n",
        "        predictions0[test_index] = q.predict_proba(X0.loc[test_index])[:, 1]\n",
        "        predictions1[test_index] = q.predict_proba(X1.loc[test_index])[:, 1]\n",
        "      elif output_type == 'continuous':\n",
        "        predictions0[test_index] = q.predict(X0.loc[test_index])\n",
        "        predictions1[test_index] = q.predict(X1.loc[test_index])\n",
        "\n",
        "    assert np.isnan(predictions0).sum() == 0\n",
        "    assert np.isnan(predictions1).sum() == 0\n",
        "    return predictions0, predictions1"
      ]
    },
    {
      "cell_type": "markdown",
      "source": [
        "## Exclude the moderate units in the g and Q model\n"
      ],
      "metadata": {
        "id": "OTLgbqcTPJZf"
      }
    },
    {
      "cell_type": "markdown",
      "metadata": {
        "id": "VNhM7URdgzQB"
      },
      "source": [
        "## Combine predicted values and data into estimate of ATU"
      ]
    },
    {
      "cell_type": "code",
      "execution_count": 248,
      "metadata": {
        "id": "J-vONC5ejwh2"
      },
      "outputs": [],
      "source": [
        "def att_aiptw(Q0, Q1, g, A, Y, prob_t=None):\n",
        "  \"\"\"\n",
        "  # Double ML estimator for the ATT\n",
        "  This uses the ATT specific scores, see equation 3.9 of https://www.econstor.eu/bitstream/10419/149795/1/869216953.pdf\n",
        "  \"\"\"\n",
        "\n",
        "  if prob_t is None:\n",
        "    prob_t = 1 - A.mean() # estimate marginal probability of treatment\n",
        "\n",
        "  tau_hat = (A*((1-g)/g)*(Y-Q1) - (1-A)*(Y-Q1)).mean()/ prob_t\n",
        "  \n",
        "  scores = (A*((1-g)/g)*(Y-Q1) - (1-A)*(Y-Q1) - tau_hat*(1-A)) / prob_t\n",
        "  n = Y.shape[0] # number of observations\n",
        "  std_hat = np.std(scores) / np.sqrt(n)\n",
        "\n",
        "  return tau_hat, std_hat\n"
      ]
    },
    {
      "cell_type": "code",
      "execution_count": 249,
      "metadata": {
        "id": "O_F5r0SSkzzK"
      },
      "outputs": [],
      "source": [
        "def ate_aiptw(Q0, Q1, g, A, Y, prob_t=None):\n",
        "  \"\"\"\n",
        "  # Double ML estimator for the ATE\n",
        "  \"\"\"\n",
        "\n",
        "  tau_hat = (Q1 - Q0 + A*(Y-Q1)/g - (1-A)*(Y-Q0)/(1-g)).mean()\n",
        "  \n",
        "  scores = Q1 - Q0 + A*(Y-Q1)/g - (1-A)*(Y-Q0)/(1-g) - tau_hat\n",
        "  n = Y.shape[0] # number of observations\n",
        "  std_hat = np.std(scores) / np.sqrt(n)\n",
        "\n",
        "  return tau_hat, std_hat\n"
      ]
    },
    {
      "cell_type": "markdown",
      "metadata": {
        "id": "1PUtEGGzXSIQ"
      },
      "source": [
        "# Natural Direct Effect with two Mediators"
      ]
    },
    {
      "cell_type": "markdown",
      "metadata": {
        "id": "65_HhISR8mtX"
      },
      "source": [
        "## Check Overlap Conditions 0<Pr(A =1 |𝐗 = x, M1 = m1, M2 = m2) < 1 using the three models"
      ]
    },
    {
      "cell_type": "code",
      "execution_count": 250,
      "metadata": {
        "colab": {
          "base_uri": "https://localhost:8080/",
          "height": 299
        },
        "id": "2wJF-GKy8twQ",
        "outputId": "e02545f9-4ea2-4175-904b-72407d5366cb"
      },
      "outputs": [
        {
          "output_type": "execute_result",
          "data": {
            "text/plain": [
              "Text(0.5, 1.0, 'Using RandomForest')"
            ]
          },
          "metadata": {},
          "execution_count": 250
        },
        {
          "output_type": "display_data",
          "data": {
            "text/plain": [
              "<Figure size 432x288 with 1 Axes>"
            ],
            "image/png": "[encoded data removed]"
          },
          "metadata": {
            "needs_background": "light"
          }
        }
      ],
      "source": [
        "#check the ovrlap conditions using randomForest\n",
        "#get the propensity score function\n",
        "g1 = treatment_k_fold_fit_and_predict(make_gmodel_randomForest, X=confounders_with_allMediators, A=treatment, n_splits=10)\n",
        "hist(g1, density=True)\n",
        "plt.title(\"Using RandomForest\")\n"
      ]
    },
    {
      "cell_type": "code",
      "execution_count": 251,
      "metadata": {
        "colab": {
          "base_uri": "https://localhost:8080/",
          "height": 372
        },
        "id": "TAGbVxO3QeGr",
        "outputId": "cac2b8ca-26b1-489f-d8c8-766ac67ae323"
      },
      "outputs": [
        {
          "output_type": "execute_result",
          "data": {
            "text/plain": [
              "(array([0.05881929, 0.13724502, 0.45094792, 1.98024957, 4.25459561,\n",
              "        5.50940722, 5.09767216, 2.21552675, 0.80386369, 0.13724502]),\n",
              " array([0.21638753, 0.26482407, 0.3132606 , 0.36169714, 0.41013368,\n",
              "        0.45857021, 0.50700675, 0.55544328, 0.60387982, 0.65231635,\n",
              "        0.70075289]),\n",
              " <a list of 10 Patch objects>)"
            ]
          },
          "metadata": {},
          "execution_count": 251
        },
        {
          "output_type": "display_data",
          "data": {
            "text/plain": [
              "<Figure size 432x288 with 1 Axes>"
            ],
            "image/png": "[encoded data removed]"
          },
          "metadata": {
            "needs_background": "light"
          }
        }
      ],
      "source": [
        "#check the ovrlap conditions using Logistic Regression\n",
        "g2 = treatment_k_fold_fit_and_predict(make_gmodel_logisticRegression, X=confounders_with_allMediators, A=treatment, n_splits=10)\n",
        "hist(g2, density=True)"
      ]
    },
    {
      "cell_type": "code",
      "execution_count": 252,
      "metadata": {
        "id": "grGefcHXX4ni",
        "colab": {
          "base_uri": "https://localhost:8080/",
          "height": 372
        },
        "outputId": "0a84187c-7cb7-451e-87ff-85f2aebd4a0b"
      },
      "outputs": [
        {
          "output_type": "execute_result",
          "data": {
            "text/plain": [
              "(array([0.07926749, 0.35104176, 0.54354853, 1.3475474 , 2.27610948,\n",
              "        3.64630473, 2.34405304, 0.8153228 , 0.37368962, 0.14721106]),\n",
              " array([0.04573715, 0.12960095, 0.21346475, 0.29732855, 0.38119235,\n",
              "        0.46505615, 0.54891995, 0.63278375, 0.71664755, 0.80051135,\n",
              "        0.88437515]),\n",
              " <a list of 10 Patch objects>)"
            ]
          },
          "metadata": {},
          "execution_count": 252
        },
        {
          "output_type": "display_data",
          "data": {
            "text/plain": [
              "<Figure size 432x288 with 1 Axes>"
            ],
            "image/png": "[encoded data removed]"
          },
          "metadata": {
            "needs_background": "light"
          }
        }
      ],
      "source": [
        "#check the ovrlap conditions using XGBoost\n",
        "g3 = treatment_k_fold_fit_and_predict(make_gmodel_XGBClassifier, X=confounders_with_allMediators, A=treatment, n_splits=10)\n",
        "hist(g3, density=True)"
      ]
    },
    {
      "cell_type": "markdown",
      "metadata": {
        "id": "pswwyh7Eltqc"
      },
      "source": [
        "## Calculate Natural Direct Effect with two mediators using RandomForest"
      ]
    },
    {
      "cell_type": "markdown",
      "metadata": {
        "id": "5PdLq_g6pdZE"
      },
      "source": [
        "### Calculate Q0 and Q1 model using Random Forest"
      ]
    },
    {
      "cell_type": "code",
      "execution_count": 253,
      "metadata": {
        "id": "b54BFwwSl9pl"
      },
      "outputs": [],
      "source": [
        "#calculate Q0 and Q1 model\n",
        "Q0_RF,Q1_RF = outcome_k_fold_fit_and_predict(make_Qmodel_randomForest, X=confounders_with_allMediators, y=outcome, A=treatment, n_splits=10, output_type=\"continuous\")"
      ]
    },
    {
      "cell_type": "markdown",
      "metadata": {
        "id": "YLIVzDWno0FW"
      },
      "source": [
        "### Combine the Dataset for g, Q0, Q1, A, and Y values"
      ]
    },
    {
      "cell_type": "code",
      "execution_count": 254,
      "metadata": {
        "id": "YHZOhZvKoyVH",
        "colab": {
          "base_uri": "https://localhost:8080/",
          "height": 206
        },
        "outputId": "1e0db77e-9c72-4087-ccc3-83872d4264b7"
      },
      "outputs": [
        {
          "output_type": "execute_result",
          "data": {
            "text/plain": [
              "          g         Q0         Q1  A          Y\n",
              "0  0.451821  69.896707  69.833334  1  72.000000\n",
              "1  0.531555  75.332903  75.170198  1  73.333336\n",
              "2  0.621764  68.407865  67.758908  0  74.333336\n",
              "3  0.370626  75.088326  74.822566  1  71.333336\n",
              "4  0.491529  68.883937  68.696778  1  83.333336"
            ],
            "text/html": [
              "\n",
              "  <div id=\"df-40f86183-abb3-4ae8-be12-46370d11e87a\">\n",
              "    <div class=\"colab-df-container\">\n",
              "      <div>\n",
              "<style scoped>\n",
              "    .dataframe tbody tr th:only-of-type {\n",
              "        vertical-align: middle;\n",
              "    }\n",
              "\n",
              "    .dataframe tbody tr th {\n",
              "        vertical-align: top;\n",
              "    }\n",
              "\n",
              "    .dataframe thead th {\n",
              "        text-align: right;\n",
              "    }\n",
              "</style>\n",
              "<table border=\"1\" class=\"dataframe\">\n",
              "  <thead>\n",
              "    <tr style=\"text-align: right;\">\n",
              "      <th></th>\n",
              "      <th>g</th>\n",
              "      <th>Q0</th>\n",
              "      <th>Q1</th>\n",
              "      <th>A</th>\n",
              "      <th>Y</th>\n",
              "    </tr>\n",
              "  </thead>\n",
              "  <tbody>\n",
              "    <tr>\n",
              "      <th>0</th>\n",
              "      <td>0.451821</td>\n",
              "      <td>69.896707</td>\n",
              "      <td>69.833334</td>\n",
              "      <td>1</td>\n",
              "      <td>72.000000</td>\n",
              "    </tr>\n",
              "    <tr>\n",
              "      <th>1</th>\n",
              "      <td>0.531555</td>\n",
              "      <td>75.332903</td>\n",
              "      <td>75.170198</td>\n",
              "      <td>1</td>\n",
              "      <td>73.333336</td>\n",
              "    </tr>\n",
              "    <tr>\n",
              "      <th>2</th>\n",
              "      <td>0.621764</td>\n",
              "      <td>68.407865</td>\n",
              "      <td>67.758908</td>\n",
              "      <td>0</td>\n",
              "      <td>74.333336</td>\n",
              "    </tr>\n",
              "    <tr>\n",
              "      <th>3</th>\n",
              "      <td>0.370626</td>\n",
              "      <td>75.088326</td>\n",
              "      <td>74.822566</td>\n",
              "      <td>1</td>\n",
              "      <td>71.333336</td>\n",
              "    </tr>\n",
              "    <tr>\n",
              "      <th>4</th>\n",
              "      <td>0.491529</td>\n",
              "      <td>68.883937</td>\n",
              "      <td>68.696778</td>\n",
              "      <td>1</td>\n",
              "      <td>83.333336</td>\n",
              "    </tr>\n",
              "  </tbody>\n",
              "</table>\n",
              "</div>\n",
              "      <button class=\"colab-df-convert\" onclick=\"convertToInteractive('df-40f86183-abb3-4ae8-be12-46370d11e87a')\"\n",
              "              title=\"Convert this dataframe to an interactive table.\"\n",
              "              style=\"display:none;\">\n",
              "        \n",
              "  <svg xmlns=\"http://www.w3.org/2000/svg\" height=\"24px\"viewBox=\"0 0 24 24\"\n",
              "       width=\"24px\">\n",
              "    <path d=\"M0 0h24v24H0V0z\" fill=\"none\"/>\n",
              "    <path d=\"M18.56 5.44l.94 2.06.94-2.06 2.06-.94-2.06-.94-.94-2.06-.94 2.06-2.06.94zm-11 1L8.5 8.5l.94-2.06 2.06-.94-2.06-.94L8.5 2.5l-.94 2.06-2.06.94zm10 10l.94 2.06.94-2.06 2.06-.94-2.06-.94-.94-2.06-.94 2.06-2.06.94z\"/><path d=\"M17.41 7.96l-1.37-1.37c-.4-.4-.92-.59-1.43-.59-.52 0-1.04.2-1.43.59L10.3 9.45l-7.72 7.72c-.78.78-.78 2.05 0 2.83L4 21.41c.39.39.9.59 1.41.59.51 0 1.02-.2 1.41-.59l7.78-7.78 2.81-2.81c.8-.78.8-2.07 0-2.86zM5.41 20L4 18.59l7.72-7.72 1.47 1.35L5.41 20z\"/>\n",
              "  </svg>\n",
              "      </button>\n",
              "      \n",
              "  <style>\n",
              "    .colab-df-container {\n",
              "      display:flex;\n",
              "      flex-wrap:wrap;\n",
              "      gap: 12px;\n",
              "    }\n",
              "\n",
              "    .colab-df-convert {\n",
              "      background-color: #E8F0FE;\n",
              "      border: none;\n",
              "      border-radius: 50%;\n",
              "      cursor: pointer;\n",
              "      display: none;\n",
              "      fill: #1967D2;\n",
              "      height: 32px;\n",
              "      padding: 0 0 0 0;\n",
              "      width: 32px;\n",
              "    }\n",
              "\n",
              "    .colab-df-convert:hover {\n",
              "      background-color: #E2EBFA;\n",
              "      box-shadow: 0px 1px 2px rgba(60, 64, 67, 0.3), 0px 1px 3px 1px rgba(60, 64, 67, 0.15);\n",
              "      fill: #174EA6;\n",
              "    }\n",
              "\n",
              "    [theme=dark] .colab-df-convert {\n",
              "      background-color: #3B4455;\n",
              "      fill: #D2E3FC;\n",
              "    }\n",
              "\n",
              "    [theme=dark] .colab-df-convert:hover {\n",
              "      background-color: #434B5C;\n",
              "      box-shadow: 0px 1px 3px 1px rgba(0, 0, 0, 0.15);\n",
              "      filter: drop-shadow(0px 1px 2px rgba(0, 0, 0, 0.3));\n",
              "      fill: #FFFFFF;\n",
              "    }\n",
              "  </style>\n",
              "\n",
              "      <script>\n",
              "        const buttonEl =\n",
              "          document.querySelector('#df-40f86183-abb3-4ae8-be12-46370d11e87a button.colab-df-convert');\n",
              "        buttonEl.style.display =\n",
              "          google.colab.kernel.accessAllowed ? 'block' : 'none';\n",
              "\n",
              "        async function convertToInteractive(key) {\n",
              "          const element = document.querySelector('#df-40f86183-abb3-4ae8-be12-46370d11e87a');\n",
              "          const dataTable =\n",
              "            await google.colab.kernel.invokeFunction('convertToInteractive',\n",
              "                                                     [key], {});\n",
              "          if (!dataTable) return;\n",
              "\n",
              "          const docLinkHtml = 'Like what you see? Visit the ' +\n",
              "            '<a target=\"_blank\" href=https://colab.research.google.com/notebooks/data_table.ipynb>data table notebook</a>'\n",
              "            + ' to learn more about interactive tables.';\n",
              "          element.innerHTML = '';\n",
              "          dataTable['output_type'] = 'display_data';\n",
              "          await google.colab.output.renderOutput(dataTable, element);\n",
              "          const docLink = document.createElement('div');\n",
              "          docLink.innerHTML = docLinkHtml;\n",
              "          element.appendChild(docLink);\n",
              "        }\n",
              "      </script>\n",
              "    </div>\n",
              "  </div>\n",
              "  "
            ]
          },
          "metadata": {},
          "execution_count": 254
        }
      ],
      "source": [
        "data_and_nuisance_estimates_RF = pd.DataFrame({'g': g1, 'Q0': Q0_RF, 'Q1': Q1_RF, 'A': treatment, 'Y': outcome})\n",
        "data_and_nuisance_estimates_RF.head()"
      ]
    },
    {
      "cell_type": "markdown",
      "metadata": {
        "id": "P16hVRw5pig7"
      },
      "source": [
        "### Calculate the Natural Direct Effect using the ATU formula"
      ]
    },
    {
      "cell_type": "code",
      "execution_count": 255,
      "metadata": {
        "id": "ZCLFLNnzphy1",
        "colab": {
          "base_uri": "https://localhost:8080/"
        },
        "outputId": "ae70e09f-5639-4b62-83e5-1fea28295914"
      },
      "outputs": [
        {
          "output_type": "stream",
          "name": "stdout",
          "text": [
            "The estimate using RandomForest is -2.7552463959211133 pm 1.6667595215231041\n"
          ]
        }
      ],
      "source": [
        "tau_hat_RF, std_hat_RF = att_aiptw(**data_and_nuisance_estimates_RF)\n",
        "print(f\"The estimate using RandomForest is {tau_hat_RF} pm {1.96*std_hat_RF}\")"
      ]
    },
    {
      "cell_type": "markdown",
      "source": [
        "## Calculate Natural Direct Effect with two mediators using Logistic Regression"
      ],
      "metadata": {
        "id": "4rFe-TQcqwj8"
      }
    },
    {
      "cell_type": "markdown",
      "source": [
        "### Calculate Q0 and Q1 model using Logistic Regression"
      ],
      "metadata": {
        "id": "_6gUluB-rfwN"
      }
    },
    {
      "cell_type": "code",
      "source": [
        "Q0_LR,Q1_LR = outcome_k_fold_fit_and_predict(make_Qmodel_linearRegression, X=confounders_with_allMediators, y=outcome, A=treatment, n_splits=10, output_type=\"continuous\")"
      ],
      "metadata": {
        "id": "NbWUe3dCqu4q"
      },
      "execution_count": 256,
      "outputs": []
    },
    {
      "cell_type": "markdown",
      "source": [
        "### Combine the dataset for g, Q0, Q1, A, and Y values"
      ],
      "metadata": {
        "id": "SfQwRfbmsAAy"
      }
    },
    {
      "cell_type": "code",
      "source": [
        "data_and_nuisance_estimates_LR = pd.DataFrame({'g': g2, 'Q0': Q0_LR, 'Q1': Q1_LR, 'A': treatment, 'Y': outcome})\n",
        "data_and_nuisance_estimates_LR.head()"
      ],
      "metadata": {
        "id": "jgXteqcxsQo1",
        "colab": {
          "base_uri": "https://localhost:8080/",
          "height": 206
        },
        "outputId": "f430ee90-d689-4b27-ed4f-d90c86257459"
      },
      "execution_count": 257,
      "outputs": [
        {
          "output_type": "execute_result",
          "data": {
            "text/plain": [
              "          g         Q0         Q1  A          Y\n",
              "0  0.488541  70.255458  68.568308  1  72.000000\n",
              "1  0.480307  76.257684  74.800729  1  73.333336\n",
              "2  0.517983  68.717355  67.166190  0  74.333336\n",
              "3  0.541171  74.402356  72.851192  1  71.333336\n",
              "4  0.434775  70.154968  68.634552  1  83.333336"
            ],
            "text/html": [
              "\n",
              "  <div id=\"df-a5ae4c3f-7924-4a70-a934-0818b9d80c85\">\n",
              "    <div class=\"colab-df-container\">\n",
              "      <div>\n",
              "<style scoped>\n",
              "    .dataframe tbody tr th:only-of-type {\n",
              "        vertical-align: middle;\n",
              "    }\n",
              "\n",
              "    .dataframe tbody tr th {\n",
              "        vertical-align: top;\n",
              "    }\n",
              "\n",
              "    .dataframe thead th {\n",
              "        text-align: right;\n",
              "    }\n",
              "</style>\n",
              "<table border=\"1\" class=\"dataframe\">\n",
              "  <thead>\n",
              "    <tr style=\"text-align: right;\">\n",
              "      <th></th>\n",
              "      <th>g</th>\n",
              "      <th>Q0</th>\n",
              "      <th>Q1</th>\n",
              "      <th>A</th>\n",
              "      <th>Y</th>\n",
              "    </tr>\n",
              "  </thead>\n",
              "  <tbody>\n",
              "    <tr>\n",
              "      <th>0</th>\n",
              "      <td>0.488541</td>\n",
              "      <td>70.255458</td>\n",
              "      <td>68.568308</td>\n",
              "      <td>1</td>\n",
              "      <td>72.000000</td>\n",
              "    </tr>\n",
              "    <tr>\n",
              "      <th>1</th>\n",
              "      <td>0.480307</td>\n",
              "      <td>76.257684</td>\n",
              "      <td>74.800729</td>\n",
              "      <td>1</td>\n",
              "      <td>73.333336</td>\n",
              "    </tr>\n",
              "    <tr>\n",
              "      <th>2</th>\n",
              "      <td>0.517983</td>\n",
              "      <td>68.717355</td>\n",
              "      <td>67.166190</td>\n",
              "      <td>0</td>\n",
              "      <td>74.333336</td>\n",
              "    </tr>\n",
              "    <tr>\n",
              "      <th>3</th>\n",
              "      <td>0.541171</td>\n",
              "      <td>74.402356</td>\n",
              "      <td>72.851192</td>\n",
              "      <td>1</td>\n",
              "      <td>71.333336</td>\n",
              "    </tr>\n",
              "    <tr>\n",
              "      <th>4</th>\n",
              "      <td>0.434775</td>\n",
              "      <td>70.154968</td>\n",
              "      <td>68.634552</td>\n",
              "      <td>1</td>\n",
              "      <td>83.333336</td>\n",
              "    </tr>\n",
              "  </tbody>\n",
              "</table>\n",
              "</div>\n",
              "      <button class=\"colab-df-convert\" onclick=\"convertToInteractive('df-a5ae4c3f-7924-4a70-a934-0818b9d80c85')\"\n",
              "              title=\"Convert this dataframe to an interactive table.\"\n",
              "              style=\"display:none;\">\n",
              "        \n",
              "  <svg xmlns=\"http://www.w3.org/2000/svg\" height=\"24px\"viewBox=\"0 0 24 24\"\n",
              "       width=\"24px\">\n",
              "    <path d=\"M0 0h24v24H0V0z\" fill=\"none\"/>\n",
              "    <path d=\"M18.56 5.44l.94 2.06.94-2.06 2.06-.94-2.06-.94-.94-2.06-.94 2.06-2.06.94zm-11 1L8.5 8.5l.94-2.06 2.06-.94-2.06-.94L8.5 2.5l-.94 2.06-2.06.94zm10 10l.94 2.06.94-2.06 2.06-.94-2.06-.94-.94-2.06-.94 2.06-2.06.94z\"/><path d=\"M17.41 7.96l-1.37-1.37c-.4-.4-.92-.59-1.43-.59-.52 0-1.04.2-1.43.59L10.3 9.45l-7.72 7.72c-.78.78-.78 2.05 0 2.83L4 21.41c.39.39.9.59 1.41.59.51 0 1.02-.2 1.41-.59l7.78-7.78 2.81-2.81c.8-.78.8-2.07 0-2.86zM5.41 20L4 18.59l7.72-7.72 1.47 1.35L5.41 20z\"/>\n",
              "  </svg>\n",
              "      </button>\n",
              "      \n",
              "  <style>\n",
              "    .colab-df-container {\n",
              "      display:flex;\n",
              "      flex-wrap:wrap;\n",
              "      gap: 12px;\n",
              "    }\n",
              "\n",
              "    .colab-df-convert {\n",
              "      background-color: #E8F0FE;\n",
              "      border: none;\n",
              "      border-radius: 50%;\n",
              "      cursor: pointer;\n",
              "      display: none;\n",
              "      fill: #1967D2;\n",
              "      height: 32px;\n",
              "      padding: 0 0 0 0;\n",
              "      width: 32px;\n",
              "    }\n",
              "\n",
              "    .colab-df-convert:hover {\n",
              "      background-color: #E2EBFA;\n",
              "      box-shadow: 0px 1px 2px rgba(60, 64, 67, 0.3), 0px 1px 3px 1px rgba(60, 64, 67, 0.15);\n",
              "      fill: #174EA6;\n",
              "    }\n",
              "\n",
              "    [theme=dark] .colab-df-convert {\n",
              "      background-color: #3B4455;\n",
              "      fill: #D2E3FC;\n",
              "    }\n",
              "\n",
              "    [theme=dark] .colab-df-convert:hover {\n",
              "      background-color: #434B5C;\n",
              "      box-shadow: 0px 1px 3px 1px rgba(0, 0, 0, 0.15);\n",
              "      filter: drop-shadow(0px 1px 2px rgba(0, 0, 0, 0.3));\n",
              "      fill: #FFFFFF;\n",
              "    }\n",
              "  </style>\n",
              "\n",
              "      <script>\n",
              "        const buttonEl =\n",
              "          document.querySelector('#df-a5ae4c3f-7924-4a70-a934-0818b9d80c85 button.colab-df-convert');\n",
              "        buttonEl.style.display =\n",
              "          google.colab.kernel.accessAllowed ? 'block' : 'none';\n",
              "\n",
              "        async function convertToInteractive(key) {\n",
              "          const element = document.querySelector('#df-a5ae4c3f-7924-4a70-a934-0818b9d80c85');\n",
              "          const dataTable =\n",
              "            await google.colab.kernel.invokeFunction('convertToInteractive',\n",
              "                                                     [key], {});\n",
              "          if (!dataTable) return;\n",
              "\n",
              "          const docLinkHtml = 'Like what you see? Visit the ' +\n",
              "            '<a target=\"_blank\" href=https://colab.research.google.com/notebooks/data_table.ipynb>data table notebook</a>'\n",
              "            + ' to learn more about interactive tables.';\n",
              "          element.innerHTML = '';\n",
              "          dataTable['output_type'] = 'display_data';\n",
              "          await google.colab.output.renderOutput(dataTable, element);\n",
              "          const docLink = document.createElement('div');\n",
              "          docLink.innerHTML = docLinkHtml;\n",
              "          element.appendChild(docLink);\n",
              "        }\n",
              "      </script>\n",
              "    </div>\n",
              "  </div>\n",
              "  "
            ]
          },
          "metadata": {},
          "execution_count": 257
        }
      ]
    },
    {
      "cell_type": "markdown",
      "source": [
        "### Calculate the Natural Direct Effect using the ATU formula"
      ],
      "metadata": {
        "id": "BrMCaZL9sa5U"
      }
    },
    {
      "cell_type": "code",
      "source": [
        "tau_hat_LR, std_hat_LR = att_aiptw(**data_and_nuisance_estimates_LR)\n",
        "print(f\"The estimate using RandomForest is {tau_hat_LR} pm {1.96*std_hat_LR}\")"
      ],
      "metadata": {
        "colab": {
          "base_uri": "https://localhost:8080/"
        },
        "id": "pwKVGTpUsgIO",
        "outputId": "75acc9a1-20f0-47eb-d597-37b2b200d54a"
      },
      "execution_count": 258,
      "outputs": [
        {
          "output_type": "stream",
          "name": "stdout",
          "text": [
            "The estimate using RandomForest is -1.9687693944420095 pm 1.4664520595845412\n"
          ]
        }
      ]
    },
    {
      "cell_type": "markdown",
      "source": [
        "## Calculate the Natural Direct Effect with two Mediators using XGBoost model"
      ],
      "metadata": {
        "id": "7Mz72YvHtE7r"
      }
    },
    {
      "cell_type": "markdown",
      "source": [
        "### Calculate Q0 and Q1 model using XGBoost"
      ],
      "metadata": {
        "id": "xGBYzxtBtg72"
      }
    },
    {
      "cell_type": "code",
      "source": [
        "Q0_XGB,Q1_XGB = outcome_k_fold_fit_and_predict(make_Qmodel_XGBoost, X=confounders_with_allMediators, y=outcome, A=treatment, n_splits=10, output_type=\"continuous\")"
      ],
      "metadata": {
        "id": "6EnXGFwUtOYW"
      },
      "execution_count": 259,
      "outputs": []
    },
    {
      "cell_type": "markdown",
      "source": [
        "### Combine the dataset for g, Q0, Q1, A, and Y values"
      ],
      "metadata": {
        "id": "NZdRyegdtdKt"
      }
    },
    {
      "cell_type": "code",
      "source": [
        "data_and_nuisance_estimates_XGB = pd.DataFrame({'g': g3, 'Q0': Q0_XGB, 'Q1': Q1_XGB, 'A': treatment, 'Y': outcome})\n",
        "data_and_nuisance_estimates_XGB.head()"
      ],
      "metadata": {
        "id": "OxZj4xFntvdy",
        "colab": {
          "base_uri": "https://localhost:8080/",
          "height": 206
        },
        "outputId": "f89f7769-e145-4ae0-f3f1-f0b8498e5422"
      },
      "execution_count": 260,
      "outputs": [
        {
          "output_type": "execute_result",
          "data": {
            "text/plain": [
              "          g         Q0         Q1  A          Y\n",
              "0  0.514690  70.350380  69.637794  1  72.000000\n",
              "1  0.607218  76.400780  76.275558  1  73.333336\n",
              "2  0.526928  74.139854  70.524246  0  74.333336\n",
              "3  0.369138  75.554138  75.271965  1  71.333336\n",
              "4  0.626219  69.542938  68.457069  1  83.333336"
            ],
            "text/html": [
              "\n",
              "  <div id=\"df-6c8a234e-6844-438f-87f6-f3fe51ac4fe1\">\n",
              "    <div class=\"colab-df-container\">\n",
              "      <div>\n",
              "<style scoped>\n",
              "    .dataframe tbody tr th:only-of-type {\n",
              "        vertical-align: middle;\n",
              "    }\n",
              "\n",
              "    .dataframe tbody tr th {\n",
              "        vertical-align: top;\n",
              "    }\n",
              "\n",
              "    .dataframe thead th {\n",
              "        text-align: right;\n",
              "    }\n",
              "</style>\n",
              "<table border=\"1\" class=\"dataframe\">\n",
              "  <thead>\n",
              "    <tr style=\"text-align: right;\">\n",
              "      <th></th>\n",
              "      <th>g</th>\n",
              "      <th>Q0</th>\n",
              "      <th>Q1</th>\n",
              "      <th>A</th>\n",
              "      <th>Y</th>\n",
              "    </tr>\n",
              "  </thead>\n",
              "  <tbody>\n",
              "    <tr>\n",
              "      <th>0</th>\n",
              "      <td>0.514690</td>\n",
              "      <td>70.350380</td>\n",
              "      <td>69.637794</td>\n",
              "      <td>1</td>\n",
              "      <td>72.000000</td>\n",
              "    </tr>\n",
              "    <tr>\n",
              "      <th>1</th>\n",
              "      <td>0.607218</td>\n",
              "      <td>76.400780</td>\n",
              "      <td>76.275558</td>\n",
              "      <td>1</td>\n",
              "      <td>73.333336</td>\n",
              "    </tr>\n",
              "    <tr>\n",
              "      <th>2</th>\n",
              "      <td>0.526928</td>\n",
              "      <td>74.139854</td>\n",
              "      <td>70.524246</td>\n",
              "      <td>0</td>\n",
              "      <td>74.333336</td>\n",
              "    </tr>\n",
              "    <tr>\n",
              "      <th>3</th>\n",
              "      <td>0.369138</td>\n",
              "      <td>75.554138</td>\n",
              "      <td>75.271965</td>\n",
              "      <td>1</td>\n",
              "      <td>71.333336</td>\n",
              "    </tr>\n",
              "    <tr>\n",
              "      <th>4</th>\n",
              "      <td>0.626219</td>\n",
              "      <td>69.542938</td>\n",
              "      <td>68.457069</td>\n",
              "      <td>1</td>\n",
              "      <td>83.333336</td>\n",
              "    </tr>\n",
              "  </tbody>\n",
              "</table>\n",
              "</div>\n",
              "      <button class=\"colab-df-convert\" onclick=\"convertToInteractive('df-6c8a234e-6844-438f-87f6-f3fe51ac4fe1')\"\n",
              "              title=\"Convert this dataframe to an interactive table.\"\n",
              "              style=\"display:none;\">\n",
              "        \n",
              "  <svg xmlns=\"http://www.w3.org/2000/svg\" height=\"24px\"viewBox=\"0 0 24 24\"\n",
              "       width=\"24px\">\n",
              "    <path d=\"M0 0h24v24H0V0z\" fill=\"none\"/>\n",
              "    <path d=\"M18.56 5.44l.94 2.06.94-2.06 2.06-.94-2.06-.94-.94-2.06-.94 2.06-2.06.94zm-11 1L8.5 8.5l.94-2.06 2.06-.94-2.06-.94L8.5 2.5l-.94 2.06-2.06.94zm10 10l.94 2.06.94-2.06 2.06-.94-2.06-.94-.94-2.06-.94 2.06-2.06.94z\"/><path d=\"M17.41 7.96l-1.37-1.37c-.4-.4-.92-.59-1.43-.59-.52 0-1.04.2-1.43.59L10.3 9.45l-7.72 7.72c-.78.78-.78 2.05 0 2.83L4 21.41c.39.39.9.59 1.41.59.51 0 1.02-.2 1.41-.59l7.78-7.78 2.81-2.81c.8-.78.8-2.07 0-2.86zM5.41 20L4 18.59l7.72-7.72 1.47 1.35L5.41 20z\"/>\n",
              "  </svg>\n",
              "      </button>\n",
              "      \n",
              "  <style>\n",
              "    .colab-df-container {\n",
              "      display:flex;\n",
              "      flex-wrap:wrap;\n",
              "      gap: 12px;\n",
              "    }\n",
              "\n",
              "    .colab-df-convert {\n",
              "      background-color: #E8F0FE;\n",
              "      border: none;\n",
              "      border-radius: 50%;\n",
              "      cursor: pointer;\n",
              "      display: none;\n",
              "      fill: #1967D2;\n",
              "      height: 32px;\n",
              "      padding: 0 0 0 0;\n",
              "      width: 32px;\n",
              "    }\n",
              "\n",
              "    .colab-df-convert:hover {\n",
              "      background-color: #E2EBFA;\n",
              "      box-shadow: 0px 1px 2px rgba(60, 64, 67, 0.3), 0px 1px 3px 1px rgba(60, 64, 67, 0.15);\n",
              "      fill: #174EA6;\n",
              "    }\n",
              "\n",
              "    [theme=dark] .colab-df-convert {\n",
              "      background-color: #3B4455;\n",
              "      fill: #D2E3FC;\n",
              "    }\n",
              "\n",
              "    [theme=dark] .colab-df-convert:hover {\n",
              "      background-color: #434B5C;\n",
              "      box-shadow: 0px 1px 3px 1px rgba(0, 0, 0, 0.15);\n",
              "      filter: drop-shadow(0px 1px 2px rgba(0, 0, 0, 0.3));\n",
              "      fill: #FFFFFF;\n",
              "    }\n",
              "  </style>\n",
              "\n",
              "      <script>\n",
              "        const buttonEl =\n",
              "          document.querySelector('#df-6c8a234e-6844-438f-87f6-f3fe51ac4fe1 button.colab-df-convert');\n",
              "        buttonEl.style.display =\n",
              "          google.colab.kernel.accessAllowed ? 'block' : 'none';\n",
              "\n",
              "        async function convertToInteractive(key) {\n",
              "          const element = document.querySelector('#df-6c8a234e-6844-438f-87f6-f3fe51ac4fe1');\n",
              "          const dataTable =\n",
              "            await google.colab.kernel.invokeFunction('convertToInteractive',\n",
              "                                                     [key], {});\n",
              "          if (!dataTable) return;\n",
              "\n",
              "          const docLinkHtml = 'Like what you see? Visit the ' +\n",
              "            '<a target=\"_blank\" href=https://colab.research.google.com/notebooks/data_table.ipynb>data table notebook</a>'\n",
              "            + ' to learn more about interactive tables.';\n",
              "          element.innerHTML = '';\n",
              "          dataTable['output_type'] = 'display_data';\n",
              "          await google.colab.output.renderOutput(dataTable, element);\n",
              "          const docLink = document.createElement('div');\n",
              "          docLink.innerHTML = docLinkHtml;\n",
              "          element.appendChild(docLink);\n",
              "        }\n",
              "      </script>\n",
              "    </div>\n",
              "  </div>\n",
              "  "
            ]
          },
          "metadata": {},
          "execution_count": 260
        }
      ]
    },
    {
      "cell_type": "markdown",
      "source": [
        "### Calculate the Natural Direct Effect using the ATU formula"
      ],
      "metadata": {
        "id": "6IFD_uhvtrU9"
      }
    },
    {
      "cell_type": "code",
      "source": [
        "tau_hat_XGB, std_hat_XGB = att_aiptw(**data_and_nuisance_estimates_XGB)\n",
        "print(f\"The estimate using RandomForest is {tau_hat_XGB} pm {1.96*std_hat_XGB}\")"
      ],
      "metadata": {
        "id": "fAP289gxuP7X",
        "colab": {
          "base_uri": "https://localhost:8080/"
        },
        "outputId": "0245a0a7-38fc-4d4a-b16e-db476ca587b7"
      },
      "execution_count": 261,
      "outputs": [
        {
          "output_type": "stream",
          "name": "stdout",
          "text": [
            "The estimate using RandomForest is -3.566386026181397 pm 2.0311105254947197\n"
          ]
        }
      ]
    },
    {
      "cell_type": "markdown",
      "metadata": {
        "id": "r5tVJ3-qvccX"
      },
      "source": [
        "# Natural Direct Effect with StudyHours as the mediator"
      ]
    },
    {
      "cell_type": "markdown",
      "metadata": {
        "id": "vzrTOVNtvccX"
      },
      "source": [
        "## Check Overlap Conditions 0<Pr(A =1 |𝐗 = x, M1 = m1) < 1 using the three models"
      ]
    },
    {
      "cell_type": "code",
      "execution_count": 262,
      "metadata": {
        "colab": {
          "base_uri": "https://localhost:8080/",
          "height": 372
        },
        "outputId": "bdf4a2a7-30f5-49b7-9fe2-9791211d3004",
        "id": "z-lbBRKJvccX"
      },
      "outputs": [
        {
          "output_type": "execute_result",
          "data": {
            "text/plain": [
              "(array([0.15727266, 0.50811166, 1.06461492, 2.05664245, 2.70992888,\n",
              "        3.10915947, 2.10503404, 0.71377591, 0.24195794, 0.07258738]),\n",
              " array([0.10689948, 0.18539806, 0.26389663, 0.3423952 , 0.42089377,\n",
              "        0.49939234, 0.57789091, 0.65638949, 0.73488806, 0.81338663,\n",
              "        0.8918852 ]),\n",
              " <a list of 10 Patch objects>)"
            ]
          },
          "metadata": {},
          "execution_count": 262
        },
        {
          "output_type": "display_data",
          "data": {
            "text/plain": [
              "<Figure size 432x288 with 1 Axes>"
            ],
            "image/png": "[encoded data removed]"
          },
          "metadata": {
            "needs_background": "light"
          }
        }
      ],
      "source": [
        "#check the overlap conditions using randomForest\n",
        "#get the propensity score function\n",
        "g1_SH = treatment_k_fold_fit_and_predict(make_gmodel_randomForest, X=confounders_with_mediatorStudyHours, A=treatment, n_splits=10)\n",
        "hist(g1_SH, density=True)"
      ]
    },
    {
      "cell_type": "code",
      "execution_count": 263,
      "metadata": {
        "colab": {
          "base_uri": "https://localhost:8080/",
          "height": 372
        },
        "outputId": "57dda36c-b870-40be-fc33-028438b037a2",
        "id": "qs3EjUetvccY"
      },
      "outputs": [
        {
          "output_type": "execute_result",
          "data": {
            "text/plain": [
              "(array([0.04546372, 0.13639116, 0.3409779 , 1.38664345, 3.77348873,\n",
              "        5.50111008, 6.66043493, 4.72822684, 1.22752043, 0.13639116]),\n",
              " array([0.23642785, 0.27820479, 0.31998174, 0.36175868, 0.40353562,\n",
              "        0.44531257, 0.48708951, 0.52886645, 0.5706434 , 0.61242034,\n",
              "        0.65419728]),\n",
              " <a list of 10 Patch objects>)"
            ]
          },
          "metadata": {},
          "execution_count": 263
        },
        {
          "output_type": "display_data",
          "data": {
            "text/plain": [
              "<Figure size 432x288 with 1 Axes>"
            ],
            "image/png": "[encoded data removed]"
          },
          "metadata": {
            "needs_background": "light"
          }
        }
      ],
      "source": [
        "#check the overlap conditions using Logistic Regression\n",
        "g2_SH = treatment_k_fold_fit_and_predict(make_gmodel_logisticRegression, X=confounders_with_mediatorStudyHours, A=treatment, n_splits=10)\n",
        "hist(g2_SH, density=True)"
      ]
    },
    {
      "cell_type": "code",
      "execution_count": 264,
      "metadata": {
        "colab": {
          "base_uri": "https://localhost:8080/",
          "height": 372
        },
        "outputId": "28aa015f-7ed6-4610-e8b2-fc9593973a67",
        "id": "Fky2lWR4vccY"
      },
      "outputs": [
        {
          "output_type": "execute_result",
          "data": {
            "text/plain": [
              "(array([0.08964879, 0.24653416, 0.43703783, 1.25508301, 2.29725015,\n",
              "        3.97816489, 2.26363186, 0.75080859, 0.34738905, 0.13447318]),\n",
              " array([0.03580369, 0.1205493 , 0.20529491, 0.29004052, 0.37478612,\n",
              "        0.45953173, 0.54427734, 0.62902295, 0.71376856, 0.79851416,\n",
              "        0.88325977]),\n",
              " <a list of 10 Patch objects>)"
            ]
          },
          "metadata": {},
          "execution_count": 264
        },
        {
          "output_type": "display_data",
          "data": {
            "text/plain": [
              "<Figure size 432x288 with 1 Axes>"
            ],
            "image/png": "[encoded data removed]"
          },
          "metadata": {
            "needs_background": "light"
          }
        }
      ],
      "source": [
        "#check the ovrlap conditions using XGBoost\n",
        "g3_SH = treatment_k_fold_fit_and_predict(make_gmodel_XGBClassifier, X=confounders_with_mediatorStudyHours, A=treatment, n_splits=10)\n",
        "hist(g3_SH, density=True)"
      ]
    },
    {
      "cell_type": "markdown",
      "metadata": {
        "id": "mUo3HEw7vccY"
      },
      "source": [
        "## Calculate Natural Direct Effect using RandomForest: Using StudyHours as the mediator"
      ]
    },
    {
      "cell_type": "markdown",
      "metadata": {
        "id": "qimN2jQQvccY"
      },
      "source": [
        "### Calculate Q0 and Q1 model using Random Forest"
      ]
    },
    {
      "cell_type": "code",
      "execution_count": 265,
      "metadata": {
        "id": "9FCg3QNLvccY"
      },
      "outputs": [],
      "source": [
        "# Calculate Q0 and Q1 model\n",
        "Q0_RFSH,Q1_RFSH = outcome_k_fold_fit_and_predict(make_Qmodel_randomForest, X=confounders_with_mediatorStudyHours, y=outcome, A=treatment, n_splits=10, output_type=\"continuous\")"
      ]
    },
    {
      "cell_type": "markdown",
      "metadata": {
        "id": "HJS5fNTRvccY"
      },
      "source": [
        "### Combine the Dataset for g, Q0, Q1, A, and Y values"
      ]
    },
    {
      "cell_type": "code",
      "execution_count": 266,
      "metadata": {
        "colab": {
          "base_uri": "https://localhost:8080/",
          "height": 206
        },
        "outputId": "a35157b2-d4f8-40df-cd0f-a8e7089ed7d7",
        "id": "GGvlefq3vccY"
      },
      "outputs": [
        {
          "output_type": "execute_result",
          "data": {
            "text/plain": [
              "          g         Q0         Q1  A          Y\n",
              "0  0.549005  69.859811  69.810932  1  72.000000\n",
              "1  0.594075  75.710891  75.479747  1  73.333336\n",
              "2  0.527559  67.844029  67.180213  0  74.333336\n",
              "3  0.314222  75.230425  74.908388  1  71.333336\n",
              "4  0.574188  68.542755  68.294613  1  83.333336"
            ],
            "text/html": [
              "\n",
              "  <div id=\"df-b15b4d67-9808-47e7-8edc-b04f388dced9\">\n",
              "    <div class=\"colab-df-container\">\n",
              "      <div>\n",
              "<style scoped>\n",
              "    .dataframe tbody tr th:only-of-type {\n",
              "        vertical-align: middle;\n",
              "    }\n",
              "\n",
              "    .dataframe tbody tr th {\n",
              "        vertical-align: top;\n",
              "    }\n",
              "\n",
              "    .dataframe thead th {\n",
              "        text-align: right;\n",
              "    }\n",
              "</style>\n",
              "<table border=\"1\" class=\"dataframe\">\n",
              "  <thead>\n",
              "    <tr style=\"text-align: right;\">\n",
              "      <th></th>\n",
              "      <th>g</th>\n",
              "      <th>Q0</th>\n",
              "      <th>Q1</th>\n",
              "      <th>A</th>\n",
              "      <th>Y</th>\n",
              "    </tr>\n",
              "  </thead>\n",
              "  <tbody>\n",
              "    <tr>\n",
              "      <th>0</th>\n",
              "      <td>0.549005</td>\n",
              "      <td>69.859811</td>\n",
              "      <td>69.810932</td>\n",
              "      <td>1</td>\n",
              "      <td>72.000000</td>\n",
              "    </tr>\n",
              "    <tr>\n",
              "      <th>1</th>\n",
              "      <td>0.594075</td>\n",
              "      <td>75.710891</td>\n",
              "      <td>75.479747</td>\n",
              "      <td>1</td>\n",
              "      <td>73.333336</td>\n",
              "    </tr>\n",
              "    <tr>\n",
              "      <th>2</th>\n",
              "      <td>0.527559</td>\n",
              "      <td>67.844029</td>\n",
              "      <td>67.180213</td>\n",
              "      <td>0</td>\n",
              "      <td>74.333336</td>\n",
              "    </tr>\n",
              "    <tr>\n",
              "      <th>3</th>\n",
              "      <td>0.314222</td>\n",
              "      <td>75.230425</td>\n",
              "      <td>74.908388</td>\n",
              "      <td>1</td>\n",
              "      <td>71.333336</td>\n",
              "    </tr>\n",
              "    <tr>\n",
              "      <th>4</th>\n",
              "      <td>0.574188</td>\n",
              "      <td>68.542755</td>\n",
              "      <td>68.294613</td>\n",
              "      <td>1</td>\n",
              "      <td>83.333336</td>\n",
              "    </tr>\n",
              "  </tbody>\n",
              "</table>\n",
              "</div>\n",
              "      <button class=\"colab-df-convert\" onclick=\"convertToInteractive('df-b15b4d67-9808-47e7-8edc-b04f388dced9')\"\n",
              "              title=\"Convert this dataframe to an interactive table.\"\n",
              "              style=\"display:none;\">\n",
              "        \n",
              "  <svg xmlns=\"http://www.w3.org/2000/svg\" height=\"24px\"viewBox=\"0 0 24 24\"\n",
              "       width=\"24px\">\n",
              "    <path d=\"M0 0h24v24H0V0z\" fill=\"none\"/>\n",
              "    <path d=\"M18.56 5.44l.94 2.06.94-2.06 2.06-.94-2.06-.94-.94-2.06-.94 2.06-2.06.94zm-11 1L8.5 8.5l.94-2.06 2.06-.94-2.06-.94L8.5 2.5l-.94 2.06-2.06.94zm10 10l.94 2.06.94-2.06 2.06-.94-2.06-.94-.94-2.06-.94 2.06-2.06.94z\"/><path d=\"M17.41 7.96l-1.37-1.37c-.4-.4-.92-.59-1.43-.59-.52 0-1.04.2-1.43.59L10.3 9.45l-7.72 7.72c-.78.78-.78 2.05 0 2.83L4 21.41c.39.39.9.59 1.41.59.51 0 1.02-.2 1.41-.59l7.78-7.78 2.81-2.81c.8-.78.8-2.07 0-2.86zM5.41 20L4 18.59l7.72-7.72 1.47 1.35L5.41 20z\"/>\n",
              "  </svg>\n",
              "      </button>\n",
              "      \n",
              "  <style>\n",
              "    .colab-df-container {\n",
              "      display:flex;\n",
              "      flex-wrap:wrap;\n",
              "      gap: 12px;\n",
              "    }\n",
              "\n",
              "    .colab-df-convert {\n",
              "      background-color: #E8F0FE;\n",
              "      border: none;\n",
              "      border-radius: 50%;\n",
              "      cursor: pointer;\n",
              "      display: none;\n",
              "      fill: #1967D2;\n",
              "      height: 32px;\n",
              "      padding: 0 0 0 0;\n",
              "      width: 32px;\n",
              "    }\n",
              "\n",
              "    .colab-df-convert:hover {\n",
              "      background-color: #E2EBFA;\n",
              "      box-shadow: 0px 1px 2px rgba(60, 64, 67, 0.3), 0px 1px 3px 1px rgba(60, 64, 67, 0.15);\n",
              "      fill: #174EA6;\n",
              "    }\n",
              "\n",
              "    [theme=dark] .colab-df-convert {\n",
              "      background-color: #3B4455;\n",
              "      fill: #D2E3FC;\n",
              "    }\n",
              "\n",
              "    [theme=dark] .colab-df-convert:hover {\n",
              "      background-color: #434B5C;\n",
              "      box-shadow: 0px 1px 3px 1px rgba(0, 0, 0, 0.15);\n",
              "      filter: drop-shadow(0px 1px 2px rgba(0, 0, 0, 0.3));\n",
              "      fill: #FFFFFF;\n",
              "    }\n",
              "  </style>\n",
              "\n",
              "      <script>\n",
              "        const buttonEl =\n",
              "          document.querySelector('#df-b15b4d67-9808-47e7-8edc-b04f388dced9 button.colab-df-convert');\n",
              "        buttonEl.style.display =\n",
              "          google.colab.kernel.accessAllowed ? 'block' : 'none';\n",
              "\n",
              "        async function convertToInteractive(key) {\n",
              "          const element = document.querySelector('#df-b15b4d67-9808-47e7-8edc-b04f388dced9');\n",
              "          const dataTable =\n",
              "            await google.colab.kernel.invokeFunction('convertToInteractive',\n",
              "                                                     [key], {});\n",
              "          if (!dataTable) return;\n",
              "\n",
              "          const docLinkHtml = 'Like what you see? Visit the ' +\n",
              "            '<a target=\"_blank\" href=https://colab.research.google.com/notebooks/data_table.ipynb>data table notebook</a>'\n",
              "            + ' to learn more about interactive tables.';\n",
              "          element.innerHTML = '';\n",
              "          dataTable['output_type'] = 'display_data';\n",
              "          await google.colab.output.renderOutput(dataTable, element);\n",
              "          const docLink = document.createElement('div');\n",
              "          docLink.innerHTML = docLinkHtml;\n",
              "          element.appendChild(docLink);\n",
              "        }\n",
              "      </script>\n",
              "    </div>\n",
              "  </div>\n",
              "  "
            ]
          },
          "metadata": {},
          "execution_count": 266
        }
      ],
      "source": [
        "data_and_nuisance_estimates_RFSH = pd.DataFrame({'g': g1_SH, 'Q0': Q0_RFSH, 'Q1': Q1_RFSH, 'A': treatment, 'Y': outcome})\n",
        "data_and_nuisance_estimates_RFSH.head()"
      ]
    },
    {
      "cell_type": "markdown",
      "metadata": {
        "id": "my5fFYv7vccZ"
      },
      "source": [
        "### Calculate the Natural Direct Effect using the ATU formula"
      ]
    },
    {
      "cell_type": "code",
      "execution_count": 267,
      "metadata": {
        "colab": {
          "base_uri": "https://localhost:8080/"
        },
        "outputId": "3467c016-41e1-4246-eb02-7d474d2efe4a",
        "id": "y26GBnjdvccZ"
      },
      "outputs": [
        {
          "output_type": "stream",
          "name": "stdout",
          "text": [
            "The estimate is -2.8177342486284784 pm 1.6017089017537474\n"
          ]
        }
      ],
      "source": [
        "tau_hat_RFSH, std_hat_RFSH = att_aiptw(**data_and_nuisance_estimates_RFSH)\n",
        "print(f\"The estimate is {tau_hat_RFSH} pm {1.96*std_hat_RFSH}\")"
      ]
    },
    {
      "cell_type": "markdown",
      "source": [
        "## Calculate Natural Direct Effect using Logistic Regression: Using StudyHours as the mediator"
      ],
      "metadata": {
        "id": "wusfve4QvccZ"
      }
    },
    {
      "cell_type": "markdown",
      "source": [
        "### Calculate Q0 and Q1 model using Logistic Regression"
      ],
      "metadata": {
        "id": "gpajpARxvccZ"
      }
    },
    {
      "cell_type": "code",
      "source": [
        "Q0_LRSH,Q1_LRSH = outcome_k_fold_fit_and_predict(make_Qmodel_linearRegression, X=confounders_with_mediatorStudyHours, y=outcome, A=treatment, n_splits=10, output_type=\"continuous\")"
      ],
      "metadata": {
        "id": "l53YzxSVvccZ"
      },
      "execution_count": 268,
      "outputs": []
    },
    {
      "cell_type": "markdown",
      "source": [
        "### Combine the dataset for g, Q0, Q1, A, and Y values"
      ],
      "metadata": {
        "id": "kopNcIoAvccZ"
      }
    },
    {
      "cell_type": "code",
      "source": [
        "data_and_nuisance_estimates_LRSH = pd.DataFrame({'g': g2_SH, 'Q0': Q0_LRSH, 'Q1': Q1_LRSH, 'A': treatment, 'Y': outcome})\n",
        "data_and_nuisance_estimates_LRSH.head()"
      ],
      "metadata": {
        "colab": {
          "base_uri": "https://localhost:8080/",
          "height": 206
        },
        "outputId": "567d6696-46b0-4386-c52f-26fc5e82df70",
        "id": "C-eq2ZCdvccZ"
      },
      "execution_count": 269,
      "outputs": [
        {
          "output_type": "execute_result",
          "data": {
            "text/plain": [
              "          g         Q0         Q1  A          Y\n",
              "0  0.525868  70.315434  68.639959  1  72.000000\n",
              "1  0.473183  76.339625  74.840309  1  73.333336\n",
              "2  0.560832  68.607522  67.039437  0  74.333336\n",
              "3  0.530280  74.441617  72.873532  1  71.333336\n",
              "4  0.473647  69.965239  68.415234  1  83.333336"
            ],
            "text/html": [
              "\n",
              "  <div id=\"df-bce3f2b2-23aa-4981-ad29-33087aa54aa7\">\n",
              "    <div class=\"colab-df-container\">\n",
              "      <div>\n",
              "<style scoped>\n",
              "    .dataframe tbody tr th:only-of-type {\n",
              "        vertical-align: middle;\n",
              "    }\n",
              "\n",
              "    .dataframe tbody tr th {\n",
              "        vertical-align: top;\n",
              "    }\n",
              "\n",
              "    .dataframe thead th {\n",
              "        text-align: right;\n",
              "    }\n",
              "</style>\n",
              "<table border=\"1\" class=\"dataframe\">\n",
              "  <thead>\n",
              "    <tr style=\"text-align: right;\">\n",
              "      <th></th>\n",
              "      <th>g</th>\n",
              "      <th>Q0</th>\n",
              "      <th>Q1</th>\n",
              "      <th>A</th>\n",
              "      <th>Y</th>\n",
              "    </tr>\n",
              "  </thead>\n",
              "  <tbody>\n",
              "    <tr>\n",
              "      <th>0</th>\n",
              "      <td>0.525868</td>\n",
              "      <td>70.315434</td>\n",
              "      <td>68.639959</td>\n",
              "      <td>1</td>\n",
              "      <td>72.000000</td>\n",
              "    </tr>\n",
              "    <tr>\n",
              "      <th>1</th>\n",
              "      <td>0.473183</td>\n",
              "      <td>76.339625</td>\n",
              "      <td>74.840309</td>\n",
              "      <td>1</td>\n",
              "      <td>73.333336</td>\n",
              "    </tr>\n",
              "    <tr>\n",
              "      <th>2</th>\n",
              "      <td>0.560832</td>\n",
              "      <td>68.607522</td>\n",
              "      <td>67.039437</td>\n",
              "      <td>0</td>\n",
              "      <td>74.333336</td>\n",
              "    </tr>\n",
              "    <tr>\n",
              "      <th>3</th>\n",
              "      <td>0.530280</td>\n",
              "      <td>74.441617</td>\n",
              "      <td>72.873532</td>\n",
              "      <td>1</td>\n",
              "      <td>71.333336</td>\n",
              "    </tr>\n",
              "    <tr>\n",
              "      <th>4</th>\n",
              "      <td>0.473647</td>\n",
              "      <td>69.965239</td>\n",
              "      <td>68.415234</td>\n",
              "      <td>1</td>\n",
              "      <td>83.333336</td>\n",
              "    </tr>\n",
              "  </tbody>\n",
              "</table>\n",
              "</div>\n",
              "      <button class=\"colab-df-convert\" onclick=\"convertToInteractive('df-bce3f2b2-23aa-4981-ad29-33087aa54aa7')\"\n",
              "              title=\"Convert this dataframe to an interactive table.\"\n",
              "              style=\"display:none;\">\n",
              "        \n",
              "  <svg xmlns=\"http://www.w3.org/2000/svg\" height=\"24px\"viewBox=\"0 0 24 24\"\n",
              "       width=\"24px\">\n",
              "    <path d=\"M0 0h24v24H0V0z\" fill=\"none\"/>\n",
              "    <path d=\"M18.56 5.44l.94 2.06.94-2.06 2.06-.94-2.06-.94-.94-2.06-.94 2.06-2.06.94zm-11 1L8.5 8.5l.94-2.06 2.06-.94-2.06-.94L8.5 2.5l-.94 2.06-2.06.94zm10 10l.94 2.06.94-2.06 2.06-.94-2.06-.94-.94-2.06-.94 2.06-2.06.94z\"/><path d=\"M17.41 7.96l-1.37-1.37c-.4-.4-.92-.59-1.43-.59-.52 0-1.04.2-1.43.59L10.3 9.45l-7.72 7.72c-.78.78-.78 2.05 0 2.83L4 21.41c.39.39.9.59 1.41.59.51 0 1.02-.2 1.41-.59l7.78-7.78 2.81-2.81c.8-.78.8-2.07 0-2.86zM5.41 20L4 18.59l7.72-7.72 1.47 1.35L5.41 20z\"/>\n",
              "  </svg>\n",
              "      </button>\n",
              "      \n",
              "  <style>\n",
              "    .colab-df-container {\n",
              "      display:flex;\n",
              "      flex-wrap:wrap;\n",
              "      gap: 12px;\n",
              "    }\n",
              "\n",
              "    .colab-df-convert {\n",
              "      background-color: #E8F0FE;\n",
              "      border: none;\n",
              "      border-radius: 50%;\n",
              "      cursor: pointer;\n",
              "      display: none;\n",
              "      fill: #1967D2;\n",
              "      height: 32px;\n",
              "      padding: 0 0 0 0;\n",
              "      width: 32px;\n",
              "    }\n",
              "\n",
              "    .colab-df-convert:hover {\n",
              "      background-color: #E2EBFA;\n",
              "      box-shadow: 0px 1px 2px rgba(60, 64, 67, 0.3), 0px 1px 3px 1px rgba(60, 64, 67, 0.15);\n",
              "      fill: #174EA6;\n",
              "    }\n",
              "\n",
              "    [theme=dark] .colab-df-convert {\n",
              "      background-color: #3B4455;\n",
              "      fill: #D2E3FC;\n",
              "    }\n",
              "\n",
              "    [theme=dark] .colab-df-convert:hover {\n",
              "      background-color: #434B5C;\n",
              "      box-shadow: 0px 1px 3px 1px rgba(0, 0, 0, 0.15);\n",
              "      filter: drop-shadow(0px 1px 2px rgba(0, 0, 0, 0.3));\n",
              "      fill: #FFFFFF;\n",
              "    }\n",
              "  </style>\n",
              "\n",
              "      <script>\n",
              "        const buttonEl =\n",
              "          document.querySelector('#df-bce3f2b2-23aa-4981-ad29-33087aa54aa7 button.colab-df-convert');\n",
              "        buttonEl.style.display =\n",
              "          google.colab.kernel.accessAllowed ? 'block' : 'none';\n",
              "\n",
              "        async function convertToInteractive(key) {\n",
              "          const element = document.querySelector('#df-bce3f2b2-23aa-4981-ad29-33087aa54aa7');\n",
              "          const dataTable =\n",
              "            await google.colab.kernel.invokeFunction('convertToInteractive',\n",
              "                                                     [key], {});\n",
              "          if (!dataTable) return;\n",
              "\n",
              "          const docLinkHtml = 'Like what you see? Visit the ' +\n",
              "            '<a target=\"_blank\" href=https://colab.research.google.com/notebooks/data_table.ipynb>data table notebook</a>'\n",
              "            + ' to learn more about interactive tables.';\n",
              "          element.innerHTML = '';\n",
              "          dataTable['output_type'] = 'display_data';\n",
              "          await google.colab.output.renderOutput(dataTable, element);\n",
              "          const docLink = document.createElement('div');\n",
              "          docLink.innerHTML = docLinkHtml;\n",
              "          element.appendChild(docLink);\n",
              "        }\n",
              "      </script>\n",
              "    </div>\n",
              "  </div>\n",
              "  "
            ]
          },
          "metadata": {},
          "execution_count": 269
        }
      ]
    },
    {
      "cell_type": "markdown",
      "source": [
        "### Calculate the Natural Direct Effect using the ATU formula"
      ],
      "metadata": {
        "id": "HjHBw0CbvccZ"
      }
    },
    {
      "cell_type": "code",
      "source": [
        "tau_hat_LRSH, std_hat_LRSH = att_aiptw(**data_and_nuisance_estimates_LRSH)\n",
        "print(f\"The estimate is {tau_hat_LRSH} pm {1.96*std_hat_LRSH}\")"
      ],
      "metadata": {
        "colab": {
          "base_uri": "https://localhost:8080/"
        },
        "outputId": "cd1f81e9-8839-47c0-9a2e-25196ff06ec9",
        "id": "6oxU2fRdvccZ"
      },
      "execution_count": 270,
      "outputs": [
        {
          "output_type": "stream",
          "name": "stdout",
          "text": [
            "The estimate is -1.914094805840982 pm 1.444730949361527\n"
          ]
        }
      ]
    },
    {
      "cell_type": "markdown",
      "source": [
        "## Calculate the Natural Direct Effect using XGBoost model: Using StudyHours as the Mediator"
      ],
      "metadata": {
        "id": "khunWu9-vcca"
      }
    },
    {
      "cell_type": "markdown",
      "source": [
        "### Calculate Q0 and Q1 model using XGBoost"
      ],
      "metadata": {
        "id": "MiyobKXivcca"
      }
    },
    {
      "cell_type": "code",
      "source": [
        "Q0_XGSH,Q1_XGSH = outcome_k_fold_fit_and_predict(make_Qmodel_XGBoost, X=confounders_with_mediatorStudyHours, y=outcome, A=treatment, n_splits=10, output_type=\"continuous\")"
      ],
      "metadata": {
        "id": "TLYnmWPdvcca"
      },
      "execution_count": 271,
      "outputs": []
    },
    {
      "cell_type": "markdown",
      "source": [
        "### Combine the dataset for g, Q0, Q1, A, and Y values"
      ],
      "metadata": {
        "id": "ztWQif2Tvcca"
      }
    },
    {
      "cell_type": "code",
      "source": [
        "data_and_nuisance_estimates_XGSH = pd.DataFrame({'g': g3_SH, 'Q0': Q0_XGSH, 'Q1': Q1_XGSH, 'A': treatment, 'Y': outcome})\n",
        "data_and_nuisance_estimates_XGSH.head()"
      ],
      "metadata": {
        "colab": {
          "base_uri": "https://localhost:8080/",
          "height": 206
        },
        "outputId": "5b4a3a92-3a72-4644-b325-2426bb5958e9",
        "id": "SA3MUED-vcca"
      },
      "execution_count": 272,
      "outputs": [
        {
          "output_type": "execute_result",
          "data": {
            "text/plain": [
              "          g         Q0         Q1  A          Y\n",
              "0  0.580585  68.507469  68.826118  1  72.000000\n",
              "1  0.624667  78.293465  76.943542  1  73.333336\n",
              "2  0.534319  70.267799  68.350487  0  74.333336\n",
              "3  0.366676  74.405685  74.130737  1  71.333336\n",
              "4  0.637333  68.285057  66.461838  1  83.333336"
            ],
            "text/html": [
              "\n",
              "  <div id=\"df-45ba2705-ebbe-4d19-be09-36de3fa92133\">\n",
              "    <div class=\"colab-df-container\">\n",
              "      <div>\n",
              "<style scoped>\n",
              "    .dataframe tbody tr th:only-of-type {\n",
              "        vertical-align: middle;\n",
              "    }\n",
              "\n",
              "    .dataframe tbody tr th {\n",
              "        vertical-align: top;\n",
              "    }\n",
              "\n",
              "    .dataframe thead th {\n",
              "        text-align: right;\n",
              "    }\n",
              "</style>\n",
              "<table border=\"1\" class=\"dataframe\">\n",
              "  <thead>\n",
              "    <tr style=\"text-align: right;\">\n",
              "      <th></th>\n",
              "      <th>g</th>\n",
              "      <th>Q0</th>\n",
              "      <th>Q1</th>\n",
              "      <th>A</th>\n",
              "      <th>Y</th>\n",
              "    </tr>\n",
              "  </thead>\n",
              "  <tbody>\n",
              "    <tr>\n",
              "      <th>0</th>\n",
              "      <td>0.580585</td>\n",
              "      <td>68.507469</td>\n",
              "      <td>68.826118</td>\n",
              "      <td>1</td>\n",
              "      <td>72.000000</td>\n",
              "    </tr>\n",
              "    <tr>\n",
              "      <th>1</th>\n",
              "      <td>0.624667</td>\n",
              "      <td>78.293465</td>\n",
              "      <td>76.943542</td>\n",
              "      <td>1</td>\n",
              "      <td>73.333336</td>\n",
              "    </tr>\n",
              "    <tr>\n",
              "      <th>2</th>\n",
              "      <td>0.534319</td>\n",
              "      <td>70.267799</td>\n",
              "      <td>68.350487</td>\n",
              "      <td>0</td>\n",
              "      <td>74.333336</td>\n",
              "    </tr>\n",
              "    <tr>\n",
              "      <th>3</th>\n",
              "      <td>0.366676</td>\n",
              "      <td>74.405685</td>\n",
              "      <td>74.130737</td>\n",
              "      <td>1</td>\n",
              "      <td>71.333336</td>\n",
              "    </tr>\n",
              "    <tr>\n",
              "      <th>4</th>\n",
              "      <td>0.637333</td>\n",
              "      <td>68.285057</td>\n",
              "      <td>66.461838</td>\n",
              "      <td>1</td>\n",
              "      <td>83.333336</td>\n",
              "    </tr>\n",
              "  </tbody>\n",
              "</table>\n",
              "</div>\n",
              "      <button class=\"colab-df-convert\" onclick=\"convertToInteractive('df-45ba2705-ebbe-4d19-be09-36de3fa92133')\"\n",
              "              title=\"Convert this dataframe to an interactive table.\"\n",
              "              style=\"display:none;\">\n",
              "        \n",
              "  <svg xmlns=\"http://www.w3.org/2000/svg\" height=\"24px\"viewBox=\"0 0 24 24\"\n",
              "       width=\"24px\">\n",
              "    <path d=\"M0 0h24v24H0V0z\" fill=\"none\"/>\n",
              "    <path d=\"M18.56 5.44l.94 2.06.94-2.06 2.06-.94-2.06-.94-.94-2.06-.94 2.06-2.06.94zm-11 1L8.5 8.5l.94-2.06 2.06-.94-2.06-.94L8.5 2.5l-.94 2.06-2.06.94zm10 10l.94 2.06.94-2.06 2.06-.94-2.06-.94-.94-2.06-.94 2.06-2.06.94z\"/><path d=\"M17.41 7.96l-1.37-1.37c-.4-.4-.92-.59-1.43-.59-.52 0-1.04.2-1.43.59L10.3 9.45l-7.72 7.72c-.78.78-.78 2.05 0 2.83L4 21.41c.39.39.9.59 1.41.59.51 0 1.02-.2 1.41-.59l7.78-7.78 2.81-2.81c.8-.78.8-2.07 0-2.86zM5.41 20L4 18.59l7.72-7.72 1.47 1.35L5.41 20z\"/>\n",
              "  </svg>\n",
              "      </button>\n",
              "      \n",
              "  <style>\n",
              "    .colab-df-container {\n",
              "      display:flex;\n",
              "      flex-wrap:wrap;\n",
              "      gap: 12px;\n",
              "    }\n",
              "\n",
              "    .colab-df-convert {\n",
              "      background-color: #E8F0FE;\n",
              "      border: none;\n",
              "      border-radius: 50%;\n",
              "      cursor: pointer;\n",
              "      display: none;\n",
              "      fill: #1967D2;\n",
              "      height: 32px;\n",
              "      padding: 0 0 0 0;\n",
              "      width: 32px;\n",
              "    }\n",
              "\n",
              "    .colab-df-convert:hover {\n",
              "      background-color: #E2EBFA;\n",
              "      box-shadow: 0px 1px 2px rgba(60, 64, 67, 0.3), 0px 1px 3px 1px rgba(60, 64, 67, 0.15);\n",
              "      fill: #174EA6;\n",
              "    }\n",
              "\n",
              "    [theme=dark] .colab-df-convert {\n",
              "      background-color: #3B4455;\n",
              "      fill: #D2E3FC;\n",
              "    }\n",
              "\n",
              "    [theme=dark] .colab-df-convert:hover {\n",
              "      background-color: #434B5C;\n",
              "      box-shadow: 0px 1px 3px 1px rgba(0, 0, 0, 0.15);\n",
              "      filter: drop-shadow(0px 1px 2px rgba(0, 0, 0, 0.3));\n",
              "      fill: #FFFFFF;\n",
              "    }\n",
              "  </style>\n",
              "\n",
              "      <script>\n",
              "        const buttonEl =\n",
              "          document.querySelector('#df-45ba2705-ebbe-4d19-be09-36de3fa92133 button.colab-df-convert');\n",
              "        buttonEl.style.display =\n",
              "          google.colab.kernel.accessAllowed ? 'block' : 'none';\n",
              "\n",
              "        async function convertToInteractive(key) {\n",
              "          const element = document.querySelector('#df-45ba2705-ebbe-4d19-be09-36de3fa92133');\n",
              "          const dataTable =\n",
              "            await google.colab.kernel.invokeFunction('convertToInteractive',\n",
              "                                                     [key], {});\n",
              "          if (!dataTable) return;\n",
              "\n",
              "          const docLinkHtml = 'Like what you see? Visit the ' +\n",
              "            '<a target=\"_blank\" href=https://colab.research.google.com/notebooks/data_table.ipynb>data table notebook</a>'\n",
              "            + ' to learn more about interactive tables.';\n",
              "          element.innerHTML = '';\n",
              "          dataTable['output_type'] = 'display_data';\n",
              "          await google.colab.output.renderOutput(dataTable, element);\n",
              "          const docLink = document.createElement('div');\n",
              "          docLink.innerHTML = docLinkHtml;\n",
              "          element.appendChild(docLink);\n",
              "        }\n",
              "      </script>\n",
              "    </div>\n",
              "  </div>\n",
              "  "
            ]
          },
          "metadata": {},
          "execution_count": 272
        }
      ]
    },
    {
      "cell_type": "markdown",
      "source": [
        "### Calculate the Natural Direct Effect using the ATU formula"
      ],
      "metadata": {
        "id": "xXIpsBenvcca"
      }
    },
    {
      "cell_type": "code",
      "source": [
        "tau_hat_XGSH, std_hat_XGSH = att_aiptw(**data_and_nuisance_estimates_XGSH)\n",
        "print(f\"The estimate is {tau_hat_XGSH} pm {1.96*std_hat_XGSH}\")"
      ],
      "metadata": {
        "colab": {
          "base_uri": "https://localhost:8080/"
        },
        "outputId": "e67016b0-ac17-4e61-8bb4-2233e776322a",
        "id": "FEy11J07vcca"
      },
      "execution_count": 273,
      "outputs": [
        {
          "output_type": "stream",
          "name": "stdout",
          "text": [
            "The estimate is -3.635099927225156 pm 1.9599299631059943\n"
          ]
        }
      ]
    },
    {
      "cell_type": "markdown",
      "source": [
        "# Natural Direct Effect with Study Habits as the mediator"
      ],
      "metadata": {
        "id": "bNrqufm3ztjM"
      }
    },
    {
      "cell_type": "markdown",
      "source": [
        "## Check Overlap Conditions 0<Pr(A =1 |𝐗 = x, M2 = m2) < 1 using the three models"
      ],
      "metadata": {
        "id": "BHGKPeJ7z3r_"
      }
    },
    {
      "cell_type": "code",
      "source": [
        "#check the overlap conditions using randomForest\n",
        "#get the propensity score function\n",
        "g1_SB = treatment_k_fold_fit_and_predict(make_gmodel_randomForest, X=confounders_with_mediatorStudyHabits, \n",
        "                                      A=treatment, n_splits=10)\n",
        "hist(g1_SB, density=True)"
      ],
      "metadata": {
        "colab": {
          "base_uri": "https://localhost:8080/",
          "height": 376
        },
        "id": "AKHGJ8ufzu-F",
        "outputId": "800bc1f3-fcdd-487f-85a1-437a0776b2a4"
      },
      "execution_count": 274,
      "outputs": [
        {
          "output_type": "execute_result",
          "data": {
            "text/plain": [
              "(array([0.09494207, 0.41537156, 0.92568519, 2.05312227, 3.15682384,\n",
              "        3.33484023, 1.76829606, 0.49844587, 0.18988414, 0.05933879]),\n",
              " array([0.10065846, 0.18067927, 0.26070007, 0.34072088, 0.42074168,\n",
              "        0.50076249, 0.58078329, 0.6608041 , 0.7408249 , 0.82084571,\n",
              "        0.90086651]),\n",
              " <a list of 10 Patch objects>)"
            ]
          },
          "metadata": {},
          "execution_count": 274
        },
        {
          "output_type": "display_data",
          "data": {
            "text/plain": [
              "<Figure size 432x288 with 1 Axes>"
            ],
            "image/png": "[encoded data removed]"
          },
          "metadata": {
            "needs_background": "light"
          }
        }
      ]
    },
    {
      "cell_type": "code",
      "source": [
        "g2_SB = treatment_k_fold_fit_and_predict(make_gmodel_logisticRegression, X=confounders_with_mediatorStudyHabits, \n",
        "                                      A=treatment, n_splits=10)\n",
        "hist(g2_SB, density=True)"
      ],
      "metadata": {
        "colab": {
          "base_uri": "https://localhost:8080/",
          "height": 372
        },
        "id": "EkVIsseLzvEq",
        "outputId": "dfea19bf-1480-4fb9-9ba9-7ab6a21f836c"
      },
      "execution_count": 275,
      "outputs": [
        {
          "output_type": "execute_result",
          "data": {
            "text/plain": [
              "(array([0.05038429, 0.25192144, 1.53672078, 3.52690016, 5.86976955,\n",
              "        6.52476529, 5.06362094, 2.54440654, 0.88172504, 0.27711358]),\n",
              " array([0.28775544, 0.32545241, 0.36314939, 0.40084636, 0.43854334,\n",
              "        0.47624031, 0.51393729, 0.55163426, 0.58933124, 0.62702821,\n",
              "        0.66472519]),\n",
              " <a list of 10 Patch objects>)"
            ]
          },
          "metadata": {},
          "execution_count": 275
        },
        {
          "output_type": "display_data",
          "data": {
            "text/plain": [
              "<Figure size 432x288 with 1 Axes>"
            ],
            "image/png": "[encoded data removed]"
          },
          "metadata": {
            "needs_background": "light"
          }
        }
      ]
    },
    {
      "cell_type": "code",
      "source": [
        "g3_SB = treatment_k_fold_fit_and_predict(make_gmodel_XGBClassifier, X=confounders_with_mediatorStudyHabits, \n",
        "                                      A=treatment, n_splits=10)\n",
        "hist(g3_SB, density=True)"
      ],
      "metadata": {
        "colab": {
          "base_uri": "https://localhost:8080/",
          "height": 372
        },
        "id": "OP0YN2ghzvsa",
        "outputId": "5a1cab3b-d4ce-40cf-86db-89442b383c71"
      },
      "execution_count": 276,
      "outputs": [
        {
          "output_type": "execute_result",
          "data": {
            "text/plain": [
              "(array([0.13876719, 0.37004583, 1.00606211, 1.38767188, 3.33041251,\n",
              "        3.48074363, 1.46861941, 0.60132448, 0.26597044, 0.12720326]),\n",
              " array([0.08441605, 0.16653929, 0.24866253, 0.33078577, 0.41290902,\n",
              "        0.49503226, 0.5771555 , 0.65927874, 0.74140199, 0.82352523,\n",
              "        0.90564847]),\n",
              " <a list of 10 Patch objects>)"
            ]
          },
          "metadata": {},
          "execution_count": 276
        },
        {
          "output_type": "display_data",
          "data": {
            "text/plain": [
              "<Figure size 432x288 with 1 Axes>"
            ],
            "image/png": "[encoded data removed]"
          },
          "metadata": {
            "needs_background": "light"
          }
        }
      ]
    },
    {
      "cell_type": "markdown",
      "source": [
        "## Calculate Natural Direct Effect using RandomForest: Using Study Habits as the mediator"
      ],
      "metadata": {
        "id": "9nLcNeCvz_81"
      }
    },
    {
      "cell_type": "markdown",
      "source": [
        "### Calculate Q0 and Q1 model using RandomForest"
      ],
      "metadata": {
        "id": "GsaTtDxg1Ws8"
      }
    },
    {
      "cell_type": "code",
      "source": [
        "Q0_RFSB,Q1_RFSB = outcome_k_fold_fit_and_predict(make_Qmodel_randomForest, \n",
        "                                             X=confounders_with_mediatorStudyHabits, y=outcome, \n",
        "                                             A=treatment, n_splits=10, output_type=\"continuous\")"
      ],
      "metadata": {
        "id": "5IQjKO6m0AHN"
      },
      "execution_count": 277,
      "outputs": []
    },
    {
      "cell_type": "markdown",
      "source": [
        "### Combine the Dataset for g, Q0, Q1, A, and Y values"
      ],
      "metadata": {
        "id": "dyqay97i1Kb1"
      }
    },
    {
      "cell_type": "code",
      "source": [
        "data_and_nuisance_estimates_RFSB = pd.DataFrame({'g': g1_SB, 'Q0': Q0_RFSB, 'Q1': Q1_RFSB, 'A': treatment, 'Y': outcome})\n",
        "data_and_nuisance_estimates_RFSB.head()"
      ],
      "metadata": {
        "colab": {
          "base_uri": "https://localhost:8080/",
          "height": 206
        },
        "id": "xS4UGQTp0AQi",
        "outputId": "4f9411b0-86ac-4e54-ed8b-c7433ccca8cf"
      },
      "execution_count": 278,
      "outputs": [
        {
          "output_type": "execute_result",
          "data": {
            "text/plain": [
              "          g         Q0         Q1  A          Y\n",
              "0  0.488472  70.765001  70.535632  1  72.000000\n",
              "1  0.658798  72.410197  72.343234  1  73.333336\n",
              "2  0.606054  69.721709  68.130114  0  74.333336\n",
              "3  0.324351  71.991170  71.980713  1  71.333336\n",
              "4  0.496108  70.308339  69.858094  1  83.333336"
            ],
            "text/html": [
              "\n",
              "  <div id=\"df-2f9bde51-e443-4920-a375-a71548a224da\">\n",
              "    <div class=\"colab-df-container\">\n",
              "      <div>\n",
              "<style scoped>\n",
              "    .dataframe tbody tr th:only-of-type {\n",
              "        vertical-align: middle;\n",
              "    }\n",
              "\n",
              "    .dataframe tbody tr th {\n",
              "        vertical-align: top;\n",
              "    }\n",
              "\n",
              "    .dataframe thead th {\n",
              "        text-align: right;\n",
              "    }\n",
              "</style>\n",
              "<table border=\"1\" class=\"dataframe\">\n",
              "  <thead>\n",
              "    <tr style=\"text-align: right;\">\n",
              "      <th></th>\n",
              "      <th>g</th>\n",
              "      <th>Q0</th>\n",
              "      <th>Q1</th>\n",
              "      <th>A</th>\n",
              "      <th>Y</th>\n",
              "    </tr>\n",
              "  </thead>\n",
              "  <tbody>\n",
              "    <tr>\n",
              "      <th>0</th>\n",
              "      <td>0.488472</td>\n",
              "      <td>70.765001</td>\n",
              "      <td>70.535632</td>\n",
              "      <td>1</td>\n",
              "      <td>72.000000</td>\n",
              "    </tr>\n",
              "    <tr>\n",
              "      <th>1</th>\n",
              "      <td>0.658798</td>\n",
              "      <td>72.410197</td>\n",
              "      <td>72.343234</td>\n",
              "      <td>1</td>\n",
              "      <td>73.333336</td>\n",
              "    </tr>\n",
              "    <tr>\n",
              "      <th>2</th>\n",
              "      <td>0.606054</td>\n",
              "      <td>69.721709</td>\n",
              "      <td>68.130114</td>\n",
              "      <td>0</td>\n",
              "      <td>74.333336</td>\n",
              "    </tr>\n",
              "    <tr>\n",
              "      <th>3</th>\n",
              "      <td>0.324351</td>\n",
              "      <td>71.991170</td>\n",
              "      <td>71.980713</td>\n",
              "      <td>1</td>\n",
              "      <td>71.333336</td>\n",
              "    </tr>\n",
              "    <tr>\n",
              "      <th>4</th>\n",
              "      <td>0.496108</td>\n",
              "      <td>70.308339</td>\n",
              "      <td>69.858094</td>\n",
              "      <td>1</td>\n",
              "      <td>83.333336</td>\n",
              "    </tr>\n",
              "  </tbody>\n",
              "</table>\n",
              "</div>\n",
              "      <button class=\"colab-df-convert\" onclick=\"convertToInteractive('df-2f9bde51-e443-4920-a375-a71548a224da')\"\n",
              "              title=\"Convert this dataframe to an interactive table.\"\n",
              "              style=\"display:none;\">\n",
              "        \n",
              "  <svg xmlns=\"http://www.w3.org/2000/svg\" height=\"24px\"viewBox=\"0 0 24 24\"\n",
              "       width=\"24px\">\n",
              "    <path d=\"M0 0h24v24H0V0z\" fill=\"none\"/>\n",
              "    <path d=\"M18.56 5.44l.94 2.06.94-2.06 2.06-.94-2.06-.94-.94-2.06-.94 2.06-2.06.94zm-11 1L8.5 8.5l.94-2.06 2.06-.94-2.06-.94L8.5 2.5l-.94 2.06-2.06.94zm10 10l.94 2.06.94-2.06 2.06-.94-2.06-.94-.94-2.06-.94 2.06-2.06.94z\"/><path d=\"M17.41 7.96l-1.37-1.37c-.4-.4-.92-.59-1.43-.59-.52 0-1.04.2-1.43.59L10.3 9.45l-7.72 7.72c-.78.78-.78 2.05 0 2.83L4 21.41c.39.39.9.59 1.41.59.51 0 1.02-.2 1.41-.59l7.78-7.78 2.81-2.81c.8-.78.8-2.07 0-2.86zM5.41 20L4 18.59l7.72-7.72 1.47 1.35L5.41 20z\"/>\n",
              "  </svg>\n",
              "      </button>\n",
              "      \n",
              "  <style>\n",
              "    .colab-df-container {\n",
              "      display:flex;\n",
              "      flex-wrap:wrap;\n",
              "      gap: 12px;\n",
              "    }\n",
              "\n",
              "    .colab-df-convert {\n",
              "      background-color: #E8F0FE;\n",
              "      border: none;\n",
              "      border-radius: 50%;\n",
              "      cursor: pointer;\n",
              "      display: none;\n",
              "      fill: #1967D2;\n",
              "      height: 32px;\n",
              "      padding: 0 0 0 0;\n",
              "      width: 32px;\n",
              "    }\n",
              "\n",
              "    .colab-df-convert:hover {\n",
              "      background-color: #E2EBFA;\n",
              "      box-shadow: 0px 1px 2px rgba(60, 64, 67, 0.3), 0px 1px 3px 1px rgba(60, 64, 67, 0.15);\n",
              "      fill: #174EA6;\n",
              "    }\n",
              "\n",
              "    [theme=dark] .colab-df-convert {\n",
              "      background-color: #3B4455;\n",
              "      fill: #D2E3FC;\n",
              "    }\n",
              "\n",
              "    [theme=dark] .colab-df-convert:hover {\n",
              "      background-color: #434B5C;\n",
              "      box-shadow: 0px 1px 3px 1px rgba(0, 0, 0, 0.15);\n",
              "      filter: drop-shadow(0px 1px 2px rgba(0, 0, 0, 0.3));\n",
              "      fill: #FFFFFF;\n",
              "    }\n",
              "  </style>\n",
              "\n",
              "      <script>\n",
              "        const buttonEl =\n",
              "          document.querySelector('#df-2f9bde51-e443-4920-a375-a71548a224da button.colab-df-convert');\n",
              "        buttonEl.style.display =\n",
              "          google.colab.kernel.accessAllowed ? 'block' : 'none';\n",
              "\n",
              "        async function convertToInteractive(key) {\n",
              "          const element = document.querySelector('#df-2f9bde51-e443-4920-a375-a71548a224da');\n",
              "          const dataTable =\n",
              "            await google.colab.kernel.invokeFunction('convertToInteractive',\n",
              "                                                     [key], {});\n",
              "          if (!dataTable) return;\n",
              "\n",
              "          const docLinkHtml = 'Like what you see? Visit the ' +\n",
              "            '<a target=\"_blank\" href=https://colab.research.google.com/notebooks/data_table.ipynb>data table notebook</a>'\n",
              "            + ' to learn more about interactive tables.';\n",
              "          element.innerHTML = '';\n",
              "          dataTable['output_type'] = 'display_data';\n",
              "          await google.colab.output.renderOutput(dataTable, element);\n",
              "          const docLink = document.createElement('div');\n",
              "          docLink.innerHTML = docLinkHtml;\n",
              "          element.appendChild(docLink);\n",
              "        }\n",
              "      </script>\n",
              "    </div>\n",
              "  </div>\n",
              "  "
            ]
          },
          "metadata": {},
          "execution_count": 278
        }
      ]
    },
    {
      "cell_type": "markdown",
      "source": [
        "### Calculate the Natural Direct Effect using the ATU formula"
      ],
      "metadata": {
        "id": "rkaOAkob1cCS"
      }
    },
    {
      "cell_type": "code",
      "source": [
        "tau_hat_RFSB, std_hat_RFSB = att_aiptw(**data_and_nuisance_estimates_RFSB)\n",
        "print(f\"The estimate using RandomForest is {tau_hat_RFSB} pm {1.96*std_hat_RFSB}\")"
      ],
      "metadata": {
        "colab": {
          "base_uri": "https://localhost:8080/"
        },
        "id": "eRNjwenD0AY0",
        "outputId": "853df93c-578a-4cb8-e35e-764b876ca7f1"
      },
      "execution_count": 279,
      "outputs": [
        {
          "output_type": "stream",
          "name": "stdout",
          "text": [
            "The estimate using RandomForest is -3.0351251649840845 pm 1.680529369963642\n"
          ]
        }
      ]
    },
    {
      "cell_type": "markdown",
      "source": [
        "## Calculate Natural Direct Effect using LogisticRegression: Using Study Habits as the mediator"
      ],
      "metadata": {
        "id": "9_qcNP9r0Miw"
      }
    },
    {
      "cell_type": "markdown",
      "source": [
        "### Calculate Q0 and Q1 model using Logistic Regression"
      ],
      "metadata": {
        "id": "V08Cvsep1SGJ"
      }
    },
    {
      "cell_type": "code",
      "source": [
        "Q0_LRSB,Q1_LRSB = outcome_k_fold_fit_and_predict(make_Qmodel_linearRegression, \n",
        "                                             X=confounders_with_mediatorStudyHabits, y=outcome, \n",
        "                                             A=treatment, n_splits=10, output_type=\"continuous\")"
      ],
      "metadata": {
        "id": "-PygHOPH0SXZ"
      },
      "execution_count": 280,
      "outputs": []
    },
    {
      "cell_type": "markdown",
      "source": [
        "### Combine the Dataset for g, Q0, Q1, A, and Y values"
      ],
      "metadata": {
        "id": "qA08ShfE1Ifv"
      }
    },
    {
      "cell_type": "code",
      "source": [
        "data_and_nuisance_estimates_LRSB = pd.DataFrame({'g': g2_SB, 'Q0': Q0_LRSB, 'Q1': Q1_LRSB, 'A': treatment, 'Y': outcome})\n",
        "data_and_nuisance_estimates_LRSB.head()"
      ],
      "metadata": {
        "colab": {
          "base_uri": "https://localhost:8080/",
          "height": 206
        },
        "id": "3wZhc3fK0SeG",
        "outputId": "86e4f17b-3bb9-49e8-aa71-df2451eef5ad"
      },
      "execution_count": 281,
      "outputs": [
        {
          "output_type": "execute_result",
          "data": {
            "text/plain": [
              "          g         Q0         Q1  A          Y\n",
              "0  0.463108  71.538551  69.554563  1  72.000000\n",
              "1  0.508376  75.090274  73.465713  1  73.333336\n",
              "2  0.512660  69.099584  67.239725  0  74.333336\n",
              "3  0.560634  73.301923  71.442063  1  71.333336\n",
              "4  0.429524  70.801041  69.012197  1  83.333336"
            ],
            "text/html": [
              "\n",
              "  <div id=\"df-6472d852-da31-48d2-9c37-2bf0aca57f6f\">\n",
              "    <div class=\"colab-df-container\">\n",
              "      <div>\n",
              "<style scoped>\n",
              "    .dataframe tbody tr th:only-of-type {\n",
              "        vertical-align: middle;\n",
              "    }\n",
              "\n",
              "    .dataframe tbody tr th {\n",
              "        vertical-align: top;\n",
              "    }\n",
              "\n",
              "    .dataframe thead th {\n",
              "        text-align: right;\n",
              "    }\n",
              "</style>\n",
              "<table border=\"1\" class=\"dataframe\">\n",
              "  <thead>\n",
              "    <tr style=\"text-align: right;\">\n",
              "      <th></th>\n",
              "      <th>g</th>\n",
              "      <th>Q0</th>\n",
              "      <th>Q1</th>\n",
              "      <th>A</th>\n",
              "      <th>Y</th>\n",
              "    </tr>\n",
              "  </thead>\n",
              "  <tbody>\n",
              "    <tr>\n",
              "      <th>0</th>\n",
              "      <td>0.463108</td>\n",
              "      <td>71.538551</td>\n",
              "      <td>69.554563</td>\n",
              "      <td>1</td>\n",
              "      <td>72.000000</td>\n",
              "    </tr>\n",
              "    <tr>\n",
              "      <th>1</th>\n",
              "      <td>0.508376</td>\n",
              "      <td>75.090274</td>\n",
              "      <td>73.465713</td>\n",
              "      <td>1</td>\n",
              "      <td>73.333336</td>\n",
              "    </tr>\n",
              "    <tr>\n",
              "      <th>2</th>\n",
              "      <td>0.512660</td>\n",
              "      <td>69.099584</td>\n",
              "      <td>67.239725</td>\n",
              "      <td>0</td>\n",
              "      <td>74.333336</td>\n",
              "    </tr>\n",
              "    <tr>\n",
              "      <th>3</th>\n",
              "      <td>0.560634</td>\n",
              "      <td>73.301923</td>\n",
              "      <td>71.442063</td>\n",
              "      <td>1</td>\n",
              "      <td>71.333336</td>\n",
              "    </tr>\n",
              "    <tr>\n",
              "      <th>4</th>\n",
              "      <td>0.429524</td>\n",
              "      <td>70.801041</td>\n",
              "      <td>69.012197</td>\n",
              "      <td>1</td>\n",
              "      <td>83.333336</td>\n",
              "    </tr>\n",
              "  </tbody>\n",
              "</table>\n",
              "</div>\n",
              "      <button class=\"colab-df-convert\" onclick=\"convertToInteractive('df-6472d852-da31-48d2-9c37-2bf0aca57f6f')\"\n",
              "              title=\"Convert this dataframe to an interactive table.\"\n",
              "              style=\"display:none;\">\n",
              "        \n",
              "  <svg xmlns=\"http://www.w3.org/2000/svg\" height=\"24px\"viewBox=\"0 0 24 24\"\n",
              "       width=\"24px\">\n",
              "    <path d=\"M0 0h24v24H0V0z\" fill=\"none\"/>\n",
              "    <path d=\"M18.56 5.44l.94 2.06.94-2.06 2.06-.94-2.06-.94-.94-2.06-.94 2.06-2.06.94zm-11 1L8.5 8.5l.94-2.06 2.06-.94-2.06-.94L8.5 2.5l-.94 2.06-2.06.94zm10 10l.94 2.06.94-2.06 2.06-.94-2.06-.94-.94-2.06-.94 2.06-2.06.94z\"/><path d=\"M17.41 7.96l-1.37-1.37c-.4-.4-.92-.59-1.43-.59-.52 0-1.04.2-1.43.59L10.3 9.45l-7.72 7.72c-.78.78-.78 2.05 0 2.83L4 21.41c.39.39.9.59 1.41.59.51 0 1.02-.2 1.41-.59l7.78-7.78 2.81-2.81c.8-.78.8-2.07 0-2.86zM5.41 20L4 18.59l7.72-7.72 1.47 1.35L5.41 20z\"/>\n",
              "  </svg>\n",
              "      </button>\n",
              "      \n",
              "  <style>\n",
              "    .colab-df-container {\n",
              "      display:flex;\n",
              "      flex-wrap:wrap;\n",
              "      gap: 12px;\n",
              "    }\n",
              "\n",
              "    .colab-df-convert {\n",
              "      background-color: #E8F0FE;\n",
              "      border: none;\n",
              "      border-radius: 50%;\n",
              "      cursor: pointer;\n",
              "      display: none;\n",
              "      fill: #1967D2;\n",
              "      height: 32px;\n",
              "      padding: 0 0 0 0;\n",
              "      width: 32px;\n",
              "    }\n",
              "\n",
              "    .colab-df-convert:hover {\n",
              "      background-color: #E2EBFA;\n",
              "      box-shadow: 0px 1px 2px rgba(60, 64, 67, 0.3), 0px 1px 3px 1px rgba(60, 64, 67, 0.15);\n",
              "      fill: #174EA6;\n",
              "    }\n",
              "\n",
              "    [theme=dark] .colab-df-convert {\n",
              "      background-color: #3B4455;\n",
              "      fill: #D2E3FC;\n",
              "    }\n",
              "\n",
              "    [theme=dark] .colab-df-convert:hover {\n",
              "      background-color: #434B5C;\n",
              "      box-shadow: 0px 1px 3px 1px rgba(0, 0, 0, 0.15);\n",
              "      filter: drop-shadow(0px 1px 2px rgba(0, 0, 0, 0.3));\n",
              "      fill: #FFFFFF;\n",
              "    }\n",
              "  </style>\n",
              "\n",
              "      <script>\n",
              "        const buttonEl =\n",
              "          document.querySelector('#df-6472d852-da31-48d2-9c37-2bf0aca57f6f button.colab-df-convert');\n",
              "        buttonEl.style.display =\n",
              "          google.colab.kernel.accessAllowed ? 'block' : 'none';\n",
              "\n",
              "        async function convertToInteractive(key) {\n",
              "          const element = document.querySelector('#df-6472d852-da31-48d2-9c37-2bf0aca57f6f');\n",
              "          const dataTable =\n",
              "            await google.colab.kernel.invokeFunction('convertToInteractive',\n",
              "                                                     [key], {});\n",
              "          if (!dataTable) return;\n",
              "\n",
              "          const docLinkHtml = 'Like what you see? Visit the ' +\n",
              "            '<a target=\"_blank\" href=https://colab.research.google.com/notebooks/data_table.ipynb>data table notebook</a>'\n",
              "            + ' to learn more about interactive tables.';\n",
              "          element.innerHTML = '';\n",
              "          dataTable['output_type'] = 'display_data';\n",
              "          await google.colab.output.renderOutput(dataTable, element);\n",
              "          const docLink = document.createElement('div');\n",
              "          docLink.innerHTML = docLinkHtml;\n",
              "          element.appendChild(docLink);\n",
              "        }\n",
              "      </script>\n",
              "    </div>\n",
              "  </div>\n",
              "  "
            ]
          },
          "metadata": {},
          "execution_count": 281
        }
      ]
    },
    {
      "cell_type": "markdown",
      "source": [
        "### Calculate the Natural Direct Effect using the ATU formula"
      ],
      "metadata": {
        "id": "W0g50BEq1dnq"
      }
    },
    {
      "cell_type": "code",
      "source": [
        "tau_hat_LRSB, std_hat_LRSB = att_aiptw(**data_and_nuisance_estimates_LRSB)\n",
        "print(f\"The estimate using LogisticRegression is {tau_hat_LRSB} pm {1.96*std_hat_LRSB}\")"
      ],
      "metadata": {
        "colab": {
          "base_uri": "https://localhost:8080/"
        },
        "id": "ePIUW3th0Smx",
        "outputId": "a39df0a9-cced-45c8-f944-a7abb8a9e392"
      },
      "execution_count": 282,
      "outputs": [
        {
          "output_type": "stream",
          "name": "stdout",
          "text": [
            "The estimate using LogisticRegression is -2.057643850713934 pm 1.4605984394872131\n"
          ]
        }
      ]
    },
    {
      "cell_type": "markdown",
      "source": [
        "## Calculate Natural Direct Effect using XGBoost: Using Study Habits as the mediator"
      ],
      "metadata": {
        "id": "iaseTssk0iMv"
      }
    },
    {
      "cell_type": "markdown",
      "source": [
        "### Calculate Q0 and Q1 model using XGBoost"
      ],
      "metadata": {
        "id": "s3YYLOfD1Prq"
      }
    },
    {
      "cell_type": "code",
      "source": [
        "Q0_XGSB,Q1_XGSB = outcome_k_fold_fit_and_predict(make_Qmodel_XGBoost, \n",
        "                                             X=confounders_with_mediatorStudyHabits, y=outcome, \n",
        "                                             A=treatment, n_splits=10, output_type=\"continuous\")"
      ],
      "metadata": {
        "id": "VggmGQj80iVq"
      },
      "execution_count": 283,
      "outputs": []
    },
    {
      "cell_type": "markdown",
      "source": [
        "### Combine the Dataset for g, Q0, Q1, A, and Y values"
      ],
      "metadata": {
        "id": "ivLLPIdt1HIl"
      }
    },
    {
      "cell_type": "code",
      "source": [
        "data_and_nuisance_estimates_XGSB = pd.DataFrame({'g': g3_SB, 'Q0': Q0_XGSB, 'Q1': Q1_XGSB, 'A': treatment, 'Y': outcome})\n",
        "data_and_nuisance_estimates_XGSB.head()"
      ],
      "metadata": {
        "colab": {
          "base_uri": "https://localhost:8080/",
          "height": 206
        },
        "id": "EZXtfvmF0icE",
        "outputId": "2bf1b1b8-0a7e-4a8a-8555-e0f81ccbd16b"
      },
      "execution_count": 284,
      "outputs": [
        {
          "output_type": "execute_result",
          "data": {
            "text/plain": [
              "          g         Q0         Q1  A          Y\n",
              "0  0.567114  71.344414  70.240585  1  72.000000\n",
              "1  0.657592  71.523239  70.945999  1  73.333336\n",
              "2  0.541548  71.486557  68.155891  0  74.333336\n",
              "3  0.464019  72.589180  72.315300  1  71.333336\n",
              "4  0.674048  73.923561  71.817039  1  83.333336"
            ],
            "text/html": [
              "\n",
              "  <div id=\"df-a72916c6-5006-4dce-a1ec-e8db8ba0f14b\">\n",
              "    <div class=\"colab-df-container\">\n",
              "      <div>\n",
              "<style scoped>\n",
              "    .dataframe tbody tr th:only-of-type {\n",
              "        vertical-align: middle;\n",
              "    }\n",
              "\n",
              "    .dataframe tbody tr th {\n",
              "        vertical-align: top;\n",
              "    }\n",
              "\n",
              "    .dataframe thead th {\n",
              "        text-align: right;\n",
              "    }\n",
              "</style>\n",
              "<table border=\"1\" class=\"dataframe\">\n",
              "  <thead>\n",
              "    <tr style=\"text-align: right;\">\n",
              "      <th></th>\n",
              "      <th>g</th>\n",
              "      <th>Q0</th>\n",
              "      <th>Q1</th>\n",
              "      <th>A</th>\n",
              "      <th>Y</th>\n",
              "    </tr>\n",
              "  </thead>\n",
              "  <tbody>\n",
              "    <tr>\n",
              "      <th>0</th>\n",
              "      <td>0.567114</td>\n",
              "      <td>71.344414</td>\n",
              "      <td>70.240585</td>\n",
              "      <td>1</td>\n",
              "      <td>72.000000</td>\n",
              "    </tr>\n",
              "    <tr>\n",
              "      <th>1</th>\n",
              "      <td>0.657592</td>\n",
              "      <td>71.523239</td>\n",
              "      <td>70.945999</td>\n",
              "      <td>1</td>\n",
              "      <td>73.333336</td>\n",
              "    </tr>\n",
              "    <tr>\n",
              "      <th>2</th>\n",
              "      <td>0.541548</td>\n",
              "      <td>71.486557</td>\n",
              "      <td>68.155891</td>\n",
              "      <td>0</td>\n",
              "      <td>74.333336</td>\n",
              "    </tr>\n",
              "    <tr>\n",
              "      <th>3</th>\n",
              "      <td>0.464019</td>\n",
              "      <td>72.589180</td>\n",
              "      <td>72.315300</td>\n",
              "      <td>1</td>\n",
              "      <td>71.333336</td>\n",
              "    </tr>\n",
              "    <tr>\n",
              "      <th>4</th>\n",
              "      <td>0.674048</td>\n",
              "      <td>73.923561</td>\n",
              "      <td>71.817039</td>\n",
              "      <td>1</td>\n",
              "      <td>83.333336</td>\n",
              "    </tr>\n",
              "  </tbody>\n",
              "</table>\n",
              "</div>\n",
              "      <button class=\"colab-df-convert\" onclick=\"convertToInteractive('df-a72916c6-5006-4dce-a1ec-e8db8ba0f14b')\"\n",
              "              title=\"Convert this dataframe to an interactive table.\"\n",
              "              style=\"display:none;\">\n",
              "        \n",
              "  <svg xmlns=\"http://www.w3.org/2000/svg\" height=\"24px\"viewBox=\"0 0 24 24\"\n",
              "       width=\"24px\">\n",
              "    <path d=\"M0 0h24v24H0V0z\" fill=\"none\"/>\n",
              "    <path d=\"M18.56 5.44l.94 2.06.94-2.06 2.06-.94-2.06-.94-.94-2.06-.94 2.06-2.06.94zm-11 1L8.5 8.5l.94-2.06 2.06-.94-2.06-.94L8.5 2.5l-.94 2.06-2.06.94zm10 10l.94 2.06.94-2.06 2.06-.94-2.06-.94-.94-2.06-.94 2.06-2.06.94z\"/><path d=\"M17.41 7.96l-1.37-1.37c-.4-.4-.92-.59-1.43-.59-.52 0-1.04.2-1.43.59L10.3 9.45l-7.72 7.72c-.78.78-.78 2.05 0 2.83L4 21.41c.39.39.9.59 1.41.59.51 0 1.02-.2 1.41-.59l7.78-7.78 2.81-2.81c.8-.78.8-2.07 0-2.86zM5.41 20L4 18.59l7.72-7.72 1.47 1.35L5.41 20z\"/>\n",
              "  </svg>\n",
              "      </button>\n",
              "      \n",
              "  <style>\n",
              "    .colab-df-container {\n",
              "      display:flex;\n",
              "      flex-wrap:wrap;\n",
              "      gap: 12px;\n",
              "    }\n",
              "\n",
              "    .colab-df-convert {\n",
              "      background-color: #E8F0FE;\n",
              "      border: none;\n",
              "      border-radius: 50%;\n",
              "      cursor: pointer;\n",
              "      display: none;\n",
              "      fill: #1967D2;\n",
              "      height: 32px;\n",
              "      padding: 0 0 0 0;\n",
              "      width: 32px;\n",
              "    }\n",
              "\n",
              "    .colab-df-convert:hover {\n",
              "      background-color: #E2EBFA;\n",
              "      box-shadow: 0px 1px 2px rgba(60, 64, 67, 0.3), 0px 1px 3px 1px rgba(60, 64, 67, 0.15);\n",
              "      fill: #174EA6;\n",
              "    }\n",
              "\n",
              "    [theme=dark] .colab-df-convert {\n",
              "      background-color: #3B4455;\n",
              "      fill: #D2E3FC;\n",
              "    }\n",
              "\n",
              "    [theme=dark] .colab-df-convert:hover {\n",
              "      background-color: #434B5C;\n",
              "      box-shadow: 0px 1px 3px 1px rgba(0, 0, 0, 0.15);\n",
              "      filter: drop-shadow(0px 1px 2px rgba(0, 0, 0, 0.3));\n",
              "      fill: #FFFFFF;\n",
              "    }\n",
              "  </style>\n",
              "\n",
              "      <script>\n",
              "        const buttonEl =\n",
              "          document.querySelector('#df-a72916c6-5006-4dce-a1ec-e8db8ba0f14b button.colab-df-convert');\n",
              "        buttonEl.style.display =\n",
              "          google.colab.kernel.accessAllowed ? 'block' : 'none';\n",
              "\n",
              "        async function convertToInteractive(key) {\n",
              "          const element = document.querySelector('#df-a72916c6-5006-4dce-a1ec-e8db8ba0f14b');\n",
              "          const dataTable =\n",
              "            await google.colab.kernel.invokeFunction('convertToInteractive',\n",
              "                                                     [key], {});\n",
              "          if (!dataTable) return;\n",
              "\n",
              "          const docLinkHtml = 'Like what you see? Visit the ' +\n",
              "            '<a target=\"_blank\" href=https://colab.research.google.com/notebooks/data_table.ipynb>data table notebook</a>'\n",
              "            + ' to learn more about interactive tables.';\n",
              "          element.innerHTML = '';\n",
              "          dataTable['output_type'] = 'display_data';\n",
              "          await google.colab.output.renderOutput(dataTable, element);\n",
              "          const docLink = document.createElement('div');\n",
              "          docLink.innerHTML = docLinkHtml;\n",
              "          element.appendChild(docLink);\n",
              "        }\n",
              "      </script>\n",
              "    </div>\n",
              "  </div>\n",
              "  "
            ]
          },
          "metadata": {},
          "execution_count": 284
        }
      ]
    },
    {
      "cell_type": "markdown",
      "source": [
        "### Calculate the Natural Direct Effect using the ATU formula"
      ],
      "metadata": {
        "id": "Lp5gKOQI1fb7"
      }
    },
    {
      "cell_type": "code",
      "source": [
        "tau_hat_XGSB, std_hat_XGSB = att_aiptw(**data_and_nuisance_estimates_XGSB)\n",
        "print(f\"The estimate using XGBoost is {tau_hat_XGSB} pm {1.96*std_hat_XGSB}\")"
      ],
      "metadata": {
        "colab": {
          "base_uri": "https://localhost:8080/"
        },
        "id": "DIufAB540ili",
        "outputId": "ed5be610-531c-4a2d-a7e4-f6d9579a3b89"
      },
      "execution_count": 285,
      "outputs": [
        {
          "output_type": "stream",
          "name": "stdout",
          "text": [
            "The estimate using XGBoost is -2.7020341674360724 pm 1.938659085504203\n"
          ]
        }
      ]
    },
    {
      "cell_type": "markdown",
      "source": [
        "# Estimate the Total Effect using ATE"
      ],
      "metadata": {
        "id": "fkKquN-J2SuD"
      }
    },
    {
      "cell_type": "code",
      "source": [
        "#check the overlap conditions using randomForest\n",
        "#get the propensity score function\n",
        "g1_TE = treatment_k_fold_fit_and_predict(make_gmodel_randomForest, X=confounders_without_Mediator, \n",
        "                                      A=treatment, n_splits=10)\n",
        "hist(g1_TE, density=True)"
      ],
      "metadata": {
        "colab": {
          "base_uri": "https://localhost:8080/",
          "height": 372
        },
        "id": "469lxIHy4-e-",
        "outputId": "8ba7cb44-1b08-4b8f-9175-7a50f782112d"
      },
      "execution_count": 286,
      "outputs": [
        {
          "output_type": "execute_result",
          "data": {
            "text/plain": [
              "(array([0.10723364, 0.19497025, 0.25346133, 1.32579773, 3.62644674,\n",
              "        3.61669823, 0.52641969, 0.46792861, 0.09748513, 0.04874256]),\n",
              " array([0.        , 0.09741667, 0.19483333, 0.29225   , 0.38966667,\n",
              "        0.48708333, 0.5845    , 0.68191667, 0.77933333, 0.87675   ,\n",
              "        0.97416667]),\n",
              " <a list of 10 Patch objects>)"
            ]
          },
          "metadata": {},
          "execution_count": 286
        },
        {
          "output_type": "display_data",
          "data": {
            "text/plain": [
              "<Figure size 432x288 with 1 Axes>"
            ],
            "image/png": "[encoded data removed]"
          },
          "metadata": {
            "needs_background": "light"
          }
        }
      ]
    },
    {
      "cell_type": "code",
      "source": [
        "g2_TE = treatment_k_fold_fit_and_predict(make_gmodel_logisticRegression, X=confounders_without_Mediator, \n",
        "                                      A=treatment, n_splits=10)\n",
        "hist(g2_TE, density=True)"
      ],
      "metadata": {
        "colab": {
          "base_uri": "https://localhost:8080/",
          "height": 372
        },
        "id": "__lXH6BF5Nvc",
        "outputId": "eb284662-a953-4bd9-a60a-881851c9a8c8"
      },
      "execution_count": 287,
      "outputs": [
        {
          "output_type": "execute_result",
          "data": {
            "text/plain": [
              "(array([ 0.04185393,  0.58595504,  2.72050553,  5.52471893,  4.77134817,\n",
              "         5.44101107, 17.66235901,  5.85955038,  1.3393258 ,  0.12556179]),\n",
              " array([0.35941407, 0.38210412, 0.40479416, 0.42748421, 0.45017425,\n",
              "        0.4728643 , 0.49555434, 0.51824439, 0.54093444, 0.56362448,\n",
              "        0.58631453]),\n",
              " <a list of 10 Patch objects>)"
            ]
          },
          "metadata": {},
          "execution_count": 287
        },
        {
          "output_type": "display_data",
          "data": {
            "text/plain": [
              "<Figure size 432x288 with 1 Axes>"
            ],
            "image/png": "[encoded data removed]"
          },
          "metadata": {
            "needs_background": "light"
          }
        }
      ]
    },
    {
      "cell_type": "code",
      "source": [
        "g3_TE = treatment_k_fold_fit_and_predict(make_gmodel_XGBClassifier, X=confounders_without_Mediator, \n",
        "                                      A=treatment, n_splits=10)\n",
        "hist(g3_TE, density=True)"
      ],
      "metadata": {
        "colab": {
          "base_uri": "https://localhost:8080/",
          "height": 372
        },
        "id": "vSV9vGil5N7j",
        "outputId": "b3ce70a3-2ebc-4dd3-b261-59af2cbd9462"
      },
      "execution_count": 288,
      "outputs": [
        {
          "output_type": "execute_result",
          "data": {
            "text/plain": [
              "(array([0.0714366 , 0.13096711, 0.60721113, 1.69066629, 4.61956706,\n",
              "        4.40525724, 0.41671352, 0.47624403, 0.10715491, 0.0119061 ]),\n",
              " array([0.10188191, 0.18164502, 0.26140813, 0.34117124, 0.42093435,\n",
              "        0.50069746, 0.58046057, 0.66022368, 0.73998679, 0.8197499 ,\n",
              "        0.89951301]),\n",
              " <a list of 10 Patch objects>)"
            ]
          },
          "metadata": {},
          "execution_count": 288
        },
        {
          "output_type": "display_data",
          "data": {
            "text/plain": [
              "<Figure size 432x288 with 1 Axes>"
            ],
            "image/png": "[encoded data removed]"
          },
          "metadata": {
            "needs_background": "light"
          }
        }
      ]
    },
    {
      "cell_type": "markdown",
      "source": [
        "### Calculate Total Effect using RandomForest"
      ],
      "metadata": {
        "id": "Q_HJW-J15zq_"
      }
    },
    {
      "cell_type": "code",
      "source": [
        "Q0_RFTE,Q1_RFTE = outcome_k_fold_fit_and_predict(make_Qmodel_randomForest, \n",
        "                                             X=confounders_without_Mediator, y=outcome, \n",
        "                                             A=treatment, n_splits=10, output_type=\"continuous\")"
      ],
      "metadata": {
        "id": "trLbDeNa58Q-"
      },
      "execution_count": 289,
      "outputs": []
    },
    {
      "cell_type": "code",
      "source": [
        "data_and_nuisance_estimates_RFTE = pd.DataFrame({'g': g1_TE, 'Q0': Q0_RFTE, 'Q1': Q1_RFTE, 'A': treatment, 'Y': outcome})\n",
        "data_and_nuisance_estimates_RFTE.head()"
      ],
      "metadata": {
        "colab": {
          "base_uri": "https://localhost:8080/",
          "height": 206
        },
        "id": "uoORIJ3258pb",
        "outputId": "03c49f75-4e45-4e0f-c50a-e119619161c4"
      },
      "execution_count": 290,
      "outputs": [
        {
          "output_type": "execute_result",
          "data": {
            "text/plain": [
              "          g         Q0         Q1  A          Y\n",
              "0  0.535206  70.141767  68.917827  1  72.000000\n",
              "1  0.519222  72.180807  70.564169  1  73.333336\n",
              "2  0.455487  72.858597  71.723758  0  74.333336\n",
              "3  0.446963  72.719953  70.990954  1  71.333336\n",
              "4  0.687938  69.958566  67.273067  1  83.333336"
            ],
            "text/html": [
              "\n",
              "  <div id=\"df-21d7235b-65d8-44ed-941d-41c4ae7293bd\">\n",
              "    <div class=\"colab-df-container\">\n",
              "      <div>\n",
              "<style scoped>\n",
              "    .dataframe tbody tr th:only-of-type {\n",
              "        vertical-align: middle;\n",
              "    }\n",
              "\n",
              "    .dataframe tbody tr th {\n",
              "        vertical-align: top;\n",
              "    }\n",
              "\n",
              "    .dataframe thead th {\n",
              "        text-align: right;\n",
              "    }\n",
              "</style>\n",
              "<table border=\"1\" class=\"dataframe\">\n",
              "  <thead>\n",
              "    <tr style=\"text-align: right;\">\n",
              "      <th></th>\n",
              "      <th>g</th>\n",
              "      <th>Q0</th>\n",
              "      <th>Q1</th>\n",
              "      <th>A</th>\n",
              "      <th>Y</th>\n",
              "    </tr>\n",
              "  </thead>\n",
              "  <tbody>\n",
              "    <tr>\n",
              "      <th>0</th>\n",
              "      <td>0.535206</td>\n",
              "      <td>70.141767</td>\n",
              "      <td>68.917827</td>\n",
              "      <td>1</td>\n",
              "      <td>72.000000</td>\n",
              "    </tr>\n",
              "    <tr>\n",
              "      <th>1</th>\n",
              "      <td>0.519222</td>\n",
              "      <td>72.180807</td>\n",
              "      <td>70.564169</td>\n",
              "      <td>1</td>\n",
              "      <td>73.333336</td>\n",
              "    </tr>\n",
              "    <tr>\n",
              "      <th>2</th>\n",
              "      <td>0.455487</td>\n",
              "      <td>72.858597</td>\n",
              "      <td>71.723758</td>\n",
              "      <td>0</td>\n",
              "      <td>74.333336</td>\n",
              "    </tr>\n",
              "    <tr>\n",
              "      <th>3</th>\n",
              "      <td>0.446963</td>\n",
              "      <td>72.719953</td>\n",
              "      <td>70.990954</td>\n",
              "      <td>1</td>\n",
              "      <td>71.333336</td>\n",
              "    </tr>\n",
              "    <tr>\n",
              "      <th>4</th>\n",
              "      <td>0.687938</td>\n",
              "      <td>69.958566</td>\n",
              "      <td>67.273067</td>\n",
              "      <td>1</td>\n",
              "      <td>83.333336</td>\n",
              "    </tr>\n",
              "  </tbody>\n",
              "</table>\n",
              "</div>\n",
              "      <button class=\"colab-df-convert\" onclick=\"convertToInteractive('df-21d7235b-65d8-44ed-941d-41c4ae7293bd')\"\n",
              "              title=\"Convert this dataframe to an interactive table.\"\n",
              "              style=\"display:none;\">\n",
              "        \n",
              "  <svg xmlns=\"http://www.w3.org/2000/svg\" height=\"24px\"viewBox=\"0 0 24 24\"\n",
              "       width=\"24px\">\n",
              "    <path d=\"M0 0h24v24H0V0z\" fill=\"none\"/>\n",
              "    <path d=\"M18.56 5.44l.94 2.06.94-2.06 2.06-.94-2.06-.94-.94-2.06-.94 2.06-2.06.94zm-11 1L8.5 8.5l.94-2.06 2.06-.94-2.06-.94L8.5 2.5l-.94 2.06-2.06.94zm10 10l.94 2.06.94-2.06 2.06-.94-2.06-.94-.94-2.06-.94 2.06-2.06.94z\"/><path d=\"M17.41 7.96l-1.37-1.37c-.4-.4-.92-.59-1.43-.59-.52 0-1.04.2-1.43.59L10.3 9.45l-7.72 7.72c-.78.78-.78 2.05 0 2.83L4 21.41c.39.39.9.59 1.41.59.51 0 1.02-.2 1.41-.59l7.78-7.78 2.81-2.81c.8-.78.8-2.07 0-2.86zM5.41 20L4 18.59l7.72-7.72 1.47 1.35L5.41 20z\"/>\n",
              "  </svg>\n",
              "      </button>\n",
              "      \n",
              "  <style>\n",
              "    .colab-df-container {\n",
              "      display:flex;\n",
              "      flex-wrap:wrap;\n",
              "      gap: 12px;\n",
              "    }\n",
              "\n",
              "    .colab-df-convert {\n",
              "      background-color: #E8F0FE;\n",
              "      border: none;\n",
              "      border-radius: 50%;\n",
              "      cursor: pointer;\n",
              "      display: none;\n",
              "      fill: #1967D2;\n",
              "      height: 32px;\n",
              "      padding: 0 0 0 0;\n",
              "      width: 32px;\n",
              "    }\n",
              "\n",
              "    .colab-df-convert:hover {\n",
              "      background-color: #E2EBFA;\n",
              "      box-shadow: 0px 1px 2px rgba(60, 64, 67, 0.3), 0px 1px 3px 1px rgba(60, 64, 67, 0.15);\n",
              "      fill: #174EA6;\n",
              "    }\n",
              "\n",
              "    [theme=dark] .colab-df-convert {\n",
              "      background-color: #3B4455;\n",
              "      fill: #D2E3FC;\n",
              "    }\n",
              "\n",
              "    [theme=dark] .colab-df-convert:hover {\n",
              "      background-color: #434B5C;\n",
              "      box-shadow: 0px 1px 3px 1px rgba(0, 0, 0, 0.15);\n",
              "      filter: drop-shadow(0px 1px 2px rgba(0, 0, 0, 0.3));\n",
              "      fill: #FFFFFF;\n",
              "    }\n",
              "  </style>\n",
              "\n",
              "      <script>\n",
              "        const buttonEl =\n",
              "          document.querySelector('#df-21d7235b-65d8-44ed-941d-41c4ae7293bd button.colab-df-convert');\n",
              "        buttonEl.style.display =\n",
              "          google.colab.kernel.accessAllowed ? 'block' : 'none';\n",
              "\n",
              "        async function convertToInteractive(key) {\n",
              "          const element = document.querySelector('#df-21d7235b-65d8-44ed-941d-41c4ae7293bd');\n",
              "          const dataTable =\n",
              "            await google.colab.kernel.invokeFunction('convertToInteractive',\n",
              "                                                     [key], {});\n",
              "          if (!dataTable) return;\n",
              "\n",
              "          const docLinkHtml = 'Like what you see? Visit the ' +\n",
              "            '<a target=\"_blank\" href=https://colab.research.google.com/notebooks/data_table.ipynb>data table notebook</a>'\n",
              "            + ' to learn more about interactive tables.';\n",
              "          element.innerHTML = '';\n",
              "          dataTable['output_type'] = 'display_data';\n",
              "          await google.colab.output.renderOutput(dataTable, element);\n",
              "          const docLink = document.createElement('div');\n",
              "          docLink.innerHTML = docLinkHtml;\n",
              "          element.appendChild(docLink);\n",
              "        }\n",
              "      </script>\n",
              "    </div>\n",
              "  </div>\n",
              "  "
            ]
          },
          "metadata": {},
          "execution_count": 290
        }
      ]
    },
    {
      "cell_type": "code",
      "source": [
        "tau_hat_RFTE, std_hat_RFTE = att_aiptw(**data_and_nuisance_estimates_RFTE)\n",
        "print(f\"The estimate using RandomForest is {tau_hat_RFTE} pm {1.96*std_hat_RFTE}\")"
      ],
      "metadata": {
        "colab": {
          "base_uri": "https://localhost:8080/"
        },
        "id": "RRvEOQfl58x4",
        "outputId": "c5dc69b8-644f-46fb-d127-81f898c1d45e"
      },
      "execution_count": 291,
      "outputs": [
        {
          "output_type": "stream",
          "name": "stdout",
          "text": [
            "The estimate using RandomForest is -1.7000982915867389 pm 2.1269790189502342\n"
          ]
        }
      ]
    },
    {
      "cell_type": "markdown",
      "source": [
        "### Calculate Total Effect using Logistic Regression"
      ],
      "metadata": {
        "id": "tys7oUAQ50kW"
      }
    },
    {
      "cell_type": "code",
      "source": [
        "Q0_LRTE,Q1_LRTE = outcome_k_fold_fit_and_predict(make_Qmodel_linearRegression, \n",
        "                                             X=confounders_without_Mediator, y=outcome, \n",
        "                                             A=treatment, n_splits=10, output_type=\"continuous\")"
      ],
      "metadata": {
        "id": "EQtboVhd6cuB"
      },
      "execution_count": 292,
      "outputs": []
    },
    {
      "cell_type": "code",
      "source": [
        "data_and_nuisance_estimates_LRTE = pd.DataFrame({'g': g2_TE, 'Q0': Q0_LRTE, 'Q1': Q1_LRTE, 'A': treatment, 'Y': outcome})\n",
        "data_and_nuisance_estimates_LRTE.head()"
      ],
      "metadata": {
        "colab": {
          "base_uri": "https://localhost:8080/",
          "height": 206
        },
        "id": "1r-jXEPN6i9t",
        "outputId": "7fe6a3ca-5d74-4ee2-bd9d-a4b8c921a3d2"
      },
      "execution_count": 293,
      "outputs": [
        {
          "output_type": "execute_result",
          "data": {
            "text/plain": [
              "          g         Q0         Q1  A          Y\n",
              "0  0.480307  70.561823  68.404888  1  72.000000\n",
              "1  0.516213  72.460184  70.634466  1  73.333336\n",
              "2  0.504443  72.473369  70.428622  0  74.333336\n",
              "3  0.530940  72.437051  70.392304  1  71.333336\n",
              "4  0.450518  68.794948  66.853574  1  83.333336"
            ],
            "text/html": [
              "\n",
              "  <div id=\"df-eaaaee63-ccb9-40a4-8c5c-2927e224fc8b\">\n",
              "    <div class=\"colab-df-container\">\n",
              "      <div>\n",
              "<style scoped>\n",
              "    .dataframe tbody tr th:only-of-type {\n",
              "        vertical-align: middle;\n",
              "    }\n",
              "\n",
              "    .dataframe tbody tr th {\n",
              "        vertical-align: top;\n",
              "    }\n",
              "\n",
              "    .dataframe thead th {\n",
              "        text-align: right;\n",
              "    }\n",
              "</style>\n",
              "<table border=\"1\" class=\"dataframe\">\n",
              "  <thead>\n",
              "    <tr style=\"text-align: right;\">\n",
              "      <th></th>\n",
              "      <th>g</th>\n",
              "      <th>Q0</th>\n",
              "      <th>Q1</th>\n",
              "      <th>A</th>\n",
              "      <th>Y</th>\n",
              "    </tr>\n",
              "  </thead>\n",
              "  <tbody>\n",
              "    <tr>\n",
              "      <th>0</th>\n",
              "      <td>0.480307</td>\n",
              "      <td>70.561823</td>\n",
              "      <td>68.404888</td>\n",
              "      <td>1</td>\n",
              "      <td>72.000000</td>\n",
              "    </tr>\n",
              "    <tr>\n",
              "      <th>1</th>\n",
              "      <td>0.516213</td>\n",
              "      <td>72.460184</td>\n",
              "      <td>70.634466</td>\n",
              "      <td>1</td>\n",
              "      <td>73.333336</td>\n",
              "    </tr>\n",
              "    <tr>\n",
              "      <th>2</th>\n",
              "      <td>0.504443</td>\n",
              "      <td>72.473369</td>\n",
              "      <td>70.428622</td>\n",
              "      <td>0</td>\n",
              "      <td>74.333336</td>\n",
              "    </tr>\n",
              "    <tr>\n",
              "      <th>3</th>\n",
              "      <td>0.530940</td>\n",
              "      <td>72.437051</td>\n",
              "      <td>70.392304</td>\n",
              "      <td>1</td>\n",
              "      <td>71.333336</td>\n",
              "    </tr>\n",
              "    <tr>\n",
              "      <th>4</th>\n",
              "      <td>0.450518</td>\n",
              "      <td>68.794948</td>\n",
              "      <td>66.853574</td>\n",
              "      <td>1</td>\n",
              "      <td>83.333336</td>\n",
              "    </tr>\n",
              "  </tbody>\n",
              "</table>\n",
              "</div>\n",
              "      <button class=\"colab-df-convert\" onclick=\"convertToInteractive('df-eaaaee63-ccb9-40a4-8c5c-2927e224fc8b')\"\n",
              "              title=\"Convert this dataframe to an interactive table.\"\n",
              "              style=\"display:none;\">\n",
              "        \n",
              "  <svg xmlns=\"http://www.w3.org/2000/svg\" height=\"24px\"viewBox=\"0 0 24 24\"\n",
              "       width=\"24px\">\n",
              "    <path d=\"M0 0h24v24H0V0z\" fill=\"none\"/>\n",
              "    <path d=\"M18.56 5.44l.94 2.06.94-2.06 2.06-.94-2.06-.94-.94-2.06-.94 2.06-2.06.94zm-11 1L8.5 8.5l.94-2.06 2.06-.94-2.06-.94L8.5 2.5l-.94 2.06-2.06.94zm10 10l.94 2.06.94-2.06 2.06-.94-2.06-.94-.94-2.06-.94 2.06-2.06.94z\"/><path d=\"M17.41 7.96l-1.37-1.37c-.4-.4-.92-.59-1.43-.59-.52 0-1.04.2-1.43.59L10.3 9.45l-7.72 7.72c-.78.78-.78 2.05 0 2.83L4 21.41c.39.39.9.59 1.41.59.51 0 1.02-.2 1.41-.59l7.78-7.78 2.81-2.81c.8-.78.8-2.07 0-2.86zM5.41 20L4 18.59l7.72-7.72 1.47 1.35L5.41 20z\"/>\n",
              "  </svg>\n",
              "      </button>\n",
              "      \n",
              "  <style>\n",
              "    .colab-df-container {\n",
              "      display:flex;\n",
              "      flex-wrap:wrap;\n",
              "      gap: 12px;\n",
              "    }\n",
              "\n",
              "    .colab-df-convert {\n",
              "      background-color: #E8F0FE;\n",
              "      border: none;\n",
              "      border-radius: 50%;\n",
              "      cursor: pointer;\n",
              "      display: none;\n",
              "      fill: #1967D2;\n",
              "      height: 32px;\n",
              "      padding: 0 0 0 0;\n",
              "      width: 32px;\n",
              "    }\n",
              "\n",
              "    .colab-df-convert:hover {\n",
              "      background-color: #E2EBFA;\n",
              "      box-shadow: 0px 1px 2px rgba(60, 64, 67, 0.3), 0px 1px 3px 1px rgba(60, 64, 67, 0.15);\n",
              "      fill: #174EA6;\n",
              "    }\n",
              "\n",
              "    [theme=dark] .colab-df-convert {\n",
              "      background-color: #3B4455;\n",
              "      fill: #D2E3FC;\n",
              "    }\n",
              "\n",
              "    [theme=dark] .colab-df-convert:hover {\n",
              "      background-color: #434B5C;\n",
              "      box-shadow: 0px 1px 3px 1px rgba(0, 0, 0, 0.15);\n",
              "      filter: drop-shadow(0px 1px 2px rgba(0, 0, 0, 0.3));\n",
              "      fill: #FFFFFF;\n",
              "    }\n",
              "  </style>\n",
              "\n",
              "      <script>\n",
              "        const buttonEl =\n",
              "          document.querySelector('#df-eaaaee63-ccb9-40a4-8c5c-2927e224fc8b button.colab-df-convert');\n",
              "        buttonEl.style.display =\n",
              "          google.colab.kernel.accessAllowed ? 'block' : 'none';\n",
              "\n",
              "        async function convertToInteractive(key) {\n",
              "          const element = document.querySelector('#df-eaaaee63-ccb9-40a4-8c5c-2927e224fc8b');\n",
              "          const dataTable =\n",
              "            await google.colab.kernel.invokeFunction('convertToInteractive',\n",
              "                                                     [key], {});\n",
              "          if (!dataTable) return;\n",
              "\n",
              "          const docLinkHtml = 'Like what you see? Visit the ' +\n",
              "            '<a target=\"_blank\" href=https://colab.research.google.com/notebooks/data_table.ipynb>data table notebook</a>'\n",
              "            + ' to learn more about interactive tables.';\n",
              "          element.innerHTML = '';\n",
              "          dataTable['output_type'] = 'display_data';\n",
              "          await google.colab.output.renderOutput(dataTable, element);\n",
              "          const docLink = document.createElement('div');\n",
              "          docLink.innerHTML = docLinkHtml;\n",
              "          element.appendChild(docLink);\n",
              "        }\n",
              "      </script>\n",
              "    </div>\n",
              "  </div>\n",
              "  "
            ]
          },
          "metadata": {},
          "execution_count": 293
        }
      ]
    },
    {
      "cell_type": "code",
      "source": [
        "tau_hat_LRTE, std_hat_LRTE = att_aiptw(**data_and_nuisance_estimates_LRTE)\n",
        "print(f\"The estimate using Logistic Regression is {tau_hat_LRTE} pm {1.96*std_hat_LRTE}\")"
      ],
      "metadata": {
        "colab": {
          "base_uri": "https://localhost:8080/"
        },
        "id": "f-65NIKL6ot4",
        "outputId": "348d4737-6f97-4b6e-e279-611a2230a7f4"
      },
      "execution_count": 294,
      "outputs": [
        {
          "output_type": "stream",
          "name": "stdout",
          "text": [
            "The estimate using Logistic Regression is -2.092461808087472 pm 1.4674963736314988\n"
          ]
        }
      ]
    },
    {
      "cell_type": "markdown",
      "source": [
        "### Calculate Total Effect using XGBoost"
      ],
      "metadata": {
        "id": "QMEDx8iq3cBJ"
      }
    },
    {
      "cell_type": "code",
      "source": [
        "Q0_XGTE,Q1_XGTE = outcome_k_fold_fit_and_predict(make_Qmodel_XGBoost, \n",
        "                                             X=confounders_without_Mediator, y=outcome, \n",
        "                                             A=treatment, n_splits=10, output_type=\"continuous\")"
      ],
      "metadata": {
        "id": "AmPYr52T3ZH0"
      },
      "execution_count": 295,
      "outputs": []
    },
    {
      "cell_type": "code",
      "source": [
        "data_and_nuisance_estimates_XGTE = pd.DataFrame({'g': g3_TE, 'Q0': Q0_XGTE, 'Q1': Q1_XGTE, 'A': treatment, 'Y': outcome})\n",
        "data_and_nuisance_estimates_XGTE.head()"
      ],
      "metadata": {
        "colab": {
          "base_uri": "https://localhost:8080/",
          "height": 206
        },
        "id": "55loX07Z3qJV",
        "outputId": "37b00d89-daf5-4e4a-d955-a0be8ceadacb"
      },
      "execution_count": 296,
      "outputs": [
        {
          "output_type": "execute_result",
          "data": {
            "text/plain": [
              "          g         Q0         Q1  A          Y\n",
              "0  0.577729  72.236382  69.596619  1  72.000000\n",
              "1  0.506242  71.807884  68.536179  1  73.333336\n",
              "2  0.475334  73.672920  72.846054  0  74.333336\n",
              "3  0.482373  75.174034  72.878189  1  71.333336\n",
              "4  0.678853  72.315346  68.203194  1  83.333336"
            ],
            "text/html": [
              "\n",
              "  <div id=\"df-ba26d2ed-6a24-439b-b66a-79df87df32ee\">\n",
              "    <div class=\"colab-df-container\">\n",
              "      <div>\n",
              "<style scoped>\n",
              "    .dataframe tbody tr th:only-of-type {\n",
              "        vertical-align: middle;\n",
              "    }\n",
              "\n",
              "    .dataframe tbody tr th {\n",
              "        vertical-align: top;\n",
              "    }\n",
              "\n",
              "    .dataframe thead th {\n",
              "        text-align: right;\n",
              "    }\n",
              "</style>\n",
              "<table border=\"1\" class=\"dataframe\">\n",
              "  <thead>\n",
              "    <tr style=\"text-align: right;\">\n",
              "      <th></th>\n",
              "      <th>g</th>\n",
              "      <th>Q0</th>\n",
              "      <th>Q1</th>\n",
              "      <th>A</th>\n",
              "      <th>Y</th>\n",
              "    </tr>\n",
              "  </thead>\n",
              "  <tbody>\n",
              "    <tr>\n",
              "      <th>0</th>\n",
              "      <td>0.577729</td>\n",
              "      <td>72.236382</td>\n",
              "      <td>69.596619</td>\n",
              "      <td>1</td>\n",
              "      <td>72.000000</td>\n",
              "    </tr>\n",
              "    <tr>\n",
              "      <th>1</th>\n",
              "      <td>0.506242</td>\n",
              "      <td>71.807884</td>\n",
              "      <td>68.536179</td>\n",
              "      <td>1</td>\n",
              "      <td>73.333336</td>\n",
              "    </tr>\n",
              "    <tr>\n",
              "      <th>2</th>\n",
              "      <td>0.475334</td>\n",
              "      <td>73.672920</td>\n",
              "      <td>72.846054</td>\n",
              "      <td>0</td>\n",
              "      <td>74.333336</td>\n",
              "    </tr>\n",
              "    <tr>\n",
              "      <th>3</th>\n",
              "      <td>0.482373</td>\n",
              "      <td>75.174034</td>\n",
              "      <td>72.878189</td>\n",
              "      <td>1</td>\n",
              "      <td>71.333336</td>\n",
              "    </tr>\n",
              "    <tr>\n",
              "      <th>4</th>\n",
              "      <td>0.678853</td>\n",
              "      <td>72.315346</td>\n",
              "      <td>68.203194</td>\n",
              "      <td>1</td>\n",
              "      <td>83.333336</td>\n",
              "    </tr>\n",
              "  </tbody>\n",
              "</table>\n",
              "</div>\n",
              "      <button class=\"colab-df-convert\" onclick=\"convertToInteractive('df-ba26d2ed-6a24-439b-b66a-79df87df32ee')\"\n",
              "              title=\"Convert this dataframe to an interactive table.\"\n",
              "              style=\"display:none;\">\n",
              "        \n",
              "  <svg xmlns=\"http://www.w3.org/2000/svg\" height=\"24px\"viewBox=\"0 0 24 24\"\n",
              "       width=\"24px\">\n",
              "    <path d=\"M0 0h24v24H0V0z\" fill=\"none\"/>\n",
              "    <path d=\"M18.56 5.44l.94 2.06.94-2.06 2.06-.94-2.06-.94-.94-2.06-.94 2.06-2.06.94zm-11 1L8.5 8.5l.94-2.06 2.06-.94-2.06-.94L8.5 2.5l-.94 2.06-2.06.94zm10 10l.94 2.06.94-2.06 2.06-.94-2.06-.94-.94-2.06-.94 2.06-2.06.94z\"/><path d=\"M17.41 7.96l-1.37-1.37c-.4-.4-.92-.59-1.43-.59-.52 0-1.04.2-1.43.59L10.3 9.45l-7.72 7.72c-.78.78-.78 2.05 0 2.83L4 21.41c.39.39.9.59 1.41.59.51 0 1.02-.2 1.41-.59l7.78-7.78 2.81-2.81c.8-.78.8-2.07 0-2.86zM5.41 20L4 18.59l7.72-7.72 1.47 1.35L5.41 20z\"/>\n",
              "  </svg>\n",
              "      </button>\n",
              "      \n",
              "  <style>\n",
              "    .colab-df-container {\n",
              "      display:flex;\n",
              "      flex-wrap:wrap;\n",
              "      gap: 12px;\n",
              "    }\n",
              "\n",
              "    .colab-df-convert {\n",
              "      background-color: #E8F0FE;\n",
              "      border: none;\n",
              "      border-radius: 50%;\n",
              "      cursor: pointer;\n",
              "      display: none;\n",
              "      fill: #1967D2;\n",
              "      height: 32px;\n",
              "      padding: 0 0 0 0;\n",
              "      width: 32px;\n",
              "    }\n",
              "\n",
              "    .colab-df-convert:hover {\n",
              "      background-color: #E2EBFA;\n",
              "      box-shadow: 0px 1px 2px rgba(60, 64, 67, 0.3), 0px 1px 3px 1px rgba(60, 64, 67, 0.15);\n",
              "      fill: #174EA6;\n",
              "    }\n",
              "\n",
              "    [theme=dark] .colab-df-convert {\n",
              "      background-color: #3B4455;\n",
              "      fill: #D2E3FC;\n",
              "    }\n",
              "\n",
              "    [theme=dark] .colab-df-convert:hover {\n",
              "      background-color: #434B5C;\n",
              "      box-shadow: 0px 1px 3px 1px rgba(0, 0, 0, 0.15);\n",
              "      filter: drop-shadow(0px 1px 2px rgba(0, 0, 0, 0.3));\n",
              "      fill: #FFFFFF;\n",
              "    }\n",
              "  </style>\n",
              "\n",
              "      <script>\n",
              "        const buttonEl =\n",
              "          document.querySelector('#df-ba26d2ed-6a24-439b-b66a-79df87df32ee button.colab-df-convert');\n",
              "        buttonEl.style.display =\n",
              "          google.colab.kernel.accessAllowed ? 'block' : 'none';\n",
              "\n",
              "        async function convertToInteractive(key) {\n",
              "          const element = document.querySelector('#df-ba26d2ed-6a24-439b-b66a-79df87df32ee');\n",
              "          const dataTable =\n",
              "            await google.colab.kernel.invokeFunction('convertToInteractive',\n",
              "                                                     [key], {});\n",
              "          if (!dataTable) return;\n",
              "\n",
              "          const docLinkHtml = 'Like what you see? Visit the ' +\n",
              "            '<a target=\"_blank\" href=https://colab.research.google.com/notebooks/data_table.ipynb>data table notebook</a>'\n",
              "            + ' to learn more about interactive tables.';\n",
              "          element.innerHTML = '';\n",
              "          dataTable['output_type'] = 'display_data';\n",
              "          await google.colab.output.renderOutput(dataTable, element);\n",
              "          const docLink = document.createElement('div');\n",
              "          docLink.innerHTML = docLinkHtml;\n",
              "          element.appendChild(docLink);\n",
              "        }\n",
              "      </script>\n",
              "    </div>\n",
              "  </div>\n",
              "  "
            ]
          },
          "metadata": {},
          "execution_count": 296
        }
      ]
    },
    {
      "cell_type": "code",
      "source": [
        "tau_hat_XGTE, std_hat_XGTE = att_aiptw(**data_and_nuisance_estimates_XGTE)\n",
        "print(f\"The estimate using XGBoost is {tau_hat_XGTE} pm {1.96*std_hat_XGTE}\")"
      ],
      "metadata": {
        "colab": {
          "base_uri": "https://localhost:8080/"
        },
        "id": "gPCScnwa4wsj",
        "outputId": "6259d696-b5cc-429e-d656-92f07cb1b0d3"
      },
      "execution_count": 297,
      "outputs": [
        {
          "output_type": "stream",
          "name": "stdout",
          "text": [
            "The estimate using XGBoost is -2.0654895363678385 pm 1.6003949772806993\n"
          ]
        }
      ]
    },
    {
      "cell_type": "markdown",
      "source": [
        "# Placebo Effect"
      ],
      "metadata": {
        "id": "lehfQOSo7hM4"
      }
    },
    {
      "cell_type": "code",
      "source": [
        "#check the overlap conditions using randomForest\n",
        "#get the propensity score function\n",
        "g1_P = treatment_k_fold_fit_and_predict(make_gmodel_randomForest, X=confounders_without_Mediator, \n",
        "                                      A=placebo, n_splits=10)\n",
        "hist(g1_P, density=True)"
      ],
      "metadata": {
        "colab": {
          "base_uri": "https://localhost:8080/",
          "height": 372
        },
        "outputId": "dd6bc855-85b9-4cf7-b31f-cf503f53096e",
        "id": "ad68QVVa8cgs"
      },
      "execution_count": 320,
      "outputs": [
        {
          "output_type": "execute_result",
          "data": {
            "text/plain": [
              "(array([0.04786899, 0.10531178, 0.26806636, 0.30636155, 1.34033178,\n",
              "        5.86873844, 0.90951085, 0.81377287, 0.30636155, 0.11488558]),\n",
              " array([0.00555556, 0.10475   , 0.20394444, 0.30313889, 0.40233333,\n",
              "        0.50152778, 0.60072222, 0.69991667, 0.79911111, 0.89830556,\n",
              "        0.9975    ]),\n",
              " <a list of 10 Patch objects>)"
            ]
          },
          "metadata": {},
          "execution_count": 320
        },
        {
          "output_type": "display_data",
          "data": {
            "text/plain": [
              "<Figure size 432x288 with 1 Axes>"
            ],
            "image/png": "[encoded data removed]"
          },
          "metadata": {
            "needs_background": "light"
          }
        }
      ]
    },
    {
      "cell_type": "code",
      "source": [
        "g2_P = treatment_k_fold_fit_and_predict(make_gmodel_logisticRegression, X=confounders_without_Mediator, \n",
        "                                      A=placebo, n_splits=10)\n",
        "hist(g2_P, density=True)"
      ],
      "metadata": {
        "colab": {
          "base_uri": "https://localhost:8080/",
          "height": 372
        },
        "outputId": "ec37c7a3-550f-4a5b-930c-e4ca77f81f8a",
        "id": "klrRgxpx8cgt"
      },
      "execution_count": 321,
      "outputs": [
        {
          "output_type": "execute_result",
          "data": {
            "text/plain": [
              "(array([ 2.38900934,  6.70249843, 22.62922736, 12.54229904,  3.64987538,\n",
              "         1.45995015,  5.97252335,  8.29517132,  4.37985046,  1.85811838]),\n",
              " array([0.49784265, 0.51215319, 0.52646374, 0.54077429, 0.55508484,\n",
              "        0.56939539, 0.58370594, 0.59801649, 0.61232703, 0.62663758,\n",
              "        0.64094813]),\n",
              " <a list of 10 Patch objects>)"
            ]
          },
          "metadata": {},
          "execution_count": 321
        },
        {
          "output_type": "display_data",
          "data": {
            "text/plain": [
              "<Figure size 432x288 with 1 Axes>"
            ],
            "image/png": "[encoded data removed]"
          },
          "metadata": {
            "needs_background": "light"
          }
        }
      ]
    },
    {
      "cell_type": "code",
      "source": [
        "g3_P = treatment_k_fold_fit_and_predict(make_gmodel_XGBClassifier, X=confounders_without_Mediator, \n",
        "                                      A=placebo, n_splits=10)\n",
        "hist(g3_P, density=True)"
      ],
      "metadata": {
        "colab": {
          "base_uri": "https://localhost:8080/",
          "height": 372
        },
        "outputId": "6620a3c9-9e0b-4fed-c60e-25bfb32b6fff",
        "id": "FqCy4jSn8cgt"
      },
      "execution_count": 322,
      "outputs": [
        {
          "output_type": "execute_result",
          "data": {
            "text/plain": [
              "(array([0.04637177, 0.05796472, 0.15070827, 0.59124012, 4.11549495,\n",
              "        4.99655865, 1.10132963, 0.75354133, 0.38256714, 0.01159294]),\n",
              " array([0.12365201, 0.20556974, 0.28748747, 0.3694052 , 0.45132293,\n",
              "        0.53324066, 0.61515839, 0.69707612, 0.77899385, 0.86091158,\n",
              "        0.94282931]),\n",
              " <a list of 10 Patch objects>)"
            ]
          },
          "metadata": {},
          "execution_count": 322
        },
        {
          "output_type": "display_data",
          "data": {
            "text/plain": [
              "<Figure size 432x288 with 1 Axes>"
            ],
            "image/png": "[encoded data removed]"
          },
          "metadata": {
            "needs_background": "light"
          }
        }
      ]
    },
    {
      "cell_type": "markdown",
      "source": [
        "### Calculate Placebo Effect using RandomForest"
      ],
      "metadata": {
        "id": "NVitfEur7wBD"
      }
    },
    {
      "cell_type": "code",
      "source": [
        "def exclude_moderate(df: pd.DataFrame):\n",
        "  df = df.drop(data.index[range(315, 694)])\n",
        "  return df"
      ],
      "metadata": {
        "id": "9ywOOssgcCYi"
      },
      "execution_count": 355,
      "outputs": []
    },
    {
      "cell_type": "code",
      "source": [
        "Q0_RF_P,Q1_RF_P = outcome_k_fold_fit_and_predict(make_Qmodel_randomForest, \n",
        "                                             X=confounders_without_Mediator, y=outcome, \n",
        "                                             A=placebo, n_splits=10, output_type=\"continuous\")"
      ],
      "metadata": {
        "id": "7adtoWgs7wBE"
      },
      "execution_count": 354,
      "outputs": []
    },
    {
      "cell_type": "code",
      "source": [
        "data_and_nuisance_estimates_RF_P = pd.DataFrame({'g': g1_P, 'Q0': Q0_RF_P, 'Q1': Q1_RF_P, 'A': placebo, 'Y': outcome})\n",
        "data_and_nuisance_estimates_RF_P = exclude_moderate(data_and_nuisance_estimates_RF_P)\n"
      ],
      "metadata": {
        "id": "GJyMg1Qx7wBF"
      },
      "execution_count": 353,
      "outputs": []
    },
    {
      "cell_type": "code",
      "source": [
        "tau_hat_RF_P, std_hat_RF_P = att_aiptw(**data_and_nuisance_estimates_RF_P)\n",
        "print(f\"The estimate using RandomForest is {tau_hat_RF_P} pm {1.96*std_hat_RF_P}\")"
      ],
      "metadata": {
        "colab": {
          "base_uri": "https://localhost:8080/"
        },
        "outputId": "5c5986ab-d9df-460b-ec29-608215578fbe",
        "id": "URq1Fn5M7wBG"
      },
      "execution_count": 352,
      "outputs": [
        {
          "output_type": "stream",
          "name": "stdout",
          "text": [
            "The estimate using RandomForest is -3.9162210657830734 pm 7.071725024944797\n"
          ]
        }
      ]
    },
    {
      "cell_type": "markdown",
      "source": [
        "### Calculate Total Effect using Logistic Regression"
      ],
      "metadata": {
        "id": "0HQo9gRe7wBG"
      }
    },
    {
      "cell_type": "code",
      "source": [
        "Q0_LR_P,Q1_LR_P = outcome_k_fold_fit_and_predict(make_Qmodel_linearRegression, \n",
        "                                             X=confounders_without_Mediator, y=outcome, \n",
        "                                             A=placebo, n_splits=10, output_type=\"continuous\")"
      ],
      "metadata": {
        "id": "rYyhUes57wBG"
      },
      "execution_count": 347,
      "outputs": []
    },
    {
      "cell_type": "code",
      "source": [
        "data_and_nuisance_estimates_LR_P = pd.DataFrame({'g': g2_P, 'Q0': Q0_LR_P, 'Q1': Q1_LR_P, 'A': placebo, 'Y': outcome})\n",
        "data_and_nuisance_estimates_LR_P = exclude_moderate(data_and_nuisance_estimates_LR_P)\n",
        "data_and_nuisance_estimates_LR_P.head()"
      ],
      "metadata": {
        "colab": {
          "base_uri": "https://localhost:8080/",
          "height": 206
        },
        "outputId": "11e228e8-db4b-42d8-b981-1d48acca6b20",
        "id": "5wprpXtc7wBH"
      },
      "execution_count": 348,
      "outputs": [
        {
          "output_type": "execute_result",
          "data": {
            "text/plain": [
              "          g         Q0         Q1  A          Y\n",
              "0  0.568357  69.409067  69.618939  0  72.000000\n",
              "1  0.523014  71.191488  71.832179  0  73.333336\n",
              "2  0.535634  71.079421  71.722667  0  74.333336\n",
              "3  0.516596  71.014851  71.658097  0  71.333336\n",
              "4  0.601872  67.375813  68.233413  0  83.333336"
            ],
            "text/html": [
              "\n",
              "  <div id=\"df-e9519651-9a3f-41b4-a250-82e477499b8d\">\n",
              "    <div class=\"colab-df-container\">\n",
              "      <div>\n",
              "<style scoped>\n",
              "    .dataframe tbody tr th:only-of-type {\n",
              "        vertical-align: middle;\n",
              "    }\n",
              "\n",
              "    .dataframe tbody tr th {\n",
              "        vertical-align: top;\n",
              "    }\n",
              "\n",
              "    .dataframe thead th {\n",
              "        text-align: right;\n",
              "    }\n",
              "</style>\n",
              "<table border=\"1\" class=\"dataframe\">\n",
              "  <thead>\n",
              "    <tr style=\"text-align: right;\">\n",
              "      <th></th>\n",
              "      <th>g</th>\n",
              "      <th>Q0</th>\n",
              "      <th>Q1</th>\n",
              "      <th>A</th>\n",
              "      <th>Y</th>\n",
              "    </tr>\n",
              "  </thead>\n",
              "  <tbody>\n",
              "    <tr>\n",
              "      <th>0</th>\n",
              "      <td>0.568357</td>\n",
              "      <td>69.409067</td>\n",
              "      <td>69.618939</td>\n",
              "      <td>0</td>\n",
              "      <td>72.000000</td>\n",
              "    </tr>\n",
              "    <tr>\n",
              "      <th>1</th>\n",
              "      <td>0.523014</td>\n",
              "      <td>71.191488</td>\n",
              "      <td>71.832179</td>\n",
              "      <td>0</td>\n",
              "      <td>73.333336</td>\n",
              "    </tr>\n",
              "    <tr>\n",
              "      <th>2</th>\n",
              "      <td>0.535634</td>\n",
              "      <td>71.079421</td>\n",
              "      <td>71.722667</td>\n",
              "      <td>0</td>\n",
              "      <td>74.333336</td>\n",
              "    </tr>\n",
              "    <tr>\n",
              "      <th>3</th>\n",
              "      <td>0.516596</td>\n",
              "      <td>71.014851</td>\n",
              "      <td>71.658097</td>\n",
              "      <td>0</td>\n",
              "      <td>71.333336</td>\n",
              "    </tr>\n",
              "    <tr>\n",
              "      <th>4</th>\n",
              "      <td>0.601872</td>\n",
              "      <td>67.375813</td>\n",
              "      <td>68.233413</td>\n",
              "      <td>0</td>\n",
              "      <td>83.333336</td>\n",
              "    </tr>\n",
              "  </tbody>\n",
              "</table>\n",
              "</div>\n",
              "      <button class=\"colab-df-convert\" onclick=\"convertToInteractive('df-e9519651-9a3f-41b4-a250-82e477499b8d')\"\n",
              "              title=\"Convert this dataframe to an interactive table.\"\n",
              "              style=\"display:none;\">\n",
              "        \n",
              "  <svg xmlns=\"http://www.w3.org/2000/svg\" height=\"24px\"viewBox=\"0 0 24 24\"\n",
              "       width=\"24px\">\n",
              "    <path d=\"M0 0h24v24H0V0z\" fill=\"none\"/>\n",
              "    <path d=\"M18.56 5.44l.94 2.06.94-2.06 2.06-.94-2.06-.94-.94-2.06-.94 2.06-2.06.94zm-11 1L8.5 8.5l.94-2.06 2.06-.94-2.06-.94L8.5 2.5l-.94 2.06-2.06.94zm10 10l.94 2.06.94-2.06 2.06-.94-2.06-.94-.94-2.06-.94 2.06-2.06.94z\"/><path d=\"M17.41 7.96l-1.37-1.37c-.4-.4-.92-.59-1.43-.59-.52 0-1.04.2-1.43.59L10.3 9.45l-7.72 7.72c-.78.78-.78 2.05 0 2.83L4 21.41c.39.39.9.59 1.41.59.51 0 1.02-.2 1.41-.59l7.78-7.78 2.81-2.81c.8-.78.8-2.07 0-2.86zM5.41 20L4 18.59l7.72-7.72 1.47 1.35L5.41 20z\"/>\n",
              "  </svg>\n",
              "      </button>\n",
              "      \n",
              "  <style>\n",
              "    .colab-df-container {\n",
              "      display:flex;\n",
              "      flex-wrap:wrap;\n",
              "      gap: 12px;\n",
              "    }\n",
              "\n",
              "    .colab-df-convert {\n",
              "      background-color: #E8F0FE;\n",
              "      border: none;\n",
              "      border-radius: 50%;\n",
              "      cursor: pointer;\n",
              "      display: none;\n",
              "      fill: #1967D2;\n",
              "      height: 32px;\n",
              "      padding: 0 0 0 0;\n",
              "      width: 32px;\n",
              "    }\n",
              "\n",
              "    .colab-df-convert:hover {\n",
              "      background-color: #E2EBFA;\n",
              "      box-shadow: 0px 1px 2px rgba(60, 64, 67, 0.3), 0px 1px 3px 1px rgba(60, 64, 67, 0.15);\n",
              "      fill: #174EA6;\n",
              "    }\n",
              "\n",
              "    [theme=dark] .colab-df-convert {\n",
              "      background-color: #3B4455;\n",
              "      fill: #D2E3FC;\n",
              "    }\n",
              "\n",
              "    [theme=dark] .colab-df-convert:hover {\n",
              "      background-color: #434B5C;\n",
              "      box-shadow: 0px 1px 3px 1px rgba(0, 0, 0, 0.15);\n",
              "      filter: drop-shadow(0px 1px 2px rgba(0, 0, 0, 0.3));\n",
              "      fill: #FFFFFF;\n",
              "    }\n",
              "  </style>\n",
              "\n",
              "      <script>\n",
              "        const buttonEl =\n",
              "          document.querySelector('#df-e9519651-9a3f-41b4-a250-82e477499b8d button.colab-df-convert');\n",
              "        buttonEl.style.display =\n",
              "          google.colab.kernel.accessAllowed ? 'block' : 'none';\n",
              "\n",
              "        async function convertToInteractive(key) {\n",
              "          const element = document.querySelector('#df-e9519651-9a3f-41b4-a250-82e477499b8d');\n",
              "          const dataTable =\n",
              "            await google.colab.kernel.invokeFunction('convertToInteractive',\n",
              "                                                     [key], {});\n",
              "          if (!dataTable) return;\n",
              "\n",
              "          const docLinkHtml = 'Like what you see? Visit the ' +\n",
              "            '<a target=\"_blank\" href=https://colab.research.google.com/notebooks/data_table.ipynb>data table notebook</a>'\n",
              "            + ' to learn more about interactive tables.';\n",
              "          element.innerHTML = '';\n",
              "          dataTable['output_type'] = 'display_data';\n",
              "          await google.colab.output.renderOutput(dataTable, element);\n",
              "          const docLink = document.createElement('div');\n",
              "          docLink.innerHTML = docLinkHtml;\n",
              "          element.appendChild(docLink);\n",
              "        }\n",
              "      </script>\n",
              "    </div>\n",
              "  </div>\n",
              "  "
            ]
          },
          "metadata": {},
          "execution_count": 348
        }
      ]
    },
    {
      "cell_type": "code",
      "source": [
        "tau_hat_LR_P, std_hat_LR_P = att_aiptw(**data_and_nuisance_estimates_LR_P)\n",
        "print(f\"The estimate using Logistic Regression is {tau_hat_LR_P} pm {1.96*std_hat_LR_P}\")"
      ],
      "metadata": {
        "colab": {
          "base_uri": "https://localhost:8080/"
        },
        "outputId": "261d4958-b74c-42a7-e8ae-8378c3a59814",
        "id": "IhhHLesv7wBH"
      },
      "execution_count": 349,
      "outputs": [
        {
          "output_type": "stream",
          "name": "stdout",
          "text": [
            "The estimate using Logistic Regression is 0.489495594654987 pm 1.8259466459350011\n"
          ]
        }
      ]
    },
    {
      "cell_type": "markdown",
      "source": [
        "### Calculate Total Effect using XGBoost"
      ],
      "metadata": {
        "id": "2Md2KPRV7wBI"
      }
    },
    {
      "cell_type": "code",
      "source": [
        "Q0_XG_P,Q1_XG_P = outcome_k_fold_fit_and_predict(make_Qmodel_XGBoost, \n",
        "                                             X=confounders_without_Mediator, y=outcome, \n",
        "                                             A=placebo, n_splits=10, output_type=\"continuous\")"
      ],
      "metadata": {
        "id": "ZA4mAGK37wBI"
      },
      "execution_count": 307,
      "outputs": []
    },
    {
      "cell_type": "code",
      "source": [
        "data_and_nuisance_estimates_XG_P = pd.DataFrame({'g': g3_P, 'Q0': Q0_XG_P, 'Q1': Q1_XG_P, 'A': placebo, 'Y': outcome})\n",
        "data_and_nuisance_estimates_XG_P = exclude_moderate(data_and_nuisance_estimates_XG_P)\n",
        "data_and_nuisance_estimates_XG_P.head()"
      ],
      "metadata": {
        "colab": {
          "base_uri": "https://localhost:8080/",
          "height": 206
        },
        "outputId": "660d8bf4-1673-4d70-bcab-dd2c4cd46e5f",
        "id": "Llg2fyLz7wBI"
      },
      "execution_count": 350,
      "outputs": [
        {
          "output_type": "execute_result",
          "data": {
            "text/plain": [
              "          g         Q0         Q1  A          Y\n",
              "0  0.425523  70.126801  74.089684  0  72.000000\n",
              "1  0.532893  69.813889  69.862900  0  73.333336\n",
              "2  0.530421  73.734901  73.343521  0  74.333336\n",
              "3  0.538896  74.698303  74.618530  0  71.333336\n",
              "4  0.510170  70.006950  70.087860  0  83.333336"
            ],
            "text/html": [
              "\n",
              "  <div id=\"df-12decd8c-6ea2-4019-96bf-64dadf1fa4e7\">\n",
              "    <div class=\"colab-df-container\">\n",
              "      <div>\n",
              "<style scoped>\n",
              "    .dataframe tbody tr th:only-of-type {\n",
              "        vertical-align: middle;\n",
              "    }\n",
              "\n",
              "    .dataframe tbody tr th {\n",
              "        vertical-align: top;\n",
              "    }\n",
              "\n",
              "    .dataframe thead th {\n",
              "        text-align: right;\n",
              "    }\n",
              "</style>\n",
              "<table border=\"1\" class=\"dataframe\">\n",
              "  <thead>\n",
              "    <tr style=\"text-align: right;\">\n",
              "      <th></th>\n",
              "      <th>g</th>\n",
              "      <th>Q0</th>\n",
              "      <th>Q1</th>\n",
              "      <th>A</th>\n",
              "      <th>Y</th>\n",
              "    </tr>\n",
              "  </thead>\n",
              "  <tbody>\n",
              "    <tr>\n",
              "      <th>0</th>\n",
              "      <td>0.425523</td>\n",
              "      <td>70.126801</td>\n",
              "      <td>74.089684</td>\n",
              "      <td>0</td>\n",
              "      <td>72.000000</td>\n",
              "    </tr>\n",
              "    <tr>\n",
              "      <th>1</th>\n",
              "      <td>0.532893</td>\n",
              "      <td>69.813889</td>\n",
              "      <td>69.862900</td>\n",
              "      <td>0</td>\n",
              "      <td>73.333336</td>\n",
              "    </tr>\n",
              "    <tr>\n",
              "      <th>2</th>\n",
              "      <td>0.530421</td>\n",
              "      <td>73.734901</td>\n",
              "      <td>73.343521</td>\n",
              "      <td>0</td>\n",
              "      <td>74.333336</td>\n",
              "    </tr>\n",
              "    <tr>\n",
              "      <th>3</th>\n",
              "      <td>0.538896</td>\n",
              "      <td>74.698303</td>\n",
              "      <td>74.618530</td>\n",
              "      <td>0</td>\n",
              "      <td>71.333336</td>\n",
              "    </tr>\n",
              "    <tr>\n",
              "      <th>4</th>\n",
              "      <td>0.510170</td>\n",
              "      <td>70.006950</td>\n",
              "      <td>70.087860</td>\n",
              "      <td>0</td>\n",
              "      <td>83.333336</td>\n",
              "    </tr>\n",
              "  </tbody>\n",
              "</table>\n",
              "</div>\n",
              "      <button class=\"colab-df-convert\" onclick=\"convertToInteractive('df-12decd8c-6ea2-4019-96bf-64dadf1fa4e7')\"\n",
              "              title=\"Convert this dataframe to an interactive table.\"\n",
              "              style=\"display:none;\">\n",
              "        \n",
              "  <svg xmlns=\"http://www.w3.org/2000/svg\" height=\"24px\"viewBox=\"0 0 24 24\"\n",
              "       width=\"24px\">\n",
              "    <path d=\"M0 0h24v24H0V0z\" fill=\"none\"/>\n",
              "    <path d=\"M18.56 5.44l.94 2.06.94-2.06 2.06-.94-2.06-.94-.94-2.06-.94 2.06-2.06.94zm-11 1L8.5 8.5l.94-2.06 2.06-.94-2.06-.94L8.5 2.5l-.94 2.06-2.06.94zm10 10l.94 2.06.94-2.06 2.06-.94-2.06-.94-.94-2.06-.94 2.06-2.06.94z\"/><path d=\"M17.41 7.96l-1.37-1.37c-.4-.4-.92-.59-1.43-.59-.52 0-1.04.2-1.43.59L10.3 9.45l-7.72 7.72c-.78.78-.78 2.05 0 2.83L4 21.41c.39.39.9.59 1.41.59.51 0 1.02-.2 1.41-.59l7.78-7.78 2.81-2.81c.8-.78.8-2.07 0-2.86zM5.41 20L4 18.59l7.72-7.72 1.47 1.35L5.41 20z\"/>\n",
              "  </svg>\n",
              "      </button>\n",
              "      \n",
              "  <style>\n",
              "    .colab-df-container {\n",
              "      display:flex;\n",
              "      flex-wrap:wrap;\n",
              "      gap: 12px;\n",
              "    }\n",
              "\n",
              "    .colab-df-convert {\n",
              "      background-color: #E8F0FE;\n",
              "      border: none;\n",
              "      border-radius: 50%;\n",
              "      cursor: pointer;\n",
              "      display: none;\n",
              "      fill: #1967D2;\n",
              "      height: 32px;\n",
              "      padding: 0 0 0 0;\n",
              "      width: 32px;\n",
              "    }\n",
              "\n",
              "    .colab-df-convert:hover {\n",
              "      background-color: #E2EBFA;\n",
              "      box-shadow: 0px 1px 2px rgba(60, 64, 67, 0.3), 0px 1px 3px 1px rgba(60, 64, 67, 0.15);\n",
              "      fill: #174EA6;\n",
              "    }\n",
              "\n",
              "    [theme=dark] .colab-df-convert {\n",
              "      background-color: #3B4455;\n",
              "      fill: #D2E3FC;\n",
              "    }\n",
              "\n",
              "    [theme=dark] .colab-df-convert:hover {\n",
              "      background-color: #434B5C;\n",
              "      box-shadow: 0px 1px 3px 1px rgba(0, 0, 0, 0.15);\n",
              "      filter: drop-shadow(0px 1px 2px rgba(0, 0, 0, 0.3));\n",
              "      fill: #FFFFFF;\n",
              "    }\n",
              "  </style>\n",
              "\n",
              "      <script>\n",
              "        const buttonEl =\n",
              "          document.querySelector('#df-12decd8c-6ea2-4019-96bf-64dadf1fa4e7 button.colab-df-convert');\n",
              "        buttonEl.style.display =\n",
              "          google.colab.kernel.accessAllowed ? 'block' : 'none';\n",
              "\n",
              "        async function convertToInteractive(key) {\n",
              "          const element = document.querySelector('#df-12decd8c-6ea2-4019-96bf-64dadf1fa4e7');\n",
              "          const dataTable =\n",
              "            await google.colab.kernel.invokeFunction('convertToInteractive',\n",
              "                                                     [key], {});\n",
              "          if (!dataTable) return;\n",
              "\n",
              "          const docLinkHtml = 'Like what you see? Visit the ' +\n",
              "            '<a target=\"_blank\" href=https://colab.research.google.com/notebooks/data_table.ipynb>data table notebook</a>'\n",
              "            + ' to learn more about interactive tables.';\n",
              "          element.innerHTML = '';\n",
              "          dataTable['output_type'] = 'display_data';\n",
              "          await google.colab.output.renderOutput(dataTable, element);\n",
              "          const docLink = document.createElement('div');\n",
              "          docLink.innerHTML = docLinkHtml;\n",
              "          element.appendChild(docLink);\n",
              "        }\n",
              "      </script>\n",
              "    </div>\n",
              "  </div>\n",
              "  "
            ]
          },
          "metadata": {},
          "execution_count": 350
        }
      ]
    },
    {
      "cell_type": "code",
      "source": [
        "tau_hat_XG_P, std_hat_XG_P = att_aiptw(**data_and_nuisance_estimates_XG_P)\n",
        "print(f\"The estimate using XGBoost is {tau_hat_XG_P} pm {1.96*std_hat_XG_P}\")"
      ],
      "metadata": {
        "colab": {
          "base_uri": "https://localhost:8080/"
        },
        "outputId": "87d74c2d-f84d-47e7-ec91-dfc416d2bbf0",
        "id": "czW8cvpw7wBJ"
      },
      "execution_count": 351,
      "outputs": [
        {
          "output_type": "stream",
          "name": "stdout",
          "text": [
            "The estimate using XGBoost is 0.20439629716561802 pm 1.8807370572537885\n"
          ]
        }
      ]
    },
    {
      "cell_type": "markdown",
      "source": [
        "# The table of results"
      ],
      "metadata": {
        "id": "XDCavsMVGuMd"
      }
    },
    {
      "cell_type": "code",
      "source": [
        "NDE_table = [['Outcome','Type of causal effect','Mediator excluded', 'Model', 'Estimate','p/m', 'Standard Error'], \n",
        "         ['Fall_grade','Natural Direct Effect', 'Study Hours', 'RandomForest',tau_hat_RFSH,1.96*std_hat_RFSH, std_hat_RFSH], \n",
        "         ['Fall_grade','Natural Direct Effect', 'Study Hours', 'Logistic Regression',tau_hat_LRSH,1.96*std_hat_LRSH,std_hat_LRSH],\n",
        "         ['Fall_grade','Natural Direct Effect', 'Study Hours', 'XGBoost',tau_hat_XGSH,1.96*std_hat_XGSH,std_hat_XGSH],\n",
        "         ['Fall_grade','Natural Direct Effect', 'Study Habits', 'RandomForest',tau_hat_RFSB,1.96*std_hat_RFSB,std_hat_RFSB], \n",
        "         ['Fall_grade','Natural Direct Effect', 'Study Habits', 'Logistic Regression',tau_hat_LRSB,1.96*std_hat_LRSB,std_hat_LRSB],\n",
        "         ['Fall_grade','Natural Direct Effect', 'Study Habits', 'XGBoost',tau_hat_XGSB,1.96*std_hat_XGSB,std_hat_XGSB],\n",
        "         ['Fall_grade','Natural Direct Effect', 'Study Hours and Study Habits', 'RandomForest',tau_hat_RF,1.96*std_hat_RF,std_hat_RF], \n",
        "         ['Fall_grade','Natural Direct Effect', 'Study Hours and Study Habits', 'Logistic Regression',tau_hat_LR,1.96*std_hat_LR,std_hat_LR],\n",
        "         ['Fall_grade','Natural Direct Effect', 'Study Hours and Study Habits', 'XGBoost',tau_hat_XGB,1.96*std_hat_XGB,std_hat_XGB]]"
      ],
      "metadata": {
        "id": "l6l7o2unG0t4"
      },
      "execution_count": 310,
      "outputs": []
    },
    {
      "cell_type": "code",
      "source": [
        "TE_table = [['Outcome','Type of causal effect', 'Model', 'Estimate','p/m', 'Standard Error'],\n",
        "            ['Fall_grade','Total Effect', 'RandomForest',tau_hat_RFTE,1.96*std_hat_RFTE, std_hat_RFTE], \n",
        "            ['Fall_grade','Total Effect', 'Logistic Regression',tau_hat_LRTE,1.96*std_hat_LRTE, std_hat_LRTE],\n",
        "            ['Fall_grade','Total Effect', 'XGBoost',tau_hat_XGTE,1.96*std_hat_XGTE, std_hat_XGTE]]"
      ],
      "metadata": {
        "id": "h8Q9CqAdMY5k"
      },
      "execution_count": 311,
      "outputs": []
    },
    {
      "cell_type": "code",
      "source": [
        "Plb_table = [['Outcome','Type of causal effect', 'Model', 'Estimate','p/m', 'Standard Error'],\n",
        "                 ['Fall_grade','Placebo Effect on Agreealeness', 'RandomForest',tau_hat_RF_P,1.96*std_hat_RF_P,std_hat_RF_P], \n",
        "                 ['Fall_grade','Placebo Effect on Agreealeness', 'Logistic Regression',tau_hat_LR_P,1.96*std_hat_LR_P,std_hat_LR_P],\n",
        "                 ['Fall_grade','Placebo Effect on Agreealeness', 'XGBoost',tau_hat_XG_P,1.96*std_hat_XG_P,std_hat_XG_P]]"
      ],
      "metadata": {
        "id": "pHDetKfeMdzM"
      },
      "execution_count": 312,
      "outputs": []
    },
    {
      "cell_type": "code",
      "source": [
        "df_NDE = pd.DataFrame(NDE_table)\n",
        "df_NDE.columns = df_NDE.iloc[0]\n",
        "df_NDE = df_NDE[1:]\n",
        "df_NDE"
      ],
      "metadata": {
        "colab": {
          "base_uri": "https://localhost:8080/",
          "height": 567
        },
        "id": "pz02hMA-KYyy",
        "outputId": "2cd7a376-6d3b-4bd9-ca01-6e0d8f30ed94"
      },
      "execution_count": 313,
      "outputs": [
        {
          "output_type": "execute_result",
          "data": {
            "text/plain": [
              "0     Outcome  Type of causal effect             Mediator excluded  \\\n",
              "1  Fall_grade  Natural Direct Effect                   Study Hours   \n",
              "2  Fall_grade  Natural Direct Effect                   Study Hours   \n",
              "3  Fall_grade  Natural Direct Effect                   Study Hours   \n",
              "4  Fall_grade  Natural Direct Effect                  Study Habits   \n",
              "5  Fall_grade  Natural Direct Effect                  Study Habits   \n",
              "6  Fall_grade  Natural Direct Effect                  Study Habits   \n",
              "7  Fall_grade  Natural Direct Effect  Study Hours and Study Habits   \n",
              "8  Fall_grade  Natural Direct Effect  Study Hours and Study Habits   \n",
              "9  Fall_grade  Natural Direct Effect  Study Hours and Study Habits   \n",
              "\n",
              "0                Model  Estimate       p/m Standard Error  \n",
              "1         RandomForest -2.817734  1.601709       0.817198  \n",
              "2  Logistic Regression -1.914095  1.444731       0.737108  \n",
              "3              XGBoost   -3.6351   1.95993       0.999964  \n",
              "4         RandomForest -3.035125  1.680529       0.857413  \n",
              "5  Logistic Regression -2.057644  1.460598       0.745203  \n",
              "6              XGBoost -2.702034  1.938659       0.989112  \n",
              "7         RandomForest -2.755246   1.66676       0.850388  \n",
              "8  Logistic Regression -1.968769  1.466452        0.74819  \n",
              "9              XGBoost -3.566386  2.031111       1.036281  "
            ],
            "text/html": [
              "\n",
              "  <div id=\"df-bde7fb38-63b3-47cd-a95d-d1cd4cf0028f\">\n",
              "    <div class=\"colab-df-container\">\n",
              "      <div>\n",
              "<style scoped>\n",
              "    .dataframe tbody tr th:only-of-type {\n",
              "        vertical-align: middle;\n",
              "    }\n",
              "\n",
              "    .dataframe tbody tr th {\n",
              "        vertical-align: top;\n",
              "    }\n",
              "\n",
              "    .dataframe thead th {\n",
              "        text-align: right;\n",
              "    }\n",
              "</style>\n",
              "<table border=\"1\" class=\"dataframe\">\n",
              "  <thead>\n",
              "    <tr style=\"text-align: right;\">\n",
              "      <th></th>\n",
              "      <th>Outcome</th>\n",
              "      <th>Type of causal effect</th>\n",
              "      <th>Mediator excluded</th>\n",
              "      <th>Model</th>\n",
              "      <th>Estimate</th>\n",
              "      <th>p/m</th>\n",
              "      <th>Standard Error</th>\n",
              "    </tr>\n",
              "  </thead>\n",
              "  <tbody>\n",
              "    <tr>\n",
              "      <th>1</th>\n",
              "      <td>Fall_grade</td>\n",
              "      <td>Natural Direct Effect</td>\n",
              "      <td>Study Hours</td>\n",
              "      <td>RandomForest</td>\n",
              "      <td>-2.817734</td>\n",
              "      <td>1.601709</td>\n",
              "      <td>0.817198</td>\n",
              "    </tr>\n",
              "    <tr>\n",
              "      <th>2</th>\n",
              "      <td>Fall_grade</td>\n",
              "      <td>Natural Direct Effect</td>\n",
              "      <td>Study Hours</td>\n",
              "      <td>Logistic Regression</td>\n",
              "      <td>-1.914095</td>\n",
              "      <td>1.444731</td>\n",
              "      <td>0.737108</td>\n",
              "    </tr>\n",
              "    <tr>\n",
              "      <th>3</th>\n",
              "      <td>Fall_grade</td>\n",
              "      <td>Natural Direct Effect</td>\n",
              "      <td>Study Hours</td>\n",
              "      <td>XGBoost</td>\n",
              "      <td>-3.6351</td>\n",
              "      <td>1.95993</td>\n",
              "      <td>0.999964</td>\n",
              "    </tr>\n",
              "    <tr>\n",
              "      <th>4</th>\n",
              "      <td>Fall_grade</td>\n",
              "      <td>Natural Direct Effect</td>\n",
              "      <td>Study Habits</td>\n",
              "      <td>RandomForest</td>\n",
              "      <td>-3.035125</td>\n",
              "      <td>1.680529</td>\n",
              "      <td>0.857413</td>\n",
              "    </tr>\n",
              "    <tr>\n",
              "      <th>5</th>\n",
              "      <td>Fall_grade</td>\n",
              "      <td>Natural Direct Effect</td>\n",
              "      <td>Study Habits</td>\n",
              "      <td>Logistic Regression</td>\n",
              "      <td>-2.057644</td>\n",
              "      <td>1.460598</td>\n",
              "      <td>0.745203</td>\n",
              "    </tr>\n",
              "    <tr>\n",
              "      <th>6</th>\n",
              "      <td>Fall_grade</td>\n",
              "      <td>Natural Direct Effect</td>\n",
              "      <td>Study Habits</td>\n",
              "      <td>XGBoost</td>\n",
              "      <td>-2.702034</td>\n",
              "      <td>1.938659</td>\n",
              "      <td>0.989112</td>\n",
              "    </tr>\n",
              "    <tr>\n",
              "      <th>7</th>\n",
              "      <td>Fall_grade</td>\n",
              "      <td>Natural Direct Effect</td>\n",
              "      <td>Study Hours and Study Habits</td>\n",
              "      <td>RandomForest</td>\n",
              "      <td>-2.755246</td>\n",
              "      <td>1.66676</td>\n",
              "      <td>0.850388</td>\n",
              "    </tr>\n",
              "    <tr>\n",
              "      <th>8</th>\n",
              "      <td>Fall_grade</td>\n",
              "      <td>Natural Direct Effect</td>\n",
              "      <td>Study Hours and Study Habits</td>\n",
              "      <td>Logistic Regression</td>\n",
              "      <td>-1.968769</td>\n",
              "      <td>1.466452</td>\n",
              "      <td>0.74819</td>\n",
              "    </tr>\n",
              "    <tr>\n",
              "      <th>9</th>\n",
              "      <td>Fall_grade</td>\n",
              "      <td>Natural Direct Effect</td>\n",
              "      <td>Study Hours and Study Habits</td>\n",
              "      <td>XGBoost</td>\n",
              "      <td>-3.566386</td>\n",
              "      <td>2.031111</td>\n",
              "      <td>1.036281</td>\n",
              "    </tr>\n",
              "  </tbody>\n",
              "</table>\n",
              "</div>\n",
              "      <button class=\"colab-df-convert\" onclick=\"convertToInteractive('df-bde7fb38-63b3-47cd-a95d-d1cd4cf0028f')\"\n",
              "              title=\"Convert this dataframe to an interactive table.\"\n",
              "              style=\"display:none;\">\n",
              "        \n",
              "  <svg xmlns=\"http://www.w3.org/2000/svg\" height=\"24px\"viewBox=\"0 0 24 24\"\n",
              "       width=\"24px\">\n",
              "    <path d=\"M0 0h24v24H0V0z\" fill=\"none\"/>\n",
              "    <path d=\"M18.56 5.44l.94 2.06.94-2.06 2.06-.94-2.06-.94-.94-2.06-.94 2.06-2.06.94zm-11 1L8.5 8.5l.94-2.06 2.06-.94-2.06-.94L8.5 2.5l-.94 2.06-2.06.94zm10 10l.94 2.06.94-2.06 2.06-.94-2.06-.94-.94-2.06-.94 2.06-2.06.94z\"/><path d=\"M17.41 7.96l-1.37-1.37c-.4-.4-.92-.59-1.43-.59-.52 0-1.04.2-1.43.59L10.3 9.45l-7.72 7.72c-.78.78-.78 2.05 0 2.83L4 21.41c.39.39.9.59 1.41.59.51 0 1.02-.2 1.41-.59l7.78-7.78 2.81-2.81c.8-.78.8-2.07 0-2.86zM5.41 20L4 18.59l7.72-7.72 1.47 1.35L5.41 20z\"/>\n",
              "  </svg>\n",
              "      </button>\n",
              "      \n",
              "  <style>\n",
              "    .colab-df-container {\n",
              "      display:flex;\n",
              "      flex-wrap:wrap;\n",
              "      gap: 12px;\n",
              "    }\n",
              "\n",
              "    .colab-df-convert {\n",
              "      background-color: #E8F0FE;\n",
              "      border: none;\n",
              "      border-radius: 50%;\n",
              "      cursor: pointer;\n",
              "      display: none;\n",
              "      fill: #1967D2;\n",
              "      height: 32px;\n",
              "      padding: 0 0 0 0;\n",
              "      width: 32px;\n",
              "    }\n",
              "\n",
              "    .colab-df-convert:hover {\n",
              "      background-color: #E2EBFA;\n",
              "      box-shadow: 0px 1px 2px rgba(60, 64, 67, 0.3), 0px 1px 3px 1px rgba(60, 64, 67, 0.15);\n",
              "      fill: #174EA6;\n",
              "    }\n",
              "\n",
              "    [theme=dark] .colab-df-convert {\n",
              "      background-color: #3B4455;\n",
              "      fill: #D2E3FC;\n",
              "    }\n",
              "\n",
              "    [theme=dark] .colab-df-convert:hover {\n",
              "      background-color: #434B5C;\n",
              "      box-shadow: 0px 1px 3px 1px rgba(0, 0, 0, 0.15);\n",
              "      filter: drop-shadow(0px 1px 2px rgba(0, 0, 0, 0.3));\n",
              "      fill: #FFFFFF;\n",
              "    }\n",
              "  </style>\n",
              "\n",
              "      <script>\n",
              "        const buttonEl =\n",
              "          document.querySelector('#df-bde7fb38-63b3-47cd-a95d-d1cd4cf0028f button.colab-df-convert');\n",
              "        buttonEl.style.display =\n",
              "          google.colab.kernel.accessAllowed ? 'block' : 'none';\n",
              "\n",
              "        async function convertToInteractive(key) {\n",
              "          const element = document.querySelector('#df-bde7fb38-63b3-47cd-a95d-d1cd4cf0028f');\n",
              "          const dataTable =\n",
              "            await google.colab.kernel.invokeFunction('convertToInteractive',\n",
              "                                                     [key], {});\n",
              "          if (!dataTable) return;\n",
              "\n",
              "          const docLinkHtml = 'Like what you see? Visit the ' +\n",
              "            '<a target=\"_blank\" href=https://colab.research.google.com/notebooks/data_table.ipynb>data table notebook</a>'\n",
              "            + ' to learn more about interactive tables.';\n",
              "          element.innerHTML = '';\n",
              "          dataTable['output_type'] = 'display_data';\n",
              "          await google.colab.output.renderOutput(dataTable, element);\n",
              "          const docLink = document.createElement('div');\n",
              "          docLink.innerHTML = docLinkHtml;\n",
              "          element.appendChild(docLink);\n",
              "        }\n",
              "      </script>\n",
              "    </div>\n",
              "  </div>\n",
              "  "
            ]
          },
          "metadata": {},
          "execution_count": 313
        }
      ]
    },
    {
      "cell_type": "code",
      "source": [
        "df_TE = pd.DataFrame(TE_table)\n",
        "df_TE.columns = df_TE.iloc[0]\n",
        "df_TE = df_TE[1:]\n",
        "df_TE"
      ],
      "metadata": {
        "colab": {
          "base_uri": "https://localhost:8080/",
          "height": 187
        },
        "id": "HaA34SDbNFO3",
        "outputId": "9c8218a1-22ba-430c-d8d3-5f29c663f405"
      },
      "execution_count": 314,
      "outputs": [
        {
          "output_type": "execute_result",
          "data": {
            "text/plain": [
              "0     Outcome Type of causal effect                Model  Estimate       p/m  \\\n",
              "1  Fall_grade          Total Effect         RandomForest -1.700098  2.126979   \n",
              "2  Fall_grade          Total Effect  Logistic Regression -2.092462  1.467496   \n",
              "3  Fall_grade          Total Effect              XGBoost  -2.06549  1.600395   \n",
              "\n",
              "0 Standard Error  \n",
              "1       1.085193  \n",
              "2       0.748723  \n",
              "3       0.816528  "
            ],
            "text/html": [
              "\n",
              "  <div id=\"df-a202adde-019a-4f07-b9fe-aeaf9bf00d52\">\n",
              "    <div class=\"colab-df-container\">\n",
              "      <div>\n",
              "<style scoped>\n",
              "    .dataframe tbody tr th:only-of-type {\n",
              "        vertical-align: middle;\n",
              "    }\n",
              "\n",
              "    .dataframe tbody tr th {\n",
              "        vertical-align: top;\n",
              "    }\n",
              "\n",
              "    .dataframe thead th {\n",
              "        text-align: right;\n",
              "    }\n",
              "</style>\n",
              "<table border=\"1\" class=\"dataframe\">\n",
              "  <thead>\n",
              "    <tr style=\"text-align: right;\">\n",
              "      <th></th>\n",
              "      <th>Outcome</th>\n",
              "      <th>Type of causal effect</th>\n",
              "      <th>Model</th>\n",
              "      <th>Estimate</th>\n",
              "      <th>p/m</th>\n",
              "      <th>Standard Error</th>\n",
              "    </tr>\n",
              "  </thead>\n",
              "  <tbody>\n",
              "    <tr>\n",
              "      <th>1</th>\n",
              "      <td>Fall_grade</td>\n",
              "      <td>Total Effect</td>\n",
              "      <td>RandomForest</td>\n",
              "      <td>-1.700098</td>\n",
              "      <td>2.126979</td>\n",
              "      <td>1.085193</td>\n",
              "    </tr>\n",
              "    <tr>\n",
              "      <th>2</th>\n",
              "      <td>Fall_grade</td>\n",
              "      <td>Total Effect</td>\n",
              "      <td>Logistic Regression</td>\n",
              "      <td>-2.092462</td>\n",
              "      <td>1.467496</td>\n",
              "      <td>0.748723</td>\n",
              "    </tr>\n",
              "    <tr>\n",
              "      <th>3</th>\n",
              "      <td>Fall_grade</td>\n",
              "      <td>Total Effect</td>\n",
              "      <td>XGBoost</td>\n",
              "      <td>-2.06549</td>\n",
              "      <td>1.600395</td>\n",
              "      <td>0.816528</td>\n",
              "    </tr>\n",
              "  </tbody>\n",
              "</table>\n",
              "</div>\n",
              "      <button class=\"colab-df-convert\" onclick=\"convertToInteractive('df-a202adde-019a-4f07-b9fe-aeaf9bf00d52')\"\n",
              "              title=\"Convert this dataframe to an interactive table.\"\n",
              "              style=\"display:none;\">\n",
              "        \n",
              "  <svg xmlns=\"http://www.w3.org/2000/svg\" height=\"24px\"viewBox=\"0 0 24 24\"\n",
              "       width=\"24px\">\n",
              "    <path d=\"M0 0h24v24H0V0z\" fill=\"none\"/>\n",
              "    <path d=\"M18.56 5.44l.94 2.06.94-2.06 2.06-.94-2.06-.94-.94-2.06-.94 2.06-2.06.94zm-11 1L8.5 8.5l.94-2.06 2.06-.94-2.06-.94L8.5 2.5l-.94 2.06-2.06.94zm10 10l.94 2.06.94-2.06 2.06-.94-2.06-.94-.94-2.06-.94 2.06-2.06.94z\"/><path d=\"M17.41 7.96l-1.37-1.37c-.4-.4-.92-.59-1.43-.59-.52 0-1.04.2-1.43.59L10.3 9.45l-7.72 7.72c-.78.78-.78 2.05 0 2.83L4 21.41c.39.39.9.59 1.41.59.51 0 1.02-.2 1.41-.59l7.78-7.78 2.81-2.81c.8-.78.8-2.07 0-2.86zM5.41 20L4 18.59l7.72-7.72 1.47 1.35L5.41 20z\"/>\n",
              "  </svg>\n",
              "      </button>\n",
              "      \n",
              "  <style>\n",
              "    .colab-df-container {\n",
              "      display:flex;\n",
              "      flex-wrap:wrap;\n",
              "      gap: 12px;\n",
              "    }\n",
              "\n",
              "    .colab-df-convert {\n",
              "      background-color: #E8F0FE;\n",
              "      border: none;\n",
              "      border-radius: 50%;\n",
              "      cursor: pointer;\n",
              "      display: none;\n",
              "      fill: #1967D2;\n",
              "      height: 32px;\n",
              "      padding: 0 0 0 0;\n",
              "      width: 32px;\n",
              "    }\n",
              "\n",
              "    .colab-df-convert:hover {\n",
              "      background-color: #E2EBFA;\n",
              "      box-shadow: 0px 1px 2px rgba(60, 64, 67, 0.3), 0px 1px 3px 1px rgba(60, 64, 67, 0.15);\n",
              "      fill: #174EA6;\n",
              "    }\n",
              "\n",
              "    [theme=dark] .colab-df-convert {\n",
              "      background-color: #3B4455;\n",
              "      fill: #D2E3FC;\n",
              "    }\n",
              "\n",
              "    [theme=dark] .colab-df-convert:hover {\n",
              "      background-color: #434B5C;\n",
              "      box-shadow: 0px 1px 3px 1px rgba(0, 0, 0, 0.15);\n",
              "      filter: drop-shadow(0px 1px 2px rgba(0, 0, 0, 0.3));\n",
              "      fill: #FFFFFF;\n",
              "    }\n",
              "  </style>\n",
              "\n",
              "      <script>\n",
              "        const buttonEl =\n",
              "          document.querySelector('#df-a202adde-019a-4f07-b9fe-aeaf9bf00d52 button.colab-df-convert');\n",
              "        buttonEl.style.display =\n",
              "          google.colab.kernel.accessAllowed ? 'block' : 'none';\n",
              "\n",
              "        async function convertToInteractive(key) {\n",
              "          const element = document.querySelector('#df-a202adde-019a-4f07-b9fe-aeaf9bf00d52');\n",
              "          const dataTable =\n",
              "            await google.colab.kernel.invokeFunction('convertToInteractive',\n",
              "                                                     [key], {});\n",
              "          if (!dataTable) return;\n",
              "\n",
              "          const docLinkHtml = 'Like what you see? Visit the ' +\n",
              "            '<a target=\"_blank\" href=https://colab.research.google.com/notebooks/data_table.ipynb>data table notebook</a>'\n",
              "            + ' to learn more about interactive tables.';\n",
              "          element.innerHTML = '';\n",
              "          dataTable['output_type'] = 'display_data';\n",
              "          await google.colab.output.renderOutput(dataTable, element);\n",
              "          const docLink = document.createElement('div');\n",
              "          docLink.innerHTML = docLinkHtml;\n",
              "          element.appendChild(docLink);\n",
              "        }\n",
              "      </script>\n",
              "    </div>\n",
              "  </div>\n",
              "  "
            ]
          },
          "metadata": {},
          "execution_count": 314
        }
      ]
    },
    {
      "cell_type": "code",
      "source": [
        "df_plb = pd.DataFrame(Plb_table)\n",
        "df_plb.columns = df_plb.iloc[0]\n",
        "df_plb = df_plb[1:]\n",
        "df_plb"
      ],
      "metadata": {
        "colab": {
          "base_uri": "https://localhost:8080/",
          "height": 257
        },
        "id": "TmjGF1wHNFbB",
        "outputId": "43e04200-4699-4e17-e24a-b16fc83945e5"
      },
      "execution_count": 315,
      "outputs": [
        {
          "output_type": "execute_result",
          "data": {
            "text/plain": [
              "0     Outcome           Type of causal effect                Model  Estimate  \\\n",
              "1  Fall_grade  Placebo Effect on Agreealeness         RandomForest -2.102725   \n",
              "2  Fall_grade  Placebo Effect on Agreealeness  Logistic Regression  0.431623   \n",
              "3  Fall_grade  Placebo Effect on Agreealeness              XGBoost  0.338733   \n",
              "\n",
              "0       p/m Standard Error  \n",
              "1   6.17833       3.152209  \n",
              "2  1.494617        0.76256  \n",
              "3  1.583212       0.807761  "
            ],
            "text/html": [
              "\n",
              "  <div id=\"df-3d8aa1f1-e301-4370-b79a-c850619b337b\">\n",
              "    <div class=\"colab-df-container\">\n",
              "      <div>\n",
              "<style scoped>\n",
              "    .dataframe tbody tr th:only-of-type {\n",
              "        vertical-align: middle;\n",
              "    }\n",
              "\n",
              "    .dataframe tbody tr th {\n",
              "        vertical-align: top;\n",
              "    }\n",
              "\n",
              "    .dataframe thead th {\n",
              "        text-align: right;\n",
              "    }\n",
              "</style>\n",
              "<table border=\"1\" class=\"dataframe\">\n",
              "  <thead>\n",
              "    <tr style=\"text-align: right;\">\n",
              "      <th></th>\n",
              "      <th>Outcome</th>\n",
              "      <th>Type of causal effect</th>\n",
              "      <th>Model</th>\n",
              "      <th>Estimate</th>\n",
              "      <th>p/m</th>\n",
              "      <th>Standard Error</th>\n",
              "    </tr>\n",
              "  </thead>\n",
              "  <tbody>\n",
              "    <tr>\n",
              "      <th>1</th>\n",
              "      <td>Fall_grade</td>\n",
              "      <td>Placebo Effect on Agreealeness</td>\n",
              "      <td>RandomForest</td>\n",
              "      <td>-2.102725</td>\n",
              "      <td>6.17833</td>\n",
              "      <td>3.152209</td>\n",
              "    </tr>\n",
              "    <tr>\n",
              "      <th>2</th>\n",
              "      <td>Fall_grade</td>\n",
              "      <td>Placebo Effect on Agreealeness</td>\n",
              "      <td>Logistic Regression</td>\n",
              "      <td>0.431623</td>\n",
              "      <td>1.494617</td>\n",
              "      <td>0.76256</td>\n",
              "    </tr>\n",
              "    <tr>\n",
              "      <th>3</th>\n",
              "      <td>Fall_grade</td>\n",
              "      <td>Placebo Effect on Agreealeness</td>\n",
              "      <td>XGBoost</td>\n",
              "      <td>0.338733</td>\n",
              "      <td>1.583212</td>\n",
              "      <td>0.807761</td>\n",
              "    </tr>\n",
              "  </tbody>\n",
              "</table>\n",
              "</div>\n",
              "      <button class=\"colab-df-convert\" onclick=\"convertToInteractive('df-3d8aa1f1-e301-4370-b79a-c850619b337b')\"\n",
              "              title=\"Convert this dataframe to an interactive table.\"\n",
              "              style=\"display:none;\">\n",
              "        \n",
              "  <svg xmlns=\"http://www.w3.org/2000/svg\" height=\"24px\"viewBox=\"0 0 24 24\"\n",
              "       width=\"24px\">\n",
              "    <path d=\"M0 0h24v24H0V0z\" fill=\"none\"/>\n",
              "    <path d=\"M18.56 5.44l.94 2.06.94-2.06 2.06-.94-2.06-.94-.94-2.06-.94 2.06-2.06.94zm-11 1L8.5 8.5l.94-2.06 2.06-.94-2.06-.94L8.5 2.5l-.94 2.06-2.06.94zm10 10l.94 2.06.94-2.06 2.06-.94-2.06-.94-.94-2.06-.94 2.06-2.06.94z\"/><path d=\"M17.41 7.96l-1.37-1.37c-.4-.4-.92-.59-1.43-.59-.52 0-1.04.2-1.43.59L10.3 9.45l-7.72 7.72c-.78.78-.78 2.05 0 2.83L4 21.41c.39.39.9.59 1.41.59.51 0 1.02-.2 1.41-.59l7.78-7.78 2.81-2.81c.8-.78.8-2.07 0-2.86zM5.41 20L4 18.59l7.72-7.72 1.47 1.35L5.41 20z\"/>\n",
              "  </svg>\n",
              "      </button>\n",
              "      \n",
              "  <style>\n",
              "    .colab-df-container {\n",
              "      display:flex;\n",
              "      flex-wrap:wrap;\n",
              "      gap: 12px;\n",
              "    }\n",
              "\n",
              "    .colab-df-convert {\n",
              "      background-color: #E8F0FE;\n",
              "      border: none;\n",
              "      border-radius: 50%;\n",
              "      cursor: pointer;\n",
              "      display: none;\n",
              "      fill: #1967D2;\n",
              "      height: 32px;\n",
              "      padding: 0 0 0 0;\n",
              "      width: 32px;\n",
              "    }\n",
              "\n",
              "    .colab-df-convert:hover {\n",
              "      background-color: #E2EBFA;\n",
              "      box-shadow: 0px 1px 2px rgba(60, 64, 67, 0.3), 0px 1px 3px 1px rgba(60, 64, 67, 0.15);\n",
              "      fill: #174EA6;\n",
              "    }\n",
              "\n",
              "    [theme=dark] .colab-df-convert {\n",
              "      background-color: #3B4455;\n",
              "      fill: #D2E3FC;\n",
              "    }\n",
              "\n",
              "    [theme=dark] .colab-df-convert:hover {\n",
              "      background-color: #434B5C;\n",
              "      box-shadow: 0px 1px 3px 1px rgba(0, 0, 0, 0.15);\n",
              "      filter: drop-shadow(0px 1px 2px rgba(0, 0, 0, 0.3));\n",
              "      fill: #FFFFFF;\n",
              "    }\n",
              "  </style>\n",
              "\n",
              "      <script>\n",
              "        const buttonEl =\n",
              "          document.querySelector('#df-3d8aa1f1-e301-4370-b79a-c850619b337b button.colab-df-convert');\n",
              "        buttonEl.style.display =\n",
              "          google.colab.kernel.accessAllowed ? 'block' : 'none';\n",
              "\n",
              "        async function convertToInteractive(key) {\n",
              "          const element = document.querySelector('#df-3d8aa1f1-e301-4370-b79a-c850619b337b');\n",
              "          const dataTable =\n",
              "            await google.colab.kernel.invokeFunction('convertToInteractive',\n",
              "                                                     [key], {});\n",
              "          if (!dataTable) return;\n",
              "\n",
              "          const docLinkHtml = 'Like what you see? Visit the ' +\n",
              "            '<a target=\"_blank\" href=https://colab.research.google.com/notebooks/data_table.ipynb>data table notebook</a>'\n",
              "            + ' to learn more about interactive tables.';\n",
              "          element.innerHTML = '';\n",
              "          dataTable['output_type'] = 'display_data';\n",
              "          await google.colab.output.renderOutput(dataTable, element);\n",
              "          const docLink = document.createElement('div');\n",
              "          docLink.innerHTML = docLinkHtml;\n",
              "          element.appendChild(docLink);\n",
              "        }\n",
              "      </script>\n",
              "    </div>\n",
              "  </div>\n",
              "  "
            ]
          },
          "metadata": {},
          "execution_count": 315
        }
      ]
    },
    {
      "cell_type": "markdown",
      "source": [
        "### Table of Sanity checks results "
      ],
      "metadata": {
        "id": "mswUpixaQNVa"
      }
    },
    {
      "cell_type": "code",
      "source": [
        "San_table = [['Outcome','Model','Mediators','Q model MSE','Q model baseline','g model CE','g model baseline'], \n",
        "         ['Fall_grade','RandomForest','none', test_mse_RF0,baseline_mse_RF0,test_ce_RF0,baseline_ce_RF0], \n",
        "         ['Fall_grade','RandomForest','both', test_mse_RF2,baseline_mse_RF2,test_ce_RF2,baseline_ce_RF2],\n",
        "         ['Fall_grade','RandomForest','Study Hours', test_mse_RFSH,baseline_mse_RFSH,test_ce_RFSH,baseline_ce_RFSH],\n",
        "         ['Fall_grade','RandomForest','Study Habits', test_mse_RFSB,baseline_mse_RFSB,test_ce_RFSB,baseline_ce_RFSB],\n",
        "         ['Fall_grade','Logistic Regression','none', test_mse_LR0,baseline_mse_LR0,test_ce_LR0,baseline_ce_LR0], \n",
        "         ['Fall_grade','Logistic Regression','both', test_mse_LR2,baseline_mse_LR2,test_ce_LR2,baseline_ce_LR2],\n",
        "         ['Fall_grade','Logistic Regression','Study Hours', test_mse_LRSH,baseline_mse_LRSH,test_ce_LRSH,baseline_ce_LRSH],\n",
        "         ['Fall_grade','Logistic Regression','Study Habits', test_mse_LRSB,baseline_mse_LRSB,test_ce_LRSB,baseline_ce_LRSB],\n",
        "         ['Fall_grade','XGBoost','none', test_mse_XG0,baseline_mse_XG0,test_ce_XG0,baseline_ce_XG0], \n",
        "         ['Fall_grade','XGBoost','both', test_mse_XG2,baseline_mse_LR2,test_ce_XG2,baseline_ce_XG2],\n",
        "         ['Fall_grade','XGBoost','Study Hours', test_mse_XGSH,baseline_mse_XGSH,test_ce_XGSH,baseline_ce_XGSH],\n",
        "         ['Fall_grade','XGBoost','Study Habits', test_mse_XGSB,baseline_mse_LRSB,test_ce_XGSB,baseline_ce_XGSB]]"
      ],
      "metadata": {
        "id": "sF9sbIxFQRcD"
      },
      "execution_count": 316,
      "outputs": []
    },
    {
      "cell_type": "code",
      "source": [
        "df_san = pd.DataFrame(San_table)\n",
        "df_san.columns = df_san.iloc[0]\n",
        "df_san = df_san[1:]\n",
        "df_san"
      ],
      "metadata": {
        "id": "XbtJoPgSQRu8",
        "colab": {
          "base_uri": "https://localhost:8080/",
          "height": 626
        },
        "outputId": "069461e6-9e25-43d4-8e28-c048a5fc6da4"
      },
      "execution_count": 317,
      "outputs": [
        {
          "output_type": "execute_result",
          "data": {
            "text/plain": [
              "0      Outcome                Model     Mediators Q model MSE  \\\n",
              "1   Fall_grade         RandomForest          none  118.323206   \n",
              "2   Fall_grade         RandomForest          both  131.875663   \n",
              "3   Fall_grade         RandomForest   Study Hours  144.160442   \n",
              "4   Fall_grade         RandomForest  Study Habits  144.449378   \n",
              "5   Fall_grade  Logistic Regression          none     115.525   \n",
              "6   Fall_grade  Logistic Regression          both  130.523337   \n",
              "7   Fall_grade  Logistic Regression   Study Hours  161.642428   \n",
              "8   Fall_grade  Logistic Regression  Study Habits  114.229231   \n",
              "9   Fall_grade              XGBoost          none  148.033632   \n",
              "10  Fall_grade              XGBoost          both   144.36917   \n",
              "11  Fall_grade              XGBoost   Study Hours  166.874897   \n",
              "12  Fall_grade              XGBoost  Study Habits  128.808279   \n",
              "\n",
              "0  Q model baseline g model CE g model baseline  \n",
              "1        121.055026   0.706299         0.695131  \n",
              "2         139.97981   0.669767         0.693771  \n",
              "3        149.319232   0.721566         0.692373  \n",
              "4        148.984011   0.714492         0.696949  \n",
              "5        142.851953   0.691672         0.692419  \n",
              "6        127.673336   0.691494         0.692517  \n",
              "7        178.136617   0.706751         0.700084  \n",
              "8         120.11982   0.697069         0.692371  \n",
              "9        140.806409   0.688016         0.692686  \n",
              "10       127.673336   0.695467         0.699224  \n",
              "11       170.018477   0.678321         0.693771  \n",
              "12        120.11982   0.715273         0.692517  "
            ],
            "text/html": [
              "\n",
              "  <div id=\"df-315a58d2-5831-46ba-9dfb-0a2397b00981\">\n",
              "    <div class=\"colab-df-container\">\n",
              "      <div>\n",
              "<style scoped>\n",
              "    .dataframe tbody tr th:only-of-type {\n",
              "        vertical-align: middle;\n",
              "    }\n",
              "\n",
              "    .dataframe tbody tr th {\n",
              "        vertical-align: top;\n",
              "    }\n",
              "\n",
              "    .dataframe thead th {\n",
              "        text-align: right;\n",
              "    }\n",
              "</style>\n",
              "<table border=\"1\" class=\"dataframe\">\n",
              "  <thead>\n",
              "    <tr style=\"text-align: right;\">\n",
              "      <th></th>\n",
              "      <th>Outcome</th>\n",
              "      <th>Model</th>\n",
              "      <th>Mediators</th>\n",
              "      <th>Q model MSE</th>\n",
              "      <th>Q model baseline</th>\n",
              "      <th>g model CE</th>\n",
              "      <th>g model baseline</th>\n",
              "    </tr>\n",
              "  </thead>\n",
              "  <tbody>\n",
              "    <tr>\n",
              "      <th>1</th>\n",
              "      <td>Fall_grade</td>\n",
              "      <td>RandomForest</td>\n",
              "      <td>none</td>\n",
              "      <td>118.323206</td>\n",
              "      <td>121.055026</td>\n",
              "      <td>0.706299</td>\n",
              "      <td>0.695131</td>\n",
              "    </tr>\n",
              "    <tr>\n",
              "      <th>2</th>\n",
              "      <td>Fall_grade</td>\n",
              "      <td>RandomForest</td>\n",
              "      <td>both</td>\n",
              "      <td>131.875663</td>\n",
              "      <td>139.97981</td>\n",
              "      <td>0.669767</td>\n",
              "      <td>0.693771</td>\n",
              "    </tr>\n",
              "    <tr>\n",
              "      <th>3</th>\n",
              "      <td>Fall_grade</td>\n",
              "      <td>RandomForest</td>\n",
              "      <td>Study Hours</td>\n",
              "      <td>144.160442</td>\n",
              "      <td>149.319232</td>\n",
              "      <td>0.721566</td>\n",
              "      <td>0.692373</td>\n",
              "    </tr>\n",
              "    <tr>\n",
              "      <th>4</th>\n",
              "      <td>Fall_grade</td>\n",
              "      <td>RandomForest</td>\n",
              "      <td>Study Habits</td>\n",
              "      <td>144.449378</td>\n",
              "      <td>148.984011</td>\n",
              "      <td>0.714492</td>\n",
              "      <td>0.696949</td>\n",
              "    </tr>\n",
              "    <tr>\n",
              "      <th>5</th>\n",
              "      <td>Fall_grade</td>\n",
              "      <td>Logistic Regression</td>\n",
              "      <td>none</td>\n",
              "      <td>115.525</td>\n",
              "      <td>142.851953</td>\n",
              "      <td>0.691672</td>\n",
              "      <td>0.692419</td>\n",
              "    </tr>\n",
              "    <tr>\n",
              "      <th>6</th>\n",
              "      <td>Fall_grade</td>\n",
              "      <td>Logistic Regression</td>\n",
              "      <td>both</td>\n",
              "      <td>130.523337</td>\n",
              "      <td>127.673336</td>\n",
              "      <td>0.691494</td>\n",
              "      <td>0.692517</td>\n",
              "    </tr>\n",
              "    <tr>\n",
              "      <th>7</th>\n",
              "      <td>Fall_grade</td>\n",
              "      <td>Logistic Regression</td>\n",
              "      <td>Study Hours</td>\n",
              "      <td>161.642428</td>\n",
              "      <td>178.136617</td>\n",
              "      <td>0.706751</td>\n",
              "      <td>0.700084</td>\n",
              "    </tr>\n",
              "    <tr>\n",
              "      <th>8</th>\n",
              "      <td>Fall_grade</td>\n",
              "      <td>Logistic Regression</td>\n",
              "      <td>Study Habits</td>\n",
              "      <td>114.229231</td>\n",
              "      <td>120.11982</td>\n",
              "      <td>0.697069</td>\n",
              "      <td>0.692371</td>\n",
              "    </tr>\n",
              "    <tr>\n",
              "      <th>9</th>\n",
              "      <td>Fall_grade</td>\n",
              "      <td>XGBoost</td>\n",
              "      <td>none</td>\n",
              "      <td>148.033632</td>\n",
              "      <td>140.806409</td>\n",
              "      <td>0.688016</td>\n",
              "      <td>0.692686</td>\n",
              "    </tr>\n",
              "    <tr>\n",
              "      <th>10</th>\n",
              "      <td>Fall_grade</td>\n",
              "      <td>XGBoost</td>\n",
              "      <td>both</td>\n",
              "      <td>144.36917</td>\n",
              "      <td>127.673336</td>\n",
              "      <td>0.695467</td>\n",
              "      <td>0.699224</td>\n",
              "    </tr>\n",
              "    <tr>\n",
              "      <th>11</th>\n",
              "      <td>Fall_grade</td>\n",
              "      <td>XGBoost</td>\n",
              "      <td>Study Hours</td>\n",
              "      <td>166.874897</td>\n",
              "      <td>170.018477</td>\n",
              "      <td>0.678321</td>\n",
              "      <td>0.693771</td>\n",
              "    </tr>\n",
              "    <tr>\n",
              "      <th>12</th>\n",
              "      <td>Fall_grade</td>\n",
              "      <td>XGBoost</td>\n",
              "      <td>Study Habits</td>\n",
              "      <td>128.808279</td>\n",
              "      <td>120.11982</td>\n",
              "      <td>0.715273</td>\n",
              "      <td>0.692517</td>\n",
              "    </tr>\n",
              "  </tbody>\n",
              "</table>\n",
              "</div>\n",
              "      <button class=\"colab-df-convert\" onclick=\"convertToInteractive('df-315a58d2-5831-46ba-9dfb-0a2397b00981')\"\n",
              "              title=\"Convert this dataframe to an interactive table.\"\n",
              "              style=\"display:none;\">\n",
              "        \n",
              "  <svg xmlns=\"http://www.w3.org/2000/svg\" height=\"24px\"viewBox=\"0 0 24 24\"\n",
              "       width=\"24px\">\n",
              "    <path d=\"M0 0h24v24H0V0z\" fill=\"none\"/>\n",
              "    <path d=\"M18.56 5.44l.94 2.06.94-2.06 2.06-.94-2.06-.94-.94-2.06-.94 2.06-2.06.94zm-11 1L8.5 8.5l.94-2.06 2.06-.94-2.06-.94L8.5 2.5l-.94 2.06-2.06.94zm10 10l.94 2.06.94-2.06 2.06-.94-2.06-.94-.94-2.06-.94 2.06-2.06.94z\"/><path d=\"M17.41 7.96l-1.37-1.37c-.4-.4-.92-.59-1.43-.59-.52 0-1.04.2-1.43.59L10.3 9.45l-7.72 7.72c-.78.78-.78 2.05 0 2.83L4 21.41c.39.39.9.59 1.41.59.51 0 1.02-.2 1.41-.59l7.78-7.78 2.81-2.81c.8-.78.8-2.07 0-2.86zM5.41 20L4 18.59l7.72-7.72 1.47 1.35L5.41 20z\"/>\n",
              "  </svg>\n",
              "      </button>\n",
              "      \n",
              "  <style>\n",
              "    .colab-df-container {\n",
              "      display:flex;\n",
              "      flex-wrap:wrap;\n",
              "      gap: 12px;\n",
              "    }\n",
              "\n",
              "    .colab-df-convert {\n",
              "      background-color: #E8F0FE;\n",
              "      border: none;\n",
              "      border-radius: 50%;\n",
              "      cursor: pointer;\n",
              "      display: none;\n",
              "      fill: #1967D2;\n",
              "      height: 32px;\n",
              "      padding: 0 0 0 0;\n",
              "      width: 32px;\n",
              "    }\n",
              "\n",
              "    .colab-df-convert:hover {\n",
              "      background-color: #E2EBFA;\n",
              "      box-shadow: 0px 1px 2px rgba(60, 64, 67, 0.3), 0px 1px 3px 1px rgba(60, 64, 67, 0.15);\n",
              "      fill: #174EA6;\n",
              "    }\n",
              "\n",
              "    [theme=dark] .colab-df-convert {\n",
              "      background-color: #3B4455;\n",
              "      fill: #D2E3FC;\n",
              "    }\n",
              "\n",
              "    [theme=dark] .colab-df-convert:hover {\n",
              "      background-color: #434B5C;\n",
              "      box-shadow: 0px 1px 3px 1px rgba(0, 0, 0, 0.15);\n",
              "      filter: drop-shadow(0px 1px 2px rgba(0, 0, 0, 0.3));\n",
              "      fill: #FFFFFF;\n",
              "    }\n",
              "  </style>\n",
              "\n",
              "      <script>\n",
              "        const buttonEl =\n",
              "          document.querySelector('#df-315a58d2-5831-46ba-9dfb-0a2397b00981 button.colab-df-convert');\n",
              "        buttonEl.style.display =\n",
              "          google.colab.kernel.accessAllowed ? 'block' : 'none';\n",
              "\n",
              "        async function convertToInteractive(key) {\n",
              "          const element = document.querySelector('#df-315a58d2-5831-46ba-9dfb-0a2397b00981');\n",
              "          const dataTable =\n",
              "            await google.colab.kernel.invokeFunction('convertToInteractive',\n",
              "                                                     [key], {});\n",
              "          if (!dataTable) return;\n",
              "\n",
              "          const docLinkHtml = 'Like what you see? Visit the ' +\n",
              "            '<a target=\"_blank\" href=https://colab.research.google.com/notebooks/data_table.ipynb>data table notebook</a>'\n",
              "            + ' to learn more about interactive tables.';\n",
              "          element.innerHTML = '';\n",
              "          dataTable['output_type'] = 'display_data';\n",
              "          await google.colab.output.renderOutput(dataTable, element);\n",
              "          const docLink = document.createElement('div');\n",
              "          docLink.innerHTML = docLinkHtml;\n",
              "          element.appendChild(docLink);\n",
              "        }\n",
              "      </script>\n",
              "    </div>\n",
              "  </div>\n",
              "  "
            ]
          },
          "metadata": {},
          "execution_count": 317
        }
      ]
    },
    {
      "cell_type": "markdown",
      "source": [
        "## Table of Natural Indirect Effect"
      ],
      "metadata": {
        "id": "UfOktM7Dp_gV"
      }
    },
    {
      "cell_type": "code",
      "source": [
        "NIE_table = [['Outcome','Type of causal effect','Through which Mediator', 'Model', 'Estimate'], \n",
        "         ['Fall_grade','Natural Indirect Direct Effect', 'Study Hours', 'RandomForest',tau_hat_RFTE - tau_hat_RFSH], \n",
        "         ['Fall_grade','Natural Indirect Direct Effect', 'Study Hours', 'Logistic Regression',tau_hat_LRTE - tau_hat_LRSH],\n",
        "         ['Fall_grade','Natural Indirect Direct Effect', 'Study Hours', 'XGBoost',tau_hat_XGTE - tau_hat_XGSH],\n",
        "         ['Fall_grade','Natural Indirect Direct Effect', 'Study Habits', 'RandomForest',tau_hat_RFTE - tau_hat_RFSB], \n",
        "         ['Fall_grade','Natural Indirect Direct Effect', 'Study Habits', 'Logistic Regression',tau_hat_LRTE - tau_hat_LRSB],\n",
        "         ['Fall_grade','Natural Indirect Direct Effect', 'Study Habits', 'XGBoost',tau_hat_XGTE - tau_hat_XGSB]]"
      ],
      "metadata": {
        "id": "-rc9niODqHkM"
      },
      "execution_count": 318,
      "outputs": []
    },
    {
      "cell_type": "code",
      "source": [
        "df_NIE = pd.DataFrame(NIE_table)\n",
        "df_NIE.columns = df_NIE.iloc[0]\n",
        "df_NIE = df_NIE[1:]\n",
        "df_NIE"
      ],
      "metadata": {
        "colab": {
          "base_uri": "https://localhost:8080/",
          "height": 282
        },
        "id": "mYAqYQOFrLwU",
        "outputId": "bf82be39-d10c-4f38-a448-4eb8884bf44b"
      },
      "execution_count": 319,
      "outputs": [
        {
          "output_type": "execute_result",
          "data": {
            "text/plain": [
              "0     Outcome           Type of causal effect Through which Mediator  \\\n",
              "1  Fall_grade  Natural Indirect Direct Effect            Study Hours   \n",
              "2  Fall_grade  Natural Indirect Direct Effect            Study Hours   \n",
              "3  Fall_grade  Natural Indirect Direct Effect            Study Hours   \n",
              "4  Fall_grade  Natural Indirect Direct Effect           Study Habits   \n",
              "5  Fall_grade  Natural Indirect Direct Effect           Study Habits   \n",
              "6  Fall_grade  Natural Indirect Direct Effect           Study Habits   \n",
              "\n",
              "0                Model  Estimate  \n",
              "1         RandomForest  1.117636  \n",
              "2  Logistic Regression -0.178367  \n",
              "3              XGBoost   1.56961  \n",
              "4         RandomForest  1.335027  \n",
              "5  Logistic Regression -0.034818  \n",
              "6              XGBoost  0.636545  "
            ],
            "text/html": [
              "\n",
              "  <div id=\"df-9b335275-a271-4c27-a946-010d997a831b\">\n",
              "    <div class=\"colab-df-container\">\n",
              "      <div>\n",
              "<style scoped>\n",
              "    .dataframe tbody tr th:only-of-type {\n",
              "        vertical-align: middle;\n",
              "    }\n",
              "\n",
              "    .dataframe tbody tr th {\n",
              "        vertical-align: top;\n",
              "    }\n",
              "\n",
              "    .dataframe thead th {\n",
              "        text-align: right;\n",
              "    }\n",
              "</style>\n",
              "<table border=\"1\" class=\"dataframe\">\n",
              "  <thead>\n",
              "    <tr style=\"text-align: right;\">\n",
              "      <th></th>\n",
              "      <th>Outcome</th>\n",
              "      <th>Type of causal effect</th>\n",
              "      <th>Through which Mediator</th>\n",
              "      <th>Model</th>\n",
              "      <th>Estimate</th>\n",
              "    </tr>\n",
              "  </thead>\n",
              "  <tbody>\n",
              "    <tr>\n",
              "      <th>1</th>\n",
              "      <td>Fall_grade</td>\n",
              "      <td>Natural Indirect Direct Effect</td>\n",
              "      <td>Study Hours</td>\n",
              "      <td>RandomForest</td>\n",
              "      <td>1.117636</td>\n",
              "    </tr>\n",
              "    <tr>\n",
              "      <th>2</th>\n",
              "      <td>Fall_grade</td>\n",
              "      <td>Natural Indirect Direct Effect</td>\n",
              "      <td>Study Hours</td>\n",
              "      <td>Logistic Regression</td>\n",
              "      <td>-0.178367</td>\n",
              "    </tr>\n",
              "    <tr>\n",
              "      <th>3</th>\n",
              "      <td>Fall_grade</td>\n",
              "      <td>Natural Indirect Direct Effect</td>\n",
              "      <td>Study Hours</td>\n",
              "      <td>XGBoost</td>\n",
              "      <td>1.56961</td>\n",
              "    </tr>\n",
              "    <tr>\n",
              "      <th>4</th>\n",
              "      <td>Fall_grade</td>\n",
              "      <td>Natural Indirect Direct Effect</td>\n",
              "      <td>Study Habits</td>\n",
              "      <td>RandomForest</td>\n",
              "      <td>1.335027</td>\n",
              "    </tr>\n",
              "    <tr>\n",
              "      <th>5</th>\n",
              "      <td>Fall_grade</td>\n",
              "      <td>Natural Indirect Direct Effect</td>\n",
              "      <td>Study Habits</td>\n",
              "      <td>Logistic Regression</td>\n",
              "      <td>-0.034818</td>\n",
              "    </tr>\n",
              "    <tr>\n",
              "      <th>6</th>\n",
              "      <td>Fall_grade</td>\n",
              "      <td>Natural Indirect Direct Effect</td>\n",
              "      <td>Study Habits</td>\n",
              "      <td>XGBoost</td>\n",
              "      <td>0.636545</td>\n",
              "    </tr>\n",
              "  </tbody>\n",
              "</table>\n",
              "</div>\n",
              "      <button class=\"colab-df-convert\" onclick=\"convertToInteractive('df-9b335275-a271-4c27-a946-010d997a831b')\"\n",
              "              title=\"Convert this dataframe to an interactive table.\"\n",
              "              style=\"display:none;\">\n",
              "        \n",
              "  <svg xmlns=\"http://www.w3.org/2000/svg\" height=\"24px\"viewBox=\"0 0 24 24\"\n",
              "       width=\"24px\">\n",
              "    <path d=\"M0 0h24v24H0V0z\" fill=\"none\"/>\n",
              "    <path d=\"M18.56 5.44l.94 2.06.94-2.06 2.06-.94-2.06-.94-.94-2.06-.94 2.06-2.06.94zm-11 1L8.5 8.5l.94-2.06 2.06-.94-2.06-.94L8.5 2.5l-.94 2.06-2.06.94zm10 10l.94 2.06.94-2.06 2.06-.94-2.06-.94-.94-2.06-.94 2.06-2.06.94z\"/><path d=\"M17.41 7.96l-1.37-1.37c-.4-.4-.92-.59-1.43-.59-.52 0-1.04.2-1.43.59L10.3 9.45l-7.72 7.72c-.78.78-.78 2.05 0 2.83L4 21.41c.39.39.9.59 1.41.59.51 0 1.02-.2 1.41-.59l7.78-7.78 2.81-2.81c.8-.78.8-2.07 0-2.86zM5.41 20L4 18.59l7.72-7.72 1.47 1.35L5.41 20z\"/>\n",
              "  </svg>\n",
              "      </button>\n",
              "      \n",
              "  <style>\n",
              "    .colab-df-container {\n",
              "      display:flex;\n",
              "      flex-wrap:wrap;\n",
              "      gap: 12px;\n",
              "    }\n",
              "\n",
              "    .colab-df-convert {\n",
              "      background-color: #E8F0FE;\n",
              "      border: none;\n",
              "      border-radius: 50%;\n",
              "      cursor: pointer;\n",
              "      display: none;\n",
              "      fill: #1967D2;\n",
              "      height: 32px;\n",
              "      padding: 0 0 0 0;\n",
              "      width: 32px;\n",
              "    }\n",
              "\n",
              "    .colab-df-convert:hover {\n",
              "      background-color: #E2EBFA;\n",
              "      box-shadow: 0px 1px 2px rgba(60, 64, 67, 0.3), 0px 1px 3px 1px rgba(60, 64, 67, 0.15);\n",
              "      fill: #174EA6;\n",
              "    }\n",
              "\n",
              "    [theme=dark] .colab-df-convert {\n",
              "      background-color: #3B4455;\n",
              "      fill: #D2E3FC;\n",
              "    }\n",
              "\n",
              "    [theme=dark] .colab-df-convert:hover {\n",
              "      background-color: #434B5C;\n",
              "      box-shadow: 0px 1px 3px 1px rgba(0, 0, 0, 0.15);\n",
              "      filter: drop-shadow(0px 1px 2px rgba(0, 0, 0, 0.3));\n",
              "      fill: #FFFFFF;\n",
              "    }\n",
              "  </style>\n",
              "\n",
              "      <script>\n",
              "        const buttonEl =\n",
              "          document.querySelector('#df-9b335275-a271-4c27-a946-010d997a831b button.colab-df-convert');\n",
              "        buttonEl.style.display =\n",
              "          google.colab.kernel.accessAllowed ? 'block' : 'none';\n",
              "\n",
              "        async function convertToInteractive(key) {\n",
              "          const element = document.querySelector('#df-9b335275-a271-4c27-a946-010d997a831b');\n",
              "          const dataTable =\n",
              "            await google.colab.kernel.invokeFunction('convertToInteractive',\n",
              "                                                     [key], {});\n",
              "          if (!dataTable) return;\n",
              "\n",
              "          const docLinkHtml = 'Like what you see? Visit the ' +\n",
              "            '<a target=\"_blank\" href=https://colab.research.google.com/notebooks/data_table.ipynb>data table notebook</a>'\n",
              "            + ' to learn more about interactive tables.';\n",
              "          element.innerHTML = '';\n",
              "          dataTable['output_type'] = 'display_data';\n",
              "          await google.colab.output.renderOutput(dataTable, element);\n",
              "          const docLink = document.createElement('div');\n",
              "          docLink.innerHTML = docLinkHtml;\n",
              "          element.appendChild(docLink);\n",
              "        }\n",
              "      </script>\n",
              "    </div>\n",
              "  </div>\n",
              "  "
            ]
          },
          "metadata": {},
          "execution_count": 319
        }
      ]
    }
  ],
  "metadata": {
    "colab": {
      "provenance": [],
      "toc_visible": true,
      "include_colab_link": true
    },
    "kernelspec": {
      "display_name": "Python 3",
      "name": "python3"
    },
    "language_info": {
      "name": "python"
    }
  },
  "nbformat": 4,
  "nbformat_minor": 0
}