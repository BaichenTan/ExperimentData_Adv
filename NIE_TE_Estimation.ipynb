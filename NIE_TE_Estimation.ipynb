{
  "cells": [
    {
      "cell_type": "markdown",
      "metadata": {
        "id": "QfZkNLUb4B-p"
      },
      "source": [
        "# ATT Estimation Tutorial\n",
        "\n",
        "This tutorial gives a short example for how to estimate average treatment effect on the treated using machine learning methods"
      ]
    },
    {
      "cell_type": "code",
      "execution_count": 21,
      "metadata": {
        "id": "dS2X3Bq1-fxE"
      },
      "outputs": [],
      "source": [
        "import numpy as np\n",
        "import pandas as pd\n",
        "import scipy as sp\n",
        "from sklearn.ensemble import RandomForestClassifier, RandomForestRegressor\n",
        "from sklearn.linear_model import LogisticRegression\n",
        "from sklearn.linear_model import LinearRegression\n",
        "from sklearn.model_selection import KFold, StratifiedKFold, train_test_split\n",
        "from sklearn.metrics import mean_squared_error, log_loss\n",
        "from xgboost import XGBClassifier, XGBRegressor\n",
        "import sklearn\n",
        "import os\n",
        "import matplotlib.pyplot as plt\n",
        "from matplotlib.pyplot import hist\n",
        "from tabulate import tabulate"
      ]
    },
    {
      "cell_type": "code",
      "execution_count": 22,
      "metadata": {
        "id": "nxJ46X9cFJ9X"
      },
      "outputs": [],
      "source": [
        "RANDOM_SEED=42\n",
        "np.random.seed(RANDOM_SEED)"
      ]
    },
    {
      "cell_type": "markdown",
      "metadata": {
        "id": "CjKmYJkW2YiC"
      },
      "source": [
        "# Import dataset"
      ]
    },
    {
      "cell_type": "code",
      "execution_count": 23,
      "metadata": {
        "colab": {
          "base_uri": "https://localhost:8080/",
          "height": 505
        },
        "id": "-L-Q9K1V2XWI",
        "outputId": "407adfe0-10fc-40b5-ee9a-e5d615e8db14"
      },
      "outputs": [
        {
          "output_type": "execute_result",
          "data": {
            "text/plain": [
              "      Unnamed: 0  ...1  followup_fallstudyhours  followup_getwritinghelp  \\\n",
              "0              1   186                       20                        2   \n",
              "1              2   830                       12                        2   \n",
              "2              3   837                       21                        3   \n",
              "3              4   952                       57                        2   \n",
              "4              5   261                       20                        1   \n",
              "...          ...   ...                      ...                      ...   \n",
              "1048        1049   737                       15                        5   \n",
              "1049        1050   807                        4                        5   \n",
              "1050        1051   503                       12                        5   \n",
              "1051        1052   900                       30                        5   \n",
              "1052        1053   427                        4                        4   \n",
              "\n",
              "      followup_metwithinstructor  followup_metwithfreetutor  \\\n",
              "0                              2                          0   \n",
              "1                              0                          2   \n",
              "2                              0                          0   \n",
              "3                              0                          0   \n",
              "4                              0                          0   \n",
              "...                          ...                        ...   \n",
              "1048                           1                          2   \n",
              "1049                           0                          0   \n",
              "1050                           1                          0   \n",
              "1051                           5                          2   \n",
              "1052                           0                          2   \n",
              "\n",
              "      followup_imptodowellatuoft  followup_depressed  followup_stressed  \\\n",
              "0                              7                   2                  1   \n",
              "1                              4                   2                  1   \n",
              "2                              6                   3                  3   \n",
              "3                              7                   3                  2   \n",
              "4                              7                   2                  3   \n",
              "...                          ...                 ...                ...   \n",
              "1048                           7                   3                  3   \n",
              "1049                           7                   3                  3   \n",
              "1050                           4                   1                  1   \n",
              "1051                           7                   1                  2   \n",
              "1052                           7                   3                  3   \n",
              "\n",
              "      fathers_education  mothers_education  fall_meangrade_year1  \\\n",
              "0                     1                  1             77.000000   \n",
              "1                     0                  0             73.666664   \n",
              "2                     1                  5             70.000000   \n",
              "3                     1                  1             81.000000   \n",
              "4                     6                  6             81.500000   \n",
              "...                 ...                ...                   ...   \n",
              "1048                  6                  2             81.333336   \n",
              "1049                  6                  6             73.500000   \n",
              "1050                  7                  7             73.000000   \n",
              "1051                  6                  6             79.666664   \n",
              "1052                  6                  6             66.500000   \n",
              "\n",
              "      exp_gradschl  agreeableness2  agreeableness  extraversion2  \\\n",
              "0                1       -0.517853              0      -2.751067   \n",
              "1                0        1.216498              1      -2.751067   \n",
              "2                0        0.831087              1      -2.751067   \n",
              "3                1        1.409204              1      -2.751067   \n",
              "4                1        1.794615              1      -2.591280   \n",
              "...            ...             ...            ...            ...   \n",
              "1048             1        0.252970              1       2.202324   \n",
              "1049             0       -1.095970              0       2.202324   \n",
              "1050             1       -1.866793              0       2.362111   \n",
              "1051             0       -0.710559              0       2.362111   \n",
              "1052             0       -1.095970              0       2.841471   \n",
              "\n",
              "      extraversion  study_habit  \n",
              "0                0            4  \n",
              "1                0            4  \n",
              "2                0            3  \n",
              "3                0            2  \n",
              "4                0            1  \n",
              "...            ...          ...  \n",
              "1048             1            8  \n",
              "1049             1            5  \n",
              "1050             1            6  \n",
              "1051             1           12  \n",
              "1052             1            6  \n",
              "\n",
              "[1053 rows x 18 columns]"
            ],
            "text/html": [
              "\n",
              "  <div id=\"df-b278f3e1-673e-421a-9070-b4c6fedd0e8c\">\n",
              "    <div class=\"colab-df-container\">\n",
              "      <div>\n",
              "<style scoped>\n",
              "    .dataframe tbody tr th:only-of-type {\n",
              "        vertical-align: middle;\n",
              "    }\n",
              "\n",
              "    .dataframe tbody tr th {\n",
              "        vertical-align: top;\n",
              "    }\n",
              "\n",
              "    .dataframe thead th {\n",
              "        text-align: right;\n",
              "    }\n",
              "</style>\n",
              "<table border=\"1\" class=\"dataframe\">\n",
              "  <thead>\n",
              "    <tr style=\"text-align: right;\">\n",
              "      <th></th>\n",
              "      <th>Unnamed: 0</th>\n",
              "      <th>...1</th>\n",
              "      <th>followup_fallstudyhours</th>\n",
              "      <th>followup_getwritinghelp</th>\n",
              "      <th>followup_metwithinstructor</th>\n",
              "      <th>followup_metwithfreetutor</th>\n",
              "      <th>followup_imptodowellatuoft</th>\n",
              "      <th>followup_depressed</th>\n",
              "      <th>followup_stressed</th>\n",
              "      <th>fathers_education</th>\n",
              "      <th>mothers_education</th>\n",
              "      <th>fall_meangrade_year1</th>\n",
              "      <th>exp_gradschl</th>\n",
              "      <th>agreeableness2</th>\n",
              "      <th>agreeableness</th>\n",
              "      <th>extraversion2</th>\n",
              "      <th>extraversion</th>\n",
              "      <th>study_habit</th>\n",
              "    </tr>\n",
              "  </thead>\n",
              "  <tbody>\n",
              "    <tr>\n",
              "      <th>0</th>\n",
              "      <td>1</td>\n",
              "      <td>186</td>\n",
              "      <td>20</td>\n",
              "      <td>2</td>\n",
              "      <td>2</td>\n",
              "      <td>0</td>\n",
              "      <td>7</td>\n",
              "      <td>2</td>\n",
              "      <td>1</td>\n",
              "      <td>1</td>\n",
              "      <td>1</td>\n",
              "      <td>77.000000</td>\n",
              "      <td>1</td>\n",
              "      <td>-0.517853</td>\n",
              "      <td>0</td>\n",
              "      <td>-2.751067</td>\n",
              "      <td>0</td>\n",
              "      <td>4</td>\n",
              "    </tr>\n",
              "    <tr>\n",
              "      <th>1</th>\n",
              "      <td>2</td>\n",
              "      <td>830</td>\n",
              "      <td>12</td>\n",
              "      <td>2</td>\n",
              "      <td>0</td>\n",
              "      <td>2</td>\n",
              "      <td>4</td>\n",
              "      <td>2</td>\n",
              "      <td>1</td>\n",
              "      <td>0</td>\n",
              "      <td>0</td>\n",
              "      <td>73.666664</td>\n",
              "      <td>0</td>\n",
              "      <td>1.216498</td>\n",
              "      <td>1</td>\n",
              "      <td>-2.751067</td>\n",
              "      <td>0</td>\n",
              "      <td>4</td>\n",
              "    </tr>\n",
              "    <tr>\n",
              "      <th>2</th>\n",
              "      <td>3</td>\n",
              "      <td>837</td>\n",
              "      <td>21</td>\n",
              "      <td>3</td>\n",
              "      <td>0</td>\n",
              "      <td>0</td>\n",
              "      <td>6</td>\n",
              "      <td>3</td>\n",
              "      <td>3</td>\n",
              "      <td>1</td>\n",
              "      <td>5</td>\n",
              "      <td>70.000000</td>\n",
              "      <td>0</td>\n",
              "      <td>0.831087</td>\n",
              "      <td>1</td>\n",
              "      <td>-2.751067</td>\n",
              "      <td>0</td>\n",
              "      <td>3</td>\n",
              "    </tr>\n",
              "    <tr>\n",
              "      <th>3</th>\n",
              "      <td>4</td>\n",
              "      <td>952</td>\n",
              "      <td>57</td>\n",
              "      <td>2</td>\n",
              "      <td>0</td>\n",
              "      <td>0</td>\n",
              "      <td>7</td>\n",
              "      <td>3</td>\n",
              "      <td>2</td>\n",
              "      <td>1</td>\n",
              "      <td>1</td>\n",
              "      <td>81.000000</td>\n",
              "      <td>1</td>\n",
              "      <td>1.409204</td>\n",
              "      <td>1</td>\n",
              "      <td>-2.751067</td>\n",
              "      <td>0</td>\n",
              "      <td>2</td>\n",
              "    </tr>\n",
              "    <tr>\n",
              "      <th>4</th>\n",
              "      <td>5</td>\n",
              "      <td>261</td>\n",
              "      <td>20</td>\n",
              "      <td>1</td>\n",
              "      <td>0</td>\n",
              "      <td>0</td>\n",
              "      <td>7</td>\n",
              "      <td>2</td>\n",
              "      <td>3</td>\n",
              "      <td>6</td>\n",
              "      <td>6</td>\n",
              "      <td>81.500000</td>\n",
              "      <td>1</td>\n",
              "      <td>1.794615</td>\n",
              "      <td>1</td>\n",
              "      <td>-2.591280</td>\n",
              "      <td>0</td>\n",
              "      <td>1</td>\n",
              "    </tr>\n",
              "    <tr>\n",
              "      <th>...</th>\n",
              "      <td>...</td>\n",
              "      <td>...</td>\n",
              "      <td>...</td>\n",
              "      <td>...</td>\n",
              "      <td>...</td>\n",
              "      <td>...</td>\n",
              "      <td>...</td>\n",
              "      <td>...</td>\n",
              "      <td>...</td>\n",
              "      <td>...</td>\n",
              "      <td>...</td>\n",
              "      <td>...</td>\n",
              "      <td>...</td>\n",
              "      <td>...</td>\n",
              "      <td>...</td>\n",
              "      <td>...</td>\n",
              "      <td>...</td>\n",
              "      <td>...</td>\n",
              "    </tr>\n",
              "    <tr>\n",
              "      <th>1048</th>\n",
              "      <td>1049</td>\n",
              "      <td>737</td>\n",
              "      <td>15</td>\n",
              "      <td>5</td>\n",
              "      <td>1</td>\n",
              "      <td>2</td>\n",
              "      <td>7</td>\n",
              "      <td>3</td>\n",
              "      <td>3</td>\n",
              "      <td>6</td>\n",
              "      <td>2</td>\n",
              "      <td>81.333336</td>\n",
              "      <td>1</td>\n",
              "      <td>0.252970</td>\n",
              "      <td>1</td>\n",
              "      <td>2.202324</td>\n",
              "      <td>1</td>\n",
              "      <td>8</td>\n",
              "    </tr>\n",
              "    <tr>\n",
              "      <th>1049</th>\n",
              "      <td>1050</td>\n",
              "      <td>807</td>\n",
              "      <td>4</td>\n",
              "      <td>5</td>\n",
              "      <td>0</td>\n",
              "      <td>0</td>\n",
              "      <td>7</td>\n",
              "      <td>3</td>\n",
              "      <td>3</td>\n",
              "      <td>6</td>\n",
              "      <td>6</td>\n",
              "      <td>73.500000</td>\n",
              "      <td>0</td>\n",
              "      <td>-1.095970</td>\n",
              "      <td>0</td>\n",
              "      <td>2.202324</td>\n",
              "      <td>1</td>\n",
              "      <td>5</td>\n",
              "    </tr>\n",
              "    <tr>\n",
              "      <th>1050</th>\n",
              "      <td>1051</td>\n",
              "      <td>503</td>\n",
              "      <td>12</td>\n",
              "      <td>5</td>\n",
              "      <td>1</td>\n",
              "      <td>0</td>\n",
              "      <td>4</td>\n",
              "      <td>1</td>\n",
              "      <td>1</td>\n",
              "      <td>7</td>\n",
              "      <td>7</td>\n",
              "      <td>73.000000</td>\n",
              "      <td>1</td>\n",
              "      <td>-1.866793</td>\n",
              "      <td>0</td>\n",
              "      <td>2.362111</td>\n",
              "      <td>1</td>\n",
              "      <td>6</td>\n",
              "    </tr>\n",
              "    <tr>\n",
              "      <th>1051</th>\n",
              "      <td>1052</td>\n",
              "      <td>900</td>\n",
              "      <td>30</td>\n",
              "      <td>5</td>\n",
              "      <td>5</td>\n",
              "      <td>2</td>\n",
              "      <td>7</td>\n",
              "      <td>1</td>\n",
              "      <td>2</td>\n",
              "      <td>6</td>\n",
              "      <td>6</td>\n",
              "      <td>79.666664</td>\n",
              "      <td>0</td>\n",
              "      <td>-0.710559</td>\n",
              "      <td>0</td>\n",
              "      <td>2.362111</td>\n",
              "      <td>1</td>\n",
              "      <td>12</td>\n",
              "    </tr>\n",
              "    <tr>\n",
              "      <th>1052</th>\n",
              "      <td>1053</td>\n",
              "      <td>427</td>\n",
              "      <td>4</td>\n",
              "      <td>4</td>\n",
              "      <td>0</td>\n",
              "      <td>2</td>\n",
              "      <td>7</td>\n",
              "      <td>3</td>\n",
              "      <td>3</td>\n",
              "      <td>6</td>\n",
              "      <td>6</td>\n",
              "      <td>66.500000</td>\n",
              "      <td>0</td>\n",
              "      <td>-1.095970</td>\n",
              "      <td>0</td>\n",
              "      <td>2.841471</td>\n",
              "      <td>1</td>\n",
              "      <td>6</td>\n",
              "    </tr>\n",
              "  </tbody>\n",
              "</table>\n",
              "<p>1053 rows × 18 columns</p>\n",
              "</div>\n",
              "      <button class=\"colab-df-convert\" onclick=\"convertToInteractive('df-b278f3e1-673e-421a-9070-b4c6fedd0e8c')\"\n",
              "              title=\"Convert this dataframe to an interactive table.\"\n",
              "              style=\"display:none;\">\n",
              "        \n",
              "  <svg xmlns=\"http://www.w3.org/2000/svg\" height=\"24px\"viewBox=\"0 0 24 24\"\n",
              "       width=\"24px\">\n",
              "    <path d=\"M0 0h24v24H0V0z\" fill=\"none\"/>\n",
              "    <path d=\"M18.56 5.44l.94 2.06.94-2.06 2.06-.94-2.06-.94-.94-2.06-.94 2.06-2.06.94zm-11 1L8.5 8.5l.94-2.06 2.06-.94-2.06-.94L8.5 2.5l-.94 2.06-2.06.94zm10 10l.94 2.06.94-2.06 2.06-.94-2.06-.94-.94-2.06-.94 2.06-2.06.94z\"/><path d=\"M17.41 7.96l-1.37-1.37c-.4-.4-.92-.59-1.43-.59-.52 0-1.04.2-1.43.59L10.3 9.45l-7.72 7.72c-.78.78-.78 2.05 0 2.83L4 21.41c.39.39.9.59 1.41.59.51 0 1.02-.2 1.41-.59l7.78-7.78 2.81-2.81c.8-.78.8-2.07 0-2.86zM5.41 20L4 18.59l7.72-7.72 1.47 1.35L5.41 20z\"/>\n",
              "  </svg>\n",
              "      </button>\n",
              "      \n",
              "  <style>\n",
              "    .colab-df-container {\n",
              "      display:flex;\n",
              "      flex-wrap:wrap;\n",
              "      gap: 12px;\n",
              "    }\n",
              "\n",
              "    .colab-df-convert {\n",
              "      background-color: #E8F0FE;\n",
              "      border: none;\n",
              "      border-radius: 50%;\n",
              "      cursor: pointer;\n",
              "      display: none;\n",
              "      fill: #1967D2;\n",
              "      height: 32px;\n",
              "      padding: 0 0 0 0;\n",
              "      width: 32px;\n",
              "    }\n",
              "\n",
              "    .colab-df-convert:hover {\n",
              "      background-color: #E2EBFA;\n",
              "      box-shadow: 0px 1px 2px rgba(60, 64, 67, 0.3), 0px 1px 3px 1px rgba(60, 64, 67, 0.15);\n",
              "      fill: #174EA6;\n",
              "    }\n",
              "\n",
              "    [theme=dark] .colab-df-convert {\n",
              "      background-color: #3B4455;\n",
              "      fill: #D2E3FC;\n",
              "    }\n",
              "\n",
              "    [theme=dark] .colab-df-convert:hover {\n",
              "      background-color: #434B5C;\n",
              "      box-shadow: 0px 1px 3px 1px rgba(0, 0, 0, 0.15);\n",
              "      filter: drop-shadow(0px 1px 2px rgba(0, 0, 0, 0.3));\n",
              "      fill: #FFFFFF;\n",
              "    }\n",
              "  </style>\n",
              "\n",
              "      <script>\n",
              "        const buttonEl =\n",
              "          document.querySelector('#df-b278f3e1-673e-421a-9070-b4c6fedd0e8c button.colab-df-convert');\n",
              "        buttonEl.style.display =\n",
              "          google.colab.kernel.accessAllowed ? 'block' : 'none';\n",
              "\n",
              "        async function convertToInteractive(key) {\n",
              "          const element = document.querySelector('#df-b278f3e1-673e-421a-9070-b4c6fedd0e8c');\n",
              "          const dataTable =\n",
              "            await google.colab.kernel.invokeFunction('convertToInteractive',\n",
              "                                                     [key], {});\n",
              "          if (!dataTable) return;\n",
              "\n",
              "          const docLinkHtml = 'Like what you see? Visit the ' +\n",
              "            '<a target=\"_blank\" href=https://colab.research.google.com/notebooks/data_table.ipynb>data table notebook</a>'\n",
              "            + ' to learn more about interactive tables.';\n",
              "          element.innerHTML = '';\n",
              "          dataTable['output_type'] = 'display_data';\n",
              "          await google.colab.output.renderOutput(dataTable, element);\n",
              "          const docLink = document.createElement('div');\n",
              "          docLink.innerHTML = docLinkHtml;\n",
              "          element.appendChild(docLink);\n",
              "        }\n",
              "      </script>\n",
              "    </div>\n",
              "  </div>\n",
              "  "
            ]
          },
          "metadata": {},
          "execution_count": 23
        }
      ],
      "source": [
        "data = pd.read_csv(\"https://raw.githubusercontent.com/BaichenTan/ExperimentData_Adv/master/dataset_trimmed_extraversion_final.csv\")\n",
        "data\n"
      ]
    },
    {
      "cell_type": "markdown",
      "metadata": {
        "id": "Q57avql1Pu4k"
      },
      "source": [
        "## Counfounders, Outcome, and Treatment"
      ]
    },
    {
      "cell_type": "code",
      "execution_count": 24,
      "metadata": {
        "id": "PHF8AKpy4o4I"
      },
      "outputs": [],
      "source": [
        "#create a dataset of confounders\n",
        "confounders_without_Mediator = data[['fathers_education', 'mothers_education']]\n",
        "confounders_with_allMediators = data[[\"followup_fallstudyhours\", \"followup_imptodowellatuoft\", \"followup_depressed\", \"followup_stressed\", \"fathers_education\",\t\"mothers_education\", \"exp_gradschl\", \"study_habit\"]]\n",
        "confounders_with_mediatorStudyHours = data[[\"followup_fallstudyhours\", \"followup_imptodowellatuoft\", \"followup_depressed\", \"followup_stressed\", \"fathers_education\",\t\"mothers_education\", \"exp_gradschl\"]]\n",
        "confounders_with_mediatorStudyHabits = data[[\"study_habit\",\"followup_imptodowellatuoft\", \"followup_depressed\", \"followup_stressed\", \"fathers_education\",\t\"mothers_education\", \"exp_gradschl\"]]\n",
        "outcome = data['fall_meangrade_year1']\n",
        "treatment = data['extraversion']\n",
        "placebo = data['agreeableness']"
      ]
    },
    {
      "cell_type": "markdown",
      "metadata": {
        "id": "C576dWRsa3ad"
      },
      "source": [
        "## Specify Nuisance Function Models\n",
        "\n",
        "The next step is to specify models for the conditional expected outcome and propensity score"
      ]
    },
    {
      "cell_type": "markdown",
      "metadata": {
        "id": "5PmmVpO89glE"
      },
      "source": [
        "## Q model with randomforest"
      ]
    },
    {
      "cell_type": "code",
      "execution_count": 25,
      "metadata": {
        "id": "qyOhSZRQRb8W"
      },
      "outputs": [],
      "source": [
        "# specify a model for the conditional expected outcome\n",
        "\n",
        "# make a function that returns a sklearn model for later use in k-folding\n",
        "def make_Qmodel_randomForest():\n",
        "  return RandomForestRegressor(random_state=RANDOM_SEED, n_estimators=500, max_depth=3)\n",
        "\n",
        "Qmodel_randomForest = make_Qmodel_randomForest()\n",
        "\n",
        "# Sanity check that chosen model actually improves test error\n",
        "# A real analysis should give substantial attention to model selection and validation "
      ]
    },
    {
      "cell_type": "markdown",
      "metadata": {
        "id": "gbhY1xyi9WfR"
      },
      "source": [
        "## Q model with linear regression"
      ]
    },
    {
      "cell_type": "code",
      "execution_count": 26,
      "metadata": {
        "id": "KlvJEIUb9W1D"
      },
      "outputs": [],
      "source": [
        "def make_Qmodel_linearRegression():\n",
        "  return LinearRegression()\n",
        "\n",
        "Qmodel_LinearRegression = make_Qmodel_linearRegression()\n",
        "\n"
      ]
    },
    {
      "cell_type": "markdown",
      "metadata": {
        "id": "gcyeKSydAr4w"
      },
      "source": [
        "## Q model with XGBoost "
      ]
    },
    {
      "cell_type": "code",
      "execution_count": 27,
      "metadata": {
        "id": "5hiMWUOgAsMd"
      },
      "outputs": [],
      "source": [
        "def make_Qmodel_XGBoost():\n",
        "  return XGBRegressor(n_jobs=1, objective = \"reg:squarederror\", random_state=RANDOM_SEED)\n",
        "\n",
        "Qmodel_XGBRegressor = make_Qmodel_XGBoost()"
      ]
    },
    {
      "cell_type": "markdown",
      "metadata": {
        "id": "pFykT_xgDXKK"
      },
      "source": [
        "## Sanity Check of Qmodel for various confounder conditions"
      ]
    },
    {
      "cell_type": "markdown",
      "source": [
        "### Confounders without Mediators"
      ],
      "metadata": {
        "id": "yIn7aRtIFeqR"
      }
    },
    {
      "cell_type": "code",
      "source": [
        "Qmodel_randomForest = make_Qmodel_randomForest()\n",
        "Qmodel_LinearRegression = make_Qmodel_linearRegression()\n",
        "Qmodel_XGBoost = make_Qmodel_XGBoost()\n",
        "\n",
        "# Sanity check that chosen model actually improves test error\n",
        "# A real analysis should give substantial attention to model selection and validation \n",
        "\n",
        "X_w_treatment = confounders_without_Mediator.copy()\n",
        "X_w_treatment[\"treatment\"] = treatment\n",
        "\n",
        "X_train, X_test, y_train, y_test = train_test_split(X_w_treatment, outcome, test_size=0.2)\n",
        "Qmodel_randomForest.fit(X_train, y_train)\n",
        "Qmodel_LinearRegression.fit(X_train, y_train)\n",
        "Qmodel_XGBoost.fit(X_train, y_train)\n",
        "y_pred_RF0 = Qmodel_randomForest.predict(X_test)\n",
        "y_pred_LR0 = Qmodel_LinearRegression.predict(X_test)\n",
        "y_pred_XGB0 = Qmodel_XGBoost.predict(X_test)\n",
        "\n",
        "test_mse_RF0=mean_squared_error(y_pred_RF0, y_test)\n",
        "print(f\"Test MSE of fit model of RandomForest is {test_mse_RF0}\") \n",
        "test_mse_LR0=mean_squared_error(y_pred_LR0, y_test)\n",
        "print(f\"Test MSE of fit model of LogisticRegression is {test_mse_LR0}\")\n",
        "test_mse_XGB0=mean_squared_error(y_pred_XGB0, y_test)\n",
        "print(f\"Test MSE of fit model of XGBoost is {test_mse_XGB0}\")  \n",
        "baseline_mse_RF0=mean_squared_error(y_train.mean()*np.ones_like(y_test), y_test)\n",
        "print(f\"Test MSE of no-covariate model {baseline_mse_RF0}\")"
      ],
      "metadata": {
        "colab": {
          "base_uri": "https://localhost:8080/"
        },
        "id": "WxSl0LydFk5O",
        "outputId": "ac5e1475-2d02-4446-d7e8-8dbcc56ac4b3"
      },
      "execution_count": 28,
      "outputs": [
        {
          "output_type": "stream",
          "name": "stdout",
          "text": [
            "Test MSE of fit model of RandomForest is 152.61182268502063\n",
            "Test MSE of fit model of LogisticRegression is 149.5181603180379\n",
            "Test MSE of fit model of XGBoost is 157.87593280805143\n",
            "Test MSE of no-covariate model 151.60195082882802\n"
          ]
        }
      ]
    },
    {
      "cell_type": "markdown",
      "source": [
        "### Confounders with both mediators"
      ],
      "metadata": {
        "id": "ALvKeOdnG2Cb"
      }
    },
    {
      "cell_type": "code",
      "source": [
        "Qmodel_randomForest = make_Qmodel_randomForest()\n",
        "Qmodel_LinearRegression = make_Qmodel_linearRegression()\n",
        "Qmodel_XGBoost = make_Qmodel_XGBoost()\n",
        "\n",
        "# Sanity check that chosen model actually improves test error\n",
        "# A real analysis should give substantial attention to model selection and validation \n",
        "\n",
        "X_w_treatment = confounders_with_allMediators.copy()\n",
        "X_w_treatment[\"treatment\"] = treatment\n",
        "\n",
        "X_train, X_test, y_train, y_test = train_test_split(X_w_treatment, outcome, test_size=0.2)\n",
        "Qmodel_randomForest.fit(X_train, y_train)\n",
        "Qmodel_LinearRegression.fit(X_train, y_train)\n",
        "Qmodel_XGBoost.fit(X_train, y_train)\n",
        "y_pred_RF1 = Qmodel_randomForest.predict(X_test)\n",
        "y_pred_LR1 = Qmodel_LinearRegression.predict(X_test)\n",
        "y_pred_XGB1 = Qmodel_XGBoost.predict(X_test)\n",
        "\n",
        "test_mse_RF1=mean_squared_error(y_pred_RF1, y_test)\n",
        "print(f\"Test MSE of fit model of RandomForest is {test_mse_RF1}\") \n",
        "test_mse_LR1=mean_squared_error(y_pred_LR1, y_test)\n",
        "print(f\"Test MSE of fit model of LogisticRegression is {test_mse_LR1}\")\n",
        "test_mse_XGB1=mean_squared_error(y_pred_XGB1, y_test)\n",
        "print(f\"Test MSE of fit model of XGBoost is {test_mse_XGB1}\")  \n",
        "baseline_mse_RF1=mean_squared_error(y_train.mean()*np.ones_like(y_test), y_test)\n",
        "print(f\"Test MSE of no-covariate model {baseline_mse_RF1}\")"
      ],
      "metadata": {
        "colab": {
          "base_uri": "https://localhost:8080/"
        },
        "id": "OT-Q1HtuHZDR",
        "outputId": "7bf51bdf-c8de-4933-eab2-a43d8c2686ed"
      },
      "execution_count": 29,
      "outputs": [
        {
          "output_type": "stream",
          "name": "stdout",
          "text": [
            "Test MSE of fit model of RandomForest is 169.40055899282586\n",
            "Test MSE of fit model of LogisticRegression is 168.51074769456227\n",
            "Test MSE of fit model of XGBoost is 181.72313659268914\n",
            "Test MSE of no-covariate model 182.09603897685102\n"
          ]
        }
      ]
    },
    {
      "cell_type": "markdown",
      "source": [
        "### Confounders with Mediator StudyHours"
      ],
      "metadata": {
        "id": "syjSf3g8IKXP"
      }
    },
    {
      "cell_type": "code",
      "source": [
        "Qmodel_randomForest = make_Qmodel_randomForest()\n",
        "Qmodel_LinearRegression = make_Qmodel_linearRegression()\n",
        "Qmodel_XGBoost = make_Qmodel_XGBoost()\n",
        "\n",
        "# Sanity check that chosen model actually improves test error\n",
        "# A real analysis should give substantial attention to model selection and validation \n",
        "\n",
        "X_w_treatment = confounders_with_mediatorStudyHours.copy()\n",
        "X_w_treatment[\"treatment\"] = treatment\n",
        "\n",
        "X_train, X_test, y_train, y_test = train_test_split(X_w_treatment, outcome, test_size=0.2)\n",
        "Qmodel_randomForest.fit(X_train, y_train)\n",
        "Qmodel_LinearRegression.fit(X_train, y_train)\n",
        "Qmodel_XGBoost.fit(X_train, y_train)\n",
        "y_pred_RF2 = Qmodel_randomForest.predict(X_test)\n",
        "y_pred_LR2 = Qmodel_LinearRegression.predict(X_test)\n",
        "y_pred_XGB2 = Qmodel_XGBoost.predict(X_test)\n",
        "\n",
        "test_mse_RF2=mean_squared_error(y_pred_RF2, y_test)\n",
        "print(f\"Test MSE of fit model of RandomForest is {test_mse_RF2}\") \n",
        "test_mse_LR2=mean_squared_error(y_pred_LR2, y_test)\n",
        "print(f\"Test MSE of fit model of LogisticRegression is {test_mse_LR2}\")\n",
        "test_mse_XGB2=mean_squared_error(y_pred_XGB2, y_test)\n",
        "print(f\"Test MSE of fit model of XGBoost is {test_mse_XGB2}\")  \n",
        "baseline_mse_RF2=mean_squared_error(y_train.mean()*np.ones_like(y_test), y_test)\n",
        "print(f\"Test MSE of no-covariate model {baseline_mse_RF2}\")"
      ],
      "metadata": {
        "colab": {
          "base_uri": "https://localhost:8080/"
        },
        "id": "nqe87OyZIPlm",
        "outputId": "779f6613-43c2-4108-9fce-86d6d8d174b3"
      },
      "execution_count": 30,
      "outputs": [
        {
          "output_type": "stream",
          "name": "stdout",
          "text": [
            "Test MSE of fit model of RandomForest is 121.74053510688145\n",
            "Test MSE of fit model of LogisticRegression is 121.5828640808898\n",
            "Test MSE of fit model of XGBoost is 127.01489908354753\n",
            "Test MSE of no-covariate model 130.43894336091265\n"
          ]
        }
      ]
    },
    {
      "cell_type": "markdown",
      "source": [
        "### Confounders with Mediator StudyHabit"
      ],
      "metadata": {
        "id": "Pa5OA-KfIntI"
      }
    },
    {
      "cell_type": "code",
      "source": [
        "Qmodel_randomForest = make_Qmodel_randomForest()\n",
        "Qmodel_LinearRegression = make_Qmodel_linearRegression()\n",
        "Qmodel_XGBoost = make_Qmodel_XGBoost()\n",
        "\n",
        "# Sanity check that chosen model actually improves test error\n",
        "# A real analysis should give substantial attention to model selection and validation \n",
        "\n",
        "X_w_treatment = confounders_with_mediatorStudyHabits.copy()\n",
        "X_w_treatment[\"treatment\"] = treatment\n",
        "\n",
        "X_train, X_test, y_train, y_test = train_test_split(X_w_treatment, outcome, test_size=0.2)\n",
        "Qmodel_randomForest.fit(X_train, y_train)\n",
        "Qmodel_LinearRegression.fit(X_train, y_train)\n",
        "Qmodel_XGBoost.fit(X_train, y_train)\n",
        "y_pred_RF3 = Qmodel_randomForest.predict(X_test)\n",
        "y_pred_LR3 = Qmodel_LinearRegression.predict(X_test)\n",
        "y_pred_XGB3 = Qmodel_XGBoost.predict(X_test)\n",
        "\n",
        "test_mse_RF3=mean_squared_error(y_pred_RF3, y_test)\n",
        "print(f\"Test MSE of fit model of RandomForest is {test_mse_RF3}\") \n",
        "test_mse_LR3=mean_squared_error(y_pred_LR2, y_test)\n",
        "print(f\"Test MSE of fit model of LogisticRegression is {test_mse_LR3}\")\n",
        "test_mse_XGB3=mean_squared_error(y_pred_XGB3, y_test)\n",
        "print(f\"Test MSE of fit model of XGBoost is {test_mse_XGB3}\")  \n",
        "baseline_mse_RF3=mean_squared_error(y_train.mean()*np.ones_like(y_test), y_test)\n",
        "print(f\"Test MSE of no-covariate model {baseline_mse_RF3}\")"
      ],
      "metadata": {
        "colab": {
          "base_uri": "https://localhost:8080/"
        },
        "id": "dWkpOxNAIrRN",
        "outputId": "95e56d0d-17e2-4324-b40f-b6171a48a678"
      },
      "execution_count": 31,
      "outputs": [
        {
          "output_type": "stream",
          "name": "stdout",
          "text": [
            "Test MSE of fit model of RandomForest is 146.63714648602019\n",
            "Test MSE of fit model of LogisticRegression is 160.54813326298006\n",
            "Test MSE of fit model of XGBoost is 155.39814844985017\n",
            "Test MSE of no-covariate model 149.82793023432893\n"
          ]
        }
      ]
    },
    {
      "cell_type": "markdown",
      "metadata": {
        "id": "-jKu1MwyCdCC"
      },
      "source": [
        "## g model"
      ]
    },
    {
      "cell_type": "markdown",
      "metadata": {
        "id": "0eaO1Oi3DS8I"
      },
      "source": [
        "### g model with RandomForest"
      ]
    },
    {
      "cell_type": "code",
      "execution_count": 44,
      "metadata": {
        "colab": {
          "base_uri": "https://localhost:8080/",
          "height": 70
        },
        "id": "uq6eZEBXbsaI",
        "outputId": "23fe9820-92fb-41aa-ced7-786c260755da"
      },
      "outputs": [
        {
          "output_type": "execute_result",
          "data": {
            "text/plain": [
              "'\\n# Sanity check of confounders with mediators\\nX_train, X_test, a_train, a_test = train_test_split(confounders_with_Mediators, treatment, test_size=0.2)\\ngmodel.fit(X_train, a_train)\\na_pred = gmodel.predict_proba(X_test)[:,1]\\n\\ntest_ce=log_loss(a_test, a_pred)\\nprint(f\"Test CE of fit model {test_ce}\") \\nbaseline_ce=log_loss(a_test, a_train.mean()*np.ones_like(a_test))\\nprint(f\"Test CE of no-covariate model {baseline_ce}\")\\n'"
            ],
            "application/vnd.google.colaboratory.intrinsic+json": {
              "type": "string"
            }
          },
          "metadata": {},
          "execution_count": 44
        }
      ],
      "source": [
        "# specify a model for the propensity score\n",
        "\n",
        "def make_gmodel_randomForest():\n",
        "\n",
        "  return RandomForestClassifier(n_estimators=100, max_depth=10)\n",
        "\n",
        "gmodel_randomForest = make_gmodel_randomForest()\n",
        "# Sanity check that chosen model actually improves test error\n",
        "# A real analysis should give substantial attention to model selection and validation \n",
        "'''\n",
        "# Sanity check of confounders with mediators\n",
        "X_train, X_test, a_train, a_test = train_test_split(confounders_with_Mediators, treatment, test_size=0.2)\n",
        "gmodel.fit(X_train, a_train)\n",
        "a_pred = gmodel.predict_proba(X_test)[:,1]\n",
        "\n",
        "test_ce=log_loss(a_test, a_pred)\n",
        "print(f\"Test CE of fit model {test_ce}\") \n",
        "baseline_ce=log_loss(a_test, a_train.mean()*np.ones_like(a_test))\n",
        "print(f\"Test CE of no-covariate model {baseline_ce}\")\n",
        "'''"
      ]
    },
    {
      "cell_type": "markdown",
      "metadata": {
        "id": "4X3sCNeyC6K0"
      },
      "source": [
        "## g model with logistic regression"
      ]
    },
    {
      "cell_type": "code",
      "execution_count": 45,
      "metadata": {
        "id": "dV-pn9FXJrDX"
      },
      "outputs": [],
      "source": [
        "def make_gmodel_logisticRegression():\n",
        "  return LogisticRegression(max_iter=1000)\n",
        "\n",
        "gmodel_LogisticRegression = make_gmodel_logisticRegression()"
      ]
    },
    {
      "cell_type": "markdown",
      "metadata": {
        "id": "O-DrXpsQJrW6"
      },
      "source": [
        "## g model with XGBoost"
      ]
    },
    {
      "cell_type": "code",
      "execution_count": 46,
      "metadata": {
        "id": "7iX9s1VrJriP"
      },
      "outputs": [],
      "source": [
        "def make_gmodel_XGBClassifier():\n",
        "  return XGBClassifier(use_label_encoder=False, n_jobs=1, objective='binary:logistic',eval_metric = 'logloss', random_state =RANDOM_SEED)\n",
        "\n",
        "gmodel_XGBClassifier = make_gmodel_XGBClassifier()"
      ]
    },
    {
      "cell_type": "markdown",
      "metadata": {
        "id": "oYvqsja_dhUj"
      },
      "source": [
        "## Sanity Check of gmodel for Various Confounding Conditions"
      ]
    },
    {
      "cell_type": "markdown",
      "source": [
        "### Confounder without Mediators"
      ],
      "metadata": {
        "id": "dm3smeI_JvjZ"
      }
    },
    {
      "cell_type": "code",
      "source": [
        "gmodel_randomForest = make_gmodel_randomForest()\n",
        "gmodel_LogisticRegression = make_gmodel_logisticRegression()\n",
        "gmodel_XGBoost = make_gmodel_XGBClassifier()\n",
        "# Sanity check that chosen model actually improves test error\n",
        "# A real analysis should give substantial attention to model selection and validation \n",
        "\n",
        "# Sanity check of confounders with mediators\n",
        "X_train, X_test, a_train, a_test = train_test_split(confounders_without_Mediator, treatment, test_size=0.2)\n",
        "gmodel_randomForest.fit(X_train, a_train)\n",
        "gmodel_LogisticRegression.fit(X_train, a_train)\n",
        "gmodel_XGBoost.fit(X_train, a_train)\n",
        "a_pred_RF0 = gmodel_randomForest.predict_proba(X_test)[:,1]\n",
        "a_pred_LR0 = gmodel_LogisticRegression.predict_proba(X_test)[:,1]\n",
        "a_pred_XGB0 = gmodel_XGBoost.predict_proba(X_test)[:,1]\n",
        "\n",
        "test_ce_RF0=log_loss(a_test, a_pred_RF0)\n",
        "print(f\"Test CE of fit model {test_ce_RF0}\") \n",
        "test_ce_LR0=log_loss(a_test, a_pred_LR0)\n",
        "print(f\"Test CE of fit model {test_ce_LR0}\") \n",
        "test_ce_XGB0=log_loss(a_test, a_pred_XGB0)\n",
        "print(f\"Test CE of fit model {test_ce_XGB0}\") \n",
        "baseline_ce_RF0=log_loss(a_test, a_train.mean()*np.ones_like(a_test))\n",
        "print(f\"Test CE of no-covariate model {baseline_ce_RF0}\")"
      ],
      "metadata": {
        "colab": {
          "base_uri": "https://localhost:8080/"
        },
        "id": "gG5Whi0IJqSt",
        "outputId": "ce0ac8c4-ef6e-422f-fcf2-96dd332d9e11"
      },
      "execution_count": 47,
      "outputs": [
        {
          "output_type": "stream",
          "name": "stdout",
          "text": [
            "Test CE of fit model 0.7826447921455524\n",
            "Test CE of fit model 0.7031774293775146\n",
            "Test CE of fit model 0.7183877428843511\n",
            "Test CE of no-covariate model 0.6946269701573141\n"
          ]
        }
      ]
    },
    {
      "cell_type": "markdown",
      "source": [
        "### Confounder with both Mediators"
      ],
      "metadata": {
        "id": "lTTtyfljKehy"
      }
    },
    {
      "cell_type": "code",
      "source": [
        "gmodel_randomForest = make_gmodel_randomForest()\n",
        "gmodel_LogisticRegression = make_gmodel_logisticRegression()\n",
        "gmodel_XGBoost = make_gmodel_XGBClassifier()\n",
        "# Sanity check that chosen model actually improves test error\n",
        "# A real analysis should give substantial attention to model selection and validation \n",
        "\n",
        "# Sanity check of confounders with mediators\n",
        "X_train, X_test, a_train, a_test = train_test_split(confounders_with_allMediators, treatment, test_size=0.2)\n",
        "gmodel_randomForest.fit(X_train, a_train)\n",
        "gmodel_LogisticRegression.fit(X_train, a_train)\n",
        "gmodel_XGBoost.fit(X_train, a_train)\n",
        "a_pred_RF1 = gmodel_randomForest.predict_proba(X_test)[:,1]\n",
        "a_pred_LR1 = gmodel_LogisticRegression.predict_proba(X_test)[:,1]\n",
        "a_pred_XGB1 = gmodel_XGBoost.predict_proba(X_test)[:,1]\n",
        "\n",
        "test_ce_RF1=log_loss(a_test, a_pred_RF1)\n",
        "print(f\"Test CE of fit model {test_ce_RF1}\") \n",
        "test_ce_LR1=log_loss(a_test, a_pred_LR1)\n",
        "print(f\"Test CE of fit model {test_ce_LR1}\") \n",
        "test_ce_XGB1=log_loss(a_test, a_pred_XGB1)\n",
        "print(f\"Test CE of fit model {test_ce_XGB1}\") \n",
        "baseline_ce_RF1=log_loss(a_test, a_train.mean()*np.ones_like(a_test))\n",
        "print(f\"Test CE of no-covariate model {baseline_ce_RF1}\")"
      ],
      "metadata": {
        "colab": {
          "base_uri": "https://localhost:8080/"
        },
        "id": "aPxmmAFuKiKr",
        "outputId": "a733d421-0751-44eb-ee32-ac5ff2c0ecd0"
      },
      "execution_count": 48,
      "outputs": [
        {
          "output_type": "stream",
          "name": "stdout",
          "text": [
            "Test CE of fit model 0.7024002353088604\n",
            "Test CE of fit model 0.6790917387838029\n",
            "Test CE of fit model 0.7250230364607408\n",
            "Test CE of no-covariate model 0.6937705518376649\n"
          ]
        }
      ]
    },
    {
      "cell_type": "markdown",
      "source": [
        "### Confounder with Mediator StudyHour"
      ],
      "metadata": {
        "id": "9w5AmJ3dK7rt"
      }
    },
    {
      "cell_type": "code",
      "source": [
        "gmodel_randomForest = make_gmodel_randomForest()\n",
        "gmodel_LogisticRegression = make_gmodel_logisticRegression()\n",
        "gmodel_XGBoost = make_gmodel_XGBClassifier()\n",
        "# Sanity check that chosen model actually improves test error\n",
        "# A real analysis should give substantial attention to model selection and validation \n",
        "\n",
        "# Sanity check of confounders with mediators\n",
        "X_train, X_test, a_train, a_test = train_test_split(confounders_with_allMediators, treatment, test_size=0.2)\n",
        "gmodel_randomForest.fit(X_train, a_train)\n",
        "gmodel_LogisticRegression.fit(X_train, a_train)\n",
        "gmodel_XGBoost.fit(X_train, a_train)\n",
        "a_pred_RF2 = gmodel_randomForest.predict_proba(X_test)[:,1]\n",
        "a_pred_LR2 = gmodel_LogisticRegression.predict_proba(X_test)[:,1]\n",
        "a_pred_XGB2 = gmodel_XGBoost.predict_proba(X_test)[:,1]\n",
        "\n",
        "test_ce_RF2=log_loss(a_test, a_pred_RF2)\n",
        "print(f\"Test CE of fit model {test_ce_RF2}\") \n",
        "test_ce_LR2=log_loss(a_test, a_pred_LR1)\n",
        "print(f\"Test CE of fit model {test_ce_LR2}\") \n",
        "test_ce_XGB2=log_loss(a_test, a_pred_XGB2)\n",
        "print(f\"Test CE of fit model {test_ce_XGB2}\") \n",
        "baseline_ce_RF2=log_loss(a_test, a_train.mean()*np.ones_like(a_test))\n",
        "print(f\"Test CE of no-covariate model {baseline_ce_RF2}\")"
      ],
      "metadata": {
        "colab": {
          "base_uri": "https://localhost:8080/"
        },
        "id": "WRsn0T8ALCP1",
        "outputId": "9078fc5e-df7a-4be0-af0a-94edfd7f749c"
      },
      "execution_count": 49,
      "outputs": [
        {
          "output_type": "stream",
          "name": "stdout",
          "text": [
            "Test CE of fit model 0.6854253314696948\n",
            "Test CE of fit model 0.6915412795039162\n",
            "Test CE of fit model 0.7183737709623943\n",
            "Test CE of no-covariate model 0.694626970157314\n"
          ]
        }
      ]
    },
    {
      "cell_type": "markdown",
      "metadata": {
        "id": "2RkvV_4_dFWo"
      },
      "source": [
        "## Use cross fitting to get get predicted outcomes and propensity scores for each unit"
      ]
    },
    {
      "cell_type": "code",
      "execution_count": 62,
      "metadata": {
        "id": "KA0AsEGJ_X3b"
      },
      "outputs": [],
      "source": [
        "# helper functions to implement the cross fitting\n",
        "\n",
        "def treatment_k_fold_fit_and_predict(make_model, X:pd.DataFrame, A:np.array, n_splits:int):\n",
        "    \"\"\"\n",
        "    Implements K fold cross-fitting for the model predicting the treatment A. \n",
        "    That is, \n",
        "    1. Split data into K folds\n",
        "    2. For each fold j, the model is fit on the other K-1 folds\n",
        "    3. The fitted model is used to make predictions for each data point in fold j\n",
        "    Returns an array containing the predictions  \n",
        "\n",
        "    Args:\n",
        "    model: function that returns sklearn model (which implements fit and predict_prob)\n",
        "    X: dataframe of variables to adjust for\n",
        "    A: array of treatments\n",
        "    n_splits: number of splits to use\n",
        "    \"\"\"\n",
        "    predictions = np.full_like(A, np.nan, dtype=float)\n",
        "    kf = StratifiedKFold(n_splits=n_splits, shuffle=True, random_state=RANDOM_SEED)\n",
        "    print(kf)\n",
        "    \n",
        "    for train_index, test_index in kf.split(X, A):\n",
        "      X_train = X.loc[train_index]\n",
        "      A_train = A.loc[train_index]\n",
        "      g = make_model()\n",
        "      g.fit(X_train, A_train)\n",
        "\n",
        "      # get predictions for split\n",
        "      predictions[test_index] = g.predict_proba(X.loc[test_index])[:, 1]\n",
        "\n",
        "    assert np.isnan(predictions).sum() == 0\n",
        "    return predictions\n",
        "\n",
        "\n",
        "def outcome_k_fold_fit_and_predict(make_model, X:pd.DataFrame, y:np.array, A:np.array, n_splits:int, output_type:str):\n",
        "    \"\"\"\n",
        "    Implements K fold cross-fitting for the model predicting the outcome Y. \n",
        "    That is, \n",
        "    1. Split data into K folds\n",
        "    2. For each fold j, the model is fit on the other K-1 folds\n",
        "    3. The fitted model is used to make predictions for each data point in fold j\n",
        "    Returns two arrays containing the predictions for all units untreated, all units treated  \n",
        "\n",
        "    Args:\n",
        "    model: function that returns sklearn model (that implements fit and either predict_prob or predict)\n",
        "    X: dataframe of variables to adjust for\n",
        "    y: array of outcomes\n",
        "    A: array of treatments\n",
        "    n_splits: number of splits to use\n",
        "    output_type: type of outcome, \"binary\" or \"continuous\"\n",
        "\n",
        "    \"\"\"\n",
        "    predictions0 = np.full_like(A, np.nan, dtype=float)\n",
        "    predictions1 = np.full_like(y, np.nan, dtype=float)\n",
        "    if output_type == 'binary':\n",
        "      kf = StratifiedKFold(n_splits=n_splits, shuffle=True, random_state=RANDOM_SEED)\n",
        "    elif output_type == 'continuous':\n",
        "      kf = KFold(n_splits=n_splits, shuffle=True, random_state=RANDOM_SEED)\n",
        "\n",
        "    # include the treatment as input feature\n",
        "    X_w_treatment = X.copy()\n",
        "    X_w_treatment[\"A\"] = A\n",
        "\n",
        "    # for predicting effect under treatment / control status for each data point \n",
        "    X0 = X_w_treatment.copy()\n",
        "    X0[\"A\"] = 0\n",
        "    X1 = X_w_treatment.copy()\n",
        "    X1[\"A\"] = 1\n",
        "\n",
        "    \n",
        "    for train_index, test_index in kf.split(X_w_treatment, y):\n",
        "      X_train = X_w_treatment.loc[train_index]\n",
        "      y_train = y.loc[train_index]\n",
        "      q = make_model()\n",
        "      q.fit(X_train, y_train)\n",
        "\n",
        "      if output_type =='binary':\n",
        "        predictions0[test_index] = q.predict_proba(X0.loc[test_index])[:, 1]\n",
        "        predictions1[test_index] = q.predict_proba(X1.loc[test_index])[:, 1]\n",
        "      elif output_type == 'continuous':\n",
        "        predictions0[test_index] = q.predict(X0.loc[test_index])\n",
        "        predictions1[test_index] = q.predict(X1.loc[test_index])\n",
        "\n",
        "    assert np.isnan(predictions0).sum() == 0\n",
        "    assert np.isnan(predictions1).sum() == 0\n",
        "    return predictions0, predictions1"
      ]
    },
    {
      "cell_type": "markdown",
      "source": [
        "## Exclude Predictions with Moderate Extroversion Level"
      ],
      "metadata": {
        "id": "EcXXfNo7Vsrp"
      }
    },
    {
      "cell_type": "code",
      "source": [
        "def exclude_moderate(df):\n",
        "  df.drop(df.index[363:747], inplace=True)\n",
        "  return df"
      ],
      "metadata": {
        "id": "_Q7GMNHXVrkw"
      },
      "execution_count": 82,
      "outputs": []
    },
    {
      "cell_type": "markdown",
      "metadata": {
        "id": "VNhM7URdgzQB"
      },
      "source": [
        "## Combine predicted values and data into estimate of ATU"
      ]
    },
    {
      "cell_type": "code",
      "execution_count": 65,
      "metadata": {
        "id": "J-vONC5ejwh2"
      },
      "outputs": [],
      "source": [
        "def att_aiptw(Q0, Q1, g, A, Y, prob_t=None):\n",
        "  \"\"\"\n",
        "  # Double ML estimator for the ATT\n",
        "  This uses the ATT specific scores, see equation 3.9 of https://www.econstor.eu/bitstream/10419/149795/1/869216953.pdf\n",
        "  \"\"\"\n",
        "\n",
        "  if prob_t is None:\n",
        "    prob_t = 1 - A.mean() # estimate marginal probability of treatment\n",
        "\n",
        "  tau_hat = (A*((1-g)/g)*(Y-Q1) - (1-A)*(Y-Q1)).mean()/ prob_t\n",
        "  \n",
        "  scores = (A*((1-g)/g)*(Y-Q1) - (1-A)*(Y-Q1) - tau_hat*(1-A)) / prob_t\n",
        "  n = Y.shape[0] # number of observations\n",
        "  std_hat = np.std(scores) / np.sqrt(n)\n",
        "\n",
        "  return tau_hat, std_hat\n"
      ]
    },
    {
      "cell_type": "code",
      "execution_count": 66,
      "metadata": {
        "id": "O_F5r0SSkzzK"
      },
      "outputs": [],
      "source": [
        "def ate_aiptw(Q0, Q1, g, A, Y, prob_t=None):\n",
        "  \"\"\"\n",
        "  # Double ML estimator for the ATE\n",
        "  \"\"\"\n",
        "\n",
        "  tau_hat = (Q1 - Q0 + A*(Y-Q1)/g - (1-A)*(Y-Q0)/(1-g)).mean()\n",
        "  \n",
        "  scores = Q1 - Q0 + A*(Y-Q1)/g - (1-A)*(Y-Q0)/(1-g) - tau_hat\n",
        "  n = Y.shape[0] # number of observations\n",
        "  std_hat = np.std(scores) / np.sqrt(n)\n",
        "\n",
        "  return tau_hat, std_hat\n"
      ]
    },
    {
      "cell_type": "markdown",
      "metadata": {
        "id": "1PUtEGGzXSIQ"
      },
      "source": [
        "# Natural Direct Effect with two Mediators"
      ]
    },
    {
      "cell_type": "markdown",
      "metadata": {
        "id": "65_HhISR8mtX"
      },
      "source": [
        "## Check Overlap Conditions 0<Pr(A =1 |𝐗 = x, M1 = m1, M2 = m2) < 1 using the three models"
      ]
    },
    {
      "cell_type": "code",
      "execution_count": 135,
      "metadata": {
        "colab": {
          "base_uri": "https://localhost:8080/",
          "height": 316
        },
        "id": "2wJF-GKy8twQ",
        "outputId": "f66ab9e9-f5b4-4070-b6b2-c214099dd5c3"
      },
      "outputs": [
        {
          "output_type": "stream",
          "name": "stdout",
          "text": [
            "StratifiedKFold(n_splits=10, random_state=42, shuffle=True)\n"
          ]
        },
        {
          "output_type": "execute_result",
          "data": {
            "text/plain": [
              "Text(0.5, 1.0, 'Using RandomForest')"
            ]
          },
          "metadata": {},
          "execution_count": 135
        },
        {
          "output_type": "display_data",
          "data": {
            "text/plain": [
              "<Figure size 432x288 with 1 Axes>"
            ],
            "image/png": "[encoded data removed]"
          },
          "metadata": {
            "needs_background": "light"
          }
        }
      ],
      "source": [
        "#check the ovrlap conditions using randomForest\n",
        "#get the propensity score function\n",
        "g1 = treatment_k_fold_fit_and_predict(make_gmodel_randomForest, X=confounders_with_allMediators, A=treatment, n_splits=10)\n",
        "g1_ol = np.concatenate((g1[:364],g1[746:]))\n",
        "hist(g1_ol, density=True)\n",
        "plt.title(\"Using RandomForest\")"
      ]
    },
    {
      "cell_type": "code",
      "execution_count": 136,
      "metadata": {
        "colab": {
          "base_uri": "https://localhost:8080/",
          "height": 386
        },
        "id": "TAGbVxO3QeGr",
        "outputId": "399f5b94-25a0-410e-9e10-67047bb32bc7"
      },
      "outputs": [
        {
          "output_type": "stream",
          "name": "stdout",
          "text": [
            "StratifiedKFold(n_splits=10, random_state=42, shuffle=True)\n"
          ]
        },
        {
          "output_type": "execute_result",
          "data": {
            "text/plain": [
              "(array([0.1559216 , 0.21829025, 1.37211012, 2.52593   , 5.17659728,\n",
              "        5.86265234, 3.8668558 , 1.09145123, 0.56131778, 0.09355296]),\n",
              " array([0.24127859, 0.28906905, 0.3368595 , 0.38464996, 0.43244042,\n",
              "        0.48023088, 0.52802134, 0.57581179, 0.62360225, 0.67139271,\n",
              "        0.71918317]),\n",
              " <a list of 10 Patch objects>)"
            ]
          },
          "metadata": {},
          "execution_count": 136
        },
        {
          "output_type": "display_data",
          "data": {
            "text/plain": [
              "<Figure size 432x288 with 1 Axes>"
            ],
            "image/png": "[encoded data removed]"
          },
          "metadata": {
            "needs_background": "light"
          }
        }
      ],
      "source": [
        "#check the ovrlap conditions using Logistic Regression\n",
        "g2 = treatment_k_fold_fit_and_predict(make_gmodel_logisticRegression, X=confounders_with_allMediators, A=treatment, n_splits=10)\n",
        "g2_ol = np.concatenate((g2[:364],g2[746:]))\n",
        "hist(g2_ol, density=True)"
      ]
    },
    {
      "cell_type": "code",
      "execution_count": 137,
      "metadata": {
        "id": "grGefcHXX4ni",
        "colab": {
          "base_uri": "https://localhost:8080/",
          "height": 386
        },
        "outputId": "443e7b3f-d7d1-4759-b9cf-925c9449b236"
      },
      "outputs": [
        {
          "output_type": "stream",
          "name": "stdout",
          "text": [
            "StratifiedKFold(n_splits=10, random_state=42, shuffle=True)\n"
          ]
        },
        {
          "output_type": "execute_result",
          "data": {
            "text/plain": [
              "(array([0.06962983, 0.22629695, 0.62666849, 1.18370714, 2.54148886,\n",
              "        3.32482447, 2.43704411, 0.81815052, 0.38296407, 0.06962983]),\n",
              " array([0.0340003 , 0.11961377, 0.20522725, 0.29084072, 0.3764542 ,\n",
              "        0.46206767, 0.54768115, 0.63329462, 0.7189081 , 0.80452157,\n",
              "        0.89013505]),\n",
              " <a list of 10 Patch objects>)"
            ]
          },
          "metadata": {},
          "execution_count": 137
        },
        {
          "output_type": "display_data",
          "data": {
            "text/plain": [
              "<Figure size 432x288 with 1 Axes>"
            ],
            "image/png": "[encoded data removed]"
          },
          "metadata": {
            "needs_background": "light"
          }
        }
      ],
      "source": [
        "#check the ovrlap conditions using XGBoost\n",
        "g3 = treatment_k_fold_fit_and_predict(make_gmodel_XGBClassifier, X=confounders_with_allMediators, A=treatment, n_splits=10)\n",
        "g3_ol = np.concatenate((g3[:364],g3[746:]))\n",
        "hist(g3_ol, density=True)"
      ]
    },
    {
      "cell_type": "markdown",
      "metadata": {
        "id": "pswwyh7Eltqc"
      },
      "source": [
        "## Calculate Natural Direct Effect with two mediators using RandomForest"
      ]
    },
    {
      "cell_type": "markdown",
      "metadata": {
        "id": "5PdLq_g6pdZE"
      },
      "source": [
        "### Calculate Q0 and Q1 model using Random Forest"
      ]
    },
    {
      "cell_type": "code",
      "execution_count": 70,
      "metadata": {
        "id": "b54BFwwSl9pl"
      },
      "outputs": [],
      "source": [
        "#calculate Q0 and Q1 model\n",
        "Q0_RF,Q1_RF = outcome_k_fold_fit_and_predict(make_Qmodel_randomForest, X=confounders_with_allMediators, y=outcome, A=treatment, n_splits=10, output_type=\"continuous\")\n",
        "#Q0_RF"
      ]
    },
    {
      "cell_type": "markdown",
      "metadata": {
        "id": "YLIVzDWno0FW"
      },
      "source": [
        "### Combine the Dataset for g, Q0, Q1, A, and Y values"
      ]
    },
    {
      "cell_type": "code",
      "execution_count": 108,
      "metadata": {
        "id": "YHZOhZvKoyVH",
        "colab": {
          "base_uri": "https://localhost:8080/",
          "height": 206
        },
        "outputId": "5560cc5c-cc71-4d11-ef40-4c820544bc1c"
      },
      "outputs": [
        {
          "output_type": "execute_result",
          "data": {
            "text/plain": [
              "          g         Q0         Q1  A          Y\n",
              "0  0.291784  72.299124  71.960764  0  77.000000\n",
              "1  0.272143  68.104021  67.523853  0  73.666664\n",
              "2  0.513338  72.793072  72.421547  0  70.000000\n",
              "3  0.476640  73.574458  73.066637  0  81.000000\n",
              "4  0.482031  74.199206  73.974197  0  81.500000"
            ],
            "text/html": [
              "\n",
              "  <div id=\"df-cf0e7305-0a87-45fa-87d8-b0389b223e4b\">\n",
              "    <div class=\"colab-df-container\">\n",
              "      <div>\n",
              "<style scoped>\n",
              "    .dataframe tbody tr th:only-of-type {\n",
              "        vertical-align: middle;\n",
              "    }\n",
              "\n",
              "    .dataframe tbody tr th {\n",
              "        vertical-align: top;\n",
              "    }\n",
              "\n",
              "    .dataframe thead th {\n",
              "        text-align: right;\n",
              "    }\n",
              "</style>\n",
              "<table border=\"1\" class=\"dataframe\">\n",
              "  <thead>\n",
              "    <tr style=\"text-align: right;\">\n",
              "      <th></th>\n",
              "      <th>g</th>\n",
              "      <th>Q0</th>\n",
              "      <th>Q1</th>\n",
              "      <th>A</th>\n",
              "      <th>Y</th>\n",
              "    </tr>\n",
              "  </thead>\n",
              "  <tbody>\n",
              "    <tr>\n",
              "      <th>0</th>\n",
              "      <td>0.291784</td>\n",
              "      <td>72.299124</td>\n",
              "      <td>71.960764</td>\n",
              "      <td>0</td>\n",
              "      <td>77.000000</td>\n",
              "    </tr>\n",
              "    <tr>\n",
              "      <th>1</th>\n",
              "      <td>0.272143</td>\n",
              "      <td>68.104021</td>\n",
              "      <td>67.523853</td>\n",
              "      <td>0</td>\n",
              "      <td>73.666664</td>\n",
              "    </tr>\n",
              "    <tr>\n",
              "      <th>2</th>\n",
              "      <td>0.513338</td>\n",
              "      <td>72.793072</td>\n",
              "      <td>72.421547</td>\n",
              "      <td>0</td>\n",
              "      <td>70.000000</td>\n",
              "    </tr>\n",
              "    <tr>\n",
              "      <th>3</th>\n",
              "      <td>0.476640</td>\n",
              "      <td>73.574458</td>\n",
              "      <td>73.066637</td>\n",
              "      <td>0</td>\n",
              "      <td>81.000000</td>\n",
              "    </tr>\n",
              "    <tr>\n",
              "      <th>4</th>\n",
              "      <td>0.482031</td>\n",
              "      <td>74.199206</td>\n",
              "      <td>73.974197</td>\n",
              "      <td>0</td>\n",
              "      <td>81.500000</td>\n",
              "    </tr>\n",
              "  </tbody>\n",
              "</table>\n",
              "</div>\n",
              "      <button class=\"colab-df-convert\" onclick=\"convertToInteractive('df-cf0e7305-0a87-45fa-87d8-b0389b223e4b')\"\n",
              "              title=\"Convert this dataframe to an interactive table.\"\n",
              "              style=\"display:none;\">\n",
              "        \n",
              "  <svg xmlns=\"http://www.w3.org/2000/svg\" height=\"24px\"viewBox=\"0 0 24 24\"\n",
              "       width=\"24px\">\n",
              "    <path d=\"M0 0h24v24H0V0z\" fill=\"none\"/>\n",
              "    <path d=\"M18.56 5.44l.94 2.06.94-2.06 2.06-.94-2.06-.94-.94-2.06-.94 2.06-2.06.94zm-11 1L8.5 8.5l.94-2.06 2.06-.94-2.06-.94L8.5 2.5l-.94 2.06-2.06.94zm10 10l.94 2.06.94-2.06 2.06-.94-2.06-.94-.94-2.06-.94 2.06-2.06.94z\"/><path d=\"M17.41 7.96l-1.37-1.37c-.4-.4-.92-.59-1.43-.59-.52 0-1.04.2-1.43.59L10.3 9.45l-7.72 7.72c-.78.78-.78 2.05 0 2.83L4 21.41c.39.39.9.59 1.41.59.51 0 1.02-.2 1.41-.59l7.78-7.78 2.81-2.81c.8-.78.8-2.07 0-2.86zM5.41 20L4 18.59l7.72-7.72 1.47 1.35L5.41 20z\"/>\n",
              "  </svg>\n",
              "      </button>\n",
              "      \n",
              "  <style>\n",
              "    .colab-df-container {\n",
              "      display:flex;\n",
              "      flex-wrap:wrap;\n",
              "      gap: 12px;\n",
              "    }\n",
              "\n",
              "    .colab-df-convert {\n",
              "      background-color: #E8F0FE;\n",
              "      border: none;\n",
              "      border-radius: 50%;\n",
              "      cursor: pointer;\n",
              "      display: none;\n",
              "      fill: #1967D2;\n",
              "      height: 32px;\n",
              "      padding: 0 0 0 0;\n",
              "      width: 32px;\n",
              "    }\n",
              "\n",
              "    .colab-df-convert:hover {\n",
              "      background-color: #E2EBFA;\n",
              "      box-shadow: 0px 1px 2px rgba(60, 64, 67, 0.3), 0px 1px 3px 1px rgba(60, 64, 67, 0.15);\n",
              "      fill: #174EA6;\n",
              "    }\n",
              "\n",
              "    [theme=dark] .colab-df-convert {\n",
              "      background-color: #3B4455;\n",
              "      fill: #D2E3FC;\n",
              "    }\n",
              "\n",
              "    [theme=dark] .colab-df-convert:hover {\n",
              "      background-color: #434B5C;\n",
              "      box-shadow: 0px 1px 3px 1px rgba(0, 0, 0, 0.15);\n",
              "      filter: drop-shadow(0px 1px 2px rgba(0, 0, 0, 0.3));\n",
              "      fill: #FFFFFF;\n",
              "    }\n",
              "  </style>\n",
              "\n",
              "      <script>\n",
              "        const buttonEl =\n",
              "          document.querySelector('#df-cf0e7305-0a87-45fa-87d8-b0389b223e4b button.colab-df-convert');\n",
              "        buttonEl.style.display =\n",
              "          google.colab.kernel.accessAllowed ? 'block' : 'none';\n",
              "\n",
              "        async function convertToInteractive(key) {\n",
              "          const element = document.querySelector('#df-cf0e7305-0a87-45fa-87d8-b0389b223e4b');\n",
              "          const dataTable =\n",
              "            await google.colab.kernel.invokeFunction('convertToInteractive',\n",
              "                                                     [key], {});\n",
              "          if (!dataTable) return;\n",
              "\n",
              "          const docLinkHtml = 'Like what you see? Visit the ' +\n",
              "            '<a target=\"_blank\" href=https://colab.research.google.com/notebooks/data_table.ipynb>data table notebook</a>'\n",
              "            + ' to learn more about interactive tables.';\n",
              "          element.innerHTML = '';\n",
              "          dataTable['output_type'] = 'display_data';\n",
              "          await google.colab.output.renderOutput(dataTable, element);\n",
              "          const docLink = document.createElement('div');\n",
              "          docLink.innerHTML = docLinkHtml;\n",
              "          element.appendChild(docLink);\n",
              "        }\n",
              "      </script>\n",
              "    </div>\n",
              "  </div>\n",
              "  "
            ]
          },
          "metadata": {},
          "execution_count": 108
        }
      ],
      "source": [
        "data_and_nuisance_estimates_RF = exclude_moderate(pd.DataFrame({'g': g1, 'Q0': Q0_RF, 'Q1': Q1_RF, 'A': treatment, 'Y': outcome}))\n",
        "data_and_nuisance_estimates_RF.head()"
      ]
    },
    {
      "cell_type": "markdown",
      "metadata": {
        "id": "P16hVRw5pig7"
      },
      "source": [
        "### Calculate the Natural Direct Effect using the ATU formula"
      ]
    },
    {
      "cell_type": "code",
      "execution_count": 85,
      "metadata": {
        "id": "ZCLFLNnzphy1",
        "colab": {
          "base_uri": "https://localhost:8080/"
        },
        "outputId": "e4d6c1e1-0ee4-4480-958a-80ee8d4e9709"
      },
      "outputs": [
        {
          "output_type": "stream",
          "name": "stdout",
          "text": [
            "The estimate using RandomForest is -2.3153068795260947 pm 1.737949883980198\n"
          ]
        }
      ],
      "source": [
        "tau_hat_RF, std_hat_RF = att_aiptw(**data_and_nuisance_estimates_RF)\n",
        "print(f\"The estimate using RandomForest is {tau_hat_RF} pm {1.96*std_hat_RF}\")"
      ]
    },
    {
      "cell_type": "markdown",
      "source": [
        "## Calculate Natural Direct Effect with two mediators using Logistic Regression"
      ],
      "metadata": {
        "id": "4rFe-TQcqwj8"
      }
    },
    {
      "cell_type": "markdown",
      "source": [
        "### Calculate Q0 and Q1 model using Logistic Regression"
      ],
      "metadata": {
        "id": "_6gUluB-rfwN"
      }
    },
    {
      "cell_type": "code",
      "source": [
        "Q0_LR,Q1_LR = outcome_k_fold_fit_and_predict(make_Qmodel_linearRegression, X=confounders_with_allMediators, y=outcome, A=treatment, n_splits=10, output_type=\"continuous\")"
      ],
      "metadata": {
        "id": "NbWUe3dCqu4q"
      },
      "execution_count": 109,
      "outputs": []
    },
    {
      "cell_type": "markdown",
      "source": [
        "### Combine the dataset for g, Q0, Q1, A, and Y values"
      ],
      "metadata": {
        "id": "SfQwRfbmsAAy"
      }
    },
    {
      "cell_type": "code",
      "source": [
        "data_and_nuisance_estimates_LR = exclude_moderate(pd.DataFrame({'g': g2, 'Q0': Q0_LR, 'Q1': Q1_LR, 'A': treatment, 'Y': outcome}))\n",
        "data_and_nuisance_estimates_LR.head()"
      ],
      "metadata": {
        "id": "jgXteqcxsQo1",
        "colab": {
          "base_uri": "https://localhost:8080/",
          "height": 206
        },
        "outputId": "776a04c0-889f-4a8a-9603-0dfb6d2696db"
      },
      "execution_count": 110,
      "outputs": [
        {
          "output_type": "execute_result",
          "data": {
            "text/plain": [
              "          g         Q0         Q1  A          Y\n",
              "0  0.367456  74.400815  72.369989  0  77.000000\n",
              "1  0.367775  65.763319  64.326119  0  73.666664\n",
              "2  0.489072  68.645615  67.065967  0  70.000000\n",
              "3  0.261071  78.606101  77.026453  0  81.000000\n",
              "4  0.450896  74.054152  72.637679  0  81.500000"
            ],
            "text/html": [
              "\n",
              "  <div id=\"df-6cf17c11-3983-498d-99be-7306a8d80453\">\n",
              "    <div class=\"colab-df-container\">\n",
              "      <div>\n",
              "<style scoped>\n",
              "    .dataframe tbody tr th:only-of-type {\n",
              "        vertical-align: middle;\n",
              "    }\n",
              "\n",
              "    .dataframe tbody tr th {\n",
              "        vertical-align: top;\n",
              "    }\n",
              "\n",
              "    .dataframe thead th {\n",
              "        text-align: right;\n",
              "    }\n",
              "</style>\n",
              "<table border=\"1\" class=\"dataframe\">\n",
              "  <thead>\n",
              "    <tr style=\"text-align: right;\">\n",
              "      <th></th>\n",
              "      <th>g</th>\n",
              "      <th>Q0</th>\n",
              "      <th>Q1</th>\n",
              "      <th>A</th>\n",
              "      <th>Y</th>\n",
              "    </tr>\n",
              "  </thead>\n",
              "  <tbody>\n",
              "    <tr>\n",
              "      <th>0</th>\n",
              "      <td>0.367456</td>\n",
              "      <td>74.400815</td>\n",
              "      <td>72.369989</td>\n",
              "      <td>0</td>\n",
              "      <td>77.000000</td>\n",
              "    </tr>\n",
              "    <tr>\n",
              "      <th>1</th>\n",
              "      <td>0.367775</td>\n",
              "      <td>65.763319</td>\n",
              "      <td>64.326119</td>\n",
              "      <td>0</td>\n",
              "      <td>73.666664</td>\n",
              "    </tr>\n",
              "    <tr>\n",
              "      <th>2</th>\n",
              "      <td>0.489072</td>\n",
              "      <td>68.645615</td>\n",
              "      <td>67.065967</td>\n",
              "      <td>0</td>\n",
              "      <td>70.000000</td>\n",
              "    </tr>\n",
              "    <tr>\n",
              "      <th>3</th>\n",
              "      <td>0.261071</td>\n",
              "      <td>78.606101</td>\n",
              "      <td>77.026453</td>\n",
              "      <td>0</td>\n",
              "      <td>81.000000</td>\n",
              "    </tr>\n",
              "    <tr>\n",
              "      <th>4</th>\n",
              "      <td>0.450896</td>\n",
              "      <td>74.054152</td>\n",
              "      <td>72.637679</td>\n",
              "      <td>0</td>\n",
              "      <td>81.500000</td>\n",
              "    </tr>\n",
              "  </tbody>\n",
              "</table>\n",
              "</div>\n",
              "      <button class=\"colab-df-convert\" onclick=\"convertToInteractive('df-6cf17c11-3983-498d-99be-7306a8d80453')\"\n",
              "              title=\"Convert this dataframe to an interactive table.\"\n",
              "              style=\"display:none;\">\n",
              "        \n",
              "  <svg xmlns=\"http://www.w3.org/2000/svg\" height=\"24px\"viewBox=\"0 0 24 24\"\n",
              "       width=\"24px\">\n",
              "    <path d=\"M0 0h24v24H0V0z\" fill=\"none\"/>\n",
              "    <path d=\"M18.56 5.44l.94 2.06.94-2.06 2.06-.94-2.06-.94-.94-2.06-.94 2.06-2.06.94zm-11 1L8.5 8.5l.94-2.06 2.06-.94-2.06-.94L8.5 2.5l-.94 2.06-2.06.94zm10 10l.94 2.06.94-2.06 2.06-.94-2.06-.94-.94-2.06-.94 2.06-2.06.94z\"/><path d=\"M17.41 7.96l-1.37-1.37c-.4-.4-.92-.59-1.43-.59-.52 0-1.04.2-1.43.59L10.3 9.45l-7.72 7.72c-.78.78-.78 2.05 0 2.83L4 21.41c.39.39.9.59 1.41.59.51 0 1.02-.2 1.41-.59l7.78-7.78 2.81-2.81c.8-.78.8-2.07 0-2.86zM5.41 20L4 18.59l7.72-7.72 1.47 1.35L5.41 20z\"/>\n",
              "  </svg>\n",
              "      </button>\n",
              "      \n",
              "  <style>\n",
              "    .colab-df-container {\n",
              "      display:flex;\n",
              "      flex-wrap:wrap;\n",
              "      gap: 12px;\n",
              "    }\n",
              "\n",
              "    .colab-df-convert {\n",
              "      background-color: #E8F0FE;\n",
              "      border: none;\n",
              "      border-radius: 50%;\n",
              "      cursor: pointer;\n",
              "      display: none;\n",
              "      fill: #1967D2;\n",
              "      height: 32px;\n",
              "      padding: 0 0 0 0;\n",
              "      width: 32px;\n",
              "    }\n",
              "\n",
              "    .colab-df-convert:hover {\n",
              "      background-color: #E2EBFA;\n",
              "      box-shadow: 0px 1px 2px rgba(60, 64, 67, 0.3), 0px 1px 3px 1px rgba(60, 64, 67, 0.15);\n",
              "      fill: #174EA6;\n",
              "    }\n",
              "\n",
              "    [theme=dark] .colab-df-convert {\n",
              "      background-color: #3B4455;\n",
              "      fill: #D2E3FC;\n",
              "    }\n",
              "\n",
              "    [theme=dark] .colab-df-convert:hover {\n",
              "      background-color: #434B5C;\n",
              "      box-shadow: 0px 1px 3px 1px rgba(0, 0, 0, 0.15);\n",
              "      filter: drop-shadow(0px 1px 2px rgba(0, 0, 0, 0.3));\n",
              "      fill: #FFFFFF;\n",
              "    }\n",
              "  </style>\n",
              "\n",
              "      <script>\n",
              "        const buttonEl =\n",
              "          document.querySelector('#df-6cf17c11-3983-498d-99be-7306a8d80453 button.colab-df-convert');\n",
              "        buttonEl.style.display =\n",
              "          google.colab.kernel.accessAllowed ? 'block' : 'none';\n",
              "\n",
              "        async function convertToInteractive(key) {\n",
              "          const element = document.querySelector('#df-6cf17c11-3983-498d-99be-7306a8d80453');\n",
              "          const dataTable =\n",
              "            await google.colab.kernel.invokeFunction('convertToInteractive',\n",
              "                                                     [key], {});\n",
              "          if (!dataTable) return;\n",
              "\n",
              "          const docLinkHtml = 'Like what you see? Visit the ' +\n",
              "            '<a target=\"_blank\" href=https://colab.research.google.com/notebooks/data_table.ipynb>data table notebook</a>'\n",
              "            + ' to learn more about interactive tables.';\n",
              "          element.innerHTML = '';\n",
              "          dataTable['output_type'] = 'display_data';\n",
              "          await google.colab.output.renderOutput(dataTable, element);\n",
              "          const docLink = document.createElement('div');\n",
              "          docLink.innerHTML = docLinkHtml;\n",
              "          element.appendChild(docLink);\n",
              "        }\n",
              "      </script>\n",
              "    </div>\n",
              "  </div>\n",
              "  "
            ]
          },
          "metadata": {},
          "execution_count": 110
        }
      ]
    },
    {
      "cell_type": "markdown",
      "source": [
        "### Calculate the Natural Direct Effect using the ATU formula"
      ],
      "metadata": {
        "id": "BrMCaZL9sa5U"
      }
    },
    {
      "cell_type": "code",
      "source": [
        "tau_hat_LR, std_hat_LR = att_aiptw(**data_and_nuisance_estimates_LR)\n",
        "print(f\"The estimate using RandomForest is {tau_hat_LR} pm {1.96*std_hat_LR}\")"
      ],
      "metadata": {
        "colab": {
          "base_uri": "https://localhost:8080/"
        },
        "id": "pwKVGTpUsgIO",
        "outputId": "a48b1aab-3b7a-4a5c-d803-c453ab28b63f"
      },
      "execution_count": 111,
      "outputs": [
        {
          "output_type": "stream",
          "name": "stdout",
          "text": [
            "The estimate using RandomForest is -1.7545830996293097 pm 1.6116906687275725\n"
          ]
        }
      ]
    },
    {
      "cell_type": "markdown",
      "source": [
        "## Calculate the Natural Direct Effect with two Mediators using XGBoost model"
      ],
      "metadata": {
        "id": "7Mz72YvHtE7r"
      }
    },
    {
      "cell_type": "markdown",
      "source": [
        "### Calculate Q0 and Q1 model using XGBoost"
      ],
      "metadata": {
        "id": "xGBYzxtBtg72"
      }
    },
    {
      "cell_type": "code",
      "source": [
        "Q0_XGB,Q1_XGB = outcome_k_fold_fit_and_predict(make_Qmodel_XGBoost, X=confounders_with_allMediators, y=outcome, A=treatment, n_splits=10, output_type=\"continuous\")"
      ],
      "metadata": {
        "id": "6EnXGFwUtOYW"
      },
      "execution_count": 89,
      "outputs": []
    },
    {
      "cell_type": "markdown",
      "source": [
        "### Combine the dataset for g, Q0, Q1, A, and Y values"
      ],
      "metadata": {
        "id": "NZdRyegdtdKt"
      }
    },
    {
      "cell_type": "code",
      "source": [
        "data_and_nuisance_estimates_XGB = exclude_moderate(pd.DataFrame({'g': g3, 'Q0': Q0_XGB, 'Q1': Q1_XGB, 'A': treatment, 'Y': outcome}))\n",
        "data_and_nuisance_estimates_XGB.head()"
      ],
      "metadata": {
        "id": "OxZj4xFntvdy",
        "colab": {
          "base_uri": "https://localhost:8080/",
          "height": 206
        },
        "outputId": "c5342050-4b5d-45b0-b5a3-abaa3e863879"
      },
      "execution_count": 90,
      "outputs": [
        {
          "output_type": "execute_result",
          "data": {
            "text/plain": [
              "          g         Q0         Q1  A          Y\n",
              "0  0.227087  77.488861  75.122292  0  77.000000\n",
              "1  0.199275  66.383614  62.081127  0  73.666664\n",
              "2  0.440174  72.696465  70.747185  0  70.000000\n",
              "3  0.622674  70.690514  69.941917  0  81.000000\n",
              "4  0.290809  75.049919  73.602463  0  81.500000"
            ],
            "text/html": [
              "\n",
              "  <div id=\"df-1013c3e2-b0ec-4f46-b374-d43a5264bfd1\">\n",
              "    <div class=\"colab-df-container\">\n",
              "      <div>\n",
              "<style scoped>\n",
              "    .dataframe tbody tr th:only-of-type {\n",
              "        vertical-align: middle;\n",
              "    }\n",
              "\n",
              "    .dataframe tbody tr th {\n",
              "        vertical-align: top;\n",
              "    }\n",
              "\n",
              "    .dataframe thead th {\n",
              "        text-align: right;\n",
              "    }\n",
              "</style>\n",
              "<table border=\"1\" class=\"dataframe\">\n",
              "  <thead>\n",
              "    <tr style=\"text-align: right;\">\n",
              "      <th></th>\n",
              "      <th>g</th>\n",
              "      <th>Q0</th>\n",
              "      <th>Q1</th>\n",
              "      <th>A</th>\n",
              "      <th>Y</th>\n",
              "    </tr>\n",
              "  </thead>\n",
              "  <tbody>\n",
              "    <tr>\n",
              "      <th>0</th>\n",
              "      <td>0.227087</td>\n",
              "      <td>77.488861</td>\n",
              "      <td>75.122292</td>\n",
              "      <td>0</td>\n",
              "      <td>77.000000</td>\n",
              "    </tr>\n",
              "    <tr>\n",
              "      <th>1</th>\n",
              "      <td>0.199275</td>\n",
              "      <td>66.383614</td>\n",
              "      <td>62.081127</td>\n",
              "      <td>0</td>\n",
              "      <td>73.666664</td>\n",
              "    </tr>\n",
              "    <tr>\n",
              "      <th>2</th>\n",
              "      <td>0.440174</td>\n",
              "      <td>72.696465</td>\n",
              "      <td>70.747185</td>\n",
              "      <td>0</td>\n",
              "      <td>70.000000</td>\n",
              "    </tr>\n",
              "    <tr>\n",
              "      <th>3</th>\n",
              "      <td>0.622674</td>\n",
              "      <td>70.690514</td>\n",
              "      <td>69.941917</td>\n",
              "      <td>0</td>\n",
              "      <td>81.000000</td>\n",
              "    </tr>\n",
              "    <tr>\n",
              "      <th>4</th>\n",
              "      <td>0.290809</td>\n",
              "      <td>75.049919</td>\n",
              "      <td>73.602463</td>\n",
              "      <td>0</td>\n",
              "      <td>81.500000</td>\n",
              "    </tr>\n",
              "  </tbody>\n",
              "</table>\n",
              "</div>\n",
              "      <button class=\"colab-df-convert\" onclick=\"convertToInteractive('df-1013c3e2-b0ec-4f46-b374-d43a5264bfd1')\"\n",
              "              title=\"Convert this dataframe to an interactive table.\"\n",
              "              style=\"display:none;\">\n",
              "        \n",
              "  <svg xmlns=\"http://www.w3.org/2000/svg\" height=\"24px\"viewBox=\"0 0 24 24\"\n",
              "       width=\"24px\">\n",
              "    <path d=\"M0 0h24v24H0V0z\" fill=\"none\"/>\n",
              "    <path d=\"M18.56 5.44l.94 2.06.94-2.06 2.06-.94-2.06-.94-.94-2.06-.94 2.06-2.06.94zm-11 1L8.5 8.5l.94-2.06 2.06-.94-2.06-.94L8.5 2.5l-.94 2.06-2.06.94zm10 10l.94 2.06.94-2.06 2.06-.94-2.06-.94-.94-2.06-.94 2.06-2.06.94z\"/><path d=\"M17.41 7.96l-1.37-1.37c-.4-.4-.92-.59-1.43-.59-.52 0-1.04.2-1.43.59L10.3 9.45l-7.72 7.72c-.78.78-.78 2.05 0 2.83L4 21.41c.39.39.9.59 1.41.59.51 0 1.02-.2 1.41-.59l7.78-7.78 2.81-2.81c.8-.78.8-2.07 0-2.86zM5.41 20L4 18.59l7.72-7.72 1.47 1.35L5.41 20z\"/>\n",
              "  </svg>\n",
              "      </button>\n",
              "      \n",
              "  <style>\n",
              "    .colab-df-container {\n",
              "      display:flex;\n",
              "      flex-wrap:wrap;\n",
              "      gap: 12px;\n",
              "    }\n",
              "\n",
              "    .colab-df-convert {\n",
              "      background-color: #E8F0FE;\n",
              "      border: none;\n",
              "      border-radius: 50%;\n",
              "      cursor: pointer;\n",
              "      display: none;\n",
              "      fill: #1967D2;\n",
              "      height: 32px;\n",
              "      padding: 0 0 0 0;\n",
              "      width: 32px;\n",
              "    }\n",
              "\n",
              "    .colab-df-convert:hover {\n",
              "      background-color: #E2EBFA;\n",
              "      box-shadow: 0px 1px 2px rgba(60, 64, 67, 0.3), 0px 1px 3px 1px rgba(60, 64, 67, 0.15);\n",
              "      fill: #174EA6;\n",
              "    }\n",
              "\n",
              "    [theme=dark] .colab-df-convert {\n",
              "      background-color: #3B4455;\n",
              "      fill: #D2E3FC;\n",
              "    }\n",
              "\n",
              "    [theme=dark] .colab-df-convert:hover {\n",
              "      background-color: #434B5C;\n",
              "      box-shadow: 0px 1px 3px 1px rgba(0, 0, 0, 0.15);\n",
              "      filter: drop-shadow(0px 1px 2px rgba(0, 0, 0, 0.3));\n",
              "      fill: #FFFFFF;\n",
              "    }\n",
              "  </style>\n",
              "\n",
              "      <script>\n",
              "        const buttonEl =\n",
              "          document.querySelector('#df-1013c3e2-b0ec-4f46-b374-d43a5264bfd1 button.colab-df-convert');\n",
              "        buttonEl.style.display =\n",
              "          google.colab.kernel.accessAllowed ? 'block' : 'none';\n",
              "\n",
              "        async function convertToInteractive(key) {\n",
              "          const element = document.querySelector('#df-1013c3e2-b0ec-4f46-b374-d43a5264bfd1');\n",
              "          const dataTable =\n",
              "            await google.colab.kernel.invokeFunction('convertToInteractive',\n",
              "                                                     [key], {});\n",
              "          if (!dataTable) return;\n",
              "\n",
              "          const docLinkHtml = 'Like what you see? Visit the ' +\n",
              "            '<a target=\"_blank\" href=https://colab.research.google.com/notebooks/data_table.ipynb>data table notebook</a>'\n",
              "            + ' to learn more about interactive tables.';\n",
              "          element.innerHTML = '';\n",
              "          dataTable['output_type'] = 'display_data';\n",
              "          await google.colab.output.renderOutput(dataTable, element);\n",
              "          const docLink = document.createElement('div');\n",
              "          docLink.innerHTML = docLinkHtml;\n",
              "          element.appendChild(docLink);\n",
              "        }\n",
              "      </script>\n",
              "    </div>\n",
              "  </div>\n",
              "  "
            ]
          },
          "metadata": {},
          "execution_count": 90
        }
      ]
    },
    {
      "cell_type": "markdown",
      "source": [
        "### Calculate the Natural Direct Effect using the ATU formula"
      ],
      "metadata": {
        "id": "6IFD_uhvtrU9"
      }
    },
    {
      "cell_type": "code",
      "source": [
        "tau_hat_XGB, std_hat_XGB = att_aiptw(**data_and_nuisance_estimates_XGB)\n",
        "print(f\"The estimate using RandomForest is {tau_hat_XGB} pm {1.96*std_hat_XGB}\")"
      ],
      "metadata": {
        "id": "fAP289gxuP7X",
        "colab": {
          "base_uri": "https://localhost:8080/"
        },
        "outputId": "03154aba-146c-4617-bea9-afc2bd4a2809"
      },
      "execution_count": 91,
      "outputs": [
        {
          "output_type": "stream",
          "name": "stdout",
          "text": [
            "The estimate using RandomForest is -3.164760254865545 pm 2.284976829848596\n"
          ]
        }
      ]
    },
    {
      "cell_type": "markdown",
      "metadata": {
        "id": "r5tVJ3-qvccX"
      },
      "source": [
        "# Natural Direct Effect with StudyHours as the mediator"
      ]
    },
    {
      "cell_type": "markdown",
      "metadata": {
        "id": "vzrTOVNtvccX"
      },
      "source": [
        "## Check Overlap Conditions 0<Pr(A =1 |𝐗 = x, M1 = m1) < 1 using the three models"
      ]
    },
    {
      "cell_type": "code",
      "execution_count": 134,
      "metadata": {
        "colab": {
          "base_uri": "https://localhost:8080/",
          "height": 386
        },
        "outputId": "721df0bd-87ee-424c-c9a5-26a3bcb183e7",
        "id": "z-lbBRKJvccX"
      },
      "outputs": [
        {
          "output_type": "stream",
          "name": "stdout",
          "text": [
            "StratifiedKFold(n_splits=10, random_state=42, shuffle=True)\n"
          ]
        },
        {
          "output_type": "execute_result",
          "data": {
            "text/plain": [
              "(array([0.20542999, 0.41085998, 0.78063397, 1.91049893, 2.6295039 ,\n",
              "        3.14307888, 2.7527619 , 1.37638095, 0.39031699, 0.18488699]),\n",
              " array([0.10964183, 0.18218785, 0.25473388, 0.32727991, 0.39982593,\n",
              "        0.47237196, 0.54491799, 0.61746401, 0.69001004, 0.76255607,\n",
              "        0.83510209]),\n",
              " <a list of 10 Patch objects>)"
            ]
          },
          "metadata": {},
          "execution_count": 134
        },
        {
          "output_type": "display_data",
          "data": {
            "text/plain": [
              "<Figure size 432x288 with 1 Axes>"
            ],
            "image/png": "[encoded data removed]"
          },
          "metadata": {
            "needs_background": "light"
          }
        }
      ],
      "source": [
        "#check the overlap conditions using randomForest\n",
        "#get the propensity score function\n",
        "g1_SH = treatment_k_fold_fit_and_predict(make_gmodel_randomForest, X=confounders_with_mediatorStudyHours, A=treatment, n_splits=10)\n",
        "g1_SH_ol = np.concatenate((g1_SH[:364],g1_SH[746:]))\n",
        "hist(g1_SH_ol, density=True)"
      ]
    },
    {
      "cell_type": "code",
      "execution_count": 139,
      "metadata": {
        "colab": {
          "base_uri": "https://localhost:8080/",
          "height": 387
        },
        "outputId": "3f464b60-7d5d-4f33-a894-abbe56701a7e",
        "id": "qs3EjUetvccY"
      },
      "outputs": [
        {
          "output_type": "stream",
          "name": "stdout",
          "text": [
            "StratifiedKFold(n_splits=10, random_state=42, shuffle=True)\n"
          ]
        },
        {
          "output_type": "execute_result",
          "data": {
            "text/plain": [
              "(array([0.16586695, 0.24880043, 0.62200108, 2.15627041, 4.02227366,\n",
              "        5.51507625, 6.75907841, 6.09561059, 1.74160303, 0.49760086]),\n",
              " array([0.27255243, 0.30849239, 0.34443235, 0.38037231, 0.41631227,\n",
              "        0.45225223, 0.48819219, 0.52413215, 0.56007211, 0.59601207,\n",
              "        0.63195204]),\n",
              " <a list of 10 Patch objects>)"
            ]
          },
          "metadata": {},
          "execution_count": 139
        },
        {
          "output_type": "display_data",
          "data": {
            "text/plain": [
              "<Figure size 432x288 with 1 Axes>"
            ],
            "image/png": "[encoded data removed]"
          },
          "metadata": {
            "needs_background": "light"
          }
        }
      ],
      "source": [
        "#check the overlap conditions using Logistic Regression\n",
        "g2_SH = treatment_k_fold_fit_and_predict(make_gmodel_logisticRegression, X=confounders_with_mediatorStudyHours, A=treatment, n_splits=10)\n",
        "g2_SH_ol = np.concatenate((g2_SH[:364],g2_SH[746:]))\n",
        "hist(g2_SH_ol, density=True)"
      ]
    },
    {
      "cell_type": "code",
      "execution_count": 138,
      "metadata": {
        "colab": {
          "base_uri": "https://localhost:8080/",
          "height": 389
        },
        "outputId": "b0b509c5-7ed4-4985-9d2b-00ff83807f59",
        "id": "Fky2lWR4vccY"
      },
      "outputs": [
        {
          "output_type": "stream",
          "name": "stdout",
          "text": [
            "StratifiedKFold(n_splits=10, random_state=42, shuffle=True)\n"
          ]
        },
        {
          "output_type": "execute_result",
          "data": {
            "text/plain": [
              "(array([0.03539834, 0.19469085, 0.46017837, 1.06195009, 2.58407855,\n",
              "        3.84071948, 2.49558271, 0.7787634 , 0.31858503, 0.10619501]),\n",
              " array([0.03583595, 0.12003838, 0.20424081, 0.28844324, 0.37264567,\n",
              "        0.4568481 , 0.54105053, 0.62525296, 0.70945539, 0.79365782,\n",
              "        0.87786025]),\n",
              " <a list of 10 Patch objects>)"
            ]
          },
          "metadata": {},
          "execution_count": 138
        },
        {
          "output_type": "display_data",
          "data": {
            "text/plain": [
              "<Figure size 432x288 with 1 Axes>"
            ],
            "image/png": "[encoded data removed]"
          },
          "metadata": {
            "needs_background": "light"
          }
        }
      ],
      "source": [
        "#check the ovrlap conditions using XGBoost\n",
        "g3_SH = treatment_k_fold_fit_and_predict(make_gmodel_XGBClassifier, X=confounders_with_mediatorStudyHours, A=treatment, n_splits=10)\n",
        "g3_SH_ol = np.concatenate((g3_SH[:364],g3_SH[746:]))\n",
        "hist(g3_SH_ol, density=True)"
      ]
    },
    {
      "cell_type": "markdown",
      "metadata": {
        "id": "mUo3HEw7vccY"
      },
      "source": [
        "## Calculate Natural Direct Effect using RandomForest: Using StudyHours as the mediator"
      ]
    },
    {
      "cell_type": "markdown",
      "metadata": {
        "id": "qimN2jQQvccY"
      },
      "source": [
        "### Calculate Q0 and Q1 model using Random Forest"
      ]
    },
    {
      "cell_type": "code",
      "execution_count": 95,
      "metadata": {
        "id": "9FCg3QNLvccY"
      },
      "outputs": [],
      "source": [
        "# Calculate Q0 and Q1 model\n",
        "Q0_RFSH,Q1_RFSH = outcome_k_fold_fit_and_predict(make_Qmodel_randomForest, X=confounders_with_mediatorStudyHours, y=outcome, A=treatment, n_splits=10, output_type=\"continuous\")"
      ]
    },
    {
      "cell_type": "markdown",
      "metadata": {
        "id": "HJS5fNTRvccY"
      },
      "source": [
        "### Combine the Dataset for g, Q0, Q1, A, and Y values"
      ]
    },
    {
      "cell_type": "code",
      "execution_count": 96,
      "metadata": {
        "colab": {
          "base_uri": "https://localhost:8080/",
          "height": 206
        },
        "outputId": "0530c888-274a-41e0-eb09-71670196b677",
        "id": "GGvlefq3vccY"
      },
      "outputs": [
        {
          "output_type": "execute_result",
          "data": {
            "text/plain": [
              "          g         Q0         Q1  A          Y\n",
              "0  0.329007  72.627219  72.246202  0  77.000000\n",
              "1  0.270789  67.910706  67.193627  0  73.666664\n",
              "2  0.464039  72.367704  71.957374  0  70.000000\n",
              "3  0.409565  73.347364  72.649354  0  81.000000\n",
              "4  0.470720  74.291248  74.006197  0  81.500000"
            ],
            "text/html": [
              "\n",
              "  <div id=\"df-406302eb-75bf-485d-8fe5-cb0e5929003d\">\n",
              "    <div class=\"colab-df-container\">\n",
              "      <div>\n",
              "<style scoped>\n",
              "    .dataframe tbody tr th:only-of-type {\n",
              "        vertical-align: middle;\n",
              "    }\n",
              "\n",
              "    .dataframe tbody tr th {\n",
              "        vertical-align: top;\n",
              "    }\n",
              "\n",
              "    .dataframe thead th {\n",
              "        text-align: right;\n",
              "    }\n",
              "</style>\n",
              "<table border=\"1\" class=\"dataframe\">\n",
              "  <thead>\n",
              "    <tr style=\"text-align: right;\">\n",
              "      <th></th>\n",
              "      <th>g</th>\n",
              "      <th>Q0</th>\n",
              "      <th>Q1</th>\n",
              "      <th>A</th>\n",
              "      <th>Y</th>\n",
              "    </tr>\n",
              "  </thead>\n",
              "  <tbody>\n",
              "    <tr>\n",
              "      <th>0</th>\n",
              "      <td>0.329007</td>\n",
              "      <td>72.627219</td>\n",
              "      <td>72.246202</td>\n",
              "      <td>0</td>\n",
              "      <td>77.000000</td>\n",
              "    </tr>\n",
              "    <tr>\n",
              "      <th>1</th>\n",
              "      <td>0.270789</td>\n",
              "      <td>67.910706</td>\n",
              "      <td>67.193627</td>\n",
              "      <td>0</td>\n",
              "      <td>73.666664</td>\n",
              "    </tr>\n",
              "    <tr>\n",
              "      <th>2</th>\n",
              "      <td>0.464039</td>\n",
              "      <td>72.367704</td>\n",
              "      <td>71.957374</td>\n",
              "      <td>0</td>\n",
              "      <td>70.000000</td>\n",
              "    </tr>\n",
              "    <tr>\n",
              "      <th>3</th>\n",
              "      <td>0.409565</td>\n",
              "      <td>73.347364</td>\n",
              "      <td>72.649354</td>\n",
              "      <td>0</td>\n",
              "      <td>81.000000</td>\n",
              "    </tr>\n",
              "    <tr>\n",
              "      <th>4</th>\n",
              "      <td>0.470720</td>\n",
              "      <td>74.291248</td>\n",
              "      <td>74.006197</td>\n",
              "      <td>0</td>\n",
              "      <td>81.500000</td>\n",
              "    </tr>\n",
              "  </tbody>\n",
              "</table>\n",
              "</div>\n",
              "      <button class=\"colab-df-convert\" onclick=\"convertToInteractive('df-406302eb-75bf-485d-8fe5-cb0e5929003d')\"\n",
              "              title=\"Convert this dataframe to an interactive table.\"\n",
              "              style=\"display:none;\">\n",
              "        \n",
              "  <svg xmlns=\"http://www.w3.org/2000/svg\" height=\"24px\"viewBox=\"0 0 24 24\"\n",
              "       width=\"24px\">\n",
              "    <path d=\"M0 0h24v24H0V0z\" fill=\"none\"/>\n",
              "    <path d=\"M18.56 5.44l.94 2.06.94-2.06 2.06-.94-2.06-.94-.94-2.06-.94 2.06-2.06.94zm-11 1L8.5 8.5l.94-2.06 2.06-.94-2.06-.94L8.5 2.5l-.94 2.06-2.06.94zm10 10l.94 2.06.94-2.06 2.06-.94-2.06-.94-.94-2.06-.94 2.06-2.06.94z\"/><path d=\"M17.41 7.96l-1.37-1.37c-.4-.4-.92-.59-1.43-.59-.52 0-1.04.2-1.43.59L10.3 9.45l-7.72 7.72c-.78.78-.78 2.05 0 2.83L4 21.41c.39.39.9.59 1.41.59.51 0 1.02-.2 1.41-.59l7.78-7.78 2.81-2.81c.8-.78.8-2.07 0-2.86zM5.41 20L4 18.59l7.72-7.72 1.47 1.35L5.41 20z\"/>\n",
              "  </svg>\n",
              "      </button>\n",
              "      \n",
              "  <style>\n",
              "    .colab-df-container {\n",
              "      display:flex;\n",
              "      flex-wrap:wrap;\n",
              "      gap: 12px;\n",
              "    }\n",
              "\n",
              "    .colab-df-convert {\n",
              "      background-color: #E8F0FE;\n",
              "      border: none;\n",
              "      border-radius: 50%;\n",
              "      cursor: pointer;\n",
              "      display: none;\n",
              "      fill: #1967D2;\n",
              "      height: 32px;\n",
              "      padding: 0 0 0 0;\n",
              "      width: 32px;\n",
              "    }\n",
              "\n",
              "    .colab-df-convert:hover {\n",
              "      background-color: #E2EBFA;\n",
              "      box-shadow: 0px 1px 2px rgba(60, 64, 67, 0.3), 0px 1px 3px 1px rgba(60, 64, 67, 0.15);\n",
              "      fill: #174EA6;\n",
              "    }\n",
              "\n",
              "    [theme=dark] .colab-df-convert {\n",
              "      background-color: #3B4455;\n",
              "      fill: #D2E3FC;\n",
              "    }\n",
              "\n",
              "    [theme=dark] .colab-df-convert:hover {\n",
              "      background-color: #434B5C;\n",
              "      box-shadow: 0px 1px 3px 1px rgba(0, 0, 0, 0.15);\n",
              "      filter: drop-shadow(0px 1px 2px rgba(0, 0, 0, 0.3));\n",
              "      fill: #FFFFFF;\n",
              "    }\n",
              "  </style>\n",
              "\n",
              "      <script>\n",
              "        const buttonEl =\n",
              "          document.querySelector('#df-406302eb-75bf-485d-8fe5-cb0e5929003d button.colab-df-convert');\n",
              "        buttonEl.style.display =\n",
              "          google.colab.kernel.accessAllowed ? 'block' : 'none';\n",
              "\n",
              "        async function convertToInteractive(key) {\n",
              "          const element = document.querySelector('#df-406302eb-75bf-485d-8fe5-cb0e5929003d');\n",
              "          const dataTable =\n",
              "            await google.colab.kernel.invokeFunction('convertToInteractive',\n",
              "                                                     [key], {});\n",
              "          if (!dataTable) return;\n",
              "\n",
              "          const docLinkHtml = 'Like what you see? Visit the ' +\n",
              "            '<a target=\"_blank\" href=https://colab.research.google.com/notebooks/data_table.ipynb>data table notebook</a>'\n",
              "            + ' to learn more about interactive tables.';\n",
              "          element.innerHTML = '';\n",
              "          dataTable['output_type'] = 'display_data';\n",
              "          await google.colab.output.renderOutput(dataTable, element);\n",
              "          const docLink = document.createElement('div');\n",
              "          docLink.innerHTML = docLinkHtml;\n",
              "          element.appendChild(docLink);\n",
              "        }\n",
              "      </script>\n",
              "    </div>\n",
              "  </div>\n",
              "  "
            ]
          },
          "metadata": {},
          "execution_count": 96
        }
      ],
      "source": [
        "data_and_nuisance_estimates_RFSH = exclude_moderate(pd.DataFrame({'g': g1_SH, 'Q0': Q0_RFSH, 'Q1': Q1_RFSH, 'A': treatment, 'Y': outcome}))\n",
        "data_and_nuisance_estimates_RFSH.head()"
      ]
    },
    {
      "cell_type": "markdown",
      "metadata": {
        "id": "my5fFYv7vccZ"
      },
      "source": [
        "### Calculate the Natural Direct Effect using the ATU formula"
      ]
    },
    {
      "cell_type": "code",
      "execution_count": 97,
      "metadata": {
        "colab": {
          "base_uri": "https://localhost:8080/"
        },
        "outputId": "e00d02da-ee04-4d80-d3a2-5a41da1e9d12",
        "id": "y26GBnjdvccZ"
      },
      "outputs": [
        {
          "output_type": "stream",
          "name": "stdout",
          "text": [
            "The estimate is -2.6179714037558823 pm 1.6150072641667215\n"
          ]
        }
      ],
      "source": [
        "tau_hat_RFSH, std_hat_RFSH = att_aiptw(**data_and_nuisance_estimates_RFSH)\n",
        "print(f\"The estimate is {tau_hat_RFSH} pm {1.96*std_hat_RFSH}\")"
      ]
    },
    {
      "cell_type": "markdown",
      "source": [
        "## Calculate Natural Direct Effect using Logistic Regression: Using StudyHours as the mediator"
      ],
      "metadata": {
        "id": "wusfve4QvccZ"
      }
    },
    {
      "cell_type": "markdown",
      "source": [
        "### Calculate Q0 and Q1 model using Logistic Regression"
      ],
      "metadata": {
        "id": "gpajpARxvccZ"
      }
    },
    {
      "cell_type": "code",
      "source": [
        "Q0_LRSH,Q1_LRSH = outcome_k_fold_fit_and_predict(make_Qmodel_linearRegression, X=confounders_with_mediatorStudyHours, y=outcome, A=treatment, n_splits=10, output_type=\"continuous\")"
      ],
      "metadata": {
        "id": "l53YzxSVvccZ"
      },
      "execution_count": 98,
      "outputs": []
    },
    {
      "cell_type": "markdown",
      "source": [
        "### Combine the dataset for g, Q0, Q1, A, and Y values"
      ],
      "metadata": {
        "id": "kopNcIoAvccZ"
      }
    },
    {
      "cell_type": "code",
      "source": [
        "data_and_nuisance_estimates_LRSH = exclude_moderate(pd.DataFrame({'g': g2_SH, 'Q0': Q0_LRSH, 'Q1': Q1_LRSH, 'A': treatment, 'Y': outcome}))\n",
        "data_and_nuisance_estimates_LRSH.head()"
      ],
      "metadata": {
        "colab": {
          "base_uri": "https://localhost:8080/",
          "height": 206
        },
        "outputId": "d3e2de7e-e97b-4894-8f32-e49438780ade",
        "id": "C-eq2ZCdvccZ"
      },
      "execution_count": 99,
      "outputs": [
        {
          "output_type": "execute_result",
          "data": {
            "text/plain": [
              "          g         Q0         Q1  A          Y\n",
              "0  0.407010  74.327267  72.283829  0  77.000000\n",
              "1  0.380085  65.705040  64.250488  0  73.666664\n",
              "2  0.539543  68.788454  67.227153  0  70.000000\n",
              "3  0.310189  78.884170  77.322870  0  81.000000\n",
              "4  0.522647  73.766872  72.331557  0  81.500000"
            ],
            "text/html": [
              "\n",
              "  <div id=\"df-72f798e2-c0b6-4658-a0cf-0a082567419e\">\n",
              "    <div class=\"colab-df-container\">\n",
              "      <div>\n",
              "<style scoped>\n",
              "    .dataframe tbody tr th:only-of-type {\n",
              "        vertical-align: middle;\n",
              "    }\n",
              "\n",
              "    .dataframe tbody tr th {\n",
              "        vertical-align: top;\n",
              "    }\n",
              "\n",
              "    .dataframe thead th {\n",
              "        text-align: right;\n",
              "    }\n",
              "</style>\n",
              "<table border=\"1\" class=\"dataframe\">\n",
              "  <thead>\n",
              "    <tr style=\"text-align: right;\">\n",
              "      <th></th>\n",
              "      <th>g</th>\n",
              "      <th>Q0</th>\n",
              "      <th>Q1</th>\n",
              "      <th>A</th>\n",
              "      <th>Y</th>\n",
              "    </tr>\n",
              "  </thead>\n",
              "  <tbody>\n",
              "    <tr>\n",
              "      <th>0</th>\n",
              "      <td>0.407010</td>\n",
              "      <td>74.327267</td>\n",
              "      <td>72.283829</td>\n",
              "      <td>0</td>\n",
              "      <td>77.000000</td>\n",
              "    </tr>\n",
              "    <tr>\n",
              "      <th>1</th>\n",
              "      <td>0.380085</td>\n",
              "      <td>65.705040</td>\n",
              "      <td>64.250488</td>\n",
              "      <td>0</td>\n",
              "      <td>73.666664</td>\n",
              "    </tr>\n",
              "    <tr>\n",
              "      <th>2</th>\n",
              "      <td>0.539543</td>\n",
              "      <td>68.788454</td>\n",
              "      <td>67.227153</td>\n",
              "      <td>0</td>\n",
              "      <td>70.000000</td>\n",
              "    </tr>\n",
              "    <tr>\n",
              "      <th>3</th>\n",
              "      <td>0.310189</td>\n",
              "      <td>78.884170</td>\n",
              "      <td>77.322870</td>\n",
              "      <td>0</td>\n",
              "      <td>81.000000</td>\n",
              "    </tr>\n",
              "    <tr>\n",
              "      <th>4</th>\n",
              "      <td>0.522647</td>\n",
              "      <td>73.766872</td>\n",
              "      <td>72.331557</td>\n",
              "      <td>0</td>\n",
              "      <td>81.500000</td>\n",
              "    </tr>\n",
              "  </tbody>\n",
              "</table>\n",
              "</div>\n",
              "      <button class=\"colab-df-convert\" onclick=\"convertToInteractive('df-72f798e2-c0b6-4658-a0cf-0a082567419e')\"\n",
              "              title=\"Convert this dataframe to an interactive table.\"\n",
              "              style=\"display:none;\">\n",
              "        \n",
              "  <svg xmlns=\"http://www.w3.org/2000/svg\" height=\"24px\"viewBox=\"0 0 24 24\"\n",
              "       width=\"24px\">\n",
              "    <path d=\"M0 0h24v24H0V0z\" fill=\"none\"/>\n",
              "    <path d=\"M18.56 5.44l.94 2.06.94-2.06 2.06-.94-2.06-.94-.94-2.06-.94 2.06-2.06.94zm-11 1L8.5 8.5l.94-2.06 2.06-.94-2.06-.94L8.5 2.5l-.94 2.06-2.06.94zm10 10l.94 2.06.94-2.06 2.06-.94-2.06-.94-.94-2.06-.94 2.06-2.06.94z\"/><path d=\"M17.41 7.96l-1.37-1.37c-.4-.4-.92-.59-1.43-.59-.52 0-1.04.2-1.43.59L10.3 9.45l-7.72 7.72c-.78.78-.78 2.05 0 2.83L4 21.41c.39.39.9.59 1.41.59.51 0 1.02-.2 1.41-.59l7.78-7.78 2.81-2.81c.8-.78.8-2.07 0-2.86zM5.41 20L4 18.59l7.72-7.72 1.47 1.35L5.41 20z\"/>\n",
              "  </svg>\n",
              "      </button>\n",
              "      \n",
              "  <style>\n",
              "    .colab-df-container {\n",
              "      display:flex;\n",
              "      flex-wrap:wrap;\n",
              "      gap: 12px;\n",
              "    }\n",
              "\n",
              "    .colab-df-convert {\n",
              "      background-color: #E8F0FE;\n",
              "      border: none;\n",
              "      border-radius: 50%;\n",
              "      cursor: pointer;\n",
              "      display: none;\n",
              "      fill: #1967D2;\n",
              "      height: 32px;\n",
              "      padding: 0 0 0 0;\n",
              "      width: 32px;\n",
              "    }\n",
              "\n",
              "    .colab-df-convert:hover {\n",
              "      background-color: #E2EBFA;\n",
              "      box-shadow: 0px 1px 2px rgba(60, 64, 67, 0.3), 0px 1px 3px 1px rgba(60, 64, 67, 0.15);\n",
              "      fill: #174EA6;\n",
              "    }\n",
              "\n",
              "    [theme=dark] .colab-df-convert {\n",
              "      background-color: #3B4455;\n",
              "      fill: #D2E3FC;\n",
              "    }\n",
              "\n",
              "    [theme=dark] .colab-df-convert:hover {\n",
              "      background-color: #434B5C;\n",
              "      box-shadow: 0px 1px 3px 1px rgba(0, 0, 0, 0.15);\n",
              "      filter: drop-shadow(0px 1px 2px rgba(0, 0, 0, 0.3));\n",
              "      fill: #FFFFFF;\n",
              "    }\n",
              "  </style>\n",
              "\n",
              "      <script>\n",
              "        const buttonEl =\n",
              "          document.querySelector('#df-72f798e2-c0b6-4658-a0cf-0a082567419e button.colab-df-convert');\n",
              "        buttonEl.style.display =\n",
              "          google.colab.kernel.accessAllowed ? 'block' : 'none';\n",
              "\n",
              "        async function convertToInteractive(key) {\n",
              "          const element = document.querySelector('#df-72f798e2-c0b6-4658-a0cf-0a082567419e');\n",
              "          const dataTable =\n",
              "            await google.colab.kernel.invokeFunction('convertToInteractive',\n",
              "                                                     [key], {});\n",
              "          if (!dataTable) return;\n",
              "\n",
              "          const docLinkHtml = 'Like what you see? Visit the ' +\n",
              "            '<a target=\"_blank\" href=https://colab.research.google.com/notebooks/data_table.ipynb>data table notebook</a>'\n",
              "            + ' to learn more about interactive tables.';\n",
              "          element.innerHTML = '';\n",
              "          dataTable['output_type'] = 'display_data';\n",
              "          await google.colab.output.renderOutput(dataTable, element);\n",
              "          const docLink = document.createElement('div');\n",
              "          docLink.innerHTML = docLinkHtml;\n",
              "          element.appendChild(docLink);\n",
              "        }\n",
              "      </script>\n",
              "    </div>\n",
              "  </div>\n",
              "  "
            ]
          },
          "metadata": {},
          "execution_count": 99
        }
      ]
    },
    {
      "cell_type": "markdown",
      "source": [
        "### Calculate the Natural Direct Effect using the ATU formula"
      ],
      "metadata": {
        "id": "HjHBw0CbvccZ"
      }
    },
    {
      "cell_type": "code",
      "source": [
        "tau_hat_LRSH, std_hat_LRSH = att_aiptw(**data_and_nuisance_estimates_LRSH)\n",
        "print(f\"The estimate is {tau_hat_LRSH} pm {1.96*std_hat_LRSH}\")"
      ],
      "metadata": {
        "colab": {
          "base_uri": "https://localhost:8080/"
        },
        "outputId": "b9f096a4-3b93-41b9-f5de-991950b4e9e1",
        "id": "6oxU2fRdvccZ"
      },
      "execution_count": 100,
      "outputs": [
        {
          "output_type": "stream",
          "name": "stdout",
          "text": [
            "The estimate is -1.8364571048587148 pm 1.4535761310419513\n"
          ]
        }
      ]
    },
    {
      "cell_type": "markdown",
      "source": [
        "## Calculate the Natural Direct Effect using XGBoost model: Using StudyHours as the Mediator"
      ],
      "metadata": {
        "id": "khunWu9-vcca"
      }
    },
    {
      "cell_type": "markdown",
      "source": [
        "### Calculate Q0 and Q1 model using XGBoost"
      ],
      "metadata": {
        "id": "MiyobKXivcca"
      }
    },
    {
      "cell_type": "code",
      "source": [
        "Q0_XGSH,Q1_XGSH = outcome_k_fold_fit_and_predict(make_Qmodel_XGBoost, X=confounders_with_mediatorStudyHours, y=outcome, A=treatment, n_splits=10, output_type=\"continuous\")"
      ],
      "metadata": {
        "id": "TLYnmWPdvcca"
      },
      "execution_count": 101,
      "outputs": []
    },
    {
      "cell_type": "markdown",
      "source": [
        "### Combine the dataset for g, Q0, Q1, A, and Y values"
      ],
      "metadata": {
        "id": "ztWQif2Tvcca"
      }
    },
    {
      "cell_type": "code",
      "source": [
        "data_and_nuisance_estimates_XGSH = exclude_moderate(pd.DataFrame({'g': g3_SH, 'Q0': Q0_XGSH, 'Q1': Q1_XGSH, 'A': treatment, 'Y': outcome}))\n",
        "data_and_nuisance_estimates_XGSH.head()"
      ],
      "metadata": {
        "colab": {
          "base_uri": "https://localhost:8080/",
          "height": 206
        },
        "outputId": "ecdc5815-7a5e-4c3d-bf26-d48e68b8140f",
        "id": "SA3MUED-vcca"
      },
      "execution_count": 102,
      "outputs": [
        {
          "output_type": "execute_result",
          "data": {
            "text/plain": [
              "          g         Q0         Q1  A          Y\n",
              "0  0.278625  77.259163  74.763947  0  77.000000\n",
              "1  0.200761  66.603958  59.280952  0  73.666664\n",
              "2  0.520494  72.521431  69.231903  0  70.000000\n",
              "3  0.596783  66.622696  66.040443  0  81.000000\n",
              "4  0.431568  75.098595  74.831985  0  81.500000"
            ],
            "text/html": [
              "\n",
              "  <div id=\"df-b5b131d0-634a-46f0-bc6d-fe657e20bd7e\">\n",
              "    <div class=\"colab-df-container\">\n",
              "      <div>\n",
              "<style scoped>\n",
              "    .dataframe tbody tr th:only-of-type {\n",
              "        vertical-align: middle;\n",
              "    }\n",
              "\n",
              "    .dataframe tbody tr th {\n",
              "        vertical-align: top;\n",
              "    }\n",
              "\n",
              "    .dataframe thead th {\n",
              "        text-align: right;\n",
              "    }\n",
              "</style>\n",
              "<table border=\"1\" class=\"dataframe\">\n",
              "  <thead>\n",
              "    <tr style=\"text-align: right;\">\n",
              "      <th></th>\n",
              "      <th>g</th>\n",
              "      <th>Q0</th>\n",
              "      <th>Q1</th>\n",
              "      <th>A</th>\n",
              "      <th>Y</th>\n",
              "    </tr>\n",
              "  </thead>\n",
              "  <tbody>\n",
              "    <tr>\n",
              "      <th>0</th>\n",
              "      <td>0.278625</td>\n",
              "      <td>77.259163</td>\n",
              "      <td>74.763947</td>\n",
              "      <td>0</td>\n",
              "      <td>77.000000</td>\n",
              "    </tr>\n",
              "    <tr>\n",
              "      <th>1</th>\n",
              "      <td>0.200761</td>\n",
              "      <td>66.603958</td>\n",
              "      <td>59.280952</td>\n",
              "      <td>0</td>\n",
              "      <td>73.666664</td>\n",
              "    </tr>\n",
              "    <tr>\n",
              "      <th>2</th>\n",
              "      <td>0.520494</td>\n",
              "      <td>72.521431</td>\n",
              "      <td>69.231903</td>\n",
              "      <td>0</td>\n",
              "      <td>70.000000</td>\n",
              "    </tr>\n",
              "    <tr>\n",
              "      <th>3</th>\n",
              "      <td>0.596783</td>\n",
              "      <td>66.622696</td>\n",
              "      <td>66.040443</td>\n",
              "      <td>0</td>\n",
              "      <td>81.000000</td>\n",
              "    </tr>\n",
              "    <tr>\n",
              "      <th>4</th>\n",
              "      <td>0.431568</td>\n",
              "      <td>75.098595</td>\n",
              "      <td>74.831985</td>\n",
              "      <td>0</td>\n",
              "      <td>81.500000</td>\n",
              "    </tr>\n",
              "  </tbody>\n",
              "</table>\n",
              "</div>\n",
              "      <button class=\"colab-df-convert\" onclick=\"convertToInteractive('df-b5b131d0-634a-46f0-bc6d-fe657e20bd7e')\"\n",
              "              title=\"Convert this dataframe to an interactive table.\"\n",
              "              style=\"display:none;\">\n",
              "        \n",
              "  <svg xmlns=\"http://www.w3.org/2000/svg\" height=\"24px\"viewBox=\"0 0 24 24\"\n",
              "       width=\"24px\">\n",
              "    <path d=\"M0 0h24v24H0V0z\" fill=\"none\"/>\n",
              "    <path d=\"M18.56 5.44l.94 2.06.94-2.06 2.06-.94-2.06-.94-.94-2.06-.94 2.06-2.06.94zm-11 1L8.5 8.5l.94-2.06 2.06-.94-2.06-.94L8.5 2.5l-.94 2.06-2.06.94zm10 10l.94 2.06.94-2.06 2.06-.94-2.06-.94-.94-2.06-.94 2.06-2.06.94z\"/><path d=\"M17.41 7.96l-1.37-1.37c-.4-.4-.92-.59-1.43-.59-.52 0-1.04.2-1.43.59L10.3 9.45l-7.72 7.72c-.78.78-.78 2.05 0 2.83L4 21.41c.39.39.9.59 1.41.59.51 0 1.02-.2 1.41-.59l7.78-7.78 2.81-2.81c.8-.78.8-2.07 0-2.86zM5.41 20L4 18.59l7.72-7.72 1.47 1.35L5.41 20z\"/>\n",
              "  </svg>\n",
              "      </button>\n",
              "      \n",
              "  <style>\n",
              "    .colab-df-container {\n",
              "      display:flex;\n",
              "      flex-wrap:wrap;\n",
              "      gap: 12px;\n",
              "    }\n",
              "\n",
              "    .colab-df-convert {\n",
              "      background-color: #E8F0FE;\n",
              "      border: none;\n",
              "      border-radius: 50%;\n",
              "      cursor: pointer;\n",
              "      display: none;\n",
              "      fill: #1967D2;\n",
              "      height: 32px;\n",
              "      padding: 0 0 0 0;\n",
              "      width: 32px;\n",
              "    }\n",
              "\n",
              "    .colab-df-convert:hover {\n",
              "      background-color: #E2EBFA;\n",
              "      box-shadow: 0px 1px 2px rgba(60, 64, 67, 0.3), 0px 1px 3px 1px rgba(60, 64, 67, 0.15);\n",
              "      fill: #174EA6;\n",
              "    }\n",
              "\n",
              "    [theme=dark] .colab-df-convert {\n",
              "      background-color: #3B4455;\n",
              "      fill: #D2E3FC;\n",
              "    }\n",
              "\n",
              "    [theme=dark] .colab-df-convert:hover {\n",
              "      background-color: #434B5C;\n",
              "      box-shadow: 0px 1px 3px 1px rgba(0, 0, 0, 0.15);\n",
              "      filter: drop-shadow(0px 1px 2px rgba(0, 0, 0, 0.3));\n",
              "      fill: #FFFFFF;\n",
              "    }\n",
              "  </style>\n",
              "\n",
              "      <script>\n",
              "        const buttonEl =\n",
              "          document.querySelector('#df-b5b131d0-634a-46f0-bc6d-fe657e20bd7e button.colab-df-convert');\n",
              "        buttonEl.style.display =\n",
              "          google.colab.kernel.accessAllowed ? 'block' : 'none';\n",
              "\n",
              "        async function convertToInteractive(key) {\n",
              "          const element = document.querySelector('#df-b5b131d0-634a-46f0-bc6d-fe657e20bd7e');\n",
              "          const dataTable =\n",
              "            await google.colab.kernel.invokeFunction('convertToInteractive',\n",
              "                                                     [key], {});\n",
              "          if (!dataTable) return;\n",
              "\n",
              "          const docLinkHtml = 'Like what you see? Visit the ' +\n",
              "            '<a target=\"_blank\" href=https://colab.research.google.com/notebooks/data_table.ipynb>data table notebook</a>'\n",
              "            + ' to learn more about interactive tables.';\n",
              "          element.innerHTML = '';\n",
              "          dataTable['output_type'] = 'display_data';\n",
              "          await google.colab.output.renderOutput(dataTable, element);\n",
              "          const docLink = document.createElement('div');\n",
              "          docLink.innerHTML = docLinkHtml;\n",
              "          element.appendChild(docLink);\n",
              "        }\n",
              "      </script>\n",
              "    </div>\n",
              "  </div>\n",
              "  "
            ]
          },
          "metadata": {},
          "execution_count": 102
        }
      ]
    },
    {
      "cell_type": "markdown",
      "source": [
        "### Calculate the Natural Direct Effect using the ATU formula"
      ],
      "metadata": {
        "id": "xXIpsBenvcca"
      }
    },
    {
      "cell_type": "code",
      "source": [
        "tau_hat_XGSH, std_hat_XGSH = att_aiptw(**data_and_nuisance_estimates_XGSH)\n",
        "print(f\"The estimate is {tau_hat_XGSH} pm {1.96*std_hat_XGSH}\")"
      ],
      "metadata": {
        "colab": {
          "base_uri": "https://localhost:8080/"
        },
        "outputId": "0e3414cb-9727-4831-d4f4-e09234263809",
        "id": "FEy11J07vcca"
      },
      "execution_count": 103,
      "outputs": [
        {
          "output_type": "stream",
          "name": "stdout",
          "text": [
            "The estimate is -3.226952598350394 pm 2.2436240467481325\n"
          ]
        }
      ]
    },
    {
      "cell_type": "markdown",
      "source": [
        "# Natural Direct Effect with Study Habits as the mediator"
      ],
      "metadata": {
        "id": "bNrqufm3ztjM"
      }
    },
    {
      "cell_type": "markdown",
      "source": [
        "## Check Overlap Conditions 0<Pr(A =1 |𝐗 = x, M2 = m2) < 1 using the three models"
      ],
      "metadata": {
        "id": "BHGKPeJ7z3r_"
      }
    },
    {
      "cell_type": "code",
      "source": [
        "#check the overlap conditions using randomForest\n",
        "#get the propensity score function\n",
        "g1_SB = treatment_k_fold_fit_and_predict(make_gmodel_randomForest, X=confounders_with_mediatorStudyHabits, A=treatment, n_splits=10)\n",
        "g1_SB_ol = np.concatenate((g1_SB[:364],g1_SB[746:]))                                      \n",
        "hist(g1_SB_ol, density=True)"
      ],
      "metadata": {
        "colab": {
          "base_uri": "https://localhost:8080/",
          "height": 386
        },
        "id": "AKHGJ8ufzu-F",
        "outputId": "6352f212-124f-4088-a649-da295984eac7"
      },
      "execution_count": 141,
      "outputs": [
        {
          "output_type": "stream",
          "name": "stdout",
          "text": [
            "StratifiedKFold(n_splits=10, random_state=42, shuffle=True)\n"
          ]
        },
        {
          "output_type": "execute_result",
          "data": {
            "text/plain": [
              "(array([0.05514102, 0.22056408, 0.51464951, 1.3417648 , 2.6835296 ,\n",
              "        3.27170047, 2.7754313 , 1.10282038, 0.25732476, 0.11028204]),\n",
              " array([0.04875   , 0.12983191, 0.21091381, 0.29199572, 0.37307762,\n",
              "        0.45415953, 0.53524143, 0.61632334, 0.69740524, 0.77848715,\n",
              "        0.85956905]),\n",
              " <a list of 10 Patch objects>)"
            ]
          },
          "metadata": {},
          "execution_count": 141
        },
        {
          "output_type": "display_data",
          "data": {
            "text/plain": [
              "<Figure size 432x288 with 1 Axes>"
            ],
            "image/png": "[encoded data removed]"
          },
          "metadata": {
            "needs_background": "light"
          }
        }
      ]
    },
    {
      "cell_type": "code",
      "source": [
        "g2_SB = treatment_k_fold_fit_and_predict(make_gmodel_logisticRegression, X=confounders_with_mediatorStudyHabits, \n",
        "                                      A=treatment, n_splits=10)\n",
        "g2_SB_ol = np.concatenate((g2_SB[:364],g1_SB[746:]))\n",
        "hist(g2_SB_ol, density=True)"
      ],
      "metadata": {
        "colab": {
          "base_uri": "https://localhost:8080/",
          "height": 386
        },
        "id": "EkVIsseLzvEq",
        "outputId": "c0e47590-0c73-4b48-91fe-eccfe0715d9d"
      },
      "execution_count": 142,
      "outputs": [
        {
          "output_type": "stream",
          "name": "stdout",
          "text": [
            "StratifiedKFold(n_splits=10, random_state=42, shuffle=True)\n"
          ]
        },
        {
          "output_type": "execute_result",
          "data": {
            "text/plain": [
              "(array([0.01852264, 0.07409056, 0.14818113, 0.722383  , 3.00066785,\n",
              "        5.22338478, 2.27828485, 0.75942828, 0.16670377, 0.03704528]),\n",
              " array([0.04875   , 0.12920899, 0.20966798, 0.29012697, 0.37058595,\n",
              "        0.45104494, 0.53150393, 0.61196292, 0.69242191, 0.7728809 ,\n",
              "        0.85333989]),\n",
              " <a list of 10 Patch objects>)"
            ]
          },
          "metadata": {},
          "execution_count": 142
        },
        {
          "output_type": "display_data",
          "data": {
            "text/plain": [
              "<Figure size 432x288 with 1 Axes>"
            ],
            "image/png": "[encoded data removed]"
          },
          "metadata": {
            "needs_background": "light"
          }
        }
      ]
    },
    {
      "cell_type": "code",
      "source": [
        "g3_SB = treatment_k_fold_fit_and_predict(make_gmodel_XGBClassifier, X=confounders_with_mediatorStudyHabits, \n",
        "                                      A=treatment, n_splits=10)\n",
        "g3_SB_ol = np.concatenate((g3_SB[:364],g1_SB[746:]))\n",
        "hist(g3_SB_ol, density=True)"
      ],
      "metadata": {
        "colab": {
          "base_uri": "https://localhost:8080/",
          "height": 389
        },
        "id": "OP0YN2ghzvsa",
        "outputId": "ebf56f41-b913-4a9f-b0bf-c0aa7226c59f"
      },
      "execution_count": 143,
      "outputs": [
        {
          "output_type": "stream",
          "name": "stdout",
          "text": [
            "StratifiedKFold(n_splits=10, random_state=42, shuffle=True)\n"
          ]
        },
        {
          "output_type": "execute_result",
          "data": {
            "text/plain": [
              "(array([0.07372612, 0.25804142, 0.57137743, 1.12432333, 2.50668808,\n",
              "        3.83375824, 2.56198267, 1.03216568, 0.29490448, 0.11058918]),\n",
              " array([0.04875   , 0.12960671, 0.21046343, 0.29132014, 0.37217686,\n",
              "        0.45303357, 0.53389029, 0.614747  , 0.69560372, 0.77646043,\n",
              "        0.85731715]),\n",
              " <a list of 10 Patch objects>)"
            ]
          },
          "metadata": {},
          "execution_count": 143
        },
        {
          "output_type": "display_data",
          "data": {
            "text/plain": [
              "<Figure size 432x288 with 1 Axes>"
            ],
            "image/png": "[encoded data removed]"
          },
          "metadata": {
            "needs_background": "light"
          }
        }
      ]
    },
    {
      "cell_type": "markdown",
      "source": [
        "## Calculate Natural Direct Effect using RandomForest: Using Study Habits as the mediator"
      ],
      "metadata": {
        "id": "9nLcNeCvz_81"
      }
    },
    {
      "cell_type": "markdown",
      "source": [
        "### Calculate Q0 and Q1 model using RandomForest"
      ],
      "metadata": {
        "id": "GsaTtDxg1Ws8"
      }
    },
    {
      "cell_type": "code",
      "source": [
        "Q0_RFSB,Q1_RFSB = outcome_k_fold_fit_and_predict(make_Qmodel_randomForest, \n",
        "                                             X=confounders_with_mediatorStudyHabits, y=outcome, \n",
        "                                             A=treatment, n_splits=10, output_type=\"continuous\")"
      ],
      "metadata": {
        "id": "5IQjKO6m0AHN"
      },
      "execution_count": null,
      "outputs": []
    },
    {
      "cell_type": "markdown",
      "source": [
        "### Combine the Dataset for g, Q0, Q1, A, and Y values"
      ],
      "metadata": {
        "id": "dyqay97i1Kb1"
      }
    },
    {
      "cell_type": "code",
      "source": [
        "data_and_nuisance_estimates_RFSB = exclude_moderate(pd.DataFrame({'g': g1_SB, 'Q0': Q0_RFSB, 'Q1': Q1_RFSB, 'A': treatment, 'Y': outcome}))\n",
        "data_and_nuisance_estimates_RFSB.head()"
      ],
      "metadata": {
        "colab": {
          "base_uri": "https://localhost:8080/",
          "height": 206
        },
        "id": "xS4UGQTp0AQi",
        "outputId": "8c6136de-4a72-4dfa-9517-2d667faa61c7"
      },
      "execution_count": null,
      "outputs": [
        {
          "output_type": "execute_result",
          "data": {
            "text/plain": [
              "          g         Q0         Q1  A      Y\n",
              "0  0.612042  69.587408  69.388606  1  66.00\n",
              "1  0.232314  68.623917  67.089166  0  80.50\n",
              "2  0.243526  68.234635  67.583155  1  51.00\n",
              "3  0.659905  72.615605  72.474706  0  86.00\n",
              "4  0.499086  71.762937  71.561342  1  73.75"
            ],
            "text/html": [
              "\n",
              "  <div id=\"df-8bc7c50e-f994-452a-909f-8ad08a5d3904\">\n",
              "    <div class=\"colab-df-container\">\n",
              "      <div>\n",
              "<style scoped>\n",
              "    .dataframe tbody tr th:only-of-type {\n",
              "        vertical-align: middle;\n",
              "    }\n",
              "\n",
              "    .dataframe tbody tr th {\n",
              "        vertical-align: top;\n",
              "    }\n",
              "\n",
              "    .dataframe thead th {\n",
              "        text-align: right;\n",
              "    }\n",
              "</style>\n",
              "<table border=\"1\" class=\"dataframe\">\n",
              "  <thead>\n",
              "    <tr style=\"text-align: right;\">\n",
              "      <th></th>\n",
              "      <th>g</th>\n",
              "      <th>Q0</th>\n",
              "      <th>Q1</th>\n",
              "      <th>A</th>\n",
              "      <th>Y</th>\n",
              "    </tr>\n",
              "  </thead>\n",
              "  <tbody>\n",
              "    <tr>\n",
              "      <th>0</th>\n",
              "      <td>0.612042</td>\n",
              "      <td>69.587408</td>\n",
              "      <td>69.388606</td>\n",
              "      <td>1</td>\n",
              "      <td>66.00</td>\n",
              "    </tr>\n",
              "    <tr>\n",
              "      <th>1</th>\n",
              "      <td>0.232314</td>\n",
              "      <td>68.623917</td>\n",
              "      <td>67.089166</td>\n",
              "      <td>0</td>\n",
              "      <td>80.50</td>\n",
              "    </tr>\n",
              "    <tr>\n",
              "      <th>2</th>\n",
              "      <td>0.243526</td>\n",
              "      <td>68.234635</td>\n",
              "      <td>67.583155</td>\n",
              "      <td>1</td>\n",
              "      <td>51.00</td>\n",
              "    </tr>\n",
              "    <tr>\n",
              "      <th>3</th>\n",
              "      <td>0.659905</td>\n",
              "      <td>72.615605</td>\n",
              "      <td>72.474706</td>\n",
              "      <td>0</td>\n",
              "      <td>86.00</td>\n",
              "    </tr>\n",
              "    <tr>\n",
              "      <th>4</th>\n",
              "      <td>0.499086</td>\n",
              "      <td>71.762937</td>\n",
              "      <td>71.561342</td>\n",
              "      <td>1</td>\n",
              "      <td>73.75</td>\n",
              "    </tr>\n",
              "  </tbody>\n",
              "</table>\n",
              "</div>\n",
              "      <button class=\"colab-df-convert\" onclick=\"convertToInteractive('df-8bc7c50e-f994-452a-909f-8ad08a5d3904')\"\n",
              "              title=\"Convert this dataframe to an interactive table.\"\n",
              "              style=\"display:none;\">\n",
              "        \n",
              "  <svg xmlns=\"http://www.w3.org/2000/svg\" height=\"24px\"viewBox=\"0 0 24 24\"\n",
              "       width=\"24px\">\n",
              "    <path d=\"M0 0h24v24H0V0z\" fill=\"none\"/>\n",
              "    <path d=\"M18.56 5.44l.94 2.06.94-2.06 2.06-.94-2.06-.94-.94-2.06-.94 2.06-2.06.94zm-11 1L8.5 8.5l.94-2.06 2.06-.94-2.06-.94L8.5 2.5l-.94 2.06-2.06.94zm10 10l.94 2.06.94-2.06 2.06-.94-2.06-.94-.94-2.06-.94 2.06-2.06.94z\"/><path d=\"M17.41 7.96l-1.37-1.37c-.4-.4-.92-.59-1.43-.59-.52 0-1.04.2-1.43.59L10.3 9.45l-7.72 7.72c-.78.78-.78 2.05 0 2.83L4 21.41c.39.39.9.59 1.41.59.51 0 1.02-.2 1.41-.59l7.78-7.78 2.81-2.81c.8-.78.8-2.07 0-2.86zM5.41 20L4 18.59l7.72-7.72 1.47 1.35L5.41 20z\"/>\n",
              "  </svg>\n",
              "      </button>\n",
              "      \n",
              "  <style>\n",
              "    .colab-df-container {\n",
              "      display:flex;\n",
              "      flex-wrap:wrap;\n",
              "      gap: 12px;\n",
              "    }\n",
              "\n",
              "    .colab-df-convert {\n",
              "      background-color: #E8F0FE;\n",
              "      border: none;\n",
              "      border-radius: 50%;\n",
              "      cursor: pointer;\n",
              "      display: none;\n",
              "      fill: #1967D2;\n",
              "      height: 32px;\n",
              "      padding: 0 0 0 0;\n",
              "      width: 32px;\n",
              "    }\n",
              "\n",
              "    .colab-df-convert:hover {\n",
              "      background-color: #E2EBFA;\n",
              "      box-shadow: 0px 1px 2px rgba(60, 64, 67, 0.3), 0px 1px 3px 1px rgba(60, 64, 67, 0.15);\n",
              "      fill: #174EA6;\n",
              "    }\n",
              "\n",
              "    [theme=dark] .colab-df-convert {\n",
              "      background-color: #3B4455;\n",
              "      fill: #D2E3FC;\n",
              "    }\n",
              "\n",
              "    [theme=dark] .colab-df-convert:hover {\n",
              "      background-color: #434B5C;\n",
              "      box-shadow: 0px 1px 3px 1px rgba(0, 0, 0, 0.15);\n",
              "      filter: drop-shadow(0px 1px 2px rgba(0, 0, 0, 0.3));\n",
              "      fill: #FFFFFF;\n",
              "    }\n",
              "  </style>\n",
              "\n",
              "      <script>\n",
              "        const buttonEl =\n",
              "          document.querySelector('#df-8bc7c50e-f994-452a-909f-8ad08a5d3904 button.colab-df-convert');\n",
              "        buttonEl.style.display =\n",
              "          google.colab.kernel.accessAllowed ? 'block' : 'none';\n",
              "\n",
              "        async function convertToInteractive(key) {\n",
              "          const element = document.querySelector('#df-8bc7c50e-f994-452a-909f-8ad08a5d3904');\n",
              "          const dataTable =\n",
              "            await google.colab.kernel.invokeFunction('convertToInteractive',\n",
              "                                                     [key], {});\n",
              "          if (!dataTable) return;\n",
              "\n",
              "          const docLinkHtml = 'Like what you see? Visit the ' +\n",
              "            '<a target=\"_blank\" href=https://colab.research.google.com/notebooks/data_table.ipynb>data table notebook</a>'\n",
              "            + ' to learn more about interactive tables.';\n",
              "          element.innerHTML = '';\n",
              "          dataTable['output_type'] = 'display_data';\n",
              "          await google.colab.output.renderOutput(dataTable, element);\n",
              "          const docLink = document.createElement('div');\n",
              "          docLink.innerHTML = docLinkHtml;\n",
              "          element.appendChild(docLink);\n",
              "        }\n",
              "      </script>\n",
              "    </div>\n",
              "  </div>\n",
              "  "
            ]
          },
          "metadata": {},
          "execution_count": 74
        }
      ]
    },
    {
      "cell_type": "markdown",
      "source": [
        "### Calculate the Natural Direct Effect using the ATU formula"
      ],
      "metadata": {
        "id": "rkaOAkob1cCS"
      }
    },
    {
      "cell_type": "code",
      "source": [
        "tau_hat_RFSB, std_hat_RFSB = att_aiptw(**data_and_nuisance_estimates_RFSB)\n",
        "print(f\"The estimate using RandomForest is {tau_hat_RFSB} pm {1.96*std_hat_RFSB}\")"
      ],
      "metadata": {
        "colab": {
          "base_uri": "https://localhost:8080/"
        },
        "id": "eRNjwenD0AY0",
        "outputId": "f9dedef7-80a7-4b86-b951-85039c421afb"
      },
      "execution_count": null,
      "outputs": [
        {
          "output_type": "stream",
          "name": "stdout",
          "text": [
            "The estimate using RandomForest is -3.221719473206694 pm 1.8548696216664562\n"
          ]
        }
      ]
    },
    {
      "cell_type": "markdown",
      "source": [
        "## Calculate Natural Direct Effect using LogisticRegression: Using Study Habits as the mediator"
      ],
      "metadata": {
        "id": "9_qcNP9r0Miw"
      }
    },
    {
      "cell_type": "markdown",
      "source": [
        "### Calculate Q0 and Q1 model using Logistic Regression"
      ],
      "metadata": {
        "id": "V08Cvsep1SGJ"
      }
    },
    {
      "cell_type": "code",
      "source": [
        "Q0_LRSB,Q1_LRSB = outcome_k_fold_fit_and_predict(make_Qmodel_linearRegression, \n",
        "                                             X=confounders_with_mediatorStudyHabits, y=outcome, \n",
        "                                             A=treatment, n_splits=10, output_type=\"continuous\")"
      ],
      "metadata": {
        "id": "-PygHOPH0SXZ"
      },
      "execution_count": null,
      "outputs": []
    },
    {
      "cell_type": "markdown",
      "source": [
        "### Combine the Dataset for g, Q0, Q1, A, and Y values"
      ],
      "metadata": {
        "id": "qA08ShfE1Ifv"
      }
    },
    {
      "cell_type": "code",
      "source": [
        "data_and_nuisance_estimates_LRSB = exclude_moderate(pd.DataFrame({'g': g2_SB, 'Q0': Q0_LRSB, 'Q1': Q1_LRSB, 'A': treatment, 'Y': outcome}))\n",
        "data_and_nuisance_estimates_LRSB.head()"
      ],
      "metadata": {
        "colab": {
          "base_uri": "https://localhost:8080/",
          "height": 206
        },
        "id": "3wZhc3fK0SeG",
        "outputId": "2c525d4d-f96d-4858-c553-5d8f91f7ec2d"
      },
      "execution_count": null,
      "outputs": [
        {
          "output_type": "execute_result",
          "data": {
            "text/plain": [
              "          g         Q0         Q1  A      Y\n",
              "0  0.538715  72.583799  70.812289  1  66.00\n",
              "1  0.316658  71.202679  68.928732  0  80.50\n",
              "2  0.529020  70.081987  67.947324  1  51.00\n",
              "3  0.525366  73.869333  71.734670  0  86.00\n",
              "4  0.526407  69.989148  68.083762  1  73.75"
            ],
            "text/html": [
              "\n",
              "  <div id=\"df-40bda46c-0440-43d6-be0a-d14ebd64f270\">\n",
              "    <div class=\"colab-df-container\">\n",
              "      <div>\n",
              "<style scoped>\n",
              "    .dataframe tbody tr th:only-of-type {\n",
              "        vertical-align: middle;\n",
              "    }\n",
              "\n",
              "    .dataframe tbody tr th {\n",
              "        vertical-align: top;\n",
              "    }\n",
              "\n",
              "    .dataframe thead th {\n",
              "        text-align: right;\n",
              "    }\n",
              "</style>\n",
              "<table border=\"1\" class=\"dataframe\">\n",
              "  <thead>\n",
              "    <tr style=\"text-align: right;\">\n",
              "      <th></th>\n",
              "      <th>g</th>\n",
              "      <th>Q0</th>\n",
              "      <th>Q1</th>\n",
              "      <th>A</th>\n",
              "      <th>Y</th>\n",
              "    </tr>\n",
              "  </thead>\n",
              "  <tbody>\n",
              "    <tr>\n",
              "      <th>0</th>\n",
              "      <td>0.538715</td>\n",
              "      <td>72.583799</td>\n",
              "      <td>70.812289</td>\n",
              "      <td>1</td>\n",
              "      <td>66.00</td>\n",
              "    </tr>\n",
              "    <tr>\n",
              "      <th>1</th>\n",
              "      <td>0.316658</td>\n",
              "      <td>71.202679</td>\n",
              "      <td>68.928732</td>\n",
              "      <td>0</td>\n",
              "      <td>80.50</td>\n",
              "    </tr>\n",
              "    <tr>\n",
              "      <th>2</th>\n",
              "      <td>0.529020</td>\n",
              "      <td>70.081987</td>\n",
              "      <td>67.947324</td>\n",
              "      <td>1</td>\n",
              "      <td>51.00</td>\n",
              "    </tr>\n",
              "    <tr>\n",
              "      <th>3</th>\n",
              "      <td>0.525366</td>\n",
              "      <td>73.869333</td>\n",
              "      <td>71.734670</td>\n",
              "      <td>0</td>\n",
              "      <td>86.00</td>\n",
              "    </tr>\n",
              "    <tr>\n",
              "      <th>4</th>\n",
              "      <td>0.526407</td>\n",
              "      <td>69.989148</td>\n",
              "      <td>68.083762</td>\n",
              "      <td>1</td>\n",
              "      <td>73.75</td>\n",
              "    </tr>\n",
              "  </tbody>\n",
              "</table>\n",
              "</div>\n",
              "      <button class=\"colab-df-convert\" onclick=\"convertToInteractive('df-40bda46c-0440-43d6-be0a-d14ebd64f270')\"\n",
              "              title=\"Convert this dataframe to an interactive table.\"\n",
              "              style=\"display:none;\">\n",
              "        \n",
              "  <svg xmlns=\"http://www.w3.org/2000/svg\" height=\"24px\"viewBox=\"0 0 24 24\"\n",
              "       width=\"24px\">\n",
              "    <path d=\"M0 0h24v24H0V0z\" fill=\"none\"/>\n",
              "    <path d=\"M18.56 5.44l.94 2.06.94-2.06 2.06-.94-2.06-.94-.94-2.06-.94 2.06-2.06.94zm-11 1L8.5 8.5l.94-2.06 2.06-.94-2.06-.94L8.5 2.5l-.94 2.06-2.06.94zm10 10l.94 2.06.94-2.06 2.06-.94-2.06-.94-.94-2.06-.94 2.06-2.06.94z\"/><path d=\"M17.41 7.96l-1.37-1.37c-.4-.4-.92-.59-1.43-.59-.52 0-1.04.2-1.43.59L10.3 9.45l-7.72 7.72c-.78.78-.78 2.05 0 2.83L4 21.41c.39.39.9.59 1.41.59.51 0 1.02-.2 1.41-.59l7.78-7.78 2.81-2.81c.8-.78.8-2.07 0-2.86zM5.41 20L4 18.59l7.72-7.72 1.47 1.35L5.41 20z\"/>\n",
              "  </svg>\n",
              "      </button>\n",
              "      \n",
              "  <style>\n",
              "    .colab-df-container {\n",
              "      display:flex;\n",
              "      flex-wrap:wrap;\n",
              "      gap: 12px;\n",
              "    }\n",
              "\n",
              "    .colab-df-convert {\n",
              "      background-color: #E8F0FE;\n",
              "      border: none;\n",
              "      border-radius: 50%;\n",
              "      cursor: pointer;\n",
              "      display: none;\n",
              "      fill: #1967D2;\n",
              "      height: 32px;\n",
              "      padding: 0 0 0 0;\n",
              "      width: 32px;\n",
              "    }\n",
              "\n",
              "    .colab-df-convert:hover {\n",
              "      background-color: #E2EBFA;\n",
              "      box-shadow: 0px 1px 2px rgba(60, 64, 67, 0.3), 0px 1px 3px 1px rgba(60, 64, 67, 0.15);\n",
              "      fill: #174EA6;\n",
              "    }\n",
              "\n",
              "    [theme=dark] .colab-df-convert {\n",
              "      background-color: #3B4455;\n",
              "      fill: #D2E3FC;\n",
              "    }\n",
              "\n",
              "    [theme=dark] .colab-df-convert:hover {\n",
              "      background-color: #434B5C;\n",
              "      box-shadow: 0px 1px 3px 1px rgba(0, 0, 0, 0.15);\n",
              "      filter: drop-shadow(0px 1px 2px rgba(0, 0, 0, 0.3));\n",
              "      fill: #FFFFFF;\n",
              "    }\n",
              "  </style>\n",
              "\n",
              "      <script>\n",
              "        const buttonEl =\n",
              "          document.querySelector('#df-40bda46c-0440-43d6-be0a-d14ebd64f270 button.colab-df-convert');\n",
              "        buttonEl.style.display =\n",
              "          google.colab.kernel.accessAllowed ? 'block' : 'none';\n",
              "\n",
              "        async function convertToInteractive(key) {\n",
              "          const element = document.querySelector('#df-40bda46c-0440-43d6-be0a-d14ebd64f270');\n",
              "          const dataTable =\n",
              "            await google.colab.kernel.invokeFunction('convertToInteractive',\n",
              "                                                     [key], {});\n",
              "          if (!dataTable) return;\n",
              "\n",
              "          const docLinkHtml = 'Like what you see? Visit the ' +\n",
              "            '<a target=\"_blank\" href=https://colab.research.google.com/notebooks/data_table.ipynb>data table notebook</a>'\n",
              "            + ' to learn more about interactive tables.';\n",
              "          element.innerHTML = '';\n",
              "          dataTable['output_type'] = 'display_data';\n",
              "          await google.colab.output.renderOutput(dataTable, element);\n",
              "          const docLink = document.createElement('div');\n",
              "          docLink.innerHTML = docLinkHtml;\n",
              "          element.appendChild(docLink);\n",
              "        }\n",
              "      </script>\n",
              "    </div>\n",
              "  </div>\n",
              "  "
            ]
          },
          "metadata": {},
          "execution_count": 77
        }
      ]
    },
    {
      "cell_type": "markdown",
      "source": [
        "### Calculate the Natural Direct Effect using the ATU formula"
      ],
      "metadata": {
        "id": "W0g50BEq1dnq"
      }
    },
    {
      "cell_type": "code",
      "source": [
        "tau_hat_LRSB, std_hat_LRSB = att_aiptw(**data_and_nuisance_estimates_LRSB)\n",
        "print(f\"The estimate using LogisticRegression is {tau_hat_LRSB} pm {1.96*std_hat_LRSB}\")"
      ],
      "metadata": {
        "colab": {
          "base_uri": "https://localhost:8080/"
        },
        "id": "ePIUW3th0Smx",
        "outputId": "0a7e545c-cd65-445e-ed66-2f5fbe0bf67b"
      },
      "execution_count": null,
      "outputs": [
        {
          "output_type": "stream",
          "name": "stdout",
          "text": [
            "The estimate using LogisticRegression is -2.0192248304466696 pm 1.4625396821624506\n"
          ]
        }
      ]
    },
    {
      "cell_type": "markdown",
      "source": [
        "## Calculate Natural Direct Effect using XGBoost: Using Study Habits as the mediator"
      ],
      "metadata": {
        "id": "iaseTssk0iMv"
      }
    },
    {
      "cell_type": "markdown",
      "source": [
        "### Calculate Q0 and Q1 model using XGBoost"
      ],
      "metadata": {
        "id": "s3YYLOfD1Prq"
      }
    },
    {
      "cell_type": "code",
      "source": [
        "Q0_XGSB,Q1_XGSB = outcome_k_fold_fit_and_predict(make_Qmodel_XGBoost, \n",
        "                                             X=confounders_with_mediatorStudyHabits, y=outcome, \n",
        "                                             A=treatment, n_splits=10, output_type=\"continuous\")"
      ],
      "metadata": {
        "id": "VggmGQj80iVq"
      },
      "execution_count": null,
      "outputs": []
    },
    {
      "cell_type": "markdown",
      "source": [
        "### Combine the Dataset for g, Q0, Q1, A, and Y values"
      ],
      "metadata": {
        "id": "ivLLPIdt1HIl"
      }
    },
    {
      "cell_type": "code",
      "source": [
        "data_and_nuisance_estimates_XGSB = exclude_moderate(pd.DataFrame({'g': g3_SB, 'Q0': Q0_XGSB, 'Q1': Q1_XGSB, 'A': treatment, 'Y': outcome}))\n",
        "data_and_nuisance_estimates_XGSB.head()"
      ],
      "metadata": {
        "colab": {
          "base_uri": "https://localhost:8080/",
          "height": 206
        },
        "id": "EZXtfvmF0icE",
        "outputId": "0fe6a6d1-cce8-4828-8fc4-43f2c19ddee9"
      },
      "execution_count": null,
      "outputs": [
        {
          "output_type": "execute_result",
          "data": {
            "text/plain": [
              "          g         Q0         Q1  A      Y\n",
              "0  0.540272  70.324379  69.677727  1  66.00\n",
              "1  0.235503  68.845772  66.447899  0  80.50\n",
              "2  0.057033  64.033539  63.100536  1  51.00\n",
              "3  0.586557  72.397858  71.773628  0  86.00\n",
              "4  0.480623  70.607597  68.406670  1  73.75"
            ],
            "text/html": [
              "\n",
              "  <div id=\"df-dd8089d8-e1ba-4b6a-94d0-f8cd649d35f0\">\n",
              "    <div class=\"colab-df-container\">\n",
              "      <div>\n",
              "<style scoped>\n",
              "    .dataframe tbody tr th:only-of-type {\n",
              "        vertical-align: middle;\n",
              "    }\n",
              "\n",
              "    .dataframe tbody tr th {\n",
              "        vertical-align: top;\n",
              "    }\n",
              "\n",
              "    .dataframe thead th {\n",
              "        text-align: right;\n",
              "    }\n",
              "</style>\n",
              "<table border=\"1\" class=\"dataframe\">\n",
              "  <thead>\n",
              "    <tr style=\"text-align: right;\">\n",
              "      <th></th>\n",
              "      <th>g</th>\n",
              "      <th>Q0</th>\n",
              "      <th>Q1</th>\n",
              "      <th>A</th>\n",
              "      <th>Y</th>\n",
              "    </tr>\n",
              "  </thead>\n",
              "  <tbody>\n",
              "    <tr>\n",
              "      <th>0</th>\n",
              "      <td>0.540272</td>\n",
              "      <td>70.324379</td>\n",
              "      <td>69.677727</td>\n",
              "      <td>1</td>\n",
              "      <td>66.00</td>\n",
              "    </tr>\n",
              "    <tr>\n",
              "      <th>1</th>\n",
              "      <td>0.235503</td>\n",
              "      <td>68.845772</td>\n",
              "      <td>66.447899</td>\n",
              "      <td>0</td>\n",
              "      <td>80.50</td>\n",
              "    </tr>\n",
              "    <tr>\n",
              "      <th>2</th>\n",
              "      <td>0.057033</td>\n",
              "      <td>64.033539</td>\n",
              "      <td>63.100536</td>\n",
              "      <td>1</td>\n",
              "      <td>51.00</td>\n",
              "    </tr>\n",
              "    <tr>\n",
              "      <th>3</th>\n",
              "      <td>0.586557</td>\n",
              "      <td>72.397858</td>\n",
              "      <td>71.773628</td>\n",
              "      <td>0</td>\n",
              "      <td>86.00</td>\n",
              "    </tr>\n",
              "    <tr>\n",
              "      <th>4</th>\n",
              "      <td>0.480623</td>\n",
              "      <td>70.607597</td>\n",
              "      <td>68.406670</td>\n",
              "      <td>1</td>\n",
              "      <td>73.75</td>\n",
              "    </tr>\n",
              "  </tbody>\n",
              "</table>\n",
              "</div>\n",
              "      <button class=\"colab-df-convert\" onclick=\"convertToInteractive('df-dd8089d8-e1ba-4b6a-94d0-f8cd649d35f0')\"\n",
              "              title=\"Convert this dataframe to an interactive table.\"\n",
              "              style=\"display:none;\">\n",
              "        \n",
              "  <svg xmlns=\"http://www.w3.org/2000/svg\" height=\"24px\"viewBox=\"0 0 24 24\"\n",
              "       width=\"24px\">\n",
              "    <path d=\"M0 0h24v24H0V0z\" fill=\"none\"/>\n",
              "    <path d=\"M18.56 5.44l.94 2.06.94-2.06 2.06-.94-2.06-.94-.94-2.06-.94 2.06-2.06.94zm-11 1L8.5 8.5l.94-2.06 2.06-.94-2.06-.94L8.5 2.5l-.94 2.06-2.06.94zm10 10l.94 2.06.94-2.06 2.06-.94-2.06-.94-.94-2.06-.94 2.06-2.06.94z\"/><path d=\"M17.41 7.96l-1.37-1.37c-.4-.4-.92-.59-1.43-.59-.52 0-1.04.2-1.43.59L10.3 9.45l-7.72 7.72c-.78.78-.78 2.05 0 2.83L4 21.41c.39.39.9.59 1.41.59.51 0 1.02-.2 1.41-.59l7.78-7.78 2.81-2.81c.8-.78.8-2.07 0-2.86zM5.41 20L4 18.59l7.72-7.72 1.47 1.35L5.41 20z\"/>\n",
              "  </svg>\n",
              "      </button>\n",
              "      \n",
              "  <style>\n",
              "    .colab-df-container {\n",
              "      display:flex;\n",
              "      flex-wrap:wrap;\n",
              "      gap: 12px;\n",
              "    }\n",
              "\n",
              "    .colab-df-convert {\n",
              "      background-color: #E8F0FE;\n",
              "      border: none;\n",
              "      border-radius: 50%;\n",
              "      cursor: pointer;\n",
              "      display: none;\n",
              "      fill: #1967D2;\n",
              "      height: 32px;\n",
              "      padding: 0 0 0 0;\n",
              "      width: 32px;\n",
              "    }\n",
              "\n",
              "    .colab-df-convert:hover {\n",
              "      background-color: #E2EBFA;\n",
              "      box-shadow: 0px 1px 2px rgba(60, 64, 67, 0.3), 0px 1px 3px 1px rgba(60, 64, 67, 0.15);\n",
              "      fill: #174EA6;\n",
              "    }\n",
              "\n",
              "    [theme=dark] .colab-df-convert {\n",
              "      background-color: #3B4455;\n",
              "      fill: #D2E3FC;\n",
              "    }\n",
              "\n",
              "    [theme=dark] .colab-df-convert:hover {\n",
              "      background-color: #434B5C;\n",
              "      box-shadow: 0px 1px 3px 1px rgba(0, 0, 0, 0.15);\n",
              "      filter: drop-shadow(0px 1px 2px rgba(0, 0, 0, 0.3));\n",
              "      fill: #FFFFFF;\n",
              "    }\n",
              "  </style>\n",
              "\n",
              "      <script>\n",
              "        const buttonEl =\n",
              "          document.querySelector('#df-dd8089d8-e1ba-4b6a-94d0-f8cd649d35f0 button.colab-df-convert');\n",
              "        buttonEl.style.display =\n",
              "          google.colab.kernel.accessAllowed ? 'block' : 'none';\n",
              "\n",
              "        async function convertToInteractive(key) {\n",
              "          const element = document.querySelector('#df-dd8089d8-e1ba-4b6a-94d0-f8cd649d35f0');\n",
              "          const dataTable =\n",
              "            await google.colab.kernel.invokeFunction('convertToInteractive',\n",
              "                                                     [key], {});\n",
              "          if (!dataTable) return;\n",
              "\n",
              "          const docLinkHtml = 'Like what you see? Visit the ' +\n",
              "            '<a target=\"_blank\" href=https://colab.research.google.com/notebooks/data_table.ipynb>data table notebook</a>'\n",
              "            + ' to learn more about interactive tables.';\n",
              "          element.innerHTML = '';\n",
              "          dataTable['output_type'] = 'display_data';\n",
              "          await google.colab.output.renderOutput(dataTable, element);\n",
              "          const docLink = document.createElement('div');\n",
              "          docLink.innerHTML = docLinkHtml;\n",
              "          element.appendChild(docLink);\n",
              "        }\n",
              "      </script>\n",
              "    </div>\n",
              "  </div>\n",
              "  "
            ]
          },
          "metadata": {},
          "execution_count": 80
        }
      ]
    },
    {
      "cell_type": "markdown",
      "source": [
        "### Calculate the Natural Direct Effect using the ATU formula"
      ],
      "metadata": {
        "id": "Lp5gKOQI1fb7"
      }
    },
    {
      "cell_type": "code",
      "source": [
        "tau_hat_XGSB, std_hat_XGSB = att_aiptw(**data_and_nuisance_estimates_XGSB)\n",
        "print(f\"The estimate using XGBoost is {tau_hat_XGSB} pm {1.96*std_hat_XGSB}\")"
      ],
      "metadata": {
        "colab": {
          "base_uri": "https://localhost:8080/"
        },
        "id": "DIufAB540ili",
        "outputId": "59259595-cd9b-4426-e736-fa72604dea19"
      },
      "execution_count": null,
      "outputs": [
        {
          "output_type": "stream",
          "name": "stdout",
          "text": [
            "The estimate using XGBoost is -3.354606172287593 pm 1.993589478959646\n"
          ]
        }
      ]
    },
    {
      "cell_type": "markdown",
      "source": [
        "# Estimate the Total Effect using ATE"
      ],
      "metadata": {
        "id": "fkKquN-J2SuD"
      }
    },
    {
      "cell_type": "markdown",
      "source": [
        "### Check Overlap Conditions 0<Pr(A =1 |𝐗 = x, M1 = m1, M2 = m2) < 1 using the three models"
      ],
      "metadata": {
        "id": "qeWyAMFFgjmg"
      }
    },
    {
      "cell_type": "code",
      "source": [
        "\n",
        "#get the propensity score function\n",
        "g1_TE = treatment_k_fold_fit_and_predict(make_gmodel_randomForest, X=confounders_without_Mediator, \n",
        "                                      A=treatment, n_splits=10)\n",
        "g1_TE_ol = np.concatenate((g1_TE[:364],g1_SB[746:]))\n",
        "hist(g1_TE_ol, density=True)"
      ],
      "metadata": {
        "colab": {
          "base_uri": "https://localhost:8080/",
          "height": 386
        },
        "id": "469lxIHy4-e-",
        "outputId": "56e15e8f-516b-400a-eeca-81e751b2236e"
      },
      "execution_count": 144,
      "outputs": [
        {
          "output_type": "stream",
          "name": "stdout",
          "text": [
            "StratifiedKFold(n_splits=10, random_state=42, shuffle=True)\n"
          ]
        },
        {
          "output_type": "execute_result",
          "data": {
            "text/plain": [
              "(array([0.06044362, 0.15110905, 0.27199628, 1.73775403, 3.959057  ,\n",
              "        2.65951921, 0.87643247, 0.3324399 , 0.03022181, 0.06044362]),\n",
              " array([0.00841667, 0.10704167, 0.20566667, 0.30429167, 0.40291667,\n",
              "        0.50154167, 0.60016667, 0.69879167, 0.79741667, 0.89604167,\n",
              "        0.99466667]),\n",
              " <a list of 10 Patch objects>)"
            ]
          },
          "metadata": {},
          "execution_count": 144
        },
        {
          "output_type": "display_data",
          "data": {
            "text/plain": [
              "<Figure size 432x288 with 1 Axes>"
            ],
            "image/png": "[encoded data removed]"
          },
          "metadata": {
            "needs_background": "light"
          }
        }
      ]
    },
    {
      "cell_type": "code",
      "source": [
        "g2_TE = treatment_k_fold_fit_and_predict(make_gmodel_logisticRegression, X=confounders_without_Mediator, \n",
        "                                      A=treatment, n_splits=10)\n",
        "g2_TE_ol = np.concatenate((g2_TE[:364],g1_SB[746:]))\n",
        "hist(g2_TE_ol, density=True)"
      ],
      "metadata": {
        "colab": {
          "base_uri": "https://localhost:8080/",
          "height": 386
        },
        "id": "__lXH6BF5Nvc",
        "outputId": "090e4f6b-8635-4553-efac-49aab8f07e90"
      },
      "execution_count": 145,
      "outputs": [
        {
          "output_type": "stream",
          "name": "stdout",
          "text": [
            "StratifiedKFold(n_splits=10, random_state=42, shuffle=True)\n"
          ]
        },
        {
          "output_type": "execute_result",
          "data": {
            "text/plain": [
              "(array([0.01852264, 0.07409056, 0.14818113, 0.46306603, 2.92657729,\n",
              "        6.20508476, 1.77817354, 0.61124716, 0.16670377, 0.03704528]),\n",
              " array([0.04875   , 0.12920899, 0.20966798, 0.29012697, 0.37058595,\n",
              "        0.45104494, 0.53150393, 0.61196292, 0.69242191, 0.7728809 ,\n",
              "        0.85333989]),\n",
              " <a list of 10 Patch objects>)"
            ]
          },
          "metadata": {},
          "execution_count": 145
        },
        {
          "output_type": "display_data",
          "data": {
            "text/plain": [
              "<Figure size 432x288 with 1 Axes>"
            ],
            "image/png": "[encoded data removed]"
          },
          "metadata": {
            "needs_background": "light"
          }
        }
      ]
    },
    {
      "cell_type": "code",
      "source": [
        "g3_TE = treatment_k_fold_fit_and_predict(make_gmodel_XGBClassifier, X=confounders_without_Mediator, \n",
        "                                      A=treatment, n_splits=10)\n",
        "g3_TE_ol = np.concatenate((g1_TE[:364],g1_SB[746:]))\n",
        "hist(g3_TE_ol, density=True)"
      ],
      "metadata": {
        "colab": {
          "base_uri": "https://localhost:8080/",
          "height": 386
        },
        "id": "vSV9vGil5N7j",
        "outputId": "b0e10cfc-a275-4c78-84c4-1f89b8db0f64"
      },
      "execution_count": 146,
      "outputs": [
        {
          "output_type": "stream",
          "name": "stdout",
          "text": [
            "StratifiedKFold(n_splits=10, random_state=42, shuffle=True)\n"
          ]
        },
        {
          "output_type": "execute_result",
          "data": {
            "text/plain": [
              "(array([0.06044362, 0.15110905, 0.27199628, 1.73775403, 3.959057  ,\n",
              "        2.65951921, 0.87643247, 0.3324399 , 0.03022181, 0.06044362]),\n",
              " array([0.00841667, 0.10704167, 0.20566667, 0.30429167, 0.40291667,\n",
              "        0.50154167, 0.60016667, 0.69879167, 0.79741667, 0.89604167,\n",
              "        0.99466667]),\n",
              " <a list of 10 Patch objects>)"
            ]
          },
          "metadata": {},
          "execution_count": 146
        },
        {
          "output_type": "display_data",
          "data": {
            "text/plain": [
              "<Figure size 432x288 with 1 Axes>"
            ],
            "image/png": "[encoded data removed]"
          },
          "metadata": {
            "needs_background": "light"
          }
        }
      ]
    },
    {
      "cell_type": "markdown",
      "source": [
        "### Calculate Total Effect using RandomForest"
      ],
      "metadata": {
        "id": "Q_HJW-J15zq_"
      }
    },
    {
      "cell_type": "code",
      "source": [
        "Q0_RFTE,Q1_RFTE = outcome_k_fold_fit_and_predict(make_Qmodel_randomForest, \n",
        "                                             X=confounders_without_Mediator, y=outcome, \n",
        "                                             A=treatment, n_splits=10, output_type=\"continuous\")"
      ],
      "metadata": {
        "id": "trLbDeNa58Q-"
      },
      "execution_count": 115,
      "outputs": []
    },
    {
      "cell_type": "code",
      "source": [
        "data_and_nuisance_estimates_RFTE = exclude_moderate(pd.DataFrame({'g': g1_TE, 'Q0': Q0_RFTE, 'Q1': Q1_RFTE, 'A': treatment, 'Y': outcome}))\n",
        "data_and_nuisance_estimates_RFTE.head()"
      ],
      "metadata": {
        "colab": {
          "base_uri": "https://localhost:8080/",
          "height": 206
        },
        "id": "uoORIJ3258pb",
        "outputId": "2e574fef-fae1-4376-8177-e0611a944133"
      },
      "execution_count": 116,
      "outputs": [
        {
          "output_type": "execute_result",
          "data": {
            "text/plain": [
              "          g         Q0         Q1  A          Y\n",
              "0  0.397419  71.186335  66.803693  0  77.000000\n",
              "1  0.342049  69.780694  66.104271  0  73.666664\n",
              "2  0.582461  70.325724  68.095118  0  70.000000\n",
              "3  0.351636  69.518177  67.319265  0  81.000000\n",
              "4  0.574292  72.097452  70.847277  0  81.500000"
            ],
            "text/html": [
              "\n",
              "  <div id=\"df-b6cff95d-d860-4936-be8a-a6ef98029865\">\n",
              "    <div class=\"colab-df-container\">\n",
              "      <div>\n",
              "<style scoped>\n",
              "    .dataframe tbody tr th:only-of-type {\n",
              "        vertical-align: middle;\n",
              "    }\n",
              "\n",
              "    .dataframe tbody tr th {\n",
              "        vertical-align: top;\n",
              "    }\n",
              "\n",
              "    .dataframe thead th {\n",
              "        text-align: right;\n",
              "    }\n",
              "</style>\n",
              "<table border=\"1\" class=\"dataframe\">\n",
              "  <thead>\n",
              "    <tr style=\"text-align: right;\">\n",
              "      <th></th>\n",
              "      <th>g</th>\n",
              "      <th>Q0</th>\n",
              "      <th>Q1</th>\n",
              "      <th>A</th>\n",
              "      <th>Y</th>\n",
              "    </tr>\n",
              "  </thead>\n",
              "  <tbody>\n",
              "    <tr>\n",
              "      <th>0</th>\n",
              "      <td>0.397419</td>\n",
              "      <td>71.186335</td>\n",
              "      <td>66.803693</td>\n",
              "      <td>0</td>\n",
              "      <td>77.000000</td>\n",
              "    </tr>\n",
              "    <tr>\n",
              "      <th>1</th>\n",
              "      <td>0.342049</td>\n",
              "      <td>69.780694</td>\n",
              "      <td>66.104271</td>\n",
              "      <td>0</td>\n",
              "      <td>73.666664</td>\n",
              "    </tr>\n",
              "    <tr>\n",
              "      <th>2</th>\n",
              "      <td>0.582461</td>\n",
              "      <td>70.325724</td>\n",
              "      <td>68.095118</td>\n",
              "      <td>0</td>\n",
              "      <td>70.000000</td>\n",
              "    </tr>\n",
              "    <tr>\n",
              "      <th>3</th>\n",
              "      <td>0.351636</td>\n",
              "      <td>69.518177</td>\n",
              "      <td>67.319265</td>\n",
              "      <td>0</td>\n",
              "      <td>81.000000</td>\n",
              "    </tr>\n",
              "    <tr>\n",
              "      <th>4</th>\n",
              "      <td>0.574292</td>\n",
              "      <td>72.097452</td>\n",
              "      <td>70.847277</td>\n",
              "      <td>0</td>\n",
              "      <td>81.500000</td>\n",
              "    </tr>\n",
              "  </tbody>\n",
              "</table>\n",
              "</div>\n",
              "      <button class=\"colab-df-convert\" onclick=\"convertToInteractive('df-b6cff95d-d860-4936-be8a-a6ef98029865')\"\n",
              "              title=\"Convert this dataframe to an interactive table.\"\n",
              "              style=\"display:none;\">\n",
              "        \n",
              "  <svg xmlns=\"http://www.w3.org/2000/svg\" height=\"24px\"viewBox=\"0 0 24 24\"\n",
              "       width=\"24px\">\n",
              "    <path d=\"M0 0h24v24H0V0z\" fill=\"none\"/>\n",
              "    <path d=\"M18.56 5.44l.94 2.06.94-2.06 2.06-.94-2.06-.94-.94-2.06-.94 2.06-2.06.94zm-11 1L8.5 8.5l.94-2.06 2.06-.94-2.06-.94L8.5 2.5l-.94 2.06-2.06.94zm10 10l.94 2.06.94-2.06 2.06-.94-2.06-.94-.94-2.06-.94 2.06-2.06.94z\"/><path d=\"M17.41 7.96l-1.37-1.37c-.4-.4-.92-.59-1.43-.59-.52 0-1.04.2-1.43.59L10.3 9.45l-7.72 7.72c-.78.78-.78 2.05 0 2.83L4 21.41c.39.39.9.59 1.41.59.51 0 1.02-.2 1.41-.59l7.78-7.78 2.81-2.81c.8-.78.8-2.07 0-2.86zM5.41 20L4 18.59l7.72-7.72 1.47 1.35L5.41 20z\"/>\n",
              "  </svg>\n",
              "      </button>\n",
              "      \n",
              "  <style>\n",
              "    .colab-df-container {\n",
              "      display:flex;\n",
              "      flex-wrap:wrap;\n",
              "      gap: 12px;\n",
              "    }\n",
              "\n",
              "    .colab-df-convert {\n",
              "      background-color: #E8F0FE;\n",
              "      border: none;\n",
              "      border-radius: 50%;\n",
              "      cursor: pointer;\n",
              "      display: none;\n",
              "      fill: #1967D2;\n",
              "      height: 32px;\n",
              "      padding: 0 0 0 0;\n",
              "      width: 32px;\n",
              "    }\n",
              "\n",
              "    .colab-df-convert:hover {\n",
              "      background-color: #E2EBFA;\n",
              "      box-shadow: 0px 1px 2px rgba(60, 64, 67, 0.3), 0px 1px 3px 1px rgba(60, 64, 67, 0.15);\n",
              "      fill: #174EA6;\n",
              "    }\n",
              "\n",
              "    [theme=dark] .colab-df-convert {\n",
              "      background-color: #3B4455;\n",
              "      fill: #D2E3FC;\n",
              "    }\n",
              "\n",
              "    [theme=dark] .colab-df-convert:hover {\n",
              "      background-color: #434B5C;\n",
              "      box-shadow: 0px 1px 3px 1px rgba(0, 0, 0, 0.15);\n",
              "      filter: drop-shadow(0px 1px 2px rgba(0, 0, 0, 0.3));\n",
              "      fill: #FFFFFF;\n",
              "    }\n",
              "  </style>\n",
              "\n",
              "      <script>\n",
              "        const buttonEl =\n",
              "          document.querySelector('#df-b6cff95d-d860-4936-be8a-a6ef98029865 button.colab-df-convert');\n",
              "        buttonEl.style.display =\n",
              "          google.colab.kernel.accessAllowed ? 'block' : 'none';\n",
              "\n",
              "        async function convertToInteractive(key) {\n",
              "          const element = document.querySelector('#df-b6cff95d-d860-4936-be8a-a6ef98029865');\n",
              "          const dataTable =\n",
              "            await google.colab.kernel.invokeFunction('convertToInteractive',\n",
              "                                                     [key], {});\n",
              "          if (!dataTable) return;\n",
              "\n",
              "          const docLinkHtml = 'Like what you see? Visit the ' +\n",
              "            '<a target=\"_blank\" href=https://colab.research.google.com/notebooks/data_table.ipynb>data table notebook</a>'\n",
              "            + ' to learn more about interactive tables.';\n",
              "          element.innerHTML = '';\n",
              "          dataTable['output_type'] = 'display_data';\n",
              "          await google.colab.output.renderOutput(dataTable, element);\n",
              "          const docLink = document.createElement('div');\n",
              "          docLink.innerHTML = docLinkHtml;\n",
              "          element.appendChild(docLink);\n",
              "        }\n",
              "      </script>\n",
              "    </div>\n",
              "  </div>\n",
              "  "
            ]
          },
          "metadata": {},
          "execution_count": 116
        }
      ]
    },
    {
      "cell_type": "code",
      "source": [
        "tau_hat_RFTE, std_hat_RFTE = att_aiptw(**data_and_nuisance_estimates_RFTE)\n",
        "print(f\"The estimate using RandomForest is {tau_hat_RFTE} pm {1.96*std_hat_RFTE}\")"
      ],
      "metadata": {
        "colab": {
          "base_uri": "https://localhost:8080/"
        },
        "id": "RRvEOQfl58x4",
        "outputId": "67dd1c9c-4919-4562-f5bb-daa67991d04b"
      },
      "execution_count": 117,
      "outputs": [
        {
          "output_type": "stream",
          "name": "stdout",
          "text": [
            "The estimate using RandomForest is -0.29079348162205293 pm 2.723528497821353\n"
          ]
        }
      ]
    },
    {
      "cell_type": "markdown",
      "source": [
        "### Calculate Total Effect using Logistic Regression"
      ],
      "metadata": {
        "id": "tys7oUAQ50kW"
      }
    },
    {
      "cell_type": "code",
      "source": [
        "Q0_LRTE,Q1_LRTE = outcome_k_fold_fit_and_predict(make_Qmodel_linearRegression, \n",
        "                                             X=confounders_without_Mediator, y=outcome, \n",
        "                                             A=treatment, n_splits=10, output_type=\"continuous\")"
      ],
      "metadata": {
        "id": "EQtboVhd6cuB"
      },
      "execution_count": 118,
      "outputs": []
    },
    {
      "cell_type": "code",
      "source": [
        "data_and_nuisance_estimates_LRTE = exclude_moderate(pd.DataFrame({'g': g2_TE, 'Q0': Q0_LRTE, 'Q1': Q1_LRTE, 'A': treatment, 'Y': outcome}))\n",
        "data_and_nuisance_estimates_LRTE.head()"
      ],
      "metadata": {
        "colab": {
          "base_uri": "https://localhost:8080/",
          "height": 206
        },
        "id": "1r-jXEPN6i9t",
        "outputId": "3b2657fd-a798-4725-a4ac-1b0e0ba1a87a"
      },
      "execution_count": 119,
      "outputs": [
        {
          "output_type": "execute_result",
          "data": {
            "text/plain": [
              "          g         Q0         Q1  A          Y\n",
              "0  0.456252  69.044088  66.615084  0  77.000000\n",
              "1  0.403838  67.693013  65.866381  0  73.666664\n",
              "2  0.528368  70.077743  68.152090  0  70.000000\n",
              "3  0.421758  68.350808  66.425155  0  81.000000\n",
              "4  0.513315  71.925262  70.085348  0  81.500000"
            ],
            "text/html": [
              "\n",
              "  <div id=\"df-4d81ef6b-453c-49dc-928b-3b67d48b3194\">\n",
              "    <div class=\"colab-df-container\">\n",
              "      <div>\n",
              "<style scoped>\n",
              "    .dataframe tbody tr th:only-of-type {\n",
              "        vertical-align: middle;\n",
              "    }\n",
              "\n",
              "    .dataframe tbody tr th {\n",
              "        vertical-align: top;\n",
              "    }\n",
              "\n",
              "    .dataframe thead th {\n",
              "        text-align: right;\n",
              "    }\n",
              "</style>\n",
              "<table border=\"1\" class=\"dataframe\">\n",
              "  <thead>\n",
              "    <tr style=\"text-align: right;\">\n",
              "      <th></th>\n",
              "      <th>g</th>\n",
              "      <th>Q0</th>\n",
              "      <th>Q1</th>\n",
              "      <th>A</th>\n",
              "      <th>Y</th>\n",
              "    </tr>\n",
              "  </thead>\n",
              "  <tbody>\n",
              "    <tr>\n",
              "      <th>0</th>\n",
              "      <td>0.456252</td>\n",
              "      <td>69.044088</td>\n",
              "      <td>66.615084</td>\n",
              "      <td>0</td>\n",
              "      <td>77.000000</td>\n",
              "    </tr>\n",
              "    <tr>\n",
              "      <th>1</th>\n",
              "      <td>0.403838</td>\n",
              "      <td>67.693013</td>\n",
              "      <td>65.866381</td>\n",
              "      <td>0</td>\n",
              "      <td>73.666664</td>\n",
              "    </tr>\n",
              "    <tr>\n",
              "      <th>2</th>\n",
              "      <td>0.528368</td>\n",
              "      <td>70.077743</td>\n",
              "      <td>68.152090</td>\n",
              "      <td>0</td>\n",
              "      <td>70.000000</td>\n",
              "    </tr>\n",
              "    <tr>\n",
              "      <th>3</th>\n",
              "      <td>0.421758</td>\n",
              "      <td>68.350808</td>\n",
              "      <td>66.425155</td>\n",
              "      <td>0</td>\n",
              "      <td>81.000000</td>\n",
              "    </tr>\n",
              "    <tr>\n",
              "      <th>4</th>\n",
              "      <td>0.513315</td>\n",
              "      <td>71.925262</td>\n",
              "      <td>70.085348</td>\n",
              "      <td>0</td>\n",
              "      <td>81.500000</td>\n",
              "    </tr>\n",
              "  </tbody>\n",
              "</table>\n",
              "</div>\n",
              "      <button class=\"colab-df-convert\" onclick=\"convertToInteractive('df-4d81ef6b-453c-49dc-928b-3b67d48b3194')\"\n",
              "              title=\"Convert this dataframe to an interactive table.\"\n",
              "              style=\"display:none;\">\n",
              "        \n",
              "  <svg xmlns=\"http://www.w3.org/2000/svg\" height=\"24px\"viewBox=\"0 0 24 24\"\n",
              "       width=\"24px\">\n",
              "    <path d=\"M0 0h24v24H0V0z\" fill=\"none\"/>\n",
              "    <path d=\"M18.56 5.44l.94 2.06.94-2.06 2.06-.94-2.06-.94-.94-2.06-.94 2.06-2.06.94zm-11 1L8.5 8.5l.94-2.06 2.06-.94-2.06-.94L8.5 2.5l-.94 2.06-2.06.94zm10 10l.94 2.06.94-2.06 2.06-.94-2.06-.94-.94-2.06-.94 2.06-2.06.94z\"/><path d=\"M17.41 7.96l-1.37-1.37c-.4-.4-.92-.59-1.43-.59-.52 0-1.04.2-1.43.59L10.3 9.45l-7.72 7.72c-.78.78-.78 2.05 0 2.83L4 21.41c.39.39.9.59 1.41.59.51 0 1.02-.2 1.41-.59l7.78-7.78 2.81-2.81c.8-.78.8-2.07 0-2.86zM5.41 20L4 18.59l7.72-7.72 1.47 1.35L5.41 20z\"/>\n",
              "  </svg>\n",
              "      </button>\n",
              "      \n",
              "  <style>\n",
              "    .colab-df-container {\n",
              "      display:flex;\n",
              "      flex-wrap:wrap;\n",
              "      gap: 12px;\n",
              "    }\n",
              "\n",
              "    .colab-df-convert {\n",
              "      background-color: #E8F0FE;\n",
              "      border: none;\n",
              "      border-radius: 50%;\n",
              "      cursor: pointer;\n",
              "      display: none;\n",
              "      fill: #1967D2;\n",
              "      height: 32px;\n",
              "      padding: 0 0 0 0;\n",
              "      width: 32px;\n",
              "    }\n",
              "\n",
              "    .colab-df-convert:hover {\n",
              "      background-color: #E2EBFA;\n",
              "      box-shadow: 0px 1px 2px rgba(60, 64, 67, 0.3), 0px 1px 3px 1px rgba(60, 64, 67, 0.15);\n",
              "      fill: #174EA6;\n",
              "    }\n",
              "\n",
              "    [theme=dark] .colab-df-convert {\n",
              "      background-color: #3B4455;\n",
              "      fill: #D2E3FC;\n",
              "    }\n",
              "\n",
              "    [theme=dark] .colab-df-convert:hover {\n",
              "      background-color: #434B5C;\n",
              "      box-shadow: 0px 1px 3px 1px rgba(0, 0, 0, 0.15);\n",
              "      filter: drop-shadow(0px 1px 2px rgba(0, 0, 0, 0.3));\n",
              "      fill: #FFFFFF;\n",
              "    }\n",
              "  </style>\n",
              "\n",
              "      <script>\n",
              "        const buttonEl =\n",
              "          document.querySelector('#df-4d81ef6b-453c-49dc-928b-3b67d48b3194 button.colab-df-convert');\n",
              "        buttonEl.style.display =\n",
              "          google.colab.kernel.accessAllowed ? 'block' : 'none';\n",
              "\n",
              "        async function convertToInteractive(key) {\n",
              "          const element = document.querySelector('#df-4d81ef6b-453c-49dc-928b-3b67d48b3194');\n",
              "          const dataTable =\n",
              "            await google.colab.kernel.invokeFunction('convertToInteractive',\n",
              "                                                     [key], {});\n",
              "          if (!dataTable) return;\n",
              "\n",
              "          const docLinkHtml = 'Like what you see? Visit the ' +\n",
              "            '<a target=\"_blank\" href=https://colab.research.google.com/notebooks/data_table.ipynb>data table notebook</a>'\n",
              "            + ' to learn more about interactive tables.';\n",
              "          element.innerHTML = '';\n",
              "          dataTable['output_type'] = 'display_data';\n",
              "          await google.colab.output.renderOutput(dataTable, element);\n",
              "          const docLink = document.createElement('div');\n",
              "          docLink.innerHTML = docLinkHtml;\n",
              "          element.appendChild(docLink);\n",
              "        }\n",
              "      </script>\n",
              "    </div>\n",
              "  </div>\n",
              "  "
            ]
          },
          "metadata": {},
          "execution_count": 119
        }
      ]
    },
    {
      "cell_type": "code",
      "source": [
        "tau_hat_LRTE, std_hat_LRTE = att_aiptw(**data_and_nuisance_estimates_LRTE)\n",
        "print(f\"The estimate using Logistic Regression is {tau_hat_LRTE} pm {1.96*std_hat_LRTE}\")"
      ],
      "metadata": {
        "colab": {
          "base_uri": "https://localhost:8080/"
        },
        "id": "f-65NIKL6ot4",
        "outputId": "e91b5e9a-1189-449c-fa9a-8da567b0e296"
      },
      "execution_count": 120,
      "outputs": [
        {
          "output_type": "stream",
          "name": "stdout",
          "text": [
            "The estimate using Logistic Regression is -2.1298617205535386 pm 1.4718306158615349\n"
          ]
        }
      ]
    },
    {
      "cell_type": "markdown",
      "source": [
        "### Calculate Total Effect using XGBoost"
      ],
      "metadata": {
        "id": "QMEDx8iq3cBJ"
      }
    },
    {
      "cell_type": "code",
      "source": [
        "Q0_XGTE,Q1_XGTE = outcome_k_fold_fit_and_predict(make_Qmodel_XGBoost, \n",
        "                                             X=confounders_without_Mediator, y=outcome, \n",
        "                                             A=treatment, n_splits=10, output_type=\"continuous\")"
      ],
      "metadata": {
        "id": "AmPYr52T3ZH0"
      },
      "execution_count": 121,
      "outputs": []
    },
    {
      "cell_type": "code",
      "source": [
        "data_and_nuisance_estimates_XGTE = exclude_moderate(pd.DataFrame({'g': g3_TE, 'Q0': Q0_XGTE, 'Q1': Q1_XGTE, 'A': treatment, 'Y': outcome}))\n",
        "data_and_nuisance_estimates_XGTE.head()"
      ],
      "metadata": {
        "colab": {
          "base_uri": "https://localhost:8080/",
          "height": 206
        },
        "id": "55loX07Z3qJV",
        "outputId": "cc201f4c-1b73-4b72-b08a-80e82cc29174"
      },
      "execution_count": 122,
      "outputs": [
        {
          "output_type": "execute_result",
          "data": {
            "text/plain": [
              "          g         Q0         Q1  A          Y\n",
              "0  0.388895  72.064819  66.912010  0  77.000000\n",
              "1  0.325704  70.125023  65.910683  0  73.666664\n",
              "2  0.553644  71.329063  68.893646  0  70.000000\n",
              "3  0.368042  71.262108  66.487671  0  81.000000\n",
              "4  0.557024  72.482079  70.086472  0  81.500000"
            ],
            "text/html": [
              "\n",
              "  <div id=\"df-a54ea1da-cdf9-4665-9b22-bbc37ffd76d3\">\n",
              "    <div class=\"colab-df-container\">\n",
              "      <div>\n",
              "<style scoped>\n",
              "    .dataframe tbody tr th:only-of-type {\n",
              "        vertical-align: middle;\n",
              "    }\n",
              "\n",
              "    .dataframe tbody tr th {\n",
              "        vertical-align: top;\n",
              "    }\n",
              "\n",
              "    .dataframe thead th {\n",
              "        text-align: right;\n",
              "    }\n",
              "</style>\n",
              "<table border=\"1\" class=\"dataframe\">\n",
              "  <thead>\n",
              "    <tr style=\"text-align: right;\">\n",
              "      <th></th>\n",
              "      <th>g</th>\n",
              "      <th>Q0</th>\n",
              "      <th>Q1</th>\n",
              "      <th>A</th>\n",
              "      <th>Y</th>\n",
              "    </tr>\n",
              "  </thead>\n",
              "  <tbody>\n",
              "    <tr>\n",
              "      <th>0</th>\n",
              "      <td>0.388895</td>\n",
              "      <td>72.064819</td>\n",
              "      <td>66.912010</td>\n",
              "      <td>0</td>\n",
              "      <td>77.000000</td>\n",
              "    </tr>\n",
              "    <tr>\n",
              "      <th>1</th>\n",
              "      <td>0.325704</td>\n",
              "      <td>70.125023</td>\n",
              "      <td>65.910683</td>\n",
              "      <td>0</td>\n",
              "      <td>73.666664</td>\n",
              "    </tr>\n",
              "    <tr>\n",
              "      <th>2</th>\n",
              "      <td>0.553644</td>\n",
              "      <td>71.329063</td>\n",
              "      <td>68.893646</td>\n",
              "      <td>0</td>\n",
              "      <td>70.000000</td>\n",
              "    </tr>\n",
              "    <tr>\n",
              "      <th>3</th>\n",
              "      <td>0.368042</td>\n",
              "      <td>71.262108</td>\n",
              "      <td>66.487671</td>\n",
              "      <td>0</td>\n",
              "      <td>81.000000</td>\n",
              "    </tr>\n",
              "    <tr>\n",
              "      <th>4</th>\n",
              "      <td>0.557024</td>\n",
              "      <td>72.482079</td>\n",
              "      <td>70.086472</td>\n",
              "      <td>0</td>\n",
              "      <td>81.500000</td>\n",
              "    </tr>\n",
              "  </tbody>\n",
              "</table>\n",
              "</div>\n",
              "      <button class=\"colab-df-convert\" onclick=\"convertToInteractive('df-a54ea1da-cdf9-4665-9b22-bbc37ffd76d3')\"\n",
              "              title=\"Convert this dataframe to an interactive table.\"\n",
              "              style=\"display:none;\">\n",
              "        \n",
              "  <svg xmlns=\"http://www.w3.org/2000/svg\" height=\"24px\"viewBox=\"0 0 24 24\"\n",
              "       width=\"24px\">\n",
              "    <path d=\"M0 0h24v24H0V0z\" fill=\"none\"/>\n",
              "    <path d=\"M18.56 5.44l.94 2.06.94-2.06 2.06-.94-2.06-.94-.94-2.06-.94 2.06-2.06.94zm-11 1L8.5 8.5l.94-2.06 2.06-.94-2.06-.94L8.5 2.5l-.94 2.06-2.06.94zm10 10l.94 2.06.94-2.06 2.06-.94-2.06-.94-.94-2.06-.94 2.06-2.06.94z\"/><path d=\"M17.41 7.96l-1.37-1.37c-.4-.4-.92-.59-1.43-.59-.52 0-1.04.2-1.43.59L10.3 9.45l-7.72 7.72c-.78.78-.78 2.05 0 2.83L4 21.41c.39.39.9.59 1.41.59.51 0 1.02-.2 1.41-.59l7.78-7.78 2.81-2.81c.8-.78.8-2.07 0-2.86zM5.41 20L4 18.59l7.72-7.72 1.47 1.35L5.41 20z\"/>\n",
              "  </svg>\n",
              "      </button>\n",
              "      \n",
              "  <style>\n",
              "    .colab-df-container {\n",
              "      display:flex;\n",
              "      flex-wrap:wrap;\n",
              "      gap: 12px;\n",
              "    }\n",
              "\n",
              "    .colab-df-convert {\n",
              "      background-color: #E8F0FE;\n",
              "      border: none;\n",
              "      border-radius: 50%;\n",
              "      cursor: pointer;\n",
              "      display: none;\n",
              "      fill: #1967D2;\n",
              "      height: 32px;\n",
              "      padding: 0 0 0 0;\n",
              "      width: 32px;\n",
              "    }\n",
              "\n",
              "    .colab-df-convert:hover {\n",
              "      background-color: #E2EBFA;\n",
              "      box-shadow: 0px 1px 2px rgba(60, 64, 67, 0.3), 0px 1px 3px 1px rgba(60, 64, 67, 0.15);\n",
              "      fill: #174EA6;\n",
              "    }\n",
              "\n",
              "    [theme=dark] .colab-df-convert {\n",
              "      background-color: #3B4455;\n",
              "      fill: #D2E3FC;\n",
              "    }\n",
              "\n",
              "    [theme=dark] .colab-df-convert:hover {\n",
              "      background-color: #434B5C;\n",
              "      box-shadow: 0px 1px 3px 1px rgba(0, 0, 0, 0.15);\n",
              "      filter: drop-shadow(0px 1px 2px rgba(0, 0, 0, 0.3));\n",
              "      fill: #FFFFFF;\n",
              "    }\n",
              "  </style>\n",
              "\n",
              "      <script>\n",
              "        const buttonEl =\n",
              "          document.querySelector('#df-a54ea1da-cdf9-4665-9b22-bbc37ffd76d3 button.colab-df-convert');\n",
              "        buttonEl.style.display =\n",
              "          google.colab.kernel.accessAllowed ? 'block' : 'none';\n",
              "\n",
              "        async function convertToInteractive(key) {\n",
              "          const element = document.querySelector('#df-a54ea1da-cdf9-4665-9b22-bbc37ffd76d3');\n",
              "          const dataTable =\n",
              "            await google.colab.kernel.invokeFunction('convertToInteractive',\n",
              "                                                     [key], {});\n",
              "          if (!dataTable) return;\n",
              "\n",
              "          const docLinkHtml = 'Like what you see? Visit the ' +\n",
              "            '<a target=\"_blank\" href=https://colab.research.google.com/notebooks/data_table.ipynb>data table notebook</a>'\n",
              "            + ' to learn more about interactive tables.';\n",
              "          element.innerHTML = '';\n",
              "          dataTable['output_type'] = 'display_data';\n",
              "          await google.colab.output.renderOutput(dataTable, element);\n",
              "          const docLink = document.createElement('div');\n",
              "          docLink.innerHTML = docLinkHtml;\n",
              "          element.appendChild(docLink);\n",
              "        }\n",
              "      </script>\n",
              "    </div>\n",
              "  </div>\n",
              "  "
            ]
          },
          "metadata": {},
          "execution_count": 122
        }
      ]
    },
    {
      "cell_type": "code",
      "source": [
        "tau_hat_XGTE, std_hat_XGTE = att_aiptw(**data_and_nuisance_estimates_XGTE)\n",
        "print(f\"The estimate using XGBoost is {tau_hat_XGTE} pm {1.96*std_hat_XGTE}\")"
      ],
      "metadata": {
        "colab": {
          "base_uri": "https://localhost:8080/"
        },
        "id": "gPCScnwa4wsj",
        "outputId": "94f3afe1-5331-4e59-fe05-fe06a6775bbf"
      },
      "execution_count": 123,
      "outputs": [
        {
          "output_type": "stream",
          "name": "stdout",
          "text": [
            "The estimate using XGBoost is -1.7193910094672515 pm 1.5982030906937839\n"
          ]
        }
      ]
    },
    {
      "cell_type": "markdown",
      "source": [
        "# The table of results"
      ],
      "metadata": {
        "id": "XDCavsMVGuMd"
      }
    },
    {
      "cell_type": "code",
      "source": [
        "NDE_table = [['Outcome','Type of causal effect','Mediator excluded', 'Model', 'Estimate','p/m', 'Standard Error'], \n",
        "         ['Fall_grade','Natural Direct Effect', 'Study Hours', 'RandomForest',tau_hat_RFSH,1.96*std_hat_RFSH, std_hat_RFSH], \n",
        "         ['Fall_grade','Natural Direct Effect', 'Study Hours', 'Logistic Regression',tau_hat_LRSH,1.96*std_hat_LRSH,std_hat_LRSH],\n",
        "         ['Fall_grade','Natural Direct Effect', 'Study Hours', 'XGBoost',tau_hat_XGSH,1.96*std_hat_XGSH,std_hat_XGSH],\n",
        "         ['Fall_grade','Natural Direct Effect', 'Study Habits', 'RandomForest',tau_hat_RFSB,1.96*std_hat_RFSB,std_hat_RFSB], \n",
        "         ['Fall_grade','Natural Direct Effect', 'Study Habits', 'Logistic Regression',tau_hat_LRSB,1.96*std_hat_LRSB,std_hat_LRSB],\n",
        "         ['Fall_grade','Natural Direct Effect', 'Study Habits', 'XGBoost',tau_hat_XGSB,1.96*std_hat_XGSB,std_hat_XGSB],\n",
        "         ['Fall_grade','Natural Direct Effect', 'Study Hours and Study Habits', 'RandomForest',tau_hat_RF,1.96*std_hat_RF,std_hat_RF], \n",
        "         ['Fall_grade','Natural Direct Effect', 'Study Hours and Study Habits', 'Logistic Regression',tau_hat_LR,1.96*std_hat_LR,std_hat_LR],\n",
        "         ['Fall_grade','Natural Direct Effect', 'Study Hours and Study Habits', 'XGBoost',tau_hat_XGB,1.96*std_hat_XGB,std_hat_XGB]]"
      ],
      "metadata": {
        "id": "l6l7o2unG0t4"
      },
      "execution_count": null,
      "outputs": []
    },
    {
      "cell_type": "code",
      "source": [
        "TE_table = [['Outcome','Type of causal effect', 'Model', 'Estimate','p/m', 'Standard Error'],\n",
        "            ['Fall_grade','Total Effect', 'RandomForest',tau_hat_RFTE,1.96*std_hat_RFTE, std_hat_RFTE], \n",
        "            ['Fall_grade','Total Effect', 'Logistic Regression',tau_hat_LRTE,1.96*std_hat_LRTE, std_hat_LRTE],\n",
        "            ['Fall_grade','Total Effect', 'XGBoost',tau_hat_XGTE,1.96*std_hat_XGTE, std_hat_XGTE]]"
      ],
      "metadata": {
        "id": "h8Q9CqAdMY5k"
      },
      "execution_count": null,
      "outputs": []
    },
    {
      "cell_type": "code",
      "source": [
        "Plb_table = [['Outcome','Type of causal effect', 'Model', 'Estimate','p/m', 'Standard Error'],\n",
        "                 ['Fall_grade','Placebo Effect on Agreealeness', 'RandomForest',tau_hat_RF_P,1.96*std_hat_RF_P,std_hat_RF_P], \n",
        "                 ['Fall_grade','Placebo Effect on Agreealeness', 'Logistic Regression',tau_hat_LR_P,1.96*std_hat_LR_P,std_hat_LR_P],\n",
        "                 ['Fall_grade','Placebo Effect on Agreealeness', 'XGBoost',tau_hat_XG_P,1.96*std_hat_XG_P,std_hat_XG_P]]"
      ],
      "metadata": {
        "id": "pHDetKfeMdzM"
      },
      "execution_count": null,
      "outputs": []
    },
    {
      "cell_type": "code",
      "source": [
        "df_NDE = pd.DataFrame(NDE_table)\n",
        "df_NDE.columns = df_NDE.iloc[0]\n",
        "df_NDE = df_NDE[1:]\n",
        "df_NDE"
      ],
      "metadata": {
        "colab": {
          "base_uri": "https://localhost:8080/",
          "height": 567
        },
        "id": "pz02hMA-KYyy",
        "outputId": "8d441d18-f056-4895-c4df-008718fafafb"
      },
      "execution_count": null,
      "outputs": [
        {
          "output_type": "execute_result",
          "data": {
            "text/plain": [
              "0     Outcome  Type of causal effect             Mediator excluded  \\\n",
              "1  Fall_grade  Natural Direct Effect                   Study Hours   \n",
              "2  Fall_grade  Natural Direct Effect                   Study Hours   \n",
              "3  Fall_grade  Natural Direct Effect                   Study Hours   \n",
              "4  Fall_grade  Natural Direct Effect                  Study Habits   \n",
              "5  Fall_grade  Natural Direct Effect                  Study Habits   \n",
              "6  Fall_grade  Natural Direct Effect                  Study Habits   \n",
              "7  Fall_grade  Natural Direct Effect  Study Hours and Study Habits   \n",
              "8  Fall_grade  Natural Direct Effect  Study Hours and Study Habits   \n",
              "9  Fall_grade  Natural Direct Effect  Study Hours and Study Habits   \n",
              "\n",
              "0                Model  Estimate       p/m Standard Error  \n",
              "1         RandomForest -2.926694  1.695228       0.864912  \n",
              "2  Logistic Regression -1.834375  1.444524       0.737002  \n",
              "3              XGBoost -2.927115  1.956578       0.998254  \n",
              "4         RandomForest -3.221719   1.85487       0.946362  \n",
              "5  Logistic Regression -2.019225   1.46254       0.746194  \n",
              "6              XGBoost -3.354606  1.993589       1.017137  \n",
              "7         RandomForest -2.686701  1.617441       0.825225  \n",
              "8  Logistic Regression -1.892744  1.462806       0.746329  \n",
              "9              XGBoost -3.018747  1.965744       1.002931  "
            ],
            "text/html": [
              "\n",
              "  <div id=\"df-1773c613-6170-4fab-b362-e66853e89743\">\n",
              "    <div class=\"colab-df-container\">\n",
              "      <div>\n",
              "<style scoped>\n",
              "    .dataframe tbody tr th:only-of-type {\n",
              "        vertical-align: middle;\n",
              "    }\n",
              "\n",
              "    .dataframe tbody tr th {\n",
              "        vertical-align: top;\n",
              "    }\n",
              "\n",
              "    .dataframe thead th {\n",
              "        text-align: right;\n",
              "    }\n",
              "</style>\n",
              "<table border=\"1\" class=\"dataframe\">\n",
              "  <thead>\n",
              "    <tr style=\"text-align: right;\">\n",
              "      <th></th>\n",
              "      <th>Outcome</th>\n",
              "      <th>Type of causal effect</th>\n",
              "      <th>Mediator excluded</th>\n",
              "      <th>Model</th>\n",
              "      <th>Estimate</th>\n",
              "      <th>p/m</th>\n",
              "      <th>Standard Error</th>\n",
              "    </tr>\n",
              "  </thead>\n",
              "  <tbody>\n",
              "    <tr>\n",
              "      <th>1</th>\n",
              "      <td>Fall_grade</td>\n",
              "      <td>Natural Direct Effect</td>\n",
              "      <td>Study Hours</td>\n",
              "      <td>RandomForest</td>\n",
              "      <td>-2.926694</td>\n",
              "      <td>1.695228</td>\n",
              "      <td>0.864912</td>\n",
              "    </tr>\n",
              "    <tr>\n",
              "      <th>2</th>\n",
              "      <td>Fall_grade</td>\n",
              "      <td>Natural Direct Effect</td>\n",
              "      <td>Study Hours</td>\n",
              "      <td>Logistic Regression</td>\n",
              "      <td>-1.834375</td>\n",
              "      <td>1.444524</td>\n",
              "      <td>0.737002</td>\n",
              "    </tr>\n",
              "    <tr>\n",
              "      <th>3</th>\n",
              "      <td>Fall_grade</td>\n",
              "      <td>Natural Direct Effect</td>\n",
              "      <td>Study Hours</td>\n",
              "      <td>XGBoost</td>\n",
              "      <td>-2.927115</td>\n",
              "      <td>1.956578</td>\n",
              "      <td>0.998254</td>\n",
              "    </tr>\n",
              "    <tr>\n",
              "      <th>4</th>\n",
              "      <td>Fall_grade</td>\n",
              "      <td>Natural Direct Effect</td>\n",
              "      <td>Study Habits</td>\n",
              "      <td>RandomForest</td>\n",
              "      <td>-3.221719</td>\n",
              "      <td>1.85487</td>\n",
              "      <td>0.946362</td>\n",
              "    </tr>\n",
              "    <tr>\n",
              "      <th>5</th>\n",
              "      <td>Fall_grade</td>\n",
              "      <td>Natural Direct Effect</td>\n",
              "      <td>Study Habits</td>\n",
              "      <td>Logistic Regression</td>\n",
              "      <td>-2.019225</td>\n",
              "      <td>1.46254</td>\n",
              "      <td>0.746194</td>\n",
              "    </tr>\n",
              "    <tr>\n",
              "      <th>6</th>\n",
              "      <td>Fall_grade</td>\n",
              "      <td>Natural Direct Effect</td>\n",
              "      <td>Study Habits</td>\n",
              "      <td>XGBoost</td>\n",
              "      <td>-3.354606</td>\n",
              "      <td>1.993589</td>\n",
              "      <td>1.017137</td>\n",
              "    </tr>\n",
              "    <tr>\n",
              "      <th>7</th>\n",
              "      <td>Fall_grade</td>\n",
              "      <td>Natural Direct Effect</td>\n",
              "      <td>Study Hours and Study Habits</td>\n",
              "      <td>RandomForest</td>\n",
              "      <td>-2.686701</td>\n",
              "      <td>1.617441</td>\n",
              "      <td>0.825225</td>\n",
              "    </tr>\n",
              "    <tr>\n",
              "      <th>8</th>\n",
              "      <td>Fall_grade</td>\n",
              "      <td>Natural Direct Effect</td>\n",
              "      <td>Study Hours and Study Habits</td>\n",
              "      <td>Logistic Regression</td>\n",
              "      <td>-1.892744</td>\n",
              "      <td>1.462806</td>\n",
              "      <td>0.746329</td>\n",
              "    </tr>\n",
              "    <tr>\n",
              "      <th>9</th>\n",
              "      <td>Fall_grade</td>\n",
              "      <td>Natural Direct Effect</td>\n",
              "      <td>Study Hours and Study Habits</td>\n",
              "      <td>XGBoost</td>\n",
              "      <td>-3.018747</td>\n",
              "      <td>1.965744</td>\n",
              "      <td>1.002931</td>\n",
              "    </tr>\n",
              "  </tbody>\n",
              "</table>\n",
              "</div>\n",
              "      <button class=\"colab-df-convert\" onclick=\"convertToInteractive('df-1773c613-6170-4fab-b362-e66853e89743')\"\n",
              "              title=\"Convert this dataframe to an interactive table.\"\n",
              "              style=\"display:none;\">\n",
              "        \n",
              "  <svg xmlns=\"http://www.w3.org/2000/svg\" height=\"24px\"viewBox=\"0 0 24 24\"\n",
              "       width=\"24px\">\n",
              "    <path d=\"M0 0h24v24H0V0z\" fill=\"none\"/>\n",
              "    <path d=\"M18.56 5.44l.94 2.06.94-2.06 2.06-.94-2.06-.94-.94-2.06-.94 2.06-2.06.94zm-11 1L8.5 8.5l.94-2.06 2.06-.94-2.06-.94L8.5 2.5l-.94 2.06-2.06.94zm10 10l.94 2.06.94-2.06 2.06-.94-2.06-.94-.94-2.06-.94 2.06-2.06.94z\"/><path d=\"M17.41 7.96l-1.37-1.37c-.4-.4-.92-.59-1.43-.59-.52 0-1.04.2-1.43.59L10.3 9.45l-7.72 7.72c-.78.78-.78 2.05 0 2.83L4 21.41c.39.39.9.59 1.41.59.51 0 1.02-.2 1.41-.59l7.78-7.78 2.81-2.81c.8-.78.8-2.07 0-2.86zM5.41 20L4 18.59l7.72-7.72 1.47 1.35L5.41 20z\"/>\n",
              "  </svg>\n",
              "      </button>\n",
              "      \n",
              "  <style>\n",
              "    .colab-df-container {\n",
              "      display:flex;\n",
              "      flex-wrap:wrap;\n",
              "      gap: 12px;\n",
              "    }\n",
              "\n",
              "    .colab-df-convert {\n",
              "      background-color: #E8F0FE;\n",
              "      border: none;\n",
              "      border-radius: 50%;\n",
              "      cursor: pointer;\n",
              "      display: none;\n",
              "      fill: #1967D2;\n",
              "      height: 32px;\n",
              "      padding: 0 0 0 0;\n",
              "      width: 32px;\n",
              "    }\n",
              "\n",
              "    .colab-df-convert:hover {\n",
              "      background-color: #E2EBFA;\n",
              "      box-shadow: 0px 1px 2px rgba(60, 64, 67, 0.3), 0px 1px 3px 1px rgba(60, 64, 67, 0.15);\n",
              "      fill: #174EA6;\n",
              "    }\n",
              "\n",
              "    [theme=dark] .colab-df-convert {\n",
              "      background-color: #3B4455;\n",
              "      fill: #D2E3FC;\n",
              "    }\n",
              "\n",
              "    [theme=dark] .colab-df-convert:hover {\n",
              "      background-color: #434B5C;\n",
              "      box-shadow: 0px 1px 3px 1px rgba(0, 0, 0, 0.15);\n",
              "      filter: drop-shadow(0px 1px 2px rgba(0, 0, 0, 0.3));\n",
              "      fill: #FFFFFF;\n",
              "    }\n",
              "  </style>\n",
              "\n",
              "      <script>\n",
              "        const buttonEl =\n",
              "          document.querySelector('#df-1773c613-6170-4fab-b362-e66853e89743 button.colab-df-convert');\n",
              "        buttonEl.style.display =\n",
              "          google.colab.kernel.accessAllowed ? 'block' : 'none';\n",
              "\n",
              "        async function convertToInteractive(key) {\n",
              "          const element = document.querySelector('#df-1773c613-6170-4fab-b362-e66853e89743');\n",
              "          const dataTable =\n",
              "            await google.colab.kernel.invokeFunction('convertToInteractive',\n",
              "                                                     [key], {});\n",
              "          if (!dataTable) return;\n",
              "\n",
              "          const docLinkHtml = 'Like what you see? Visit the ' +\n",
              "            '<a target=\"_blank\" href=https://colab.research.google.com/notebooks/data_table.ipynb>data table notebook</a>'\n",
              "            + ' to learn more about interactive tables.';\n",
              "          element.innerHTML = '';\n",
              "          dataTable['output_type'] = 'display_data';\n",
              "          await google.colab.output.renderOutput(dataTable, element);\n",
              "          const docLink = document.createElement('div');\n",
              "          docLink.innerHTML = docLinkHtml;\n",
              "          element.appendChild(docLink);\n",
              "        }\n",
              "      </script>\n",
              "    </div>\n",
              "  </div>\n",
              "  "
            ]
          },
          "metadata": {},
          "execution_count": 109
        }
      ]
    },
    {
      "cell_type": "code",
      "source": [
        "df_TE = pd.DataFrame(TE_table)\n",
        "df_TE.columns = df_TE.iloc[0]\n",
        "df_TE = df_TE[1:]\n",
        "df_TE"
      ],
      "metadata": {
        "colab": {
          "base_uri": "https://localhost:8080/",
          "height": 187
        },
        "id": "HaA34SDbNFO3",
        "outputId": "52f41507-1db5-4cb2-fdde-74b3e00f6e8f"
      },
      "execution_count": null,
      "outputs": [
        {
          "output_type": "execute_result",
          "data": {
            "text/plain": [
              "0     Outcome Type of causal effect                Model  Estimate       p/m  \\\n",
              "1  Fall_grade          Total Effect         RandomForest -1.823852  1.683596   \n",
              "2  Fall_grade          Total Effect  Logistic Regression -2.122354  1.464547   \n",
              "3  Fall_grade          Total Effect              XGBoost -1.821977   1.58729   \n",
              "\n",
              "0 Standard Error  \n",
              "1       0.858978  \n",
              "2       0.747218  \n",
              "3       0.809842  "
            ],
            "text/html": [
              "\n",
              "  <div id=\"df-40309e3a-2c59-4327-abed-e502f1578042\">\n",
              "    <div class=\"colab-df-container\">\n",
              "      <div>\n",
              "<style scoped>\n",
              "    .dataframe tbody tr th:only-of-type {\n",
              "        vertical-align: middle;\n",
              "    }\n",
              "\n",
              "    .dataframe tbody tr th {\n",
              "        vertical-align: top;\n",
              "    }\n",
              "\n",
              "    .dataframe thead th {\n",
              "        text-align: right;\n",
              "    }\n",
              "</style>\n",
              "<table border=\"1\" class=\"dataframe\">\n",
              "  <thead>\n",
              "    <tr style=\"text-align: right;\">\n",
              "      <th></th>\n",
              "      <th>Outcome</th>\n",
              "      <th>Type of causal effect</th>\n",
              "      <th>Model</th>\n",
              "      <th>Estimate</th>\n",
              "      <th>p/m</th>\n",
              "      <th>Standard Error</th>\n",
              "    </tr>\n",
              "  </thead>\n",
              "  <tbody>\n",
              "    <tr>\n",
              "      <th>1</th>\n",
              "      <td>Fall_grade</td>\n",
              "      <td>Total Effect</td>\n",
              "      <td>RandomForest</td>\n",
              "      <td>-1.823852</td>\n",
              "      <td>1.683596</td>\n",
              "      <td>0.858978</td>\n",
              "    </tr>\n",
              "    <tr>\n",
              "      <th>2</th>\n",
              "      <td>Fall_grade</td>\n",
              "      <td>Total Effect</td>\n",
              "      <td>Logistic Regression</td>\n",
              "      <td>-2.122354</td>\n",
              "      <td>1.464547</td>\n",
              "      <td>0.747218</td>\n",
              "    </tr>\n",
              "    <tr>\n",
              "      <th>3</th>\n",
              "      <td>Fall_grade</td>\n",
              "      <td>Total Effect</td>\n",
              "      <td>XGBoost</td>\n",
              "      <td>-1.821977</td>\n",
              "      <td>1.58729</td>\n",
              "      <td>0.809842</td>\n",
              "    </tr>\n",
              "  </tbody>\n",
              "</table>\n",
              "</div>\n",
              "      <button class=\"colab-df-convert\" onclick=\"convertToInteractive('df-40309e3a-2c59-4327-abed-e502f1578042')\"\n",
              "              title=\"Convert this dataframe to an interactive table.\"\n",
              "              style=\"display:none;\">\n",
              "        \n",
              "  <svg xmlns=\"http://www.w3.org/2000/svg\" height=\"24px\"viewBox=\"0 0 24 24\"\n",
              "       width=\"24px\">\n",
              "    <path d=\"M0 0h24v24H0V0z\" fill=\"none\"/>\n",
              "    <path d=\"M18.56 5.44l.94 2.06.94-2.06 2.06-.94-2.06-.94-.94-2.06-.94 2.06-2.06.94zm-11 1L8.5 8.5l.94-2.06 2.06-.94-2.06-.94L8.5 2.5l-.94 2.06-2.06.94zm10 10l.94 2.06.94-2.06 2.06-.94-2.06-.94-.94-2.06-.94 2.06-2.06.94z\"/><path d=\"M17.41 7.96l-1.37-1.37c-.4-.4-.92-.59-1.43-.59-.52 0-1.04.2-1.43.59L10.3 9.45l-7.72 7.72c-.78.78-.78 2.05 0 2.83L4 21.41c.39.39.9.59 1.41.59.51 0 1.02-.2 1.41-.59l7.78-7.78 2.81-2.81c.8-.78.8-2.07 0-2.86zM5.41 20L4 18.59l7.72-7.72 1.47 1.35L5.41 20z\"/>\n",
              "  </svg>\n",
              "      </button>\n",
              "      \n",
              "  <style>\n",
              "    .colab-df-container {\n",
              "      display:flex;\n",
              "      flex-wrap:wrap;\n",
              "      gap: 12px;\n",
              "    }\n",
              "\n",
              "    .colab-df-convert {\n",
              "      background-color: #E8F0FE;\n",
              "      border: none;\n",
              "      border-radius: 50%;\n",
              "      cursor: pointer;\n",
              "      display: none;\n",
              "      fill: #1967D2;\n",
              "      height: 32px;\n",
              "      padding: 0 0 0 0;\n",
              "      width: 32px;\n",
              "    }\n",
              "\n",
              "    .colab-df-convert:hover {\n",
              "      background-color: #E2EBFA;\n",
              "      box-shadow: 0px 1px 2px rgba(60, 64, 67, 0.3), 0px 1px 3px 1px rgba(60, 64, 67, 0.15);\n",
              "      fill: #174EA6;\n",
              "    }\n",
              "\n",
              "    [theme=dark] .colab-df-convert {\n",
              "      background-color: #3B4455;\n",
              "      fill: #D2E3FC;\n",
              "    }\n",
              "\n",
              "    [theme=dark] .colab-df-convert:hover {\n",
              "      background-color: #434B5C;\n",
              "      box-shadow: 0px 1px 3px 1px rgba(0, 0, 0, 0.15);\n",
              "      filter: drop-shadow(0px 1px 2px rgba(0, 0, 0, 0.3));\n",
              "      fill: #FFFFFF;\n",
              "    }\n",
              "  </style>\n",
              "\n",
              "      <script>\n",
              "        const buttonEl =\n",
              "          document.querySelector('#df-40309e3a-2c59-4327-abed-e502f1578042 button.colab-df-convert');\n",
              "        buttonEl.style.display =\n",
              "          google.colab.kernel.accessAllowed ? 'block' : 'none';\n",
              "\n",
              "        async function convertToInteractive(key) {\n",
              "          const element = document.querySelector('#df-40309e3a-2c59-4327-abed-e502f1578042');\n",
              "          const dataTable =\n",
              "            await google.colab.kernel.invokeFunction('convertToInteractive',\n",
              "                                                     [key], {});\n",
              "          if (!dataTable) return;\n",
              "\n",
              "          const docLinkHtml = 'Like what you see? Visit the ' +\n",
              "            '<a target=\"_blank\" href=https://colab.research.google.com/notebooks/data_table.ipynb>data table notebook</a>'\n",
              "            + ' to learn more about interactive tables.';\n",
              "          element.innerHTML = '';\n",
              "          dataTable['output_type'] = 'display_data';\n",
              "          await google.colab.output.renderOutput(dataTable, element);\n",
              "          const docLink = document.createElement('div');\n",
              "          docLink.innerHTML = docLinkHtml;\n",
              "          element.appendChild(docLink);\n",
              "        }\n",
              "      </script>\n",
              "    </div>\n",
              "  </div>\n",
              "  "
            ]
          },
          "metadata": {},
          "execution_count": 110
        }
      ]
    },
    {
      "cell_type": "code",
      "source": [
        "df_plb = pd.DataFrame(Plb_table)\n",
        "df_plb.columns = df_plb.iloc[0]\n",
        "df_plb = df_plb[1:]\n",
        "df_plb"
      ],
      "metadata": {
        "colab": {
          "base_uri": "https://localhost:8080/",
          "height": 257
        },
        "id": "TmjGF1wHNFbB",
        "outputId": "3f0ce03d-242a-48d3-d38c-b483e35a5fa6"
      },
      "execution_count": null,
      "outputs": [
        {
          "output_type": "execute_result",
          "data": {
            "text/plain": [
              "0     Outcome           Type of causal effect                Model  Estimate  \\\n",
              "1  Fall_grade  Placebo Effect on Agreealeness         RandomForest -0.109723   \n",
              "2  Fall_grade  Placebo Effect on Agreealeness  Logistic Regression  0.400612   \n",
              "3  Fall_grade  Placebo Effect on Agreealeness              XGBoost  0.453821   \n",
              "\n",
              "0       p/m Standard Error  \n",
              "1  2.619992       1.336731  \n",
              "2  1.494358       0.762428  \n",
              "3  1.579542       0.805889  "
            ],
            "text/html": [
              "\n",
              "  <div id=\"df-cb8ff4ba-211f-459c-9114-7a8372c1c2f8\">\n",
              "    <div class=\"colab-df-container\">\n",
              "      <div>\n",
              "<style scoped>\n",
              "    .dataframe tbody tr th:only-of-type {\n",
              "        vertical-align: middle;\n",
              "    }\n",
              "\n",
              "    .dataframe tbody tr th {\n",
              "        vertical-align: top;\n",
              "    }\n",
              "\n",
              "    .dataframe thead th {\n",
              "        text-align: right;\n",
              "    }\n",
              "</style>\n",
              "<table border=\"1\" class=\"dataframe\">\n",
              "  <thead>\n",
              "    <tr style=\"text-align: right;\">\n",
              "      <th></th>\n",
              "      <th>Outcome</th>\n",
              "      <th>Type of causal effect</th>\n",
              "      <th>Model</th>\n",
              "      <th>Estimate</th>\n",
              "      <th>p/m</th>\n",
              "      <th>Standard Error</th>\n",
              "    </tr>\n",
              "  </thead>\n",
              "  <tbody>\n",
              "    <tr>\n",
              "      <th>1</th>\n",
              "      <td>Fall_grade</td>\n",
              "      <td>Placebo Effect on Agreealeness</td>\n",
              "      <td>RandomForest</td>\n",
              "      <td>-0.109723</td>\n",
              "      <td>2.619992</td>\n",
              "      <td>1.336731</td>\n",
              "    </tr>\n",
              "    <tr>\n",
              "      <th>2</th>\n",
              "      <td>Fall_grade</td>\n",
              "      <td>Placebo Effect on Agreealeness</td>\n",
              "      <td>Logistic Regression</td>\n",
              "      <td>0.400612</td>\n",
              "      <td>1.494358</td>\n",
              "      <td>0.762428</td>\n",
              "    </tr>\n",
              "    <tr>\n",
              "      <th>3</th>\n",
              "      <td>Fall_grade</td>\n",
              "      <td>Placebo Effect on Agreealeness</td>\n",
              "      <td>XGBoost</td>\n",
              "      <td>0.453821</td>\n",
              "      <td>1.579542</td>\n",
              "      <td>0.805889</td>\n",
              "    </tr>\n",
              "  </tbody>\n",
              "</table>\n",
              "</div>\n",
              "      <button class=\"colab-df-convert\" onclick=\"convertToInteractive('df-cb8ff4ba-211f-459c-9114-7a8372c1c2f8')\"\n",
              "              title=\"Convert this dataframe to an interactive table.\"\n",
              "              style=\"display:none;\">\n",
              "        \n",
              "  <svg xmlns=\"http://www.w3.org/2000/svg\" height=\"24px\"viewBox=\"0 0 24 24\"\n",
              "       width=\"24px\">\n",
              "    <path d=\"M0 0h24v24H0V0z\" fill=\"none\"/>\n",
              "    <path d=\"M18.56 5.44l.94 2.06.94-2.06 2.06-.94-2.06-.94-.94-2.06-.94 2.06-2.06.94zm-11 1L8.5 8.5l.94-2.06 2.06-.94-2.06-.94L8.5 2.5l-.94 2.06-2.06.94zm10 10l.94 2.06.94-2.06 2.06-.94-2.06-.94-.94-2.06-.94 2.06-2.06.94z\"/><path d=\"M17.41 7.96l-1.37-1.37c-.4-.4-.92-.59-1.43-.59-.52 0-1.04.2-1.43.59L10.3 9.45l-7.72 7.72c-.78.78-.78 2.05 0 2.83L4 21.41c.39.39.9.59 1.41.59.51 0 1.02-.2 1.41-.59l7.78-7.78 2.81-2.81c.8-.78.8-2.07 0-2.86zM5.41 20L4 18.59l7.72-7.72 1.47 1.35L5.41 20z\"/>\n",
              "  </svg>\n",
              "      </button>\n",
              "      \n",
              "  <style>\n",
              "    .colab-df-container {\n",
              "      display:flex;\n",
              "      flex-wrap:wrap;\n",
              "      gap: 12px;\n",
              "    }\n",
              "\n",
              "    .colab-df-convert {\n",
              "      background-color: #E8F0FE;\n",
              "      border: none;\n",
              "      border-radius: 50%;\n",
              "      cursor: pointer;\n",
              "      display: none;\n",
              "      fill: #1967D2;\n",
              "      height: 32px;\n",
              "      padding: 0 0 0 0;\n",
              "      width: 32px;\n",
              "    }\n",
              "\n",
              "    .colab-df-convert:hover {\n",
              "      background-color: #E2EBFA;\n",
              "      box-shadow: 0px 1px 2px rgba(60, 64, 67, 0.3), 0px 1px 3px 1px rgba(60, 64, 67, 0.15);\n",
              "      fill: #174EA6;\n",
              "    }\n",
              "\n",
              "    [theme=dark] .colab-df-convert {\n",
              "      background-color: #3B4455;\n",
              "      fill: #D2E3FC;\n",
              "    }\n",
              "\n",
              "    [theme=dark] .colab-df-convert:hover {\n",
              "      background-color: #434B5C;\n",
              "      box-shadow: 0px 1px 3px 1px rgba(0, 0, 0, 0.15);\n",
              "      filter: drop-shadow(0px 1px 2px rgba(0, 0, 0, 0.3));\n",
              "      fill: #FFFFFF;\n",
              "    }\n",
              "  </style>\n",
              "\n",
              "      <script>\n",
              "        const buttonEl =\n",
              "          document.querySelector('#df-cb8ff4ba-211f-459c-9114-7a8372c1c2f8 button.colab-df-convert');\n",
              "        buttonEl.style.display =\n",
              "          google.colab.kernel.accessAllowed ? 'block' : 'none';\n",
              "\n",
              "        async function convertToInteractive(key) {\n",
              "          const element = document.querySelector('#df-cb8ff4ba-211f-459c-9114-7a8372c1c2f8');\n",
              "          const dataTable =\n",
              "            await google.colab.kernel.invokeFunction('convertToInteractive',\n",
              "                                                     [key], {});\n",
              "          if (!dataTable) return;\n",
              "\n",
              "          const docLinkHtml = 'Like what you see? Visit the ' +\n",
              "            '<a target=\"_blank\" href=https://colab.research.google.com/notebooks/data_table.ipynb>data table notebook</a>'\n",
              "            + ' to learn more about interactive tables.';\n",
              "          element.innerHTML = '';\n",
              "          dataTable['output_type'] = 'display_data';\n",
              "          await google.colab.output.renderOutput(dataTable, element);\n",
              "          const docLink = document.createElement('div');\n",
              "          docLink.innerHTML = docLinkHtml;\n",
              "          element.appendChild(docLink);\n",
              "        }\n",
              "      </script>\n",
              "    </div>\n",
              "  </div>\n",
              "  "
            ]
          },
          "metadata": {},
          "execution_count": 111
        }
      ]
    },
    {
      "cell_type": "markdown",
      "source": [
        "### Table of Sanity checks results "
      ],
      "metadata": {
        "id": "mswUpixaQNVa"
      }
    },
    {
      "cell_type": "code",
      "source": [
        "San_table = [['Outcome','Model','Mediators','Q model MSE','Q model baseline','g model CE','g model baseline'], \n",
        "         ['Fall_grade','RandomForest','none', test_mse_RF0,baseline_mse_RF0,test_ce_RF0,baseline_ce_RF0], \n",
        "         ['Fall_grade','RandomForest','both', test_mse_RF2,baseline_mse_RF2,test_ce_RF2,baseline_ce_RF2],\n",
        "         ['Fall_grade','RandomForest','Study Hours', test_mse_RFSH,baseline_mse_RFSH,test_ce_RFSH,baseline_ce_RFSH],\n",
        "         ['Fall_grade','RandomForest','Study Habits', test_mse_RFSB,baseline_mse_RFSB,test_ce_RFSB,baseline_ce_RFSB],\n",
        "         ['Fall_grade','Logistic Regression','none', test_mse_LR0,baseline_mse_LR0,test_ce_LR0,baseline_ce_LR0], \n",
        "         ['Fall_grade','Logistic Regression','both', test_mse_LR2,baseline_mse_LR2,test_ce_LR2,baseline_ce_LR2],\n",
        "         ['Fall_grade','Logistic Regression','Study Hours', test_mse_LRSH,baseline_mse_LRSH,test_ce_LRSH,baseline_ce_LRSH],\n",
        "         ['Fall_grade','Logistic Regression','Study Habits', test_mse_LRSB,baseline_mse_LRSB,test_ce_LRSB,baseline_ce_LRSB],\n",
        "         ['Fall_grade','XGBoost','none', test_mse_XG0,baseline_mse_XG0,test_ce_XG0,baseline_ce_XG0], \n",
        "         ['Fall_grade','XGBoost','both', test_mse_XG2,baseline_mse_LR2,test_ce_XG2,baseline_ce_XG2],\n",
        "         ['Fall_grade','XGBoost','Study Hours', test_mse_XGSH,baseline_mse_XGSH,test_ce_XGSH,baseline_ce_XGSH],\n",
        "         ['Fall_grade','XGBoost','Study Habits', test_mse_XGSB,baseline_mse_LRSB,test_ce_XGSB,baseline_ce_XGSB]]"
      ],
      "metadata": {
        "id": "sF9sbIxFQRcD"
      },
      "execution_count": null,
      "outputs": []
    },
    {
      "cell_type": "code",
      "source": [
        "df_san = pd.DataFrame(San_table)\n",
        "df_san.columns = df_san.iloc[0]\n",
        "df_san = df_san[1:]\n",
        "df_san"
      ],
      "metadata": {
        "id": "XbtJoPgSQRu8",
        "colab": {
          "base_uri": "https://localhost:8080/",
          "height": 626
        },
        "outputId": "11357000-0afd-4363-b146-5737a66446f6"
      },
      "execution_count": null,
      "outputs": [
        {
          "output_type": "execute_result",
          "data": {
            "text/plain": [
              "0      Outcome                Model     Mediators Q model MSE  \\\n",
              "1   Fall_grade         RandomForest          none  131.082885   \n",
              "2   Fall_grade         RandomForest          both  151.807809   \n",
              "3   Fall_grade         RandomForest   Study Hours  144.160442   \n",
              "4   Fall_grade         RandomForest  Study Habits  144.449378   \n",
              "5   Fall_grade  Logistic Regression          none  143.565403   \n",
              "6   Fall_grade  Logistic Regression          both  121.684861   \n",
              "7   Fall_grade  Logistic Regression   Study Hours  161.642428   \n",
              "8   Fall_grade  Logistic Regression  Study Habits  114.229231   \n",
              "9   Fall_grade              XGBoost          none  148.033632   \n",
              "10  Fall_grade              XGBoost          both   144.36917   \n",
              "11  Fall_grade              XGBoost   Study Hours  166.874897   \n",
              "12  Fall_grade              XGBoost  Study Habits  128.808279   \n",
              "\n",
              "0  Q model baseline g model CE g model baseline  \n",
              "1        129.303117   0.775051         0.693771  \n",
              "2        158.282511   0.732813         0.694627  \n",
              "3        149.319232   0.721566         0.692373  \n",
              "4        148.984011   0.714492         0.696949  \n",
              "5        142.851953   0.693626         0.692419  \n",
              "6        127.673336   0.700251         0.692517  \n",
              "7        178.136617   0.706751         0.700084  \n",
              "8         120.11982   0.697069         0.692371  \n",
              "9        140.806409   0.688016         0.692686  \n",
              "10       127.673336   0.695467         0.699224  \n",
              "11       170.018477   0.678321         0.693771  \n",
              "12        120.11982   0.715273         0.692517  "
            ],
            "text/html": [
              "\n",
              "  <div id=\"df-0c080ebc-5147-479d-8dd7-3d8e432c095c\">\n",
              "    <div class=\"colab-df-container\">\n",
              "      <div>\n",
              "<style scoped>\n",
              "    .dataframe tbody tr th:only-of-type {\n",
              "        vertical-align: middle;\n",
              "    }\n",
              "\n",
              "    .dataframe tbody tr th {\n",
              "        vertical-align: top;\n",
              "    }\n",
              "\n",
              "    .dataframe thead th {\n",
              "        text-align: right;\n",
              "    }\n",
              "</style>\n",
              "<table border=\"1\" class=\"dataframe\">\n",
              "  <thead>\n",
              "    <tr style=\"text-align: right;\">\n",
              "      <th></th>\n",
              "      <th>Outcome</th>\n",
              "      <th>Model</th>\n",
              "      <th>Mediators</th>\n",
              "      <th>Q model MSE</th>\n",
              "      <th>Q model baseline</th>\n",
              "      <th>g model CE</th>\n",
              "      <th>g model baseline</th>\n",
              "    </tr>\n",
              "  </thead>\n",
              "  <tbody>\n",
              "    <tr>\n",
              "      <th>1</th>\n",
              "      <td>Fall_grade</td>\n",
              "      <td>RandomForest</td>\n",
              "      <td>none</td>\n",
              "      <td>131.082885</td>\n",
              "      <td>129.303117</td>\n",
              "      <td>0.775051</td>\n",
              "      <td>0.693771</td>\n",
              "    </tr>\n",
              "    <tr>\n",
              "      <th>2</th>\n",
              "      <td>Fall_grade</td>\n",
              "      <td>RandomForest</td>\n",
              "      <td>both</td>\n",
              "      <td>151.807809</td>\n",
              "      <td>158.282511</td>\n",
              "      <td>0.732813</td>\n",
              "      <td>0.694627</td>\n",
              "    </tr>\n",
              "    <tr>\n",
              "      <th>3</th>\n",
              "      <td>Fall_grade</td>\n",
              "      <td>RandomForest</td>\n",
              "      <td>Study Hours</td>\n",
              "      <td>144.160442</td>\n",
              "      <td>149.319232</td>\n",
              "      <td>0.721566</td>\n",
              "      <td>0.692373</td>\n",
              "    </tr>\n",
              "    <tr>\n",
              "      <th>4</th>\n",
              "      <td>Fall_grade</td>\n",
              "      <td>RandomForest</td>\n",
              "      <td>Study Habits</td>\n",
              "      <td>144.449378</td>\n",
              "      <td>148.984011</td>\n",
              "      <td>0.714492</td>\n",
              "      <td>0.696949</td>\n",
              "    </tr>\n",
              "    <tr>\n",
              "      <th>5</th>\n",
              "      <td>Fall_grade</td>\n",
              "      <td>Logistic Regression</td>\n",
              "      <td>none</td>\n",
              "      <td>143.565403</td>\n",
              "      <td>142.851953</td>\n",
              "      <td>0.693626</td>\n",
              "      <td>0.692419</td>\n",
              "    </tr>\n",
              "    <tr>\n",
              "      <th>6</th>\n",
              "      <td>Fall_grade</td>\n",
              "      <td>Logistic Regression</td>\n",
              "      <td>both</td>\n",
              "      <td>121.684861</td>\n",
              "      <td>127.673336</td>\n",
              "      <td>0.700251</td>\n",
              "      <td>0.692517</td>\n",
              "    </tr>\n",
              "    <tr>\n",
              "      <th>7</th>\n",
              "      <td>Fall_grade</td>\n",
              "      <td>Logistic Regression</td>\n",
              "      <td>Study Hours</td>\n",
              "      <td>161.642428</td>\n",
              "      <td>178.136617</td>\n",
              "      <td>0.706751</td>\n",
              "      <td>0.700084</td>\n",
              "    </tr>\n",
              "    <tr>\n",
              "      <th>8</th>\n",
              "      <td>Fall_grade</td>\n",
              "      <td>Logistic Regression</td>\n",
              "      <td>Study Habits</td>\n",
              "      <td>114.229231</td>\n",
              "      <td>120.11982</td>\n",
              "      <td>0.697069</td>\n",
              "      <td>0.692371</td>\n",
              "    </tr>\n",
              "    <tr>\n",
              "      <th>9</th>\n",
              "      <td>Fall_grade</td>\n",
              "      <td>XGBoost</td>\n",
              "      <td>none</td>\n",
              "      <td>148.033632</td>\n",
              "      <td>140.806409</td>\n",
              "      <td>0.688016</td>\n",
              "      <td>0.692686</td>\n",
              "    </tr>\n",
              "    <tr>\n",
              "      <th>10</th>\n",
              "      <td>Fall_grade</td>\n",
              "      <td>XGBoost</td>\n",
              "      <td>both</td>\n",
              "      <td>144.36917</td>\n",
              "      <td>127.673336</td>\n",
              "      <td>0.695467</td>\n",
              "      <td>0.699224</td>\n",
              "    </tr>\n",
              "    <tr>\n",
              "      <th>11</th>\n",
              "      <td>Fall_grade</td>\n",
              "      <td>XGBoost</td>\n",
              "      <td>Study Hours</td>\n",
              "      <td>166.874897</td>\n",
              "      <td>170.018477</td>\n",
              "      <td>0.678321</td>\n",
              "      <td>0.693771</td>\n",
              "    </tr>\n",
              "    <tr>\n",
              "      <th>12</th>\n",
              "      <td>Fall_grade</td>\n",
              "      <td>XGBoost</td>\n",
              "      <td>Study Habits</td>\n",
              "      <td>128.808279</td>\n",
              "      <td>120.11982</td>\n",
              "      <td>0.715273</td>\n",
              "      <td>0.692517</td>\n",
              "    </tr>\n",
              "  </tbody>\n",
              "</table>\n",
              "</div>\n",
              "      <button class=\"colab-df-convert\" onclick=\"convertToInteractive('df-0c080ebc-5147-479d-8dd7-3d8e432c095c')\"\n",
              "              title=\"Convert this dataframe to an interactive table.\"\n",
              "              style=\"display:none;\">\n",
              "        \n",
              "  <svg xmlns=\"http://www.w3.org/2000/svg\" height=\"24px\"viewBox=\"0 0 24 24\"\n",
              "       width=\"24px\">\n",
              "    <path d=\"M0 0h24v24H0V0z\" fill=\"none\"/>\n",
              "    <path d=\"M18.56 5.44l.94 2.06.94-2.06 2.06-.94-2.06-.94-.94-2.06-.94 2.06-2.06.94zm-11 1L8.5 8.5l.94-2.06 2.06-.94-2.06-.94L8.5 2.5l-.94 2.06-2.06.94zm10 10l.94 2.06.94-2.06 2.06-.94-2.06-.94-.94-2.06-.94 2.06-2.06.94z\"/><path d=\"M17.41 7.96l-1.37-1.37c-.4-.4-.92-.59-1.43-.59-.52 0-1.04.2-1.43.59L10.3 9.45l-7.72 7.72c-.78.78-.78 2.05 0 2.83L4 21.41c.39.39.9.59 1.41.59.51 0 1.02-.2 1.41-.59l7.78-7.78 2.81-2.81c.8-.78.8-2.07 0-2.86zM5.41 20L4 18.59l7.72-7.72 1.47 1.35L5.41 20z\"/>\n",
              "  </svg>\n",
              "      </button>\n",
              "      \n",
              "  <style>\n",
              "    .colab-df-container {\n",
              "      display:flex;\n",
              "      flex-wrap:wrap;\n",
              "      gap: 12px;\n",
              "    }\n",
              "\n",
              "    .colab-df-convert {\n",
              "      background-color: #E8F0FE;\n",
              "      border: none;\n",
              "      border-radius: 50%;\n",
              "      cursor: pointer;\n",
              "      display: none;\n",
              "      fill: #1967D2;\n",
              "      height: 32px;\n",
              "      padding: 0 0 0 0;\n",
              "      width: 32px;\n",
              "    }\n",
              "\n",
              "    .colab-df-convert:hover {\n",
              "      background-color: #E2EBFA;\n",
              "      box-shadow: 0px 1px 2px rgba(60, 64, 67, 0.3), 0px 1px 3px 1px rgba(60, 64, 67, 0.15);\n",
              "      fill: #174EA6;\n",
              "    }\n",
              "\n",
              "    [theme=dark] .colab-df-convert {\n",
              "      background-color: #3B4455;\n",
              "      fill: #D2E3FC;\n",
              "    }\n",
              "\n",
              "    [theme=dark] .colab-df-convert:hover {\n",
              "      background-color: #434B5C;\n",
              "      box-shadow: 0px 1px 3px 1px rgba(0, 0, 0, 0.15);\n",
              "      filter: drop-shadow(0px 1px 2px rgba(0, 0, 0, 0.3));\n",
              "      fill: #FFFFFF;\n",
              "    }\n",
              "  </style>\n",
              "\n",
              "      <script>\n",
              "        const buttonEl =\n",
              "          document.querySelector('#df-0c080ebc-5147-479d-8dd7-3d8e432c095c button.colab-df-convert');\n",
              "        buttonEl.style.display =\n",
              "          google.colab.kernel.accessAllowed ? 'block' : 'none';\n",
              "\n",
              "        async function convertToInteractive(key) {\n",
              "          const element = document.querySelector('#df-0c080ebc-5147-479d-8dd7-3d8e432c095c');\n",
              "          const dataTable =\n",
              "            await google.colab.kernel.invokeFunction('convertToInteractive',\n",
              "                                                     [key], {});\n",
              "          if (!dataTable) return;\n",
              "\n",
              "          const docLinkHtml = 'Like what you see? Visit the ' +\n",
              "            '<a target=\"_blank\" href=https://colab.research.google.com/notebooks/data_table.ipynb>data table notebook</a>'\n",
              "            + ' to learn more about interactive tables.';\n",
              "          element.innerHTML = '';\n",
              "          dataTable['output_type'] = 'display_data';\n",
              "          await google.colab.output.renderOutput(dataTable, element);\n",
              "          const docLink = document.createElement('div');\n",
              "          docLink.innerHTML = docLinkHtml;\n",
              "          element.appendChild(docLink);\n",
              "        }\n",
              "      </script>\n",
              "    </div>\n",
              "  </div>\n",
              "  "
            ]
          },
          "metadata": {},
          "execution_count": 113
        }
      ]
    },
    {
      "cell_type": "markdown",
      "source": [
        "## Table of Natural Indirect Effect"
      ],
      "metadata": {
        "id": "UfOktM7Dp_gV"
      }
    },
    {
      "cell_type": "code",
      "source": [
        "NIE_table = [['Outcome','Type of causal effect','Through which Mediator', 'Model', 'Estimate'], \n",
        "         ['Fall_grade','Natural Indirect Direct Effect', 'Study Hours', 'RandomForest',tau_hat_RFTE - tau_hat_RFSH], \n",
        "         ['Fall_grade','Natural Indirect Direct Effect', 'Study Hours', 'Logistic Regression',tau_hat_LRTE - tau_hat_LRSH],\n",
        "         ['Fall_grade','Natural Indirect Direct Effect', 'Study Hours', 'XGBoost',tau_hat_XGTE - tau_hat_XGSH],\n",
        "         ['Fall_grade','Natural Indirect Direct Effect', 'Study Habits', 'RandomForest',tau_hat_RFTE - tau_hat_RFSB], \n",
        "         ['Fall_grade','Natural Indirect Direct Effect', 'Study Habits', 'Logistic Regression',tau_hat_LRTE - tau_hat_LRSB],\n",
        "         ['Fall_grade','Natural Indirect Direct Effect', 'Study Habits', 'XGBoost',tau_hat_XGTE - tau_hat_XGSB]]"
      ],
      "metadata": {
        "id": "-rc9niODqHkM"
      },
      "execution_count": null,
      "outputs": []
    },
    {
      "cell_type": "code",
      "source": [
        "df_NIE = pd.DataFrame(NIE_table)\n",
        "df_NIE.columns = df_NIE.iloc[0]\n",
        "df_NIE = df_NIE[1:]\n",
        "df_NIE"
      ],
      "metadata": {
        "colab": {
          "base_uri": "https://localhost:8080/",
          "height": 282
        },
        "id": "mYAqYQOFrLwU",
        "outputId": "a1f37a0c-5f20-4960-9e48-c5b9ad54dfe9"
      },
      "execution_count": null,
      "outputs": [
        {
          "output_type": "execute_result",
          "data": {
            "text/plain": [
              "0     Outcome           Type of causal effect Through which Mediator  \\\n",
              "1  Fall_grade  Natural Indirect Direct Effect            Study Hours   \n",
              "2  Fall_grade  Natural Indirect Direct Effect            Study Hours   \n",
              "3  Fall_grade  Natural Indirect Direct Effect            Study Hours   \n",
              "4  Fall_grade  Natural Indirect Direct Effect           Study Habits   \n",
              "5  Fall_grade  Natural Indirect Direct Effect           Study Habits   \n",
              "6  Fall_grade  Natural Indirect Direct Effect           Study Habits   \n",
              "\n",
              "0                Model  Estimate  \n",
              "1         RandomForest  1.102842  \n",
              "2  Logistic Regression -0.287979  \n",
              "3              XGBoost  1.105138  \n",
              "4         RandomForest  1.397868  \n",
              "5  Logistic Regression -0.103129  \n",
              "6              XGBoost  1.532629  "
            ],
            "text/html": [
              "\n",
              "  <div id=\"df-cdd52826-e0f2-4fb9-afaf-e16edbe9ec68\">\n",
              "    <div class=\"colab-df-container\">\n",
              "      <div>\n",
              "<style scoped>\n",
              "    .dataframe tbody tr th:only-of-type {\n",
              "        vertical-align: middle;\n",
              "    }\n",
              "\n",
              "    .dataframe tbody tr th {\n",
              "        vertical-align: top;\n",
              "    }\n",
              "\n",
              "    .dataframe thead th {\n",
              "        text-align: right;\n",
              "    }\n",
              "</style>\n",
              "<table border=\"1\" class=\"dataframe\">\n",
              "  <thead>\n",
              "    <tr style=\"text-align: right;\">\n",
              "      <th></th>\n",
              "      <th>Outcome</th>\n",
              "      <th>Type of causal effect</th>\n",
              "      <th>Through which Mediator</th>\n",
              "      <th>Model</th>\n",
              "      <th>Estimate</th>\n",
              "    </tr>\n",
              "  </thead>\n",
              "  <tbody>\n",
              "    <tr>\n",
              "      <th>1</th>\n",
              "      <td>Fall_grade</td>\n",
              "      <td>Natural Indirect Direct Effect</td>\n",
              "      <td>Study Hours</td>\n",
              "      <td>RandomForest</td>\n",
              "      <td>1.102842</td>\n",
              "    </tr>\n",
              "    <tr>\n",
              "      <th>2</th>\n",
              "      <td>Fall_grade</td>\n",
              "      <td>Natural Indirect Direct Effect</td>\n",
              "      <td>Study Hours</td>\n",
              "      <td>Logistic Regression</td>\n",
              "      <td>-0.287979</td>\n",
              "    </tr>\n",
              "    <tr>\n",
              "      <th>3</th>\n",
              "      <td>Fall_grade</td>\n",
              "      <td>Natural Indirect Direct Effect</td>\n",
              "      <td>Study Hours</td>\n",
              "      <td>XGBoost</td>\n",
              "      <td>1.105138</td>\n",
              "    </tr>\n",
              "    <tr>\n",
              "      <th>4</th>\n",
              "      <td>Fall_grade</td>\n",
              "      <td>Natural Indirect Direct Effect</td>\n",
              "      <td>Study Habits</td>\n",
              "      <td>RandomForest</td>\n",
              "      <td>1.397868</td>\n",
              "    </tr>\n",
              "    <tr>\n",
              "      <th>5</th>\n",
              "      <td>Fall_grade</td>\n",
              "      <td>Natural Indirect Direct Effect</td>\n",
              "      <td>Study Habits</td>\n",
              "      <td>Logistic Regression</td>\n",
              "      <td>-0.103129</td>\n",
              "    </tr>\n",
              "    <tr>\n",
              "      <th>6</th>\n",
              "      <td>Fall_grade</td>\n",
              "      <td>Natural Indirect Direct Effect</td>\n",
              "      <td>Study Habits</td>\n",
              "      <td>XGBoost</td>\n",
              "      <td>1.532629</td>\n",
              "    </tr>\n",
              "  </tbody>\n",
              "</table>\n",
              "</div>\n",
              "      <button class=\"colab-df-convert\" onclick=\"convertToInteractive('df-cdd52826-e0f2-4fb9-afaf-e16edbe9ec68')\"\n",
              "              title=\"Convert this dataframe to an interactive table.\"\n",
              "              style=\"display:none;\">\n",
              "        \n",
              "  <svg xmlns=\"http://www.w3.org/2000/svg\" height=\"24px\"viewBox=\"0 0 24 24\"\n",
              "       width=\"24px\">\n",
              "    <path d=\"M0 0h24v24H0V0z\" fill=\"none\"/>\n",
              "    <path d=\"M18.56 5.44l.94 2.06.94-2.06 2.06-.94-2.06-.94-.94-2.06-.94 2.06-2.06.94zm-11 1L8.5 8.5l.94-2.06 2.06-.94-2.06-.94L8.5 2.5l-.94 2.06-2.06.94zm10 10l.94 2.06.94-2.06 2.06-.94-2.06-.94-.94-2.06-.94 2.06-2.06.94z\"/><path d=\"M17.41 7.96l-1.37-1.37c-.4-.4-.92-.59-1.43-.59-.52 0-1.04.2-1.43.59L10.3 9.45l-7.72 7.72c-.78.78-.78 2.05 0 2.83L4 21.41c.39.39.9.59 1.41.59.51 0 1.02-.2 1.41-.59l7.78-7.78 2.81-2.81c.8-.78.8-2.07 0-2.86zM5.41 20L4 18.59l7.72-7.72 1.47 1.35L5.41 20z\"/>\n",
              "  </svg>\n",
              "      </button>\n",
              "      \n",
              "  <style>\n",
              "    .colab-df-container {\n",
              "      display:flex;\n",
              "      flex-wrap:wrap;\n",
              "      gap: 12px;\n",
              "    }\n",
              "\n",
              "    .colab-df-convert {\n",
              "      background-color: #E8F0FE;\n",
              "      border: none;\n",
              "      border-radius: 50%;\n",
              "      cursor: pointer;\n",
              "      display: none;\n",
              "      fill: #1967D2;\n",
              "      height: 32px;\n",
              "      padding: 0 0 0 0;\n",
              "      width: 32px;\n",
              "    }\n",
              "\n",
              "    .colab-df-convert:hover {\n",
              "      background-color: #E2EBFA;\n",
              "      box-shadow: 0px 1px 2px rgba(60, 64, 67, 0.3), 0px 1px 3px 1px rgba(60, 64, 67, 0.15);\n",
              "      fill: #174EA6;\n",
              "    }\n",
              "\n",
              "    [theme=dark] .colab-df-convert {\n",
              "      background-color: #3B4455;\n",
              "      fill: #D2E3FC;\n",
              "    }\n",
              "\n",
              "    [theme=dark] .colab-df-convert:hover {\n",
              "      background-color: #434B5C;\n",
              "      box-shadow: 0px 1px 3px 1px rgba(0, 0, 0, 0.15);\n",
              "      filter: drop-shadow(0px 1px 2px rgba(0, 0, 0, 0.3));\n",
              "      fill: #FFFFFF;\n",
              "    }\n",
              "  </style>\n",
              "\n",
              "      <script>\n",
              "        const buttonEl =\n",
              "          document.querySelector('#df-cdd52826-e0f2-4fb9-afaf-e16edbe9ec68 button.colab-df-convert');\n",
              "        buttonEl.style.display =\n",
              "          google.colab.kernel.accessAllowed ? 'block' : 'none';\n",
              "\n",
              "        async function convertToInteractive(key) {\n",
              "          const element = document.querySelector('#df-cdd52826-e0f2-4fb9-afaf-e16edbe9ec68');\n",
              "          const dataTable =\n",
              "            await google.colab.kernel.invokeFunction('convertToInteractive',\n",
              "                                                     [key], {});\n",
              "          if (!dataTable) return;\n",
              "\n",
              "          const docLinkHtml = 'Like what you see? Visit the ' +\n",
              "            '<a target=\"_blank\" href=https://colab.research.google.com/notebooks/data_table.ipynb>data table notebook</a>'\n",
              "            + ' to learn more about interactive tables.';\n",
              "          element.innerHTML = '';\n",
              "          dataTable['output_type'] = 'display_data';\n",
              "          await google.colab.output.renderOutput(dataTable, element);\n",
              "          const docLink = document.createElement('div');\n",
              "          docLink.innerHTML = docLinkHtml;\n",
              "          element.appendChild(docLink);\n",
              "        }\n",
              "      </script>\n",
              "    </div>\n",
              "  </div>\n",
              "  "
            ]
          },
          "metadata": {},
          "execution_count": 115
        }
      ]
    }
  ],
  "metadata": {
    "colab": {
      "collapsed_sections": [
        "ALvKeOdnG2Cb"
      ],
      "provenance": [],
      "toc_visible": true
    },
    "kernelspec": {
      "display_name": "Python 3",
      "name": "python3"
    },
    "language_info": {
      "name": "python"
    }
  },
  "nbformat": 4,
  "nbformat_minor": 0
}