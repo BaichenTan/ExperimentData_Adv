{
  "cells": [
    {
      "cell_type": "markdown",
      "metadata": {
        "id": "view-in-github",
        "colab_type": "text"
      },
      "source": [
        "<a href=\"https://colab.research.google.com/github/BaichenTan/ExperimentData_Adv/blob/master/%E2%80%9CATE_Estimation_with_Machine_Learning_ipynb%E2%80%9D%E7%9A%84%E5%89%AF%E6%9C%AC.ipynb\" target=\"_parent\"><img src=\"https://colab.research.google.com/assets/colab-badge.svg\" alt=\"Open In Colab\"/></a>"
      ]
    },
    {
      "cell_type": "markdown",
      "metadata": {
        "id": "QfZkNLUb4B-p"
      },
      "source": [
        "# ATT Estimation Tutorial\n",
        "\n",
        "This tutorial gives a short example for how to estimate average treatment effect on the treated using machine learning methods"
      ]
    },
    {
      "cell_type": "code",
      "execution_count": null,
      "metadata": {
        "id": "dS2X3Bq1-fxE"
      },
      "outputs": [],
      "source": [
        "import numpy as np\n",
        "import pandas as pd\n",
        "import scipy as sp\n",
        "from sklearn.ensemble import RandomForestClassifier, RandomForestRegressor\n",
        "from sklearn.linear_model import LogisticRegression\n",
        "from sklearn.linear_model import LinearRegression\n",
        "from sklearn.model_selection import KFold, StratifiedKFold, train_test_split\n",
        "from sklearn.metrics import mean_squared_error, log_loss\n",
        "from xgboost import XGBClassifier, XGBRegressor\n",
        "import sklearn\n",
        "import os\n",
        "import matplotlib.pyplot as plt\n",
        "from matplotlib.pyplot import hist\n",
        "from tabulate import tabulate"
      ]
    },
    {
      "cell_type": "code",
      "execution_count": null,
      "metadata": {
        "id": "nxJ46X9cFJ9X"
      },
      "outputs": [],
      "source": [
        "RANDOM_SEED=42\n",
        "np.random.seed(RANDOM_SEED)"
      ]
    },
    {
      "cell_type": "markdown",
      "metadata": {
        "id": "CjKmYJkW2YiC"
      },
      "source": [
        "# Import dataset"
      ]
    },
    {
      "cell_type": "code",
      "execution_count": null,
      "metadata": {
        "colab": {
          "base_uri": "https://localhost:8080/",
          "height": 505
        },
        "id": "-L-Q9K1V2XWI",
        "outputId": "c84d9cc4-cae4-485b-dfa1-3dddee172d72"
      },
      "outputs": [
        {
          "output_type": "execute_result",
          "data": {
            "text/plain": [
              "      Unnamed: 0  followup_fallstudyhours  followup_getwritinghelp  \\\n",
              "0              1                        5                        5   \n",
              "1              2                        6                        4   \n",
              "2              3                        1                        1   \n",
              "3              4                       11                        4   \n",
              "4              5                        5                        2   \n",
              "...          ...                      ...                      ...   \n",
              "1048        1049                        4                        4   \n",
              "1049        1050                       14                        3   \n",
              "1050        1051                        6                        3   \n",
              "1051        1052                        4                        4   \n",
              "1052        1053                        3                        3   \n",
              "\n",
              "      followup_metwithinstructor  followup_metwithfreetutor  \\\n",
              "0                              5                          1   \n",
              "1                              2                          0   \n",
              "2                              0                          0   \n",
              "3                              5                          0   \n",
              "4                              0                          0   \n",
              "...                          ...                        ...   \n",
              "1048                           2                          2   \n",
              "1049                           0                          0   \n",
              "1050                           1                          1   \n",
              "1051                           2                          2   \n",
              "1052                           2                          2   \n",
              "\n",
              "      followup_imptodowellatuoft  followup_depressed  followup_stressed  \\\n",
              "0                              6                   1                  2   \n",
              "1                              6                   0                  0   \n",
              "2                              5                   2                  2   \n",
              "3                              6                   1                  2   \n",
              "4                              6                   2                  3   \n",
              "...                          ...                 ...                ...   \n",
              "1048                           7                   2                  2   \n",
              "1049                           7                   3                  3   \n",
              "1050                           5                   2                  2   \n",
              "1051                           6                   0                  2   \n",
              "1052                           4                   2                  2   \n",
              "\n",
              "      fathers_education  mothers_education  fall_meangrade_year1  \\\n",
              "0                     4                  5                 66.00   \n",
              "1                     2                  1                 80.50   \n",
              "2                     3                  8                 51.00   \n",
              "3                     6                  6                 86.00   \n",
              "4                     7                  7                 73.75   \n",
              "...                 ...                ...                   ...   \n",
              "1048                  6                  6                 53.25   \n",
              "1049                  6                  2                 48.50   \n",
              "1050                  0                  0                 66.00   \n",
              "1051                  6                  7                 74.00   \n",
              "1052                  7                  4                 35.00   \n",
              "\n",
              "      exp_gradschl  agreeableness2  agreeableness  extraversion2  \\\n",
              "0                1        1.794615              1       0.604456   \n",
              "1                0       -0.710559              0      -0.514052   \n",
              "2                1        1.023792              1       0.125096   \n",
              "3                1        0.060264              1      -1.952133   \n",
              "4                0        0.060264              1       0.444669   \n",
              "...            ...             ...            ...            ...   \n",
              "1048             1       -0.325148              0      -0.194478   \n",
              "1049             1        1.409204              1      -0.194478   \n",
              "1050             0        0.638381              1      -0.673839   \n",
              "1051             1       -1.674088              0       2.042537   \n",
              "1052             0       -1.288676              0       0.125096   \n",
              "\n",
              "      extraversion  study_habit  \n",
              "0                1           11  \n",
              "1                0            6  \n",
              "2                1            1  \n",
              "3                0            9  \n",
              "4                1            2  \n",
              "...            ...          ...  \n",
              "1048             0            8  \n",
              "1049             0            3  \n",
              "1050             0            5  \n",
              "1051             1            8  \n",
              "1052             1            7  \n",
              "\n",
              "[1053 rows x 17 columns]"
            ],
            "text/html": [
              "\n",
              "  <div id=\"df-386dbd32-c720-492d-8a34-d749be1d88b3\">\n",
              "    <div class=\"colab-df-container\">\n",
              "      <div>\n",
              "<style scoped>\n",
              "    .dataframe tbody tr th:only-of-type {\n",
              "        vertical-align: middle;\n",
              "    }\n",
              "\n",
              "    .dataframe tbody tr th {\n",
              "        vertical-align: top;\n",
              "    }\n",
              "\n",
              "    .dataframe thead th {\n",
              "        text-align: right;\n",
              "    }\n",
              "</style>\n",
              "<table border=\"1\" class=\"dataframe\">\n",
              "  <thead>\n",
              "    <tr style=\"text-align: right;\">\n",
              "      <th></th>\n",
              "      <th>Unnamed: 0</th>\n",
              "      <th>followup_fallstudyhours</th>\n",
              "      <th>followup_getwritinghelp</th>\n",
              "      <th>followup_metwithinstructor</th>\n",
              "      <th>followup_metwithfreetutor</th>\n",
              "      <th>followup_imptodowellatuoft</th>\n",
              "      <th>followup_depressed</th>\n",
              "      <th>followup_stressed</th>\n",
              "      <th>fathers_education</th>\n",
              "      <th>mothers_education</th>\n",
              "      <th>fall_meangrade_year1</th>\n",
              "      <th>exp_gradschl</th>\n",
              "      <th>agreeableness2</th>\n",
              "      <th>agreeableness</th>\n",
              "      <th>extraversion2</th>\n",
              "      <th>extraversion</th>\n",
              "      <th>study_habit</th>\n",
              "    </tr>\n",
              "  </thead>\n",
              "  <tbody>\n",
              "    <tr>\n",
              "      <th>0</th>\n",
              "      <td>1</td>\n",
              "      <td>5</td>\n",
              "      <td>5</td>\n",
              "      <td>5</td>\n",
              "      <td>1</td>\n",
              "      <td>6</td>\n",
              "      <td>1</td>\n",
              "      <td>2</td>\n",
              "      <td>4</td>\n",
              "      <td>5</td>\n",
              "      <td>66.00</td>\n",
              "      <td>1</td>\n",
              "      <td>1.794615</td>\n",
              "      <td>1</td>\n",
              "      <td>0.604456</td>\n",
              "      <td>1</td>\n",
              "      <td>11</td>\n",
              "    </tr>\n",
              "    <tr>\n",
              "      <th>1</th>\n",
              "      <td>2</td>\n",
              "      <td>6</td>\n",
              "      <td>4</td>\n",
              "      <td>2</td>\n",
              "      <td>0</td>\n",
              "      <td>6</td>\n",
              "      <td>0</td>\n",
              "      <td>0</td>\n",
              "      <td>2</td>\n",
              "      <td>1</td>\n",
              "      <td>80.50</td>\n",
              "      <td>0</td>\n",
              "      <td>-0.710559</td>\n",
              "      <td>0</td>\n",
              "      <td>-0.514052</td>\n",
              "      <td>0</td>\n",
              "      <td>6</td>\n",
              "    </tr>\n",
              "    <tr>\n",
              "      <th>2</th>\n",
              "      <td>3</td>\n",
              "      <td>1</td>\n",
              "      <td>1</td>\n",
              "      <td>0</td>\n",
              "      <td>0</td>\n",
              "      <td>5</td>\n",
              "      <td>2</td>\n",
              "      <td>2</td>\n",
              "      <td>3</td>\n",
              "      <td>8</td>\n",
              "      <td>51.00</td>\n",
              "      <td>1</td>\n",
              "      <td>1.023792</td>\n",
              "      <td>1</td>\n",
              "      <td>0.125096</td>\n",
              "      <td>1</td>\n",
              "      <td>1</td>\n",
              "    </tr>\n",
              "    <tr>\n",
              "      <th>3</th>\n",
              "      <td>4</td>\n",
              "      <td>11</td>\n",
              "      <td>4</td>\n",
              "      <td>5</td>\n",
              "      <td>0</td>\n",
              "      <td>6</td>\n",
              "      <td>1</td>\n",
              "      <td>2</td>\n",
              "      <td>6</td>\n",
              "      <td>6</td>\n",
              "      <td>86.00</td>\n",
              "      <td>1</td>\n",
              "      <td>0.060264</td>\n",
              "      <td>1</td>\n",
              "      <td>-1.952133</td>\n",
              "      <td>0</td>\n",
              "      <td>9</td>\n",
              "    </tr>\n",
              "    <tr>\n",
              "      <th>4</th>\n",
              "      <td>5</td>\n",
              "      <td>5</td>\n",
              "      <td>2</td>\n",
              "      <td>0</td>\n",
              "      <td>0</td>\n",
              "      <td>6</td>\n",
              "      <td>2</td>\n",
              "      <td>3</td>\n",
              "      <td>7</td>\n",
              "      <td>7</td>\n",
              "      <td>73.75</td>\n",
              "      <td>0</td>\n",
              "      <td>0.060264</td>\n",
              "      <td>1</td>\n",
              "      <td>0.444669</td>\n",
              "      <td>1</td>\n",
              "      <td>2</td>\n",
              "    </tr>\n",
              "    <tr>\n",
              "      <th>...</th>\n",
              "      <td>...</td>\n",
              "      <td>...</td>\n",
              "      <td>...</td>\n",
              "      <td>...</td>\n",
              "      <td>...</td>\n",
              "      <td>...</td>\n",
              "      <td>...</td>\n",
              "      <td>...</td>\n",
              "      <td>...</td>\n",
              "      <td>...</td>\n",
              "      <td>...</td>\n",
              "      <td>...</td>\n",
              "      <td>...</td>\n",
              "      <td>...</td>\n",
              "      <td>...</td>\n",
              "      <td>...</td>\n",
              "      <td>...</td>\n",
              "    </tr>\n",
              "    <tr>\n",
              "      <th>1048</th>\n",
              "      <td>1049</td>\n",
              "      <td>4</td>\n",
              "      <td>4</td>\n",
              "      <td>2</td>\n",
              "      <td>2</td>\n",
              "      <td>7</td>\n",
              "      <td>2</td>\n",
              "      <td>2</td>\n",
              "      <td>6</td>\n",
              "      <td>6</td>\n",
              "      <td>53.25</td>\n",
              "      <td>1</td>\n",
              "      <td>-0.325148</td>\n",
              "      <td>0</td>\n",
              "      <td>-0.194478</td>\n",
              "      <td>0</td>\n",
              "      <td>8</td>\n",
              "    </tr>\n",
              "    <tr>\n",
              "      <th>1049</th>\n",
              "      <td>1050</td>\n",
              "      <td>14</td>\n",
              "      <td>3</td>\n",
              "      <td>0</td>\n",
              "      <td>0</td>\n",
              "      <td>7</td>\n",
              "      <td>3</td>\n",
              "      <td>3</td>\n",
              "      <td>6</td>\n",
              "      <td>2</td>\n",
              "      <td>48.50</td>\n",
              "      <td>1</td>\n",
              "      <td>1.409204</td>\n",
              "      <td>1</td>\n",
              "      <td>-0.194478</td>\n",
              "      <td>0</td>\n",
              "      <td>3</td>\n",
              "    </tr>\n",
              "    <tr>\n",
              "      <th>1050</th>\n",
              "      <td>1051</td>\n",
              "      <td>6</td>\n",
              "      <td>3</td>\n",
              "      <td>1</td>\n",
              "      <td>1</td>\n",
              "      <td>5</td>\n",
              "      <td>2</td>\n",
              "      <td>2</td>\n",
              "      <td>0</td>\n",
              "      <td>0</td>\n",
              "      <td>66.00</td>\n",
              "      <td>0</td>\n",
              "      <td>0.638381</td>\n",
              "      <td>1</td>\n",
              "      <td>-0.673839</td>\n",
              "      <td>0</td>\n",
              "      <td>5</td>\n",
              "    </tr>\n",
              "    <tr>\n",
              "      <th>1051</th>\n",
              "      <td>1052</td>\n",
              "      <td>4</td>\n",
              "      <td>4</td>\n",
              "      <td>2</td>\n",
              "      <td>2</td>\n",
              "      <td>6</td>\n",
              "      <td>0</td>\n",
              "      <td>2</td>\n",
              "      <td>6</td>\n",
              "      <td>7</td>\n",
              "      <td>74.00</td>\n",
              "      <td>1</td>\n",
              "      <td>-1.674088</td>\n",
              "      <td>0</td>\n",
              "      <td>2.042537</td>\n",
              "      <td>1</td>\n",
              "      <td>8</td>\n",
              "    </tr>\n",
              "    <tr>\n",
              "      <th>1052</th>\n",
              "      <td>1053</td>\n",
              "      <td>3</td>\n",
              "      <td>3</td>\n",
              "      <td>2</td>\n",
              "      <td>2</td>\n",
              "      <td>4</td>\n",
              "      <td>2</td>\n",
              "      <td>2</td>\n",
              "      <td>7</td>\n",
              "      <td>4</td>\n",
              "      <td>35.00</td>\n",
              "      <td>0</td>\n",
              "      <td>-1.288676</td>\n",
              "      <td>0</td>\n",
              "      <td>0.125096</td>\n",
              "      <td>1</td>\n",
              "      <td>7</td>\n",
              "    </tr>\n",
              "  </tbody>\n",
              "</table>\n",
              "<p>1053 rows × 17 columns</p>\n",
              "</div>\n",
              "      <button class=\"colab-df-convert\" onclick=\"convertToInteractive('df-386dbd32-c720-492d-8a34-d749be1d88b3')\"\n",
              "              title=\"Convert this dataframe to an interactive table.\"\n",
              "              style=\"display:none;\">\n",
              "        \n",
              "  <svg xmlns=\"http://www.w3.org/2000/svg\" height=\"24px\"viewBox=\"0 0 24 24\"\n",
              "       width=\"24px\">\n",
              "    <path d=\"M0 0h24v24H0V0z\" fill=\"none\"/>\n",
              "    <path d=\"M18.56 5.44l.94 2.06.94-2.06 2.06-.94-2.06-.94-.94-2.06-.94 2.06-2.06.94zm-11 1L8.5 8.5l.94-2.06 2.06-.94-2.06-.94L8.5 2.5l-.94 2.06-2.06.94zm10 10l.94 2.06.94-2.06 2.06-.94-2.06-.94-.94-2.06-.94 2.06-2.06.94z\"/><path d=\"M17.41 7.96l-1.37-1.37c-.4-.4-.92-.59-1.43-.59-.52 0-1.04.2-1.43.59L10.3 9.45l-7.72 7.72c-.78.78-.78 2.05 0 2.83L4 21.41c.39.39.9.59 1.41.59.51 0 1.02-.2 1.41-.59l7.78-7.78 2.81-2.81c.8-.78.8-2.07 0-2.86zM5.41 20L4 18.59l7.72-7.72 1.47 1.35L5.41 20z\"/>\n",
              "  </svg>\n",
              "      </button>\n",
              "      \n",
              "  <style>\n",
              "    .colab-df-container {\n",
              "      display:flex;\n",
              "      flex-wrap:wrap;\n",
              "      gap: 12px;\n",
              "    }\n",
              "\n",
              "    .colab-df-convert {\n",
              "      background-color: #E8F0FE;\n",
              "      border: none;\n",
              "      border-radius: 50%;\n",
              "      cursor: pointer;\n",
              "      display: none;\n",
              "      fill: #1967D2;\n",
              "      height: 32px;\n",
              "      padding: 0 0 0 0;\n",
              "      width: 32px;\n",
              "    }\n",
              "\n",
              "    .colab-df-convert:hover {\n",
              "      background-color: #E2EBFA;\n",
              "      box-shadow: 0px 1px 2px rgba(60, 64, 67, 0.3), 0px 1px 3px 1px rgba(60, 64, 67, 0.15);\n",
              "      fill: #174EA6;\n",
              "    }\n",
              "\n",
              "    [theme=dark] .colab-df-convert {\n",
              "      background-color: #3B4455;\n",
              "      fill: #D2E3FC;\n",
              "    }\n",
              "\n",
              "    [theme=dark] .colab-df-convert:hover {\n",
              "      background-color: #434B5C;\n",
              "      box-shadow: 0px 1px 3px 1px rgba(0, 0, 0, 0.15);\n",
              "      filter: drop-shadow(0px 1px 2px rgba(0, 0, 0, 0.3));\n",
              "      fill: #FFFFFF;\n",
              "    }\n",
              "  </style>\n",
              "\n",
              "      <script>\n",
              "        const buttonEl =\n",
              "          document.querySelector('#df-386dbd32-c720-492d-8a34-d749be1d88b3 button.colab-df-convert');\n",
              "        buttonEl.style.display =\n",
              "          google.colab.kernel.accessAllowed ? 'block' : 'none';\n",
              "\n",
              "        async function convertToInteractive(key) {\n",
              "          const element = document.querySelector('#df-386dbd32-c720-492d-8a34-d749be1d88b3');\n",
              "          const dataTable =\n",
              "            await google.colab.kernel.invokeFunction('convertToInteractive',\n",
              "                                                     [key], {});\n",
              "          if (!dataTable) return;\n",
              "\n",
              "          const docLinkHtml = 'Like what you see? Visit the ' +\n",
              "            '<a target=\"_blank\" href=https://colab.research.google.com/notebooks/data_table.ipynb>data table notebook</a>'\n",
              "            + ' to learn more about interactive tables.';\n",
              "          element.innerHTML = '';\n",
              "          dataTable['output_type'] = 'display_data';\n",
              "          await google.colab.output.renderOutput(dataTable, element);\n",
              "          const docLink = document.createElement('div');\n",
              "          docLink.innerHTML = docLinkHtml;\n",
              "          element.appendChild(docLink);\n",
              "        }\n",
              "      </script>\n",
              "    </div>\n",
              "  </div>\n",
              "  "
            ]
          },
          "metadata": {},
          "execution_count": 5
        }
      ],
      "source": [
        "data = pd.read_csv(\"https://raw.githubusercontent.com/BaichenTan/ExperimentData_Adv/master/dataset_TRIMMED.csv\")\n",
        "data\n"
      ]
    },
    {
      "cell_type": "markdown",
      "metadata": {
        "id": "Q57avql1Pu4k"
      },
      "source": [
        "## Counfounders, Outcome, and Treatment"
      ]
    },
    {
      "cell_type": "code",
      "execution_count": null,
      "metadata": {
        "id": "PHF8AKpy4o4I"
      },
      "outputs": [],
      "source": [
        "#create a dataset of confounders\n",
        "confounders_without_Mediator = data[['fathers_education', 'mothers_education']]\n",
        "confounders_with_allMediators = data[[\"followup_fallstudyhours\", \"followup_imptodowellatuoft\", \"followup_depressed\", \"followup_stressed\", \"fathers_education\",\t\"mothers_education\", \"exp_gradschl\", \"study_habit\"]]\n",
        "confounders_with_mediatorStudyHours = data[[\"followup_fallstudyhours\", \"followup_imptodowellatuoft\", \"followup_depressed\", \"followup_stressed\", \"fathers_education\",\t\"mothers_education\", \"exp_gradschl\"]]\n",
        "confounders_with_mediatorStudyHabits = data[[\"study_habit\",\"followup_imptodowellatuoft\", \"followup_depressed\", \"followup_stressed\", \"fathers_education\",\t\"mothers_education\", \"exp_gradschl\"]]\n",
        "outcome = data['fall_meangrade_year1']\n",
        "treatment = data['extraversion']\n",
        "placebo = data['agreeableness']"
      ]
    },
    {
      "cell_type": "markdown",
      "metadata": {
        "id": "C576dWRsa3ad"
      },
      "source": [
        "## Specify Nuisance Function Models\n",
        "\n",
        "The next step is to specify models for the conditional expected outcome and propensity score"
      ]
    },
    {
      "cell_type": "markdown",
      "metadata": {
        "id": "5PmmVpO89glE"
      },
      "source": [
        "## Q model with randomforest"
      ]
    },
    {
      "cell_type": "code",
      "execution_count": null,
      "metadata": {
        "id": "qyOhSZRQRb8W"
      },
      "outputs": [],
      "source": [
        "# specify a model for the conditional expected outcome\n",
        "\n",
        "# make a function that returns a sklearn model for later use in k-folding\n",
        "def make_Qmodel_randomForest():\n",
        "  return RandomForestRegressor(random_state=RANDOM_SEED, n_estimators=500, max_depth=None)\n",
        "\n",
        "Qmodel_randomForest = make_Qmodel_randomForest()\n",
        "\n",
        "# Sanity check that chosen model actually improves test error\n",
        "# A real analysis should give substantial attention to model selection and validation "
      ]
    },
    {
      "cell_type": "markdown",
      "metadata": {
        "id": "gbhY1xyi9WfR"
      },
      "source": [
        "## Q model with linear regression"
      ]
    },
    {
      "cell_type": "code",
      "execution_count": null,
      "metadata": {
        "id": "KlvJEIUb9W1D"
      },
      "outputs": [],
      "source": [
        "def make_Qmodel_linearRegression():\n",
        "  return LinearRegression()\n",
        "\n",
        "Qmodel_LinearRegression = make_Qmodel_linearRegression()\n",
        "\n"
      ]
    },
    {
      "cell_type": "markdown",
      "metadata": {
        "id": "gcyeKSydAr4w"
      },
      "source": [
        "## Q model with XGBoost "
      ]
    },
    {
      "cell_type": "code",
      "execution_count": null,
      "metadata": {
        "id": "5hiMWUOgAsMd"
      },
      "outputs": [],
      "source": [
        "def make_Qmodel_XGBoost():\n",
        "  return XGBRegressor(n_jobs=1, objective = \"reg:squarederror\", random_state=RANDOM_SEED)\n",
        "\n",
        "Qmodel_XGBRegressor = make_Qmodel_XGBoost()"
      ]
    },
    {
      "cell_type": "markdown",
      "metadata": {
        "id": "pFykT_xgDXKK"
      },
      "source": [
        "## Sanity Check for various confounder conditions"
      ]
    },
    {
      "cell_type": "markdown",
      "metadata": {
        "id": "iNuQpPzCDdtL"
      },
      "source": [
        "### Sanity Check for RandomForest Model"
      ]
    },
    {
      "cell_type": "markdown",
      "metadata": {
        "id": "_xIMcs6mDp7d"
      },
      "source": [
        "#### Sanity Check for confounders without Mediators"
      ]
    },
    {
      "cell_type": "code",
      "execution_count": null,
      "metadata": {
        "colab": {
          "base_uri": "https://localhost:8080/"
        },
        "id": "N72vpl4RDc3Q",
        "outputId": "75028d0d-1519-473f-d732-4f6464a8d97b"
      },
      "outputs": [
        {
          "output_type": "stream",
          "name": "stdout",
          "text": [
            "Test MSE of fit model 144.6025573445408\n",
            "Test MSE of no-covariate model 132.34096825182152\n"
          ]
        }
      ],
      "source": [
        "Qmodel_randomForest = make_Qmodel_randomForest()\n",
        "\n",
        "# Sanity check that chosen model actually improves test error\n",
        "# A real analysis should give substantial attention to model selection and validation \n",
        "\n",
        "X_w_treatment = confounders_without_Mediator.copy()\n",
        "X_w_treatment[\"treatment\"] = treatment\n",
        "\n",
        "X_train, X_test, y_train, y_test = train_test_split(X_w_treatment, outcome, test_size=0.2)\n",
        "Qmodel_randomForest.fit(X_train, y_train)\n",
        "y_pred = Qmodel_randomForest.predict(X_test)\n",
        "\n",
        "test_mse_RF0=mean_squared_error(y_pred, y_test)\n",
        "print(f\"Test MSE of fit model {test_mse_RF0}\") \n",
        "baseline_mse_RF0=mean_squared_error(y_train.mean()*np.ones_like(y_test), y_test)\n",
        "print(f\"Test MSE of no-covariate model {baseline_mse_RF0}\")"
      ]
    },
    {
      "cell_type": "markdown",
      "metadata": {
        "id": "Ej7HIjXmE4uH"
      },
      "source": [
        "#### Sanity Check for confounders with both Mediators"
      ]
    },
    {
      "cell_type": "code",
      "execution_count": null,
      "metadata": {
        "colab": {
          "base_uri": "https://localhost:8080/"
        },
        "id": "17y85XhtFACm",
        "outputId": "13c87aa0-ace5-4595-c4d7-42247b43f7ba"
      },
      "outputs": [
        {
          "output_type": "stream",
          "name": "stdout",
          "text": [
            "Test MSE of fit model 151.76551837794443\n",
            "Test MSE of no-covariate model 138.7781499254707\n"
          ]
        }
      ],
      "source": [
        "Qmodel_randomForest = make_Qmodel_randomForest()\n",
        "\n",
        "# Sanity check that chosen model actually improves test error\n",
        "# A real analysis should give substantial attention to model selection and validation \n",
        "\n",
        "X_w_treatment = confounders_with_allMediators.copy()\n",
        "X_w_treatment[\"treatment\"] = treatment\n",
        "\n",
        "X_train, X_test, y_train, y_test = train_test_split(X_w_treatment, outcome, test_size=0.2)\n",
        "Qmodel_randomForest.fit(X_train, y_train)\n",
        "y_pred = Qmodel_randomForest.predict(X_test)\n",
        "\n",
        "test_mse_RF2=mean_squared_error(y_pred, y_test)\n",
        "print(f\"Test MSE of fit model {test_mse_RF2}\") \n",
        "baseline_mse_RF2=mean_squared_error(y_train.mean()*np.ones_like(y_test), y_test)\n",
        "print(f\"Test MSE of no-covariate model {baseline_mse_RF2}\")"
      ]
    },
    {
      "cell_type": "markdown",
      "metadata": {
        "id": "k97XEVCJFWjv"
      },
      "source": [
        "#### Sanity Check for confounders with just one Mediator StudyHours"
      ]
    },
    {
      "cell_type": "code",
      "execution_count": null,
      "metadata": {
        "colab": {
          "base_uri": "https://localhost:8080/"
        },
        "id": "B5YK1AOxFkfI",
        "outputId": "057092df-9d04-4abc-c3b8-0ba2bb9610dd"
      },
      "outputs": [
        {
          "output_type": "stream",
          "name": "stdout",
          "text": [
            "Test MSE of fit model 165.08544539862348\n",
            "Test MSE of no-covariate model 163.85426183110812\n"
          ]
        }
      ],
      "source": [
        "Qmodel_randomForest = make_Qmodel_randomForest()\n",
        "\n",
        "# Sanity check that chosen model actually improves test error\n",
        "# A real analysis should give substantial attention to model selection and validation \n",
        "\n",
        "X_w_treatment = confounders_with_mediatorStudyHours.copy()\n",
        "X_w_treatment[\"treatment\"] = treatment\n",
        "\n",
        "X_train, X_test, y_train, y_test = train_test_split(X_w_treatment, outcome, test_size=0.2)\n",
        "Qmodel_randomForest.fit(X_train, y_train)\n",
        "y_pred = Qmodel_randomForest.predict(X_test)\n",
        "\n",
        "test_mse_RFSH=mean_squared_error(y_pred, y_test)\n",
        "print(f\"Test MSE of fit model {test_mse_RFSH}\") \n",
        "baseline_mse_RFSH=mean_squared_error(y_train.mean()*np.ones_like(y_test), y_test)\n",
        "print(f\"Test MSE of no-covariate model {baseline_mse_RFSH}\")"
      ]
    },
    {
      "cell_type": "markdown",
      "metadata": {
        "id": "KtXY7Dt_F6RY"
      },
      "source": [
        "#### Sanity Check for confounders with just one Mediator StudyHabits"
      ]
    },
    {
      "cell_type": "code",
      "execution_count": null,
      "metadata": {
        "colab": {
          "base_uri": "https://localhost:8080/"
        },
        "id": "TcKRl5AuF0bt",
        "outputId": "af31d531-ce05-41d9-fecc-59224212403c"
      },
      "outputs": [
        {
          "output_type": "stream",
          "name": "stdout",
          "text": [
            "Test MSE of fit model 157.8912658856867\n",
            "Test MSE of no-covariate model 140.98459052997688\n"
          ]
        }
      ],
      "source": [
        "Qmodel_randomForest = make_Qmodel_randomForest()\n",
        "\n",
        "# Sanity check that chosen model actually improves test error\n",
        "# A real analysis should give substantial attention to model selection and validation \n",
        "\n",
        "X_w_treatment = confounders_with_mediatorStudyHabits.copy()\n",
        "X_w_treatment[\"treatment\"] = treatment\n",
        "\n",
        "X_train, X_test, y_train, y_test = train_test_split(X_w_treatment, outcome, test_size=0.2)\n",
        "Qmodel_randomForest.fit(X_train, y_train)\n",
        "y_pred = Qmodel_randomForest.predict(X_test)\n",
        "\n",
        "test_mse_RFSB=mean_squared_error(y_pred, y_test)\n",
        "print(f\"Test MSE of fit model {test_mse_RFSB}\") \n",
        "baseline_mse_RFSB=mean_squared_error(y_train.mean()*np.ones_like(y_test), y_test)\n",
        "print(f\"Test MSE of no-covariate model {baseline_mse_RFSB}\")"
      ]
    },
    {
      "cell_type": "markdown",
      "metadata": {
        "id": "BuFm2pacEtSn"
      },
      "source": [
        "### Sanity Check for Logistic Regression"
      ]
    },
    {
      "cell_type": "markdown",
      "metadata": {
        "id": "4lvoX2D7G0IF"
      },
      "source": [
        "Sanity Check for counfounders without Mediators"
      ]
    },
    {
      "cell_type": "code",
      "execution_count": null,
      "metadata": {
        "colab": {
          "base_uri": "https://localhost:8080/"
        },
        "id": "NM4TOhWLG0g3",
        "outputId": "6a1a55cd-496d-4078-ae6a-9b66b2e18b25"
      },
      "outputs": [
        {
          "output_type": "stream",
          "name": "stdout",
          "text": [
            "Test MSE of fit model 128.83520191287093\n",
            "Test MSE of no-covariate model 129.30311703806595\n"
          ]
        }
      ],
      "source": [
        "Qmodel_LinearRegression = make_Qmodel_linearRegression()\n",
        "\n",
        "# Sanity check that chosen model actually improves test error\n",
        "# A real analysis should give substantial attention to model selection and validation \n",
        "\n",
        "X_w_treatment = confounders_without_Mediator.copy()\n",
        "X_w_treatment[\"treatment\"] = treatment\n",
        "\n",
        "X_train, X_test, y_train, y_test = train_test_split(X_w_treatment, outcome, test_size=0.2)\n",
        "Qmodel_LinearRegression.fit(X_train, y_train)\n",
        "y_pred1 = Qmodel_LinearRegression.predict(X_test)\n",
        "\n",
        "test_mse_LR0=mean_squared_error(y_pred1, y_test)\n",
        "print(f\"Test MSE of fit model {test_mse_LR0}\") \n",
        "baseline_mse_LR0=mean_squared_error(y_train.mean()*np.ones_like(y_test), y_test)\n",
        "print(f\"Test MSE of no-covariate model {baseline_mse_LR0}\")"
      ]
    },
    {
      "cell_type": "markdown",
      "metadata": {
        "id": "CDhtTORxGziw"
      },
      "source": [
        "Sanity Check for confounders with both Mediators"
      ]
    },
    {
      "cell_type": "code",
      "execution_count": null,
      "metadata": {
        "colab": {
          "base_uri": "https://localhost:8080/"
        },
        "id": "90bBDrQ1HUnd",
        "outputId": "c4f9c914-232b-436f-9bf5-70a93e3fa123"
      },
      "outputs": [
        {
          "output_type": "stream",
          "name": "stdout",
          "text": [
            "Test MSE of fit model 146.29214126301753\n",
            "Test MSE of no-covariate model 158.2825105729674\n"
          ]
        }
      ],
      "source": [
        "Qmodel_LinearRegression = make_Qmodel_linearRegression()\n",
        "\n",
        "# Sanity check that chosen model actually improves test error\n",
        "# A real analysis should give substantial attention to model selection and validation \n",
        "\n",
        "X_w_treatment = confounders_with_allMediators.copy()\n",
        "X_w_treatment[\"treatment\"] = treatment\n",
        "\n",
        "X_train, X_test, y_train, y_test = train_test_split(X_w_treatment, outcome, test_size=0.2)\n",
        "Qmodel_LinearRegression.fit(X_train, y_train)\n",
        "y_pred1 = Qmodel_LinearRegression.predict(X_test)\n",
        "\n",
        "test_mse_LR2=mean_squared_error(y_pred1, y_test)\n",
        "print(f\"Test MSE of fit model {test_mse_LR2}\") \n",
        "baseline_mse_LR2=mean_squared_error(y_train.mean()*np.ones_like(y_test), y_test)\n",
        "print(f\"Test MSE of no-covariate model {baseline_mse_LR2}\")"
      ]
    },
    {
      "cell_type": "markdown",
      "metadata": {
        "id": "5gQ2o5sKHPp2"
      },
      "source": [
        "Sanity Check for confounders with just one Mediator StudyHours"
      ]
    },
    {
      "cell_type": "code",
      "execution_count": null,
      "metadata": {
        "colab": {
          "base_uri": "https://localhost:8080/"
        },
        "id": "IpvrXKohHg2J",
        "outputId": "3e3b628e-052d-48e8-822a-6313d18a81f1"
      },
      "outputs": [
        {
          "output_type": "stream",
          "name": "stdout",
          "text": [
            "Test MSE of fit model 142.28820463484635\n",
            "Test MSE of no-covariate model 149.31923245486362\n"
          ]
        }
      ],
      "source": [
        "Qmodel_LinearRegression = make_Qmodel_linearRegression()\n",
        "\n",
        "# Sanity check that chosen model actually improves test error\n",
        "# A real analysis should give substantial attention to model selection and validation \n",
        "\n",
        "X_w_treatment = confounders_with_mediatorStudyHours.copy()\n",
        "X_w_treatment[\"treatment\"] = treatment\n",
        "\n",
        "X_train, X_test, y_train, y_test = train_test_split(X_w_treatment, outcome, test_size=0.2)\n",
        "Qmodel_LinearRegression.fit(X_train, y_train)\n",
        "y_pred1 = Qmodel_LinearRegression.predict(X_test)\n",
        "\n",
        "test_mse_LRSH=mean_squared_error(y_pred1, y_test)\n",
        "print(f\"Test MSE of fit model {test_mse_LRSH}\") \n",
        "baseline_mse_LRSH=mean_squared_error(y_train.mean()*np.ones_like(y_test), y_test)\n",
        "print(f\"Test MSE of no-covariate model {baseline_mse_LRSH}\")"
      ]
    },
    {
      "cell_type": "markdown",
      "metadata": {
        "id": "7V43L6KrHTMH"
      },
      "source": [
        "Sanity Check for confounders with just one Mediator StudyHabits"
      ]
    },
    {
      "cell_type": "code",
      "execution_count": null,
      "metadata": {
        "colab": {
          "base_uri": "https://localhost:8080/"
        },
        "id": "VEQp4FccHvWM",
        "outputId": "aeab9418-03c3-4e53-beb1-9a370a9a91ef"
      },
      "outputs": [
        {
          "output_type": "stream",
          "name": "stdout",
          "text": [
            "Test MSE of fit model 144.78312111807816\n",
            "Test MSE of no-covariate model 148.9840110356087\n"
          ]
        }
      ],
      "source": [
        "Qmodel_LinearRegression = make_Qmodel_linearRegression()\n",
        "\n",
        "# Sanity check that chosen model actually improves test error\n",
        "# A real analysis should give substantial attention to model selection and validation \n",
        "\n",
        "X_w_treatment = confounders_with_mediatorStudyHabits.copy()\n",
        "X_w_treatment[\"treatment\"] = treatment\n",
        "\n",
        "X_train, X_test, y_train, y_test = train_test_split(X_w_treatment, outcome, test_size=0.2)\n",
        "Qmodel_LinearRegression.fit(X_train, y_train)\n",
        "y_pred1 = Qmodel_LinearRegression.predict(X_test)\n",
        "\n",
        "test_mse_LRSB=mean_squared_error(y_pred1, y_test)\n",
        "print(f\"Test MSE of fit model {test_mse_LRSB}\") \n",
        "baseline_mse_LRSB=mean_squared_error(y_train.mean()*np.ones_like(y_test), y_test)\n",
        "print(f\"Test MSE of no-covariate model {baseline_mse_LRSB}\")"
      ]
    },
    {
      "cell_type": "markdown",
      "metadata": {
        "id": "k5j1ZycMMuJM"
      },
      "source": [
        "### Sanity Check for XGBoost Model"
      ]
    },
    {
      "cell_type": "markdown",
      "metadata": {
        "id": "nG9g_SElM6_o"
      },
      "source": [
        "Sanity Check for counfounders without Mediators"
      ]
    },
    {
      "cell_type": "code",
      "execution_count": null,
      "metadata": {
        "colab": {
          "base_uri": "https://localhost:8080/"
        },
        "id": "St_6LPh3NG4v",
        "outputId": "5fa699c0-8281-45df-e2d6-bf603c0a4003"
      },
      "outputs": [
        {
          "output_type": "stream",
          "name": "stdout",
          "text": [
            "Test MSE of fit model 146.8405555905983\n",
            "Test MSE of no-covariate model 142.85195264345685\n"
          ]
        }
      ],
      "source": [
        "Qmodel_XGBoost = make_Qmodel_XGBoost()\n",
        "\n",
        "# Sanity check that chosen model actually improves test error\n",
        "# A real analysis should give substantial attention to model selection and validation \n",
        "\n",
        "X_w_treatment = confounders_without_Mediator.copy()\n",
        "X_w_treatment[\"treatment\"] = treatment\n",
        "\n",
        "X_train, X_test, y_train, y_test = train_test_split(X_w_treatment, outcome, test_size=0.2)\n",
        "Qmodel_XGBoost.fit(X_train, y_train)\n",
        "y_pred1 = Qmodel_XGBoost.predict(X_test)\n",
        "\n",
        "test_mse_XG0=mean_squared_error(y_pred1, y_test)\n",
        "print(f\"Test MSE of fit model {test_mse_XG0}\") \n",
        "baseline_mse_XG0=mean_squared_error(y_train.mean()*np.ones_like(y_test), y_test)\n",
        "print(f\"Test MSE of no-covariate model {baseline_mse_XG0}\")"
      ]
    },
    {
      "cell_type": "markdown",
      "metadata": {
        "id": "kPOtB_biM9bC"
      },
      "source": [
        "Sanity Check for confounders with both Mediators"
      ]
    },
    {
      "cell_type": "code",
      "execution_count": null,
      "metadata": {
        "colab": {
          "base_uri": "https://localhost:8080/"
        },
        "id": "uhdpTbevNJMr",
        "outputId": "e921d539-dcb4-40a6-89db-6b53992d18ba"
      },
      "outputs": [
        {
          "output_type": "stream",
          "name": "stdout",
          "text": [
            "Test MSE of fit model 136.0710437860533\n",
            "Test MSE of no-covariate model 127.67333638973136\n"
          ]
        }
      ],
      "source": [
        "Qmodel_XGBoost = make_Qmodel_XGBoost()\n",
        "\n",
        "# Sanity check that chosen model actually improves test error\n",
        "# A real analysis should give substantial attention to model selection and validation \n",
        "\n",
        "X_w_treatment = confounders_with_allMediators.copy()\n",
        "X_w_treatment[\"treatment\"] = treatment\n",
        "\n",
        "X_train, X_test, y_train, y_test = train_test_split(X_w_treatment, outcome, test_size=0.2)\n",
        "Qmodel_XGBoost.fit(X_train, y_train)\n",
        "y_pred1 = Qmodel_XGBoost.predict(X_test)\n",
        "\n",
        "test_mse_XG2=mean_squared_error(y_pred1, y_test)\n",
        "print(f\"Test MSE of fit model {test_mse_XG2}\") \n",
        "baseline_mse_XG2=mean_squared_error(y_train.mean()*np.ones_like(y_test), y_test)\n",
        "print(f\"Test MSE of no-covariate model {baseline_mse_XG2}\")"
      ]
    },
    {
      "cell_type": "markdown",
      "metadata": {
        "id": "lkraFu1rNEhW"
      },
      "source": [
        "Sanity Check for confounders with just one Mediator StudyHours"
      ]
    },
    {
      "cell_type": "code",
      "execution_count": null,
      "metadata": {
        "colab": {
          "base_uri": "https://localhost:8080/"
        },
        "id": "xvgLkDYYNLcy",
        "outputId": "113cd900-dba0-463f-bf79-fe204ed862a5"
      },
      "outputs": [
        {
          "output_type": "stream",
          "name": "stdout",
          "text": [
            "Test MSE of fit model 171.7909680989912\n",
            "Test MSE of no-covariate model 178.13661746081732\n"
          ]
        }
      ],
      "source": [
        "Qmodel_XGBoost = make_Qmodel_XGBoost()\n",
        "\n",
        "# Sanity check that chosen model actually improves test error\n",
        "# A real analysis should give substantial attention to model selection and validation \n",
        "\n",
        "X_w_treatment = confounders_with_mediatorStudyHours.copy()\n",
        "X_w_treatment[\"treatment\"] = treatment\n",
        "\n",
        "X_train, X_test, y_train, y_test = train_test_split(X_w_treatment, outcome, test_size=0.2)\n",
        "Qmodel_XGBoost.fit(X_train, y_train)\n",
        "y_pred1 = Qmodel_XGBoost.predict(X_test)\n",
        "\n",
        "test_mse_XGSH=mean_squared_error(y_pred1, y_test)\n",
        "print(f\"Test MSE of fit model {test_mse_XGSH}\") \n",
        "baseline_mse_XGSH=mean_squared_error(y_train.mean()*np.ones_like(y_test), y_test)\n",
        "print(f\"Test MSE of no-covariate model {baseline_mse_XGSH}\")"
      ]
    },
    {
      "cell_type": "markdown",
      "metadata": {
        "id": "D55-BlkVNBi0"
      },
      "source": [
        "Sanity Check for confounders with just one Mediator StudyHabits"
      ]
    },
    {
      "cell_type": "code",
      "execution_count": null,
      "metadata": {
        "colab": {
          "base_uri": "https://localhost:8080/"
        },
        "id": "rzmQZbFbNNiM",
        "outputId": "de3afcd3-9ace-41c8-f9cd-c0d2c5a7fff3"
      },
      "outputs": [
        {
          "output_type": "stream",
          "name": "stdout",
          "text": [
            "Test MSE of fit model 117.64240187478954\n",
            "Test MSE of no-covariate model 120.11981962739856\n"
          ]
        }
      ],
      "source": [
        "Qmodel_XGBoost = make_Qmodel_XGBoost()\n",
        "\n",
        "# Sanity check that chosen model actually improves test error\n",
        "# A real analysis should give substantial attention to model selection and validation \n",
        "\n",
        "X_w_treatment = confounders_with_mediatorStudyHabits.copy()\n",
        "X_w_treatment[\"treatment\"] = treatment\n",
        "\n",
        "X_train, X_test, y_train, y_test = train_test_split(X_w_treatment, outcome, test_size=0.2)\n",
        "Qmodel_XGBoost.fit(X_train, y_train)\n",
        "y_pred1 = Qmodel_XGBoost.predict(X_test)\n",
        "\n",
        "test_mse_XGSB=mean_squared_error(y_pred1, y_test)\n",
        "print(f\"Test MSE of fit model {test_mse_XGSB}\") \n",
        "baseline_mse_XGSB=mean_squared_error(y_train.mean()*np.ones_like(y_test), y_test)\n",
        "print(f\"Test MSE of no-covariate model {baseline_mse_XGSB}\")"
      ]
    },
    {
      "cell_type": "markdown",
      "metadata": {
        "id": "-jKu1MwyCdCC"
      },
      "source": [
        "## g model"
      ]
    },
    {
      "cell_type": "markdown",
      "metadata": {
        "id": "0eaO1Oi3DS8I"
      },
      "source": [
        "### g model with RandomForest"
      ]
    },
    {
      "cell_type": "code",
      "execution_count": null,
      "metadata": {
        "colab": {
          "base_uri": "https://localhost:8080/",
          "height": 107
        },
        "id": "uq6eZEBXbsaI",
        "outputId": "7fe4feaf-3106-4154-e953-fd90df04ac45"
      },
      "outputs": [
        {
          "output_type": "execute_result",
          "data": {
            "text/plain": [
              "'\\n# Sanity check of confounders with mediators\\nX_train, X_test, a_train, a_test = train_test_split(confounders_with_Mediators, treatment, test_size=0.2)\\ngmodel.fit(X_train, a_train)\\na_pred = gmodel.predict_proba(X_test)[:,1]\\n\\ntest_ce=log_loss(a_test, a_pred)\\nprint(f\"Test CE of fit model {test_ce}\") \\nbaseline_ce=log_loss(a_test, a_train.mean()*np.ones_like(a_test))\\nprint(f\"Test CE of no-covariate model {baseline_ce}\")\\n'"
            ],
            "application/vnd.google.colaboratory.intrinsic+json": {
              "type": "string"
            }
          },
          "metadata": {},
          "execution_count": 22
        }
      ],
      "source": [
        "# specify a model for the propensity score\n",
        "\n",
        "def make_gmodel_randomForest():\n",
        "\n",
        "  return RandomForestClassifier(n_estimators=100, max_depth=5)\n",
        "\n",
        "gmodel_randomForest = make_gmodel_randomForest()\n",
        "# Sanity check that chosen model actually improves test error\n",
        "# A real analysis should give substantial attention to model selection and validation \n",
        "'''\n",
        "# Sanity check of confounders with mediators\n",
        "X_train, X_test, a_train, a_test = train_test_split(confounders_with_Mediators, treatment, test_size=0.2)\n",
        "gmodel.fit(X_train, a_train)\n",
        "a_pred = gmodel.predict_proba(X_test)[:,1]\n",
        "\n",
        "test_ce=log_loss(a_test, a_pred)\n",
        "print(f\"Test CE of fit model {test_ce}\") \n",
        "baseline_ce=log_loss(a_test, a_train.mean()*np.ones_like(a_test))\n",
        "print(f\"Test CE of no-covariate model {baseline_ce}\")\n",
        "'''"
      ]
    },
    {
      "cell_type": "markdown",
      "metadata": {
        "id": "4X3sCNeyC6K0"
      },
      "source": [
        "## g model with logistic regression"
      ]
    },
    {
      "cell_type": "code",
      "execution_count": null,
      "metadata": {
        "id": "dV-pn9FXJrDX"
      },
      "outputs": [],
      "source": [
        "def make_gmodel_logisticRegression():\n",
        "  return LogisticRegression(max_iter=1000)\n",
        "\n",
        "gmodel_LogisticRegression = make_gmodel_logisticRegression()"
      ]
    },
    {
      "cell_type": "markdown",
      "metadata": {
        "id": "O-DrXpsQJrW6"
      },
      "source": [
        "## g model with XGBoost"
      ]
    },
    {
      "cell_type": "code",
      "execution_count": null,
      "metadata": {
        "id": "7iX9s1VrJriP"
      },
      "outputs": [],
      "source": [
        "def make_gmodel_XGBClassifier():\n",
        "  return XGBClassifier(use_label_encoder=False, n_jobs=1, objective='binary:logistic',eval_metric = 'logloss', random_state =RANDOM_SEED)\n",
        "\n",
        "gmodel_XGBClassifier = make_gmodel_XGBClassifier()"
      ]
    },
    {
      "cell_type": "markdown",
      "metadata": {
        "id": "oYvqsja_dhUj"
      },
      "source": [
        "## Sanity Check for Various Confounding Conditions"
      ]
    },
    {
      "cell_type": "markdown",
      "metadata": {
        "id": "NaoKfbHDfWJh"
      },
      "source": [
        "### Sanity Check for RandomForest Model"
      ]
    },
    {
      "cell_type": "markdown",
      "metadata": {
        "id": "fiRsH8uyfWJx"
      },
      "source": [
        "#### Sanity Check for confounders without Mediators"
      ]
    },
    {
      "cell_type": "code",
      "execution_count": null,
      "metadata": {
        "colab": {
          "base_uri": "https://localhost:8080/"
        },
        "id": "Cc17o1-6fWJx",
        "outputId": "71d6939a-1771-4728-d471-257abef638a0"
      },
      "outputs": [
        {
          "output_type": "stream",
          "name": "stdout",
          "text": [
            "Test CE of fit model 0.7013706057844085\n",
            "Test CE of no-covariate model 0.6931471805599453\n"
          ]
        }
      ],
      "source": [
        "gmodel_randomForest = make_gmodel_randomForest()\n",
        "# Sanity check that chosen model actually improves test error\n",
        "# A real analysis should give substantial attention to model selection and validation \n",
        "\n",
        "# Sanity check of confounders with mediators\n",
        "X_train, X_test, a_train, a_test = train_test_split(confounders_without_Mediator, treatment, test_size=0.2)\n",
        "gmodel_randomForest.fit(X_train, a_train)\n",
        "a_pred = gmodel_randomForest.predict_proba(X_test)[:,1]\n",
        "\n",
        "test_ce_RF0=log_loss(a_test, a_pred)\n",
        "print(f\"Test CE of fit model {test_ce_RF0}\") \n",
        "baseline_ce_RF0=log_loss(a_test, a_train.mean()*np.ones_like(a_test))\n",
        "print(f\"Test CE of no-covariate model {baseline_ce_RF0}\")"
      ]
    },
    {
      "cell_type": "markdown",
      "metadata": {
        "id": "ztUKKDjXfWJy"
      },
      "source": [
        "#### Sanity Check for confounders with both Mediators"
      ]
    },
    {
      "cell_type": "code",
      "execution_count": null,
      "metadata": {
        "colab": {
          "base_uri": "https://localhost:8080/"
        },
        "id": "IBeLqTs4fWJy",
        "outputId": "935beac7-4cc2-4160-ae26-c00b0b131a92"
      },
      "outputs": [
        {
          "output_type": "stream",
          "name": "stdout",
          "text": [
            "Test CE of fit model 0.7070381116421837\n",
            "Test CE of no-covariate model 0.6931471805599453\n"
          ]
        }
      ],
      "source": [
        "gmodel_randomForest = make_gmodel_randomForest()\n",
        "# Sanity check that chosen model actually improves test error\n",
        "# A real analysis should give substantial attention to model selection and validation \n",
        "\n",
        "# Sanity check of confounders with mediators\n",
        "X_train, X_test, a_train, a_test = train_test_split(confounders_with_allMediators, treatment, test_size=0.2)\n",
        "gmodel_randomForest.fit(X_train, a_train)\n",
        "a_pred = gmodel_randomForest.predict_proba(X_test)[:,1]\n",
        "\n",
        "test_ce_RF2=log_loss(a_test, a_pred)\n",
        "print(f\"Test CE of fit model {test_ce_RF2}\") \n",
        "baseline_ce_RF2=log_loss(a_test, a_train.mean()*np.ones_like(a_test))\n",
        "print(f\"Test CE of no-covariate model {baseline_ce_RF2}\")"
      ]
    },
    {
      "cell_type": "markdown",
      "metadata": {
        "id": "zKATQ5P5fWJy"
      },
      "source": [
        "#### Sanity Check for confounders with just one Mediator StudyHours"
      ]
    },
    {
      "cell_type": "code",
      "execution_count": null,
      "metadata": {
        "colab": {
          "base_uri": "https://localhost:8080/"
        },
        "id": "kRQhnDnNfWJz",
        "outputId": "5ae0fe25-74ae-4617-e968-0eedc7042a59"
      },
      "outputs": [
        {
          "output_type": "stream",
          "name": "stdout",
          "text": [
            "Test CE of fit model 0.6952597045037472\n",
            "Test CE of no-covariate model 0.693770551837665\n"
          ]
        }
      ],
      "source": [
        "gmodel_randomForest = make_gmodel_randomForest()\n",
        "# Sanity check that chosen model actually improves test error\n",
        "# A real analysis should give substantial attention to model selection and validation \n",
        "\n",
        "# Sanity check of confounders with mediators\n",
        "X_train, X_test, a_train, a_test = train_test_split(confounders_with_mediatorStudyHours, treatment, test_size=0.2)\n",
        "gmodel_randomForest.fit(X_train, a_train)\n",
        "a_pred = gmodel_randomForest.predict_proba(X_test)[:,1]\n",
        "\n",
        "test_ce_RFSH=log_loss(a_test, a_pred)\n",
        "print(f\"Test CE of fit model {test_ce_RFSH}\") \n",
        "baseline_ce_RFSH=log_loss(a_test, a_train.mean()*np.ones_like(a_test))\n",
        "print(f\"Test CE of no-covariate model {baseline_ce_RFSH}\")"
      ]
    },
    {
      "cell_type": "markdown",
      "metadata": {
        "id": "AZEA3g2nfWJz"
      },
      "source": [
        "#### Sanity Check for confounders with just one Mediator StudyHabits"
      ]
    },
    {
      "cell_type": "code",
      "execution_count": null,
      "metadata": {
        "colab": {
          "base_uri": "https://localhost:8080/"
        },
        "id": "Wvd0WEdFfWJz",
        "outputId": "335ef1d9-374d-427b-f361-df3a7dbebe34"
      },
      "outputs": [
        {
          "output_type": "stream",
          "name": "stdout",
          "text": [
            "Test CE of fit model 0.6899995603331717\n",
            "Test CE of no-covariate model 0.6924185351327965\n"
          ]
        }
      ],
      "source": [
        "gmodel_randomForest = make_gmodel_randomForest()\n",
        "# Sanity check that chosen model actually improves test error\n",
        "# A real analysis should give substantial attention to model selection and validation \n",
        "\n",
        "# Sanity check of confounders with mediators\n",
        "X_train, X_test, a_train, a_test = train_test_split(confounders_with_mediatorStudyHabits, treatment, test_size=0.2)\n",
        "gmodel_randomForest.fit(X_train, a_train)\n",
        "a_pred = gmodel_randomForest.predict_proba(X_test)[:,1]\n",
        "\n",
        "test_ce_RFSB=log_loss(a_test, a_pred)\n",
        "print(f\"Test CE of fit model {test_ce_RFSB}\") \n",
        "baseline_ce_RFSB=log_loss(a_test, a_train.mean()*np.ones_like(a_test))\n",
        "print(f\"Test CE of no-covariate model {baseline_ce_RFSB}\")"
      ]
    },
    {
      "cell_type": "markdown",
      "metadata": {
        "id": "SqzOc8FqfWJ0"
      },
      "source": [
        "### Sanity Check for Logistic Regression"
      ]
    },
    {
      "cell_type": "markdown",
      "metadata": {
        "id": "tRZy87zJhhj4"
      },
      "source": [
        "#### Sanity Check for confounders without Mediators"
      ]
    },
    {
      "cell_type": "code",
      "execution_count": null,
      "metadata": {
        "colab": {
          "base_uri": "https://localhost:8080/"
        },
        "id": "eJxolFTAhhj5",
        "outputId": "5f78b3bf-5918-4083-a825-60e57f7342b5"
      },
      "outputs": [
        {
          "output_type": "stream",
          "name": "stdout",
          "text": [
            "Test CE of fit model 0.6857449040981308\n",
            "Test CE of no-covariate model 0.6928663894825309\n"
          ]
        }
      ],
      "source": [
        "gmodel_LogisticRegression = make_gmodel_logisticRegression()\n",
        "# Sanity check that chosen model actually improves test error\n",
        "# A real analysis should give substantial attention to model selection and validation \n",
        "\n",
        "# Sanity check of confounders with mediators\n",
        "X_train, X_test, a_train, a_test = train_test_split(confounders_without_Mediator, treatment, test_size=0.2)\n",
        "gmodel_LogisticRegression.fit(X_train, a_train)\n",
        "a_pred = gmodel_LogisticRegression.predict_proba(X_test)[:,1]\n",
        "\n",
        "test_ce_LR0=log_loss(a_test, a_pred)\n",
        "print(f\"Test CE of fit model {test_ce_LR0}\") \n",
        "baseline_ce_LR0=log_loss(a_test, a_train.mean()*np.ones_like(a_test))\n",
        "print(f\"Test CE of no-covariate model {baseline_ce_LR0}\")"
      ]
    },
    {
      "cell_type": "markdown",
      "metadata": {
        "id": "Un9sDEbnhhj5"
      },
      "source": [
        "#### Sanity Check for confounders with both Mediators"
      ]
    },
    {
      "cell_type": "code",
      "execution_count": null,
      "metadata": {
        "colab": {
          "base_uri": "https://localhost:8080/"
        },
        "id": "q5heoL5Jhhj5",
        "outputId": "4b4baf7d-48ec-49a6-da3c-80d9b2693cfc"
      },
      "outputs": [
        {
          "output_type": "stream",
          "name": "stdout",
          "text": [
            "Test CE of fit model 0.7047753332786164\n",
            "Test CE of no-covariate model 0.6923733714269587\n"
          ]
        }
      ],
      "source": [
        "gmodel_LogisticRegression = make_gmodel_logisticRegression()\n",
        "# Sanity check that chosen model actually improves test error\n",
        "# A real analysis should give substantial attention to model selection and validation \n",
        "\n",
        "# Sanity check of confounders with mediators\n",
        "X_train, X_test, a_train, a_test = train_test_split(confounders_with_allMediators, treatment, test_size=0.2)\n",
        "gmodel_LogisticRegression.fit(X_train, a_train)\n",
        "a_pred = gmodel_LogisticRegression.predict_proba(X_test)[:,1]\n",
        "\n",
        "test_ce_LR2=log_loss(a_test, a_pred)\n",
        "print(f\"Test CE of fit model {test_ce_LR2}\") \n",
        "baseline_ce_LR2=log_loss(a_test, a_train.mean()*np.ones_like(a_test))\n",
        "print(f\"Test CE of no-covariate model {baseline_ce_LR2}\")"
      ]
    },
    {
      "cell_type": "markdown",
      "metadata": {
        "id": "I2e9gZzchhj5"
      },
      "source": [
        "#### Sanity Check for confounders with just one Mediator StudyHours"
      ]
    },
    {
      "cell_type": "code",
      "execution_count": null,
      "metadata": {
        "colab": {
          "base_uri": "https://localhost:8080/"
        },
        "id": "Yvs49Qoohhj5",
        "outputId": "6b58e411-de57-478e-e174-4689763ae2cd"
      },
      "outputs": [
        {
          "output_type": "stream",
          "name": "stdout",
          "text": [
            "Test CE of fit model 0.6872943011459524\n",
            "Test CE of no-covariate model 0.6934184476415775\n"
          ]
        }
      ],
      "source": [
        "gmodel_LogisticRegression = make_gmodel_logisticRegression()\n",
        "# Sanity check that chosen model actually improves test error\n",
        "# A real analysis should give substantial attention to model selection and validation \n",
        "\n",
        "# Sanity check of confounders with mediators\n",
        "X_train, X_test, a_train, a_test = train_test_split(confounders_with_mediatorStudyHours, treatment, test_size=0.2)\n",
        "gmodel_LogisticRegression.fit(X_train, a_train)\n",
        "a_pred = gmodel_LogisticRegression.predict_proba(X_test)[:,1]\n",
        "\n",
        "test_ce_LRSH=log_loss(a_test, a_pred)\n",
        "print(f\"Test CE of fit model {test_ce_LRSH}\") \n",
        "baseline_ce_LRSH=log_loss(a_test, a_train.mean()*np.ones_like(a_test))\n",
        "print(f\"Test CE of no-covariate model {baseline_ce_LRSH}\")"
      ]
    },
    {
      "cell_type": "markdown",
      "metadata": {
        "id": "K1nWHWY8hhj6"
      },
      "source": [
        "#### Sanity Check for confounders with just one Mediator StudyHabits"
      ]
    },
    {
      "cell_type": "code",
      "execution_count": null,
      "metadata": {
        "colab": {
          "base_uri": "https://localhost:8080/"
        },
        "id": "K7zNzrEJhhj6",
        "outputId": "917488fd-28a1-4e4a-b7b5-77036911785d"
      },
      "outputs": [
        {
          "output_type": "stream",
          "name": "stdout",
          "text": [
            "Test CE of fit model 0.681075615964001\n",
            "Test CE of no-covariate model 0.6923706162117814\n"
          ]
        }
      ],
      "source": [
        "gmodel_LogisticRegression = make_gmodel_logisticRegression()\n",
        "# Sanity check that chosen model actually improves test error\n",
        "# A real analysis should give substantial attention to model selection and validation \n",
        "\n",
        "# Sanity check of confounders with mediators\n",
        "X_train, X_test, a_train, a_test = train_test_split(confounders_with_mediatorStudyHabits, treatment, test_size=0.2)\n",
        "gmodel_LogisticRegression.fit(X_train, a_train)\n",
        "a_pred = gmodel_LogisticRegression.predict_proba(X_test)[:,1]\n",
        "\n",
        "test_ce_LRSB=log_loss(a_test, a_pred)\n",
        "print(f\"Test CE of fit model {test_ce_LRSB}\") \n",
        "baseline_ce_LRSB=log_loss(a_test, a_train.mean()*np.ones_like(a_test))\n",
        "print(f\"Test CE of no-covariate model {baseline_ce_LRSB}\")"
      ]
    },
    {
      "cell_type": "markdown",
      "metadata": {
        "id": "k_4T4gi5fWJ2"
      },
      "source": [
        "### Sanity Check for XGBoost Model"
      ]
    },
    {
      "cell_type": "markdown",
      "metadata": {
        "id": "lDXqXF-liJ6p"
      },
      "source": [
        "#### Sanity Check for confounders without Mediators"
      ]
    },
    {
      "cell_type": "code",
      "execution_count": null,
      "metadata": {
        "colab": {
          "base_uri": "https://localhost:8080/"
        },
        "id": "oFhxcD1riJ6z",
        "outputId": "751073de-b06b-4e58-dd63-8d332c1645cd"
      },
      "outputs": [
        {
          "output_type": "stream",
          "name": "stdout",
          "text": [
            "Test CE of fit model 0.7166135618330743\n",
            "Test CE of no-covariate model 0.6956864288217224\n"
          ]
        }
      ],
      "source": [
        "gmodel_XGBClassifier = make_gmodel_XGBClassifier()\n",
        "# Sanity check that chosen model actually improves test error\n",
        "# A real analysis should give substantial attention to model selection and validation \n",
        "\n",
        "# Sanity check of confounders with mediators\n",
        "X_train, X_test, a_train, a_test = train_test_split(confounders_without_Mediator, treatment, test_size=0.2)\n",
        "gmodel_XGBClassifier.fit(X_train, a_train)\n",
        "a_pred = gmodel_XGBClassifier.predict_proba(X_test)[:,1]\n",
        "\n",
        "test_ce_XG0=log_loss(a_test, a_pred)\n",
        "print(f\"Test CE of fit model {test_ce_XG0}\") \n",
        "baseline_ce_XG0=log_loss(a_test, a_train.mean()*np.ones_like(a_test))\n",
        "print(f\"Test CE of no-covariate model {baseline_ce_XG0}\")"
      ]
    },
    {
      "cell_type": "markdown",
      "metadata": {
        "id": "ag2z3ISZiJ6z"
      },
      "source": [
        "#### Sanity Check for confounders with both Mediators"
      ]
    },
    {
      "cell_type": "code",
      "execution_count": null,
      "metadata": {
        "colab": {
          "base_uri": "https://localhost:8080/"
        },
        "id": "pwgEmWbtiJ6z",
        "outputId": "735e5cb2-cdd9-4051-c956-83e1c73d382c"
      },
      "outputs": [
        {
          "output_type": "stream",
          "name": "stdout",
          "text": [
            "Test CE of fit model 0.7425388511605737\n",
            "Test CE of no-covariate model 0.6962923380167392\n"
          ]
        }
      ],
      "source": [
        "gmodel_XGBClassifier = make_gmodel_XGBClassifier()\n",
        "# Sanity check that chosen model actually improves test error\n",
        "# A real analysis should give substantial attention to model selection and validation \n",
        "\n",
        "# Sanity check of confounders with mediators\n",
        "X_train, X_test, a_train, a_test = train_test_split(confounders_with_allMediators, treatment, test_size=0.2)\n",
        "gmodel_XGBClassifier.fit(X_train, a_train)\n",
        "a_pred = gmodel_XGBClassifier.predict_proba(X_test)[:,1]\n",
        "\n",
        "test_ce_XG2=log_loss(a_test, a_pred)\n",
        "print(f\"Test CE of fit model {test_ce_XG2}\") \n",
        "baseline_ce_XG2=log_loss(a_test, a_train.mean()*np.ones_like(a_test))\n",
        "print(f\"Test CE of no-covariate model {baseline_ce_XG2}\")"
      ]
    },
    {
      "cell_type": "markdown",
      "metadata": {
        "id": "yAEoh-SXiJ6z"
      },
      "source": [
        "#### Sanity Check for confounders with just one Mediator StudyHours"
      ]
    },
    {
      "cell_type": "code",
      "execution_count": null,
      "metadata": {
        "colab": {
          "base_uri": "https://localhost:8080/"
        },
        "id": "5-5if1aNiJ60",
        "outputId": "c42888ac-502f-45d9-87fa-c801e9a475f7"
      },
      "outputs": [
        {
          "output_type": "stream",
          "name": "stdout",
          "text": [
            "Test CE of fit model 0.7259747396925049\n",
            "Test CE of no-covariate model 0.692517132862487\n"
          ]
        }
      ],
      "source": [
        "gmodel_XGBClassifier = make_gmodel_XGBClassifier()\n",
        "# Sanity check that chosen model actually improves test error\n",
        "# A real analysis should give substantial attention to model selection and validation \n",
        "\n",
        "# Sanity check of confounders with mediators\n",
        "X_train, X_test, a_train, a_test = train_test_split(confounders_with_mediatorStudyHours, treatment, test_size=0.2)\n",
        "gmodel_XGBClassifier.fit(X_train, a_train)\n",
        "a_pred = gmodel_XGBClassifier.predict_proba(X_test)[:,1]\n",
        "\n",
        "test_ce_XGSH=log_loss(a_test, a_pred)\n",
        "print(f\"Test CE of fit model {test_ce_XGSH}\") \n",
        "baseline_ce_XGSH=log_loss(a_test, a_train.mean()*np.ones_like(a_test))\n",
        "print(f\"Test CE of no-covariate model {baseline_ce_XGSH}\")"
      ]
    },
    {
      "cell_type": "markdown",
      "metadata": {
        "id": "HJlG04lYiJ60"
      },
      "source": [
        "#### Sanity Check for confounders with just one Mediator StudyHabits"
      ]
    },
    {
      "cell_type": "code",
      "execution_count": null,
      "metadata": {
        "colab": {
          "base_uri": "https://localhost:8080/"
        },
        "id": "fbmVPYLGiJ60",
        "outputId": "369404b1-39a7-4754-9b47-8de289bd9da0"
      },
      "outputs": [
        {
          "output_type": "stream",
          "name": "stdout",
          "text": [
            "Test CE of fit model 0.7599684692107106\n",
            "Test CE of no-covariate model 0.6931170637648454\n"
          ]
        }
      ],
      "source": [
        "gmodel_XGBClassifier = make_gmodel_XGBClassifier()\n",
        "# Sanity check that chosen model actually improves test error\n",
        "# A real analysis should give substantial attention to model selection and validation \n",
        "\n",
        "# Sanity check of confounders with mediators\n",
        "X_train, X_test, a_train, a_test = train_test_split(confounders_with_mediatorStudyHabits, treatment, test_size=0.2)\n",
        "gmodel_XGBClassifier.fit(X_train, a_train)\n",
        "a_pred = gmodel_XGBClassifier.predict_proba(X_test)[:,1]\n",
        "\n",
        "test_ce_XGSB=log_loss(a_test, a_pred)\n",
        "print(f\"Test CE of fit model {test_ce_XGSB}\") \n",
        "baseline_ce_XGSB=log_loss(a_test, a_train.mean()*np.ones_like(a_test))\n",
        "print(f\"Test CE of no-covariate model {baseline_ce_XGSB}\")"
      ]
    },
    {
      "cell_type": "markdown",
      "metadata": {
        "id": "2RkvV_4_dFWo"
      },
      "source": [
        "## Use cross fitting to get get predicted outcomes and propensity scores for each unit"
      ]
    },
    {
      "cell_type": "code",
      "execution_count": null,
      "metadata": {
        "id": "KA0AsEGJ_X3b"
      },
      "outputs": [],
      "source": [
        "# helper functions to implement the cross fitting\n",
        "\n",
        "def treatment_k_fold_fit_and_predict(make_model, X:pd.DataFrame, A:np.array, n_splits:int):\n",
        "    \"\"\"\n",
        "    Implements K fold cross-fitting for the model predicting the treatment A. \n",
        "    That is, \n",
        "    1. Split data into K folds\n",
        "    2. For each fold j, the model is fit on the other K-1 folds\n",
        "    3. The fitted model is used to make predictions for each data point in fold j\n",
        "    Returns an array containing the predictions  \n",
        "\n",
        "    Args:\n",
        "    model: function that returns sklearn model (which implements fit and predict_prob)\n",
        "    X: dataframe of variables to adjust for\n",
        "    A: array of treatments\n",
        "    n_splits: number of splits to use\n",
        "    \"\"\"\n",
        "    predictions = np.full_like(A, np.nan, dtype=float)\n",
        "    kf = StratifiedKFold(n_splits=n_splits, shuffle=True, random_state=RANDOM_SEED)\n",
        "    \n",
        "    for train_index, test_index in kf.split(X, A):\n",
        "      X_train = X.loc[train_index]\n",
        "      A_train = A.loc[train_index]\n",
        "      g = make_model()\n",
        "      g.fit(X_train, A_train)\n",
        "\n",
        "      # get predictions for split\n",
        "      predictions[test_index] = g.predict_proba(X.loc[test_index])[:, 1]\n",
        "\n",
        "    assert np.isnan(predictions).sum() == 0\n",
        "    return predictions\n",
        "\n",
        "\n",
        "def outcome_k_fold_fit_and_predict(make_model, X:pd.DataFrame, y:np.array, A:np.array, n_splits:int, output_type:str):\n",
        "    \"\"\"\n",
        "    Implements K fold cross-fitting for the model predicting the outcome Y. \n",
        "    That is, \n",
        "    1. Split data into K folds\n",
        "    2. For each fold j, the model is fit on the other K-1 folds\n",
        "    3. The fitted model is used to make predictions for each data point in fold j\n",
        "    Returns two arrays containing the predictions for all units untreated, all units treated  \n",
        "\n",
        "    Args:\n",
        "    model: function that returns sklearn model (that implements fit and either predict_prob or predict)\n",
        "    X: dataframe of variables to adjust for\n",
        "    y: array of outcomes\n",
        "    A: array of treatments\n",
        "    n_splits: number of splits to use\n",
        "    output_type: type of outcome, \"binary\" or \"continuous\"\n",
        "\n",
        "    \"\"\"\n",
        "    predictions0 = np.full_like(A, np.nan, dtype=float)\n",
        "    predictions1 = np.full_like(y, np.nan, dtype=float)\n",
        "    if output_type == 'binary':\n",
        "      kf = StratifiedKFold(n_splits=n_splits, shuffle=True, random_state=RANDOM_SEED)\n",
        "    elif output_type == 'continuous':\n",
        "      kf = KFold(n_splits=n_splits, shuffle=True, random_state=RANDOM_SEED)\n",
        "\n",
        "    # include the treatment as input feature\n",
        "    X_w_treatment = X.copy()\n",
        "    X_w_treatment[\"A\"] = A\n",
        "\n",
        "    # for predicting effect under treatment / control status for each data point \n",
        "    X0 = X_w_treatment.copy()\n",
        "    X0[\"A\"] = 0\n",
        "    X1 = X_w_treatment.copy()\n",
        "    X1[\"A\"] = 1\n",
        "\n",
        "    \n",
        "    for train_index, test_index in kf.split(X_w_treatment, y):\n",
        "      X_train = X_w_treatment.loc[train_index]\n",
        "      y_train = y.loc[train_index]\n",
        "      q = make_model()\n",
        "      q.fit(X_train, y_train)\n",
        "\n",
        "      if output_type =='binary':\n",
        "        predictions0[test_index] = q.predict_proba(X0.loc[test_index])[:, 1]\n",
        "        predictions1[test_index] = q.predict_proba(X1.loc[test_index])[:, 1]\n",
        "      elif output_type == 'continuous':\n",
        "        predictions0[test_index] = q.predict(X0.loc[test_index])\n",
        "        predictions1[test_index] = q.predict(X1.loc[test_index])\n",
        "\n",
        "    assert np.isnan(predictions0).sum() == 0\n",
        "    assert np.isnan(predictions1).sum() == 0\n",
        "    return predictions0, predictions1"
      ]
    },
    {
      "cell_type": "markdown",
      "metadata": {
        "id": "VNhM7URdgzQB"
      },
      "source": [
        "## Combine predicted values and data into estimate of ATU"
      ]
    },
    {
      "cell_type": "code",
      "execution_count": null,
      "metadata": {
        "id": "J-vONC5ejwh2"
      },
      "outputs": [],
      "source": [
        "def att_aiptw(Q0, Q1, g, A, Y, prob_t=None):\n",
        "  \"\"\"\n",
        "  # Double ML estimator for the ATT\n",
        "  This uses the ATT specific scores, see equation 3.9 of https://www.econstor.eu/bitstream/10419/149795/1/869216953.pdf\n",
        "  \"\"\"\n",
        "\n",
        "  if prob_t is None:\n",
        "    prob_t = 1 - A.mean() # estimate marginal probability of treatment\n",
        "\n",
        "  tau_hat = (A*((1-g)/g)*(Y-Q1) - (1-A)*(Y-Q1)).mean()/ prob_t\n",
        "  \n",
        "  scores = (A*((1-g)/g)*(Y-Q1) - (1-A)*(Y-Q1) - tau_hat*(1-A)) / prob_t\n",
        "  n = Y.shape[0] # number of observations\n",
        "  std_hat = np.std(scores) / np.sqrt(n)\n",
        "\n",
        "  return tau_hat, std_hat\n"
      ]
    },
    {
      "cell_type": "code",
      "execution_count": null,
      "metadata": {
        "id": "O_F5r0SSkzzK"
      },
      "outputs": [],
      "source": [
        "def ate_aiptw(Q0, Q1, g, A, Y, prob_t=None):\n",
        "  \"\"\"\n",
        "  # Double ML estimator for the ATE\n",
        "  \"\"\"\n",
        "\n",
        "  tau_hat = (Q1 - Q0 + A*(Y-Q1)/g - (1-A)*(Y-Q0)/(1-g)).mean()\n",
        "  \n",
        "  scores = Q1 - Q0 + A*(Y-Q1)/g - (1-A)*(Y-Q0)/(1-g) - tau_hat\n",
        "  n = Y.shape[0] # number of observations\n",
        "  std_hat = np.std(scores) / np.sqrt(n)\n",
        "\n",
        "  return tau_hat, std_hat\n"
      ]
    },
    {
      "cell_type": "markdown",
      "metadata": {
        "id": "1PUtEGGzXSIQ"
      },
      "source": [
        "# Natural Direct Effect with two Mediators"
      ]
    },
    {
      "cell_type": "markdown",
      "metadata": {
        "id": "65_HhISR8mtX"
      },
      "source": [
        "## Check Overlap Conditions 0<Pr(A =1 |𝐗 = x, M1 = m1, M2 = m2) < 1 using the three models"
      ]
    },
    {
      "cell_type": "code",
      "execution_count": null,
      "metadata": {
        "colab": {
          "base_uri": "https://localhost:8080/",
          "height": 299
        },
        "id": "2wJF-GKy8twQ",
        "outputId": "42023d85-2648-4ef6-e54b-4b3e166100b9"
      },
      "outputs": [
        {
          "output_type": "execute_result",
          "data": {
            "text/plain": [
              "Text(0.5, 1.0, 'Using RandomForest')"
            ]
          },
          "metadata": {},
          "execution_count": 40
        },
        {
          "output_type": "display_data",
          "data": {
            "text/plain": [
              "<Figure size 432x288 with 1 Axes>"
            ],
            "image/png": "[encoded data removed]"
          },
          "metadata": {
            "needs_background": "light"
          }
        }
      ],
      "source": [
        "#check the ovrlap conditions using randomForest\n",
        "#get the propensity score function\n",
        "g1 = treatment_k_fold_fit_and_predict(make_gmodel_randomForest, X=confounders_with_allMediators, A=treatment, n_splits=10)\n",
        "hist(g1, density=True)\n",
        "plt.title(\"Using RandomForest\")\n"
      ]
    },
    {
      "cell_type": "code",
      "execution_count": null,
      "metadata": {
        "colab": {
          "base_uri": "https://localhost:8080/",
          "height": 372
        },
        "id": "TAGbVxO3QeGr",
        "outputId": "0d7722ee-3cec-4394-d644-77864d4ab0d9"
      },
      "outputs": [
        {
          "output_type": "execute_result",
          "data": {
            "text/plain": [
              "(array([0.07835569, 0.11753354, 0.80314584, 2.42902645, 4.81887506,\n",
              "        5.81791013, 4.07449598, 1.86094769, 0.54848984, 0.07835569]),\n",
              " array([0.22794654, 0.27642637, 0.32490619, 0.37338602, 0.42186585,\n",
              "        0.47034568, 0.51882551, 0.56730533, 0.61578516, 0.66426499,\n",
              "        0.71274482]),\n",
              " <a list of 10 Patch objects>)"
            ]
          },
          "metadata": {},
          "execution_count": 41
        },
        {
          "output_type": "display_data",
          "data": {
            "text/plain": [
              "<Figure size 432x288 with 1 Axes>"
            ],
            "image/png": "[encoded data removed]"
          },
          "metadata": {
            "needs_background": "light"
          }
        }
      ],
      "source": [
        "#check the ovrlap conditions using Logistic Regression\n",
        "g2 = treatment_k_fold_fit_and_predict(make_gmodel_logisticRegression, X=confounders_with_allMediators, A=treatment, n_splits=10)\n",
        "hist(g2, density=True)"
      ]
    },
    {
      "cell_type": "code",
      "execution_count": null,
      "metadata": {
        "id": "grGefcHXX4ni",
        "colab": {
          "base_uri": "https://localhost:8080/",
          "height": 372
        },
        "outputId": "15cc6056-7ae8-433a-86a2-25e042982594"
      },
      "outputs": [
        {
          "output_type": "execute_result",
          "data": {
            "text/plain": [
              "(array([0.10131624, 0.23640456, 0.81052992, 1.33962585, 2.39781769,\n",
              "        3.59109786, 2.31901617, 0.6191548 , 0.38275024, 0.0562868 ]),\n",
              " array([0.05263337, 0.13699308, 0.22135279, 0.3057125 , 0.39007221,\n",
              "        0.47443192, 0.55879162, 0.64315133, 0.72751104, 0.81187075,\n",
              "        0.89623046]),\n",
              " <a list of 10 Patch objects>)"
            ]
          },
          "metadata": {},
          "execution_count": 42
        },
        {
          "output_type": "display_data",
          "data": {
            "text/plain": [
              "<Figure size 432x288 with 1 Axes>"
            ],
            "image/png": "[encoded data removed]"
          },
          "metadata": {
            "needs_background": "light"
          }
        }
      ],
      "source": [
        "#check the ovrlap conditions using XGBoost\n",
        "g3 = treatment_k_fold_fit_and_predict(make_gmodel_XGBClassifier, X=confounders_with_allMediators, A=treatment, n_splits=10)\n",
        "hist(g3, density=True)"
      ]
    },
    {
      "cell_type": "markdown",
      "metadata": {
        "id": "pswwyh7Eltqc"
      },
      "source": [
        "## Calculate Natural Direct Effect with two mediators using RandomForest"
      ]
    },
    {
      "cell_type": "markdown",
      "metadata": {
        "id": "5PdLq_g6pdZE"
      },
      "source": [
        "### Calculate Q0 and Q1 model using Random Forest"
      ]
    },
    {
      "cell_type": "code",
      "execution_count": null,
      "metadata": {
        "id": "b54BFwwSl9pl"
      },
      "outputs": [],
      "source": [
        "#calculate Q0 and Q1 model\n",
        "Q0_RF,Q1_RF = outcome_k_fold_fit_and_predict(make_Qmodel_randomForest, X=confounders_with_allMediators, y=outcome, A=treatment, n_splits=10, output_type=\"continuous\")"
      ]
    },
    {
      "cell_type": "markdown",
      "metadata": {
        "id": "YLIVzDWno0FW"
      },
      "source": [
        "### Combine the Dataset for g, Q0, Q1, A, and Y values"
      ]
    },
    {
      "cell_type": "code",
      "execution_count": null,
      "metadata": {
        "id": "YHZOhZvKoyVH",
        "colab": {
          "base_uri": "https://localhost:8080/",
          "height": 206
        },
        "outputId": "9f8869f6-91bd-464c-c717-ec74098711d8"
      },
      "outputs": [
        {
          "output_type": "execute_result",
          "data": {
            "text/plain": [
              "          g         Q0         Q1  A      Y\n",
              "0  0.519652  66.439667  65.437567  1  66.00\n",
              "1  0.298907  74.915100  68.655400  0  80.50\n",
              "2  0.236894  63.706833  64.287100  1  51.00\n",
              "3  0.545938  67.958000  67.872850  0  86.00\n",
              "4  0.486108  69.538967  69.495800  1  73.75"
            ],
            "text/html": [
              "\n",
              "  <div id=\"df-d991eaaa-d041-4773-a284-7622fb55dfb3\">\n",
              "    <div class=\"colab-df-container\">\n",
              "      <div>\n",
              "<style scoped>\n",
              "    .dataframe tbody tr th:only-of-type {\n",
              "        vertical-align: middle;\n",
              "    }\n",
              "\n",
              "    .dataframe tbody tr th {\n",
              "        vertical-align: top;\n",
              "    }\n",
              "\n",
              "    .dataframe thead th {\n",
              "        text-align: right;\n",
              "    }\n",
              "</style>\n",
              "<table border=\"1\" class=\"dataframe\">\n",
              "  <thead>\n",
              "    <tr style=\"text-align: right;\">\n",
              "      <th></th>\n",
              "      <th>g</th>\n",
              "      <th>Q0</th>\n",
              "      <th>Q1</th>\n",
              "      <th>A</th>\n",
              "      <th>Y</th>\n",
              "    </tr>\n",
              "  </thead>\n",
              "  <tbody>\n",
              "    <tr>\n",
              "      <th>0</th>\n",
              "      <td>0.519652</td>\n",
              "      <td>66.439667</td>\n",
              "      <td>65.437567</td>\n",
              "      <td>1</td>\n",
              "      <td>66.00</td>\n",
              "    </tr>\n",
              "    <tr>\n",
              "      <th>1</th>\n",
              "      <td>0.298907</td>\n",
              "      <td>74.915100</td>\n",
              "      <td>68.655400</td>\n",
              "      <td>0</td>\n",
              "      <td>80.50</td>\n",
              "    </tr>\n",
              "    <tr>\n",
              "      <th>2</th>\n",
              "      <td>0.236894</td>\n",
              "      <td>63.706833</td>\n",
              "      <td>64.287100</td>\n",
              "      <td>1</td>\n",
              "      <td>51.00</td>\n",
              "    </tr>\n",
              "    <tr>\n",
              "      <th>3</th>\n",
              "      <td>0.545938</td>\n",
              "      <td>67.958000</td>\n",
              "      <td>67.872850</td>\n",
              "      <td>0</td>\n",
              "      <td>86.00</td>\n",
              "    </tr>\n",
              "    <tr>\n",
              "      <th>4</th>\n",
              "      <td>0.486108</td>\n",
              "      <td>69.538967</td>\n",
              "      <td>69.495800</td>\n",
              "      <td>1</td>\n",
              "      <td>73.75</td>\n",
              "    </tr>\n",
              "  </tbody>\n",
              "</table>\n",
              "</div>\n",
              "      <button class=\"colab-df-convert\" onclick=\"convertToInteractive('df-d991eaaa-d041-4773-a284-7622fb55dfb3')\"\n",
              "              title=\"Convert this dataframe to an interactive table.\"\n",
              "              style=\"display:none;\">\n",
              "        \n",
              "  <svg xmlns=\"http://www.w3.org/2000/svg\" height=\"24px\"viewBox=\"0 0 24 24\"\n",
              "       width=\"24px\">\n",
              "    <path d=\"M0 0h24v24H0V0z\" fill=\"none\"/>\n",
              "    <path d=\"M18.56 5.44l.94 2.06.94-2.06 2.06-.94-2.06-.94-.94-2.06-.94 2.06-2.06.94zm-11 1L8.5 8.5l.94-2.06 2.06-.94-2.06-.94L8.5 2.5l-.94 2.06-2.06.94zm10 10l.94 2.06.94-2.06 2.06-.94-2.06-.94-.94-2.06-.94 2.06-2.06.94z\"/><path d=\"M17.41 7.96l-1.37-1.37c-.4-.4-.92-.59-1.43-.59-.52 0-1.04.2-1.43.59L10.3 9.45l-7.72 7.72c-.78.78-.78 2.05 0 2.83L4 21.41c.39.39.9.59 1.41.59.51 0 1.02-.2 1.41-.59l7.78-7.78 2.81-2.81c.8-.78.8-2.07 0-2.86zM5.41 20L4 18.59l7.72-7.72 1.47 1.35L5.41 20z\"/>\n",
              "  </svg>\n",
              "      </button>\n",
              "      \n",
              "  <style>\n",
              "    .colab-df-container {\n",
              "      display:flex;\n",
              "      flex-wrap:wrap;\n",
              "      gap: 12px;\n",
              "    }\n",
              "\n",
              "    .colab-df-convert {\n",
              "      background-color: #E8F0FE;\n",
              "      border: none;\n",
              "      border-radius: 50%;\n",
              "      cursor: pointer;\n",
              "      display: none;\n",
              "      fill: #1967D2;\n",
              "      height: 32px;\n",
              "      padding: 0 0 0 0;\n",
              "      width: 32px;\n",
              "    }\n",
              "\n",
              "    .colab-df-convert:hover {\n",
              "      background-color: #E2EBFA;\n",
              "      box-shadow: 0px 1px 2px rgba(60, 64, 67, 0.3), 0px 1px 3px 1px rgba(60, 64, 67, 0.15);\n",
              "      fill: #174EA6;\n",
              "    }\n",
              "\n",
              "    [theme=dark] .colab-df-convert {\n",
              "      background-color: #3B4455;\n",
              "      fill: #D2E3FC;\n",
              "    }\n",
              "\n",
              "    [theme=dark] .colab-df-convert:hover {\n",
              "      background-color: #434B5C;\n",
              "      box-shadow: 0px 1px 3px 1px rgba(0, 0, 0, 0.15);\n",
              "      filter: drop-shadow(0px 1px 2px rgba(0, 0, 0, 0.3));\n",
              "      fill: #FFFFFF;\n",
              "    }\n",
              "  </style>\n",
              "\n",
              "      <script>\n",
              "        const buttonEl =\n",
              "          document.querySelector('#df-d991eaaa-d041-4773-a284-7622fb55dfb3 button.colab-df-convert');\n",
              "        buttonEl.style.display =\n",
              "          google.colab.kernel.accessAllowed ? 'block' : 'none';\n",
              "\n",
              "        async function convertToInteractive(key) {\n",
              "          const element = document.querySelector('#df-d991eaaa-d041-4773-a284-7622fb55dfb3');\n",
              "          const dataTable =\n",
              "            await google.colab.kernel.invokeFunction('convertToInteractive',\n",
              "                                                     [key], {});\n",
              "          if (!dataTable) return;\n",
              "\n",
              "          const docLinkHtml = 'Like what you see? Visit the ' +\n",
              "            '<a target=\"_blank\" href=https://colab.research.google.com/notebooks/data_table.ipynb>data table notebook</a>'\n",
              "            + ' to learn more about interactive tables.';\n",
              "          element.innerHTML = '';\n",
              "          dataTable['output_type'] = 'display_data';\n",
              "          await google.colab.output.renderOutput(dataTable, element);\n",
              "          const docLink = document.createElement('div');\n",
              "          docLink.innerHTML = docLinkHtml;\n",
              "          element.appendChild(docLink);\n",
              "        }\n",
              "      </script>\n",
              "    </div>\n",
              "  </div>\n",
              "  "
            ]
          },
          "metadata": {},
          "execution_count": 44
        }
      ],
      "source": [
        "data_and_nuisance_estimates_RF = pd.DataFrame({'g': g1, 'Q0': Q0_RF, 'Q1': Q1_RF, 'A': treatment, 'Y': outcome})\n",
        "data_and_nuisance_estimates_RF.head()"
      ]
    },
    {
      "cell_type": "markdown",
      "metadata": {
        "id": "P16hVRw5pig7"
      },
      "source": [
        "### Calculate the Natural Direct Effect using the ATU formula"
      ]
    },
    {
      "cell_type": "code",
      "execution_count": null,
      "metadata": {
        "id": "ZCLFLNnzphy1",
        "colab": {
          "base_uri": "https://localhost:8080/"
        },
        "outputId": "00ac8d77-90f8-4aef-832e-0aec5b796b0e"
      },
      "outputs": [
        {
          "output_type": "stream",
          "name": "stdout",
          "text": [
            "The estimate using RandomForest is -2.638443330772566 pm 1.5277293563941472\n"
          ]
        }
      ],
      "source": [
        "tau_hat_RF, std_hat_RF = att_aiptw(**data_and_nuisance_estimates_RF)\n",
        "print(f\"The estimate using RandomForest is {tau_hat_RF} pm {1.96*std_hat_RF}\")"
      ]
    },
    {
      "cell_type": "markdown",
      "source": [
        "## Calculate Natural Direct Effect with two mediators using Logistic Regression"
      ],
      "metadata": {
        "id": "4rFe-TQcqwj8"
      }
    },
    {
      "cell_type": "markdown",
      "source": [
        "### Calculate Q0 and Q1 model using Logistic Regression"
      ],
      "metadata": {
        "id": "_6gUluB-rfwN"
      }
    },
    {
      "cell_type": "code",
      "source": [
        "Q0_LR,Q1_LR = outcome_k_fold_fit_and_predict(make_Qmodel_linearRegression, X=confounders_with_allMediators, y=outcome, A=treatment, n_splits=10, output_type=\"continuous\")"
      ],
      "metadata": {
        "id": "NbWUe3dCqu4q"
      },
      "execution_count": null,
      "outputs": []
    },
    {
      "cell_type": "markdown",
      "source": [
        "### Combine the dataset for g, Q0, Q1, A, and Y values"
      ],
      "metadata": {
        "id": "SfQwRfbmsAAy"
      }
    },
    {
      "cell_type": "code",
      "source": [
        "data_and_nuisance_estimates_LR = pd.DataFrame({'g': g2, 'Q0': Q0_LR, 'Q1': Q1_LR, 'A': treatment, 'Y': outcome})\n",
        "data_and_nuisance_estimates_LR.head()"
      ],
      "metadata": {
        "id": "jgXteqcxsQo1",
        "colab": {
          "base_uri": "https://localhost:8080/",
          "height": 206
        },
        "outputId": "2b34d25c-6a2b-46bd-89a0-98624c61c263"
      },
      "execution_count": null,
      "outputs": [
        {
          "output_type": "execute_result",
          "data": {
            "text/plain": [
              "          g         Q0         Q1  A      Y\n",
              "0  0.578911  70.992020  69.441309  1  66.00\n",
              "1  0.326688  70.598015  68.632287  0  80.50\n",
              "2  0.559670  68.463686  66.537179  1  51.00\n",
              "3  0.533289  73.474415  71.547909  0  86.00\n",
              "4  0.542145  69.201397  67.557448  1  73.75"
            ],
            "text/html": [
              "\n",
              "  <div id=\"df-f32718a8-b353-41cf-8926-f90aef5c4c3b\">\n",
              "    <div class=\"colab-df-container\">\n",
              "      <div>\n",
              "<style scoped>\n",
              "    .dataframe tbody tr th:only-of-type {\n",
              "        vertical-align: middle;\n",
              "    }\n",
              "\n",
              "    .dataframe tbody tr th {\n",
              "        vertical-align: top;\n",
              "    }\n",
              "\n",
              "    .dataframe thead th {\n",
              "        text-align: right;\n",
              "    }\n",
              "</style>\n",
              "<table border=\"1\" class=\"dataframe\">\n",
              "  <thead>\n",
              "    <tr style=\"text-align: right;\">\n",
              "      <th></th>\n",
              "      <th>g</th>\n",
              "      <th>Q0</th>\n",
              "      <th>Q1</th>\n",
              "      <th>A</th>\n",
              "      <th>Y</th>\n",
              "    </tr>\n",
              "  </thead>\n",
              "  <tbody>\n",
              "    <tr>\n",
              "      <th>0</th>\n",
              "      <td>0.578911</td>\n",
              "      <td>70.992020</td>\n",
              "      <td>69.441309</td>\n",
              "      <td>1</td>\n",
              "      <td>66.00</td>\n",
              "    </tr>\n",
              "    <tr>\n",
              "      <th>1</th>\n",
              "      <td>0.326688</td>\n",
              "      <td>70.598015</td>\n",
              "      <td>68.632287</td>\n",
              "      <td>0</td>\n",
              "      <td>80.50</td>\n",
              "    </tr>\n",
              "    <tr>\n",
              "      <th>2</th>\n",
              "      <td>0.559670</td>\n",
              "      <td>68.463686</td>\n",
              "      <td>66.537179</td>\n",
              "      <td>1</td>\n",
              "      <td>51.00</td>\n",
              "    </tr>\n",
              "    <tr>\n",
              "      <th>3</th>\n",
              "      <td>0.533289</td>\n",
              "      <td>73.474415</td>\n",
              "      <td>71.547909</td>\n",
              "      <td>0</td>\n",
              "      <td>86.00</td>\n",
              "    </tr>\n",
              "    <tr>\n",
              "      <th>4</th>\n",
              "      <td>0.542145</td>\n",
              "      <td>69.201397</td>\n",
              "      <td>67.557448</td>\n",
              "      <td>1</td>\n",
              "      <td>73.75</td>\n",
              "    </tr>\n",
              "  </tbody>\n",
              "</table>\n",
              "</div>\n",
              "      <button class=\"colab-df-convert\" onclick=\"convertToInteractive('df-f32718a8-b353-41cf-8926-f90aef5c4c3b')\"\n",
              "              title=\"Convert this dataframe to an interactive table.\"\n",
              "              style=\"display:none;\">\n",
              "        \n",
              "  <svg xmlns=\"http://www.w3.org/2000/svg\" height=\"24px\"viewBox=\"0 0 24 24\"\n",
              "       width=\"24px\">\n",
              "    <path d=\"M0 0h24v24H0V0z\" fill=\"none\"/>\n",
              "    <path d=\"M18.56 5.44l.94 2.06.94-2.06 2.06-.94-2.06-.94-.94-2.06-.94 2.06-2.06.94zm-11 1L8.5 8.5l.94-2.06 2.06-.94-2.06-.94L8.5 2.5l-.94 2.06-2.06.94zm10 10l.94 2.06.94-2.06 2.06-.94-2.06-.94-.94-2.06-.94 2.06-2.06.94z\"/><path d=\"M17.41 7.96l-1.37-1.37c-.4-.4-.92-.59-1.43-.59-.52 0-1.04.2-1.43.59L10.3 9.45l-7.72 7.72c-.78.78-.78 2.05 0 2.83L4 21.41c.39.39.9.59 1.41.59.51 0 1.02-.2 1.41-.59l7.78-7.78 2.81-2.81c.8-.78.8-2.07 0-2.86zM5.41 20L4 18.59l7.72-7.72 1.47 1.35L5.41 20z\"/>\n",
              "  </svg>\n",
              "      </button>\n",
              "      \n",
              "  <style>\n",
              "    .colab-df-container {\n",
              "      display:flex;\n",
              "      flex-wrap:wrap;\n",
              "      gap: 12px;\n",
              "    }\n",
              "\n",
              "    .colab-df-convert {\n",
              "      background-color: #E8F0FE;\n",
              "      border: none;\n",
              "      border-radius: 50%;\n",
              "      cursor: pointer;\n",
              "      display: none;\n",
              "      fill: #1967D2;\n",
              "      height: 32px;\n",
              "      padding: 0 0 0 0;\n",
              "      width: 32px;\n",
              "    }\n",
              "\n",
              "    .colab-df-convert:hover {\n",
              "      background-color: #E2EBFA;\n",
              "      box-shadow: 0px 1px 2px rgba(60, 64, 67, 0.3), 0px 1px 3px 1px rgba(60, 64, 67, 0.15);\n",
              "      fill: #174EA6;\n",
              "    }\n",
              "\n",
              "    [theme=dark] .colab-df-convert {\n",
              "      background-color: #3B4455;\n",
              "      fill: #D2E3FC;\n",
              "    }\n",
              "\n",
              "    [theme=dark] .colab-df-convert:hover {\n",
              "      background-color: #434B5C;\n",
              "      box-shadow: 0px 1px 3px 1px rgba(0, 0, 0, 0.15);\n",
              "      filter: drop-shadow(0px 1px 2px rgba(0, 0, 0, 0.3));\n",
              "      fill: #FFFFFF;\n",
              "    }\n",
              "  </style>\n",
              "\n",
              "      <script>\n",
              "        const buttonEl =\n",
              "          document.querySelector('#df-f32718a8-b353-41cf-8926-f90aef5c4c3b button.colab-df-convert');\n",
              "        buttonEl.style.display =\n",
              "          google.colab.kernel.accessAllowed ? 'block' : 'none';\n",
              "\n",
              "        async function convertToInteractive(key) {\n",
              "          const element = document.querySelector('#df-f32718a8-b353-41cf-8926-f90aef5c4c3b');\n",
              "          const dataTable =\n",
              "            await google.colab.kernel.invokeFunction('convertToInteractive',\n",
              "                                                     [key], {});\n",
              "          if (!dataTable) return;\n",
              "\n",
              "          const docLinkHtml = 'Like what you see? Visit the ' +\n",
              "            '<a target=\"_blank\" href=https://colab.research.google.com/notebooks/data_table.ipynb>data table notebook</a>'\n",
              "            + ' to learn more about interactive tables.';\n",
              "          element.innerHTML = '';\n",
              "          dataTable['output_type'] = 'display_data';\n",
              "          await google.colab.output.renderOutput(dataTable, element);\n",
              "          const docLink = document.createElement('div');\n",
              "          docLink.innerHTML = docLinkHtml;\n",
              "          element.appendChild(docLink);\n",
              "        }\n",
              "      </script>\n",
              "    </div>\n",
              "  </div>\n",
              "  "
            ]
          },
          "metadata": {},
          "execution_count": 47
        }
      ]
    },
    {
      "cell_type": "markdown",
      "source": [
        "### Calculate the Natural Direct Effect using the ATU formula"
      ],
      "metadata": {
        "id": "BrMCaZL9sa5U"
      }
    },
    {
      "cell_type": "code",
      "source": [
        "tau_hat_LR, std_hat_LR = att_aiptw(**data_and_nuisance_estimates_LR)\n",
        "print(f\"The estimate using RandomForest is {tau_hat_LR} pm {1.96*std_hat_LR}\")"
      ],
      "metadata": {
        "colab": {
          "base_uri": "https://localhost:8080/"
        },
        "id": "pwKVGTpUsgIO",
        "outputId": "cd847a3b-6e6e-4a67-e5c7-80c45b2cc350"
      },
      "execution_count": null,
      "outputs": [
        {
          "output_type": "stream",
          "name": "stdout",
          "text": [
            "The estimate using RandomForest is -1.8927439609517929 pm 1.4628057414180229\n"
          ]
        }
      ]
    },
    {
      "cell_type": "markdown",
      "source": [
        "## Calculate the Natural Direct Effect with two Mediators using XGBoost model"
      ],
      "metadata": {
        "id": "7Mz72YvHtE7r"
      }
    },
    {
      "cell_type": "markdown",
      "source": [
        "### Calculate Q0 and Q1 model using XGBoost"
      ],
      "metadata": {
        "id": "xGBYzxtBtg72"
      }
    },
    {
      "cell_type": "code",
      "source": [
        "Q0_XGB,Q1_XGB = outcome_k_fold_fit_and_predict(make_Qmodel_XGBoost, X=confounders_with_allMediators, y=outcome, A=treatment, n_splits=10, output_type=\"continuous\")"
      ],
      "metadata": {
        "id": "6EnXGFwUtOYW"
      },
      "execution_count": null,
      "outputs": []
    },
    {
      "cell_type": "markdown",
      "source": [
        "### Combine the dataset for g, Q0, Q1, A, and Y values"
      ],
      "metadata": {
        "id": "NZdRyegdtdKt"
      }
    },
    {
      "cell_type": "code",
      "source": [
        "data_and_nuisance_estimates_XGB = pd.DataFrame({'g': g3, 'Q0': Q0_XGB, 'Q1': Q1_XGB, 'A': treatment, 'Y': outcome})\n",
        "data_and_nuisance_estimates_XGB.head()"
      ],
      "metadata": {
        "id": "OxZj4xFntvdy",
        "colab": {
          "base_uri": "https://localhost:8080/",
          "height": 206
        },
        "outputId": "5f80c592-98ef-490b-c56b-2dbbfde1f3dc"
      },
      "execution_count": null,
      "outputs": [
        {
          "output_type": "execute_result",
          "data": {
            "text/plain": [
              "          g         Q0         Q1  A      Y\n",
              "0  0.535607  69.379341  68.963768  1  66.00\n",
              "1  0.180905  67.890228  66.804031  0  80.50\n",
              "2  0.052633  67.359238  65.761635  1  51.00\n",
              "3  0.588914  70.843292  70.486313  0  86.00\n",
              "4  0.460552  71.092827  68.309082  1  73.75"
            ],
            "text/html": [
              "\n",
              "  <div id=\"df-c7772bf9-ddd4-4f24-9bab-5603a483cb6d\">\n",
              "    <div class=\"colab-df-container\">\n",
              "      <div>\n",
              "<style scoped>\n",
              "    .dataframe tbody tr th:only-of-type {\n",
              "        vertical-align: middle;\n",
              "    }\n",
              "\n",
              "    .dataframe tbody tr th {\n",
              "        vertical-align: top;\n",
              "    }\n",
              "\n",
              "    .dataframe thead th {\n",
              "        text-align: right;\n",
              "    }\n",
              "</style>\n",
              "<table border=\"1\" class=\"dataframe\">\n",
              "  <thead>\n",
              "    <tr style=\"text-align: right;\">\n",
              "      <th></th>\n",
              "      <th>g</th>\n",
              "      <th>Q0</th>\n",
              "      <th>Q1</th>\n",
              "      <th>A</th>\n",
              "      <th>Y</th>\n",
              "    </tr>\n",
              "  </thead>\n",
              "  <tbody>\n",
              "    <tr>\n",
              "      <th>0</th>\n",
              "      <td>0.535607</td>\n",
              "      <td>69.379341</td>\n",
              "      <td>68.963768</td>\n",
              "      <td>1</td>\n",
              "      <td>66.00</td>\n",
              "    </tr>\n",
              "    <tr>\n",
              "      <th>1</th>\n",
              "      <td>0.180905</td>\n",
              "      <td>67.890228</td>\n",
              "      <td>66.804031</td>\n",
              "      <td>0</td>\n",
              "      <td>80.50</td>\n",
              "    </tr>\n",
              "    <tr>\n",
              "      <th>2</th>\n",
              "      <td>0.052633</td>\n",
              "      <td>67.359238</td>\n",
              "      <td>65.761635</td>\n",
              "      <td>1</td>\n",
              "      <td>51.00</td>\n",
              "    </tr>\n",
              "    <tr>\n",
              "      <th>3</th>\n",
              "      <td>0.588914</td>\n",
              "      <td>70.843292</td>\n",
              "      <td>70.486313</td>\n",
              "      <td>0</td>\n",
              "      <td>86.00</td>\n",
              "    </tr>\n",
              "    <tr>\n",
              "      <th>4</th>\n",
              "      <td>0.460552</td>\n",
              "      <td>71.092827</td>\n",
              "      <td>68.309082</td>\n",
              "      <td>1</td>\n",
              "      <td>73.75</td>\n",
              "    </tr>\n",
              "  </tbody>\n",
              "</table>\n",
              "</div>\n",
              "      <button class=\"colab-df-convert\" onclick=\"convertToInteractive('df-c7772bf9-ddd4-4f24-9bab-5603a483cb6d')\"\n",
              "              title=\"Convert this dataframe to an interactive table.\"\n",
              "              style=\"display:none;\">\n",
              "        \n",
              "  <svg xmlns=\"http://www.w3.org/2000/svg\" height=\"24px\"viewBox=\"0 0 24 24\"\n",
              "       width=\"24px\">\n",
              "    <path d=\"M0 0h24v24H0V0z\" fill=\"none\"/>\n",
              "    <path d=\"M18.56 5.44l.94 2.06.94-2.06 2.06-.94-2.06-.94-.94-2.06-.94 2.06-2.06.94zm-11 1L8.5 8.5l.94-2.06 2.06-.94-2.06-.94L8.5 2.5l-.94 2.06-2.06.94zm10 10l.94 2.06.94-2.06 2.06-.94-2.06-.94-.94-2.06-.94 2.06-2.06.94z\"/><path d=\"M17.41 7.96l-1.37-1.37c-.4-.4-.92-.59-1.43-.59-.52 0-1.04.2-1.43.59L10.3 9.45l-7.72 7.72c-.78.78-.78 2.05 0 2.83L4 21.41c.39.39.9.59 1.41.59.51 0 1.02-.2 1.41-.59l7.78-7.78 2.81-2.81c.8-.78.8-2.07 0-2.86zM5.41 20L4 18.59l7.72-7.72 1.47 1.35L5.41 20z\"/>\n",
              "  </svg>\n",
              "      </button>\n",
              "      \n",
              "  <style>\n",
              "    .colab-df-container {\n",
              "      display:flex;\n",
              "      flex-wrap:wrap;\n",
              "      gap: 12px;\n",
              "    }\n",
              "\n",
              "    .colab-df-convert {\n",
              "      background-color: #E8F0FE;\n",
              "      border: none;\n",
              "      border-radius: 50%;\n",
              "      cursor: pointer;\n",
              "      display: none;\n",
              "      fill: #1967D2;\n",
              "      height: 32px;\n",
              "      padding: 0 0 0 0;\n",
              "      width: 32px;\n",
              "    }\n",
              "\n",
              "    .colab-df-convert:hover {\n",
              "      background-color: #E2EBFA;\n",
              "      box-shadow: 0px 1px 2px rgba(60, 64, 67, 0.3), 0px 1px 3px 1px rgba(60, 64, 67, 0.15);\n",
              "      fill: #174EA6;\n",
              "    }\n",
              "\n",
              "    [theme=dark] .colab-df-convert {\n",
              "      background-color: #3B4455;\n",
              "      fill: #D2E3FC;\n",
              "    }\n",
              "\n",
              "    [theme=dark] .colab-df-convert:hover {\n",
              "      background-color: #434B5C;\n",
              "      box-shadow: 0px 1px 3px 1px rgba(0, 0, 0, 0.15);\n",
              "      filter: drop-shadow(0px 1px 2px rgba(0, 0, 0, 0.3));\n",
              "      fill: #FFFFFF;\n",
              "    }\n",
              "  </style>\n",
              "\n",
              "      <script>\n",
              "        const buttonEl =\n",
              "          document.querySelector('#df-c7772bf9-ddd4-4f24-9bab-5603a483cb6d button.colab-df-convert');\n",
              "        buttonEl.style.display =\n",
              "          google.colab.kernel.accessAllowed ? 'block' : 'none';\n",
              "\n",
              "        async function convertToInteractive(key) {\n",
              "          const element = document.querySelector('#df-c7772bf9-ddd4-4f24-9bab-5603a483cb6d');\n",
              "          const dataTable =\n",
              "            await google.colab.kernel.invokeFunction('convertToInteractive',\n",
              "                                                     [key], {});\n",
              "          if (!dataTable) return;\n",
              "\n",
              "          const docLinkHtml = 'Like what you see? Visit the ' +\n",
              "            '<a target=\"_blank\" href=https://colab.research.google.com/notebooks/data_table.ipynb>data table notebook</a>'\n",
              "            + ' to learn more about interactive tables.';\n",
              "          element.innerHTML = '';\n",
              "          dataTable['output_type'] = 'display_data';\n",
              "          await google.colab.output.renderOutput(dataTable, element);\n",
              "          const docLink = document.createElement('div');\n",
              "          docLink.innerHTML = docLinkHtml;\n",
              "          element.appendChild(docLink);\n",
              "        }\n",
              "      </script>\n",
              "    </div>\n",
              "  </div>\n",
              "  "
            ]
          },
          "metadata": {},
          "execution_count": 50
        }
      ]
    },
    {
      "cell_type": "markdown",
      "source": [
        "### Calculate the Natural Direct Effect using the ATU formula"
      ],
      "metadata": {
        "id": "6IFD_uhvtrU9"
      }
    },
    {
      "cell_type": "code",
      "source": [
        "tau_hat_XGB, std_hat_XGB = att_aiptw(**data_and_nuisance_estimates_XGB)\n",
        "print(f\"The estimate using RandomForest is {tau_hat_XGB} pm {1.96*std_hat_XGB}\")"
      ],
      "metadata": {
        "id": "fAP289gxuP7X",
        "colab": {
          "base_uri": "https://localhost:8080/"
        },
        "outputId": "e982664b-1e30-4ef4-fbf8-0480ded9fc3c"
      },
      "execution_count": null,
      "outputs": [
        {
          "output_type": "stream",
          "name": "stdout",
          "text": [
            "The estimate using RandomForest is -3.0187473524909145 pm 1.9657437846691361\n"
          ]
        }
      ]
    },
    {
      "cell_type": "markdown",
      "metadata": {
        "id": "r5tVJ3-qvccX"
      },
      "source": [
        "# Natural Direct Effect with StudyHours as the mediator"
      ]
    },
    {
      "cell_type": "markdown",
      "metadata": {
        "id": "vzrTOVNtvccX"
      },
      "source": [
        "## Check Overlap Conditions 0<Pr(A =1 |𝐗 = x, M1 = m1) < 1 using the three models"
      ]
    },
    {
      "cell_type": "code",
      "execution_count": null,
      "metadata": {
        "colab": {
          "base_uri": "https://localhost:8080/",
          "height": 375
        },
        "outputId": "f1abd061-db5a-43f1-ce3a-18012486ea28",
        "id": "z-lbBRKJvccX"
      },
      "outputs": [
        {
          "output_type": "execute_result",
          "data": {
            "text/plain": [
              "(array([0.13807556, 0.45367685, 1.22295499, 2.48536013, 5.28632155,\n",
              "        7.67305628, 2.48536013, 0.61147749, 0.35505145, 0.05917524]),\n",
              " array([0.25029418, 0.29843936, 0.34658454, 0.39472973, 0.44287491,\n",
              "        0.49102009, 0.53916528, 0.58731046, 0.63545564, 0.68360083,\n",
              "        0.73174601]),\n",
              " <a list of 10 Patch objects>)"
            ]
          },
          "metadata": {},
          "execution_count": 52
        },
        {
          "output_type": "display_data",
          "data": {
            "text/plain": [
              "<Figure size 432x288 with 1 Axes>"
            ],
            "image/png": "[encoded data removed]"
          },
          "metadata": {
            "needs_background": "light"
          }
        }
      ],
      "source": [
        "#check the overlap conditions using randomForest\n",
        "#get the propensity score function\n",
        "g1_SH = treatment_k_fold_fit_and_predict(make_gmodel_randomForest, X=confounders_with_mediatorStudyHours, A=treatment, n_splits=10)\n",
        "hist(g1_SH, density=True)"
      ]
    },
    {
      "cell_type": "code",
      "execution_count": null,
      "metadata": {
        "colab": {
          "base_uri": "https://localhost:8080/",
          "height": 372
        },
        "outputId": "a0fba0a5-26b3-4ecf-f303-29a3911c4151",
        "id": "qs3EjUetvccY"
      },
      "outputs": [
        {
          "output_type": "execute_result",
          "data": {
            "text/plain": [
              "(array([0.04662222, 0.16317775, 0.34966662, 1.70171086, 3.79971056,\n",
              "        5.82777693, 7.10988785, 3.98619942, 1.39866646, 0.16317775]),\n",
              " array([0.24580664, 0.28654548, 0.32728433, 0.36802317, 0.40876202,\n",
              "        0.44950086, 0.49023971, 0.53097855, 0.5717174 , 0.61245625,\n",
              "        0.65319509]),\n",
              " <a list of 10 Patch objects>)"
            ]
          },
          "metadata": {},
          "execution_count": 53
        },
        {
          "output_type": "display_data",
          "data": {
            "text/plain": [
              "<Figure size 432x288 with 1 Axes>"
            ],
            "image/png": "[encoded data removed]"
          },
          "metadata": {
            "needs_background": "light"
          }
        }
      ],
      "source": [
        "#check the overlap conditions using Logistic Regression\n",
        "g2_SH = treatment_k_fold_fit_and_predict(make_gmodel_logisticRegression, X=confounders_with_mediatorStudyHours, A=treatment, n_splits=10)\n",
        "hist(g2_SH, density=True)"
      ]
    },
    {
      "cell_type": "code",
      "execution_count": null,
      "metadata": {
        "colab": {
          "base_uri": "https://localhost:8080/",
          "height": 372
        },
        "outputId": "3d0e0775-4392-438a-d827-6f983c8bbefd",
        "id": "Fky2lWR4vccY"
      },
      "outputs": [
        {
          "output_type": "execute_result",
          "data": {
            "text/plain": [
              "(array([0.09185222, 0.19518597, 0.47074263, 1.10222664, 1.99778578,\n",
              "        3.42149518, 3.23779074, 1.06778205, 0.29851971, 0.20666749]),\n",
              " array([0.03295292, 0.11566557, 0.19837823, 0.28109088, 0.36380354,\n",
              "        0.44651619, 0.52922885, 0.6119415 , 0.69465416, 0.77736681,\n",
              "        0.86007947]),\n",
              " <a list of 10 Patch objects>)"
            ]
          },
          "metadata": {},
          "execution_count": 54
        },
        {
          "output_type": "display_data",
          "data": {
            "text/plain": [
              "<Figure size 432x288 with 1 Axes>"
            ],
            "image/png": "[encoded data removed]"
          },
          "metadata": {
            "needs_background": "light"
          }
        }
      ],
      "source": [
        "#check the ovrlap conditions using XGBoost\n",
        "g3_SH = treatment_k_fold_fit_and_predict(make_gmodel_XGBClassifier, X=confounders_with_mediatorStudyHours, A=treatment, n_splits=10)\n",
        "hist(g3_SH, density=True)"
      ]
    },
    {
      "cell_type": "markdown",
      "metadata": {
        "id": "mUo3HEw7vccY"
      },
      "source": [
        "## Calculate Natural Direct Effect using RandomForest: Using StudyHours as the mediator"
      ]
    },
    {
      "cell_type": "markdown",
      "metadata": {
        "id": "qimN2jQQvccY"
      },
      "source": [
        "### Calculate Q0 and Q1 model using Random Forest"
      ]
    },
    {
      "cell_type": "code",
      "execution_count": null,
      "metadata": {
        "id": "9FCg3QNLvccY"
      },
      "outputs": [],
      "source": [
        "# Calculate Q0 and Q1 model\n",
        "Q0_RFSH,Q1_RFSH = outcome_k_fold_fit_and_predict(make_Qmodel_randomForest, X=confounders_with_mediatorStudyHours, y=outcome, A=treatment, n_splits=10, output_type=\"continuous\")"
      ]
    },
    {
      "cell_type": "markdown",
      "metadata": {
        "id": "HJS5fNTRvccY"
      },
      "source": [
        "### Combine the Dataset for g, Q0, Q1, A, and Y values"
      ]
    },
    {
      "cell_type": "code",
      "execution_count": null,
      "metadata": {
        "colab": {
          "base_uri": "https://localhost:8080/",
          "height": 206
        },
        "outputId": "07b861f8-0580-486a-844b-b8d86f3d1138",
        "id": "GGvlefq3vccY"
      },
      "outputs": [
        {
          "output_type": "execute_result",
          "data": {
            "text/plain": [
              "          g         Q0         Q1  A      Y\n",
              "0  0.489775  67.431700  65.706343  1  66.00\n",
              "1  0.343330  76.630966  69.089733  0  80.50\n",
              "2  0.401322  60.296567  61.397533  1  51.00\n",
              "3  0.533141  64.638113  66.967111  0  86.00\n",
              "4  0.508829  69.261842  71.032325  1  73.75"
            ],
            "text/html": [
              "\n",
              "  <div id=\"df-9a6d3eff-9b47-4ee2-a730-75f93ca8fb8c\">\n",
              "    <div class=\"colab-df-container\">\n",
              "      <div>\n",
              "<style scoped>\n",
              "    .dataframe tbody tr th:only-of-type {\n",
              "        vertical-align: middle;\n",
              "    }\n",
              "\n",
              "    .dataframe tbody tr th {\n",
              "        vertical-align: top;\n",
              "    }\n",
              "\n",
              "    .dataframe thead th {\n",
              "        text-align: right;\n",
              "    }\n",
              "</style>\n",
              "<table border=\"1\" class=\"dataframe\">\n",
              "  <thead>\n",
              "    <tr style=\"text-align: right;\">\n",
              "      <th></th>\n",
              "      <th>g</th>\n",
              "      <th>Q0</th>\n",
              "      <th>Q1</th>\n",
              "      <th>A</th>\n",
              "      <th>Y</th>\n",
              "    </tr>\n",
              "  </thead>\n",
              "  <tbody>\n",
              "    <tr>\n",
              "      <th>0</th>\n",
              "      <td>0.489775</td>\n",
              "      <td>67.431700</td>\n",
              "      <td>65.706343</td>\n",
              "      <td>1</td>\n",
              "      <td>66.00</td>\n",
              "    </tr>\n",
              "    <tr>\n",
              "      <th>1</th>\n",
              "      <td>0.343330</td>\n",
              "      <td>76.630966</td>\n",
              "      <td>69.089733</td>\n",
              "      <td>0</td>\n",
              "      <td>80.50</td>\n",
              "    </tr>\n",
              "    <tr>\n",
              "      <th>2</th>\n",
              "      <td>0.401322</td>\n",
              "      <td>60.296567</td>\n",
              "      <td>61.397533</td>\n",
              "      <td>1</td>\n",
              "      <td>51.00</td>\n",
              "    </tr>\n",
              "    <tr>\n",
              "      <th>3</th>\n",
              "      <td>0.533141</td>\n",
              "      <td>64.638113</td>\n",
              "      <td>66.967111</td>\n",
              "      <td>0</td>\n",
              "      <td>86.00</td>\n",
              "    </tr>\n",
              "    <tr>\n",
              "      <th>4</th>\n",
              "      <td>0.508829</td>\n",
              "      <td>69.261842</td>\n",
              "      <td>71.032325</td>\n",
              "      <td>1</td>\n",
              "      <td>73.75</td>\n",
              "    </tr>\n",
              "  </tbody>\n",
              "</table>\n",
              "</div>\n",
              "      <button class=\"colab-df-convert\" onclick=\"convertToInteractive('df-9a6d3eff-9b47-4ee2-a730-75f93ca8fb8c')\"\n",
              "              title=\"Convert this dataframe to an interactive table.\"\n",
              "              style=\"display:none;\">\n",
              "        \n",
              "  <svg xmlns=\"http://www.w3.org/2000/svg\" height=\"24px\"viewBox=\"0 0 24 24\"\n",
              "       width=\"24px\">\n",
              "    <path d=\"M0 0h24v24H0V0z\" fill=\"none\"/>\n",
              "    <path d=\"M18.56 5.44l.94 2.06.94-2.06 2.06-.94-2.06-.94-.94-2.06-.94 2.06-2.06.94zm-11 1L8.5 8.5l.94-2.06 2.06-.94-2.06-.94L8.5 2.5l-.94 2.06-2.06.94zm10 10l.94 2.06.94-2.06 2.06-.94-2.06-.94-.94-2.06-.94 2.06-2.06.94z\"/><path d=\"M17.41 7.96l-1.37-1.37c-.4-.4-.92-.59-1.43-.59-.52 0-1.04.2-1.43.59L10.3 9.45l-7.72 7.72c-.78.78-.78 2.05 0 2.83L4 21.41c.39.39.9.59 1.41.59.51 0 1.02-.2 1.41-.59l7.78-7.78 2.81-2.81c.8-.78.8-2.07 0-2.86zM5.41 20L4 18.59l7.72-7.72 1.47 1.35L5.41 20z\"/>\n",
              "  </svg>\n",
              "      </button>\n",
              "      \n",
              "  <style>\n",
              "    .colab-df-container {\n",
              "      display:flex;\n",
              "      flex-wrap:wrap;\n",
              "      gap: 12px;\n",
              "    }\n",
              "\n",
              "    .colab-df-convert {\n",
              "      background-color: #E8F0FE;\n",
              "      border: none;\n",
              "      border-radius: 50%;\n",
              "      cursor: pointer;\n",
              "      display: none;\n",
              "      fill: #1967D2;\n",
              "      height: 32px;\n",
              "      padding: 0 0 0 0;\n",
              "      width: 32px;\n",
              "    }\n",
              "\n",
              "    .colab-df-convert:hover {\n",
              "      background-color: #E2EBFA;\n",
              "      box-shadow: 0px 1px 2px rgba(60, 64, 67, 0.3), 0px 1px 3px 1px rgba(60, 64, 67, 0.15);\n",
              "      fill: #174EA6;\n",
              "    }\n",
              "\n",
              "    [theme=dark] .colab-df-convert {\n",
              "      background-color: #3B4455;\n",
              "      fill: #D2E3FC;\n",
              "    }\n",
              "\n",
              "    [theme=dark] .colab-df-convert:hover {\n",
              "      background-color: #434B5C;\n",
              "      box-shadow: 0px 1px 3px 1px rgba(0, 0, 0, 0.15);\n",
              "      filter: drop-shadow(0px 1px 2px rgba(0, 0, 0, 0.3));\n",
              "      fill: #FFFFFF;\n",
              "    }\n",
              "  </style>\n",
              "\n",
              "      <script>\n",
              "        const buttonEl =\n",
              "          document.querySelector('#df-9a6d3eff-9b47-4ee2-a730-75f93ca8fb8c button.colab-df-convert');\n",
              "        buttonEl.style.display =\n",
              "          google.colab.kernel.accessAllowed ? 'block' : 'none';\n",
              "\n",
              "        async function convertToInteractive(key) {\n",
              "          const element = document.querySelector('#df-9a6d3eff-9b47-4ee2-a730-75f93ca8fb8c');\n",
              "          const dataTable =\n",
              "            await google.colab.kernel.invokeFunction('convertToInteractive',\n",
              "                                                     [key], {});\n",
              "          if (!dataTable) return;\n",
              "\n",
              "          const docLinkHtml = 'Like what you see? Visit the ' +\n",
              "            '<a target=\"_blank\" href=https://colab.research.google.com/notebooks/data_table.ipynb>data table notebook</a>'\n",
              "            + ' to learn more about interactive tables.';\n",
              "          element.innerHTML = '';\n",
              "          dataTable['output_type'] = 'display_data';\n",
              "          await google.colab.output.renderOutput(dataTable, element);\n",
              "          const docLink = document.createElement('div');\n",
              "          docLink.innerHTML = docLinkHtml;\n",
              "          element.appendChild(docLink);\n",
              "        }\n",
              "      </script>\n",
              "    </div>\n",
              "  </div>\n",
              "  "
            ]
          },
          "metadata": {},
          "execution_count": 56
        }
      ],
      "source": [
        "data_and_nuisance_estimates_RFSH = pd.DataFrame({'g': g1_SH, 'Q0': Q0_RFSH, 'Q1': Q1_RFSH, 'A': treatment, 'Y': outcome})\n",
        "data_and_nuisance_estimates_RFSH.head()"
      ]
    },
    {
      "cell_type": "markdown",
      "metadata": {
        "id": "my5fFYv7vccZ"
      },
      "source": [
        "### Calculate the Natural Direct Effect using the ATU formula"
      ]
    },
    {
      "cell_type": "code",
      "execution_count": null,
      "metadata": {
        "colab": {
          "base_uri": "https://localhost:8080/"
        },
        "outputId": "9895b32f-2091-4943-baa9-f766f71ec887",
        "id": "y26GBnjdvccZ"
      },
      "outputs": [
        {
          "output_type": "stream",
          "name": "stdout",
          "text": [
            "The estimate is -2.753633128300834 pm 1.5496175788538584\n"
          ]
        }
      ],
      "source": [
        "tau_hat_RFSH, std_hat_RFSH = att_aiptw(**data_and_nuisance_estimates_RFSH)\n",
        "print(f\"The estimate is {tau_hat_RFSH} pm {1.96*std_hat_RFSH}\")"
      ]
    },
    {
      "cell_type": "markdown",
      "source": [
        "## Calculate Natural Direct Effect using Logistic Regression: Using StudyHours as the mediator"
      ],
      "metadata": {
        "id": "wusfve4QvccZ"
      }
    },
    {
      "cell_type": "markdown",
      "source": [
        "### Calculate Q0 and Q1 model using Logistic Regression"
      ],
      "metadata": {
        "id": "gpajpARxvccZ"
      }
    },
    {
      "cell_type": "code",
      "source": [
        "Q0_LRSH,Q1_LRSH = outcome_k_fold_fit_and_predict(make_Qmodel_linearRegression, X=confounders_with_mediatorStudyHours, y=outcome, A=treatment, n_splits=10, output_type=\"continuous\")"
      ],
      "metadata": {
        "id": "l53YzxSVvccZ"
      },
      "execution_count": null,
      "outputs": []
    },
    {
      "cell_type": "markdown",
      "source": [
        "### Combine the dataset for g, Q0, Q1, A, and Y values"
      ],
      "metadata": {
        "id": "kopNcIoAvccZ"
      }
    },
    {
      "cell_type": "code",
      "source": [
        "data_and_nuisance_estimates_LRSH = pd.DataFrame({'g': g2_SH, 'Q0': Q0_LRSH, 'Q1': Q1_LRSH, 'A': treatment, 'Y': outcome})\n",
        "data_and_nuisance_estimates_LRSH.head()"
      ],
      "metadata": {
        "colab": {
          "base_uri": "https://localhost:8080/",
          "height": 206
        },
        "outputId": "a0d0bb69-e7bb-48b7-a69f-ab836dc37a13",
        "id": "C-eq2ZCdvccZ"
      },
      "execution_count": null,
      "outputs": [
        {
          "output_type": "execute_result",
          "data": {
            "text/plain": [
              "          g         Q0         Q1  A      Y\n",
              "0  0.533715  70.974082  69.425775  1  66.00\n",
              "1  0.332017  70.594631  68.621303  0  80.50\n",
              "2  0.603007  68.384521  66.447611  1  51.00\n",
              "3  0.512951  73.514182  71.577272  0  86.00\n",
              "4  0.578292  69.038052  67.371191  1  73.75"
            ],
            "text/html": [
              "\n",
              "  <div id=\"df-43ba80c0-1c93-496b-ba2d-217c6fa71758\">\n",
              "    <div class=\"colab-df-container\">\n",
              "      <div>\n",
              "<style scoped>\n",
              "    .dataframe tbody tr th:only-of-type {\n",
              "        vertical-align: middle;\n",
              "    }\n",
              "\n",
              "    .dataframe tbody tr th {\n",
              "        vertical-align: top;\n",
              "    }\n",
              "\n",
              "    .dataframe thead th {\n",
              "        text-align: right;\n",
              "    }\n",
              "</style>\n",
              "<table border=\"1\" class=\"dataframe\">\n",
              "  <thead>\n",
              "    <tr style=\"text-align: right;\">\n",
              "      <th></th>\n",
              "      <th>g</th>\n",
              "      <th>Q0</th>\n",
              "      <th>Q1</th>\n",
              "      <th>A</th>\n",
              "      <th>Y</th>\n",
              "    </tr>\n",
              "  </thead>\n",
              "  <tbody>\n",
              "    <tr>\n",
              "      <th>0</th>\n",
              "      <td>0.533715</td>\n",
              "      <td>70.974082</td>\n",
              "      <td>69.425775</td>\n",
              "      <td>1</td>\n",
              "      <td>66.00</td>\n",
              "    </tr>\n",
              "    <tr>\n",
              "      <th>1</th>\n",
              "      <td>0.332017</td>\n",
              "      <td>70.594631</td>\n",
              "      <td>68.621303</td>\n",
              "      <td>0</td>\n",
              "      <td>80.50</td>\n",
              "    </tr>\n",
              "    <tr>\n",
              "      <th>2</th>\n",
              "      <td>0.603007</td>\n",
              "      <td>68.384521</td>\n",
              "      <td>66.447611</td>\n",
              "      <td>1</td>\n",
              "      <td>51.00</td>\n",
              "    </tr>\n",
              "    <tr>\n",
              "      <th>3</th>\n",
              "      <td>0.512951</td>\n",
              "      <td>73.514182</td>\n",
              "      <td>71.577272</td>\n",
              "      <td>0</td>\n",
              "      <td>86.00</td>\n",
              "    </tr>\n",
              "    <tr>\n",
              "      <th>4</th>\n",
              "      <td>0.578292</td>\n",
              "      <td>69.038052</td>\n",
              "      <td>67.371191</td>\n",
              "      <td>1</td>\n",
              "      <td>73.75</td>\n",
              "    </tr>\n",
              "  </tbody>\n",
              "</table>\n",
              "</div>\n",
              "      <button class=\"colab-df-convert\" onclick=\"convertToInteractive('df-43ba80c0-1c93-496b-ba2d-217c6fa71758')\"\n",
              "              title=\"Convert this dataframe to an interactive table.\"\n",
              "              style=\"display:none;\">\n",
              "        \n",
              "  <svg xmlns=\"http://www.w3.org/2000/svg\" height=\"24px\"viewBox=\"0 0 24 24\"\n",
              "       width=\"24px\">\n",
              "    <path d=\"M0 0h24v24H0V0z\" fill=\"none\"/>\n",
              "    <path d=\"M18.56 5.44l.94 2.06.94-2.06 2.06-.94-2.06-.94-.94-2.06-.94 2.06-2.06.94zm-11 1L8.5 8.5l.94-2.06 2.06-.94-2.06-.94L8.5 2.5l-.94 2.06-2.06.94zm10 10l.94 2.06.94-2.06 2.06-.94-2.06-.94-.94-2.06-.94 2.06-2.06.94z\"/><path d=\"M17.41 7.96l-1.37-1.37c-.4-.4-.92-.59-1.43-.59-.52 0-1.04.2-1.43.59L10.3 9.45l-7.72 7.72c-.78.78-.78 2.05 0 2.83L4 21.41c.39.39.9.59 1.41.59.51 0 1.02-.2 1.41-.59l7.78-7.78 2.81-2.81c.8-.78.8-2.07 0-2.86zM5.41 20L4 18.59l7.72-7.72 1.47 1.35L5.41 20z\"/>\n",
              "  </svg>\n",
              "      </button>\n",
              "      \n",
              "  <style>\n",
              "    .colab-df-container {\n",
              "      display:flex;\n",
              "      flex-wrap:wrap;\n",
              "      gap: 12px;\n",
              "    }\n",
              "\n",
              "    .colab-df-convert {\n",
              "      background-color: #E8F0FE;\n",
              "      border: none;\n",
              "      border-radius: 50%;\n",
              "      cursor: pointer;\n",
              "      display: none;\n",
              "      fill: #1967D2;\n",
              "      height: 32px;\n",
              "      padding: 0 0 0 0;\n",
              "      width: 32px;\n",
              "    }\n",
              "\n",
              "    .colab-df-convert:hover {\n",
              "      background-color: #E2EBFA;\n",
              "      box-shadow: 0px 1px 2px rgba(60, 64, 67, 0.3), 0px 1px 3px 1px rgba(60, 64, 67, 0.15);\n",
              "      fill: #174EA6;\n",
              "    }\n",
              "\n",
              "    [theme=dark] .colab-df-convert {\n",
              "      background-color: #3B4455;\n",
              "      fill: #D2E3FC;\n",
              "    }\n",
              "\n",
              "    [theme=dark] .colab-df-convert:hover {\n",
              "      background-color: #434B5C;\n",
              "      box-shadow: 0px 1px 3px 1px rgba(0, 0, 0, 0.15);\n",
              "      filter: drop-shadow(0px 1px 2px rgba(0, 0, 0, 0.3));\n",
              "      fill: #FFFFFF;\n",
              "    }\n",
              "  </style>\n",
              "\n",
              "      <script>\n",
              "        const buttonEl =\n",
              "          document.querySelector('#df-43ba80c0-1c93-496b-ba2d-217c6fa71758 button.colab-df-convert');\n",
              "        buttonEl.style.display =\n",
              "          google.colab.kernel.accessAllowed ? 'block' : 'none';\n",
              "\n",
              "        async function convertToInteractive(key) {\n",
              "          const element = document.querySelector('#df-43ba80c0-1c93-496b-ba2d-217c6fa71758');\n",
              "          const dataTable =\n",
              "            await google.colab.kernel.invokeFunction('convertToInteractive',\n",
              "                                                     [key], {});\n",
              "          if (!dataTable) return;\n",
              "\n",
              "          const docLinkHtml = 'Like what you see? Visit the ' +\n",
              "            '<a target=\"_blank\" href=https://colab.research.google.com/notebooks/data_table.ipynb>data table notebook</a>'\n",
              "            + ' to learn more about interactive tables.';\n",
              "          element.innerHTML = '';\n",
              "          dataTable['output_type'] = 'display_data';\n",
              "          await google.colab.output.renderOutput(dataTable, element);\n",
              "          const docLink = document.createElement('div');\n",
              "          docLink.innerHTML = docLinkHtml;\n",
              "          element.appendChild(docLink);\n",
              "        }\n",
              "      </script>\n",
              "    </div>\n",
              "  </div>\n",
              "  "
            ]
          },
          "metadata": {},
          "execution_count": 59
        }
      ]
    },
    {
      "cell_type": "markdown",
      "source": [
        "### Calculate the Natural Direct Effect using the ATU formula"
      ],
      "metadata": {
        "id": "HjHBw0CbvccZ"
      }
    },
    {
      "cell_type": "code",
      "source": [
        "tau_hat_LRSH, std_hat_LRSH = att_aiptw(**data_and_nuisance_estimates_LRSH)\n",
        "print(f\"The estimate is {tau_hat_LRSH} pm {1.96*std_hat_LRSH}\")"
      ],
      "metadata": {
        "colab": {
          "base_uri": "https://localhost:8080/"
        },
        "outputId": "672e832e-4ce9-4957-f471-6ee857672522",
        "id": "6oxU2fRdvccZ"
      },
      "execution_count": null,
      "outputs": [
        {
          "output_type": "stream",
          "name": "stdout",
          "text": [
            "The estimate is -1.8343752142951477 pm 1.4445238151981015\n"
          ]
        }
      ]
    },
    {
      "cell_type": "markdown",
      "source": [
        "## Calculate the Natural Direct Effect using XGBoost model: Using StudyHours as the Mediator"
      ],
      "metadata": {
        "id": "khunWu9-vcca"
      }
    },
    {
      "cell_type": "markdown",
      "source": [
        "### Calculate Q0 and Q1 model using XGBoost"
      ],
      "metadata": {
        "id": "MiyobKXivcca"
      }
    },
    {
      "cell_type": "code",
      "source": [
        "Q0_XGSH,Q1_XGSH = outcome_k_fold_fit_and_predict(make_Qmodel_XGBoost, X=confounders_with_mediatorStudyHours, y=outcome, A=treatment, n_splits=10, output_type=\"continuous\")"
      ],
      "metadata": {
        "id": "TLYnmWPdvcca"
      },
      "execution_count": null,
      "outputs": []
    },
    {
      "cell_type": "markdown",
      "source": [
        "### Combine the dataset for g, Q0, Q1, A, and Y values"
      ],
      "metadata": {
        "id": "ztWQif2Tvcca"
      }
    },
    {
      "cell_type": "code",
      "source": [
        "data_and_nuisance_estimates_XGSH = pd.DataFrame({'g': g3_SH, 'Q0': Q0_XGSH, 'Q1': Q1_XGSH, 'A': treatment, 'Y': outcome})\n",
        "data_and_nuisance_estimates_XGSH.head()"
      ],
      "metadata": {
        "colab": {
          "base_uri": "https://localhost:8080/",
          "height": 206
        },
        "outputId": "f82ee031-7931-4cd7-f09e-1df68cc2e9ea",
        "id": "SA3MUED-vcca"
      },
      "execution_count": null,
      "outputs": [
        {
          "output_type": "execute_result",
          "data": {
            "text/plain": [
              "          g         Q0         Q1  A      Y\n",
              "0  0.482293  67.841805  67.810905  1  66.00\n",
              "1  0.146785  67.763863  66.129585  0  80.50\n",
              "2  0.166255  65.633568  65.620293  1  51.00\n",
              "3  0.574701  70.896973  70.704071  0  86.00\n",
              "4  0.488096  69.082649  66.766266  1  73.75"
            ],
            "text/html": [
              "\n",
              "  <div id=\"df-c7b84fe1-f128-4400-98ec-5639ab53e3e2\">\n",
              "    <div class=\"colab-df-container\">\n",
              "      <div>\n",
              "<style scoped>\n",
              "    .dataframe tbody tr th:only-of-type {\n",
              "        vertical-align: middle;\n",
              "    }\n",
              "\n",
              "    .dataframe tbody tr th {\n",
              "        vertical-align: top;\n",
              "    }\n",
              "\n",
              "    .dataframe thead th {\n",
              "        text-align: right;\n",
              "    }\n",
              "</style>\n",
              "<table border=\"1\" class=\"dataframe\">\n",
              "  <thead>\n",
              "    <tr style=\"text-align: right;\">\n",
              "      <th></th>\n",
              "      <th>g</th>\n",
              "      <th>Q0</th>\n",
              "      <th>Q1</th>\n",
              "      <th>A</th>\n",
              "      <th>Y</th>\n",
              "    </tr>\n",
              "  </thead>\n",
              "  <tbody>\n",
              "    <tr>\n",
              "      <th>0</th>\n",
              "      <td>0.482293</td>\n",
              "      <td>67.841805</td>\n",
              "      <td>67.810905</td>\n",
              "      <td>1</td>\n",
              "      <td>66.00</td>\n",
              "    </tr>\n",
              "    <tr>\n",
              "      <th>1</th>\n",
              "      <td>0.146785</td>\n",
              "      <td>67.763863</td>\n",
              "      <td>66.129585</td>\n",
              "      <td>0</td>\n",
              "      <td>80.50</td>\n",
              "    </tr>\n",
              "    <tr>\n",
              "      <th>2</th>\n",
              "      <td>0.166255</td>\n",
              "      <td>65.633568</td>\n",
              "      <td>65.620293</td>\n",
              "      <td>1</td>\n",
              "      <td>51.00</td>\n",
              "    </tr>\n",
              "    <tr>\n",
              "      <th>3</th>\n",
              "      <td>0.574701</td>\n",
              "      <td>70.896973</td>\n",
              "      <td>70.704071</td>\n",
              "      <td>0</td>\n",
              "      <td>86.00</td>\n",
              "    </tr>\n",
              "    <tr>\n",
              "      <th>4</th>\n",
              "      <td>0.488096</td>\n",
              "      <td>69.082649</td>\n",
              "      <td>66.766266</td>\n",
              "      <td>1</td>\n",
              "      <td>73.75</td>\n",
              "    </tr>\n",
              "  </tbody>\n",
              "</table>\n",
              "</div>\n",
              "      <button class=\"colab-df-convert\" onclick=\"convertToInteractive('df-c7b84fe1-f128-4400-98ec-5639ab53e3e2')\"\n",
              "              title=\"Convert this dataframe to an interactive table.\"\n",
              "              style=\"display:none;\">\n",
              "        \n",
              "  <svg xmlns=\"http://www.w3.org/2000/svg\" height=\"24px\"viewBox=\"0 0 24 24\"\n",
              "       width=\"24px\">\n",
              "    <path d=\"M0 0h24v24H0V0z\" fill=\"none\"/>\n",
              "    <path d=\"M18.56 5.44l.94 2.06.94-2.06 2.06-.94-2.06-.94-.94-2.06-.94 2.06-2.06.94zm-11 1L8.5 8.5l.94-2.06 2.06-.94-2.06-.94L8.5 2.5l-.94 2.06-2.06.94zm10 10l.94 2.06.94-2.06 2.06-.94-2.06-.94-.94-2.06-.94 2.06-2.06.94z\"/><path d=\"M17.41 7.96l-1.37-1.37c-.4-.4-.92-.59-1.43-.59-.52 0-1.04.2-1.43.59L10.3 9.45l-7.72 7.72c-.78.78-.78 2.05 0 2.83L4 21.41c.39.39.9.59 1.41.59.51 0 1.02-.2 1.41-.59l7.78-7.78 2.81-2.81c.8-.78.8-2.07 0-2.86zM5.41 20L4 18.59l7.72-7.72 1.47 1.35L5.41 20z\"/>\n",
              "  </svg>\n",
              "      </button>\n",
              "      \n",
              "  <style>\n",
              "    .colab-df-container {\n",
              "      display:flex;\n",
              "      flex-wrap:wrap;\n",
              "      gap: 12px;\n",
              "    }\n",
              "\n",
              "    .colab-df-convert {\n",
              "      background-color: #E8F0FE;\n",
              "      border: none;\n",
              "      border-radius: 50%;\n",
              "      cursor: pointer;\n",
              "      display: none;\n",
              "      fill: #1967D2;\n",
              "      height: 32px;\n",
              "      padding: 0 0 0 0;\n",
              "      width: 32px;\n",
              "    }\n",
              "\n",
              "    .colab-df-convert:hover {\n",
              "      background-color: #E2EBFA;\n",
              "      box-shadow: 0px 1px 2px rgba(60, 64, 67, 0.3), 0px 1px 3px 1px rgba(60, 64, 67, 0.15);\n",
              "      fill: #174EA6;\n",
              "    }\n",
              "\n",
              "    [theme=dark] .colab-df-convert {\n",
              "      background-color: #3B4455;\n",
              "      fill: #D2E3FC;\n",
              "    }\n",
              "\n",
              "    [theme=dark] .colab-df-convert:hover {\n",
              "      background-color: #434B5C;\n",
              "      box-shadow: 0px 1px 3px 1px rgba(0, 0, 0, 0.15);\n",
              "      filter: drop-shadow(0px 1px 2px rgba(0, 0, 0, 0.3));\n",
              "      fill: #FFFFFF;\n",
              "    }\n",
              "  </style>\n",
              "\n",
              "      <script>\n",
              "        const buttonEl =\n",
              "          document.querySelector('#df-c7b84fe1-f128-4400-98ec-5639ab53e3e2 button.colab-df-convert');\n",
              "        buttonEl.style.display =\n",
              "          google.colab.kernel.accessAllowed ? 'block' : 'none';\n",
              "\n",
              "        async function convertToInteractive(key) {\n",
              "          const element = document.querySelector('#df-c7b84fe1-f128-4400-98ec-5639ab53e3e2');\n",
              "          const dataTable =\n",
              "            await google.colab.kernel.invokeFunction('convertToInteractive',\n",
              "                                                     [key], {});\n",
              "          if (!dataTable) return;\n",
              "\n",
              "          const docLinkHtml = 'Like what you see? Visit the ' +\n",
              "            '<a target=\"_blank\" href=https://colab.research.google.com/notebooks/data_table.ipynb>data table notebook</a>'\n",
              "            + ' to learn more about interactive tables.';\n",
              "          element.innerHTML = '';\n",
              "          dataTable['output_type'] = 'display_data';\n",
              "          await google.colab.output.renderOutput(dataTable, element);\n",
              "          const docLink = document.createElement('div');\n",
              "          docLink.innerHTML = docLinkHtml;\n",
              "          element.appendChild(docLink);\n",
              "        }\n",
              "      </script>\n",
              "    </div>\n",
              "  </div>\n",
              "  "
            ]
          },
          "metadata": {},
          "execution_count": 62
        }
      ]
    },
    {
      "cell_type": "markdown",
      "source": [
        "### Calculate the Natural Direct Effect using the ATU formula"
      ],
      "metadata": {
        "id": "xXIpsBenvcca"
      }
    },
    {
      "cell_type": "code",
      "source": [
        "tau_hat_XGSH, std_hat_XGSH = att_aiptw(**data_and_nuisance_estimates_XGSH)\n",
        "print(f\"The estimate is {tau_hat_XGSH} pm {1.96*std_hat_XGSH}\")"
      ],
      "metadata": {
        "colab": {
          "base_uri": "https://localhost:8080/"
        },
        "outputId": "f10b560b-9b22-40e1-b30b-5cbc4b6d69a8",
        "id": "FEy11J07vcca"
      },
      "execution_count": null,
      "outputs": [
        {
          "output_type": "stream",
          "name": "stdout",
          "text": [
            "The estimate is -2.927115250206647 pm 1.9565777681092262\n"
          ]
        }
      ]
    },
    {
      "cell_type": "markdown",
      "source": [
        "# Natural Direct Effect with Study Habits as the mediator"
      ],
      "metadata": {
        "id": "bNrqufm3ztjM"
      }
    },
    {
      "cell_type": "markdown",
      "source": [
        "## Check Overlap Conditions 0<Pr(A =1 |𝐗 = x, M2 = m2) < 1 using the three models"
      ],
      "metadata": {
        "id": "BHGKPeJ7z3r_"
      }
    },
    {
      "cell_type": "code",
      "source": [
        "#check the overlap conditions using randomForest\n",
        "#get the propensity score function\n",
        "g1_SB = treatment_k_fold_fit_and_predict(make_gmodel_randomForest, X=confounders_with_mediatorStudyHabits, \n",
        "                                      A=treatment, n_splits=10)\n",
        "hist(g1_SB, density=True)"
      ],
      "metadata": {
        "colab": {
          "base_uri": "https://localhost:8080/",
          "height": 372
        },
        "id": "AKHGJ8ufzu-F",
        "outputId": "bb434986-1beb-486f-e87b-99c3c4edca1c"
      },
      "execution_count": null,
      "outputs": [
        {
          "output_type": "execute_result",
          "data": {
            "text/plain": [
              "(array([0.03684575, 0.11053726, 0.33161178, 1.08694973, 1.56594452,\n",
              "        5.84005191, 7.44284219, 2.08178507, 0.60795493, 0.29476603]),\n",
              " array([0.17911342, 0.2306617 , 0.28220998, 0.33375826, 0.38530654,\n",
              "        0.43685482, 0.4884031 , 0.53995138, 0.59149966, 0.64304794,\n",
              "        0.69459622]),\n",
              " <a list of 10 Patch objects>)"
            ]
          },
          "metadata": {},
          "execution_count": 64
        },
        {
          "output_type": "display_data",
          "data": {
            "text/plain": [
              "<Figure size 432x288 with 1 Axes>"
            ],
            "image/png": "[encoded data removed]"
          },
          "metadata": {
            "needs_background": "light"
          }
        }
      ]
    },
    {
      "cell_type": "code",
      "source": [
        "g2_SB = treatment_k_fold_fit_and_predict(make_gmodel_logisticRegression, X=confounders_with_mediatorStudyHabits, \n",
        "                                      A=treatment, n_splits=10)\n",
        "hist(g2_SB, density=True)"
      ],
      "metadata": {
        "colab": {
          "base_uri": "https://localhost:8080/",
          "height": 372
        },
        "id": "EkVIsseLzvEq",
        "outputId": "eae3f52f-4986-462e-dff5-f41cb6a9fae3"
      },
      "execution_count": null,
      "outputs": [
        {
          "output_type": "execute_result",
          "data": {
            "text/plain": [
              "(array([0.02226187, 0.17809497, 0.97952232, 3.04987633, 5.69903897,\n",
              "        6.94570375, 4.18523175, 1.80321155, 0.46749929, 0.11130935]),\n",
              " array([0.26484702, 0.30750595, 0.35016488, 0.39282381, 0.43548274,\n",
              "        0.47814167, 0.5208006 , 0.56345953, 0.60611847, 0.6487774 ,\n",
              "        0.69143633]),\n",
              " <a list of 10 Patch objects>)"
            ]
          },
          "metadata": {},
          "execution_count": 65
        },
        {
          "output_type": "display_data",
          "data": {
            "text/plain": [
              "<Figure size 432x288 with 1 Axes>"
            ],
            "image/png": "[encoded data removed]"
          },
          "metadata": {
            "needs_background": "light"
          }
        }
      ]
    },
    {
      "cell_type": "code",
      "source": [
        "g3_SB = treatment_k_fold_fit_and_predict(make_gmodel_XGBClassifier, X=confounders_with_mediatorStudyHabits, \n",
        "                                      A=treatment, n_splits=10)\n",
        "hist(g3_SB, density=True)"
      ],
      "metadata": {
        "colab": {
          "base_uri": "https://localhost:8080/",
          "height": 372
        },
        "id": "OP0YN2ghzvsa",
        "outputId": "6c9beb8a-36bd-4648-bc8a-009fa26484fa"
      },
      "execution_count": null,
      "outputs": [
        {
          "output_type": "execute_result",
          "data": {
            "text/plain": [
              "(array([0.07726504, 0.19868154, 0.58500676, 0.99340771, 2.64908724,\n",
              "        4.26061531, 1.74398243, 0.67330967, 0.32009804, 0.1214165 ]),\n",
              " array([0.03839169, 0.12442896, 0.21046623, 0.2965035 , 0.38254077,\n",
              "        0.46857803, 0.5546153 , 0.64065257, 0.72668984, 0.8127271 ,\n",
              "        0.89876437]),\n",
              " <a list of 10 Patch objects>)"
            ]
          },
          "metadata": {},
          "execution_count": 66
        },
        {
          "output_type": "display_data",
          "data": {
            "text/plain": [
              "<Figure size 432x288 with 1 Axes>"
            ],
            "image/png": "[encoded data removed]"
          },
          "metadata": {
            "needs_background": "light"
          }
        }
      ]
    },
    {
      "cell_type": "markdown",
      "source": [
        "## Calculate Natural Direct Effect using RandomForest: Using Study Habits as the mediator"
      ],
      "metadata": {
        "id": "9nLcNeCvz_81"
      }
    },
    {
      "cell_type": "markdown",
      "source": [
        "### Calculate Q0 and Q1 model using RandomForest"
      ],
      "metadata": {
        "id": "GsaTtDxg1Ws8"
      }
    },
    {
      "cell_type": "code",
      "source": [
        "Q0_RFSB,Q1_RFSB = outcome_k_fold_fit_and_predict(make_Qmodel_randomForest, \n",
        "                                             X=confounders_with_mediatorStudyHabits, y=outcome, \n",
        "                                             A=treatment, n_splits=10, output_type=\"continuous\")"
      ],
      "metadata": {
        "id": "5IQjKO6m0AHN"
      },
      "execution_count": null,
      "outputs": []
    },
    {
      "cell_type": "markdown",
      "source": [
        "### Combine the Dataset for g, Q0, Q1, A, and Y values"
      ],
      "metadata": {
        "id": "dyqay97i1Kb1"
      }
    },
    {
      "cell_type": "code",
      "source": [
        "data_and_nuisance_estimates_RFSB = pd.DataFrame({'g': g1_SB, 'Q0': Q0_RFSB, 'Q1': Q1_RFSB, 'A': treatment, 'Y': outcome})\n",
        "data_and_nuisance_estimates_RFSB.head()"
      ],
      "metadata": {
        "colab": {
          "base_uri": "https://localhost:8080/",
          "height": 206
        },
        "id": "xS4UGQTp0AQi",
        "outputId": "52cfcbcd-9682-4319-ccdc-52e2b4171a01"
      },
      "execution_count": null,
      "outputs": [
        {
          "output_type": "execute_result",
          "data": {
            "text/plain": [
              "          g         Q0         Q1  A      Y\n",
              "0  0.500123  66.150933  62.072200  1  66.00\n",
              "1  0.266431  74.214466  63.715450  0  80.50\n",
              "2  0.343274  65.062633  65.714166  1  51.00\n",
              "3  0.554137  65.159133  75.497333  0  86.00\n",
              "4  0.462771  70.145234  67.461267  1  73.75"
            ],
            "text/html": [
              "\n",
              "  <div id=\"df-75bb8944-c912-425b-8913-92a6e6792614\">\n",
              "    <div class=\"colab-df-container\">\n",
              "      <div>\n",
              "<style scoped>\n",
              "    .dataframe tbody tr th:only-of-type {\n",
              "        vertical-align: middle;\n",
              "    }\n",
              "\n",
              "    .dataframe tbody tr th {\n",
              "        vertical-align: top;\n",
              "    }\n",
              "\n",
              "    .dataframe thead th {\n",
              "        text-align: right;\n",
              "    }\n",
              "</style>\n",
              "<table border=\"1\" class=\"dataframe\">\n",
              "  <thead>\n",
              "    <tr style=\"text-align: right;\">\n",
              "      <th></th>\n",
              "      <th>g</th>\n",
              "      <th>Q0</th>\n",
              "      <th>Q1</th>\n",
              "      <th>A</th>\n",
              "      <th>Y</th>\n",
              "    </tr>\n",
              "  </thead>\n",
              "  <tbody>\n",
              "    <tr>\n",
              "      <th>0</th>\n",
              "      <td>0.500123</td>\n",
              "      <td>66.150933</td>\n",
              "      <td>62.072200</td>\n",
              "      <td>1</td>\n",
              "      <td>66.00</td>\n",
              "    </tr>\n",
              "    <tr>\n",
              "      <th>1</th>\n",
              "      <td>0.266431</td>\n",
              "      <td>74.214466</td>\n",
              "      <td>63.715450</td>\n",
              "      <td>0</td>\n",
              "      <td>80.50</td>\n",
              "    </tr>\n",
              "    <tr>\n",
              "      <th>2</th>\n",
              "      <td>0.343274</td>\n",
              "      <td>65.062633</td>\n",
              "      <td>65.714166</td>\n",
              "      <td>1</td>\n",
              "      <td>51.00</td>\n",
              "    </tr>\n",
              "    <tr>\n",
              "      <th>3</th>\n",
              "      <td>0.554137</td>\n",
              "      <td>65.159133</td>\n",
              "      <td>75.497333</td>\n",
              "      <td>0</td>\n",
              "      <td>86.00</td>\n",
              "    </tr>\n",
              "    <tr>\n",
              "      <th>4</th>\n",
              "      <td>0.462771</td>\n",
              "      <td>70.145234</td>\n",
              "      <td>67.461267</td>\n",
              "      <td>1</td>\n",
              "      <td>73.75</td>\n",
              "    </tr>\n",
              "  </tbody>\n",
              "</table>\n",
              "</div>\n",
              "      <button class=\"colab-df-convert\" onclick=\"convertToInteractive('df-75bb8944-c912-425b-8913-92a6e6792614')\"\n",
              "              title=\"Convert this dataframe to an interactive table.\"\n",
              "              style=\"display:none;\">\n",
              "        \n",
              "  <svg xmlns=\"http://www.w3.org/2000/svg\" height=\"24px\"viewBox=\"0 0 24 24\"\n",
              "       width=\"24px\">\n",
              "    <path d=\"M0 0h24v24H0V0z\" fill=\"none\"/>\n",
              "    <path d=\"M18.56 5.44l.94 2.06.94-2.06 2.06-.94-2.06-.94-.94-2.06-.94 2.06-2.06.94zm-11 1L8.5 8.5l.94-2.06 2.06-.94-2.06-.94L8.5 2.5l-.94 2.06-2.06.94zm10 10l.94 2.06.94-2.06 2.06-.94-2.06-.94-.94-2.06-.94 2.06-2.06.94z\"/><path d=\"M17.41 7.96l-1.37-1.37c-.4-.4-.92-.59-1.43-.59-.52 0-1.04.2-1.43.59L10.3 9.45l-7.72 7.72c-.78.78-.78 2.05 0 2.83L4 21.41c.39.39.9.59 1.41.59.51 0 1.02-.2 1.41-.59l7.78-7.78 2.81-2.81c.8-.78.8-2.07 0-2.86zM5.41 20L4 18.59l7.72-7.72 1.47 1.35L5.41 20z\"/>\n",
              "  </svg>\n",
              "      </button>\n",
              "      \n",
              "  <style>\n",
              "    .colab-df-container {\n",
              "      display:flex;\n",
              "      flex-wrap:wrap;\n",
              "      gap: 12px;\n",
              "    }\n",
              "\n",
              "    .colab-df-convert {\n",
              "      background-color: #E8F0FE;\n",
              "      border: none;\n",
              "      border-radius: 50%;\n",
              "      cursor: pointer;\n",
              "      display: none;\n",
              "      fill: #1967D2;\n",
              "      height: 32px;\n",
              "      padding: 0 0 0 0;\n",
              "      width: 32px;\n",
              "    }\n",
              "\n",
              "    .colab-df-convert:hover {\n",
              "      background-color: #E2EBFA;\n",
              "      box-shadow: 0px 1px 2px rgba(60, 64, 67, 0.3), 0px 1px 3px 1px rgba(60, 64, 67, 0.15);\n",
              "      fill: #174EA6;\n",
              "    }\n",
              "\n",
              "    [theme=dark] .colab-df-convert {\n",
              "      background-color: #3B4455;\n",
              "      fill: #D2E3FC;\n",
              "    }\n",
              "\n",
              "    [theme=dark] .colab-df-convert:hover {\n",
              "      background-color: #434B5C;\n",
              "      box-shadow: 0px 1px 3px 1px rgba(0, 0, 0, 0.15);\n",
              "      filter: drop-shadow(0px 1px 2px rgba(0, 0, 0, 0.3));\n",
              "      fill: #FFFFFF;\n",
              "    }\n",
              "  </style>\n",
              "\n",
              "      <script>\n",
              "        const buttonEl =\n",
              "          document.querySelector('#df-75bb8944-c912-425b-8913-92a6e6792614 button.colab-df-convert');\n",
              "        buttonEl.style.display =\n",
              "          google.colab.kernel.accessAllowed ? 'block' : 'none';\n",
              "\n",
              "        async function convertToInteractive(key) {\n",
              "          const element = document.querySelector('#df-75bb8944-c912-425b-8913-92a6e6792614');\n",
              "          const dataTable =\n",
              "            await google.colab.kernel.invokeFunction('convertToInteractive',\n",
              "                                                     [key], {});\n",
              "          if (!dataTable) return;\n",
              "\n",
              "          const docLinkHtml = 'Like what you see? Visit the ' +\n",
              "            '<a target=\"_blank\" href=https://colab.research.google.com/notebooks/data_table.ipynb>data table notebook</a>'\n",
              "            + ' to learn more about interactive tables.';\n",
              "          element.innerHTML = '';\n",
              "          dataTable['output_type'] = 'display_data';\n",
              "          await google.colab.output.renderOutput(dataTable, element);\n",
              "          const docLink = document.createElement('div');\n",
              "          docLink.innerHTML = docLinkHtml;\n",
              "          element.appendChild(docLink);\n",
              "        }\n",
              "      </script>\n",
              "    </div>\n",
              "  </div>\n",
              "  "
            ]
          },
          "metadata": {},
          "execution_count": 68
        }
      ]
    },
    {
      "cell_type": "markdown",
      "source": [
        "### Calculate the Natural Direct Effect using the ATU formula"
      ],
      "metadata": {
        "id": "rkaOAkob1cCS"
      }
    },
    {
      "cell_type": "code",
      "source": [
        "tau_hat_RFSB, std_hat_RFSB = att_aiptw(**data_and_nuisance_estimates_RFSB)\n",
        "print(f\"The estimate using RandomForest is {tau_hat_RFSB} pm {1.96*std_hat_RFSB}\")"
      ],
      "metadata": {
        "colab": {
          "base_uri": "https://localhost:8080/"
        },
        "id": "eRNjwenD0AY0",
        "outputId": "bb7d6564-e4fe-4b2a-bfa3-f37b7d2e703f"
      },
      "execution_count": null,
      "outputs": [
        {
          "output_type": "stream",
          "name": "stdout",
          "text": [
            "The estimate using RandomForest is -2.5908460215675917 pm 1.6171737477043109\n"
          ]
        }
      ]
    },
    {
      "cell_type": "markdown",
      "source": [
        "## Calculate Natural Direct Effect using LogisticRegression: Using Study Habits as the mediator"
      ],
      "metadata": {
        "id": "9_qcNP9r0Miw"
      }
    },
    {
      "cell_type": "markdown",
      "source": [
        "### Calculate Q0 and Q1 model using Logistic Regression"
      ],
      "metadata": {
        "id": "V08Cvsep1SGJ"
      }
    },
    {
      "cell_type": "code",
      "source": [
        "Q0_LRSB,Q1_LRSB = outcome_k_fold_fit_and_predict(make_Qmodel_linearRegression, \n",
        "                                             X=confounders_with_mediatorStudyHabits, y=outcome, \n",
        "                                             A=treatment, n_splits=10, output_type=\"continuous\")"
      ],
      "metadata": {
        "id": "-PygHOPH0SXZ"
      },
      "execution_count": null,
      "outputs": []
    },
    {
      "cell_type": "markdown",
      "source": [
        "### Combine the Dataset for g, Q0, Q1, A, and Y values"
      ],
      "metadata": {
        "id": "qA08ShfE1Ifv"
      }
    },
    {
      "cell_type": "code",
      "source": [
        "data_and_nuisance_estimates_LRSB = pd.DataFrame({'g': g2_SB, 'Q0': Q0_LRSB, 'Q1': Q1_LRSB, 'A': treatment, 'Y': outcome})\n",
        "data_and_nuisance_estimates_LRSB.head()"
      ],
      "metadata": {
        "colab": {
          "base_uri": "https://localhost:8080/",
          "height": 206
        },
        "id": "3wZhc3fK0SeG",
        "outputId": "0e3dc14c-fc16-4d70-ebbc-b22fc852d008"
      },
      "execution_count": null,
      "outputs": [
        {
          "output_type": "execute_result",
          "data": {
            "text/plain": [
              "          g         Q0         Q1  A      Y\n",
              "0  0.538715  72.583799  70.812289  1  66.00\n",
              "1  0.316658  71.202679  68.928732  0  80.50\n",
              "2  0.529020  70.081987  67.947324  1  51.00\n",
              "3  0.525366  73.869333  71.734670  0  86.00\n",
              "4  0.526407  69.989148  68.083762  1  73.75"
            ],
            "text/html": [
              "\n",
              "  <div id=\"df-7dd5d43a-a6a8-4104-adf2-f6b516dd4258\">\n",
              "    <div class=\"colab-df-container\">\n",
              "      <div>\n",
              "<style scoped>\n",
              "    .dataframe tbody tr th:only-of-type {\n",
              "        vertical-align: middle;\n",
              "    }\n",
              "\n",
              "    .dataframe tbody tr th {\n",
              "        vertical-align: top;\n",
              "    }\n",
              "\n",
              "    .dataframe thead th {\n",
              "        text-align: right;\n",
              "    }\n",
              "</style>\n",
              "<table border=\"1\" class=\"dataframe\">\n",
              "  <thead>\n",
              "    <tr style=\"text-align: right;\">\n",
              "      <th></th>\n",
              "      <th>g</th>\n",
              "      <th>Q0</th>\n",
              "      <th>Q1</th>\n",
              "      <th>A</th>\n",
              "      <th>Y</th>\n",
              "    </tr>\n",
              "  </thead>\n",
              "  <tbody>\n",
              "    <tr>\n",
              "      <th>0</th>\n",
              "      <td>0.538715</td>\n",
              "      <td>72.583799</td>\n",
              "      <td>70.812289</td>\n",
              "      <td>1</td>\n",
              "      <td>66.00</td>\n",
              "    </tr>\n",
              "    <tr>\n",
              "      <th>1</th>\n",
              "      <td>0.316658</td>\n",
              "      <td>71.202679</td>\n",
              "      <td>68.928732</td>\n",
              "      <td>0</td>\n",
              "      <td>80.50</td>\n",
              "    </tr>\n",
              "    <tr>\n",
              "      <th>2</th>\n",
              "      <td>0.529020</td>\n",
              "      <td>70.081987</td>\n",
              "      <td>67.947324</td>\n",
              "      <td>1</td>\n",
              "      <td>51.00</td>\n",
              "    </tr>\n",
              "    <tr>\n",
              "      <th>3</th>\n",
              "      <td>0.525366</td>\n",
              "      <td>73.869333</td>\n",
              "      <td>71.734670</td>\n",
              "      <td>0</td>\n",
              "      <td>86.00</td>\n",
              "    </tr>\n",
              "    <tr>\n",
              "      <th>4</th>\n",
              "      <td>0.526407</td>\n",
              "      <td>69.989148</td>\n",
              "      <td>68.083762</td>\n",
              "      <td>1</td>\n",
              "      <td>73.75</td>\n",
              "    </tr>\n",
              "  </tbody>\n",
              "</table>\n",
              "</div>\n",
              "      <button class=\"colab-df-convert\" onclick=\"convertToInteractive('df-7dd5d43a-a6a8-4104-adf2-f6b516dd4258')\"\n",
              "              title=\"Convert this dataframe to an interactive table.\"\n",
              "              style=\"display:none;\">\n",
              "        \n",
              "  <svg xmlns=\"http://www.w3.org/2000/svg\" height=\"24px\"viewBox=\"0 0 24 24\"\n",
              "       width=\"24px\">\n",
              "    <path d=\"M0 0h24v24H0V0z\" fill=\"none\"/>\n",
              "    <path d=\"M18.56 5.44l.94 2.06.94-2.06 2.06-.94-2.06-.94-.94-2.06-.94 2.06-2.06.94zm-11 1L8.5 8.5l.94-2.06 2.06-.94-2.06-.94L8.5 2.5l-.94 2.06-2.06.94zm10 10l.94 2.06.94-2.06 2.06-.94-2.06-.94-.94-2.06-.94 2.06-2.06.94z\"/><path d=\"M17.41 7.96l-1.37-1.37c-.4-.4-.92-.59-1.43-.59-.52 0-1.04.2-1.43.59L10.3 9.45l-7.72 7.72c-.78.78-.78 2.05 0 2.83L4 21.41c.39.39.9.59 1.41.59.51 0 1.02-.2 1.41-.59l7.78-7.78 2.81-2.81c.8-.78.8-2.07 0-2.86zM5.41 20L4 18.59l7.72-7.72 1.47 1.35L5.41 20z\"/>\n",
              "  </svg>\n",
              "      </button>\n",
              "      \n",
              "  <style>\n",
              "    .colab-df-container {\n",
              "      display:flex;\n",
              "      flex-wrap:wrap;\n",
              "      gap: 12px;\n",
              "    }\n",
              "\n",
              "    .colab-df-convert {\n",
              "      background-color: #E8F0FE;\n",
              "      border: none;\n",
              "      border-radius: 50%;\n",
              "      cursor: pointer;\n",
              "      display: none;\n",
              "      fill: #1967D2;\n",
              "      height: 32px;\n",
              "      padding: 0 0 0 0;\n",
              "      width: 32px;\n",
              "    }\n",
              "\n",
              "    .colab-df-convert:hover {\n",
              "      background-color: #E2EBFA;\n",
              "      box-shadow: 0px 1px 2px rgba(60, 64, 67, 0.3), 0px 1px 3px 1px rgba(60, 64, 67, 0.15);\n",
              "      fill: #174EA6;\n",
              "    }\n",
              "\n",
              "    [theme=dark] .colab-df-convert {\n",
              "      background-color: #3B4455;\n",
              "      fill: #D2E3FC;\n",
              "    }\n",
              "\n",
              "    [theme=dark] .colab-df-convert:hover {\n",
              "      background-color: #434B5C;\n",
              "      box-shadow: 0px 1px 3px 1px rgba(0, 0, 0, 0.15);\n",
              "      filter: drop-shadow(0px 1px 2px rgba(0, 0, 0, 0.3));\n",
              "      fill: #FFFFFF;\n",
              "    }\n",
              "  </style>\n",
              "\n",
              "      <script>\n",
              "        const buttonEl =\n",
              "          document.querySelector('#df-7dd5d43a-a6a8-4104-adf2-f6b516dd4258 button.colab-df-convert');\n",
              "        buttonEl.style.display =\n",
              "          google.colab.kernel.accessAllowed ? 'block' : 'none';\n",
              "\n",
              "        async function convertToInteractive(key) {\n",
              "          const element = document.querySelector('#df-7dd5d43a-a6a8-4104-adf2-f6b516dd4258');\n",
              "          const dataTable =\n",
              "            await google.colab.kernel.invokeFunction('convertToInteractive',\n",
              "                                                     [key], {});\n",
              "          if (!dataTable) return;\n",
              "\n",
              "          const docLinkHtml = 'Like what you see? Visit the ' +\n",
              "            '<a target=\"_blank\" href=https://colab.research.google.com/notebooks/data_table.ipynb>data table notebook</a>'\n",
              "            + ' to learn more about interactive tables.';\n",
              "          element.innerHTML = '';\n",
              "          dataTable['output_type'] = 'display_data';\n",
              "          await google.colab.output.renderOutput(dataTable, element);\n",
              "          const docLink = document.createElement('div');\n",
              "          docLink.innerHTML = docLinkHtml;\n",
              "          element.appendChild(docLink);\n",
              "        }\n",
              "      </script>\n",
              "    </div>\n",
              "  </div>\n",
              "  "
            ]
          },
          "metadata": {},
          "execution_count": 71
        }
      ]
    },
    {
      "cell_type": "markdown",
      "source": [
        "### Calculate the Natural Direct Effect using the ATU formula"
      ],
      "metadata": {
        "id": "W0g50BEq1dnq"
      }
    },
    {
      "cell_type": "code",
      "source": [
        "tau_hat_LRSB, std_hat_LRSB = att_aiptw(**data_and_nuisance_estimates_LRSB)\n",
        "print(f\"The estimate using LogisticRegression is {tau_hat_LRSB} pm {1.96*std_hat_LRSB}\")"
      ],
      "metadata": {
        "colab": {
          "base_uri": "https://localhost:8080/"
        },
        "id": "ePIUW3th0Smx",
        "outputId": "9e7d294d-7c88-47fb-d2da-8f6871727236"
      },
      "execution_count": null,
      "outputs": [
        {
          "output_type": "stream",
          "name": "stdout",
          "text": [
            "The estimate using LogisticRegression is -2.0192248304466696 pm 1.4625396821624506\n"
          ]
        }
      ]
    },
    {
      "cell_type": "markdown",
      "source": [
        "## Calculate Natural Direct Effect using XGBoost: Using Study Habits as the mediator"
      ],
      "metadata": {
        "id": "iaseTssk0iMv"
      }
    },
    {
      "cell_type": "markdown",
      "source": [
        "### Calculate Q0 and Q1 model using XGBoost"
      ],
      "metadata": {
        "id": "s3YYLOfD1Prq"
      }
    },
    {
      "cell_type": "code",
      "source": [
        "Q0_XGSB,Q1_XGSB = outcome_k_fold_fit_and_predict(make_Qmodel_XGBoost, \n",
        "                                             X=confounders_with_mediatorStudyHabits, y=outcome, \n",
        "                                             A=treatment, n_splits=10, output_type=\"continuous\")"
      ],
      "metadata": {
        "id": "VggmGQj80iVq"
      },
      "execution_count": null,
      "outputs": []
    },
    {
      "cell_type": "markdown",
      "source": [
        "### Combine the Dataset for g, Q0, Q1, A, and Y values"
      ],
      "metadata": {
        "id": "ivLLPIdt1HIl"
      }
    },
    {
      "cell_type": "code",
      "source": [
        "data_and_nuisance_estimates_XGSB = pd.DataFrame({'g': g3_SB, 'Q0': Q0_XGSB, 'Q1': Q1_XGSB, 'A': treatment, 'Y': outcome})\n",
        "data_and_nuisance_estimates_XGSB.head()"
      ],
      "metadata": {
        "colab": {
          "base_uri": "https://localhost:8080/",
          "height": 206
        },
        "id": "EZXtfvmF0icE",
        "outputId": "099562a7-2d71-476e-b33a-fd661899186b"
      },
      "execution_count": null,
      "outputs": [
        {
          "output_type": "execute_result",
          "data": {
            "text/plain": [
              "          g         Q0         Q1  A      Y\n",
              "0  0.540272  70.324379  69.677727  1  66.00\n",
              "1  0.235503  68.845772  66.447899  0  80.50\n",
              "2  0.057033  64.033539  63.100536  1  51.00\n",
              "3  0.586557  72.397858  71.773628  0  86.00\n",
              "4  0.480623  70.607597  68.406670  1  73.75"
            ],
            "text/html": [
              "\n",
              "  <div id=\"df-d55492e7-2c99-43c2-8c07-709bddb51b79\">\n",
              "    <div class=\"colab-df-container\">\n",
              "      <div>\n",
              "<style scoped>\n",
              "    .dataframe tbody tr th:only-of-type {\n",
              "        vertical-align: middle;\n",
              "    }\n",
              "\n",
              "    .dataframe tbody tr th {\n",
              "        vertical-align: top;\n",
              "    }\n",
              "\n",
              "    .dataframe thead th {\n",
              "        text-align: right;\n",
              "    }\n",
              "</style>\n",
              "<table border=\"1\" class=\"dataframe\">\n",
              "  <thead>\n",
              "    <tr style=\"text-align: right;\">\n",
              "      <th></th>\n",
              "      <th>g</th>\n",
              "      <th>Q0</th>\n",
              "      <th>Q1</th>\n",
              "      <th>A</th>\n",
              "      <th>Y</th>\n",
              "    </tr>\n",
              "  </thead>\n",
              "  <tbody>\n",
              "    <tr>\n",
              "      <th>0</th>\n",
              "      <td>0.540272</td>\n",
              "      <td>70.324379</td>\n",
              "      <td>69.677727</td>\n",
              "      <td>1</td>\n",
              "      <td>66.00</td>\n",
              "    </tr>\n",
              "    <tr>\n",
              "      <th>1</th>\n",
              "      <td>0.235503</td>\n",
              "      <td>68.845772</td>\n",
              "      <td>66.447899</td>\n",
              "      <td>0</td>\n",
              "      <td>80.50</td>\n",
              "    </tr>\n",
              "    <tr>\n",
              "      <th>2</th>\n",
              "      <td>0.057033</td>\n",
              "      <td>64.033539</td>\n",
              "      <td>63.100536</td>\n",
              "      <td>1</td>\n",
              "      <td>51.00</td>\n",
              "    </tr>\n",
              "    <tr>\n",
              "      <th>3</th>\n",
              "      <td>0.586557</td>\n",
              "      <td>72.397858</td>\n",
              "      <td>71.773628</td>\n",
              "      <td>0</td>\n",
              "      <td>86.00</td>\n",
              "    </tr>\n",
              "    <tr>\n",
              "      <th>4</th>\n",
              "      <td>0.480623</td>\n",
              "      <td>70.607597</td>\n",
              "      <td>68.406670</td>\n",
              "      <td>1</td>\n",
              "      <td>73.75</td>\n",
              "    </tr>\n",
              "  </tbody>\n",
              "</table>\n",
              "</div>\n",
              "      <button class=\"colab-df-convert\" onclick=\"convertToInteractive('df-d55492e7-2c99-43c2-8c07-709bddb51b79')\"\n",
              "              title=\"Convert this dataframe to an interactive table.\"\n",
              "              style=\"display:none;\">\n",
              "        \n",
              "  <svg xmlns=\"http://www.w3.org/2000/svg\" height=\"24px\"viewBox=\"0 0 24 24\"\n",
              "       width=\"24px\">\n",
              "    <path d=\"M0 0h24v24H0V0z\" fill=\"none\"/>\n",
              "    <path d=\"M18.56 5.44l.94 2.06.94-2.06 2.06-.94-2.06-.94-.94-2.06-.94 2.06-2.06.94zm-11 1L8.5 8.5l.94-2.06 2.06-.94-2.06-.94L8.5 2.5l-.94 2.06-2.06.94zm10 10l.94 2.06.94-2.06 2.06-.94-2.06-.94-.94-2.06-.94 2.06-2.06.94z\"/><path d=\"M17.41 7.96l-1.37-1.37c-.4-.4-.92-.59-1.43-.59-.52 0-1.04.2-1.43.59L10.3 9.45l-7.72 7.72c-.78.78-.78 2.05 0 2.83L4 21.41c.39.39.9.59 1.41.59.51 0 1.02-.2 1.41-.59l7.78-7.78 2.81-2.81c.8-.78.8-2.07 0-2.86zM5.41 20L4 18.59l7.72-7.72 1.47 1.35L5.41 20z\"/>\n",
              "  </svg>\n",
              "      </button>\n",
              "      \n",
              "  <style>\n",
              "    .colab-df-container {\n",
              "      display:flex;\n",
              "      flex-wrap:wrap;\n",
              "      gap: 12px;\n",
              "    }\n",
              "\n",
              "    .colab-df-convert {\n",
              "      background-color: #E8F0FE;\n",
              "      border: none;\n",
              "      border-radius: 50%;\n",
              "      cursor: pointer;\n",
              "      display: none;\n",
              "      fill: #1967D2;\n",
              "      height: 32px;\n",
              "      padding: 0 0 0 0;\n",
              "      width: 32px;\n",
              "    }\n",
              "\n",
              "    .colab-df-convert:hover {\n",
              "      background-color: #E2EBFA;\n",
              "      box-shadow: 0px 1px 2px rgba(60, 64, 67, 0.3), 0px 1px 3px 1px rgba(60, 64, 67, 0.15);\n",
              "      fill: #174EA6;\n",
              "    }\n",
              "\n",
              "    [theme=dark] .colab-df-convert {\n",
              "      background-color: #3B4455;\n",
              "      fill: #D2E3FC;\n",
              "    }\n",
              "\n",
              "    [theme=dark] .colab-df-convert:hover {\n",
              "      background-color: #434B5C;\n",
              "      box-shadow: 0px 1px 3px 1px rgba(0, 0, 0, 0.15);\n",
              "      filter: drop-shadow(0px 1px 2px rgba(0, 0, 0, 0.3));\n",
              "      fill: #FFFFFF;\n",
              "    }\n",
              "  </style>\n",
              "\n",
              "      <script>\n",
              "        const buttonEl =\n",
              "          document.querySelector('#df-d55492e7-2c99-43c2-8c07-709bddb51b79 button.colab-df-convert');\n",
              "        buttonEl.style.display =\n",
              "          google.colab.kernel.accessAllowed ? 'block' : 'none';\n",
              "\n",
              "        async function convertToInteractive(key) {\n",
              "          const element = document.querySelector('#df-d55492e7-2c99-43c2-8c07-709bddb51b79');\n",
              "          const dataTable =\n",
              "            await google.colab.kernel.invokeFunction('convertToInteractive',\n",
              "                                                     [key], {});\n",
              "          if (!dataTable) return;\n",
              "\n",
              "          const docLinkHtml = 'Like what you see? Visit the ' +\n",
              "            '<a target=\"_blank\" href=https://colab.research.google.com/notebooks/data_table.ipynb>data table notebook</a>'\n",
              "            + ' to learn more about interactive tables.';\n",
              "          element.innerHTML = '';\n",
              "          dataTable['output_type'] = 'display_data';\n",
              "          await google.colab.output.renderOutput(dataTable, element);\n",
              "          const docLink = document.createElement('div');\n",
              "          docLink.innerHTML = docLinkHtml;\n",
              "          element.appendChild(docLink);\n",
              "        }\n",
              "      </script>\n",
              "    </div>\n",
              "  </div>\n",
              "  "
            ]
          },
          "metadata": {},
          "execution_count": 74
        }
      ]
    },
    {
      "cell_type": "markdown",
      "source": [
        "### Calculate the Natural Direct Effect using the ATU formula"
      ],
      "metadata": {
        "id": "Lp5gKOQI1fb7"
      }
    },
    {
      "cell_type": "code",
      "source": [
        "tau_hat_XGSB, std_hat_XGSB = att_aiptw(**data_and_nuisance_estimates_XGSB)\n",
        "print(f\"The estimate using XGBoost is {tau_hat_XGSB} pm {1.96*std_hat_XGSB}\")"
      ],
      "metadata": {
        "colab": {
          "base_uri": "https://localhost:8080/"
        },
        "id": "DIufAB540ili",
        "outputId": "6b22301a-36b0-4b83-9977-4a72b5c2025e"
      },
      "execution_count": null,
      "outputs": [
        {
          "output_type": "stream",
          "name": "stdout",
          "text": [
            "The estimate using XGBoost is -3.354606172287593 pm 1.993589478959646\n"
          ]
        }
      ]
    },
    {
      "cell_type": "markdown",
      "source": [
        "# Estimate the Total Effect using ATE"
      ],
      "metadata": {
        "id": "fkKquN-J2SuD"
      }
    },
    {
      "cell_type": "code",
      "source": [
        "#check the overlap conditions using randomForest\n",
        "#get the propensity score function\n",
        "g1_TE = treatment_k_fold_fit_and_predict(make_gmodel_randomForest, X=confounders_without_Mediator, \n",
        "                                      A=treatment, n_splits=10)\n",
        "hist(g1_TE, density=True)"
      ],
      "metadata": {
        "colab": {
          "base_uri": "https://localhost:8080/",
          "height": 372
        },
        "id": "469lxIHy4-e-",
        "outputId": "e50eac35-4ab7-4441-8498-4e52ce695e1b"
      },
      "execution_count": null,
      "outputs": [
        {
          "output_type": "execute_result",
          "data": {
            "text/plain": [
              "(array([0.12961852, 0.1008144 , 0.38885556, 1.03694816, 3.57171033,\n",
              "        5.48718402, 3.57171033, 0.47526791, 0.36005145, 0.04320617]),\n",
              " array([0.1371038 , 0.20304352, 0.26898324, 0.33492295, 0.40086267,\n",
              "        0.46680239, 0.53274211, 0.59868182, 0.66462154, 0.73056126,\n",
              "        0.79650097]),\n",
              " <a list of 10 Patch objects>)"
            ]
          },
          "metadata": {},
          "execution_count": 76
        },
        {
          "output_type": "display_data",
          "data": {
            "text/plain": [
              "<Figure size 432x288 with 1 Axes>"
            ],
            "image/png": "[encoded data removed]"
          },
          "metadata": {
            "needs_background": "light"
          }
        }
      ]
    },
    {
      "cell_type": "code",
      "source": [
        "g2_TE = treatment_k_fold_fit_and_predict(make_gmodel_logisticRegression, X=confounders_without_Mediator, \n",
        "                                      A=treatment, n_splits=10)\n",
        "hist(g2_TE, density=True)"
      ],
      "metadata": {
        "colab": {
          "base_uri": "https://localhost:8080/",
          "height": 372
        },
        "id": "__lXH6BF5Nvc",
        "outputId": "2a6903e9-0a9f-45d8-8b03-75e03c186720"
      },
      "execution_count": null,
      "outputs": [
        {
          "output_type": "execute_result",
          "data": {
            "text/plain": [
              "(array([ 0.43207328,  0.56169527,  4.36394014,  5.44412334,  3.62941556,\n",
              "         6.65392853, 17.02368728,  5.66015998,  1.55546381,  0.17282931]),\n",
              " array([0.36608062, 0.38805994, 0.41003926, 0.43201858, 0.4539979 ,\n",
              "        0.47597721, 0.49795653, 0.51993585, 0.54191517, 0.56389449,\n",
              "        0.58587381]),\n",
              " <a list of 10 Patch objects>)"
            ]
          },
          "metadata": {},
          "execution_count": 77
        },
        {
          "output_type": "display_data",
          "data": {
            "text/plain": [
              "<Figure size 432x288 with 1 Axes>"
            ],
            "image/png": "[encoded data removed]"
          },
          "metadata": {
            "needs_background": "light"
          }
        }
      ]
    },
    {
      "cell_type": "code",
      "source": [
        "g3_TE = treatment_k_fold_fit_and_predict(make_gmodel_XGBClassifier, X=confounders_without_Mediator, \n",
        "                                      A=treatment, n_splits=10)\n",
        "hist(g3_TE, density=True)"
      ],
      "metadata": {
        "colab": {
          "base_uri": "https://localhost:8080/",
          "height": 376
        },
        "id": "vSV9vGil5N7j",
        "outputId": "80285ca3-9b8b-45cb-8061-5c1b618e3311"
      },
      "execution_count": null,
      "outputs": [
        {
          "output_type": "execute_result",
          "data": {
            "text/plain": [
              "(array([0.05351569, 0.13378922, 0.44150441, 1.7392598 , 4.77627499,\n",
              "        4.25449705, 1.72588088, 0.52177794, 0.32109412, 0.12041029]),\n",
              " array([0.12827121, 0.19925358, 0.27023596, 0.34121833, 0.4122007 ,\n",
              "        0.48318308, 0.55416545, 0.62514783, 0.6961302 , 0.76711258,\n",
              "        0.83809495]),\n",
              " <a list of 10 Patch objects>)"
            ]
          },
          "metadata": {},
          "execution_count": 78
        },
        {
          "output_type": "display_data",
          "data": {
            "text/plain": [
              "<Figure size 432x288 with 1 Axes>"
            ],
            "image/png": "[encoded data removed]"
          },
          "metadata": {
            "needs_background": "light"
          }
        }
      ]
    },
    {
      "cell_type": "markdown",
      "source": [
        "### Calculate Total Effect using RandomForest"
      ],
      "metadata": {
        "id": "Q_HJW-J15zq_"
      }
    },
    {
      "cell_type": "code",
      "source": [
        "Q0_RFTE,Q1_RFTE = outcome_k_fold_fit_and_predict(make_Qmodel_randomForest, \n",
        "                                             X=confounders_without_Mediator, y=outcome, \n",
        "                                             A=treatment, n_splits=10, output_type=\"continuous\")"
      ],
      "metadata": {
        "id": "trLbDeNa58Q-"
      },
      "execution_count": null,
      "outputs": []
    },
    {
      "cell_type": "code",
      "source": [
        "data_and_nuisance_estimates_RFTE = pd.DataFrame({'g': g1_TE, 'Q0': Q0_RFTE, 'Q1': Q1_RFTE, 'A': treatment, 'Y': outcome})\n",
        "data_and_nuisance_estimates_RFTE.head()"
      ],
      "metadata": {
        "colab": {
          "base_uri": "https://localhost:8080/",
          "height": 206
        },
        "id": "uoORIJ3258pb",
        "outputId": "709b26e9-c470-4fe9-92ef-833c986748d4"
      },
      "execution_count": null,
      "outputs": [
        {
          "output_type": "execute_result",
          "data": {
            "text/plain": [
              "          g         Q0         Q1  A      Y\n",
              "0  0.438536  72.579543  68.840605  1  66.00\n",
              "1  0.343346  67.703109  64.738599  0  80.50\n",
              "2  0.581339  60.319673  67.761543  1  51.00\n",
              "3  0.551200  71.961191  69.498636  0  86.00\n",
              "4  0.469994  69.500194  69.771343  1  73.75"
            ],
            "text/html": [
              "\n",
              "  <div id=\"df-68385c76-108f-46c2-8358-e20355bb8332\">\n",
              "    <div class=\"colab-df-container\">\n",
              "      <div>\n",
              "<style scoped>\n",
              "    .dataframe tbody tr th:only-of-type {\n",
              "        vertical-align: middle;\n",
              "    }\n",
              "\n",
              "    .dataframe tbody tr th {\n",
              "        vertical-align: top;\n",
              "    }\n",
              "\n",
              "    .dataframe thead th {\n",
              "        text-align: right;\n",
              "    }\n",
              "</style>\n",
              "<table border=\"1\" class=\"dataframe\">\n",
              "  <thead>\n",
              "    <tr style=\"text-align: right;\">\n",
              "      <th></th>\n",
              "      <th>g</th>\n",
              "      <th>Q0</th>\n",
              "      <th>Q1</th>\n",
              "      <th>A</th>\n",
              "      <th>Y</th>\n",
              "    </tr>\n",
              "  </thead>\n",
              "  <tbody>\n",
              "    <tr>\n",
              "      <th>0</th>\n",
              "      <td>0.438536</td>\n",
              "      <td>72.579543</td>\n",
              "      <td>68.840605</td>\n",
              "      <td>1</td>\n",
              "      <td>66.00</td>\n",
              "    </tr>\n",
              "    <tr>\n",
              "      <th>1</th>\n",
              "      <td>0.343346</td>\n",
              "      <td>67.703109</td>\n",
              "      <td>64.738599</td>\n",
              "      <td>0</td>\n",
              "      <td>80.50</td>\n",
              "    </tr>\n",
              "    <tr>\n",
              "      <th>2</th>\n",
              "      <td>0.581339</td>\n",
              "      <td>60.319673</td>\n",
              "      <td>67.761543</td>\n",
              "      <td>1</td>\n",
              "      <td>51.00</td>\n",
              "    </tr>\n",
              "    <tr>\n",
              "      <th>3</th>\n",
              "      <td>0.551200</td>\n",
              "      <td>71.961191</td>\n",
              "      <td>69.498636</td>\n",
              "      <td>0</td>\n",
              "      <td>86.00</td>\n",
              "    </tr>\n",
              "    <tr>\n",
              "      <th>4</th>\n",
              "      <td>0.469994</td>\n",
              "      <td>69.500194</td>\n",
              "      <td>69.771343</td>\n",
              "      <td>1</td>\n",
              "      <td>73.75</td>\n",
              "    </tr>\n",
              "  </tbody>\n",
              "</table>\n",
              "</div>\n",
              "      <button class=\"colab-df-convert\" onclick=\"convertToInteractive('df-68385c76-108f-46c2-8358-e20355bb8332')\"\n",
              "              title=\"Convert this dataframe to an interactive table.\"\n",
              "              style=\"display:none;\">\n",
              "        \n",
              "  <svg xmlns=\"http://www.w3.org/2000/svg\" height=\"24px\"viewBox=\"0 0 24 24\"\n",
              "       width=\"24px\">\n",
              "    <path d=\"M0 0h24v24H0V0z\" fill=\"none\"/>\n",
              "    <path d=\"M18.56 5.44l.94 2.06.94-2.06 2.06-.94-2.06-.94-.94-2.06-.94 2.06-2.06.94zm-11 1L8.5 8.5l.94-2.06 2.06-.94-2.06-.94L8.5 2.5l-.94 2.06-2.06.94zm10 10l.94 2.06.94-2.06 2.06-.94-2.06-.94-.94-2.06-.94 2.06-2.06.94z\"/><path d=\"M17.41 7.96l-1.37-1.37c-.4-.4-.92-.59-1.43-.59-.52 0-1.04.2-1.43.59L10.3 9.45l-7.72 7.72c-.78.78-.78 2.05 0 2.83L4 21.41c.39.39.9.59 1.41.59.51 0 1.02-.2 1.41-.59l7.78-7.78 2.81-2.81c.8-.78.8-2.07 0-2.86zM5.41 20L4 18.59l7.72-7.72 1.47 1.35L5.41 20z\"/>\n",
              "  </svg>\n",
              "      </button>\n",
              "      \n",
              "  <style>\n",
              "    .colab-df-container {\n",
              "      display:flex;\n",
              "      flex-wrap:wrap;\n",
              "      gap: 12px;\n",
              "    }\n",
              "\n",
              "    .colab-df-convert {\n",
              "      background-color: #E8F0FE;\n",
              "      border: none;\n",
              "      border-radius: 50%;\n",
              "      cursor: pointer;\n",
              "      display: none;\n",
              "      fill: #1967D2;\n",
              "      height: 32px;\n",
              "      padding: 0 0 0 0;\n",
              "      width: 32px;\n",
              "    }\n",
              "\n",
              "    .colab-df-convert:hover {\n",
              "      background-color: #E2EBFA;\n",
              "      box-shadow: 0px 1px 2px rgba(60, 64, 67, 0.3), 0px 1px 3px 1px rgba(60, 64, 67, 0.15);\n",
              "      fill: #174EA6;\n",
              "    }\n",
              "\n",
              "    [theme=dark] .colab-df-convert {\n",
              "      background-color: #3B4455;\n",
              "      fill: #D2E3FC;\n",
              "    }\n",
              "\n",
              "    [theme=dark] .colab-df-convert:hover {\n",
              "      background-color: #434B5C;\n",
              "      box-shadow: 0px 1px 3px 1px rgba(0, 0, 0, 0.15);\n",
              "      filter: drop-shadow(0px 1px 2px rgba(0, 0, 0, 0.3));\n",
              "      fill: #FFFFFF;\n",
              "    }\n",
              "  </style>\n",
              "\n",
              "      <script>\n",
              "        const buttonEl =\n",
              "          document.querySelector('#df-68385c76-108f-46c2-8358-e20355bb8332 button.colab-df-convert');\n",
              "        buttonEl.style.display =\n",
              "          google.colab.kernel.accessAllowed ? 'block' : 'none';\n",
              "\n",
              "        async function convertToInteractive(key) {\n",
              "          const element = document.querySelector('#df-68385c76-108f-46c2-8358-e20355bb8332');\n",
              "          const dataTable =\n",
              "            await google.colab.kernel.invokeFunction('convertToInteractive',\n",
              "                                                     [key], {});\n",
              "          if (!dataTable) return;\n",
              "\n",
              "          const docLinkHtml = 'Like what you see? Visit the ' +\n",
              "            '<a target=\"_blank\" href=https://colab.research.google.com/notebooks/data_table.ipynb>data table notebook</a>'\n",
              "            + ' to learn more about interactive tables.';\n",
              "          element.innerHTML = '';\n",
              "          dataTable['output_type'] = 'display_data';\n",
              "          await google.colab.output.renderOutput(dataTable, element);\n",
              "          const docLink = document.createElement('div');\n",
              "          docLink.innerHTML = docLinkHtml;\n",
              "          element.appendChild(docLink);\n",
              "        }\n",
              "      </script>\n",
              "    </div>\n",
              "  </div>\n",
              "  "
            ]
          },
          "metadata": {},
          "execution_count": 80
        }
      ]
    },
    {
      "cell_type": "code",
      "source": [
        "tau_hat_RFTE, std_hat_RFTE = att_aiptw(**data_and_nuisance_estimates_RFTE)\n",
        "print(f\"The estimate using RandomForest is {tau_hat_RFTE} pm {1.96*std_hat_RFTE}\")"
      ],
      "metadata": {
        "colab": {
          "base_uri": "https://localhost:8080/"
        },
        "id": "RRvEOQfl58x4",
        "outputId": "b2c83705-b5ab-461c-de78-2bd6d8f222f5"
      },
      "execution_count": null,
      "outputs": [
        {
          "output_type": "stream",
          "name": "stdout",
          "text": [
            "The estimate using RandomForest is -1.7790772656513485 pm 1.5776206659099865\n"
          ]
        }
      ]
    },
    {
      "cell_type": "markdown",
      "source": [
        "### Calculate Total Effect using Logistic Regression"
      ],
      "metadata": {
        "id": "tys7oUAQ50kW"
      }
    },
    {
      "cell_type": "code",
      "source": [
        "Q0_LRTE,Q1_LRTE = outcome_k_fold_fit_and_predict(make_Qmodel_linearRegression, \n",
        "                                             X=confounders_without_Mediator, y=outcome, \n",
        "                                             A=treatment, n_splits=10, output_type=\"continuous\")"
      ],
      "metadata": {
        "id": "EQtboVhd6cuB"
      },
      "execution_count": null,
      "outputs": []
    },
    {
      "cell_type": "code",
      "source": [
        "data_and_nuisance_estimates_LRTE = pd.DataFrame({'g': g2_TE, 'Q0': Q0_LRTE, 'Q1': Q1_LRTE, 'A': treatment, 'Y': outcome})\n",
        "data_and_nuisance_estimates_LRTE.head()"
      ],
      "metadata": {
        "colab": {
          "base_uri": "https://localhost:8080/",
          "height": 206
        },
        "id": "1r-jXEPN6i9t",
        "outputId": "0acd500d-675c-4992-a0c9-c332e965ddbf"
      },
      "execution_count": null,
      "outputs": [
        {
          "output_type": "execute_result",
          "data": {
            "text/plain": [
              "          g         Q0         Q1  A      Y\n",
              "0  0.508915  70.716623  68.827844  1  66.00\n",
              "1  0.426388  68.513316  66.139839  0  80.50\n",
              "2  0.549834  72.131155  69.763695  1  51.00\n",
              "3  0.513280  72.229304  69.861845  0  86.00\n",
              "4  0.528771  72.567820  70.505118  1  73.75"
            ],
            "text/html": [
              "\n",
              "  <div id=\"df-b34fb5c1-5e42-4314-814f-05ca98a0db27\">\n",
              "    <div class=\"colab-df-container\">\n",
              "      <div>\n",
              "<style scoped>\n",
              "    .dataframe tbody tr th:only-of-type {\n",
              "        vertical-align: middle;\n",
              "    }\n",
              "\n",
              "    .dataframe tbody tr th {\n",
              "        vertical-align: top;\n",
              "    }\n",
              "\n",
              "    .dataframe thead th {\n",
              "        text-align: right;\n",
              "    }\n",
              "</style>\n",
              "<table border=\"1\" class=\"dataframe\">\n",
              "  <thead>\n",
              "    <tr style=\"text-align: right;\">\n",
              "      <th></th>\n",
              "      <th>g</th>\n",
              "      <th>Q0</th>\n",
              "      <th>Q1</th>\n",
              "      <th>A</th>\n",
              "      <th>Y</th>\n",
              "    </tr>\n",
              "  </thead>\n",
              "  <tbody>\n",
              "    <tr>\n",
              "      <th>0</th>\n",
              "      <td>0.508915</td>\n",
              "      <td>70.716623</td>\n",
              "      <td>68.827844</td>\n",
              "      <td>1</td>\n",
              "      <td>66.00</td>\n",
              "    </tr>\n",
              "    <tr>\n",
              "      <th>1</th>\n",
              "      <td>0.426388</td>\n",
              "      <td>68.513316</td>\n",
              "      <td>66.139839</td>\n",
              "      <td>0</td>\n",
              "      <td>80.50</td>\n",
              "    </tr>\n",
              "    <tr>\n",
              "      <th>2</th>\n",
              "      <td>0.549834</td>\n",
              "      <td>72.131155</td>\n",
              "      <td>69.763695</td>\n",
              "      <td>1</td>\n",
              "      <td>51.00</td>\n",
              "    </tr>\n",
              "    <tr>\n",
              "      <th>3</th>\n",
              "      <td>0.513280</td>\n",
              "      <td>72.229304</td>\n",
              "      <td>69.861845</td>\n",
              "      <td>0</td>\n",
              "      <td>86.00</td>\n",
              "    </tr>\n",
              "    <tr>\n",
              "      <th>4</th>\n",
              "      <td>0.528771</td>\n",
              "      <td>72.567820</td>\n",
              "      <td>70.505118</td>\n",
              "      <td>1</td>\n",
              "      <td>73.75</td>\n",
              "    </tr>\n",
              "  </tbody>\n",
              "</table>\n",
              "</div>\n",
              "      <button class=\"colab-df-convert\" onclick=\"convertToInteractive('df-b34fb5c1-5e42-4314-814f-05ca98a0db27')\"\n",
              "              title=\"Convert this dataframe to an interactive table.\"\n",
              "              style=\"display:none;\">\n",
              "        \n",
              "  <svg xmlns=\"http://www.w3.org/2000/svg\" height=\"24px\"viewBox=\"0 0 24 24\"\n",
              "       width=\"24px\">\n",
              "    <path d=\"M0 0h24v24H0V0z\" fill=\"none\"/>\n",
              "    <path d=\"M18.56 5.44l.94 2.06.94-2.06 2.06-.94-2.06-.94-.94-2.06-.94 2.06-2.06.94zm-11 1L8.5 8.5l.94-2.06 2.06-.94-2.06-.94L8.5 2.5l-.94 2.06-2.06.94zm10 10l.94 2.06.94-2.06 2.06-.94-2.06-.94-.94-2.06-.94 2.06-2.06.94z\"/><path d=\"M17.41 7.96l-1.37-1.37c-.4-.4-.92-.59-1.43-.59-.52 0-1.04.2-1.43.59L10.3 9.45l-7.72 7.72c-.78.78-.78 2.05 0 2.83L4 21.41c.39.39.9.59 1.41.59.51 0 1.02-.2 1.41-.59l7.78-7.78 2.81-2.81c.8-.78.8-2.07 0-2.86zM5.41 20L4 18.59l7.72-7.72 1.47 1.35L5.41 20z\"/>\n",
              "  </svg>\n",
              "      </button>\n",
              "      \n",
              "  <style>\n",
              "    .colab-df-container {\n",
              "      display:flex;\n",
              "      flex-wrap:wrap;\n",
              "      gap: 12px;\n",
              "    }\n",
              "\n",
              "    .colab-df-convert {\n",
              "      background-color: #E8F0FE;\n",
              "      border: none;\n",
              "      border-radius: 50%;\n",
              "      cursor: pointer;\n",
              "      display: none;\n",
              "      fill: #1967D2;\n",
              "      height: 32px;\n",
              "      padding: 0 0 0 0;\n",
              "      width: 32px;\n",
              "    }\n",
              "\n",
              "    .colab-df-convert:hover {\n",
              "      background-color: #E2EBFA;\n",
              "      box-shadow: 0px 1px 2px rgba(60, 64, 67, 0.3), 0px 1px 3px 1px rgba(60, 64, 67, 0.15);\n",
              "      fill: #174EA6;\n",
              "    }\n",
              "\n",
              "    [theme=dark] .colab-df-convert {\n",
              "      background-color: #3B4455;\n",
              "      fill: #D2E3FC;\n",
              "    }\n",
              "\n",
              "    [theme=dark] .colab-df-convert:hover {\n",
              "      background-color: #434B5C;\n",
              "      box-shadow: 0px 1px 3px 1px rgba(0, 0, 0, 0.15);\n",
              "      filter: drop-shadow(0px 1px 2px rgba(0, 0, 0, 0.3));\n",
              "      fill: #FFFFFF;\n",
              "    }\n",
              "  </style>\n",
              "\n",
              "      <script>\n",
              "        const buttonEl =\n",
              "          document.querySelector('#df-b34fb5c1-5e42-4314-814f-05ca98a0db27 button.colab-df-convert');\n",
              "        buttonEl.style.display =\n",
              "          google.colab.kernel.accessAllowed ? 'block' : 'none';\n",
              "\n",
              "        async function convertToInteractive(key) {\n",
              "          const element = document.querySelector('#df-b34fb5c1-5e42-4314-814f-05ca98a0db27');\n",
              "          const dataTable =\n",
              "            await google.colab.kernel.invokeFunction('convertToInteractive',\n",
              "                                                     [key], {});\n",
              "          if (!dataTable) return;\n",
              "\n",
              "          const docLinkHtml = 'Like what you see? Visit the ' +\n",
              "            '<a target=\"_blank\" href=https://colab.research.google.com/notebooks/data_table.ipynb>data table notebook</a>'\n",
              "            + ' to learn more about interactive tables.';\n",
              "          element.innerHTML = '';\n",
              "          dataTable['output_type'] = 'display_data';\n",
              "          await google.colab.output.renderOutput(dataTable, element);\n",
              "          const docLink = document.createElement('div');\n",
              "          docLink.innerHTML = docLinkHtml;\n",
              "          element.appendChild(docLink);\n",
              "        }\n",
              "      </script>\n",
              "    </div>\n",
              "  </div>\n",
              "  "
            ]
          },
          "metadata": {},
          "execution_count": 83
        }
      ]
    },
    {
      "cell_type": "code",
      "source": [
        "tau_hat_LRTE, std_hat_LRTE = att_aiptw(**data_and_nuisance_estimates_LRTE)\n",
        "print(f\"The estimate using Logistic Regression is {tau_hat_LRTE} pm {1.96*std_hat_LRTE}\")"
      ],
      "metadata": {
        "colab": {
          "base_uri": "https://localhost:8080/"
        },
        "id": "f-65NIKL6ot4",
        "outputId": "78fb3e4e-78dd-4dca-958e-5e53801e62cb"
      },
      "execution_count": null,
      "outputs": [
        {
          "output_type": "stream",
          "name": "stdout",
          "text": [
            "The estimate using Logistic Regression is -2.1223541374303023 pm 1.4645467188074133\n"
          ]
        }
      ]
    },
    {
      "cell_type": "markdown",
      "source": [
        "### Calculate Total Effect using XGBoost"
      ],
      "metadata": {
        "id": "QMEDx8iq3cBJ"
      }
    },
    {
      "cell_type": "code",
      "source": [
        "Q0_XGTE,Q1_XGTE = outcome_k_fold_fit_and_predict(make_Qmodel_XGBoost, \n",
        "                                             X=confounders_without_Mediator, y=outcome, \n",
        "                                             A=treatment, n_splits=10, output_type=\"continuous\")"
      ],
      "metadata": {
        "id": "AmPYr52T3ZH0"
      },
      "execution_count": null,
      "outputs": []
    },
    {
      "cell_type": "code",
      "source": [
        "data_and_nuisance_estimates_XGTE = pd.DataFrame({'g': g3_TE, 'Q0': Q0_XGTE, 'Q1': Q1_XGTE, 'A': treatment, 'Y': outcome})\n",
        "data_and_nuisance_estimates_XGTE.head()"
      ],
      "metadata": {
        "colab": {
          "base_uri": "https://localhost:8080/",
          "height": 206
        },
        "id": "55loX07Z3qJV",
        "outputId": "0002dd98-1914-467e-a5fb-a28111d98921"
      },
      "execution_count": null,
      "outputs": [
        {
          "output_type": "execute_result",
          "data": {
            "text/plain": [
              "          g         Q0         Q1  A      Y\n",
              "0  0.469214  70.609489  69.098419  1  66.00\n",
              "1  0.318217  68.393028  65.903877  0  80.50\n",
              "2  0.655463  65.565598  70.034653  1  51.00\n",
              "3  0.555799  72.044601  70.039925  0  86.00\n",
              "4  0.453036  70.281975  69.515648  1  73.75"
            ],
            "text/html": [
              "\n",
              "  <div id=\"df-6acd07e7-04f0-4f11-8081-ba67b023f4df\">\n",
              "    <div class=\"colab-df-container\">\n",
              "      <div>\n",
              "<style scoped>\n",
              "    .dataframe tbody tr th:only-of-type {\n",
              "        vertical-align: middle;\n",
              "    }\n",
              "\n",
              "    .dataframe tbody tr th {\n",
              "        vertical-align: top;\n",
              "    }\n",
              "\n",
              "    .dataframe thead th {\n",
              "        text-align: right;\n",
              "    }\n",
              "</style>\n",
              "<table border=\"1\" class=\"dataframe\">\n",
              "  <thead>\n",
              "    <tr style=\"text-align: right;\">\n",
              "      <th></th>\n",
              "      <th>g</th>\n",
              "      <th>Q0</th>\n",
              "      <th>Q1</th>\n",
              "      <th>A</th>\n",
              "      <th>Y</th>\n",
              "    </tr>\n",
              "  </thead>\n",
              "  <tbody>\n",
              "    <tr>\n",
              "      <th>0</th>\n",
              "      <td>0.469214</td>\n",
              "      <td>70.609489</td>\n",
              "      <td>69.098419</td>\n",
              "      <td>1</td>\n",
              "      <td>66.00</td>\n",
              "    </tr>\n",
              "    <tr>\n",
              "      <th>1</th>\n",
              "      <td>0.318217</td>\n",
              "      <td>68.393028</td>\n",
              "      <td>65.903877</td>\n",
              "      <td>0</td>\n",
              "      <td>80.50</td>\n",
              "    </tr>\n",
              "    <tr>\n",
              "      <th>2</th>\n",
              "      <td>0.655463</td>\n",
              "      <td>65.565598</td>\n",
              "      <td>70.034653</td>\n",
              "      <td>1</td>\n",
              "      <td>51.00</td>\n",
              "    </tr>\n",
              "    <tr>\n",
              "      <th>3</th>\n",
              "      <td>0.555799</td>\n",
              "      <td>72.044601</td>\n",
              "      <td>70.039925</td>\n",
              "      <td>0</td>\n",
              "      <td>86.00</td>\n",
              "    </tr>\n",
              "    <tr>\n",
              "      <th>4</th>\n",
              "      <td>0.453036</td>\n",
              "      <td>70.281975</td>\n",
              "      <td>69.515648</td>\n",
              "      <td>1</td>\n",
              "      <td>73.75</td>\n",
              "    </tr>\n",
              "  </tbody>\n",
              "</table>\n",
              "</div>\n",
              "      <button class=\"colab-df-convert\" onclick=\"convertToInteractive('df-6acd07e7-04f0-4f11-8081-ba67b023f4df')\"\n",
              "              title=\"Convert this dataframe to an interactive table.\"\n",
              "              style=\"display:none;\">\n",
              "        \n",
              "  <svg xmlns=\"http://www.w3.org/2000/svg\" height=\"24px\"viewBox=\"0 0 24 24\"\n",
              "       width=\"24px\">\n",
              "    <path d=\"M0 0h24v24H0V0z\" fill=\"none\"/>\n",
              "    <path d=\"M18.56 5.44l.94 2.06.94-2.06 2.06-.94-2.06-.94-.94-2.06-.94 2.06-2.06.94zm-11 1L8.5 8.5l.94-2.06 2.06-.94-2.06-.94L8.5 2.5l-.94 2.06-2.06.94zm10 10l.94 2.06.94-2.06 2.06-.94-2.06-.94-.94-2.06-.94 2.06-2.06.94z\"/><path d=\"M17.41 7.96l-1.37-1.37c-.4-.4-.92-.59-1.43-.59-.52 0-1.04.2-1.43.59L10.3 9.45l-7.72 7.72c-.78.78-.78 2.05 0 2.83L4 21.41c.39.39.9.59 1.41.59.51 0 1.02-.2 1.41-.59l7.78-7.78 2.81-2.81c.8-.78.8-2.07 0-2.86zM5.41 20L4 18.59l7.72-7.72 1.47 1.35L5.41 20z\"/>\n",
              "  </svg>\n",
              "      </button>\n",
              "      \n",
              "  <style>\n",
              "    .colab-df-container {\n",
              "      display:flex;\n",
              "      flex-wrap:wrap;\n",
              "      gap: 12px;\n",
              "    }\n",
              "\n",
              "    .colab-df-convert {\n",
              "      background-color: #E8F0FE;\n",
              "      border: none;\n",
              "      border-radius: 50%;\n",
              "      cursor: pointer;\n",
              "      display: none;\n",
              "      fill: #1967D2;\n",
              "      height: 32px;\n",
              "      padding: 0 0 0 0;\n",
              "      width: 32px;\n",
              "    }\n",
              "\n",
              "    .colab-df-convert:hover {\n",
              "      background-color: #E2EBFA;\n",
              "      box-shadow: 0px 1px 2px rgba(60, 64, 67, 0.3), 0px 1px 3px 1px rgba(60, 64, 67, 0.15);\n",
              "      fill: #174EA6;\n",
              "    }\n",
              "\n",
              "    [theme=dark] .colab-df-convert {\n",
              "      background-color: #3B4455;\n",
              "      fill: #D2E3FC;\n",
              "    }\n",
              "\n",
              "    [theme=dark] .colab-df-convert:hover {\n",
              "      background-color: #434B5C;\n",
              "      box-shadow: 0px 1px 3px 1px rgba(0, 0, 0, 0.15);\n",
              "      filter: drop-shadow(0px 1px 2px rgba(0, 0, 0, 0.3));\n",
              "      fill: #FFFFFF;\n",
              "    }\n",
              "  </style>\n",
              "\n",
              "      <script>\n",
              "        const buttonEl =\n",
              "          document.querySelector('#df-6acd07e7-04f0-4f11-8081-ba67b023f4df button.colab-df-convert');\n",
              "        buttonEl.style.display =\n",
              "          google.colab.kernel.accessAllowed ? 'block' : 'none';\n",
              "\n",
              "        async function convertToInteractive(key) {\n",
              "          const element = document.querySelector('#df-6acd07e7-04f0-4f11-8081-ba67b023f4df');\n",
              "          const dataTable =\n",
              "            await google.colab.kernel.invokeFunction('convertToInteractive',\n",
              "                                                     [key], {});\n",
              "          if (!dataTable) return;\n",
              "\n",
              "          const docLinkHtml = 'Like what you see? Visit the ' +\n",
              "            '<a target=\"_blank\" href=https://colab.research.google.com/notebooks/data_table.ipynb>data table notebook</a>'\n",
              "            + ' to learn more about interactive tables.';\n",
              "          element.innerHTML = '';\n",
              "          dataTable['output_type'] = 'display_data';\n",
              "          await google.colab.output.renderOutput(dataTable, element);\n",
              "          const docLink = document.createElement('div');\n",
              "          docLink.innerHTML = docLinkHtml;\n",
              "          element.appendChild(docLink);\n",
              "        }\n",
              "      </script>\n",
              "    </div>\n",
              "  </div>\n",
              "  "
            ]
          },
          "metadata": {},
          "execution_count": 86
        }
      ]
    },
    {
      "cell_type": "code",
      "source": [
        "tau_hat_XGTE, std_hat_XGTE = att_aiptw(**data_and_nuisance_estimates_XGTE)\n",
        "print(f\"The estimate using XGBoost is {tau_hat_XGTE} pm {1.96*std_hat_XGTE}\")"
      ],
      "metadata": {
        "colab": {
          "base_uri": "https://localhost:8080/"
        },
        "id": "gPCScnwa4wsj",
        "outputId": "280b088f-2166-4726-beb5-96e2de8b2174"
      },
      "execution_count": null,
      "outputs": [
        {
          "output_type": "stream",
          "name": "stdout",
          "text": [
            "The estimate using XGBoost is -1.8219769446077165 pm 1.5872902512960967\n"
          ]
        }
      ]
    },
    {
      "cell_type": "markdown",
      "source": [
        "# Placebo Effect"
      ],
      "metadata": {
        "id": "lehfQOSo7hM4"
      }
    },
    {
      "cell_type": "code",
      "source": [
        "#check the overlap conditions using randomForest\n",
        "#get the propensity score function\n",
        "g1_P = treatment_k_fold_fit_and_predict(make_gmodel_randomForest, X=confounders_without_Mediator, \n",
        "                                      A=placebo, n_splits=10)\n",
        "hist(g1_P, density=True)"
      ],
      "metadata": {
        "colab": {
          "base_uri": "https://localhost:8080/",
          "height": 372
        },
        "outputId": "d30efd23-e956-4881-a4d0-a46690657956",
        "id": "ad68QVVa8cgs"
      },
      "execution_count": null,
      "outputs": [
        {
          "output_type": "execute_result",
          "data": {
            "text/plain": [
              "(array([0.02309415, 0.01154708, 0.03464123, 0.21939447, 1.02768989,\n",
              "        8.41781945, 1.38564929, 0.45033602, 0.53116556, 0.05773539]),\n",
              " array([0.0944689 , 0.17671201, 0.25895513, 0.34119824, 0.42344136,\n",
              "        0.50568447, 0.58792759, 0.6701707 , 0.75241382, 0.83465693,\n",
              "        0.91690005]),\n",
              " <a list of 10 Patch objects>)"
            ]
          },
          "metadata": {},
          "execution_count": 88
        },
        {
          "output_type": "display_data",
          "data": {
            "text/plain": [
              "<Figure size 432x288 with 1 Axes>"
            ],
            "image/png": "[encoded data removed]"
          },
          "metadata": {
            "needs_background": "light"
          }
        }
      ]
    },
    {
      "cell_type": "code",
      "source": [
        "g2_P = treatment_k_fold_fit_and_predict(make_gmodel_logisticRegression, X=confounders_without_Mediator, \n",
        "                                      A=placebo, n_splits=10)\n",
        "hist(g2_P, density=True)"
      ],
      "metadata": {
        "colab": {
          "base_uri": "https://localhost:8080/",
          "height": 372
        },
        "outputId": "b5a61be5-b2dc-4c20-f6ab-68d24767d58f",
        "id": "klrRgxpx8cgt"
      },
      "execution_count": null,
      "outputs": [
        {
          "output_type": "execute_result",
          "data": {
            "text/plain": [
              "(array([ 1.17145342,  5.98057801, 17.94173404, 16.58531428,  2.95946128,\n",
              "         2.34290685,  8.26182942,  4.99409092,  3.20608306,  1.47973064]),\n",
              " array([0.49316377, 0.50856659, 0.52396941, 0.53937223, 0.55477505,\n",
              "        0.57017786, 0.58558068, 0.6009835 , 0.61638632, 0.63178914,\n",
              "        0.64719196]),\n",
              " <a list of 10 Patch objects>)"
            ]
          },
          "metadata": {},
          "execution_count": 89
        },
        {
          "output_type": "display_data",
          "data": {
            "text/plain": [
              "<Figure size 432x288 with 1 Axes>"
            ],
            "image/png": "[encoded data removed]"
          },
          "metadata": {
            "needs_background": "light"
          }
        }
      ]
    },
    {
      "cell_type": "code",
      "source": [
        "g3_P = treatment_k_fold_fit_and_predict(make_gmodel_XGBClassifier, X=confounders_without_Mediator, \n",
        "                                      A=placebo, n_splits=10)\n",
        "hist(g3_P, density=True)"
      ],
      "metadata": {
        "colab": {
          "base_uri": "https://localhost:8080/",
          "height": 372
        },
        "outputId": "46bb270f-bfc6-4bae-9473-b5dccba5047a",
        "id": "FqCy4jSn8cgt"
      },
      "execution_count": null,
      "outputs": [
        {
          "output_type": "execute_result",
          "data": {
            "text/plain": [
              "(array([0.01203172, 0.03609515, 0.19250749, 0.39704669, 1.16707663,\n",
              "        8.0853144 , 1.31145725, 0.84222025, 0.51736387, 0.10828546]),\n",
              " array([0.11759996, 0.1965303 , 0.27546064, 0.35439099, 0.43332133,\n",
              "        0.51225167, 0.59118201, 0.67011236, 0.7490427 , 0.82797304,\n",
              "        0.90690339]),\n",
              " <a list of 10 Patch objects>)"
            ]
          },
          "metadata": {},
          "execution_count": 90
        },
        {
          "output_type": "display_data",
          "data": {
            "text/plain": [
              "<Figure size 432x288 with 1 Axes>"
            ],
            "image/png": "[encoded data removed]"
          },
          "metadata": {
            "needs_background": "light"
          }
        }
      ]
    },
    {
      "cell_type": "markdown",
      "source": [
        "### Calculate Placebo Effect using RandomForest"
      ],
      "metadata": {
        "id": "NVitfEur7wBD"
      }
    },
    {
      "cell_type": "code",
      "source": [
        "Q0_RF_P,Q1_RF_P = outcome_k_fold_fit_and_predict(make_Qmodel_randomForest, \n",
        "                                             X=confounders_without_Mediator, y=outcome, \n",
        "                                             A=placebo, n_splits=10, output_type=\"continuous\")"
      ],
      "metadata": {
        "id": "7adtoWgs7wBE"
      },
      "execution_count": null,
      "outputs": []
    },
    {
      "cell_type": "code",
      "source": [
        "data_and_nuisance_estimates_RF_P = pd.DataFrame({'g': g1_P, 'Q0': Q0_RF_P, 'Q1': Q1_RF_P, 'A': placebo, 'Y': outcome})\n",
        "data_and_nuisance_estimates_RF_P.head()"
      ],
      "metadata": {
        "colab": {
          "base_uri": "https://localhost:8080/",
          "height": 206
        },
        "outputId": "11e5aa8b-e0c3-4551-9238-a33d0a8ab27a",
        "id": "GJyMg1Qx7wBF"
      },
      "execution_count": null,
      "outputs": [
        {
          "output_type": "execute_result",
          "data": {
            "text/plain": [
              "          g         Q0         Q1  A      Y\n",
              "0  0.481598  72.340846  70.939883  1  66.00\n",
              "1  0.646032  58.603514  70.503972  0  80.50\n",
              "2  0.565808  64.468681  66.184606  1  51.00\n",
              "3  0.536289  69.780506  71.255966  1  86.00\n",
              "4  0.557673  69.251195  69.868593  1  73.75"
            ],
            "text/html": [
              "\n",
              "  <div id=\"df-0d6731e4-65e3-4166-8ef3-b57b0fe91655\">\n",
              "    <div class=\"colab-df-container\">\n",
              "      <div>\n",
              "<style scoped>\n",
              "    .dataframe tbody tr th:only-of-type {\n",
              "        vertical-align: middle;\n",
              "    }\n",
              "\n",
              "    .dataframe tbody tr th {\n",
              "        vertical-align: top;\n",
              "    }\n",
              "\n",
              "    .dataframe thead th {\n",
              "        text-align: right;\n",
              "    }\n",
              "</style>\n",
              "<table border=\"1\" class=\"dataframe\">\n",
              "  <thead>\n",
              "    <tr style=\"text-align: right;\">\n",
              "      <th></th>\n",
              "      <th>g</th>\n",
              "      <th>Q0</th>\n",
              "      <th>Q1</th>\n",
              "      <th>A</th>\n",
              "      <th>Y</th>\n",
              "    </tr>\n",
              "  </thead>\n",
              "  <tbody>\n",
              "    <tr>\n",
              "      <th>0</th>\n",
              "      <td>0.481598</td>\n",
              "      <td>72.340846</td>\n",
              "      <td>70.939883</td>\n",
              "      <td>1</td>\n",
              "      <td>66.00</td>\n",
              "    </tr>\n",
              "    <tr>\n",
              "      <th>1</th>\n",
              "      <td>0.646032</td>\n",
              "      <td>58.603514</td>\n",
              "      <td>70.503972</td>\n",
              "      <td>0</td>\n",
              "      <td>80.50</td>\n",
              "    </tr>\n",
              "    <tr>\n",
              "      <th>2</th>\n",
              "      <td>0.565808</td>\n",
              "      <td>64.468681</td>\n",
              "      <td>66.184606</td>\n",
              "      <td>1</td>\n",
              "      <td>51.00</td>\n",
              "    </tr>\n",
              "    <tr>\n",
              "      <th>3</th>\n",
              "      <td>0.536289</td>\n",
              "      <td>69.780506</td>\n",
              "      <td>71.255966</td>\n",
              "      <td>1</td>\n",
              "      <td>86.00</td>\n",
              "    </tr>\n",
              "    <tr>\n",
              "      <th>4</th>\n",
              "      <td>0.557673</td>\n",
              "      <td>69.251195</td>\n",
              "      <td>69.868593</td>\n",
              "      <td>1</td>\n",
              "      <td>73.75</td>\n",
              "    </tr>\n",
              "  </tbody>\n",
              "</table>\n",
              "</div>\n",
              "      <button class=\"colab-df-convert\" onclick=\"convertToInteractive('df-0d6731e4-65e3-4166-8ef3-b57b0fe91655')\"\n",
              "              title=\"Convert this dataframe to an interactive table.\"\n",
              "              style=\"display:none;\">\n",
              "        \n",
              "  <svg xmlns=\"http://www.w3.org/2000/svg\" height=\"24px\"viewBox=\"0 0 24 24\"\n",
              "       width=\"24px\">\n",
              "    <path d=\"M0 0h24v24H0V0z\" fill=\"none\"/>\n",
              "    <path d=\"M18.56 5.44l.94 2.06.94-2.06 2.06-.94-2.06-.94-.94-2.06-.94 2.06-2.06.94zm-11 1L8.5 8.5l.94-2.06 2.06-.94-2.06-.94L8.5 2.5l-.94 2.06-2.06.94zm10 10l.94 2.06.94-2.06 2.06-.94-2.06-.94-.94-2.06-.94 2.06-2.06.94z\"/><path d=\"M17.41 7.96l-1.37-1.37c-.4-.4-.92-.59-1.43-.59-.52 0-1.04.2-1.43.59L10.3 9.45l-7.72 7.72c-.78.78-.78 2.05 0 2.83L4 21.41c.39.39.9.59 1.41.59.51 0 1.02-.2 1.41-.59l7.78-7.78 2.81-2.81c.8-.78.8-2.07 0-2.86zM5.41 20L4 18.59l7.72-7.72 1.47 1.35L5.41 20z\"/>\n",
              "  </svg>\n",
              "      </button>\n",
              "      \n",
              "  <style>\n",
              "    .colab-df-container {\n",
              "      display:flex;\n",
              "      flex-wrap:wrap;\n",
              "      gap: 12px;\n",
              "    }\n",
              "\n",
              "    .colab-df-convert {\n",
              "      background-color: #E8F0FE;\n",
              "      border: none;\n",
              "      border-radius: 50%;\n",
              "      cursor: pointer;\n",
              "      display: none;\n",
              "      fill: #1967D2;\n",
              "      height: 32px;\n",
              "      padding: 0 0 0 0;\n",
              "      width: 32px;\n",
              "    }\n",
              "\n",
              "    .colab-df-convert:hover {\n",
              "      background-color: #E2EBFA;\n",
              "      box-shadow: 0px 1px 2px rgba(60, 64, 67, 0.3), 0px 1px 3px 1px rgba(60, 64, 67, 0.15);\n",
              "      fill: #174EA6;\n",
              "    }\n",
              "\n",
              "    [theme=dark] .colab-df-convert {\n",
              "      background-color: #3B4455;\n",
              "      fill: #D2E3FC;\n",
              "    }\n",
              "\n",
              "    [theme=dark] .colab-df-convert:hover {\n",
              "      background-color: #434B5C;\n",
              "      box-shadow: 0px 1px 3px 1px rgba(0, 0, 0, 0.15);\n",
              "      filter: drop-shadow(0px 1px 2px rgba(0, 0, 0, 0.3));\n",
              "      fill: #FFFFFF;\n",
              "    }\n",
              "  </style>\n",
              "\n",
              "      <script>\n",
              "        const buttonEl =\n",
              "          document.querySelector('#df-0d6731e4-65e3-4166-8ef3-b57b0fe91655 button.colab-df-convert');\n",
              "        buttonEl.style.display =\n",
              "          google.colab.kernel.accessAllowed ? 'block' : 'none';\n",
              "\n",
              "        async function convertToInteractive(key) {\n",
              "          const element = document.querySelector('#df-0d6731e4-65e3-4166-8ef3-b57b0fe91655');\n",
              "          const dataTable =\n",
              "            await google.colab.kernel.invokeFunction('convertToInteractive',\n",
              "                                                     [key], {});\n",
              "          if (!dataTable) return;\n",
              "\n",
              "          const docLinkHtml = 'Like what you see? Visit the ' +\n",
              "            '<a target=\"_blank\" href=https://colab.research.google.com/notebooks/data_table.ipynb>data table notebook</a>'\n",
              "            + ' to learn more about interactive tables.';\n",
              "          element.innerHTML = '';\n",
              "          dataTable['output_type'] = 'display_data';\n",
              "          await google.colab.output.renderOutput(dataTable, element);\n",
              "          const docLink = document.createElement('div');\n",
              "          docLink.innerHTML = docLinkHtml;\n",
              "          element.appendChild(docLink);\n",
              "        }\n",
              "      </script>\n",
              "    </div>\n",
              "  </div>\n",
              "  "
            ]
          },
          "metadata": {},
          "execution_count": 92
        }
      ]
    },
    {
      "cell_type": "code",
      "source": [
        "tau_hat_RF_P, std_hat_RF_P = att_aiptw(**data_and_nuisance_estimates_RF_P)\n",
        "print(f\"The estimate using RandomForest is {tau_hat_RF_P} pm {1.96*std_hat_RF_P}\")"
      ],
      "metadata": {
        "colab": {
          "base_uri": "https://localhost:8080/"
        },
        "outputId": "fe1584bf-1392-438a-d11e-ac0f27226bf8",
        "id": "URq1Fn5M7wBG"
      },
      "execution_count": null,
      "outputs": [
        {
          "output_type": "stream",
          "name": "stdout",
          "text": [
            "The estimate using RandomForest is 0.40805422360499 pm 1.6173649585760044\n"
          ]
        }
      ]
    },
    {
      "cell_type": "markdown",
      "source": [
        "### Calculate Total Effect using Logistic Regression"
      ],
      "metadata": {
        "id": "0HQo9gRe7wBG"
      }
    },
    {
      "cell_type": "code",
      "source": [
        "Q0_LR_P,Q1_LR_P = outcome_k_fold_fit_and_predict(make_Qmodel_linearRegression, \n",
        "                                             X=confounders_without_Mediator, y=outcome, \n",
        "                                             A=placebo, n_splits=10, output_type=\"continuous\")"
      ],
      "metadata": {
        "id": "rYyhUes57wBG"
      },
      "execution_count": null,
      "outputs": []
    },
    {
      "cell_type": "code",
      "source": [
        "data_and_nuisance_estimates_LR_P = pd.DataFrame({'g': g2_P, 'Q0': Q0_LR_P, 'Q1': Q1_LR_P, 'A': placebo, 'Y': outcome})\n",
        "data_and_nuisance_estimates_LR_P.head()"
      ],
      "metadata": {
        "colab": {
          "base_uri": "https://localhost:8080/",
          "height": 206
        },
        "outputId": "cf73bf86-c86b-4ed8-f3ba-cec9eaebca20",
        "id": "5wprpXtc7wBH"
      },
      "execution_count": null,
      "outputs": [
        {
          "output_type": "execute_result",
          "data": {
            "text/plain": [
              "          g         Q0         Q1  A      Y\n",
              "0  0.551877  69.524717  69.934172  1  66.00\n",
              "1  0.626369  67.208874  67.637607  0  80.50\n",
              "2  0.533274  70.683329  70.810829  1  51.00\n",
              "3  0.536234  70.939209  71.066709  1  86.00\n",
              "4  0.528450  71.385973  71.593587  1  73.75"
            ],
            "text/html": [
              "\n",
              "  <div id=\"df-4148f312-71e5-41e4-8394-8c5be9e9778d\">\n",
              "    <div class=\"colab-df-container\">\n",
              "      <div>\n",
              "<style scoped>\n",
              "    .dataframe tbody tr th:only-of-type {\n",
              "        vertical-align: middle;\n",
              "    }\n",
              "\n",
              "    .dataframe tbody tr th {\n",
              "        vertical-align: top;\n",
              "    }\n",
              "\n",
              "    .dataframe thead th {\n",
              "        text-align: right;\n",
              "    }\n",
              "</style>\n",
              "<table border=\"1\" class=\"dataframe\">\n",
              "  <thead>\n",
              "    <tr style=\"text-align: right;\">\n",
              "      <th></th>\n",
              "      <th>g</th>\n",
              "      <th>Q0</th>\n",
              "      <th>Q1</th>\n",
              "      <th>A</th>\n",
              "      <th>Y</th>\n",
              "    </tr>\n",
              "  </thead>\n",
              "  <tbody>\n",
              "    <tr>\n",
              "      <th>0</th>\n",
              "      <td>0.551877</td>\n",
              "      <td>69.524717</td>\n",
              "      <td>69.934172</td>\n",
              "      <td>1</td>\n",
              "      <td>66.00</td>\n",
              "    </tr>\n",
              "    <tr>\n",
              "      <th>1</th>\n",
              "      <td>0.626369</td>\n",
              "      <td>67.208874</td>\n",
              "      <td>67.637607</td>\n",
              "      <td>0</td>\n",
              "      <td>80.50</td>\n",
              "    </tr>\n",
              "    <tr>\n",
              "      <th>2</th>\n",
              "      <td>0.533274</td>\n",
              "      <td>70.683329</td>\n",
              "      <td>70.810829</td>\n",
              "      <td>1</td>\n",
              "      <td>51.00</td>\n",
              "    </tr>\n",
              "    <tr>\n",
              "      <th>3</th>\n",
              "      <td>0.536234</td>\n",
              "      <td>70.939209</td>\n",
              "      <td>71.066709</td>\n",
              "      <td>1</td>\n",
              "      <td>86.00</td>\n",
              "    </tr>\n",
              "    <tr>\n",
              "      <th>4</th>\n",
              "      <td>0.528450</td>\n",
              "      <td>71.385973</td>\n",
              "      <td>71.593587</td>\n",
              "      <td>1</td>\n",
              "      <td>73.75</td>\n",
              "    </tr>\n",
              "  </tbody>\n",
              "</table>\n",
              "</div>\n",
              "      <button class=\"colab-df-convert\" onclick=\"convertToInteractive('df-4148f312-71e5-41e4-8394-8c5be9e9778d')\"\n",
              "              title=\"Convert this dataframe to an interactive table.\"\n",
              "              style=\"display:none;\">\n",
              "        \n",
              "  <svg xmlns=\"http://www.w3.org/2000/svg\" height=\"24px\"viewBox=\"0 0 24 24\"\n",
              "       width=\"24px\">\n",
              "    <path d=\"M0 0h24v24H0V0z\" fill=\"none\"/>\n",
              "    <path d=\"M18.56 5.44l.94 2.06.94-2.06 2.06-.94-2.06-.94-.94-2.06-.94 2.06-2.06.94zm-11 1L8.5 8.5l.94-2.06 2.06-.94-2.06-.94L8.5 2.5l-.94 2.06-2.06.94zm10 10l.94 2.06.94-2.06 2.06-.94-2.06-.94-.94-2.06-.94 2.06-2.06.94z\"/><path d=\"M17.41 7.96l-1.37-1.37c-.4-.4-.92-.59-1.43-.59-.52 0-1.04.2-1.43.59L10.3 9.45l-7.72 7.72c-.78.78-.78 2.05 0 2.83L4 21.41c.39.39.9.59 1.41.59.51 0 1.02-.2 1.41-.59l7.78-7.78 2.81-2.81c.8-.78.8-2.07 0-2.86zM5.41 20L4 18.59l7.72-7.72 1.47 1.35L5.41 20z\"/>\n",
              "  </svg>\n",
              "      </button>\n",
              "      \n",
              "  <style>\n",
              "    .colab-df-container {\n",
              "      display:flex;\n",
              "      flex-wrap:wrap;\n",
              "      gap: 12px;\n",
              "    }\n",
              "\n",
              "    .colab-df-convert {\n",
              "      background-color: #E8F0FE;\n",
              "      border: none;\n",
              "      border-radius: 50%;\n",
              "      cursor: pointer;\n",
              "      display: none;\n",
              "      fill: #1967D2;\n",
              "      height: 32px;\n",
              "      padding: 0 0 0 0;\n",
              "      width: 32px;\n",
              "    }\n",
              "\n",
              "    .colab-df-convert:hover {\n",
              "      background-color: #E2EBFA;\n",
              "      box-shadow: 0px 1px 2px rgba(60, 64, 67, 0.3), 0px 1px 3px 1px rgba(60, 64, 67, 0.15);\n",
              "      fill: #174EA6;\n",
              "    }\n",
              "\n",
              "    [theme=dark] .colab-df-convert {\n",
              "      background-color: #3B4455;\n",
              "      fill: #D2E3FC;\n",
              "    }\n",
              "\n",
              "    [theme=dark] .colab-df-convert:hover {\n",
              "      background-color: #434B5C;\n",
              "      box-shadow: 0px 1px 3px 1px rgba(0, 0, 0, 0.15);\n",
              "      filter: drop-shadow(0px 1px 2px rgba(0, 0, 0, 0.3));\n",
              "      fill: #FFFFFF;\n",
              "    }\n",
              "  </style>\n",
              "\n",
              "      <script>\n",
              "        const buttonEl =\n",
              "          document.querySelector('#df-4148f312-71e5-41e4-8394-8c5be9e9778d button.colab-df-convert');\n",
              "        buttonEl.style.display =\n",
              "          google.colab.kernel.accessAllowed ? 'block' : 'none';\n",
              "\n",
              "        async function convertToInteractive(key) {\n",
              "          const element = document.querySelector('#df-4148f312-71e5-41e4-8394-8c5be9e9778d');\n",
              "          const dataTable =\n",
              "            await google.colab.kernel.invokeFunction('convertToInteractive',\n",
              "                                                     [key], {});\n",
              "          if (!dataTable) return;\n",
              "\n",
              "          const docLinkHtml = 'Like what you see? Visit the ' +\n",
              "            '<a target=\"_blank\" href=https://colab.research.google.com/notebooks/data_table.ipynb>data table notebook</a>'\n",
              "            + ' to learn more about interactive tables.';\n",
              "          element.innerHTML = '';\n",
              "          dataTable['output_type'] = 'display_data';\n",
              "          await google.colab.output.renderOutput(dataTable, element);\n",
              "          const docLink = document.createElement('div');\n",
              "          docLink.innerHTML = docLinkHtml;\n",
              "          element.appendChild(docLink);\n",
              "        }\n",
              "      </script>\n",
              "    </div>\n",
              "  </div>\n",
              "  "
            ]
          },
          "metadata": {},
          "execution_count": 95
        }
      ]
    },
    {
      "cell_type": "code",
      "source": [
        "tau_hat_LR_P, std_hat_LR_P = att_aiptw(**data_and_nuisance_estimates_LR_P)\n",
        "print(f\"The estimate using Logistic Regression is {tau_hat_LR_P} pm {1.96*std_hat_LR_P}\")"
      ],
      "metadata": {
        "colab": {
          "base_uri": "https://localhost:8080/"
        },
        "outputId": "aa4380ba-0aab-4b44-8837-86c8045ee3eb",
        "id": "IhhHLesv7wBH"
      },
      "execution_count": null,
      "outputs": [
        {
          "output_type": "stream",
          "name": "stdout",
          "text": [
            "The estimate using Logistic Regression is 0.40061233433516324 pm 1.4943580764853726\n"
          ]
        }
      ]
    },
    {
      "cell_type": "markdown",
      "source": [
        "### Calculate Total Effect using XGBoost"
      ],
      "metadata": {
        "id": "2Md2KPRV7wBI"
      }
    },
    {
      "cell_type": "code",
      "source": [
        "Q0_XG_P,Q1_XG_P = outcome_k_fold_fit_and_predict(make_Qmodel_XGBoost, \n",
        "                                             X=confounders_without_Mediator, y=outcome, \n",
        "                                             A=placebo, n_splits=10, output_type=\"continuous\")"
      ],
      "metadata": {
        "id": "ZA4mAGK37wBI"
      },
      "execution_count": null,
      "outputs": []
    },
    {
      "cell_type": "code",
      "source": [
        "data_and_nuisance_estimates_XG_P = pd.DataFrame({'g': g3_P, 'Q0': Q0_XG_P, 'Q1': Q1_XG_P, 'A': placebo, 'Y': outcome})\n",
        "data_and_nuisance_estimates_XG_P.head()"
      ],
      "metadata": {
        "colab": {
          "base_uri": "https://localhost:8080/",
          "height": 206
        },
        "outputId": "f2af420c-1202-401d-f82d-1ae79092ea94",
        "id": "Llg2fyLz7wBI"
      },
      "execution_count": null,
      "outputs": [
        {
          "output_type": "execute_result",
          "data": {
            "text/plain": [
              "          g         Q0         Q1  A      Y\n",
              "0  0.467969  68.617706  70.990387  1  66.00\n",
              "1  0.657462  67.056839  67.987701  0  80.50\n",
              "2  0.542084  67.061264  69.180847  1  51.00\n",
              "3  0.528515  71.055573  70.652328  1  86.00\n",
              "4  0.561163  70.482674  70.403893  1  73.75"
            ],
            "text/html": [
              "\n",
              "  <div id=\"df-7f5ec092-f8f8-409c-b258-94d3a711f195\">\n",
              "    <div class=\"colab-df-container\">\n",
              "      <div>\n",
              "<style scoped>\n",
              "    .dataframe tbody tr th:only-of-type {\n",
              "        vertical-align: middle;\n",
              "    }\n",
              "\n",
              "    .dataframe tbody tr th {\n",
              "        vertical-align: top;\n",
              "    }\n",
              "\n",
              "    .dataframe thead th {\n",
              "        text-align: right;\n",
              "    }\n",
              "</style>\n",
              "<table border=\"1\" class=\"dataframe\">\n",
              "  <thead>\n",
              "    <tr style=\"text-align: right;\">\n",
              "      <th></th>\n",
              "      <th>g</th>\n",
              "      <th>Q0</th>\n",
              "      <th>Q1</th>\n",
              "      <th>A</th>\n",
              "      <th>Y</th>\n",
              "    </tr>\n",
              "  </thead>\n",
              "  <tbody>\n",
              "    <tr>\n",
              "      <th>0</th>\n",
              "      <td>0.467969</td>\n",
              "      <td>68.617706</td>\n",
              "      <td>70.990387</td>\n",
              "      <td>1</td>\n",
              "      <td>66.00</td>\n",
              "    </tr>\n",
              "    <tr>\n",
              "      <th>1</th>\n",
              "      <td>0.657462</td>\n",
              "      <td>67.056839</td>\n",
              "      <td>67.987701</td>\n",
              "      <td>0</td>\n",
              "      <td>80.50</td>\n",
              "    </tr>\n",
              "    <tr>\n",
              "      <th>2</th>\n",
              "      <td>0.542084</td>\n",
              "      <td>67.061264</td>\n",
              "      <td>69.180847</td>\n",
              "      <td>1</td>\n",
              "      <td>51.00</td>\n",
              "    </tr>\n",
              "    <tr>\n",
              "      <th>3</th>\n",
              "      <td>0.528515</td>\n",
              "      <td>71.055573</td>\n",
              "      <td>70.652328</td>\n",
              "      <td>1</td>\n",
              "      <td>86.00</td>\n",
              "    </tr>\n",
              "    <tr>\n",
              "      <th>4</th>\n",
              "      <td>0.561163</td>\n",
              "      <td>70.482674</td>\n",
              "      <td>70.403893</td>\n",
              "      <td>1</td>\n",
              "      <td>73.75</td>\n",
              "    </tr>\n",
              "  </tbody>\n",
              "</table>\n",
              "</div>\n",
              "      <button class=\"colab-df-convert\" onclick=\"convertToInteractive('df-7f5ec092-f8f8-409c-b258-94d3a711f195')\"\n",
              "              title=\"Convert this dataframe to an interactive table.\"\n",
              "              style=\"display:none;\">\n",
              "        \n",
              "  <svg xmlns=\"http://www.w3.org/2000/svg\" height=\"24px\"viewBox=\"0 0 24 24\"\n",
              "       width=\"24px\">\n",
              "    <path d=\"M0 0h24v24H0V0z\" fill=\"none\"/>\n",
              "    <path d=\"M18.56 5.44l.94 2.06.94-2.06 2.06-.94-2.06-.94-.94-2.06-.94 2.06-2.06.94zm-11 1L8.5 8.5l.94-2.06 2.06-.94-2.06-.94L8.5 2.5l-.94 2.06-2.06.94zm10 10l.94 2.06.94-2.06 2.06-.94-2.06-.94-.94-2.06-.94 2.06-2.06.94z\"/><path d=\"M17.41 7.96l-1.37-1.37c-.4-.4-.92-.59-1.43-.59-.52 0-1.04.2-1.43.59L10.3 9.45l-7.72 7.72c-.78.78-.78 2.05 0 2.83L4 21.41c.39.39.9.59 1.41.59.51 0 1.02-.2 1.41-.59l7.78-7.78 2.81-2.81c.8-.78.8-2.07 0-2.86zM5.41 20L4 18.59l7.72-7.72 1.47 1.35L5.41 20z\"/>\n",
              "  </svg>\n",
              "      </button>\n",
              "      \n",
              "  <style>\n",
              "    .colab-df-container {\n",
              "      display:flex;\n",
              "      flex-wrap:wrap;\n",
              "      gap: 12px;\n",
              "    }\n",
              "\n",
              "    .colab-df-convert {\n",
              "      background-color: #E8F0FE;\n",
              "      border: none;\n",
              "      border-radius: 50%;\n",
              "      cursor: pointer;\n",
              "      display: none;\n",
              "      fill: #1967D2;\n",
              "      height: 32px;\n",
              "      padding: 0 0 0 0;\n",
              "      width: 32px;\n",
              "    }\n",
              "\n",
              "    .colab-df-convert:hover {\n",
              "      background-color: #E2EBFA;\n",
              "      box-shadow: 0px 1px 2px rgba(60, 64, 67, 0.3), 0px 1px 3px 1px rgba(60, 64, 67, 0.15);\n",
              "      fill: #174EA6;\n",
              "    }\n",
              "\n",
              "    [theme=dark] .colab-df-convert {\n",
              "      background-color: #3B4455;\n",
              "      fill: #D2E3FC;\n",
              "    }\n",
              "\n",
              "    [theme=dark] .colab-df-convert:hover {\n",
              "      background-color: #434B5C;\n",
              "      box-shadow: 0px 1px 3px 1px rgba(0, 0, 0, 0.15);\n",
              "      filter: drop-shadow(0px 1px 2px rgba(0, 0, 0, 0.3));\n",
              "      fill: #FFFFFF;\n",
              "    }\n",
              "  </style>\n",
              "\n",
              "      <script>\n",
              "        const buttonEl =\n",
              "          document.querySelector('#df-7f5ec092-f8f8-409c-b258-94d3a711f195 button.colab-df-convert');\n",
              "        buttonEl.style.display =\n",
              "          google.colab.kernel.accessAllowed ? 'block' : 'none';\n",
              "\n",
              "        async function convertToInteractive(key) {\n",
              "          const element = document.querySelector('#df-7f5ec092-f8f8-409c-b258-94d3a711f195');\n",
              "          const dataTable =\n",
              "            await google.colab.kernel.invokeFunction('convertToInteractive',\n",
              "                                                     [key], {});\n",
              "          if (!dataTable) return;\n",
              "\n",
              "          const docLinkHtml = 'Like what you see? Visit the ' +\n",
              "            '<a target=\"_blank\" href=https://colab.research.google.com/notebooks/data_table.ipynb>data table notebook</a>'\n",
              "            + ' to learn more about interactive tables.';\n",
              "          element.innerHTML = '';\n",
              "          dataTable['output_type'] = 'display_data';\n",
              "          await google.colab.output.renderOutput(dataTable, element);\n",
              "          const docLink = document.createElement('div');\n",
              "          docLink.innerHTML = docLinkHtml;\n",
              "          element.appendChild(docLink);\n",
              "        }\n",
              "      </script>\n",
              "    </div>\n",
              "  </div>\n",
              "  "
            ]
          },
          "metadata": {},
          "execution_count": 98
        }
      ]
    },
    {
      "cell_type": "code",
      "source": [
        "tau_hat_XG_P, std_hat_XG_P = att_aiptw(**data_and_nuisance_estimates_XG_P)\n",
        "print(f\"The estimate using XGBoost is {tau_hat_XG_P} pm {1.96*std_hat_XG_P}\")"
      ],
      "metadata": {
        "colab": {
          "base_uri": "https://localhost:8080/"
        },
        "outputId": "f7e8efc7-716e-4518-c21b-1900b09606b9",
        "id": "czW8cvpw7wBJ"
      },
      "execution_count": null,
      "outputs": [
        {
          "output_type": "stream",
          "name": "stdout",
          "text": [
            "The estimate using XGBoost is 0.45382060209819086 pm 1.5795423653698881\n"
          ]
        }
      ]
    },
    {
      "cell_type": "markdown",
      "source": [
        "# The table of results"
      ],
      "metadata": {
        "id": "XDCavsMVGuMd"
      }
    },
    {
      "cell_type": "code",
      "source": [
        "NDE_table = [['Outcome','Type of causal effect','Mediator excluded', 'Model', 'Estimate','p/m', 'Standard Error'], \n",
        "         ['Fall_grade','Natural Direct Effect', 'Study Hours', 'RandomForest',tau_hat_RFSH,1.96*std_hat_RFSH, std_hat_RFSH], \n",
        "         ['Fall_grade','Natural Direct Effect', 'Study Hours', 'Logistic Regression',tau_hat_LRSH,1.96*std_hat_LRSH,std_hat_LRSH],\n",
        "         ['Fall_grade','Natural Direct Effect', 'Study Hours', 'XGBoost',tau_hat_XGSH,1.96*std_hat_XGSH,std_hat_XGSH],\n",
        "         ['Fall_grade','Natural Direct Effect', 'Study Habits', 'RandomForest',tau_hat_RFSB,1.96*std_hat_RFSB,std_hat_RFSB], \n",
        "         ['Fall_grade','Natural Direct Effect', 'Study Habits', 'Logistic Regression',tau_hat_LRSB,1.96*std_hat_LRSB,std_hat_LRSB],\n",
        "         ['Fall_grade','Natural Direct Effect', 'Study Habits', 'XGBoost',tau_hat_XGSB,1.96*std_hat_XGSB,std_hat_XGSB],\n",
        "         ['Fall_grade','Natural Direct Effect', 'Study Hours and Study Habits', 'RandomForest',tau_hat_RF,1.96*std_hat_RF,std_hat_RF], \n",
        "         ['Fall_grade','Natural Direct Effect', 'Study Hours and Study Habits', 'Logistic Regression',tau_hat_LR,1.96*std_hat_LR,std_hat_LR],\n",
        "         ['Fall_grade','Natural Direct Effect', 'Study Hours and Study Habits', 'XGBoost',tau_hat_XGB,1.96*std_hat_XGB,std_hat_XGB]]"
      ],
      "metadata": {
        "id": "l6l7o2unG0t4"
      },
      "execution_count": null,
      "outputs": []
    },
    {
      "cell_type": "code",
      "source": [
        "TE_table = [['Outcome','Type of causal effect', 'Model', 'Estimate','p/m', 'Standard Error'],\n",
        "            ['Fall_grade','Total Effect', 'RandomForest',tau_hat_RFTE,1.96*std_hat_RFTE, std_hat_RFTE], \n",
        "            ['Fall_grade','Total Effect', 'Logistic Regression',tau_hat_LRTE,1.96*std_hat_LRTE, std_hat_LRTE],\n",
        "            ['Fall_grade','Total Effect', 'XGBoost',tau_hat_XGTE,1.96*std_hat_XGTE, std_hat_XGTE]]"
      ],
      "metadata": {
        "id": "h8Q9CqAdMY5k"
      },
      "execution_count": null,
      "outputs": []
    },
    {
      "cell_type": "code",
      "source": [
        "Plb_table = [['Outcome','Type of causal effect', 'Model', 'Estimate','p/m', 'Standard Error'],\n",
        "                 ['Fall_grade','Placebo Effect on Agreealeness', 'RandomForest',tau_hat_RF_P,1.96*std_hat_RF_P,std_hat_RF_P], \n",
        "                 ['Fall_grade','Placebo Effect on Agreealeness', 'Logistic Regression',tau_hat_LR_P,1.96*std_hat_LR_P,std_hat_LR_P],\n",
        "                 ['Fall_grade','Placebo Effect on Agreealeness', 'XGBoost',tau_hat_XG_P,1.96*std_hat_XG_P,std_hat_XG_P]]"
      ],
      "metadata": {
        "id": "pHDetKfeMdzM"
      },
      "execution_count": null,
      "outputs": []
    },
    {
      "cell_type": "code",
      "source": [
        "df_NDE = pd.DataFrame(NDE_table)\n",
        "df_NDE.columns = df_NDE.iloc[0]\n",
        "df_NDE = df_NDE[1:]\n",
        "df_NDE"
      ],
      "metadata": {
        "colab": {
          "base_uri": "https://localhost:8080/",
          "height": 567
        },
        "id": "pz02hMA-KYyy",
        "outputId": "2a97e8e7-d33e-439f-cb29-dc05cc59a597"
      },
      "execution_count": null,
      "outputs": [
        {
          "output_type": "execute_result",
          "data": {
            "text/plain": [
              "0     Outcome  Type of causal effect             Mediator excluded  \\\n",
              "1  Fall_grade  Natural Direct Effect                   Study Hours   \n",
              "2  Fall_grade  Natural Direct Effect                   Study Hours   \n",
              "3  Fall_grade  Natural Direct Effect                   Study Hours   \n",
              "4  Fall_grade  Natural Direct Effect                  Study Habits   \n",
              "5  Fall_grade  Natural Direct Effect                  Study Habits   \n",
              "6  Fall_grade  Natural Direct Effect                  Study Habits   \n",
              "7  Fall_grade  Natural Direct Effect  Study Hours and Study Habits   \n",
              "8  Fall_grade  Natural Direct Effect  Study Hours and Study Habits   \n",
              "9  Fall_grade  Natural Direct Effect  Study Hours and Study Habits   \n",
              "\n",
              "0                Model  Estimate       p/m Standard Error  \n",
              "1         RandomForest -2.753633  1.549618       0.790621  \n",
              "2  Logistic Regression -1.834375  1.444524       0.737002  \n",
              "3              XGBoost -2.927115  1.956578       0.998254  \n",
              "4         RandomForest -2.590846  1.617174       0.825089  \n",
              "5  Logistic Regression -2.019225   1.46254       0.746194  \n",
              "6              XGBoost -3.354606  1.993589       1.017137  \n",
              "7         RandomForest -2.638443  1.527729       0.779454  \n",
              "8  Logistic Regression -1.892744  1.462806       0.746329  \n",
              "9              XGBoost -3.018747  1.965744       1.002931  "
            ],
            "text/html": [
              "\n",
              "  <div id=\"df-de310229-f83f-4a2b-a761-4539d112d030\">\n",
              "    <div class=\"colab-df-container\">\n",
              "      <div>\n",
              "<style scoped>\n",
              "    .dataframe tbody tr th:only-of-type {\n",
              "        vertical-align: middle;\n",
              "    }\n",
              "\n",
              "    .dataframe tbody tr th {\n",
              "        vertical-align: top;\n",
              "    }\n",
              "\n",
              "    .dataframe thead th {\n",
              "        text-align: right;\n",
              "    }\n",
              "</style>\n",
              "<table border=\"1\" class=\"dataframe\">\n",
              "  <thead>\n",
              "    <tr style=\"text-align: right;\">\n",
              "      <th></th>\n",
              "      <th>Outcome</th>\n",
              "      <th>Type of causal effect</th>\n",
              "      <th>Mediator excluded</th>\n",
              "      <th>Model</th>\n",
              "      <th>Estimate</th>\n",
              "      <th>p/m</th>\n",
              "      <th>Standard Error</th>\n",
              "    </tr>\n",
              "  </thead>\n",
              "  <tbody>\n",
              "    <tr>\n",
              "      <th>1</th>\n",
              "      <td>Fall_grade</td>\n",
              "      <td>Natural Direct Effect</td>\n",
              "      <td>Study Hours</td>\n",
              "      <td>RandomForest</td>\n",
              "      <td>-2.753633</td>\n",
              "      <td>1.549618</td>\n",
              "      <td>0.790621</td>\n",
              "    </tr>\n",
              "    <tr>\n",
              "      <th>2</th>\n",
              "      <td>Fall_grade</td>\n",
              "      <td>Natural Direct Effect</td>\n",
              "      <td>Study Hours</td>\n",
              "      <td>Logistic Regression</td>\n",
              "      <td>-1.834375</td>\n",
              "      <td>1.444524</td>\n",
              "      <td>0.737002</td>\n",
              "    </tr>\n",
              "    <tr>\n",
              "      <th>3</th>\n",
              "      <td>Fall_grade</td>\n",
              "      <td>Natural Direct Effect</td>\n",
              "      <td>Study Hours</td>\n",
              "      <td>XGBoost</td>\n",
              "      <td>-2.927115</td>\n",
              "      <td>1.956578</td>\n",
              "      <td>0.998254</td>\n",
              "    </tr>\n",
              "    <tr>\n",
              "      <th>4</th>\n",
              "      <td>Fall_grade</td>\n",
              "      <td>Natural Direct Effect</td>\n",
              "      <td>Study Habits</td>\n",
              "      <td>RandomForest</td>\n",
              "      <td>-2.590846</td>\n",
              "      <td>1.617174</td>\n",
              "      <td>0.825089</td>\n",
              "    </tr>\n",
              "    <tr>\n",
              "      <th>5</th>\n",
              "      <td>Fall_grade</td>\n",
              "      <td>Natural Direct Effect</td>\n",
              "      <td>Study Habits</td>\n",
              "      <td>Logistic Regression</td>\n",
              "      <td>-2.019225</td>\n",
              "      <td>1.46254</td>\n",
              "      <td>0.746194</td>\n",
              "    </tr>\n",
              "    <tr>\n",
              "      <th>6</th>\n",
              "      <td>Fall_grade</td>\n",
              "      <td>Natural Direct Effect</td>\n",
              "      <td>Study Habits</td>\n",
              "      <td>XGBoost</td>\n",
              "      <td>-3.354606</td>\n",
              "      <td>1.993589</td>\n",
              "      <td>1.017137</td>\n",
              "    </tr>\n",
              "    <tr>\n",
              "      <th>7</th>\n",
              "      <td>Fall_grade</td>\n",
              "      <td>Natural Direct Effect</td>\n",
              "      <td>Study Hours and Study Habits</td>\n",
              "      <td>RandomForest</td>\n",
              "      <td>-2.638443</td>\n",
              "      <td>1.527729</td>\n",
              "      <td>0.779454</td>\n",
              "    </tr>\n",
              "    <tr>\n",
              "      <th>8</th>\n",
              "      <td>Fall_grade</td>\n",
              "      <td>Natural Direct Effect</td>\n",
              "      <td>Study Hours and Study Habits</td>\n",
              "      <td>Logistic Regression</td>\n",
              "      <td>-1.892744</td>\n",
              "      <td>1.462806</td>\n",
              "      <td>0.746329</td>\n",
              "    </tr>\n",
              "    <tr>\n",
              "      <th>9</th>\n",
              "      <td>Fall_grade</td>\n",
              "      <td>Natural Direct Effect</td>\n",
              "      <td>Study Hours and Study Habits</td>\n",
              "      <td>XGBoost</td>\n",
              "      <td>-3.018747</td>\n",
              "      <td>1.965744</td>\n",
              "      <td>1.002931</td>\n",
              "    </tr>\n",
              "  </tbody>\n",
              "</table>\n",
              "</div>\n",
              "      <button class=\"colab-df-convert\" onclick=\"convertToInteractive('df-de310229-f83f-4a2b-a761-4539d112d030')\"\n",
              "              title=\"Convert this dataframe to an interactive table.\"\n",
              "              style=\"display:none;\">\n",
              "        \n",
              "  <svg xmlns=\"http://www.w3.org/2000/svg\" height=\"24px\"viewBox=\"0 0 24 24\"\n",
              "       width=\"24px\">\n",
              "    <path d=\"M0 0h24v24H0V0z\" fill=\"none\"/>\n",
              "    <path d=\"M18.56 5.44l.94 2.06.94-2.06 2.06-.94-2.06-.94-.94-2.06-.94 2.06-2.06.94zm-11 1L8.5 8.5l.94-2.06 2.06-.94-2.06-.94L8.5 2.5l-.94 2.06-2.06.94zm10 10l.94 2.06.94-2.06 2.06-.94-2.06-.94-.94-2.06-.94 2.06-2.06.94z\"/><path d=\"M17.41 7.96l-1.37-1.37c-.4-.4-.92-.59-1.43-.59-.52 0-1.04.2-1.43.59L10.3 9.45l-7.72 7.72c-.78.78-.78 2.05 0 2.83L4 21.41c.39.39.9.59 1.41.59.51 0 1.02-.2 1.41-.59l7.78-7.78 2.81-2.81c.8-.78.8-2.07 0-2.86zM5.41 20L4 18.59l7.72-7.72 1.47 1.35L5.41 20z\"/>\n",
              "  </svg>\n",
              "      </button>\n",
              "      \n",
              "  <style>\n",
              "    .colab-df-container {\n",
              "      display:flex;\n",
              "      flex-wrap:wrap;\n",
              "      gap: 12px;\n",
              "    }\n",
              "\n",
              "    .colab-df-convert {\n",
              "      background-color: #E8F0FE;\n",
              "      border: none;\n",
              "      border-radius: 50%;\n",
              "      cursor: pointer;\n",
              "      display: none;\n",
              "      fill: #1967D2;\n",
              "      height: 32px;\n",
              "      padding: 0 0 0 0;\n",
              "      width: 32px;\n",
              "    }\n",
              "\n",
              "    .colab-df-convert:hover {\n",
              "      background-color: #E2EBFA;\n",
              "      box-shadow: 0px 1px 2px rgba(60, 64, 67, 0.3), 0px 1px 3px 1px rgba(60, 64, 67, 0.15);\n",
              "      fill: #174EA6;\n",
              "    }\n",
              "\n",
              "    [theme=dark] .colab-df-convert {\n",
              "      background-color: #3B4455;\n",
              "      fill: #D2E3FC;\n",
              "    }\n",
              "\n",
              "    [theme=dark] .colab-df-convert:hover {\n",
              "      background-color: #434B5C;\n",
              "      box-shadow: 0px 1px 3px 1px rgba(0, 0, 0, 0.15);\n",
              "      filter: drop-shadow(0px 1px 2px rgba(0, 0, 0, 0.3));\n",
              "      fill: #FFFFFF;\n",
              "    }\n",
              "  </style>\n",
              "\n",
              "      <script>\n",
              "        const buttonEl =\n",
              "          document.querySelector('#df-de310229-f83f-4a2b-a761-4539d112d030 button.colab-df-convert');\n",
              "        buttonEl.style.display =\n",
              "          google.colab.kernel.accessAllowed ? 'block' : 'none';\n",
              "\n",
              "        async function convertToInteractive(key) {\n",
              "          const element = document.querySelector('#df-de310229-f83f-4a2b-a761-4539d112d030');\n",
              "          const dataTable =\n",
              "            await google.colab.kernel.invokeFunction('convertToInteractive',\n",
              "                                                     [key], {});\n",
              "          if (!dataTable) return;\n",
              "\n",
              "          const docLinkHtml = 'Like what you see? Visit the ' +\n",
              "            '<a target=\"_blank\" href=https://colab.research.google.com/notebooks/data_table.ipynb>data table notebook</a>'\n",
              "            + ' to learn more about interactive tables.';\n",
              "          element.innerHTML = '';\n",
              "          dataTable['output_type'] = 'display_data';\n",
              "          await google.colab.output.renderOutput(dataTable, element);\n",
              "          const docLink = document.createElement('div');\n",
              "          docLink.innerHTML = docLinkHtml;\n",
              "          element.appendChild(docLink);\n",
              "        }\n",
              "      </script>\n",
              "    </div>\n",
              "  </div>\n",
              "  "
            ]
          },
          "metadata": {},
          "execution_count": 111
        }
      ]
    },
    {
      "cell_type": "code",
      "source": [
        "df_TE = pd.DataFrame(TE_table)\n",
        "df_TE.columns = df_TE.iloc[0]\n",
        "df_TE = df_TE[1:]\n",
        "df_TE"
      ],
      "metadata": {
        "colab": {
          "base_uri": "https://localhost:8080/",
          "height": 187
        },
        "id": "HaA34SDbNFO3",
        "outputId": "47f3e519-7cd0-470f-b699-3930c9b8a086"
      },
      "execution_count": null,
      "outputs": [
        {
          "output_type": "execute_result",
          "data": {
            "text/plain": [
              "0     Outcome Type of causal effect                Model  Estimate       p/m  \\\n",
              "1  Fall_grade          Total Effect         RandomForest -1.779077  1.577621   \n",
              "2  Fall_grade          Total Effect  Logistic Regression -2.122354  1.464547   \n",
              "3  Fall_grade          Total Effect              XGBoost -1.821977   1.58729   \n",
              "\n",
              "0 Standard Error  \n",
              "1       0.804909  \n",
              "2       0.747218  \n",
              "3       0.809842  "
            ],
            "text/html": [
              "\n",
              "  <div id=\"df-8defdeee-0c7c-42b2-9600-d1eeb037adf5\">\n",
              "    <div class=\"colab-df-container\">\n",
              "      <div>\n",
              "<style scoped>\n",
              "    .dataframe tbody tr th:only-of-type {\n",
              "        vertical-align: middle;\n",
              "    }\n",
              "\n",
              "    .dataframe tbody tr th {\n",
              "        vertical-align: top;\n",
              "    }\n",
              "\n",
              "    .dataframe thead th {\n",
              "        text-align: right;\n",
              "    }\n",
              "</style>\n",
              "<table border=\"1\" class=\"dataframe\">\n",
              "  <thead>\n",
              "    <tr style=\"text-align: right;\">\n",
              "      <th></th>\n",
              "      <th>Outcome</th>\n",
              "      <th>Type of causal effect</th>\n",
              "      <th>Model</th>\n",
              "      <th>Estimate</th>\n",
              "      <th>p/m</th>\n",
              "      <th>Standard Error</th>\n",
              "    </tr>\n",
              "  </thead>\n",
              "  <tbody>\n",
              "    <tr>\n",
              "      <th>1</th>\n",
              "      <td>Fall_grade</td>\n",
              "      <td>Total Effect</td>\n",
              "      <td>RandomForest</td>\n",
              "      <td>-1.779077</td>\n",
              "      <td>1.577621</td>\n",
              "      <td>0.804909</td>\n",
              "    </tr>\n",
              "    <tr>\n",
              "      <th>2</th>\n",
              "      <td>Fall_grade</td>\n",
              "      <td>Total Effect</td>\n",
              "      <td>Logistic Regression</td>\n",
              "      <td>-2.122354</td>\n",
              "      <td>1.464547</td>\n",
              "      <td>0.747218</td>\n",
              "    </tr>\n",
              "    <tr>\n",
              "      <th>3</th>\n",
              "      <td>Fall_grade</td>\n",
              "      <td>Total Effect</td>\n",
              "      <td>XGBoost</td>\n",
              "      <td>-1.821977</td>\n",
              "      <td>1.58729</td>\n",
              "      <td>0.809842</td>\n",
              "    </tr>\n",
              "  </tbody>\n",
              "</table>\n",
              "</div>\n",
              "      <button class=\"colab-df-convert\" onclick=\"convertToInteractive('df-8defdeee-0c7c-42b2-9600-d1eeb037adf5')\"\n",
              "              title=\"Convert this dataframe to an interactive table.\"\n",
              "              style=\"display:none;\">\n",
              "        \n",
              "  <svg xmlns=\"http://www.w3.org/2000/svg\" height=\"24px\"viewBox=\"0 0 24 24\"\n",
              "       width=\"24px\">\n",
              "    <path d=\"M0 0h24v24H0V0z\" fill=\"none\"/>\n",
              "    <path d=\"M18.56 5.44l.94 2.06.94-2.06 2.06-.94-2.06-.94-.94-2.06-.94 2.06-2.06.94zm-11 1L8.5 8.5l.94-2.06 2.06-.94-2.06-.94L8.5 2.5l-.94 2.06-2.06.94zm10 10l.94 2.06.94-2.06 2.06-.94-2.06-.94-.94-2.06-.94 2.06-2.06.94z\"/><path d=\"M17.41 7.96l-1.37-1.37c-.4-.4-.92-.59-1.43-.59-.52 0-1.04.2-1.43.59L10.3 9.45l-7.72 7.72c-.78.78-.78 2.05 0 2.83L4 21.41c.39.39.9.59 1.41.59.51 0 1.02-.2 1.41-.59l7.78-7.78 2.81-2.81c.8-.78.8-2.07 0-2.86zM5.41 20L4 18.59l7.72-7.72 1.47 1.35L5.41 20z\"/>\n",
              "  </svg>\n",
              "      </button>\n",
              "      \n",
              "  <style>\n",
              "    .colab-df-container {\n",
              "      display:flex;\n",
              "      flex-wrap:wrap;\n",
              "      gap: 12px;\n",
              "    }\n",
              "\n",
              "    .colab-df-convert {\n",
              "      background-color: #E8F0FE;\n",
              "      border: none;\n",
              "      border-radius: 50%;\n",
              "      cursor: pointer;\n",
              "      display: none;\n",
              "      fill: #1967D2;\n",
              "      height: 32px;\n",
              "      padding: 0 0 0 0;\n",
              "      width: 32px;\n",
              "    }\n",
              "\n",
              "    .colab-df-convert:hover {\n",
              "      background-color: #E2EBFA;\n",
              "      box-shadow: 0px 1px 2px rgba(60, 64, 67, 0.3), 0px 1px 3px 1px rgba(60, 64, 67, 0.15);\n",
              "      fill: #174EA6;\n",
              "    }\n",
              "\n",
              "    [theme=dark] .colab-df-convert {\n",
              "      background-color: #3B4455;\n",
              "      fill: #D2E3FC;\n",
              "    }\n",
              "\n",
              "    [theme=dark] .colab-df-convert:hover {\n",
              "      background-color: #434B5C;\n",
              "      box-shadow: 0px 1px 3px 1px rgba(0, 0, 0, 0.15);\n",
              "      filter: drop-shadow(0px 1px 2px rgba(0, 0, 0, 0.3));\n",
              "      fill: #FFFFFF;\n",
              "    }\n",
              "  </style>\n",
              "\n",
              "      <script>\n",
              "        const buttonEl =\n",
              "          document.querySelector('#df-8defdeee-0c7c-42b2-9600-d1eeb037adf5 button.colab-df-convert');\n",
              "        buttonEl.style.display =\n",
              "          google.colab.kernel.accessAllowed ? 'block' : 'none';\n",
              "\n",
              "        async function convertToInteractive(key) {\n",
              "          const element = document.querySelector('#df-8defdeee-0c7c-42b2-9600-d1eeb037adf5');\n",
              "          const dataTable =\n",
              "            await google.colab.kernel.invokeFunction('convertToInteractive',\n",
              "                                                     [key], {});\n",
              "          if (!dataTable) return;\n",
              "\n",
              "          const docLinkHtml = 'Like what you see? Visit the ' +\n",
              "            '<a target=\"_blank\" href=https://colab.research.google.com/notebooks/data_table.ipynb>data table notebook</a>'\n",
              "            + ' to learn more about interactive tables.';\n",
              "          element.innerHTML = '';\n",
              "          dataTable['output_type'] = 'display_data';\n",
              "          await google.colab.output.renderOutput(dataTable, element);\n",
              "          const docLink = document.createElement('div');\n",
              "          docLink.innerHTML = docLinkHtml;\n",
              "          element.appendChild(docLink);\n",
              "        }\n",
              "      </script>\n",
              "    </div>\n",
              "  </div>\n",
              "  "
            ]
          },
          "metadata": {},
          "execution_count": 112
        }
      ]
    },
    {
      "cell_type": "code",
      "source": [
        "df_plb = pd.DataFrame(Plb_table)\n",
        "df_plb.columns = df_plb.iloc[0]\n",
        "df_plb = df_plb[1:]\n",
        "df_plb"
      ],
      "metadata": {
        "colab": {
          "base_uri": "https://localhost:8080/",
          "height": 257
        },
        "id": "TmjGF1wHNFbB",
        "outputId": "409f7629-26c3-4ad2-8260-6c7bd8071427"
      },
      "execution_count": null,
      "outputs": [
        {
          "output_type": "execute_result",
          "data": {
            "text/plain": [
              "0     Outcome           Type of causal effect                Model  Estimate  \\\n",
              "1  Fall_grade  Placebo Effect on Agreealeness         RandomForest  0.408054   \n",
              "2  Fall_grade  Placebo Effect on Agreealeness  Logistic Regression  0.400612   \n",
              "3  Fall_grade  Placebo Effect on Agreealeness              XGBoost  0.453821   \n",
              "\n",
              "0       p/m Standard Error  \n",
              "1  1.617365       0.825186  \n",
              "2  1.494358       0.762428  \n",
              "3  1.579542       0.805889  "
            ],
            "text/html": [
              "\n",
              "  <div id=\"df-c19449f7-ac5b-4260-bd9e-b0a2504fb50c\">\n",
              "    <div class=\"colab-df-container\">\n",
              "      <div>\n",
              "<style scoped>\n",
              "    .dataframe tbody tr th:only-of-type {\n",
              "        vertical-align: middle;\n",
              "    }\n",
              "\n",
              "    .dataframe tbody tr th {\n",
              "        vertical-align: top;\n",
              "    }\n",
              "\n",
              "    .dataframe thead th {\n",
              "        text-align: right;\n",
              "    }\n",
              "</style>\n",
              "<table border=\"1\" class=\"dataframe\">\n",
              "  <thead>\n",
              "    <tr style=\"text-align: right;\">\n",
              "      <th></th>\n",
              "      <th>Outcome</th>\n",
              "      <th>Type of causal effect</th>\n",
              "      <th>Model</th>\n",
              "      <th>Estimate</th>\n",
              "      <th>p/m</th>\n",
              "      <th>Standard Error</th>\n",
              "    </tr>\n",
              "  </thead>\n",
              "  <tbody>\n",
              "    <tr>\n",
              "      <th>1</th>\n",
              "      <td>Fall_grade</td>\n",
              "      <td>Placebo Effect on Agreealeness</td>\n",
              "      <td>RandomForest</td>\n",
              "      <td>0.408054</td>\n",
              "      <td>1.617365</td>\n",
              "      <td>0.825186</td>\n",
              "    </tr>\n",
              "    <tr>\n",
              "      <th>2</th>\n",
              "      <td>Fall_grade</td>\n",
              "      <td>Placebo Effect on Agreealeness</td>\n",
              "      <td>Logistic Regression</td>\n",
              "      <td>0.400612</td>\n",
              "      <td>1.494358</td>\n",
              "      <td>0.762428</td>\n",
              "    </tr>\n",
              "    <tr>\n",
              "      <th>3</th>\n",
              "      <td>Fall_grade</td>\n",
              "      <td>Placebo Effect on Agreealeness</td>\n",
              "      <td>XGBoost</td>\n",
              "      <td>0.453821</td>\n",
              "      <td>1.579542</td>\n",
              "      <td>0.805889</td>\n",
              "    </tr>\n",
              "  </tbody>\n",
              "</table>\n",
              "</div>\n",
              "      <button class=\"colab-df-convert\" onclick=\"convertToInteractive('df-c19449f7-ac5b-4260-bd9e-b0a2504fb50c')\"\n",
              "              title=\"Convert this dataframe to an interactive table.\"\n",
              "              style=\"display:none;\">\n",
              "        \n",
              "  <svg xmlns=\"http://www.w3.org/2000/svg\" height=\"24px\"viewBox=\"0 0 24 24\"\n",
              "       width=\"24px\">\n",
              "    <path d=\"M0 0h24v24H0V0z\" fill=\"none\"/>\n",
              "    <path d=\"M18.56 5.44l.94 2.06.94-2.06 2.06-.94-2.06-.94-.94-2.06-.94 2.06-2.06.94zm-11 1L8.5 8.5l.94-2.06 2.06-.94-2.06-.94L8.5 2.5l-.94 2.06-2.06.94zm10 10l.94 2.06.94-2.06 2.06-.94-2.06-.94-.94-2.06-.94 2.06-2.06.94z\"/><path d=\"M17.41 7.96l-1.37-1.37c-.4-.4-.92-.59-1.43-.59-.52 0-1.04.2-1.43.59L10.3 9.45l-7.72 7.72c-.78.78-.78 2.05 0 2.83L4 21.41c.39.39.9.59 1.41.59.51 0 1.02-.2 1.41-.59l7.78-7.78 2.81-2.81c.8-.78.8-2.07 0-2.86zM5.41 20L4 18.59l7.72-7.72 1.47 1.35L5.41 20z\"/>\n",
              "  </svg>\n",
              "      </button>\n",
              "      \n",
              "  <style>\n",
              "    .colab-df-container {\n",
              "      display:flex;\n",
              "      flex-wrap:wrap;\n",
              "      gap: 12px;\n",
              "    }\n",
              "\n",
              "    .colab-df-convert {\n",
              "      background-color: #E8F0FE;\n",
              "      border: none;\n",
              "      border-radius: 50%;\n",
              "      cursor: pointer;\n",
              "      display: none;\n",
              "      fill: #1967D2;\n",
              "      height: 32px;\n",
              "      padding: 0 0 0 0;\n",
              "      width: 32px;\n",
              "    }\n",
              "\n",
              "    .colab-df-convert:hover {\n",
              "      background-color: #E2EBFA;\n",
              "      box-shadow: 0px 1px 2px rgba(60, 64, 67, 0.3), 0px 1px 3px 1px rgba(60, 64, 67, 0.15);\n",
              "      fill: #174EA6;\n",
              "    }\n",
              "\n",
              "    [theme=dark] .colab-df-convert {\n",
              "      background-color: #3B4455;\n",
              "      fill: #D2E3FC;\n",
              "    }\n",
              "\n",
              "    [theme=dark] .colab-df-convert:hover {\n",
              "      background-color: #434B5C;\n",
              "      box-shadow: 0px 1px 3px 1px rgba(0, 0, 0, 0.15);\n",
              "      filter: drop-shadow(0px 1px 2px rgba(0, 0, 0, 0.3));\n",
              "      fill: #FFFFFF;\n",
              "    }\n",
              "  </style>\n",
              "\n",
              "      <script>\n",
              "        const buttonEl =\n",
              "          document.querySelector('#df-c19449f7-ac5b-4260-bd9e-b0a2504fb50c button.colab-df-convert');\n",
              "        buttonEl.style.display =\n",
              "          google.colab.kernel.accessAllowed ? 'block' : 'none';\n",
              "\n",
              "        async function convertToInteractive(key) {\n",
              "          const element = document.querySelector('#df-c19449f7-ac5b-4260-bd9e-b0a2504fb50c');\n",
              "          const dataTable =\n",
              "            await google.colab.kernel.invokeFunction('convertToInteractive',\n",
              "                                                     [key], {});\n",
              "          if (!dataTable) return;\n",
              "\n",
              "          const docLinkHtml = 'Like what you see? Visit the ' +\n",
              "            '<a target=\"_blank\" href=https://colab.research.google.com/notebooks/data_table.ipynb>data table notebook</a>'\n",
              "            + ' to learn more about interactive tables.';\n",
              "          element.innerHTML = '';\n",
              "          dataTable['output_type'] = 'display_data';\n",
              "          await google.colab.output.renderOutput(dataTable, element);\n",
              "          const docLink = document.createElement('div');\n",
              "          docLink.innerHTML = docLinkHtml;\n",
              "          element.appendChild(docLink);\n",
              "        }\n",
              "      </script>\n",
              "    </div>\n",
              "  </div>\n",
              "  "
            ]
          },
          "metadata": {},
          "execution_count": 113
        }
      ]
    },
    {
      "cell_type": "markdown",
      "source": [
        "### Table of Sanity checks results "
      ],
      "metadata": {
        "id": "mswUpixaQNVa"
      }
    },
    {
      "cell_type": "code",
      "source": [
        "San_table = [['Outcome','Model','Mediators','Q model MSE','Q model baseline','g model CE','g model baseline'], \n",
        "         ['Fall_grade','RandomForest','none', test_mse_RF0,baseline_mse_RF0,test_ce_RF0,baseline_ce_RF0], \n",
        "         ['Fall_grade','RandomForest','both', test_mse_RF2,baseline_mse_RF2,test_ce_RF2,baseline_ce_RF2],\n",
        "         ['Fall_grade','RandomForest','Study Hours', test_mse_RFSH,baseline_mse_RFSH,test_ce_RFSH,baseline_ce_RFSH],\n",
        "         ['Fall_grade','RandomForest','Study Habits', test_mse_RFSB,baseline_mse_RFSB,test_ce_RFSB,baseline_ce_RFSB],\n",
        "         ['Fall_grade','Logistic Regression','none', test_mse_LR0,baseline_mse_LR0,test_ce_LR0,baseline_ce_LR0], \n",
        "         ['Fall_grade','Logistic Regression','both', test_mse_LR2,baseline_mse_LR2,test_ce_LR2,baseline_ce_LR2],\n",
        "         ['Fall_grade','Logistic Regression','Study Hours', test_mse_LRSH,baseline_mse_LRSH,test_ce_LRSH,baseline_ce_LRSH],\n",
        "         ['Fall_grade','Logistic Regression','Study Habits', test_mse_LRSB,baseline_mse_LRSB,test_ce_LRSB,baseline_ce_LRSB],\n",
        "         ['Fall_grade','XGBoost','none', test_mse_XG0,baseline_mse_XG0,test_ce_XG0,baseline_ce_XG0], \n",
        "         ['Fall_grade','XGBoost','both', test_mse_XG2,baseline_mse_LR2,test_ce_XG2,baseline_ce_XG2],\n",
        "         ['Fall_grade','XGBoost','Study Hours', test_mse_XGSH,baseline_mse_XGSH,test_ce_XGSH,baseline_ce_XGSH],\n",
        "         ['Fall_grade','XGBoost','Study Habits', test_mse_XGSB,baseline_mse_LRSB,test_ce_XGSB,baseline_ce_XGSB]]"
      ],
      "metadata": {
        "id": "sF9sbIxFQRcD"
      },
      "execution_count": null,
      "outputs": []
    },
    {
      "cell_type": "code",
      "source": [
        "df_san = pd.DataFrame(San_table)\n",
        "df_san.columns = df_san.iloc[0]\n",
        "df_san = df_san[1:]\n",
        "df_san"
      ],
      "metadata": {
        "id": "XbtJoPgSQRu8",
        "colab": {
          "base_uri": "https://localhost:8080/",
          "height": 626
        },
        "outputId": "6e1353e6-c62e-4668-fae7-caaffe1a5500"
      },
      "execution_count": null,
      "outputs": [
        {
          "output_type": "execute_result",
          "data": {
            "text/plain": [
              "0      Outcome                Model     Mediators Q model MSE  \\\n",
              "1   Fall_grade         RandomForest          none  144.602557   \n",
              "2   Fall_grade         RandomForest          both  151.765518   \n",
              "3   Fall_grade         RandomForest   Study Hours  165.085445   \n",
              "4   Fall_grade         RandomForest  Study Habits  157.891266   \n",
              "5   Fall_grade  Logistic Regression          none  128.835202   \n",
              "6   Fall_grade  Logistic Regression          both  146.292141   \n",
              "7   Fall_grade  Logistic Regression   Study Hours  142.288205   \n",
              "8   Fall_grade  Logistic Regression  Study Habits  144.783121   \n",
              "9   Fall_grade              XGBoost          none  146.840556   \n",
              "10  Fall_grade              XGBoost          both  136.071044   \n",
              "11  Fall_grade              XGBoost   Study Hours  171.790968   \n",
              "12  Fall_grade              XGBoost  Study Habits  117.642402   \n",
              "\n",
              "0  Q model baseline g model CE g model baseline  \n",
              "1        132.340968   0.701371         0.693147  \n",
              "2         138.77815   0.707038         0.693147  \n",
              "3        163.854262    0.69526         0.693771  \n",
              "4        140.984591       0.69         0.692419  \n",
              "5        129.303117   0.685745         0.692866  \n",
              "6        158.282511   0.704775         0.692373  \n",
              "7        149.319232   0.687294         0.693418  \n",
              "8        148.984011   0.681076         0.692371  \n",
              "9        142.851953   0.716614         0.695686  \n",
              "10       158.282511   0.742539         0.696292  \n",
              "11       178.136617   0.725975         0.692517  \n",
              "12       148.984011   0.759968         0.693117  "
            ],
            "text/html": [
              "\n",
              "  <div id=\"df-5c9689f8-d561-4dcf-9f28-8c8d9eeb0b30\">\n",
              "    <div class=\"colab-df-container\">\n",
              "      <div>\n",
              "<style scoped>\n",
              "    .dataframe tbody tr th:only-of-type {\n",
              "        vertical-align: middle;\n",
              "    }\n",
              "\n",
              "    .dataframe tbody tr th {\n",
              "        vertical-align: top;\n",
              "    }\n",
              "\n",
              "    .dataframe thead th {\n",
              "        text-align: right;\n",
              "    }\n",
              "</style>\n",
              "<table border=\"1\" class=\"dataframe\">\n",
              "  <thead>\n",
              "    <tr style=\"text-align: right;\">\n",
              "      <th></th>\n",
              "      <th>Outcome</th>\n",
              "      <th>Model</th>\n",
              "      <th>Mediators</th>\n",
              "      <th>Q model MSE</th>\n",
              "      <th>Q model baseline</th>\n",
              "      <th>g model CE</th>\n",
              "      <th>g model baseline</th>\n",
              "    </tr>\n",
              "  </thead>\n",
              "  <tbody>\n",
              "    <tr>\n",
              "      <th>1</th>\n",
              "      <td>Fall_grade</td>\n",
              "      <td>RandomForest</td>\n",
              "      <td>none</td>\n",
              "      <td>144.602557</td>\n",
              "      <td>132.340968</td>\n",
              "      <td>0.701371</td>\n",
              "      <td>0.693147</td>\n",
              "    </tr>\n",
              "    <tr>\n",
              "      <th>2</th>\n",
              "      <td>Fall_grade</td>\n",
              "      <td>RandomForest</td>\n",
              "      <td>both</td>\n",
              "      <td>151.765518</td>\n",
              "      <td>138.77815</td>\n",
              "      <td>0.707038</td>\n",
              "      <td>0.693147</td>\n",
              "    </tr>\n",
              "    <tr>\n",
              "      <th>3</th>\n",
              "      <td>Fall_grade</td>\n",
              "      <td>RandomForest</td>\n",
              "      <td>Study Hours</td>\n",
              "      <td>165.085445</td>\n",
              "      <td>163.854262</td>\n",
              "      <td>0.69526</td>\n",
              "      <td>0.693771</td>\n",
              "    </tr>\n",
              "    <tr>\n",
              "      <th>4</th>\n",
              "      <td>Fall_grade</td>\n",
              "      <td>RandomForest</td>\n",
              "      <td>Study Habits</td>\n",
              "      <td>157.891266</td>\n",
              "      <td>140.984591</td>\n",
              "      <td>0.69</td>\n",
              "      <td>0.692419</td>\n",
              "    </tr>\n",
              "    <tr>\n",
              "      <th>5</th>\n",
              "      <td>Fall_grade</td>\n",
              "      <td>Logistic Regression</td>\n",
              "      <td>none</td>\n",
              "      <td>128.835202</td>\n",
              "      <td>129.303117</td>\n",
              "      <td>0.685745</td>\n",
              "      <td>0.692866</td>\n",
              "    </tr>\n",
              "    <tr>\n",
              "      <th>6</th>\n",
              "      <td>Fall_grade</td>\n",
              "      <td>Logistic Regression</td>\n",
              "      <td>both</td>\n",
              "      <td>146.292141</td>\n",
              "      <td>158.282511</td>\n",
              "      <td>0.704775</td>\n",
              "      <td>0.692373</td>\n",
              "    </tr>\n",
              "    <tr>\n",
              "      <th>7</th>\n",
              "      <td>Fall_grade</td>\n",
              "      <td>Logistic Regression</td>\n",
              "      <td>Study Hours</td>\n",
              "      <td>142.288205</td>\n",
              "      <td>149.319232</td>\n",
              "      <td>0.687294</td>\n",
              "      <td>0.693418</td>\n",
              "    </tr>\n",
              "    <tr>\n",
              "      <th>8</th>\n",
              "      <td>Fall_grade</td>\n",
              "      <td>Logistic Regression</td>\n",
              "      <td>Study Habits</td>\n",
              "      <td>144.783121</td>\n",
              "      <td>148.984011</td>\n",
              "      <td>0.681076</td>\n",
              "      <td>0.692371</td>\n",
              "    </tr>\n",
              "    <tr>\n",
              "      <th>9</th>\n",
              "      <td>Fall_grade</td>\n",
              "      <td>XGBoost</td>\n",
              "      <td>none</td>\n",
              "      <td>146.840556</td>\n",
              "      <td>142.851953</td>\n",
              "      <td>0.716614</td>\n",
              "      <td>0.695686</td>\n",
              "    </tr>\n",
              "    <tr>\n",
              "      <th>10</th>\n",
              "      <td>Fall_grade</td>\n",
              "      <td>XGBoost</td>\n",
              "      <td>both</td>\n",
              "      <td>136.071044</td>\n",
              "      <td>158.282511</td>\n",
              "      <td>0.742539</td>\n",
              "      <td>0.696292</td>\n",
              "    </tr>\n",
              "    <tr>\n",
              "      <th>11</th>\n",
              "      <td>Fall_grade</td>\n",
              "      <td>XGBoost</td>\n",
              "      <td>Study Hours</td>\n",
              "      <td>171.790968</td>\n",
              "      <td>178.136617</td>\n",
              "      <td>0.725975</td>\n",
              "      <td>0.692517</td>\n",
              "    </tr>\n",
              "    <tr>\n",
              "      <th>12</th>\n",
              "      <td>Fall_grade</td>\n",
              "      <td>XGBoost</td>\n",
              "      <td>Study Habits</td>\n",
              "      <td>117.642402</td>\n",
              "      <td>148.984011</td>\n",
              "      <td>0.759968</td>\n",
              "      <td>0.693117</td>\n",
              "    </tr>\n",
              "  </tbody>\n",
              "</table>\n",
              "</div>\n",
              "      <button class=\"colab-df-convert\" onclick=\"convertToInteractive('df-5c9689f8-d561-4dcf-9f28-8c8d9eeb0b30')\"\n",
              "              title=\"Convert this dataframe to an interactive table.\"\n",
              "              style=\"display:none;\">\n",
              "        \n",
              "  <svg xmlns=\"http://www.w3.org/2000/svg\" height=\"24px\"viewBox=\"0 0 24 24\"\n",
              "       width=\"24px\">\n",
              "    <path d=\"M0 0h24v24H0V0z\" fill=\"none\"/>\n",
              "    <path d=\"M18.56 5.44l.94 2.06.94-2.06 2.06-.94-2.06-.94-.94-2.06-.94 2.06-2.06.94zm-11 1L8.5 8.5l.94-2.06 2.06-.94-2.06-.94L8.5 2.5l-.94 2.06-2.06.94zm10 10l.94 2.06.94-2.06 2.06-.94-2.06-.94-.94-2.06-.94 2.06-2.06.94z\"/><path d=\"M17.41 7.96l-1.37-1.37c-.4-.4-.92-.59-1.43-.59-.52 0-1.04.2-1.43.59L10.3 9.45l-7.72 7.72c-.78.78-.78 2.05 0 2.83L4 21.41c.39.39.9.59 1.41.59.51 0 1.02-.2 1.41-.59l7.78-7.78 2.81-2.81c.8-.78.8-2.07 0-2.86zM5.41 20L4 18.59l7.72-7.72 1.47 1.35L5.41 20z\"/>\n",
              "  </svg>\n",
              "      </button>\n",
              "      \n",
              "  <style>\n",
              "    .colab-df-container {\n",
              "      display:flex;\n",
              "      flex-wrap:wrap;\n",
              "      gap: 12px;\n",
              "    }\n",
              "\n",
              "    .colab-df-convert {\n",
              "      background-color: #E8F0FE;\n",
              "      border: none;\n",
              "      border-radius: 50%;\n",
              "      cursor: pointer;\n",
              "      display: none;\n",
              "      fill: #1967D2;\n",
              "      height: 32px;\n",
              "      padding: 0 0 0 0;\n",
              "      width: 32px;\n",
              "    }\n",
              "\n",
              "    .colab-df-convert:hover {\n",
              "      background-color: #E2EBFA;\n",
              "      box-shadow: 0px 1px 2px rgba(60, 64, 67, 0.3), 0px 1px 3px 1px rgba(60, 64, 67, 0.15);\n",
              "      fill: #174EA6;\n",
              "    }\n",
              "\n",
              "    [theme=dark] .colab-df-convert {\n",
              "      background-color: #3B4455;\n",
              "      fill: #D2E3FC;\n",
              "    }\n",
              "\n",
              "    [theme=dark] .colab-df-convert:hover {\n",
              "      background-color: #434B5C;\n",
              "      box-shadow: 0px 1px 3px 1px rgba(0, 0, 0, 0.15);\n",
              "      filter: drop-shadow(0px 1px 2px rgba(0, 0, 0, 0.3));\n",
              "      fill: #FFFFFF;\n",
              "    }\n",
              "  </style>\n",
              "\n",
              "      <script>\n",
              "        const buttonEl =\n",
              "          document.querySelector('#df-5c9689f8-d561-4dcf-9f28-8c8d9eeb0b30 button.colab-df-convert');\n",
              "        buttonEl.style.display =\n",
              "          google.colab.kernel.accessAllowed ? 'block' : 'none';\n",
              "\n",
              "        async function convertToInteractive(key) {\n",
              "          const element = document.querySelector('#df-5c9689f8-d561-4dcf-9f28-8c8d9eeb0b30');\n",
              "          const dataTable =\n",
              "            await google.colab.kernel.invokeFunction('convertToInteractive',\n",
              "                                                     [key], {});\n",
              "          if (!dataTable) return;\n",
              "\n",
              "          const docLinkHtml = 'Like what you see? Visit the ' +\n",
              "            '<a target=\"_blank\" href=https://colab.research.google.com/notebooks/data_table.ipynb>data table notebook</a>'\n",
              "            + ' to learn more about interactive tables.';\n",
              "          element.innerHTML = '';\n",
              "          dataTable['output_type'] = 'display_data';\n",
              "          await google.colab.output.renderOutput(dataTable, element);\n",
              "          const docLink = document.createElement('div');\n",
              "          docLink.innerHTML = docLinkHtml;\n",
              "          element.appendChild(docLink);\n",
              "        }\n",
              "      </script>\n",
              "    </div>\n",
              "  </div>\n",
              "  "
            ]
          },
          "metadata": {},
          "execution_count": 107
        }
      ]
    },
    {
      "cell_type": "markdown",
      "source": [
        "## Table of Natural Indirect Effect"
      ],
      "metadata": {
        "id": "UfOktM7Dp_gV"
      }
    },
    {
      "cell_type": "code",
      "source": [
        "NIE_table = [['Outcome','Type of causal effect','Through which Mediator', 'Model', 'Estimate'], \n",
        "         ['Fall_grade','Natural Indirect Direct Effect', 'Study Hours', 'RandomForest',tau_hat_RFTE - tau_hat_RFSH], \n",
        "         ['Fall_grade','Natural Indirect Direct Effect', 'Study Hours', 'Logistic Regression',tau_hat_LRTE - tau_hat_LRSH],\n",
        "         ['Fall_grade','Natural Indirect Direct Effect', 'Study Hours', 'XGBoost',tau_hat_XGTE - tau_hat_XGSH],\n",
        "         ['Fall_grade','Natural Indirect Direct Effect', 'Study Habits', 'RandomForest',tau_hat_RFTE - tau_hat_RFSB], \n",
        "         ['Fall_grade','Natural Indirect Direct Effect', 'Study Habits', 'Logistic Regression',tau_hat_LRTE - tau_hat_LRSB],\n",
        "         ['Fall_grade','Natural Indirect Direct Effect', 'Study Habits', 'XGBoost',tau_hat_XGTE - tau_hat_XGSB]]"
      ],
      "metadata": {
        "id": "-rc9niODqHkM"
      },
      "execution_count": null,
      "outputs": []
    },
    {
      "cell_type": "code",
      "source": [
        "df_NIE = pd.DataFrame(NIE_table)\n",
        "df_NIE.columns = df_NIE.iloc[0]\n",
        "df_NIE = df_NIE[1:]\n",
        "df_NIE"
      ],
      "metadata": {
        "colab": {
          "base_uri": "https://localhost:8080/",
          "height": 282
        },
        "id": "mYAqYQOFrLwU",
        "outputId": "ee176c5c-0a52-4b96-b2b8-e3666ef4b36a"
      },
      "execution_count": null,
      "outputs": [
        {
          "output_type": "execute_result",
          "data": {
            "text/plain": [
              "0     Outcome           Type of causal effect Through which Mediator  \\\n",
              "1  Fall_grade  Natural Indirect Direct Effect            Study Hours   \n",
              "2  Fall_grade  Natural Indirect Direct Effect            Study Hours   \n",
              "3  Fall_grade  Natural Indirect Direct Effect            Study Hours   \n",
              "4  Fall_grade  Natural Indirect Direct Effect           Study Habits   \n",
              "5  Fall_grade  Natural Indirect Direct Effect           Study Habits   \n",
              "6  Fall_grade  Natural Indirect Direct Effect           Study Habits   \n",
              "\n",
              "0                Model  Estimate  \n",
              "1         RandomForest  0.974556  \n",
              "2  Logistic Regression -0.287979  \n",
              "3              XGBoost  1.105138  \n",
              "4         RandomForest  0.811769  \n",
              "5  Logistic Regression -0.103129  \n",
              "6              XGBoost  1.532629  "
            ],
            "text/html": [
              "\n",
              "  <div id=\"df-088f5fe4-9795-4749-af56-6e82dc51143e\">\n",
              "    <div class=\"colab-df-container\">\n",
              "      <div>\n",
              "<style scoped>\n",
              "    .dataframe tbody tr th:only-of-type {\n",
              "        vertical-align: middle;\n",
              "    }\n",
              "\n",
              "    .dataframe tbody tr th {\n",
              "        vertical-align: top;\n",
              "    }\n",
              "\n",
              "    .dataframe thead th {\n",
              "        text-align: right;\n",
              "    }\n",
              "</style>\n",
              "<table border=\"1\" class=\"dataframe\">\n",
              "  <thead>\n",
              "    <tr style=\"text-align: right;\">\n",
              "      <th></th>\n",
              "      <th>Outcome</th>\n",
              "      <th>Type of causal effect</th>\n",
              "      <th>Through which Mediator</th>\n",
              "      <th>Model</th>\n",
              "      <th>Estimate</th>\n",
              "    </tr>\n",
              "  </thead>\n",
              "  <tbody>\n",
              "    <tr>\n",
              "      <th>1</th>\n",
              "      <td>Fall_grade</td>\n",
              "      <td>Natural Indirect Direct Effect</td>\n",
              "      <td>Study Hours</td>\n",
              "      <td>RandomForest</td>\n",
              "      <td>0.974556</td>\n",
              "    </tr>\n",
              "    <tr>\n",
              "      <th>2</th>\n",
              "      <td>Fall_grade</td>\n",
              "      <td>Natural Indirect Direct Effect</td>\n",
              "      <td>Study Hours</td>\n",
              "      <td>Logistic Regression</td>\n",
              "      <td>-0.287979</td>\n",
              "    </tr>\n",
              "    <tr>\n",
              "      <th>3</th>\n",
              "      <td>Fall_grade</td>\n",
              "      <td>Natural Indirect Direct Effect</td>\n",
              "      <td>Study Hours</td>\n",
              "      <td>XGBoost</td>\n",
              "      <td>1.105138</td>\n",
              "    </tr>\n",
              "    <tr>\n",
              "      <th>4</th>\n",
              "      <td>Fall_grade</td>\n",
              "      <td>Natural Indirect Direct Effect</td>\n",
              "      <td>Study Habits</td>\n",
              "      <td>RandomForest</td>\n",
              "      <td>0.811769</td>\n",
              "    </tr>\n",
              "    <tr>\n",
              "      <th>5</th>\n",
              "      <td>Fall_grade</td>\n",
              "      <td>Natural Indirect Direct Effect</td>\n",
              "      <td>Study Habits</td>\n",
              "      <td>Logistic Regression</td>\n",
              "      <td>-0.103129</td>\n",
              "    </tr>\n",
              "    <tr>\n",
              "      <th>6</th>\n",
              "      <td>Fall_grade</td>\n",
              "      <td>Natural Indirect Direct Effect</td>\n",
              "      <td>Study Habits</td>\n",
              "      <td>XGBoost</td>\n",
              "      <td>1.532629</td>\n",
              "    </tr>\n",
              "  </tbody>\n",
              "</table>\n",
              "</div>\n",
              "      <button class=\"colab-df-convert\" onclick=\"convertToInteractive('df-088f5fe4-9795-4749-af56-6e82dc51143e')\"\n",
              "              title=\"Convert this dataframe to an interactive table.\"\n",
              "              style=\"display:none;\">\n",
              "        \n",
              "  <svg xmlns=\"http://www.w3.org/2000/svg\" height=\"24px\"viewBox=\"0 0 24 24\"\n",
              "       width=\"24px\">\n",
              "    <path d=\"M0 0h24v24H0V0z\" fill=\"none\"/>\n",
              "    <path d=\"M18.56 5.44l.94 2.06.94-2.06 2.06-.94-2.06-.94-.94-2.06-.94 2.06-2.06.94zm-11 1L8.5 8.5l.94-2.06 2.06-.94-2.06-.94L8.5 2.5l-.94 2.06-2.06.94zm10 10l.94 2.06.94-2.06 2.06-.94-2.06-.94-.94-2.06-.94 2.06-2.06.94z\"/><path d=\"M17.41 7.96l-1.37-1.37c-.4-.4-.92-.59-1.43-.59-.52 0-1.04.2-1.43.59L10.3 9.45l-7.72 7.72c-.78.78-.78 2.05 0 2.83L4 21.41c.39.39.9.59 1.41.59.51 0 1.02-.2 1.41-.59l7.78-7.78 2.81-2.81c.8-.78.8-2.07 0-2.86zM5.41 20L4 18.59l7.72-7.72 1.47 1.35L5.41 20z\"/>\n",
              "  </svg>\n",
              "      </button>\n",
              "      \n",
              "  <style>\n",
              "    .colab-df-container {\n",
              "      display:flex;\n",
              "      flex-wrap:wrap;\n",
              "      gap: 12px;\n",
              "    }\n",
              "\n",
              "    .colab-df-convert {\n",
              "      background-color: #E8F0FE;\n",
              "      border: none;\n",
              "      border-radius: 50%;\n",
              "      cursor: pointer;\n",
              "      display: none;\n",
              "      fill: #1967D2;\n",
              "      height: 32px;\n",
              "      padding: 0 0 0 0;\n",
              "      width: 32px;\n",
              "    }\n",
              "\n",
              "    .colab-df-convert:hover {\n",
              "      background-color: #E2EBFA;\n",
              "      box-shadow: 0px 1px 2px rgba(60, 64, 67, 0.3), 0px 1px 3px 1px rgba(60, 64, 67, 0.15);\n",
              "      fill: #174EA6;\n",
              "    }\n",
              "\n",
              "    [theme=dark] .colab-df-convert {\n",
              "      background-color: #3B4455;\n",
              "      fill: #D2E3FC;\n",
              "    }\n",
              "\n",
              "    [theme=dark] .colab-df-convert:hover {\n",
              "      background-color: #434B5C;\n",
              "      box-shadow: 0px 1px 3px 1px rgba(0, 0, 0, 0.15);\n",
              "      filter: drop-shadow(0px 1px 2px rgba(0, 0, 0, 0.3));\n",
              "      fill: #FFFFFF;\n",
              "    }\n",
              "  </style>\n",
              "\n",
              "      <script>\n",
              "        const buttonEl =\n",
              "          document.querySelector('#df-088f5fe4-9795-4749-af56-6e82dc51143e button.colab-df-convert');\n",
              "        buttonEl.style.display =\n",
              "          google.colab.kernel.accessAllowed ? 'block' : 'none';\n",
              "\n",
              "        async function convertToInteractive(key) {\n",
              "          const element = document.querySelector('#df-088f5fe4-9795-4749-af56-6e82dc51143e');\n",
              "          const dataTable =\n",
              "            await google.colab.kernel.invokeFunction('convertToInteractive',\n",
              "                                                     [key], {});\n",
              "          if (!dataTable) return;\n",
              "\n",
              "          const docLinkHtml = 'Like what you see? Visit the ' +\n",
              "            '<a target=\"_blank\" href=https://colab.research.google.com/notebooks/data_table.ipynb>data table notebook</a>'\n",
              "            + ' to learn more about interactive tables.';\n",
              "          element.innerHTML = '';\n",
              "          dataTable['output_type'] = 'display_data';\n",
              "          await google.colab.output.renderOutput(dataTable, element);\n",
              "          const docLink = document.createElement('div');\n",
              "          docLink.innerHTML = docLinkHtml;\n",
              "          element.appendChild(docLink);\n",
              "        }\n",
              "      </script>\n",
              "    </div>\n",
              "  </div>\n",
              "  "
            ]
          },
          "metadata": {},
          "execution_count": 115
        }
      ]
    }
  ],
  "metadata": {
    "colab": {
      "collapsed_sections": [
        "O-DrXpsQJrW6"
      ],
      "provenance": [],
      "toc_visible": true,
      "include_colab_link": true
    },
    "kernelspec": {
      "display_name": "Python 3",
      "name": "python3"
    },
    "language_info": {
      "name": "python"
    }
  },
  "nbformat": 4,
  "nbformat_minor": 0
}