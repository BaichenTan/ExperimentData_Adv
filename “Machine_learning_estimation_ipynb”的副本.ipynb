{
  "cells": [
    {
      "cell_type": "markdown",
      "metadata": {
        "id": "view-in-github",
        "colab_type": "text"
      },
      "source": [
        "<a href=\"https://colab.research.google.com/github/BaichenTan/ExperimentData_Adv/blob/master/%E2%80%9CMachine_learning_estimation_ipynb%E2%80%9D%E7%9A%84%E5%89%AF%E6%9C%AC.ipynb\" target=\"_parent\"><img src=\"https://colab.research.google.com/assets/colab-badge.svg\" alt=\"Open In Colab\"/></a>"
      ]
    },
    {
      "cell_type": "markdown",
      "metadata": {
        "id": "QfZkNLUb4B-p"
      },
      "source": [
        "# ATT Estimation Tutorial\n",
        "\n",
        "This tutorial gives a short example for how to estimate average treatment effect on the treated using machine learning methods"
      ]
    },
    {
      "cell_type": "code",
      "execution_count": null,
      "metadata": {
        "id": "dS2X3Bq1-fxE"
      },
      "outputs": [],
      "source": [
        "import numpy as np\n",
        "import pandas as pd\n",
        "import scipy as sp\n",
        "from sklearn.ensemble import RandomForestClassifier, RandomForestRegressor\n",
        "from sklearn.linear_model import LogisticRegression\n",
        "from sklearn.linear_model import LinearRegression\n",
        "from sklearn.model_selection import KFold, StratifiedKFold, train_test_split\n",
        "from sklearn.metrics import mean_squared_error, log_loss\n",
        "from xgboost import XGBClassifier, XGBRegressor\n",
        "import sklearn\n",
        "import os\n",
        "import matplotlib.pyplot as plt\n",
        "from matplotlib.pyplot import hist\n",
        "from tabulate import tabulate"
      ]
    },
    {
      "cell_type": "code",
      "execution_count": null,
      "metadata": {
        "id": "nxJ46X9cFJ9X"
      },
      "outputs": [],
      "source": [
        "RANDOM_SEED=42\n",
        "np.random.seed(RANDOM_SEED)"
      ]
    },
    {
      "cell_type": "markdown",
      "metadata": {
        "id": "CjKmYJkW2YiC"
      },
      "source": [
        "# Import dataset"
      ]
    },
    {
      "cell_type": "code",
      "execution_count": null,
      "metadata": {
        "colab": {
          "base_uri": "https://localhost:8080/",
          "height": 505
        },
        "id": "-L-Q9K1V2XWI",
        "outputId": "01f41e2c-0c30-4705-820d-d2b9ed0cd5eb"
      },
      "outputs": [
        {
          "output_type": "execute_result",
          "data": {
            "text/plain": [
              "      Unnamed: 0  ...1  followup_fallstudyhours  followup_getwritinghelp  \\\n",
              "0              1   186                       20                        2   \n",
              "1              2   830                       12                        2   \n",
              "2              3   837                       21                        3   \n",
              "3              4   952                       57                        2   \n",
              "4              5   261                       20                        1   \n",
              "...          ...   ...                      ...                      ...   \n",
              "1048        1049   737                       15                        5   \n",
              "1049        1050   807                        4                        5   \n",
              "1050        1051   503                       12                        5   \n",
              "1051        1052   900                       30                        5   \n",
              "1052        1053   427                        4                        4   \n",
              "\n",
              "      followup_metwithinstructor  followup_metwithfreetutor  \\\n",
              "0                              2                          0   \n",
              "1                              0                          2   \n",
              "2                              0                          0   \n",
              "3                              0                          0   \n",
              "4                              0                          0   \n",
              "...                          ...                        ...   \n",
              "1048                           1                          2   \n",
              "1049                           0                          0   \n",
              "1050                           1                          0   \n",
              "1051                           5                          2   \n",
              "1052                           0                          2   \n",
              "\n",
              "      followup_imptodowellatuoft  followup_depressed  followup_stressed  \\\n",
              "0                              7                   2                  1   \n",
              "1                              4                   2                  1   \n",
              "2                              6                   3                  3   \n",
              "3                              7                   3                  2   \n",
              "4                              7                   2                  3   \n",
              "...                          ...                 ...                ...   \n",
              "1048                           7                   3                  3   \n",
              "1049                           7                   3                  3   \n",
              "1050                           4                   1                  1   \n",
              "1051                           7                   1                  2   \n",
              "1052                           7                   3                  3   \n",
              "\n",
              "      fathers_education  mothers_education  fall_meangrade_year1  \\\n",
              "0                     1                  1             77.000000   \n",
              "1                     0                  0             73.666664   \n",
              "2                     1                  5             70.000000   \n",
              "3                     1                  1             81.000000   \n",
              "4                     6                  6             81.500000   \n",
              "...                 ...                ...                   ...   \n",
              "1048                  6                  2             81.333336   \n",
              "1049                  6                  6             73.500000   \n",
              "1050                  7                  7             73.000000   \n",
              "1051                  6                  6             79.666664   \n",
              "1052                  6                  6             66.500000   \n",
              "\n",
              "      exp_gradschl  agreeableness2  agreeableness  extraversion2  \\\n",
              "0                1       -0.517853              0      -2.751067   \n",
              "1                0        1.216498              1      -2.751067   \n",
              "2                0        0.831087              1      -2.751067   \n",
              "3                1        1.409204              1      -2.751067   \n",
              "4                1        1.794615              1      -2.591280   \n",
              "...            ...             ...            ...            ...   \n",
              "1048             1        0.252970              1       2.202324   \n",
              "1049             0       -1.095970              0       2.202324   \n",
              "1050             1       -1.866793              0       2.362111   \n",
              "1051             0       -0.710559              0       2.362111   \n",
              "1052             0       -1.095970              0       2.841471   \n",
              "\n",
              "      extraversion  study_habit  \n",
              "0                0            4  \n",
              "1                0            4  \n",
              "2                0            3  \n",
              "3                0            2  \n",
              "4                0            1  \n",
              "...            ...          ...  \n",
              "1048             1            8  \n",
              "1049             1            5  \n",
              "1050             1            6  \n",
              "1051             1           12  \n",
              "1052             1            6  \n",
              "\n",
              "[1053 rows x 18 columns]"
            ],
            "text/html": [
              "\n",
              "  <div id=\"df-508c95cc-ddf6-4933-9c6d-a4d3f089a3a2\">\n",
              "    <div class=\"colab-df-container\">\n",
              "      <div>\n",
              "<style scoped>\n",
              "    .dataframe tbody tr th:only-of-type {\n",
              "        vertical-align: middle;\n",
              "    }\n",
              "\n",
              "    .dataframe tbody tr th {\n",
              "        vertical-align: top;\n",
              "    }\n",
              "\n",
              "    .dataframe thead th {\n",
              "        text-align: right;\n",
              "    }\n",
              "</style>\n",
              "<table border=\"1\" class=\"dataframe\">\n",
              "  <thead>\n",
              "    <tr style=\"text-align: right;\">\n",
              "      <th></th>\n",
              "      <th>Unnamed: 0</th>\n",
              "      <th>...1</th>\n",
              "      <th>followup_fallstudyhours</th>\n",
              "      <th>followup_getwritinghelp</th>\n",
              "      <th>followup_metwithinstructor</th>\n",
              "      <th>followup_metwithfreetutor</th>\n",
              "      <th>followup_imptodowellatuoft</th>\n",
              "      <th>followup_depressed</th>\n",
              "      <th>followup_stressed</th>\n",
              "      <th>fathers_education</th>\n",
              "      <th>mothers_education</th>\n",
              "      <th>fall_meangrade_year1</th>\n",
              "      <th>exp_gradschl</th>\n",
              "      <th>agreeableness2</th>\n",
              "      <th>agreeableness</th>\n",
              "      <th>extraversion2</th>\n",
              "      <th>extraversion</th>\n",
              "      <th>study_habit</th>\n",
              "    </tr>\n",
              "  </thead>\n",
              "  <tbody>\n",
              "    <tr>\n",
              "      <th>0</th>\n",
              "      <td>1</td>\n",
              "      <td>186</td>\n",
              "      <td>20</td>\n",
              "      <td>2</td>\n",
              "      <td>2</td>\n",
              "      <td>0</td>\n",
              "      <td>7</td>\n",
              "      <td>2</td>\n",
              "      <td>1</td>\n",
              "      <td>1</td>\n",
              "      <td>1</td>\n",
              "      <td>77.000000</td>\n",
              "      <td>1</td>\n",
              "      <td>-0.517853</td>\n",
              "      <td>0</td>\n",
              "      <td>-2.751067</td>\n",
              "      <td>0</td>\n",
              "      <td>4</td>\n",
              "    </tr>\n",
              "    <tr>\n",
              "      <th>1</th>\n",
              "      <td>2</td>\n",
              "      <td>830</td>\n",
              "      <td>12</td>\n",
              "      <td>2</td>\n",
              "      <td>0</td>\n",
              "      <td>2</td>\n",
              "      <td>4</td>\n",
              "      <td>2</td>\n",
              "      <td>1</td>\n",
              "      <td>0</td>\n",
              "      <td>0</td>\n",
              "      <td>73.666664</td>\n",
              "      <td>0</td>\n",
              "      <td>1.216498</td>\n",
              "      <td>1</td>\n",
              "      <td>-2.751067</td>\n",
              "      <td>0</td>\n",
              "      <td>4</td>\n",
              "    </tr>\n",
              "    <tr>\n",
              "      <th>2</th>\n",
              "      <td>3</td>\n",
              "      <td>837</td>\n",
              "      <td>21</td>\n",
              "      <td>3</td>\n",
              "      <td>0</td>\n",
              "      <td>0</td>\n",
              "      <td>6</td>\n",
              "      <td>3</td>\n",
              "      <td>3</td>\n",
              "      <td>1</td>\n",
              "      <td>5</td>\n",
              "      <td>70.000000</td>\n",
              "      <td>0</td>\n",
              "      <td>0.831087</td>\n",
              "      <td>1</td>\n",
              "      <td>-2.751067</td>\n",
              "      <td>0</td>\n",
              "      <td>3</td>\n",
              "    </tr>\n",
              "    <tr>\n",
              "      <th>3</th>\n",
              "      <td>4</td>\n",
              "      <td>952</td>\n",
              "      <td>57</td>\n",
              "      <td>2</td>\n",
              "      <td>0</td>\n",
              "      <td>0</td>\n",
              "      <td>7</td>\n",
              "      <td>3</td>\n",
              "      <td>2</td>\n",
              "      <td>1</td>\n",
              "      <td>1</td>\n",
              "      <td>81.000000</td>\n",
              "      <td>1</td>\n",
              "      <td>1.409204</td>\n",
              "      <td>1</td>\n",
              "      <td>-2.751067</td>\n",
              "      <td>0</td>\n",
              "      <td>2</td>\n",
              "    </tr>\n",
              "    <tr>\n",
              "      <th>4</th>\n",
              "      <td>5</td>\n",
              "      <td>261</td>\n",
              "      <td>20</td>\n",
              "      <td>1</td>\n",
              "      <td>0</td>\n",
              "      <td>0</td>\n",
              "      <td>7</td>\n",
              "      <td>2</td>\n",
              "      <td>3</td>\n",
              "      <td>6</td>\n",
              "      <td>6</td>\n",
              "      <td>81.500000</td>\n",
              "      <td>1</td>\n",
              "      <td>1.794615</td>\n",
              "      <td>1</td>\n",
              "      <td>-2.591280</td>\n",
              "      <td>0</td>\n",
              "      <td>1</td>\n",
              "    </tr>\n",
              "    <tr>\n",
              "      <th>...</th>\n",
              "      <td>...</td>\n",
              "      <td>...</td>\n",
              "      <td>...</td>\n",
              "      <td>...</td>\n",
              "      <td>...</td>\n",
              "      <td>...</td>\n",
              "      <td>...</td>\n",
              "      <td>...</td>\n",
              "      <td>...</td>\n",
              "      <td>...</td>\n",
              "      <td>...</td>\n",
              "      <td>...</td>\n",
              "      <td>...</td>\n",
              "      <td>...</td>\n",
              "      <td>...</td>\n",
              "      <td>...</td>\n",
              "      <td>...</td>\n",
              "      <td>...</td>\n",
              "    </tr>\n",
              "    <tr>\n",
              "      <th>1048</th>\n",
              "      <td>1049</td>\n",
              "      <td>737</td>\n",
              "      <td>15</td>\n",
              "      <td>5</td>\n",
              "      <td>1</td>\n",
              "      <td>2</td>\n",
              "      <td>7</td>\n",
              "      <td>3</td>\n",
              "      <td>3</td>\n",
              "      <td>6</td>\n",
              "      <td>2</td>\n",
              "      <td>81.333336</td>\n",
              "      <td>1</td>\n",
              "      <td>0.252970</td>\n",
              "      <td>1</td>\n",
              "      <td>2.202324</td>\n",
              "      <td>1</td>\n",
              "      <td>8</td>\n",
              "    </tr>\n",
              "    <tr>\n",
              "      <th>1049</th>\n",
              "      <td>1050</td>\n",
              "      <td>807</td>\n",
              "      <td>4</td>\n",
              "      <td>5</td>\n",
              "      <td>0</td>\n",
              "      <td>0</td>\n",
              "      <td>7</td>\n",
              "      <td>3</td>\n",
              "      <td>3</td>\n",
              "      <td>6</td>\n",
              "      <td>6</td>\n",
              "      <td>73.500000</td>\n",
              "      <td>0</td>\n",
              "      <td>-1.095970</td>\n",
              "      <td>0</td>\n",
              "      <td>2.202324</td>\n",
              "      <td>1</td>\n",
              "      <td>5</td>\n",
              "    </tr>\n",
              "    <tr>\n",
              "      <th>1050</th>\n",
              "      <td>1051</td>\n",
              "      <td>503</td>\n",
              "      <td>12</td>\n",
              "      <td>5</td>\n",
              "      <td>1</td>\n",
              "      <td>0</td>\n",
              "      <td>4</td>\n",
              "      <td>1</td>\n",
              "      <td>1</td>\n",
              "      <td>7</td>\n",
              "      <td>7</td>\n",
              "      <td>73.000000</td>\n",
              "      <td>1</td>\n",
              "      <td>-1.866793</td>\n",
              "      <td>0</td>\n",
              "      <td>2.362111</td>\n",
              "      <td>1</td>\n",
              "      <td>6</td>\n",
              "    </tr>\n",
              "    <tr>\n",
              "      <th>1051</th>\n",
              "      <td>1052</td>\n",
              "      <td>900</td>\n",
              "      <td>30</td>\n",
              "      <td>5</td>\n",
              "      <td>5</td>\n",
              "      <td>2</td>\n",
              "      <td>7</td>\n",
              "      <td>1</td>\n",
              "      <td>2</td>\n",
              "      <td>6</td>\n",
              "      <td>6</td>\n",
              "      <td>79.666664</td>\n",
              "      <td>0</td>\n",
              "      <td>-0.710559</td>\n",
              "      <td>0</td>\n",
              "      <td>2.362111</td>\n",
              "      <td>1</td>\n",
              "      <td>12</td>\n",
              "    </tr>\n",
              "    <tr>\n",
              "      <th>1052</th>\n",
              "      <td>1053</td>\n",
              "      <td>427</td>\n",
              "      <td>4</td>\n",
              "      <td>4</td>\n",
              "      <td>0</td>\n",
              "      <td>2</td>\n",
              "      <td>7</td>\n",
              "      <td>3</td>\n",
              "      <td>3</td>\n",
              "      <td>6</td>\n",
              "      <td>6</td>\n",
              "      <td>66.500000</td>\n",
              "      <td>0</td>\n",
              "      <td>-1.095970</td>\n",
              "      <td>0</td>\n",
              "      <td>2.841471</td>\n",
              "      <td>1</td>\n",
              "      <td>6</td>\n",
              "    </tr>\n",
              "  </tbody>\n",
              "</table>\n",
              "<p>1053 rows × 18 columns</p>\n",
              "</div>\n",
              "      <button class=\"colab-df-convert\" onclick=\"convertToInteractive('df-508c95cc-ddf6-4933-9c6d-a4d3f089a3a2')\"\n",
              "              title=\"Convert this dataframe to an interactive table.\"\n",
              "              style=\"display:none;\">\n",
              "        \n",
              "  <svg xmlns=\"http://www.w3.org/2000/svg\" height=\"24px\"viewBox=\"0 0 24 24\"\n",
              "       width=\"24px\">\n",
              "    <path d=\"M0 0h24v24H0V0z\" fill=\"none\"/>\n",
              "    <path d=\"M18.56 5.44l.94 2.06.94-2.06 2.06-.94-2.06-.94-.94-2.06-.94 2.06-2.06.94zm-11 1L8.5 8.5l.94-2.06 2.06-.94-2.06-.94L8.5 2.5l-.94 2.06-2.06.94zm10 10l.94 2.06.94-2.06 2.06-.94-2.06-.94-.94-2.06-.94 2.06-2.06.94z\"/><path d=\"M17.41 7.96l-1.37-1.37c-.4-.4-.92-.59-1.43-.59-.52 0-1.04.2-1.43.59L10.3 9.45l-7.72 7.72c-.78.78-.78 2.05 0 2.83L4 21.41c.39.39.9.59 1.41.59.51 0 1.02-.2 1.41-.59l7.78-7.78 2.81-2.81c.8-.78.8-2.07 0-2.86zM5.41 20L4 18.59l7.72-7.72 1.47 1.35L5.41 20z\"/>\n",
              "  </svg>\n",
              "      </button>\n",
              "      \n",
              "  <style>\n",
              "    .colab-df-container {\n",
              "      display:flex;\n",
              "      flex-wrap:wrap;\n",
              "      gap: 12px;\n",
              "    }\n",
              "\n",
              "    .colab-df-convert {\n",
              "      background-color: #E8F0FE;\n",
              "      border: none;\n",
              "      border-radius: 50%;\n",
              "      cursor: pointer;\n",
              "      display: none;\n",
              "      fill: #1967D2;\n",
              "      height: 32px;\n",
              "      padding: 0 0 0 0;\n",
              "      width: 32px;\n",
              "    }\n",
              "\n",
              "    .colab-df-convert:hover {\n",
              "      background-color: #E2EBFA;\n",
              "      box-shadow: 0px 1px 2px rgba(60, 64, 67, 0.3), 0px 1px 3px 1px rgba(60, 64, 67, 0.15);\n",
              "      fill: #174EA6;\n",
              "    }\n",
              "\n",
              "    [theme=dark] .colab-df-convert {\n",
              "      background-color: #3B4455;\n",
              "      fill: #D2E3FC;\n",
              "    }\n",
              "\n",
              "    [theme=dark] .colab-df-convert:hover {\n",
              "      background-color: #434B5C;\n",
              "      box-shadow: 0px 1px 3px 1px rgba(0, 0, 0, 0.15);\n",
              "      filter: drop-shadow(0px 1px 2px rgba(0, 0, 0, 0.3));\n",
              "      fill: #FFFFFF;\n",
              "    }\n",
              "  </style>\n",
              "\n",
              "      <script>\n",
              "        const buttonEl =\n",
              "          document.querySelector('#df-508c95cc-ddf6-4933-9c6d-a4d3f089a3a2 button.colab-df-convert');\n",
              "        buttonEl.style.display =\n",
              "          google.colab.kernel.accessAllowed ? 'block' : 'none';\n",
              "\n",
              "        async function convertToInteractive(key) {\n",
              "          const element = document.querySelector('#df-508c95cc-ddf6-4933-9c6d-a4d3f089a3a2');\n",
              "          const dataTable =\n",
              "            await google.colab.kernel.invokeFunction('convertToInteractive',\n",
              "                                                     [key], {});\n",
              "          if (!dataTable) return;\n",
              "\n",
              "          const docLinkHtml = 'Like what you see? Visit the ' +\n",
              "            '<a target=\"_blank\" href=https://colab.research.google.com/notebooks/data_table.ipynb>data table notebook</a>'\n",
              "            + ' to learn more about interactive tables.';\n",
              "          element.innerHTML = '';\n",
              "          dataTable['output_type'] = 'display_data';\n",
              "          await google.colab.output.renderOutput(dataTable, element);\n",
              "          const docLink = document.createElement('div');\n",
              "          docLink.innerHTML = docLinkHtml;\n",
              "          element.appendChild(docLink);\n",
              "        }\n",
              "      </script>\n",
              "    </div>\n",
              "  </div>\n",
              "  "
            ]
          },
          "metadata": {},
          "execution_count": 5
        }
      ],
      "source": [
        "data = pd.read_csv(\"https://raw.githubusercontent.com/BaichenTan/ExperimentData_Adv/master/dataset_trimmed_extraversion_final.csv\")\n",
        "data\n"
      ]
    },
    {
      "cell_type": "markdown",
      "metadata": {
        "id": "Q57avql1Pu4k"
      },
      "source": [
        "## Counfounders, Outcome, and Treatment"
      ]
    },
    {
      "cell_type": "code",
      "execution_count": null,
      "metadata": {
        "id": "PHF8AKpy4o4I"
      },
      "outputs": [],
      "source": [
        "#create a dataset of confounders\n",
        "confounders_without_Mediator = data[['fathers_education', 'mothers_education']]\n",
        "confounders_with_allMediators = data[[\"followup_fallstudyhours\", \"followup_imptodowellatuoft\", \"followup_depressed\", \"followup_stressed\", \"fathers_education\",\t\"mothers_education\", \"exp_gradschl\", \"study_habit\"]]\n",
        "confounders_with_mediatorStudyHours = data[[\"followup_fallstudyhours\", \"followup_imptodowellatuoft\", \"followup_depressed\", \"followup_stressed\", \"fathers_education\",\t\"mothers_education\", \"exp_gradschl\"]]\n",
        "confounders_with_mediatorStudyHabits = data[[\"study_habit\",\"followup_imptodowellatuoft\", \"followup_depressed\", \"followup_stressed\", \"fathers_education\",\t\"mothers_education\", \"exp_gradschl\"]]\n",
        "outcome = data['fall_meangrade_year1']\n",
        "treatment = data['extraversion']\n",
        "placebo = data['agreeableness']"
      ]
    },
    {
      "cell_type": "markdown",
      "metadata": {
        "id": "C576dWRsa3ad"
      },
      "source": [
        "## Specify Nuisance Function Models\n",
        "\n",
        "The next step is to specify models for the conditional expected outcome and propensity score"
      ]
    },
    {
      "cell_type": "markdown",
      "metadata": {
        "id": "5PmmVpO89glE"
      },
      "source": [
        "## Q model with randomforest"
      ]
    },
    {
      "cell_type": "code",
      "execution_count": null,
      "metadata": {
        "id": "qyOhSZRQRb8W"
      },
      "outputs": [],
      "source": [
        "# specify a model for the conditional expected outcome\n",
        "\n",
        "# make a function that returns a sklearn model for later use in k-folding\n",
        "def make_Qmodel_randomForest():\n",
        "  return RandomForestRegressor(random_state=RANDOM_SEED, n_estimators=500, max_depth=3)\n",
        "\n",
        "Qmodel_randomForest = make_Qmodel_randomForest()\n",
        "\n",
        "# Sanity check that chosen model actually improves test error\n",
        "# A real analysis should give substantial attention to model selection and validation "
      ]
    },
    {
      "cell_type": "markdown",
      "metadata": {
        "id": "gbhY1xyi9WfR"
      },
      "source": [
        "## Q model with linear regression"
      ]
    },
    {
      "cell_type": "code",
      "execution_count": null,
      "metadata": {
        "id": "KlvJEIUb9W1D"
      },
      "outputs": [],
      "source": [
        "def make_Qmodel_linearRegression():\n",
        "  return LinearRegression()\n",
        "\n",
        "Qmodel_LinearRegression = make_Qmodel_linearRegression()\n",
        "\n"
      ]
    },
    {
      "cell_type": "markdown",
      "metadata": {
        "id": "gcyeKSydAr4w"
      },
      "source": [
        "## Q model with XGBoost "
      ]
    },
    {
      "cell_type": "code",
      "execution_count": null,
      "metadata": {
        "id": "5hiMWUOgAsMd"
      },
      "outputs": [],
      "source": [
        "def make_Qmodel_XGBoost():\n",
        "  return XGBRegressor(n_jobs=1, objective = \"reg:squarederror\", random_state=RANDOM_SEED)\n",
        "\n",
        "Qmodel_XGBRegressor = make_Qmodel_XGBoost()"
      ]
    },
    {
      "cell_type": "markdown",
      "metadata": {
        "id": "pFykT_xgDXKK"
      },
      "source": [
        "## Sanity Check of Qmodel for various confounder conditions"
      ]
    },
    {
      "cell_type": "markdown",
      "source": [
        "### Confounders without Mediators"
      ],
      "metadata": {
        "id": "yIn7aRtIFeqR"
      }
    },
    {
      "cell_type": "code",
      "source": [
        "Qmodel_randomForest = make_Qmodel_randomForest()\n",
        "Qmodel_LinearRegression = make_Qmodel_linearRegression()\n",
        "Qmodel_XGBoost = make_Qmodel_XGBoost()\n",
        "\n",
        "# Sanity check that chosen model actually improves test error\n",
        "# A real analysis should give substantial attention to model selection and validation \n",
        "\n",
        "X_w_treatment = confounders_without_Mediator.copy()\n",
        "X_w_treatment[\"treatment\"] = treatment\n",
        "\n",
        "X_train, X_test, y_train, y_test = train_test_split(X_w_treatment, outcome, test_size=0.2)\n",
        "Qmodel_randomForest.fit(X_train, y_train)\n",
        "Qmodel_LinearRegression.fit(X_train, y_train)\n",
        "Qmodel_XGBoost.fit(X_train, y_train)\n",
        "y_pred_RF0 = Qmodel_randomForest.predict(X_test)\n",
        "y_pred_LR0 = Qmodel_LinearRegression.predict(X_test)\n",
        "y_pred_XGB0 = Qmodel_XGBoost.predict(X_test)\n",
        "\n",
        "test_mse_RF0=mean_squared_error(y_pred_RF0, y_test)\n",
        "print(f\"Test MSE of fit model of RandomForest is {test_mse_RF0}\") \n",
        "test_mse_LR0=mean_squared_error(y_pred_LR0, y_test)\n",
        "print(f\"Test MSE of fit model of LogisticRegression is {test_mse_LR0}\")\n",
        "test_mse_XGB0=mean_squared_error(y_pred_XGB0, y_test)\n",
        "print(f\"Test MSE of fit model of XGBoost is {test_mse_XGB0}\")  \n",
        "baseline_mse_0=mean_squared_error(y_train.mean()*np.ones_like(y_test), y_test)\n",
        "print(f\"Test MSE of no-covariate model {baseline_mse_0}\")"
      ],
      "metadata": {
        "colab": {
          "base_uri": "https://localhost:8080/"
        },
        "id": "WxSl0LydFk5O",
        "outputId": "bbdf5bed-d743-4368-f160-7742ab64d31a"
      },
      "execution_count": null,
      "outputs": [
        {
          "output_type": "stream",
          "name": "stdout",
          "text": [
            "Test MSE of fit model of RandomForest is 152.61182268502063\n",
            "Test MSE of fit model of LogisticRegression is 149.5181603180379\n",
            "Test MSE of fit model of XGBoost is 157.87593280805143\n",
            "Test MSE of no-covariate model 151.60195082882802\n"
          ]
        }
      ]
    },
    {
      "cell_type": "markdown",
      "source": [
        "### Confounders with both mediators"
      ],
      "metadata": {
        "id": "ALvKeOdnG2Cb"
      }
    },
    {
      "cell_type": "code",
      "source": [
        "Qmodel_randomForest = make_Qmodel_randomForest()\n",
        "Qmodel_LinearRegression = make_Qmodel_linearRegression()\n",
        "Qmodel_XGBoost = make_Qmodel_XGBoost()\n",
        "\n",
        "# Sanity check that chosen model actually improves test error\n",
        "# A real analysis should give substantial attention to model selection and validation \n",
        "\n",
        "X_w_treatment = confounders_with_allMediators.copy()\n",
        "X_w_treatment[\"treatment\"] = treatment\n",
        "\n",
        "X_train, X_test, y_train, y_test = train_test_split(X_w_treatment, outcome, test_size=0.2)\n",
        "Qmodel_randomForest.fit(X_train, y_train)\n",
        "Qmodel_LinearRegression.fit(X_train, y_train)\n",
        "Qmodel_XGBoost.fit(X_train, y_train)\n",
        "y_pred_RF1 = Qmodel_randomForest.predict(X_test)\n",
        "y_pred_LR1 = Qmodel_LinearRegression.predict(X_test)\n",
        "y_pred_XGB1 = Qmodel_XGBoost.predict(X_test)\n",
        "\n",
        "test_mse_RF1=mean_squared_error(y_pred_RF1, y_test)\n",
        "print(f\"Test MSE of fit model of RandomForest is {test_mse_RF1}\") \n",
        "test_mse_LR1=mean_squared_error(y_pred_LR1, y_test)\n",
        "print(f\"Test MSE of fit model of LogisticRegression is {test_mse_LR1}\")\n",
        "test_mse_XGB1=mean_squared_error(y_pred_XGB1, y_test)\n",
        "print(f\"Test MSE of fit model of XGBoost is {test_mse_XGB1}\")  \n",
        "baseline_mse_1=mean_squared_error(y_train.mean()*np.ones_like(y_test), y_test)\n",
        "print(f\"Test MSE of no-covariate model {baseline_mse_1}\")"
      ],
      "metadata": {
        "colab": {
          "base_uri": "https://localhost:8080/"
        },
        "id": "OT-Q1HtuHZDR",
        "outputId": "fc0cad98-1120-4c10-d678-11d01cf7b2f5"
      },
      "execution_count": null,
      "outputs": [
        {
          "output_type": "stream",
          "name": "stdout",
          "text": [
            "Test MSE of fit model of RandomForest is 169.40055899282586\n",
            "Test MSE of fit model of LogisticRegression is 168.51074769456227\n",
            "Test MSE of fit model of XGBoost is 181.72313659268914\n",
            "Test MSE of no-covariate model 182.09603897685102\n"
          ]
        }
      ]
    },
    {
      "cell_type": "markdown",
      "source": [
        "### Confounders with Mediator StudyHours"
      ],
      "metadata": {
        "id": "syjSf3g8IKXP"
      }
    },
    {
      "cell_type": "code",
      "source": [
        "Qmodel_randomForest = make_Qmodel_randomForest()\n",
        "Qmodel_LinearRegression = make_Qmodel_linearRegression()\n",
        "Qmodel_XGBoost = make_Qmodel_XGBoost()\n",
        "\n",
        "# Sanity check that chosen model actually improves test error\n",
        "# A real analysis should give substantial attention to model selection and validation \n",
        "\n",
        "X_w_treatment = confounders_with_mediatorStudyHours.copy()\n",
        "X_w_treatment[\"treatment\"] = treatment\n",
        "\n",
        "X_train, X_test, y_train, y_test = train_test_split(X_w_treatment, outcome, test_size=0.2)\n",
        "Qmodel_randomForest.fit(X_train, y_train)\n",
        "Qmodel_LinearRegression.fit(X_train, y_train)\n",
        "Qmodel_XGBoost.fit(X_train, y_train)\n",
        "y_pred_RF2 = Qmodel_randomForest.predict(X_test)\n",
        "y_pred_LR2 = Qmodel_LinearRegression.predict(X_test)\n",
        "y_pred_XGB2 = Qmodel_XGBoost.predict(X_test)\n",
        "\n",
        "test_mse_RF2=mean_squared_error(y_pred_RF2, y_test)\n",
        "print(f\"Test MSE of fit model of RandomForest is {test_mse_RF2}\") \n",
        "test_mse_LR2=mean_squared_error(y_pred_LR2, y_test)\n",
        "print(f\"Test MSE of fit model of LogisticRegression is {test_mse_LR2}\")\n",
        "test_mse_XGB2=mean_squared_error(y_pred_XGB2, y_test)\n",
        "print(f\"Test MSE of fit model of XGBoost is {test_mse_XGB2}\")  \n",
        "baseline_mse_2=mean_squared_error(y_train.mean()*np.ones_like(y_test), y_test)\n",
        "print(f\"Test MSE of no-covariate model {baseline_mse_2}\")"
      ],
      "metadata": {
        "colab": {
          "base_uri": "https://localhost:8080/"
        },
        "id": "nqe87OyZIPlm",
        "outputId": "11bb42ec-1067-4a3f-eb5c-a30deaaa35ab"
      },
      "execution_count": null,
      "outputs": [
        {
          "output_type": "stream",
          "name": "stdout",
          "text": [
            "Test MSE of fit model of RandomForest is 121.74053510688145\n",
            "Test MSE of fit model of LogisticRegression is 121.5828640808898\n",
            "Test MSE of fit model of XGBoost is 127.01489908354753\n",
            "Test MSE of no-covariate model 130.43894336091265\n"
          ]
        }
      ]
    },
    {
      "cell_type": "markdown",
      "source": [
        "### Confounders with Mediator StudyHabit"
      ],
      "metadata": {
        "id": "Pa5OA-KfIntI"
      }
    },
    {
      "cell_type": "code",
      "source": [
        "Qmodel_randomForest = make_Qmodel_randomForest()\n",
        "Qmodel_LinearRegression = make_Qmodel_linearRegression()\n",
        "Qmodel_XGBoost = make_Qmodel_XGBoost()\n",
        "\n",
        "# Sanity check that chosen model actually improves test error\n",
        "# A real analysis should give substantial attention to model selection and validation \n",
        "\n",
        "X_w_treatment = confounders_with_mediatorStudyHabits.copy()\n",
        "X_w_treatment[\"treatment\"] = treatment\n",
        "\n",
        "X_train, X_test, y_train, y_test = train_test_split(X_w_treatment, outcome, test_size=0.2)\n",
        "Qmodel_randomForest.fit(X_train, y_train)\n",
        "Qmodel_LinearRegression.fit(X_train, y_train)\n",
        "Qmodel_XGBoost.fit(X_train, y_train)\n",
        "y_pred_RF3 = Qmodel_randomForest.predict(X_test)\n",
        "y_pred_LR3 = Qmodel_LinearRegression.predict(X_test)\n",
        "y_pred_XGB3 = Qmodel_XGBoost.predict(X_test)\n",
        "\n",
        "test_mse_RF3=mean_squared_error(y_pred_RF3, y_test)\n",
        "print(f\"Test MSE of fit model of RandomForest is {test_mse_RF3}\") \n",
        "test_mse_LR3=mean_squared_error(y_pred_LR2, y_test)\n",
        "print(f\"Test MSE of fit model of LogisticRegression is {test_mse_LR3}\")\n",
        "test_mse_XGB3=mean_squared_error(y_pred_XGB3, y_test)\n",
        "print(f\"Test MSE of fit model of XGBoost is {test_mse_XGB3}\")  \n",
        "baseline_mse_3=mean_squared_error(y_train.mean()*np.ones_like(y_test), y_test)\n",
        "print(f\"Test MSE of no-covariate model {baseline_mse_3}\")"
      ],
      "metadata": {
        "colab": {
          "base_uri": "https://localhost:8080/"
        },
        "id": "dWkpOxNAIrRN",
        "outputId": "427edd02-e752-4338-caad-6ee5aa945dbf"
      },
      "execution_count": null,
      "outputs": [
        {
          "output_type": "stream",
          "name": "stdout",
          "text": [
            "Test MSE of fit model of RandomForest is 146.63714648602019\n",
            "Test MSE of fit model of LogisticRegression is 160.54813326298006\n",
            "Test MSE of fit model of XGBoost is 155.39814844985017\n",
            "Test MSE of no-covariate model 149.82793023432893\n"
          ]
        }
      ]
    },
    {
      "cell_type": "markdown",
      "metadata": {
        "id": "-jKu1MwyCdCC"
      },
      "source": [
        "## g model"
      ]
    },
    {
      "cell_type": "markdown",
      "metadata": {
        "id": "0eaO1Oi3DS8I"
      },
      "source": [
        "### g model with RandomForest"
      ]
    },
    {
      "cell_type": "code",
      "execution_count": null,
      "metadata": {
        "colab": {
          "base_uri": "https://localhost:8080/",
          "height": 107
        },
        "id": "uq6eZEBXbsaI",
        "outputId": "211037e0-aa9e-4304-e52c-79dbb7b4ff18"
      },
      "outputs": [
        {
          "output_type": "execute_result",
          "data": {
            "text/plain": [
              "'\\n# Sanity check of confounders with mediators\\nX_train, X_test, a_train, a_test = train_test_split(confounders_with_Mediators, treatment, test_size=0.2)\\ngmodel.fit(X_train, a_train)\\na_pred = gmodel.predict_proba(X_test)[:,1]\\n\\ntest_ce=log_loss(a_test, a_pred)\\nprint(f\"Test CE of fit model {test_ce}\") \\nbaseline_ce=log_loss(a_test, a_train.mean()*np.ones_like(a_test))\\nprint(f\"Test CE of no-covariate model {baseline_ce}\")\\n'"
            ],
            "application/vnd.google.colaboratory.intrinsic+json": {
              "type": "string"
            }
          },
          "metadata": {},
          "execution_count": 14
        }
      ],
      "source": [
        "# specify a model for the propensity score\n",
        "\n",
        "def make_gmodel_randomForest():\n",
        "\n",
        "  return RandomForestClassifier(random_state=RANDOM_SEED, n_estimators=500, max_depth=3)\n",
        "\n",
        "gmodel_randomForest = make_gmodel_randomForest()\n",
        "# Sanity check that chosen model actually improves test error\n",
        "# A real analysis should give substantial attention to model selection and validation \n",
        "'''\n",
        "# Sanity check of confounders with mediators\n",
        "X_train, X_test, a_train, a_test = train_test_split(confounders_with_Mediators, treatment, test_size=0.2)\n",
        "gmodel.fit(X_train, a_train)\n",
        "a_pred = gmodel.predict_proba(X_test)[:,1]\n",
        "\n",
        "test_ce=log_loss(a_test, a_pred)\n",
        "print(f\"Test CE of fit model {test_ce}\") \n",
        "baseline_ce=log_loss(a_test, a_train.mean()*np.ones_like(a_test))\n",
        "print(f\"Test CE of no-covariate model {baseline_ce}\")\n",
        "'''"
      ]
    },
    {
      "cell_type": "markdown",
      "metadata": {
        "id": "4X3sCNeyC6K0"
      },
      "source": [
        "### g model with logistic regression"
      ]
    },
    {
      "cell_type": "code",
      "execution_count": null,
      "metadata": {
        "id": "dV-pn9FXJrDX"
      },
      "outputs": [],
      "source": [
        "def make_gmodel_logisticRegression():\n",
        "  return LogisticRegression(max_iter=1000)\n",
        "\n",
        "gmodel_LogisticRegression = make_gmodel_logisticRegression()"
      ]
    },
    {
      "cell_type": "markdown",
      "metadata": {
        "id": "O-DrXpsQJrW6"
      },
      "source": [
        "### g model with XGBoost"
      ]
    },
    {
      "cell_type": "code",
      "execution_count": null,
      "metadata": {
        "id": "7iX9s1VrJriP"
      },
      "outputs": [],
      "source": [
        "def make_gmodel_XGBClassifier():\n",
        "  return XGBClassifier(use_label_encoder=False, n_jobs=1, objective='binary:logistic',eval_metric = 'logloss', random_state =RANDOM_SEED)\n",
        "\n",
        "gmodel_XGBClassifier = make_gmodel_XGBClassifier()"
      ]
    },
    {
      "cell_type": "markdown",
      "metadata": {
        "id": "oYvqsja_dhUj"
      },
      "source": [
        "## Sanity Check of gmodel for Various Confounding Conditions"
      ]
    },
    {
      "cell_type": "markdown",
      "source": [
        "### Confounder without Mediators"
      ],
      "metadata": {
        "id": "dm3smeI_JvjZ"
      }
    },
    {
      "cell_type": "code",
      "source": [
        "gmodel_randomForest = make_gmodel_randomForest()\n",
        "gmodel_LogisticRegression = make_gmodel_logisticRegression()\n",
        "gmodel_XGBoost = make_gmodel_XGBClassifier()\n",
        "# Sanity check that chosen model actually improves test error\n",
        "# A real analysis should give substantial attention to model selection and validation \n",
        "\n",
        "# Sanity check of confounders with mediators\n",
        "X_train, X_test, a_train, a_test = train_test_split(confounders_without_Mediator, treatment, test_size=0.2)\n",
        "gmodel_randomForest.fit(X_train, a_train)\n",
        "gmodel_LogisticRegression.fit(X_train, a_train)\n",
        "gmodel_XGBoost.fit(X_train, a_train)\n",
        "a_pred_RF0 = gmodel_randomForest.predict_proba(X_test)[:,1]\n",
        "a_pred_LR0 = gmodel_LogisticRegression.predict_proba(X_test)[:,1]\n",
        "a_pred_XGB0 = gmodel_XGBoost.predict_proba(X_test)[:,1]\n",
        "\n",
        "test_ce_RF0=log_loss(a_test, a_pred_RF0)\n",
        "print(f\"Test CE of fit model {test_ce_RF0}\") \n",
        "test_ce_LR0=log_loss(a_test, a_pred_LR0)\n",
        "print(f\"Test CE of fit model {test_ce_LR0}\") \n",
        "test_ce_XGB0=log_loss(a_test, a_pred_XGB0)\n",
        "print(f\"Test CE of fit model {test_ce_XGB0}\") \n",
        "baseline_ce_0=log_loss(a_test, a_train.mean()*np.ones_like(a_test))\n",
        "print(f\"Test CE of no-covariate model {baseline_ce_0}\")"
      ],
      "metadata": {
        "colab": {
          "base_uri": "https://localhost:8080/"
        },
        "id": "gG5Whi0IJqSt",
        "outputId": "32dba6cd-1be2-4165-d43d-78cdaea40201"
      },
      "execution_count": null,
      "outputs": [
        {
          "output_type": "stream",
          "name": "stdout",
          "text": [
            "Test CE of fit model 0.6969537907441002\n",
            "Test CE of fit model 0.6901815757070059\n",
            "Test CE of fit model 0.7148464357400958\n",
            "Test CE of no-covariate model 0.6928663894825309\n"
          ]
        }
      ]
    },
    {
      "cell_type": "markdown",
      "source": [
        "### Confounder with both Mediators"
      ],
      "metadata": {
        "id": "lTTtyfljKehy"
      }
    },
    {
      "cell_type": "code",
      "source": [
        "gmodel_randomForest = make_gmodel_randomForest()\n",
        "gmodel_LogisticRegression = make_gmodel_logisticRegression()\n",
        "gmodel_XGBoost = make_gmodel_XGBClassifier()\n",
        "# Sanity check that chosen model actually improves test error\n",
        "# A real analysis should give substantial attention to model selection and validation \n",
        "\n",
        "# Sanity check of confounders with mediators\n",
        "X_train, X_test, a_train, a_test = train_test_split(confounders_with_allMediators, treatment, test_size=0.2)\n",
        "gmodel_randomForest.fit(X_train, a_train)\n",
        "gmodel_LogisticRegression.fit(X_train, a_train)\n",
        "gmodel_XGBoost.fit(X_train, a_train)\n",
        "a_pred_RF1 = gmodel_randomForest.predict_proba(X_test)[:,1]\n",
        "a_pred_LR1 = gmodel_LogisticRegression.predict_proba(X_test)[:,1]\n",
        "a_pred_XGB1 = gmodel_XGBoost.predict_proba(X_test)[:,1]\n",
        "\n",
        "test_ce_RF1=log_loss(a_test, a_pred_RF1)\n",
        "print(f\"Test CE of fit model {test_ce_RF1}\") \n",
        "test_ce_LR1=log_loss(a_test, a_pred_LR1)\n",
        "print(f\"Test CE of fit model {test_ce_LR1}\") \n",
        "test_ce_XGB1=log_loss(a_test, a_pred_XGB1)\n",
        "print(f\"Test CE of fit model {test_ce_XGB1}\") \n",
        "baseline_ce_1=log_loss(a_test, a_train.mean()*np.ones_like(a_test))\n",
        "print(f\"Test CE of no-covariate model {baseline_ce_1}\")"
      ],
      "metadata": {
        "colab": {
          "base_uri": "https://localhost:8080/"
        },
        "id": "aPxmmAFuKiKr",
        "outputId": "12ea3d70-5752-49d0-a023-7213283c0984"
      },
      "execution_count": null,
      "outputs": [
        {
          "output_type": "stream",
          "name": "stdout",
          "text": [
            "Test CE of fit model 0.6825371285020937\n",
            "Test CE of fit model 0.6772843801502143\n",
            "Test CE of fit model 0.7119531055197331\n",
            "Test CE of no-covariate model 0.6934184476415775\n"
          ]
        }
      ]
    },
    {
      "cell_type": "markdown",
      "source": [
        "### Confounder with Mediator StudyHour"
      ],
      "metadata": {
        "id": "9w5AmJ3dK7rt"
      }
    },
    {
      "cell_type": "code",
      "source": [
        "gmodel_randomForest = make_gmodel_randomForest()\n",
        "gmodel_LogisticRegression = make_gmodel_logisticRegression()\n",
        "gmodel_XGBoost = make_gmodel_XGBClassifier()\n",
        "# Sanity check that chosen model actually improves test error\n",
        "# A real analysis should give substantial attention to model selection and validation \n",
        "\n",
        "# Sanity check of confounders with mediators\n",
        "X_train, X_test, a_train, a_test = train_test_split(confounders_with_mediatorStudyHours, treatment, test_size=0.2)\n",
        "gmodel_randomForest.fit(X_train, a_train)\n",
        "gmodel_LogisticRegression.fit(X_train, a_train)\n",
        "gmodel_XGBoost.fit(X_train, a_train)\n",
        "a_pred_RF2 = gmodel_randomForest.predict_proba(X_test)[:,1]\n",
        "a_pred_LR2 = gmodel_LogisticRegression.predict_proba(X_test)[:,1]\n",
        "a_pred_XGB2 = gmodel_XGBoost.predict_proba(X_test)[:,1]\n",
        "\n",
        "test_ce_RF2=log_loss(a_test, a_pred_RF2)\n",
        "print(f\"Test CE of fit model {test_ce_RF2}\") \n",
        "test_ce_LR2=log_loss(a_test, a_pred_LR2)\n",
        "print(f\"Test CE of fit model {test_ce_LR2}\") \n",
        "test_ce_XGB2=log_loss(a_test, a_pred_XGB2)\n",
        "print(f\"Test CE of fit model {test_ce_XGB2}\") \n",
        "baseline_ce_2=log_loss(a_test, a_train.mean()*np.ones_like(a_test))\n",
        "print(f\"Test CE of no-covariate model {baseline_ce_2}\")"
      ],
      "metadata": {
        "colab": {
          "base_uri": "https://localhost:8080/"
        },
        "id": "WRsn0T8ALCP1",
        "outputId": "595f6250-257f-4993-f337-c6b148ecf28c"
      },
      "execution_count": null,
      "outputs": [
        {
          "output_type": "stream",
          "name": "stdout",
          "text": [
            "Test CE of fit model 0.6881377317572264\n",
            "Test CE of fit model 0.6904460291819955\n",
            "Test CE of fit model 0.7074084740961898\n",
            "Test CE of no-covariate model 0.6931170637648455\n"
          ]
        }
      ]
    },
    {
      "cell_type": "markdown",
      "source": [
        "### Confounder with Mediator StudyHabit"
      ],
      "metadata": {
        "id": "T8PyKhP8tw-M"
      }
    },
    {
      "cell_type": "code",
      "source": [
        "gmodel_randomForest = make_gmodel_randomForest()\n",
        "gmodel_LogisticRegression = make_gmodel_logisticRegression()\n",
        "gmodel_XGBoost = make_gmodel_XGBClassifier()\n",
        "# Sanity check that chosen model actually improves test error\n",
        "# A real analysis should give substantial attention to model selection and validation \n",
        "\n",
        "# Sanity check of confounders with mediators\n",
        "X_train, X_test, a_train, a_test = train_test_split(confounders_with_mediatorStudyHabits, treatment, test_size=0.2)\n",
        "gmodel_randomForest.fit(X_train, a_train)\n",
        "gmodel_LogisticRegression.fit(X_train, a_train)\n",
        "gmodel_XGBoost.fit(X_train, a_train)\n",
        "a_pred_RF3 = gmodel_randomForest.predict_proba(X_test)[:,1]\n",
        "a_pred_LR3 = gmodel_LogisticRegression.predict_proba(X_test)[:,1]\n",
        "a_pred_XGB3 = gmodel_XGBoost.predict_proba(X_test)[:,1]\n",
        "\n",
        "test_ce_RF3=log_loss(a_test, a_pred_RF3)\n",
        "print(f\"Test CE of fit model {test_ce_RF3}\") \n",
        "test_ce_LR3=log_loss(a_test, a_pred_LR3)\n",
        "print(f\"Test CE of fit model {test_ce_LR3}\") \n",
        "test_ce_XGB3=log_loss(a_test, a_pred_XGB3)\n",
        "print(f\"Test CE of fit model {test_ce_XGB3}\") \n",
        "baseline_ce_3=log_loss(a_test, a_train.mean()*np.ones_like(a_test))\n",
        "print(f\"Test CE of no-covariate model {baseline_ce_3}\")"
      ],
      "metadata": {
        "colab": {
          "base_uri": "https://localhost:8080/"
        },
        "id": "DpJhj5SvtvWT",
        "outputId": "3dbec891-768b-49c8-9150-c1c2a6e8cba2"
      },
      "execution_count": null,
      "outputs": [
        {
          "output_type": "stream",
          "name": "stdout",
          "text": [
            "Test CE of fit model 0.6921129990910787\n",
            "Test CE of fit model 0.6934293132511458\n",
            "Test CE of fit model 0.7088466351631129\n",
            "Test CE of no-covariate model 0.6928663894825308\n"
          ]
        }
      ]
    },
    {
      "cell_type": "markdown",
      "metadata": {
        "id": "2RkvV_4_dFWo"
      },
      "source": [
        "## Use cross fitting to get get predicted outcomes and propensity scores for each unit"
      ]
    },
    {
      "cell_type": "code",
      "execution_count": null,
      "metadata": {
        "id": "KA0AsEGJ_X3b"
      },
      "outputs": [],
      "source": [
        "# helper functions to implement the cross fitting\n",
        "\n",
        "def treatment_k_fold_fit_and_predict(make_model, X:pd.DataFrame, A:np.array, n_splits:int):\n",
        "    \"\"\"\n",
        "    Implements K fold cross-fitting for the model predicting the treatment A. \n",
        "    That is, \n",
        "    1. Split data into K folds\n",
        "    2. For each fold j, the model is fit on the other K-1 folds\n",
        "    3. The fitted model is used to make predictions for each data point in fold j\n",
        "    Returns an array containing the predictions  \n",
        "\n",
        "    Args:\n",
        "    model: function that returns sklearn model (which implements fit and predict_prob)\n",
        "    X: dataframe of variables to adjust for\n",
        "    A: array of treatments\n",
        "    n_splits: number of splits to use\n",
        "    \"\"\"\n",
        "    predictions = np.full_like(A, np.nan, dtype=float)\n",
        "    kf = StratifiedKFold(n_splits=n_splits, shuffle=True, random_state=RANDOM_SEED)\n",
        "    print(kf)\n",
        "    \n",
        "    for train_index, test_index in kf.split(X, A):\n",
        "      X_train = X.loc[train_index]\n",
        "      A_train = A.loc[train_index]\n",
        "      g = make_model()\n",
        "      g.fit(X_train, A_train)\n",
        "\n",
        "      # get predictions for split\n",
        "      predictions[test_index] = g.predict_proba(X.loc[test_index])[:, 1]\n",
        "\n",
        "    assert np.isnan(predictions).sum() == 0\n",
        "    return predictions\n",
        "\n",
        "\n",
        "def outcome_k_fold_fit_and_predict(make_model, X:pd.DataFrame, y:np.array, A:np.array, n_splits:int, output_type:str):\n",
        "    \"\"\"\n",
        "    Implements K fold cross-fitting for the model predicting the outcome Y. \n",
        "    That is, \n",
        "    1. Split data into K folds\n",
        "    2. For each fold j, the model is fit on the other K-1 folds\n",
        "    3. The fitted model is used to make predictions for each data point in fold j\n",
        "    Returns two arrays containing the predictions for all units untreated, all units treated  \n",
        "\n",
        "    Args:\n",
        "    model: function that returns sklearn model (that implements fit and either predict_prob or predict)\n",
        "    X: dataframe of variables to adjust for\n",
        "    y: array of outcomes\n",
        "    A: array of treatments\n",
        "    n_splits: number of splits to use\n",
        "    output_type: type of outcome, \"binary\" or \"continuous\"\n",
        "\n",
        "    \"\"\"\n",
        "    predictions0 = np.full_like(A, np.nan, dtype=float)\n",
        "    predictions1 = np.full_like(y, np.nan, dtype=float)\n",
        "    if output_type == 'binary':\n",
        "      kf = StratifiedKFold(n_splits=n_splits, shuffle=True, random_state=RANDOM_SEED)\n",
        "    elif output_type == 'continuous':\n",
        "      kf = KFold(n_splits=n_splits, shuffle=True, random_state=RANDOM_SEED)\n",
        "\n",
        "    # include the treatment as input feature\n",
        "    X_w_treatment = X.copy()\n",
        "    X_w_treatment[\"A\"] = A\n",
        "\n",
        "    # for predicting effect under treatment / control status for each data point \n",
        "    X0 = X_w_treatment.copy()\n",
        "    X0[\"A\"] = 0\n",
        "    X1 = X_w_treatment.copy()\n",
        "    X1[\"A\"] = 1\n",
        "\n",
        "    \n",
        "    for train_index, test_index in kf.split(X_w_treatment, y):\n",
        "      X_train = X_w_treatment.loc[train_index]\n",
        "      y_train = y.loc[train_index]\n",
        "      q = make_model()\n",
        "      q.fit(X_train, y_train)\n",
        "\n",
        "      if output_type =='binary':\n",
        "        predictions0[test_index] = q.predict_proba(X0.loc[test_index])[:, 1]\n",
        "        predictions1[test_index] = q.predict_proba(X1.loc[test_index])[:, 1]\n",
        "      elif output_type == 'continuous':\n",
        "        predictions0[test_index] = q.predict(X0.loc[test_index])\n",
        "        predictions1[test_index] = q.predict(X1.loc[test_index])\n",
        "\n",
        "    assert np.isnan(predictions0).sum() == 0\n",
        "    assert np.isnan(predictions1).sum() == 0\n",
        "    return predictions0, predictions1"
      ]
    },
    {
      "cell_type": "markdown",
      "source": [
        "## Exclude Predictions with Moderate Extroversion Level"
      ],
      "metadata": {
        "id": "EcXXfNo7Vsrp"
      }
    },
    {
      "cell_type": "code",
      "source": [
        "def exclude_moderate(df):\n",
        "  df.drop(df.index[363:747], inplace=True)\n",
        "  return df"
      ],
      "metadata": {
        "id": "_Q7GMNHXVrkw"
      },
      "execution_count": null,
      "outputs": []
    },
    {
      "cell_type": "markdown",
      "metadata": {
        "id": "VNhM7URdgzQB"
      },
      "source": [
        "## Combine predicted values and data into estimate of ATU"
      ]
    },
    {
      "cell_type": "code",
      "execution_count": null,
      "metadata": {
        "id": "J-vONC5ejwh2"
      },
      "outputs": [],
      "source": [
        "def att_aiptw(Q0, Q1, g, A, Y, prob_t=None):\n",
        "  \"\"\"\n",
        "  # Double ML estimator for the ATT\n",
        "  This uses the ATT specific scores, see equation 3.9 of https://www.econstor.eu/bitstream/10419/149795/1/869216953.pdf\n",
        "  \"\"\"\n",
        "\n",
        "  if prob_t is None:\n",
        "    prob_t = 1 - A.mean() # estimate marginal probability of treatment\n",
        "\n",
        "  tau_hat = (A*((1-g)/g)*(Y-Q1) - (1-A)*(Y-Q1)).mean()/ prob_t\n",
        "  \n",
        "  scores = (A*((1-g)/g)*(Y-Q1) - (1-A)*(Y-Q1) - tau_hat*(1-A)) / prob_t\n",
        "  n = Y.shape[0] # number of observations\n",
        "  std_hat = np.std(scores) / np.sqrt(n)\n",
        "\n",
        "  return tau_hat, std_hat\n"
      ]
    },
    {
      "cell_type": "code",
      "execution_count": null,
      "metadata": {
        "id": "O_F5r0SSkzzK"
      },
      "outputs": [],
      "source": [
        "def ate_aiptw(Q0, Q1, g, A, Y, prob_t=None):\n",
        "  \"\"\"\n",
        "  # Double ML estimator for the ATE\n",
        "  \"\"\"\n",
        "\n",
        "  tau_hat = (Q1 - Q0 + A*(Y-Q1)/g - (1-A)*(Y-Q0)/(1-g)).mean()\n",
        "  \n",
        "  scores = Q1 - Q0 + A*(Y-Q1)/g - (1-A)*(Y-Q0)/(1-g) - tau_hat\n",
        "  n = Y.shape[0] # number of observations\n",
        "  std_hat = np.std(scores) / np.sqrt(n)\n",
        "\n",
        "  return tau_hat, std_hat\n"
      ]
    },
    {
      "cell_type": "markdown",
      "metadata": {
        "id": "1PUtEGGzXSIQ"
      },
      "source": [
        "# Natural Direct Effect with two Mediators"
      ]
    },
    {
      "cell_type": "markdown",
      "metadata": {
        "id": "65_HhISR8mtX"
      },
      "source": [
        "## Check Overlap Conditions 0<Pr(A =1 |𝐗 = x, M1 = m1, M2 = m2) < 1 using the three models"
      ]
    },
    {
      "cell_type": "code",
      "execution_count": null,
      "metadata": {
        "colab": {
          "base_uri": "https://localhost:8080/",
          "height": 317
        },
        "id": "2wJF-GKy8twQ",
        "outputId": "862999fa-2f21-4cf2-e7f7-97df812c809a"
      },
      "outputs": [
        {
          "output_type": "stream",
          "name": "stdout",
          "text": [
            "StratifiedKFold(n_splits=10, random_state=42, shuffle=True)\n"
          ]
        },
        {
          "output_type": "execute_result",
          "data": {
            "text/plain": [
              "Text(0.5, 1.0, 'Using RandomForest')"
            ]
          },
          "metadata": {},
          "execution_count": 25
        },
        {
          "output_type": "display_data",
          "data": {
            "text/plain": [
              "<Figure size 432x288 with 1 Axes>"
            ],
            "image/png": "[encoded data removed]"
          },
          "metadata": {
            "needs_background": "light"
          }
        }
      ],
      "source": [
        "#check the ovrlap conditions using randomForest\n",
        "#get the propensity score function\n",
        "g1 = treatment_k_fold_fit_and_predict(make_gmodel_randomForest, X=confounders_with_allMediators, A=treatment, n_splits=10)\n",
        "g1_ol = np.concatenate((g1[:364],g1[746:]))\n",
        "hist(g1_ol, density=True)\n",
        "plt.title(\"Using RandomForest\")"
      ]
    },
    {
      "cell_type": "code",
      "execution_count": null,
      "metadata": {
        "colab": {
          "base_uri": "https://localhost:8080/",
          "height": 390
        },
        "id": "TAGbVxO3QeGr",
        "outputId": "acedad0e-6245-4a03-b8b7-e8f2306b10cb"
      },
      "outputs": [
        {
          "output_type": "stream",
          "name": "stdout",
          "text": [
            "StratifiedKFold(n_splits=10, random_state=42, shuffle=True)\n"
          ]
        },
        {
          "output_type": "execute_result",
          "data": {
            "text/plain": [
              "(array([0.1559216 , 0.21829025, 1.37211012, 2.52593   , 5.17659728,\n",
              "        5.86265234, 3.8668558 , 1.09145123, 0.56131778, 0.09355296]),\n",
              " array([0.24127859, 0.28906905, 0.3368595 , 0.38464996, 0.43244042,\n",
              "        0.48023088, 0.52802134, 0.57581179, 0.62360225, 0.67139271,\n",
              "        0.71918317]),\n",
              " <a list of 10 Patch objects>)"
            ]
          },
          "metadata": {},
          "execution_count": 26
        },
        {
          "output_type": "display_data",
          "data": {
            "text/plain": [
              "<Figure size 432x288 with 1 Axes>"
            ],
            "image/png": "[encoded data removed]"
          },
          "metadata": {
            "needs_background": "light"
          }
        }
      ],
      "source": [
        "#check the ovrlap conditions using Logistic Regression\n",
        "g2 = treatment_k_fold_fit_and_predict(make_gmodel_logisticRegression, X=confounders_with_allMediators, A=treatment, n_splits=10)\n",
        "g2_ol = np.concatenate((g2[:364],g2[746:]))\n",
        "hist(g2_ol, density=True)"
      ]
    },
    {
      "cell_type": "code",
      "execution_count": null,
      "metadata": {
        "id": "grGefcHXX4ni",
        "colab": {
          "base_uri": "https://localhost:8080/",
          "height": 390
        },
        "outputId": "12977c21-4559-4085-8359-cc8ec755d2f9"
      },
      "outputs": [
        {
          "output_type": "stream",
          "name": "stdout",
          "text": [
            "StratifiedKFold(n_splits=10, random_state=42, shuffle=True)\n"
          ]
        },
        {
          "output_type": "execute_result",
          "data": {
            "text/plain": [
              "(array([0.06962983, 0.22629695, 0.62666849, 1.18370714, 2.54148886,\n",
              "        3.32482447, 2.43704411, 0.81815052, 0.38296407, 0.06962983]),\n",
              " array([0.0340003 , 0.11961377, 0.20522725, 0.29084072, 0.3764542 ,\n",
              "        0.46206767, 0.54768115, 0.63329462, 0.7189081 , 0.80452157,\n",
              "        0.89013505]),\n",
              " <a list of 10 Patch objects>)"
            ]
          },
          "metadata": {},
          "execution_count": 27
        },
        {
          "output_type": "display_data",
          "data": {
            "text/plain": [
              "<Figure size 432x288 with 1 Axes>"
            ],
            "image/png": "[encoded data removed]"
          },
          "metadata": {
            "needs_background": "light"
          }
        }
      ],
      "source": [
        "#check the ovrlap conditions using XGBoost\n",
        "g3 = treatment_k_fold_fit_and_predict(make_gmodel_XGBClassifier, X=confounders_with_allMediators, A=treatment, n_splits=10)\n",
        "g3_ol = np.concatenate((g3[:364],g3[746:]))\n",
        "hist(g3_ol, density=True)"
      ]
    },
    {
      "cell_type": "markdown",
      "metadata": {
        "id": "pswwyh7Eltqc"
      },
      "source": [
        "## Calculate Natural Direct Effect with two mediators using RandomForest"
      ]
    },
    {
      "cell_type": "markdown",
      "metadata": {
        "id": "5PdLq_g6pdZE"
      },
      "source": [
        "### Calculate Q0 and Q1 model using Random Forest"
      ]
    },
    {
      "cell_type": "code",
      "execution_count": null,
      "metadata": {
        "id": "b54BFwwSl9pl"
      },
      "outputs": [],
      "source": [
        "#calculate Q0 and Q1 model\n",
        "Q0_RF,Q1_RF = outcome_k_fold_fit_and_predict(make_Qmodel_randomForest, X=confounders_with_allMediators, y=outcome, A=treatment, n_splits=10, output_type=\"continuous\")\n",
        "#Q0_RF"
      ]
    },
    {
      "cell_type": "markdown",
      "metadata": {
        "id": "YLIVzDWno0FW"
      },
      "source": [
        "### Combine the Dataset for g, Q0, Q1, A, and Y values"
      ]
    },
    {
      "cell_type": "code",
      "execution_count": null,
      "metadata": {
        "id": "YHZOhZvKoyVH",
        "colab": {
          "base_uri": "https://localhost:8080/",
          "height": 206
        },
        "outputId": "ab5f053b-09b9-4aa4-d3e3-16756f29089d"
      },
      "outputs": [
        {
          "output_type": "execute_result",
          "data": {
            "text/plain": [
              "          g         Q0         Q1  A          Y\n",
              "0  0.402782  72.299124  71.960764  0  77.000000\n",
              "1  0.336636  68.104021  67.523853  0  73.666664\n",
              "2  0.469887  72.793072  72.421547  0  70.000000\n",
              "3  0.393366  73.574458  73.066637  0  81.000000\n",
              "4  0.438056  74.199206  73.974197  0  81.500000"
            ],
            "text/html": [
              "\n",
              "  <div id=\"df-1b19d450-d20b-4e17-a9d2-c79621bd1184\">\n",
              "    <div class=\"colab-df-container\">\n",
              "      <div>\n",
              "<style scoped>\n",
              "    .dataframe tbody tr th:only-of-type {\n",
              "        vertical-align: middle;\n",
              "    }\n",
              "\n",
              "    .dataframe tbody tr th {\n",
              "        vertical-align: top;\n",
              "    }\n",
              "\n",
              "    .dataframe thead th {\n",
              "        text-align: right;\n",
              "    }\n",
              "</style>\n",
              "<table border=\"1\" class=\"dataframe\">\n",
              "  <thead>\n",
              "    <tr style=\"text-align: right;\">\n",
              "      <th></th>\n",
              "      <th>g</th>\n",
              "      <th>Q0</th>\n",
              "      <th>Q1</th>\n",
              "      <th>A</th>\n",
              "      <th>Y</th>\n",
              "    </tr>\n",
              "  </thead>\n",
              "  <tbody>\n",
              "    <tr>\n",
              "      <th>0</th>\n",
              "      <td>0.402782</td>\n",
              "      <td>72.299124</td>\n",
              "      <td>71.960764</td>\n",
              "      <td>0</td>\n",
              "      <td>77.000000</td>\n",
              "    </tr>\n",
              "    <tr>\n",
              "      <th>1</th>\n",
              "      <td>0.336636</td>\n",
              "      <td>68.104021</td>\n",
              "      <td>67.523853</td>\n",
              "      <td>0</td>\n",
              "      <td>73.666664</td>\n",
              "    </tr>\n",
              "    <tr>\n",
              "      <th>2</th>\n",
              "      <td>0.469887</td>\n",
              "      <td>72.793072</td>\n",
              "      <td>72.421547</td>\n",
              "      <td>0</td>\n",
              "      <td>70.000000</td>\n",
              "    </tr>\n",
              "    <tr>\n",
              "      <th>3</th>\n",
              "      <td>0.393366</td>\n",
              "      <td>73.574458</td>\n",
              "      <td>73.066637</td>\n",
              "      <td>0</td>\n",
              "      <td>81.000000</td>\n",
              "    </tr>\n",
              "    <tr>\n",
              "      <th>4</th>\n",
              "      <td>0.438056</td>\n",
              "      <td>74.199206</td>\n",
              "      <td>73.974197</td>\n",
              "      <td>0</td>\n",
              "      <td>81.500000</td>\n",
              "    </tr>\n",
              "  </tbody>\n",
              "</table>\n",
              "</div>\n",
              "      <button class=\"colab-df-convert\" onclick=\"convertToInteractive('df-1b19d450-d20b-4e17-a9d2-c79621bd1184')\"\n",
              "              title=\"Convert this dataframe to an interactive table.\"\n",
              "              style=\"display:none;\">\n",
              "        \n",
              "  <svg xmlns=\"http://www.w3.org/2000/svg\" height=\"24px\"viewBox=\"0 0 24 24\"\n",
              "       width=\"24px\">\n",
              "    <path d=\"M0 0h24v24H0V0z\" fill=\"none\"/>\n",
              "    <path d=\"M18.56 5.44l.94 2.06.94-2.06 2.06-.94-2.06-.94-.94-2.06-.94 2.06-2.06.94zm-11 1L8.5 8.5l.94-2.06 2.06-.94-2.06-.94L8.5 2.5l-.94 2.06-2.06.94zm10 10l.94 2.06.94-2.06 2.06-.94-2.06-.94-.94-2.06-.94 2.06-2.06.94z\"/><path d=\"M17.41 7.96l-1.37-1.37c-.4-.4-.92-.59-1.43-.59-.52 0-1.04.2-1.43.59L10.3 9.45l-7.72 7.72c-.78.78-.78 2.05 0 2.83L4 21.41c.39.39.9.59 1.41.59.51 0 1.02-.2 1.41-.59l7.78-7.78 2.81-2.81c.8-.78.8-2.07 0-2.86zM5.41 20L4 18.59l7.72-7.72 1.47 1.35L5.41 20z\"/>\n",
              "  </svg>\n",
              "      </button>\n",
              "      \n",
              "  <style>\n",
              "    .colab-df-container {\n",
              "      display:flex;\n",
              "      flex-wrap:wrap;\n",
              "      gap: 12px;\n",
              "    }\n",
              "\n",
              "    .colab-df-convert {\n",
              "      background-color: #E8F0FE;\n",
              "      border: none;\n",
              "      border-radius: 50%;\n",
              "      cursor: pointer;\n",
              "      display: none;\n",
              "      fill: #1967D2;\n",
              "      height: 32px;\n",
              "      padding: 0 0 0 0;\n",
              "      width: 32px;\n",
              "    }\n",
              "\n",
              "    .colab-df-convert:hover {\n",
              "      background-color: #E2EBFA;\n",
              "      box-shadow: 0px 1px 2px rgba(60, 64, 67, 0.3), 0px 1px 3px 1px rgba(60, 64, 67, 0.15);\n",
              "      fill: #174EA6;\n",
              "    }\n",
              "\n",
              "    [theme=dark] .colab-df-convert {\n",
              "      background-color: #3B4455;\n",
              "      fill: #D2E3FC;\n",
              "    }\n",
              "\n",
              "    [theme=dark] .colab-df-convert:hover {\n",
              "      background-color: #434B5C;\n",
              "      box-shadow: 0px 1px 3px 1px rgba(0, 0, 0, 0.15);\n",
              "      filter: drop-shadow(0px 1px 2px rgba(0, 0, 0, 0.3));\n",
              "      fill: #FFFFFF;\n",
              "    }\n",
              "  </style>\n",
              "\n",
              "      <script>\n",
              "        const buttonEl =\n",
              "          document.querySelector('#df-1b19d450-d20b-4e17-a9d2-c79621bd1184 button.colab-df-convert');\n",
              "        buttonEl.style.display =\n",
              "          google.colab.kernel.accessAllowed ? 'block' : 'none';\n",
              "\n",
              "        async function convertToInteractive(key) {\n",
              "          const element = document.querySelector('#df-1b19d450-d20b-4e17-a9d2-c79621bd1184');\n",
              "          const dataTable =\n",
              "            await google.colab.kernel.invokeFunction('convertToInteractive',\n",
              "                                                     [key], {});\n",
              "          if (!dataTable) return;\n",
              "\n",
              "          const docLinkHtml = 'Like what you see? Visit the ' +\n",
              "            '<a target=\"_blank\" href=https://colab.research.google.com/notebooks/data_table.ipynb>data table notebook</a>'\n",
              "            + ' to learn more about interactive tables.';\n",
              "          element.innerHTML = '';\n",
              "          dataTable['output_type'] = 'display_data';\n",
              "          await google.colab.output.renderOutput(dataTable, element);\n",
              "          const docLink = document.createElement('div');\n",
              "          docLink.innerHTML = docLinkHtml;\n",
              "          element.appendChild(docLink);\n",
              "        }\n",
              "      </script>\n",
              "    </div>\n",
              "  </div>\n",
              "  "
            ]
          },
          "metadata": {},
          "execution_count": 29
        }
      ],
      "source": [
        "data_and_nuisance_estimates_RF = exclude_moderate(pd.DataFrame({'g': g1, 'Q0': Q0_RF, 'Q1': Q1_RF, 'A': treatment, 'Y': outcome}))\n",
        "data_and_nuisance_estimates_RF.head()"
      ]
    },
    {
      "cell_type": "markdown",
      "metadata": {
        "id": "P16hVRw5pig7"
      },
      "source": [
        "### Calculate the Natural Direct Effect using the ATU formula"
      ]
    },
    {
      "cell_type": "code",
      "execution_count": null,
      "metadata": {
        "id": "ZCLFLNnzphy1",
        "colab": {
          "base_uri": "https://localhost:8080/"
        },
        "outputId": "7aa0ff7a-2303-44e2-a23a-72fc86e6d6fc"
      },
      "outputs": [
        {
          "output_type": "stream",
          "name": "stdout",
          "text": [
            "The estimate using RandomForest is -1.8229251600760765 pm 1.6028959659873445\n"
          ]
        }
      ],
      "source": [
        "tau_hat_RF, std_hat_RF = att_aiptw(**data_and_nuisance_estimates_RF)\n",
        "print(f\"The estimate using RandomForest is {tau_hat_RF} pm {1.96*std_hat_RF}\")"
      ]
    },
    {
      "cell_type": "markdown",
      "source": [
        "## Calculate Natural Direct Effect with two mediators using Logistic Regression"
      ],
      "metadata": {
        "id": "4rFe-TQcqwj8"
      }
    },
    {
      "cell_type": "markdown",
      "source": [
        "### Calculate Q0 and Q1 model using Logistic Regression"
      ],
      "metadata": {
        "id": "_6gUluB-rfwN"
      }
    },
    {
      "cell_type": "code",
      "source": [
        "Q0_LR,Q1_LR = outcome_k_fold_fit_and_predict(make_Qmodel_linearRegression, X=confounders_with_allMediators, y=outcome, A=treatment, n_splits=10, output_type=\"continuous\")"
      ],
      "metadata": {
        "id": "NbWUe3dCqu4q"
      },
      "execution_count": null,
      "outputs": []
    },
    {
      "cell_type": "markdown",
      "source": [
        "### Combine the dataset for g, Q0, Q1, A, and Y values"
      ],
      "metadata": {
        "id": "SfQwRfbmsAAy"
      }
    },
    {
      "cell_type": "code",
      "source": [
        "data_and_nuisance_estimates_LR = exclude_moderate(pd.DataFrame({'g': g2, 'Q0': Q0_LR, 'Q1': Q1_LR, 'A': treatment, 'Y': outcome}))\n",
        "data_and_nuisance_estimates_LR.head()"
      ],
      "metadata": {
        "id": "jgXteqcxsQo1",
        "colab": {
          "base_uri": "https://localhost:8080/",
          "height": 206
        },
        "outputId": "91f00369-20f2-46ed-b5ad-a5c71553efba"
      },
      "execution_count": null,
      "outputs": [
        {
          "output_type": "execute_result",
          "data": {
            "text/plain": [
              "          g         Q0         Q1  A          Y\n",
              "0  0.367456  74.400815  72.369989  0  77.000000\n",
              "1  0.367775  65.763319  64.326119  0  73.666664\n",
              "2  0.489072  68.645615  67.065967  0  70.000000\n",
              "3  0.261071  78.606101  77.026453  0  81.000000\n",
              "4  0.450896  74.054152  72.637679  0  81.500000"
            ],
            "text/html": [
              "\n",
              "  <div id=\"df-84963ed7-ce6b-46ed-878e-a06d2cb3ce3b\">\n",
              "    <div class=\"colab-df-container\">\n",
              "      <div>\n",
              "<style scoped>\n",
              "    .dataframe tbody tr th:only-of-type {\n",
              "        vertical-align: middle;\n",
              "    }\n",
              "\n",
              "    .dataframe tbody tr th {\n",
              "        vertical-align: top;\n",
              "    }\n",
              "\n",
              "    .dataframe thead th {\n",
              "        text-align: right;\n",
              "    }\n",
              "</style>\n",
              "<table border=\"1\" class=\"dataframe\">\n",
              "  <thead>\n",
              "    <tr style=\"text-align: right;\">\n",
              "      <th></th>\n",
              "      <th>g</th>\n",
              "      <th>Q0</th>\n",
              "      <th>Q1</th>\n",
              "      <th>A</th>\n",
              "      <th>Y</th>\n",
              "    </tr>\n",
              "  </thead>\n",
              "  <tbody>\n",
              "    <tr>\n",
              "      <th>0</th>\n",
              "      <td>0.367456</td>\n",
              "      <td>74.400815</td>\n",
              "      <td>72.369989</td>\n",
              "      <td>0</td>\n",
              "      <td>77.000000</td>\n",
              "    </tr>\n",
              "    <tr>\n",
              "      <th>1</th>\n",
              "      <td>0.367775</td>\n",
              "      <td>65.763319</td>\n",
              "      <td>64.326119</td>\n",
              "      <td>0</td>\n",
              "      <td>73.666664</td>\n",
              "    </tr>\n",
              "    <tr>\n",
              "      <th>2</th>\n",
              "      <td>0.489072</td>\n",
              "      <td>68.645615</td>\n",
              "      <td>67.065967</td>\n",
              "      <td>0</td>\n",
              "      <td>70.000000</td>\n",
              "    </tr>\n",
              "    <tr>\n",
              "      <th>3</th>\n",
              "      <td>0.261071</td>\n",
              "      <td>78.606101</td>\n",
              "      <td>77.026453</td>\n",
              "      <td>0</td>\n",
              "      <td>81.000000</td>\n",
              "    </tr>\n",
              "    <tr>\n",
              "      <th>4</th>\n",
              "      <td>0.450896</td>\n",
              "      <td>74.054152</td>\n",
              "      <td>72.637679</td>\n",
              "      <td>0</td>\n",
              "      <td>81.500000</td>\n",
              "    </tr>\n",
              "  </tbody>\n",
              "</table>\n",
              "</div>\n",
              "      <button class=\"colab-df-convert\" onclick=\"convertToInteractive('df-84963ed7-ce6b-46ed-878e-a06d2cb3ce3b')\"\n",
              "              title=\"Convert this dataframe to an interactive table.\"\n",
              "              style=\"display:none;\">\n",
              "        \n",
              "  <svg xmlns=\"http://www.w3.org/2000/svg\" height=\"24px\"viewBox=\"0 0 24 24\"\n",
              "       width=\"24px\">\n",
              "    <path d=\"M0 0h24v24H0V0z\" fill=\"none\"/>\n",
              "    <path d=\"M18.56 5.44l.94 2.06.94-2.06 2.06-.94-2.06-.94-.94-2.06-.94 2.06-2.06.94zm-11 1L8.5 8.5l.94-2.06 2.06-.94-2.06-.94L8.5 2.5l-.94 2.06-2.06.94zm10 10l.94 2.06.94-2.06 2.06-.94-2.06-.94-.94-2.06-.94 2.06-2.06.94z\"/><path d=\"M17.41 7.96l-1.37-1.37c-.4-.4-.92-.59-1.43-.59-.52 0-1.04.2-1.43.59L10.3 9.45l-7.72 7.72c-.78.78-.78 2.05 0 2.83L4 21.41c.39.39.9.59 1.41.59.51 0 1.02-.2 1.41-.59l7.78-7.78 2.81-2.81c.8-.78.8-2.07 0-2.86zM5.41 20L4 18.59l7.72-7.72 1.47 1.35L5.41 20z\"/>\n",
              "  </svg>\n",
              "      </button>\n",
              "      \n",
              "  <style>\n",
              "    .colab-df-container {\n",
              "      display:flex;\n",
              "      flex-wrap:wrap;\n",
              "      gap: 12px;\n",
              "    }\n",
              "\n",
              "    .colab-df-convert {\n",
              "      background-color: #E8F0FE;\n",
              "      border: none;\n",
              "      border-radius: 50%;\n",
              "      cursor: pointer;\n",
              "      display: none;\n",
              "      fill: #1967D2;\n",
              "      height: 32px;\n",
              "      padding: 0 0 0 0;\n",
              "      width: 32px;\n",
              "    }\n",
              "\n",
              "    .colab-df-convert:hover {\n",
              "      background-color: #E2EBFA;\n",
              "      box-shadow: 0px 1px 2px rgba(60, 64, 67, 0.3), 0px 1px 3px 1px rgba(60, 64, 67, 0.15);\n",
              "      fill: #174EA6;\n",
              "    }\n",
              "\n",
              "    [theme=dark] .colab-df-convert {\n",
              "      background-color: #3B4455;\n",
              "      fill: #D2E3FC;\n",
              "    }\n",
              "\n",
              "    [theme=dark] .colab-df-convert:hover {\n",
              "      background-color: #434B5C;\n",
              "      box-shadow: 0px 1px 3px 1px rgba(0, 0, 0, 0.15);\n",
              "      filter: drop-shadow(0px 1px 2px rgba(0, 0, 0, 0.3));\n",
              "      fill: #FFFFFF;\n",
              "    }\n",
              "  </style>\n",
              "\n",
              "      <script>\n",
              "        const buttonEl =\n",
              "          document.querySelector('#df-84963ed7-ce6b-46ed-878e-a06d2cb3ce3b button.colab-df-convert');\n",
              "        buttonEl.style.display =\n",
              "          google.colab.kernel.accessAllowed ? 'block' : 'none';\n",
              "\n",
              "        async function convertToInteractive(key) {\n",
              "          const element = document.querySelector('#df-84963ed7-ce6b-46ed-878e-a06d2cb3ce3b');\n",
              "          const dataTable =\n",
              "            await google.colab.kernel.invokeFunction('convertToInteractive',\n",
              "                                                     [key], {});\n",
              "          if (!dataTable) return;\n",
              "\n",
              "          const docLinkHtml = 'Like what you see? Visit the ' +\n",
              "            '<a target=\"_blank\" href=https://colab.research.google.com/notebooks/data_table.ipynb>data table notebook</a>'\n",
              "            + ' to learn more about interactive tables.';\n",
              "          element.innerHTML = '';\n",
              "          dataTable['output_type'] = 'display_data';\n",
              "          await google.colab.output.renderOutput(dataTable, element);\n",
              "          const docLink = document.createElement('div');\n",
              "          docLink.innerHTML = docLinkHtml;\n",
              "          element.appendChild(docLink);\n",
              "        }\n",
              "      </script>\n",
              "    </div>\n",
              "  </div>\n",
              "  "
            ]
          },
          "metadata": {},
          "execution_count": 32
        }
      ]
    },
    {
      "cell_type": "markdown",
      "source": [
        "### Calculate the Natural Direct Effect using the ATU formula"
      ],
      "metadata": {
        "id": "BrMCaZL9sa5U"
      }
    },
    {
      "cell_type": "code",
      "source": [
        "tau_hat_LR, std_hat_LR = att_aiptw(**data_and_nuisance_estimates_LR)\n",
        "print(f\"The estimate using RandomForest is {tau_hat_LR} pm {1.96*std_hat_LR}\")"
      ],
      "metadata": {
        "colab": {
          "base_uri": "https://localhost:8080/"
        },
        "id": "pwKVGTpUsgIO",
        "outputId": "18d51178-37a2-4eff-a708-c0a1cf5fd039"
      },
      "execution_count": null,
      "outputs": [
        {
          "output_type": "stream",
          "name": "stdout",
          "text": [
            "The estimate using RandomForest is -1.7545830996293097 pm 1.6116906687275725\n"
          ]
        }
      ]
    },
    {
      "cell_type": "markdown",
      "source": [
        "## Calculate the Natural Direct Effect with two Mediators using XGBoost model"
      ],
      "metadata": {
        "id": "7Mz72YvHtE7r"
      }
    },
    {
      "cell_type": "markdown",
      "source": [
        "### Calculate Q0 and Q1 model using XGBoost"
      ],
      "metadata": {
        "id": "xGBYzxtBtg72"
      }
    },
    {
      "cell_type": "code",
      "source": [
        "Q0_XGB,Q1_XGB = outcome_k_fold_fit_and_predict(make_Qmodel_XGBoost, X=confounders_with_allMediators, y=outcome, A=treatment, n_splits=10, output_type=\"continuous\")"
      ],
      "metadata": {
        "id": "6EnXGFwUtOYW"
      },
      "execution_count": null,
      "outputs": []
    },
    {
      "cell_type": "markdown",
      "source": [
        "### Combine the dataset for g, Q0, Q1, A, and Y values"
      ],
      "metadata": {
        "id": "NZdRyegdtdKt"
      }
    },
    {
      "cell_type": "code",
      "source": [
        "data_and_nuisance_estimates_XGB = exclude_moderate(pd.DataFrame({'g': g3, 'Q0': Q0_XGB, 'Q1': Q1_XGB, 'A': treatment, 'Y': outcome}))\n",
        "data_and_nuisance_estimates_XGB.head()"
      ],
      "metadata": {
        "id": "OxZj4xFntvdy",
        "colab": {
          "base_uri": "https://localhost:8080/",
          "height": 206
        },
        "outputId": "e2682935-b3b6-42b6-a2d1-8078883eda18"
      },
      "execution_count": null,
      "outputs": [
        {
          "output_type": "execute_result",
          "data": {
            "text/plain": [
              "          g         Q0         Q1  A          Y\n",
              "0  0.227087  77.488861  75.122292  0  77.000000\n",
              "1  0.199275  66.383614  62.081127  0  73.666664\n",
              "2  0.440174  72.696465  70.747185  0  70.000000\n",
              "3  0.622674  70.690514  69.941917  0  81.000000\n",
              "4  0.290809  75.049919  73.602463  0  81.500000"
            ],
            "text/html": [
              "\n",
              "  <div id=\"df-bc866f60-5d61-4d09-9c9a-19bebae594ba\">\n",
              "    <div class=\"colab-df-container\">\n",
              "      <div>\n",
              "<style scoped>\n",
              "    .dataframe tbody tr th:only-of-type {\n",
              "        vertical-align: middle;\n",
              "    }\n",
              "\n",
              "    .dataframe tbody tr th {\n",
              "        vertical-align: top;\n",
              "    }\n",
              "\n",
              "    .dataframe thead th {\n",
              "        text-align: right;\n",
              "    }\n",
              "</style>\n",
              "<table border=\"1\" class=\"dataframe\">\n",
              "  <thead>\n",
              "    <tr style=\"text-align: right;\">\n",
              "      <th></th>\n",
              "      <th>g</th>\n",
              "      <th>Q0</th>\n",
              "      <th>Q1</th>\n",
              "      <th>A</th>\n",
              "      <th>Y</th>\n",
              "    </tr>\n",
              "  </thead>\n",
              "  <tbody>\n",
              "    <tr>\n",
              "      <th>0</th>\n",
              "      <td>0.227087</td>\n",
              "      <td>77.488861</td>\n",
              "      <td>75.122292</td>\n",
              "      <td>0</td>\n",
              "      <td>77.000000</td>\n",
              "    </tr>\n",
              "    <tr>\n",
              "      <th>1</th>\n",
              "      <td>0.199275</td>\n",
              "      <td>66.383614</td>\n",
              "      <td>62.081127</td>\n",
              "      <td>0</td>\n",
              "      <td>73.666664</td>\n",
              "    </tr>\n",
              "    <tr>\n",
              "      <th>2</th>\n",
              "      <td>0.440174</td>\n",
              "      <td>72.696465</td>\n",
              "      <td>70.747185</td>\n",
              "      <td>0</td>\n",
              "      <td>70.000000</td>\n",
              "    </tr>\n",
              "    <tr>\n",
              "      <th>3</th>\n",
              "      <td>0.622674</td>\n",
              "      <td>70.690514</td>\n",
              "      <td>69.941917</td>\n",
              "      <td>0</td>\n",
              "      <td>81.000000</td>\n",
              "    </tr>\n",
              "    <tr>\n",
              "      <th>4</th>\n",
              "      <td>0.290809</td>\n",
              "      <td>75.049919</td>\n",
              "      <td>73.602463</td>\n",
              "      <td>0</td>\n",
              "      <td>81.500000</td>\n",
              "    </tr>\n",
              "  </tbody>\n",
              "</table>\n",
              "</div>\n",
              "      <button class=\"colab-df-convert\" onclick=\"convertToInteractive('df-bc866f60-5d61-4d09-9c9a-19bebae594ba')\"\n",
              "              title=\"Convert this dataframe to an interactive table.\"\n",
              "              style=\"display:none;\">\n",
              "        \n",
              "  <svg xmlns=\"http://www.w3.org/2000/svg\" height=\"24px\"viewBox=\"0 0 24 24\"\n",
              "       width=\"24px\">\n",
              "    <path d=\"M0 0h24v24H0V0z\" fill=\"none\"/>\n",
              "    <path d=\"M18.56 5.44l.94 2.06.94-2.06 2.06-.94-2.06-.94-.94-2.06-.94 2.06-2.06.94zm-11 1L8.5 8.5l.94-2.06 2.06-.94-2.06-.94L8.5 2.5l-.94 2.06-2.06.94zm10 10l.94 2.06.94-2.06 2.06-.94-2.06-.94-.94-2.06-.94 2.06-2.06.94z\"/><path d=\"M17.41 7.96l-1.37-1.37c-.4-.4-.92-.59-1.43-.59-.52 0-1.04.2-1.43.59L10.3 9.45l-7.72 7.72c-.78.78-.78 2.05 0 2.83L4 21.41c.39.39.9.59 1.41.59.51 0 1.02-.2 1.41-.59l7.78-7.78 2.81-2.81c.8-.78.8-2.07 0-2.86zM5.41 20L4 18.59l7.72-7.72 1.47 1.35L5.41 20z\"/>\n",
              "  </svg>\n",
              "      </button>\n",
              "      \n",
              "  <style>\n",
              "    .colab-df-container {\n",
              "      display:flex;\n",
              "      flex-wrap:wrap;\n",
              "      gap: 12px;\n",
              "    }\n",
              "\n",
              "    .colab-df-convert {\n",
              "      background-color: #E8F0FE;\n",
              "      border: none;\n",
              "      border-radius: 50%;\n",
              "      cursor: pointer;\n",
              "      display: none;\n",
              "      fill: #1967D2;\n",
              "      height: 32px;\n",
              "      padding: 0 0 0 0;\n",
              "      width: 32px;\n",
              "    }\n",
              "\n",
              "    .colab-df-convert:hover {\n",
              "      background-color: #E2EBFA;\n",
              "      box-shadow: 0px 1px 2px rgba(60, 64, 67, 0.3), 0px 1px 3px 1px rgba(60, 64, 67, 0.15);\n",
              "      fill: #174EA6;\n",
              "    }\n",
              "\n",
              "    [theme=dark] .colab-df-convert {\n",
              "      background-color: #3B4455;\n",
              "      fill: #D2E3FC;\n",
              "    }\n",
              "\n",
              "    [theme=dark] .colab-df-convert:hover {\n",
              "      background-color: #434B5C;\n",
              "      box-shadow: 0px 1px 3px 1px rgba(0, 0, 0, 0.15);\n",
              "      filter: drop-shadow(0px 1px 2px rgba(0, 0, 0, 0.3));\n",
              "      fill: #FFFFFF;\n",
              "    }\n",
              "  </style>\n",
              "\n",
              "      <script>\n",
              "        const buttonEl =\n",
              "          document.querySelector('#df-bc866f60-5d61-4d09-9c9a-19bebae594ba button.colab-df-convert');\n",
              "        buttonEl.style.display =\n",
              "          google.colab.kernel.accessAllowed ? 'block' : 'none';\n",
              "\n",
              "        async function convertToInteractive(key) {\n",
              "          const element = document.querySelector('#df-bc866f60-5d61-4d09-9c9a-19bebae594ba');\n",
              "          const dataTable =\n",
              "            await google.colab.kernel.invokeFunction('convertToInteractive',\n",
              "                                                     [key], {});\n",
              "          if (!dataTable) return;\n",
              "\n",
              "          const docLinkHtml = 'Like what you see? Visit the ' +\n",
              "            '<a target=\"_blank\" href=https://colab.research.google.com/notebooks/data_table.ipynb>data table notebook</a>'\n",
              "            + ' to learn more about interactive tables.';\n",
              "          element.innerHTML = '';\n",
              "          dataTable['output_type'] = 'display_data';\n",
              "          await google.colab.output.renderOutput(dataTable, element);\n",
              "          const docLink = document.createElement('div');\n",
              "          docLink.innerHTML = docLinkHtml;\n",
              "          element.appendChild(docLink);\n",
              "        }\n",
              "      </script>\n",
              "    </div>\n",
              "  </div>\n",
              "  "
            ]
          },
          "metadata": {},
          "execution_count": 35
        }
      ]
    },
    {
      "cell_type": "markdown",
      "source": [
        "### Calculate the Natural Direct Effect using the ATU formula"
      ],
      "metadata": {
        "id": "6IFD_uhvtrU9"
      }
    },
    {
      "cell_type": "code",
      "source": [
        "tau_hat_XGB, std_hat_XGB = att_aiptw(**data_and_nuisance_estimates_XGB)\n",
        "print(f\"The estimate using RandomForest is {tau_hat_XGB} pm {1.96*std_hat_XGB}\")"
      ],
      "metadata": {
        "id": "fAP289gxuP7X",
        "colab": {
          "base_uri": "https://localhost:8080/"
        },
        "outputId": "9d24bccf-289a-40fb-8ff2-db204a49eedc"
      },
      "execution_count": null,
      "outputs": [
        {
          "output_type": "stream",
          "name": "stdout",
          "text": [
            "The estimate using RandomForest is -2.3732965265579797 pm 2.5775501827258482\n"
          ]
        }
      ]
    },
    {
      "cell_type": "markdown",
      "metadata": {
        "id": "r5tVJ3-qvccX"
      },
      "source": [
        "# Natural Direct Effect with StudyHours as the mediator"
      ]
    },
    {
      "cell_type": "markdown",
      "metadata": {
        "id": "vzrTOVNtvccX"
      },
      "source": [
        "## Check Overlap Conditions 0<Pr(A =1 |𝐗 = x, M1 = m1) < 1 using the three models"
      ]
    },
    {
      "cell_type": "code",
      "execution_count": null,
      "metadata": {
        "colab": {
          "base_uri": "https://localhost:8080/",
          "height": 390
        },
        "outputId": "025c930c-4d07-4d97-faba-e5bb642cf1a7",
        "id": "z-lbBRKJvccX"
      },
      "outputs": [
        {
          "output_type": "stream",
          "name": "stdout",
          "text": [
            "StratifiedKFold(n_splits=10, random_state=42, shuffle=True)\n"
          ]
        },
        {
          "output_type": "execute_result",
          "data": {
            "text/plain": [
              "(array([ 0.09635056,  0.33722697,  1.25255733,  2.55328994,  4.33577537,\n",
              "         9.63505638, 10.98396427,  1.73431015,  1.10803148,  0.28905169]),\n",
              " array([0.31562682, 0.34656204, 0.37749726, 0.40843248, 0.4393677 ,\n",
              "        0.47030292, 0.50123814, 0.53217336, 0.56310858, 0.5940438 ,\n",
              "        0.62497902]),\n",
              " <a list of 10 Patch objects>)"
            ]
          },
          "metadata": {},
          "execution_count": 37
        },
        {
          "output_type": "display_data",
          "data": {
            "text/plain": [
              "<Figure size 432x288 with 1 Axes>"
            ],
            "image/png": "[encoded data removed]"
          },
          "metadata": {
            "needs_background": "light"
          }
        }
      ],
      "source": [
        "#check the overlap conditions using randomForest\n",
        "#get the propensity score function\n",
        "g1_SH = treatment_k_fold_fit_and_predict(make_gmodel_randomForest, X=confounders_with_mediatorStudyHours, A=treatment, n_splits=10)\n",
        "g1_SH_ol = np.concatenate((g1_SH[:364],g1_SH[746:]))\n",
        "hist(g1_SH_ol, density=True)"
      ]
    },
    {
      "cell_type": "code",
      "execution_count": null,
      "metadata": {
        "colab": {
          "base_uri": "https://localhost:8080/",
          "height": 391
        },
        "outputId": "f6929037-1038-48f7-8b6b-61fb722329cc",
        "id": "qs3EjUetvccY"
      },
      "outputs": [
        {
          "output_type": "stream",
          "name": "stdout",
          "text": [
            "StratifiedKFold(n_splits=10, random_state=42, shuffle=True)\n"
          ]
        },
        {
          "output_type": "execute_result",
          "data": {
            "text/plain": [
              "(array([0.16586695, 0.24880043, 0.62200108, 2.15627041, 4.02227366,\n",
              "        5.51507625, 6.75907841, 6.09561059, 1.74160303, 0.49760086]),\n",
              " array([0.27255243, 0.30849239, 0.34443235, 0.38037231, 0.41631227,\n",
              "        0.45225223, 0.48819219, 0.52413215, 0.56007211, 0.59601207,\n",
              "        0.63195204]),\n",
              " <a list of 10 Patch objects>)"
            ]
          },
          "metadata": {},
          "execution_count": 38
        },
        {
          "output_type": "display_data",
          "data": {
            "text/plain": [
              "<Figure size 432x288 with 1 Axes>"
            ],
            "image/png": "[encoded data removed]"
          },
          "metadata": {
            "needs_background": "light"
          }
        }
      ],
      "source": [
        "#check the overlap conditions using Logistic Regression\n",
        "g2_SH = treatment_k_fold_fit_and_predict(make_gmodel_logisticRegression, X=confounders_with_mediatorStudyHours, A=treatment, n_splits=10)\n",
        "g2_SH_ol = np.concatenate((g2_SH[:364],g2_SH[746:]))\n",
        "hist(g2_SH_ol, density=True)"
      ]
    },
    {
      "cell_type": "code",
      "execution_count": null,
      "metadata": {
        "colab": {
          "base_uri": "https://localhost:8080/",
          "height": 393
        },
        "outputId": "6825bcbb-09e4-49aa-d70b-6b1a2a028359",
        "id": "Fky2lWR4vccY"
      },
      "outputs": [
        {
          "output_type": "stream",
          "name": "stdout",
          "text": [
            "StratifiedKFold(n_splits=10, random_state=42, shuffle=True)\n"
          ]
        },
        {
          "output_type": "execute_result",
          "data": {
            "text/plain": [
              "(array([0.03539834, 0.19469085, 0.46017837, 1.06195009, 2.58407855,\n",
              "        3.84071948, 2.49558271, 0.7787634 , 0.31858503, 0.10619501]),\n",
              " array([0.03583595, 0.12003838, 0.20424081, 0.28844324, 0.37264567,\n",
              "        0.4568481 , 0.54105053, 0.62525296, 0.70945539, 0.79365782,\n",
              "        0.87786025]),\n",
              " <a list of 10 Patch objects>)"
            ]
          },
          "metadata": {},
          "execution_count": 39
        },
        {
          "output_type": "display_data",
          "data": {
            "text/plain": [
              "<Figure size 432x288 with 1 Axes>"
            ],
            "image/png": "[encoded data removed]"
          },
          "metadata": {
            "needs_background": "light"
          }
        }
      ],
      "source": [
        "#check the ovrlap conditions using XGBoost\n",
        "g3_SH = treatment_k_fold_fit_and_predict(make_gmodel_XGBClassifier, X=confounders_with_mediatorStudyHours, A=treatment, n_splits=10)\n",
        "g3_SH_ol = np.concatenate((g3_SH[:364],g3_SH[746:]))\n",
        "hist(g3_SH_ol, density=True)"
      ]
    },
    {
      "cell_type": "markdown",
      "metadata": {
        "id": "mUo3HEw7vccY"
      },
      "source": [
        "## Calculate Natural Direct Effect using RandomForest: Using StudyHours as the mediator"
      ]
    },
    {
      "cell_type": "markdown",
      "metadata": {
        "id": "qimN2jQQvccY"
      },
      "source": [
        "### Calculate Q0 and Q1 model using Random Forest"
      ]
    },
    {
      "cell_type": "code",
      "execution_count": null,
      "metadata": {
        "id": "9FCg3QNLvccY"
      },
      "outputs": [],
      "source": [
        "# Calculate Q0 and Q1 model\n",
        "Q0_RFSH,Q1_RFSH = outcome_k_fold_fit_and_predict(make_Qmodel_randomForest, X=confounders_with_mediatorStudyHours, y=outcome, A=treatment, n_splits=10, output_type=\"continuous\")"
      ]
    },
    {
      "cell_type": "markdown",
      "metadata": {
        "id": "HJS5fNTRvccY"
      },
      "source": [
        "### Combine the Dataset for g, Q0, Q1, A, and Y values"
      ]
    },
    {
      "cell_type": "code",
      "execution_count": null,
      "metadata": {
        "colab": {
          "base_uri": "https://localhost:8080/",
          "height": 206
        },
        "outputId": "04c5cc1f-e26e-41cc-932a-894ebdb6a545",
        "id": "GGvlefq3vccY"
      },
      "outputs": [
        {
          "output_type": "execute_result",
          "data": {
            "text/plain": [
              "          g         Q0         Q1  A          Y\n",
              "0  0.405798  72.627219  72.246202  0  77.000000\n",
              "1  0.349164  67.910706  67.193627  0  73.666664\n",
              "2  0.467157  72.367704  71.957374  0  70.000000\n",
              "3  0.395640  73.347364  72.649354  0  81.000000\n",
              "4  0.487912  74.291248  74.006197  0  81.500000"
            ],
            "text/html": [
              "\n",
              "  <div id=\"df-a11f4373-482a-49b4-a96d-4ffe26c42d99\">\n",
              "    <div class=\"colab-df-container\">\n",
              "      <div>\n",
              "<style scoped>\n",
              "    .dataframe tbody tr th:only-of-type {\n",
              "        vertical-align: middle;\n",
              "    }\n",
              "\n",
              "    .dataframe tbody tr th {\n",
              "        vertical-align: top;\n",
              "    }\n",
              "\n",
              "    .dataframe thead th {\n",
              "        text-align: right;\n",
              "    }\n",
              "</style>\n",
              "<table border=\"1\" class=\"dataframe\">\n",
              "  <thead>\n",
              "    <tr style=\"text-align: right;\">\n",
              "      <th></th>\n",
              "      <th>g</th>\n",
              "      <th>Q0</th>\n",
              "      <th>Q1</th>\n",
              "      <th>A</th>\n",
              "      <th>Y</th>\n",
              "    </tr>\n",
              "  </thead>\n",
              "  <tbody>\n",
              "    <tr>\n",
              "      <th>0</th>\n",
              "      <td>0.405798</td>\n",
              "      <td>72.627219</td>\n",
              "      <td>72.246202</td>\n",
              "      <td>0</td>\n",
              "      <td>77.000000</td>\n",
              "    </tr>\n",
              "    <tr>\n",
              "      <th>1</th>\n",
              "      <td>0.349164</td>\n",
              "      <td>67.910706</td>\n",
              "      <td>67.193627</td>\n",
              "      <td>0</td>\n",
              "      <td>73.666664</td>\n",
              "    </tr>\n",
              "    <tr>\n",
              "      <th>2</th>\n",
              "      <td>0.467157</td>\n",
              "      <td>72.367704</td>\n",
              "      <td>71.957374</td>\n",
              "      <td>0</td>\n",
              "      <td>70.000000</td>\n",
              "    </tr>\n",
              "    <tr>\n",
              "      <th>3</th>\n",
              "      <td>0.395640</td>\n",
              "      <td>73.347364</td>\n",
              "      <td>72.649354</td>\n",
              "      <td>0</td>\n",
              "      <td>81.000000</td>\n",
              "    </tr>\n",
              "    <tr>\n",
              "      <th>4</th>\n",
              "      <td>0.487912</td>\n",
              "      <td>74.291248</td>\n",
              "      <td>74.006197</td>\n",
              "      <td>0</td>\n",
              "      <td>81.500000</td>\n",
              "    </tr>\n",
              "  </tbody>\n",
              "</table>\n",
              "</div>\n",
              "      <button class=\"colab-df-convert\" onclick=\"convertToInteractive('df-a11f4373-482a-49b4-a96d-4ffe26c42d99')\"\n",
              "              title=\"Convert this dataframe to an interactive table.\"\n",
              "              style=\"display:none;\">\n",
              "        \n",
              "  <svg xmlns=\"http://www.w3.org/2000/svg\" height=\"24px\"viewBox=\"0 0 24 24\"\n",
              "       width=\"24px\">\n",
              "    <path d=\"M0 0h24v24H0V0z\" fill=\"none\"/>\n",
              "    <path d=\"M18.56 5.44l.94 2.06.94-2.06 2.06-.94-2.06-.94-.94-2.06-.94 2.06-2.06.94zm-11 1L8.5 8.5l.94-2.06 2.06-.94-2.06-.94L8.5 2.5l-.94 2.06-2.06.94zm10 10l.94 2.06.94-2.06 2.06-.94-2.06-.94-.94-2.06-.94 2.06-2.06.94z\"/><path d=\"M17.41 7.96l-1.37-1.37c-.4-.4-.92-.59-1.43-.59-.52 0-1.04.2-1.43.59L10.3 9.45l-7.72 7.72c-.78.78-.78 2.05 0 2.83L4 21.41c.39.39.9.59 1.41.59.51 0 1.02-.2 1.41-.59l7.78-7.78 2.81-2.81c.8-.78.8-2.07 0-2.86zM5.41 20L4 18.59l7.72-7.72 1.47 1.35L5.41 20z\"/>\n",
              "  </svg>\n",
              "      </button>\n",
              "      \n",
              "  <style>\n",
              "    .colab-df-container {\n",
              "      display:flex;\n",
              "      flex-wrap:wrap;\n",
              "      gap: 12px;\n",
              "    }\n",
              "\n",
              "    .colab-df-convert {\n",
              "      background-color: #E8F0FE;\n",
              "      border: none;\n",
              "      border-radius: 50%;\n",
              "      cursor: pointer;\n",
              "      display: none;\n",
              "      fill: #1967D2;\n",
              "      height: 32px;\n",
              "      padding: 0 0 0 0;\n",
              "      width: 32px;\n",
              "    }\n",
              "\n",
              "    .colab-df-convert:hover {\n",
              "      background-color: #E2EBFA;\n",
              "      box-shadow: 0px 1px 2px rgba(60, 64, 67, 0.3), 0px 1px 3px 1px rgba(60, 64, 67, 0.15);\n",
              "      fill: #174EA6;\n",
              "    }\n",
              "\n",
              "    [theme=dark] .colab-df-convert {\n",
              "      background-color: #3B4455;\n",
              "      fill: #D2E3FC;\n",
              "    }\n",
              "\n",
              "    [theme=dark] .colab-df-convert:hover {\n",
              "      background-color: #434B5C;\n",
              "      box-shadow: 0px 1px 3px 1px rgba(0, 0, 0, 0.15);\n",
              "      filter: drop-shadow(0px 1px 2px rgba(0, 0, 0, 0.3));\n",
              "      fill: #FFFFFF;\n",
              "    }\n",
              "  </style>\n",
              "\n",
              "      <script>\n",
              "        const buttonEl =\n",
              "          document.querySelector('#df-a11f4373-482a-49b4-a96d-4ffe26c42d99 button.colab-df-convert');\n",
              "        buttonEl.style.display =\n",
              "          google.colab.kernel.accessAllowed ? 'block' : 'none';\n",
              "\n",
              "        async function convertToInteractive(key) {\n",
              "          const element = document.querySelector('#df-a11f4373-482a-49b4-a96d-4ffe26c42d99');\n",
              "          const dataTable =\n",
              "            await google.colab.kernel.invokeFunction('convertToInteractive',\n",
              "                                                     [key], {});\n",
              "          if (!dataTable) return;\n",
              "\n",
              "          const docLinkHtml = 'Like what you see? Visit the ' +\n",
              "            '<a target=\"_blank\" href=https://colab.research.google.com/notebooks/data_table.ipynb>data table notebook</a>'\n",
              "            + ' to learn more about interactive tables.';\n",
              "          element.innerHTML = '';\n",
              "          dataTable['output_type'] = 'display_data';\n",
              "          await google.colab.output.renderOutput(dataTable, element);\n",
              "          const docLink = document.createElement('div');\n",
              "          docLink.innerHTML = docLinkHtml;\n",
              "          element.appendChild(docLink);\n",
              "        }\n",
              "      </script>\n",
              "    </div>\n",
              "  </div>\n",
              "  "
            ]
          },
          "metadata": {},
          "execution_count": 41
        }
      ],
      "source": [
        "data_and_nuisance_estimates_RFSH = exclude_moderate(pd.DataFrame({'g': g1_SH, 'Q0': Q0_RFSH, 'Q1': Q1_RFSH, 'A': treatment, 'Y': outcome}))\n",
        "data_and_nuisance_estimates_RFSH.head()"
      ]
    },
    {
      "cell_type": "markdown",
      "metadata": {
        "id": "my5fFYv7vccZ"
      },
      "source": [
        "### Calculate the Natural Direct Effect using the ATU formula"
      ]
    },
    {
      "cell_type": "code",
      "execution_count": null,
      "metadata": {
        "colab": {
          "base_uri": "https://localhost:8080/"
        },
        "outputId": "20177bd6-c592-4558-bddf-3797e3fa5cef",
        "id": "y26GBnjdvccZ"
      },
      "outputs": [
        {
          "output_type": "stream",
          "name": "stdout",
          "text": [
            "The estimate is -1.8372531778586831 pm 1.6098985819739995\n"
          ]
        }
      ],
      "source": [
        "tau_hat_RFSH, std_hat_RFSH = att_aiptw(**data_and_nuisance_estimates_RFSH)\n",
        "print(f\"The estimate is {tau_hat_RFSH} pm {1.96*std_hat_RFSH}\")"
      ]
    },
    {
      "cell_type": "markdown",
      "source": [
        "## Calculate Natural Direct Effect using Logistic Regression: Using StudyHours as the mediator"
      ],
      "metadata": {
        "id": "wusfve4QvccZ"
      }
    },
    {
      "cell_type": "markdown",
      "source": [
        "### Calculate Q0 and Q1 model using Logistic Regression"
      ],
      "metadata": {
        "id": "gpajpARxvccZ"
      }
    },
    {
      "cell_type": "code",
      "source": [
        "Q0_LRSH,Q1_LRSH = outcome_k_fold_fit_and_predict(make_Qmodel_linearRegression, X=confounders_with_mediatorStudyHours, y=outcome, A=treatment, n_splits=10, output_type=\"continuous\")"
      ],
      "metadata": {
        "id": "l53YzxSVvccZ"
      },
      "execution_count": null,
      "outputs": []
    },
    {
      "cell_type": "markdown",
      "source": [
        "### Combine the dataset for g, Q0, Q1, A, and Y values"
      ],
      "metadata": {
        "id": "kopNcIoAvccZ"
      }
    },
    {
      "cell_type": "code",
      "source": [
        "data_and_nuisance_estimates_LRSH = exclude_moderate(pd.DataFrame({'g': g2_SH, 'Q0': Q0_LRSH, 'Q1': Q1_LRSH, 'A': treatment, 'Y': outcome}))\n",
        "data_and_nuisance_estimates_LRSH.head()"
      ],
      "metadata": {
        "colab": {
          "base_uri": "https://localhost:8080/",
          "height": 206
        },
        "outputId": "3212db4d-27f2-42d5-bb2f-cb51994e1e8f",
        "id": "C-eq2ZCdvccZ"
      },
      "execution_count": null,
      "outputs": [
        {
          "output_type": "execute_result",
          "data": {
            "text/plain": [
              "          g         Q0         Q1  A          Y\n",
              "0  0.407010  74.327267  72.283829  0  77.000000\n",
              "1  0.380085  65.705040  64.250488  0  73.666664\n",
              "2  0.539543  68.788454  67.227153  0  70.000000\n",
              "3  0.310189  78.884170  77.322870  0  81.000000\n",
              "4  0.522647  73.766872  72.331557  0  81.500000"
            ],
            "text/html": [
              "\n",
              "  <div id=\"df-a90c7674-c6ba-42d6-97d1-d32b954c9b80\">\n",
              "    <div class=\"colab-df-container\">\n",
              "      <div>\n",
              "<style scoped>\n",
              "    .dataframe tbody tr th:only-of-type {\n",
              "        vertical-align: middle;\n",
              "    }\n",
              "\n",
              "    .dataframe tbody tr th {\n",
              "        vertical-align: top;\n",
              "    }\n",
              "\n",
              "    .dataframe thead th {\n",
              "        text-align: right;\n",
              "    }\n",
              "</style>\n",
              "<table border=\"1\" class=\"dataframe\">\n",
              "  <thead>\n",
              "    <tr style=\"text-align: right;\">\n",
              "      <th></th>\n",
              "      <th>g</th>\n",
              "      <th>Q0</th>\n",
              "      <th>Q1</th>\n",
              "      <th>A</th>\n",
              "      <th>Y</th>\n",
              "    </tr>\n",
              "  </thead>\n",
              "  <tbody>\n",
              "    <tr>\n",
              "      <th>0</th>\n",
              "      <td>0.407010</td>\n",
              "      <td>74.327267</td>\n",
              "      <td>72.283829</td>\n",
              "      <td>0</td>\n",
              "      <td>77.000000</td>\n",
              "    </tr>\n",
              "    <tr>\n",
              "      <th>1</th>\n",
              "      <td>0.380085</td>\n",
              "      <td>65.705040</td>\n",
              "      <td>64.250488</td>\n",
              "      <td>0</td>\n",
              "      <td>73.666664</td>\n",
              "    </tr>\n",
              "    <tr>\n",
              "      <th>2</th>\n",
              "      <td>0.539543</td>\n",
              "      <td>68.788454</td>\n",
              "      <td>67.227153</td>\n",
              "      <td>0</td>\n",
              "      <td>70.000000</td>\n",
              "    </tr>\n",
              "    <tr>\n",
              "      <th>3</th>\n",
              "      <td>0.310189</td>\n",
              "      <td>78.884170</td>\n",
              "      <td>77.322870</td>\n",
              "      <td>0</td>\n",
              "      <td>81.000000</td>\n",
              "    </tr>\n",
              "    <tr>\n",
              "      <th>4</th>\n",
              "      <td>0.522647</td>\n",
              "      <td>73.766872</td>\n",
              "      <td>72.331557</td>\n",
              "      <td>0</td>\n",
              "      <td>81.500000</td>\n",
              "    </tr>\n",
              "  </tbody>\n",
              "</table>\n",
              "</div>\n",
              "      <button class=\"colab-df-convert\" onclick=\"convertToInteractive('df-a90c7674-c6ba-42d6-97d1-d32b954c9b80')\"\n",
              "              title=\"Convert this dataframe to an interactive table.\"\n",
              "              style=\"display:none;\">\n",
              "        \n",
              "  <svg xmlns=\"http://www.w3.org/2000/svg\" height=\"24px\"viewBox=\"0 0 24 24\"\n",
              "       width=\"24px\">\n",
              "    <path d=\"M0 0h24v24H0V0z\" fill=\"none\"/>\n",
              "    <path d=\"M18.56 5.44l.94 2.06.94-2.06 2.06-.94-2.06-.94-.94-2.06-.94 2.06-2.06.94zm-11 1L8.5 8.5l.94-2.06 2.06-.94-2.06-.94L8.5 2.5l-.94 2.06-2.06.94zm10 10l.94 2.06.94-2.06 2.06-.94-2.06-.94-.94-2.06-.94 2.06-2.06.94z\"/><path d=\"M17.41 7.96l-1.37-1.37c-.4-.4-.92-.59-1.43-.59-.52 0-1.04.2-1.43.59L10.3 9.45l-7.72 7.72c-.78.78-.78 2.05 0 2.83L4 21.41c.39.39.9.59 1.41.59.51 0 1.02-.2 1.41-.59l7.78-7.78 2.81-2.81c.8-.78.8-2.07 0-2.86zM5.41 20L4 18.59l7.72-7.72 1.47 1.35L5.41 20z\"/>\n",
              "  </svg>\n",
              "      </button>\n",
              "      \n",
              "  <style>\n",
              "    .colab-df-container {\n",
              "      display:flex;\n",
              "      flex-wrap:wrap;\n",
              "      gap: 12px;\n",
              "    }\n",
              "\n",
              "    .colab-df-convert {\n",
              "      background-color: #E8F0FE;\n",
              "      border: none;\n",
              "      border-radius: 50%;\n",
              "      cursor: pointer;\n",
              "      display: none;\n",
              "      fill: #1967D2;\n",
              "      height: 32px;\n",
              "      padding: 0 0 0 0;\n",
              "      width: 32px;\n",
              "    }\n",
              "\n",
              "    .colab-df-convert:hover {\n",
              "      background-color: #E2EBFA;\n",
              "      box-shadow: 0px 1px 2px rgba(60, 64, 67, 0.3), 0px 1px 3px 1px rgba(60, 64, 67, 0.15);\n",
              "      fill: #174EA6;\n",
              "    }\n",
              "\n",
              "    [theme=dark] .colab-df-convert {\n",
              "      background-color: #3B4455;\n",
              "      fill: #D2E3FC;\n",
              "    }\n",
              "\n",
              "    [theme=dark] .colab-df-convert:hover {\n",
              "      background-color: #434B5C;\n",
              "      box-shadow: 0px 1px 3px 1px rgba(0, 0, 0, 0.15);\n",
              "      filter: drop-shadow(0px 1px 2px rgba(0, 0, 0, 0.3));\n",
              "      fill: #FFFFFF;\n",
              "    }\n",
              "  </style>\n",
              "\n",
              "      <script>\n",
              "        const buttonEl =\n",
              "          document.querySelector('#df-a90c7674-c6ba-42d6-97d1-d32b954c9b80 button.colab-df-convert');\n",
              "        buttonEl.style.display =\n",
              "          google.colab.kernel.accessAllowed ? 'block' : 'none';\n",
              "\n",
              "        async function convertToInteractive(key) {\n",
              "          const element = document.querySelector('#df-a90c7674-c6ba-42d6-97d1-d32b954c9b80');\n",
              "          const dataTable =\n",
              "            await google.colab.kernel.invokeFunction('convertToInteractive',\n",
              "                                                     [key], {});\n",
              "          if (!dataTable) return;\n",
              "\n",
              "          const docLinkHtml = 'Like what you see? Visit the ' +\n",
              "            '<a target=\"_blank\" href=https://colab.research.google.com/notebooks/data_table.ipynb>data table notebook</a>'\n",
              "            + ' to learn more about interactive tables.';\n",
              "          element.innerHTML = '';\n",
              "          dataTable['output_type'] = 'display_data';\n",
              "          await google.colab.output.renderOutput(dataTable, element);\n",
              "          const docLink = document.createElement('div');\n",
              "          docLink.innerHTML = docLinkHtml;\n",
              "          element.appendChild(docLink);\n",
              "        }\n",
              "      </script>\n",
              "    </div>\n",
              "  </div>\n",
              "  "
            ]
          },
          "metadata": {},
          "execution_count": 44
        }
      ]
    },
    {
      "cell_type": "markdown",
      "source": [
        "### Calculate the Natural Direct Effect using the ATU formula"
      ],
      "metadata": {
        "id": "HjHBw0CbvccZ"
      }
    },
    {
      "cell_type": "code",
      "source": [
        "tau_hat_LRSH, std_hat_LRSH = att_aiptw(**data_and_nuisance_estimates_LRSH)\n",
        "print(f\"The estimate is {tau_hat_LRSH} pm {1.96*std_hat_LRSH}\")"
      ],
      "metadata": {
        "colab": {
          "base_uri": "https://localhost:8080/"
        },
        "outputId": "6d260b33-26b9-4a87-e518-20bb644fadc3",
        "id": "6oxU2fRdvccZ"
      },
      "execution_count": null,
      "outputs": [
        {
          "output_type": "stream",
          "name": "stdout",
          "text": [
            "The estimate is -1.6982852478109984 pm 1.5987121171258265\n"
          ]
        }
      ]
    },
    {
      "cell_type": "markdown",
      "source": [
        "## Calculate the Natural Direct Effect using XGBoost model: Using StudyHours as the Mediator"
      ],
      "metadata": {
        "id": "khunWu9-vcca"
      }
    },
    {
      "cell_type": "markdown",
      "source": [
        "### Calculate Q0 and Q1 model using XGBoost"
      ],
      "metadata": {
        "id": "MiyobKXivcca"
      }
    },
    {
      "cell_type": "code",
      "source": [
        "Q0_XGSH,Q1_XGSH = outcome_k_fold_fit_and_predict(make_Qmodel_XGBoost, X=confounders_with_mediatorStudyHours, y=outcome, A=treatment, n_splits=10, output_type=\"continuous\")"
      ],
      "metadata": {
        "id": "TLYnmWPdvcca"
      },
      "execution_count": null,
      "outputs": []
    },
    {
      "cell_type": "markdown",
      "source": [
        "### Combine the dataset for g, Q0, Q1, A, and Y values"
      ],
      "metadata": {
        "id": "ztWQif2Tvcca"
      }
    },
    {
      "cell_type": "code",
      "source": [
        "data_and_nuisance_estimates_XGSH = exclude_moderate(pd.DataFrame({'g': g3_SH, 'Q0': Q0_XGSH, 'Q1': Q1_XGSH, 'A': treatment, 'Y': outcome}))\n",
        "data_and_nuisance_estimates_XGSH.head()"
      ],
      "metadata": {
        "colab": {
          "base_uri": "https://localhost:8080/",
          "height": 206
        },
        "outputId": "2d6266dc-8253-4cfd-e206-9cc3e142402d",
        "id": "SA3MUED-vcca"
      },
      "execution_count": null,
      "outputs": [
        {
          "output_type": "execute_result",
          "data": {
            "text/plain": [
              "          g         Q0         Q1  A          Y\n",
              "0  0.278625  77.259163  74.763947  0  77.000000\n",
              "1  0.200761  66.603958  59.280952  0  73.666664\n",
              "2  0.520494  72.521431  69.231903  0  70.000000\n",
              "3  0.596783  66.622696  66.040443  0  81.000000\n",
              "4  0.431568  75.098595  74.831985  0  81.500000"
            ],
            "text/html": [
              "\n",
              "  <div id=\"df-70006e69-5336-46d6-9ba0-ef0fedd04cef\">\n",
              "    <div class=\"colab-df-container\">\n",
              "      <div>\n",
              "<style scoped>\n",
              "    .dataframe tbody tr th:only-of-type {\n",
              "        vertical-align: middle;\n",
              "    }\n",
              "\n",
              "    .dataframe tbody tr th {\n",
              "        vertical-align: top;\n",
              "    }\n",
              "\n",
              "    .dataframe thead th {\n",
              "        text-align: right;\n",
              "    }\n",
              "</style>\n",
              "<table border=\"1\" class=\"dataframe\">\n",
              "  <thead>\n",
              "    <tr style=\"text-align: right;\">\n",
              "      <th></th>\n",
              "      <th>g</th>\n",
              "      <th>Q0</th>\n",
              "      <th>Q1</th>\n",
              "      <th>A</th>\n",
              "      <th>Y</th>\n",
              "    </tr>\n",
              "  </thead>\n",
              "  <tbody>\n",
              "    <tr>\n",
              "      <th>0</th>\n",
              "      <td>0.278625</td>\n",
              "      <td>77.259163</td>\n",
              "      <td>74.763947</td>\n",
              "      <td>0</td>\n",
              "      <td>77.000000</td>\n",
              "    </tr>\n",
              "    <tr>\n",
              "      <th>1</th>\n",
              "      <td>0.200761</td>\n",
              "      <td>66.603958</td>\n",
              "      <td>59.280952</td>\n",
              "      <td>0</td>\n",
              "      <td>73.666664</td>\n",
              "    </tr>\n",
              "    <tr>\n",
              "      <th>2</th>\n",
              "      <td>0.520494</td>\n",
              "      <td>72.521431</td>\n",
              "      <td>69.231903</td>\n",
              "      <td>0</td>\n",
              "      <td>70.000000</td>\n",
              "    </tr>\n",
              "    <tr>\n",
              "      <th>3</th>\n",
              "      <td>0.596783</td>\n",
              "      <td>66.622696</td>\n",
              "      <td>66.040443</td>\n",
              "      <td>0</td>\n",
              "      <td>81.000000</td>\n",
              "    </tr>\n",
              "    <tr>\n",
              "      <th>4</th>\n",
              "      <td>0.431568</td>\n",
              "      <td>75.098595</td>\n",
              "      <td>74.831985</td>\n",
              "      <td>0</td>\n",
              "      <td>81.500000</td>\n",
              "    </tr>\n",
              "  </tbody>\n",
              "</table>\n",
              "</div>\n",
              "      <button class=\"colab-df-convert\" onclick=\"convertToInteractive('df-70006e69-5336-46d6-9ba0-ef0fedd04cef')\"\n",
              "              title=\"Convert this dataframe to an interactive table.\"\n",
              "              style=\"display:none;\">\n",
              "        \n",
              "  <svg xmlns=\"http://www.w3.org/2000/svg\" height=\"24px\"viewBox=\"0 0 24 24\"\n",
              "       width=\"24px\">\n",
              "    <path d=\"M0 0h24v24H0V0z\" fill=\"none\"/>\n",
              "    <path d=\"M18.56 5.44l.94 2.06.94-2.06 2.06-.94-2.06-.94-.94-2.06-.94 2.06-2.06.94zm-11 1L8.5 8.5l.94-2.06 2.06-.94-2.06-.94L8.5 2.5l-.94 2.06-2.06.94zm10 10l.94 2.06.94-2.06 2.06-.94-2.06-.94-.94-2.06-.94 2.06-2.06.94z\"/><path d=\"M17.41 7.96l-1.37-1.37c-.4-.4-.92-.59-1.43-.59-.52 0-1.04.2-1.43.59L10.3 9.45l-7.72 7.72c-.78.78-.78 2.05 0 2.83L4 21.41c.39.39.9.59 1.41.59.51 0 1.02-.2 1.41-.59l7.78-7.78 2.81-2.81c.8-.78.8-2.07 0-2.86zM5.41 20L4 18.59l7.72-7.72 1.47 1.35L5.41 20z\"/>\n",
              "  </svg>\n",
              "      </button>\n",
              "      \n",
              "  <style>\n",
              "    .colab-df-container {\n",
              "      display:flex;\n",
              "      flex-wrap:wrap;\n",
              "      gap: 12px;\n",
              "    }\n",
              "\n",
              "    .colab-df-convert {\n",
              "      background-color: #E8F0FE;\n",
              "      border: none;\n",
              "      border-radius: 50%;\n",
              "      cursor: pointer;\n",
              "      display: none;\n",
              "      fill: #1967D2;\n",
              "      height: 32px;\n",
              "      padding: 0 0 0 0;\n",
              "      width: 32px;\n",
              "    }\n",
              "\n",
              "    .colab-df-convert:hover {\n",
              "      background-color: #E2EBFA;\n",
              "      box-shadow: 0px 1px 2px rgba(60, 64, 67, 0.3), 0px 1px 3px 1px rgba(60, 64, 67, 0.15);\n",
              "      fill: #174EA6;\n",
              "    }\n",
              "\n",
              "    [theme=dark] .colab-df-convert {\n",
              "      background-color: #3B4455;\n",
              "      fill: #D2E3FC;\n",
              "    }\n",
              "\n",
              "    [theme=dark] .colab-df-convert:hover {\n",
              "      background-color: #434B5C;\n",
              "      box-shadow: 0px 1px 3px 1px rgba(0, 0, 0, 0.15);\n",
              "      filter: drop-shadow(0px 1px 2px rgba(0, 0, 0, 0.3));\n",
              "      fill: #FFFFFF;\n",
              "    }\n",
              "  </style>\n",
              "\n",
              "      <script>\n",
              "        const buttonEl =\n",
              "          document.querySelector('#df-70006e69-5336-46d6-9ba0-ef0fedd04cef button.colab-df-convert');\n",
              "        buttonEl.style.display =\n",
              "          google.colab.kernel.accessAllowed ? 'block' : 'none';\n",
              "\n",
              "        async function convertToInteractive(key) {\n",
              "          const element = document.querySelector('#df-70006e69-5336-46d6-9ba0-ef0fedd04cef');\n",
              "          const dataTable =\n",
              "            await google.colab.kernel.invokeFunction('convertToInteractive',\n",
              "                                                     [key], {});\n",
              "          if (!dataTable) return;\n",
              "\n",
              "          const docLinkHtml = 'Like what you see? Visit the ' +\n",
              "            '<a target=\"_blank\" href=https://colab.research.google.com/notebooks/data_table.ipynb>data table notebook</a>'\n",
              "            + ' to learn more about interactive tables.';\n",
              "          element.innerHTML = '';\n",
              "          dataTable['output_type'] = 'display_data';\n",
              "          await google.colab.output.renderOutput(dataTable, element);\n",
              "          const docLink = document.createElement('div');\n",
              "          docLink.innerHTML = docLinkHtml;\n",
              "          element.appendChild(docLink);\n",
              "        }\n",
              "      </script>\n",
              "    </div>\n",
              "  </div>\n",
              "  "
            ]
          },
          "metadata": {},
          "execution_count": 47
        }
      ]
    },
    {
      "cell_type": "markdown",
      "source": [
        "### Calculate the Natural Direct Effect using the ATU formula"
      ],
      "metadata": {
        "id": "xXIpsBenvcca"
      }
    },
    {
      "cell_type": "code",
      "source": [
        "tau_hat_XGSH, std_hat_XGSH = att_aiptw(**data_and_nuisance_estimates_XGSH)\n",
        "print(f\"The estimate is {tau_hat_XGSH} pm {1.96*std_hat_XGSH}\")"
      ],
      "metadata": {
        "colab": {
          "base_uri": "https://localhost:8080/"
        },
        "outputId": "ee73a2d5-2b85-47cb-c76d-a38105e19d0b",
        "id": "FEy11J07vcca"
      },
      "execution_count": null,
      "outputs": [
        {
          "output_type": "stream",
          "name": "stdout",
          "text": [
            "The estimate is -2.571081234753055 pm 2.448954950217818\n"
          ]
        }
      ]
    },
    {
      "cell_type": "markdown",
      "source": [
        "# Natural Direct Effect with Study Habits as the mediator"
      ],
      "metadata": {
        "id": "bNrqufm3ztjM"
      }
    },
    {
      "cell_type": "markdown",
      "source": [
        "## Check Overlap Conditions 0<Pr(A =1 |𝐗 = x, M2 = m2) < 1 using the three models"
      ],
      "metadata": {
        "id": "BHGKPeJ7z3r_"
      }
    },
    {
      "cell_type": "code",
      "source": [
        "#check the overlap conditions using randomForest\n",
        "#get the propensity score function\n",
        "g1_SB = treatment_k_fold_fit_and_predict(make_gmodel_randomForest, X=confounders_with_mediatorStudyHabits, A=treatment, n_splits=10)\n",
        "g1_SB_ol = np.concatenate((g1_SB[:364],g1_SB[746:]))                                      \n",
        "hist(g1_SB_ol, density=True)"
      ],
      "metadata": {
        "colab": {
          "base_uri": "https://localhost:8080/",
          "height": 390
        },
        "id": "AKHGJ8ufzu-F",
        "outputId": "f4b81ff8-dd8b-42eb-cd71-ef7dcf4053ab"
      },
      "execution_count": null,
      "outputs": [
        {
          "output_type": "stream",
          "name": "stdout",
          "text": [
            "StratifiedKFold(n_splits=10, random_state=42, shuffle=True)\n"
          ]
        },
        {
          "output_type": "execute_result",
          "data": {
            "text/plain": [
              "(array([ 0.08280973,  0.3726438 ,  1.07652653,  1.94602873,  3.93346233,\n",
              "        11.75898213,  6.50056406,  1.53198007,  0.4968584 ,  0.08280973]),\n",
              " array([0.29084165, 0.32683532, 0.36282898, 0.39882265, 0.43481632,\n",
              "        0.47080998, 0.50680365, 0.54279732, 0.57879098, 0.61478465,\n",
              "        0.65077832]),\n",
              " <a list of 10 Patch objects>)"
            ]
          },
          "metadata": {},
          "execution_count": 49
        },
        {
          "output_type": "display_data",
          "data": {
            "text/plain": [
              "<Figure size 432x288 with 1 Axes>"
            ],
            "image/png": "[encoded data removed]"
          },
          "metadata": {
            "needs_background": "light"
          }
        }
      ]
    },
    {
      "cell_type": "code",
      "source": [
        "g2_SB = treatment_k_fold_fit_and_predict(make_gmodel_logisticRegression, X=confounders_with_mediatorStudyHabits, \n",
        "                                      A=treatment, n_splits=10)\n",
        "g2_SB_ol = np.concatenate((g2_SB[:364],g1_SB[746:]))\n",
        "hist(g2_SB_ol, density=True)"
      ],
      "metadata": {
        "colab": {
          "base_uri": "https://localhost:8080/",
          "height": 390
        },
        "id": "EkVIsseLzvEq",
        "outputId": "7db47940-31b5-45b2-921d-ae052e688151"
      },
      "execution_count": null,
      "outputs": [
        {
          "output_type": "stream",
          "name": "stdout",
          "text": [
            "StratifiedKFold(n_splits=10, random_state=42, shuffle=True)\n"
          ]
        },
        {
          "output_type": "execute_result",
          "data": {
            "text/plain": [
              "(array([0.08027969, 0.56195786, 1.56545404, 2.32811114, 6.02097709,\n",
              "        8.58992731, 4.93720121, 2.1274119 , 0.56195786, 0.16055939]),\n",
              " array([0.29084165, 0.32796967, 0.36509769, 0.40222571, 0.43935372,\n",
              "        0.47648174, 0.51360976, 0.55073778, 0.58786579, 0.62499381,\n",
              "        0.66212183]),\n",
              " <a list of 10 Patch objects>)"
            ]
          },
          "metadata": {},
          "execution_count": 50
        },
        {
          "output_type": "display_data",
          "data": {
            "text/plain": [
              "<Figure size 432x288 with 1 Axes>"
            ],
            "image/png": "[encoded data removed]"
          },
          "metadata": {
            "needs_background": "light"
          }
        }
      ]
    },
    {
      "cell_type": "code",
      "source": [
        "g3_SB = treatment_k_fold_fit_and_predict(make_gmodel_XGBClassifier, X=confounders_with_mediatorStudyHabits, \n",
        "                                      A=treatment, n_splits=10)\n",
        "g3_SB_ol = np.concatenate((g3_SB[:364],g1_SB[746:]))\n",
        "hist(g3_SB_ol, density=True)"
      ],
      "metadata": {
        "colab": {
          "base_uri": "https://localhost:8080/",
          "height": 390
        },
        "id": "OP0YN2ghzvsa",
        "outputId": "b5929ddb-d1f8-49d2-aa77-2343722d4b2a"
      },
      "execution_count": null,
      "outputs": [
        {
          "output_type": "stream",
          "name": "stdout",
          "text": [
            "StratifiedKFold(n_splits=10, random_state=42, shuffle=True)\n"
          ]
        },
        {
          "output_type": "execute_result",
          "data": {
            "text/plain": [
              "(array([0.22276885, 0.36453085, 0.60755141, 1.25560626, 4.03009105,\n",
              "        5.06292845, 1.43787168, 0.42528599, 0.10125857, 0.08100686]),\n",
              " array([0.12142241, 0.19501188, 0.26860136, 0.34219083, 0.41578031,\n",
              "        0.48936978, 0.56295925, 0.63654873, 0.7101382 , 0.78372768,\n",
              "        0.85731715]),\n",
              " <a list of 10 Patch objects>)"
            ]
          },
          "metadata": {},
          "execution_count": 51
        },
        {
          "output_type": "display_data",
          "data": {
            "text/plain": [
              "<Figure size 432x288 with 1 Axes>"
            ],
            "image/png": "[encoded data removed]"
          },
          "metadata": {
            "needs_background": "light"
          }
        }
      ]
    },
    {
      "cell_type": "markdown",
      "source": [
        "## Calculate Natural Direct Effect using RandomForest: Using Study Habits as the mediator"
      ],
      "metadata": {
        "id": "9nLcNeCvz_81"
      }
    },
    {
      "cell_type": "markdown",
      "source": [
        "### Calculate Q0 and Q1 model using RandomForest"
      ],
      "metadata": {
        "id": "GsaTtDxg1Ws8"
      }
    },
    {
      "cell_type": "code",
      "source": [
        "Q0_RFSB,Q1_RFSB = outcome_k_fold_fit_and_predict(make_Qmodel_randomForest, \n",
        "                                             X=confounders_with_mediatorStudyHabits, y=outcome, \n",
        "                                             A=treatment, n_splits=10, output_type=\"continuous\")"
      ],
      "metadata": {
        "id": "5IQjKO6m0AHN"
      },
      "execution_count": null,
      "outputs": []
    },
    {
      "cell_type": "markdown",
      "source": [
        "### Combine the Dataset for g, Q0, Q1, A, and Y values"
      ],
      "metadata": {
        "id": "dyqay97i1Kb1"
      }
    },
    {
      "cell_type": "code",
      "source": [
        "data_and_nuisance_estimates_RFSB = exclude_moderate(pd.DataFrame({'g': g1_SB, 'Q0': Q0_RFSB, 'Q1': Q1_RFSB, 'A': treatment, 'Y': outcome}))\n",
        "data_and_nuisance_estimates_RFSB.head()"
      ],
      "metadata": {
        "colab": {
          "base_uri": "https://localhost:8080/",
          "height": 206
        },
        "id": "xS4UGQTp0AQi",
        "outputId": "f07b9c1a-00aa-48cb-bcf0-5cb2f03e44ab"
      },
      "execution_count": null,
      "outputs": [
        {
          "output_type": "execute_result",
          "data": {
            "text/plain": [
              "          g         Q0         Q1  A          Y\n",
              "0  0.396729  71.131685  70.508828  0  77.000000\n",
              "1  0.329397  67.594057  65.971519  0  73.666664\n",
              "2  0.506071  68.636775  68.209594  0  70.000000\n",
              "3  0.417467  69.222686  68.892401  0  81.000000\n",
              "4  0.430190  71.657158  71.619395  0  81.500000"
            ],
            "text/html": [
              "\n",
              "  <div id=\"df-46557ec2-bd2b-45bc-bf9c-d21c3b3a9d96\">\n",
              "    <div class=\"colab-df-container\">\n",
              "      <div>\n",
              "<style scoped>\n",
              "    .dataframe tbody tr th:only-of-type {\n",
              "        vertical-align: middle;\n",
              "    }\n",
              "\n",
              "    .dataframe tbody tr th {\n",
              "        vertical-align: top;\n",
              "    }\n",
              "\n",
              "    .dataframe thead th {\n",
              "        text-align: right;\n",
              "    }\n",
              "</style>\n",
              "<table border=\"1\" class=\"dataframe\">\n",
              "  <thead>\n",
              "    <tr style=\"text-align: right;\">\n",
              "      <th></th>\n",
              "      <th>g</th>\n",
              "      <th>Q0</th>\n",
              "      <th>Q1</th>\n",
              "      <th>A</th>\n",
              "      <th>Y</th>\n",
              "    </tr>\n",
              "  </thead>\n",
              "  <tbody>\n",
              "    <tr>\n",
              "      <th>0</th>\n",
              "      <td>0.396729</td>\n",
              "      <td>71.131685</td>\n",
              "      <td>70.508828</td>\n",
              "      <td>0</td>\n",
              "      <td>77.000000</td>\n",
              "    </tr>\n",
              "    <tr>\n",
              "      <th>1</th>\n",
              "      <td>0.329397</td>\n",
              "      <td>67.594057</td>\n",
              "      <td>65.971519</td>\n",
              "      <td>0</td>\n",
              "      <td>73.666664</td>\n",
              "    </tr>\n",
              "    <tr>\n",
              "      <th>2</th>\n",
              "      <td>0.506071</td>\n",
              "      <td>68.636775</td>\n",
              "      <td>68.209594</td>\n",
              "      <td>0</td>\n",
              "      <td>70.000000</td>\n",
              "    </tr>\n",
              "    <tr>\n",
              "      <th>3</th>\n",
              "      <td>0.417467</td>\n",
              "      <td>69.222686</td>\n",
              "      <td>68.892401</td>\n",
              "      <td>0</td>\n",
              "      <td>81.000000</td>\n",
              "    </tr>\n",
              "    <tr>\n",
              "      <th>4</th>\n",
              "      <td>0.430190</td>\n",
              "      <td>71.657158</td>\n",
              "      <td>71.619395</td>\n",
              "      <td>0</td>\n",
              "      <td>81.500000</td>\n",
              "    </tr>\n",
              "  </tbody>\n",
              "</table>\n",
              "</div>\n",
              "      <button class=\"colab-df-convert\" onclick=\"convertToInteractive('df-46557ec2-bd2b-45bc-bf9c-d21c3b3a9d96')\"\n",
              "              title=\"Convert this dataframe to an interactive table.\"\n",
              "              style=\"display:none;\">\n",
              "        \n",
              "  <svg xmlns=\"http://www.w3.org/2000/svg\" height=\"24px\"viewBox=\"0 0 24 24\"\n",
              "       width=\"24px\">\n",
              "    <path d=\"M0 0h24v24H0V0z\" fill=\"none\"/>\n",
              "    <path d=\"M18.56 5.44l.94 2.06.94-2.06 2.06-.94-2.06-.94-.94-2.06-.94 2.06-2.06.94zm-11 1L8.5 8.5l.94-2.06 2.06-.94-2.06-.94L8.5 2.5l-.94 2.06-2.06.94zm10 10l.94 2.06.94-2.06 2.06-.94-2.06-.94-.94-2.06-.94 2.06-2.06.94z\"/><path d=\"M17.41 7.96l-1.37-1.37c-.4-.4-.92-.59-1.43-.59-.52 0-1.04.2-1.43.59L10.3 9.45l-7.72 7.72c-.78.78-.78 2.05 0 2.83L4 21.41c.39.39.9.59 1.41.59.51 0 1.02-.2 1.41-.59l7.78-7.78 2.81-2.81c.8-.78.8-2.07 0-2.86zM5.41 20L4 18.59l7.72-7.72 1.47 1.35L5.41 20z\"/>\n",
              "  </svg>\n",
              "      </button>\n",
              "      \n",
              "  <style>\n",
              "    .colab-df-container {\n",
              "      display:flex;\n",
              "      flex-wrap:wrap;\n",
              "      gap: 12px;\n",
              "    }\n",
              "\n",
              "    .colab-df-convert {\n",
              "      background-color: #E8F0FE;\n",
              "      border: none;\n",
              "      border-radius: 50%;\n",
              "      cursor: pointer;\n",
              "      display: none;\n",
              "      fill: #1967D2;\n",
              "      height: 32px;\n",
              "      padding: 0 0 0 0;\n",
              "      width: 32px;\n",
              "    }\n",
              "\n",
              "    .colab-df-convert:hover {\n",
              "      background-color: #E2EBFA;\n",
              "      box-shadow: 0px 1px 2px rgba(60, 64, 67, 0.3), 0px 1px 3px 1px rgba(60, 64, 67, 0.15);\n",
              "      fill: #174EA6;\n",
              "    }\n",
              "\n",
              "    [theme=dark] .colab-df-convert {\n",
              "      background-color: #3B4455;\n",
              "      fill: #D2E3FC;\n",
              "    }\n",
              "\n",
              "    [theme=dark] .colab-df-convert:hover {\n",
              "      background-color: #434B5C;\n",
              "      box-shadow: 0px 1px 3px 1px rgba(0, 0, 0, 0.15);\n",
              "      filter: drop-shadow(0px 1px 2px rgba(0, 0, 0, 0.3));\n",
              "      fill: #FFFFFF;\n",
              "    }\n",
              "  </style>\n",
              "\n",
              "      <script>\n",
              "        const buttonEl =\n",
              "          document.querySelector('#df-46557ec2-bd2b-45bc-bf9c-d21c3b3a9d96 button.colab-df-convert');\n",
              "        buttonEl.style.display =\n",
              "          google.colab.kernel.accessAllowed ? 'block' : 'none';\n",
              "\n",
              "        async function convertToInteractive(key) {\n",
              "          const element = document.querySelector('#df-46557ec2-bd2b-45bc-bf9c-d21c3b3a9d96');\n",
              "          const dataTable =\n",
              "            await google.colab.kernel.invokeFunction('convertToInteractive',\n",
              "                                                     [key], {});\n",
              "          if (!dataTable) return;\n",
              "\n",
              "          const docLinkHtml = 'Like what you see? Visit the ' +\n",
              "            '<a target=\"_blank\" href=https://colab.research.google.com/notebooks/data_table.ipynb>data table notebook</a>'\n",
              "            + ' to learn more about interactive tables.';\n",
              "          element.innerHTML = '';\n",
              "          dataTable['output_type'] = 'display_data';\n",
              "          await google.colab.output.renderOutput(dataTable, element);\n",
              "          const docLink = document.createElement('div');\n",
              "          docLink.innerHTML = docLinkHtml;\n",
              "          element.appendChild(docLink);\n",
              "        }\n",
              "      </script>\n",
              "    </div>\n",
              "  </div>\n",
              "  "
            ]
          },
          "metadata": {},
          "execution_count": 53
        }
      ]
    },
    {
      "cell_type": "markdown",
      "source": [
        "### Calculate the Natural Direct Effect using the ATU formula"
      ],
      "metadata": {
        "id": "rkaOAkob1cCS"
      }
    },
    {
      "cell_type": "code",
      "source": [
        "tau_hat_RFSB, std_hat_RFSB = att_aiptw(**data_and_nuisance_estimates_RFSB)\n",
        "print(f\"The estimate using RandomForest is {tau_hat_RFSB} pm {1.96*std_hat_RFSB}\")"
      ],
      "metadata": {
        "colab": {
          "base_uri": "https://localhost:8080/"
        },
        "id": "eRNjwenD0AY0",
        "outputId": "8c22ef82-24ae-45fd-901b-db32ee259813"
      },
      "execution_count": null,
      "outputs": [
        {
          "output_type": "stream",
          "name": "stdout",
          "text": [
            "The estimate using RandomForest is -2.114952277727547 pm 1.6311171760534149\n"
          ]
        }
      ]
    },
    {
      "cell_type": "markdown",
      "source": [
        "## Calculate Natural Direct Effect using LogisticRegression: Using Study Habits as the mediator"
      ],
      "metadata": {
        "id": "9_qcNP9r0Miw"
      }
    },
    {
      "cell_type": "markdown",
      "source": [
        "### Calculate Q0 and Q1 model using Logistic Regression"
      ],
      "metadata": {
        "id": "V08Cvsep1SGJ"
      }
    },
    {
      "cell_type": "code",
      "source": [
        "Q0_LRSB,Q1_LRSB = outcome_k_fold_fit_and_predict(make_Qmodel_linearRegression, \n",
        "                                             X=confounders_with_mediatorStudyHabits, y=outcome, \n",
        "                                             A=treatment, n_splits=10, output_type=\"continuous\")"
      ],
      "metadata": {
        "id": "-PygHOPH0SXZ"
      },
      "execution_count": null,
      "outputs": []
    },
    {
      "cell_type": "markdown",
      "source": [
        "### Combine the Dataset for g, Q0, Q1, A, and Y values"
      ],
      "metadata": {
        "id": "qA08ShfE1Ifv"
      }
    },
    {
      "cell_type": "code",
      "source": [
        "data_and_nuisance_estimates_LRSB = exclude_moderate(pd.DataFrame({'g': g2_SB, 'Q0': Q0_LRSB, 'Q1': Q1_LRSB, 'A': treatment, 'Y': outcome}))\n",
        "data_and_nuisance_estimates_LRSB.head()"
      ],
      "metadata": {
        "colab": {
          "base_uri": "https://localhost:8080/",
          "height": 206
        },
        "id": "3wZhc3fK0SeG",
        "outputId": "57f678c3-d1da-42aa-ebef-f969199f748b"
      },
      "execution_count": null,
      "outputs": [
        {
          "output_type": "execute_result",
          "data": {
            "text/plain": [
              "          g         Q0         Q1  A          Y\n",
              "0  0.398288  72.574095  70.301962  0  77.000000\n",
              "1  0.387782  64.772486  63.101131  0  73.666664\n",
              "2  0.538986  66.451156  64.611026  0  70.000000\n",
              "3  0.406636  69.112386  67.272256  0  81.000000\n",
              "4  0.487341  72.313546  70.693444  0  81.500000"
            ],
            "text/html": [
              "\n",
              "  <div id=\"df-7553e21f-d860-400e-ae8b-f53a12f8128b\">\n",
              "    <div class=\"colab-df-container\">\n",
              "      <div>\n",
              "<style scoped>\n",
              "    .dataframe tbody tr th:only-of-type {\n",
              "        vertical-align: middle;\n",
              "    }\n",
              "\n",
              "    .dataframe tbody tr th {\n",
              "        vertical-align: top;\n",
              "    }\n",
              "\n",
              "    .dataframe thead th {\n",
              "        text-align: right;\n",
              "    }\n",
              "</style>\n",
              "<table border=\"1\" class=\"dataframe\">\n",
              "  <thead>\n",
              "    <tr style=\"text-align: right;\">\n",
              "      <th></th>\n",
              "      <th>g</th>\n",
              "      <th>Q0</th>\n",
              "      <th>Q1</th>\n",
              "      <th>A</th>\n",
              "      <th>Y</th>\n",
              "    </tr>\n",
              "  </thead>\n",
              "  <tbody>\n",
              "    <tr>\n",
              "      <th>0</th>\n",
              "      <td>0.398288</td>\n",
              "      <td>72.574095</td>\n",
              "      <td>70.301962</td>\n",
              "      <td>0</td>\n",
              "      <td>77.000000</td>\n",
              "    </tr>\n",
              "    <tr>\n",
              "      <th>1</th>\n",
              "      <td>0.387782</td>\n",
              "      <td>64.772486</td>\n",
              "      <td>63.101131</td>\n",
              "      <td>0</td>\n",
              "      <td>73.666664</td>\n",
              "    </tr>\n",
              "    <tr>\n",
              "      <th>2</th>\n",
              "      <td>0.538986</td>\n",
              "      <td>66.451156</td>\n",
              "      <td>64.611026</td>\n",
              "      <td>0</td>\n",
              "      <td>70.000000</td>\n",
              "    </tr>\n",
              "    <tr>\n",
              "      <th>3</th>\n",
              "      <td>0.406636</td>\n",
              "      <td>69.112386</td>\n",
              "      <td>67.272256</td>\n",
              "      <td>0</td>\n",
              "      <td>81.000000</td>\n",
              "    </tr>\n",
              "    <tr>\n",
              "      <th>4</th>\n",
              "      <td>0.487341</td>\n",
              "      <td>72.313546</td>\n",
              "      <td>70.693444</td>\n",
              "      <td>0</td>\n",
              "      <td>81.500000</td>\n",
              "    </tr>\n",
              "  </tbody>\n",
              "</table>\n",
              "</div>\n",
              "      <button class=\"colab-df-convert\" onclick=\"convertToInteractive('df-7553e21f-d860-400e-ae8b-f53a12f8128b')\"\n",
              "              title=\"Convert this dataframe to an interactive table.\"\n",
              "              style=\"display:none;\">\n",
              "        \n",
              "  <svg xmlns=\"http://www.w3.org/2000/svg\" height=\"24px\"viewBox=\"0 0 24 24\"\n",
              "       width=\"24px\">\n",
              "    <path d=\"M0 0h24v24H0V0z\" fill=\"none\"/>\n",
              "    <path d=\"M18.56 5.44l.94 2.06.94-2.06 2.06-.94-2.06-.94-.94-2.06-.94 2.06-2.06.94zm-11 1L8.5 8.5l.94-2.06 2.06-.94-2.06-.94L8.5 2.5l-.94 2.06-2.06.94zm10 10l.94 2.06.94-2.06 2.06-.94-2.06-.94-.94-2.06-.94 2.06-2.06.94z\"/><path d=\"M17.41 7.96l-1.37-1.37c-.4-.4-.92-.59-1.43-.59-.52 0-1.04.2-1.43.59L10.3 9.45l-7.72 7.72c-.78.78-.78 2.05 0 2.83L4 21.41c.39.39.9.59 1.41.59.51 0 1.02-.2 1.41-.59l7.78-7.78 2.81-2.81c.8-.78.8-2.07 0-2.86zM5.41 20L4 18.59l7.72-7.72 1.47 1.35L5.41 20z\"/>\n",
              "  </svg>\n",
              "      </button>\n",
              "      \n",
              "  <style>\n",
              "    .colab-df-container {\n",
              "      display:flex;\n",
              "      flex-wrap:wrap;\n",
              "      gap: 12px;\n",
              "    }\n",
              "\n",
              "    .colab-df-convert {\n",
              "      background-color: #E8F0FE;\n",
              "      border: none;\n",
              "      border-radius: 50%;\n",
              "      cursor: pointer;\n",
              "      display: none;\n",
              "      fill: #1967D2;\n",
              "      height: 32px;\n",
              "      padding: 0 0 0 0;\n",
              "      width: 32px;\n",
              "    }\n",
              "\n",
              "    .colab-df-convert:hover {\n",
              "      background-color: #E2EBFA;\n",
              "      box-shadow: 0px 1px 2px rgba(60, 64, 67, 0.3), 0px 1px 3px 1px rgba(60, 64, 67, 0.15);\n",
              "      fill: #174EA6;\n",
              "    }\n",
              "\n",
              "    [theme=dark] .colab-df-convert {\n",
              "      background-color: #3B4455;\n",
              "      fill: #D2E3FC;\n",
              "    }\n",
              "\n",
              "    [theme=dark] .colab-df-convert:hover {\n",
              "      background-color: #434B5C;\n",
              "      box-shadow: 0px 1px 3px 1px rgba(0, 0, 0, 0.15);\n",
              "      filter: drop-shadow(0px 1px 2px rgba(0, 0, 0, 0.3));\n",
              "      fill: #FFFFFF;\n",
              "    }\n",
              "  </style>\n",
              "\n",
              "      <script>\n",
              "        const buttonEl =\n",
              "          document.querySelector('#df-7553e21f-d860-400e-ae8b-f53a12f8128b button.colab-df-convert');\n",
              "        buttonEl.style.display =\n",
              "          google.colab.kernel.accessAllowed ? 'block' : 'none';\n",
              "\n",
              "        async function convertToInteractive(key) {\n",
              "          const element = document.querySelector('#df-7553e21f-d860-400e-ae8b-f53a12f8128b');\n",
              "          const dataTable =\n",
              "            await google.colab.kernel.invokeFunction('convertToInteractive',\n",
              "                                                     [key], {});\n",
              "          if (!dataTable) return;\n",
              "\n",
              "          const docLinkHtml = 'Like what you see? Visit the ' +\n",
              "            '<a target=\"_blank\" href=https://colab.research.google.com/notebooks/data_table.ipynb>data table notebook</a>'\n",
              "            + ' to learn more about interactive tables.';\n",
              "          element.innerHTML = '';\n",
              "          dataTable['output_type'] = 'display_data';\n",
              "          await google.colab.output.renderOutput(dataTable, element);\n",
              "          const docLink = document.createElement('div');\n",
              "          docLink.innerHTML = docLinkHtml;\n",
              "          element.appendChild(docLink);\n",
              "        }\n",
              "      </script>\n",
              "    </div>\n",
              "  </div>\n",
              "  "
            ]
          },
          "metadata": {},
          "execution_count": 56
        }
      ]
    },
    {
      "cell_type": "markdown",
      "source": [
        "### Calculate the Natural Direct Effect using the ATU formula"
      ],
      "metadata": {
        "id": "W0g50BEq1dnq"
      }
    },
    {
      "cell_type": "code",
      "source": [
        "tau_hat_LRSB, std_hat_LRSB = att_aiptw(**data_and_nuisance_estimates_LRSB)\n",
        "print(f\"The estimate using LogisticRegression is {tau_hat_LRSB} pm {1.96*std_hat_LRSB}\")"
      ],
      "metadata": {
        "colab": {
          "base_uri": "https://localhost:8080/"
        },
        "id": "ePIUW3th0Smx",
        "outputId": "b034cfb6-372d-43b0-ccaa-f49fd687272d"
      },
      "execution_count": null,
      "outputs": [
        {
          "output_type": "stream",
          "name": "stdout",
          "text": [
            "The estimate using LogisticRegression is -2.0579612230360245 pm 1.631844226495338\n"
          ]
        }
      ]
    },
    {
      "cell_type": "markdown",
      "source": [
        "## Calculate Natural Direct Effect using XGBoost: Using Study Habits as the mediator"
      ],
      "metadata": {
        "id": "iaseTssk0iMv"
      }
    },
    {
      "cell_type": "markdown",
      "source": [
        "### Calculate Q0 and Q1 model using XGBoost"
      ],
      "metadata": {
        "id": "s3YYLOfD1Prq"
      }
    },
    {
      "cell_type": "code",
      "source": [
        "Q0_XGSB,Q1_XGSB = outcome_k_fold_fit_and_predict(make_Qmodel_XGBoost, \n",
        "                                             X=confounders_with_mediatorStudyHabits, y=outcome, \n",
        "                                             A=treatment, n_splits=10, output_type=\"continuous\")"
      ],
      "metadata": {
        "id": "VggmGQj80iVq"
      },
      "execution_count": null,
      "outputs": []
    },
    {
      "cell_type": "markdown",
      "source": [
        "### Combine the Dataset for g, Q0, Q1, A, and Y values"
      ],
      "metadata": {
        "id": "ivLLPIdt1HIl"
      }
    },
    {
      "cell_type": "code",
      "source": [
        "data_and_nuisance_estimates_XGSB = exclude_moderate(pd.DataFrame({'g': g3_SB, 'Q0': Q0_XGSB, 'Q1': Q1_XGSB, 'A': treatment, 'Y': outcome}))\n",
        "data_and_nuisance_estimates_XGSB.head()"
      ],
      "metadata": {
        "colab": {
          "base_uri": "https://localhost:8080/",
          "height": 206
        },
        "id": "EZXtfvmF0icE",
        "outputId": "1ab52250-9760-4cc5-e535-0997c313b49d"
      },
      "execution_count": null,
      "outputs": [
        {
          "output_type": "execute_result",
          "data": {
            "text/plain": [
              "          g         Q0         Q1  A          Y\n",
              "0  0.294540  74.226723  71.850433  0  77.000000\n",
              "1  0.258790  64.716011  59.577900  0  73.666664\n",
              "2  0.712588  68.861565  65.525139  0  70.000000\n",
              "3  0.440861  70.527634  69.541443  0  81.000000\n",
              "4  0.408167  70.058609  69.259811  0  81.500000"
            ],
            "text/html": [
              "\n",
              "  <div id=\"df-8519f22c-87fe-44c5-95eb-6ebfda206987\">\n",
              "    <div class=\"colab-df-container\">\n",
              "      <div>\n",
              "<style scoped>\n",
              "    .dataframe tbody tr th:only-of-type {\n",
              "        vertical-align: middle;\n",
              "    }\n",
              "\n",
              "    .dataframe tbody tr th {\n",
              "        vertical-align: top;\n",
              "    }\n",
              "\n",
              "    .dataframe thead th {\n",
              "        text-align: right;\n",
              "    }\n",
              "</style>\n",
              "<table border=\"1\" class=\"dataframe\">\n",
              "  <thead>\n",
              "    <tr style=\"text-align: right;\">\n",
              "      <th></th>\n",
              "      <th>g</th>\n",
              "      <th>Q0</th>\n",
              "      <th>Q1</th>\n",
              "      <th>A</th>\n",
              "      <th>Y</th>\n",
              "    </tr>\n",
              "  </thead>\n",
              "  <tbody>\n",
              "    <tr>\n",
              "      <th>0</th>\n",
              "      <td>0.294540</td>\n",
              "      <td>74.226723</td>\n",
              "      <td>71.850433</td>\n",
              "      <td>0</td>\n",
              "      <td>77.000000</td>\n",
              "    </tr>\n",
              "    <tr>\n",
              "      <th>1</th>\n",
              "      <td>0.258790</td>\n",
              "      <td>64.716011</td>\n",
              "      <td>59.577900</td>\n",
              "      <td>0</td>\n",
              "      <td>73.666664</td>\n",
              "    </tr>\n",
              "    <tr>\n",
              "      <th>2</th>\n",
              "      <td>0.712588</td>\n",
              "      <td>68.861565</td>\n",
              "      <td>65.525139</td>\n",
              "      <td>0</td>\n",
              "      <td>70.000000</td>\n",
              "    </tr>\n",
              "    <tr>\n",
              "      <th>3</th>\n",
              "      <td>0.440861</td>\n",
              "      <td>70.527634</td>\n",
              "      <td>69.541443</td>\n",
              "      <td>0</td>\n",
              "      <td>81.000000</td>\n",
              "    </tr>\n",
              "    <tr>\n",
              "      <th>4</th>\n",
              "      <td>0.408167</td>\n",
              "      <td>70.058609</td>\n",
              "      <td>69.259811</td>\n",
              "      <td>0</td>\n",
              "      <td>81.500000</td>\n",
              "    </tr>\n",
              "  </tbody>\n",
              "</table>\n",
              "</div>\n",
              "      <button class=\"colab-df-convert\" onclick=\"convertToInteractive('df-8519f22c-87fe-44c5-95eb-6ebfda206987')\"\n",
              "              title=\"Convert this dataframe to an interactive table.\"\n",
              "              style=\"display:none;\">\n",
              "        \n",
              "  <svg xmlns=\"http://www.w3.org/2000/svg\" height=\"24px\"viewBox=\"0 0 24 24\"\n",
              "       width=\"24px\">\n",
              "    <path d=\"M0 0h24v24H0V0z\" fill=\"none\"/>\n",
              "    <path d=\"M18.56 5.44l.94 2.06.94-2.06 2.06-.94-2.06-.94-.94-2.06-.94 2.06-2.06.94zm-11 1L8.5 8.5l.94-2.06 2.06-.94-2.06-.94L8.5 2.5l-.94 2.06-2.06.94zm10 10l.94 2.06.94-2.06 2.06-.94-2.06-.94-.94-2.06-.94 2.06-2.06.94z\"/><path d=\"M17.41 7.96l-1.37-1.37c-.4-.4-.92-.59-1.43-.59-.52 0-1.04.2-1.43.59L10.3 9.45l-7.72 7.72c-.78.78-.78 2.05 0 2.83L4 21.41c.39.39.9.59 1.41.59.51 0 1.02-.2 1.41-.59l7.78-7.78 2.81-2.81c.8-.78.8-2.07 0-2.86zM5.41 20L4 18.59l7.72-7.72 1.47 1.35L5.41 20z\"/>\n",
              "  </svg>\n",
              "      </button>\n",
              "      \n",
              "  <style>\n",
              "    .colab-df-container {\n",
              "      display:flex;\n",
              "      flex-wrap:wrap;\n",
              "      gap: 12px;\n",
              "    }\n",
              "\n",
              "    .colab-df-convert {\n",
              "      background-color: #E8F0FE;\n",
              "      border: none;\n",
              "      border-radius: 50%;\n",
              "      cursor: pointer;\n",
              "      display: none;\n",
              "      fill: #1967D2;\n",
              "      height: 32px;\n",
              "      padding: 0 0 0 0;\n",
              "      width: 32px;\n",
              "    }\n",
              "\n",
              "    .colab-df-convert:hover {\n",
              "      background-color: #E2EBFA;\n",
              "      box-shadow: 0px 1px 2px rgba(60, 64, 67, 0.3), 0px 1px 3px 1px rgba(60, 64, 67, 0.15);\n",
              "      fill: #174EA6;\n",
              "    }\n",
              "\n",
              "    [theme=dark] .colab-df-convert {\n",
              "      background-color: #3B4455;\n",
              "      fill: #D2E3FC;\n",
              "    }\n",
              "\n",
              "    [theme=dark] .colab-df-convert:hover {\n",
              "      background-color: #434B5C;\n",
              "      box-shadow: 0px 1px 3px 1px rgba(0, 0, 0, 0.15);\n",
              "      filter: drop-shadow(0px 1px 2px rgba(0, 0, 0, 0.3));\n",
              "      fill: #FFFFFF;\n",
              "    }\n",
              "  </style>\n",
              "\n",
              "      <script>\n",
              "        const buttonEl =\n",
              "          document.querySelector('#df-8519f22c-87fe-44c5-95eb-6ebfda206987 button.colab-df-convert');\n",
              "        buttonEl.style.display =\n",
              "          google.colab.kernel.accessAllowed ? 'block' : 'none';\n",
              "\n",
              "        async function convertToInteractive(key) {\n",
              "          const element = document.querySelector('#df-8519f22c-87fe-44c5-95eb-6ebfda206987');\n",
              "          const dataTable =\n",
              "            await google.colab.kernel.invokeFunction('convertToInteractive',\n",
              "                                                     [key], {});\n",
              "          if (!dataTable) return;\n",
              "\n",
              "          const docLinkHtml = 'Like what you see? Visit the ' +\n",
              "            '<a target=\"_blank\" href=https://colab.research.google.com/notebooks/data_table.ipynb>data table notebook</a>'\n",
              "            + ' to learn more about interactive tables.';\n",
              "          element.innerHTML = '';\n",
              "          dataTable['output_type'] = 'display_data';\n",
              "          await google.colab.output.renderOutput(dataTable, element);\n",
              "          const docLink = document.createElement('div');\n",
              "          docLink.innerHTML = docLinkHtml;\n",
              "          element.appendChild(docLink);\n",
              "        }\n",
              "      </script>\n",
              "    </div>\n",
              "  </div>\n",
              "  "
            ]
          },
          "metadata": {},
          "execution_count": 59
        }
      ]
    },
    {
      "cell_type": "markdown",
      "source": [
        "### Calculate the Natural Direct Effect using the ATU formula"
      ],
      "metadata": {
        "id": "Lp5gKOQI1fb7"
      }
    },
    {
      "cell_type": "code",
      "source": [
        "tau_hat_XGSB, std_hat_XGSB = att_aiptw(**data_and_nuisance_estimates_XGSB)\n",
        "print(f\"The estimate using XGBoost is {tau_hat_XGSB} pm {1.96*std_hat_XGSB}\")"
      ],
      "metadata": {
        "colab": {
          "base_uri": "https://localhost:8080/"
        },
        "id": "DIufAB540ili",
        "outputId": "c7b422a6-f1ee-422c-9432-ae06269b9626"
      },
      "execution_count": null,
      "outputs": [
        {
          "output_type": "stream",
          "name": "stdout",
          "text": [
            "The estimate using XGBoost is -2.8114767903316187 pm 2.388752939243781\n"
          ]
        }
      ]
    },
    {
      "cell_type": "markdown",
      "source": [
        "# Estimate the Total Effect using ATE"
      ],
      "metadata": {
        "id": "fkKquN-J2SuD"
      }
    },
    {
      "cell_type": "markdown",
      "source": [
        "### Check Overlap Conditions 0<Pr(A =1 |𝐗 = x, M1 = m1, M2 = m2) < 1 using the three models"
      ],
      "metadata": {
        "id": "qeWyAMFFgjmg"
      }
    },
    {
      "cell_type": "code",
      "source": [
        "\n",
        "#get the propensity score function\n",
        "g1_TE = treatment_k_fold_fit_and_predict(make_gmodel_randomForest, X=confounders_without_Mediator, \n",
        "                                      A=treatment, n_splits=10)\n",
        "g1_TE_ol = np.concatenate((g1_TE[:364],g1_SB[746:]))\n",
        "hist(g1_TE_ol, density=True)"
      ],
      "metadata": {
        "colab": {
          "base_uri": "https://localhost:8080/",
          "height": 390
        },
        "id": "469lxIHy4-e-",
        "outputId": "c95b8ae4-2753-4ca6-e861-65f5156f2798"
      },
      "execution_count": null,
      "outputs": [
        {
          "output_type": "stream",
          "name": "stdout",
          "text": [
            "StratifiedKFold(n_splits=10, random_state=42, shuffle=True)\n"
          ]
        },
        {
          "output_type": "execute_result",
          "data": {
            "text/plain": [
              "(array([ 0.14786312,  0.73931559,  1.51559696,  1.21987072,  8.02157416,\n",
              "        10.75704184,  1.6264943 ,  0.62841825,  0.07393156,  0.07393156]),\n",
              " array([0.29084165, 0.33115767, 0.37147368, 0.4117897 , 0.45210572,\n",
              "        0.49242173, 0.53273775, 0.57305376, 0.61336978, 0.6536858 ,\n",
              "        0.69400181]),\n",
              " <a list of 10 Patch objects>)"
            ]
          },
          "metadata": {},
          "execution_count": 61
        },
        {
          "output_type": "display_data",
          "data": {
            "text/plain": [
              "<Figure size 432x288 with 1 Axes>"
            ],
            "image/png": "[encoded data removed]"
          },
          "metadata": {
            "needs_background": "light"
          }
        }
      ]
    },
    {
      "cell_type": "code",
      "source": [
        "g2_TE = treatment_k_fold_fit_and_predict(make_gmodel_logisticRegression, X=confounders_without_Mediator, \n",
        "                                      A=treatment, n_splits=10)\n",
        "g2_TE_ol = np.concatenate((g2_TE[:364],g1_SB[746:]))\n",
        "hist(g2_TE_ol, density=True)"
      ],
      "metadata": {
        "colab": {
          "base_uri": "https://localhost:8080/",
          "height": 390
        },
        "id": "__lXH6BF5Nvc",
        "outputId": "5081060f-12b4-47b0-b1f8-cd3a00a2295d"
      },
      "execution_count": null,
      "outputs": [
        {
          "output_type": "stream",
          "name": "stdout",
          "text": [
            "StratifiedKFold(n_splits=10, random_state=42, shuffle=True)\n"
          ]
        },
        {
          "output_type": "execute_result",
          "data": {
            "text/plain": [
              "(array([ 0.09247878,  0.04623939,  0.3699151 ,  1.80333613,  3.69915103,\n",
              "         5.13257205, 12.9470286 ,  5.13257205,  1.43342102,  0.3699151 ]),\n",
              " array([0.29084165, 0.32307203, 0.35530241, 0.38753279, 0.41976316,\n",
              "        0.45199354, 0.48422392, 0.5164543 , 0.54868468, 0.58091506,\n",
              "        0.61314544]),\n",
              " <a list of 10 Patch objects>)"
            ]
          },
          "metadata": {},
          "execution_count": 62
        },
        {
          "output_type": "display_data",
          "data": {
            "text/plain": [
              "<Figure size 432x288 with 1 Axes>"
            ],
            "image/png": "[encoded data removed]"
          },
          "metadata": {
            "needs_background": "light"
          }
        }
      ]
    },
    {
      "cell_type": "code",
      "source": [
        "g3_TE = treatment_k_fold_fit_and_predict(make_gmodel_XGBClassifier, X=confounders_without_Mediator, \n",
        "                                      A=treatment, n_splits=10)\n",
        "g3_TE_ol = np.concatenate((g1_TE[:364],g1_SB[746:]))\n",
        "hist(g3_TE_ol, density=True)"
      ],
      "metadata": {
        "colab": {
          "base_uri": "https://localhost:8080/",
          "height": 390
        },
        "id": "vSV9vGil5N7j",
        "outputId": "fe412638-1dd6-4936-b50e-decc823228b3"
      },
      "execution_count": null,
      "outputs": [
        {
          "output_type": "stream",
          "name": "stdout",
          "text": [
            "StratifiedKFold(n_splits=10, random_state=42, shuffle=True)\n"
          ]
        },
        {
          "output_type": "execute_result",
          "data": {
            "text/plain": [
              "(array([ 0.14786312,  0.73931559,  1.51559696,  1.21987072,  8.02157416,\n",
              "        10.75704184,  1.6264943 ,  0.62841825,  0.07393156,  0.07393156]),\n",
              " array([0.29084165, 0.33115767, 0.37147368, 0.4117897 , 0.45210572,\n",
              "        0.49242173, 0.53273775, 0.57305376, 0.61336978, 0.6536858 ,\n",
              "        0.69400181]),\n",
              " <a list of 10 Patch objects>)"
            ]
          },
          "metadata": {},
          "execution_count": 63
        },
        {
          "output_type": "display_data",
          "data": {
            "text/plain": [
              "<Figure size 432x288 with 1 Axes>"
            ],
            "image/png": "[encoded data removed]"
          },
          "metadata": {
            "needs_background": "light"
          }
        }
      ]
    },
    {
      "cell_type": "markdown",
      "source": [
        "### Calculate Total Effect using RandomForest"
      ],
      "metadata": {
        "id": "Q_HJW-J15zq_"
      }
    },
    {
      "cell_type": "code",
      "source": [
        "Q0_RFTE,Q1_RFTE = outcome_k_fold_fit_and_predict(make_Qmodel_randomForest, \n",
        "                                             X=confounders_without_Mediator, y=outcome, \n",
        "                                             A=treatment, n_splits=10, output_type=\"continuous\")"
      ],
      "metadata": {
        "id": "trLbDeNa58Q-"
      },
      "execution_count": null,
      "outputs": []
    },
    {
      "cell_type": "code",
      "source": [
        "data_and_nuisance_estimates_RFTE = exclude_moderate(pd.DataFrame({'g': g1_TE, 'Q0': Q0_RFTE, 'Q1': Q1_RFTE, 'A': treatment, 'Y': outcome}))\n",
        "data_and_nuisance_estimates_RFTE.head()"
      ],
      "metadata": {
        "colab": {
          "base_uri": "https://localhost:8080/",
          "height": 206
        },
        "id": "uoORIJ3258pb",
        "outputId": "15b29a7e-c8de-4291-b04f-244969109e39"
      },
      "execution_count": null,
      "outputs": [
        {
          "output_type": "execute_result",
          "data": {
            "text/plain": [
              "          g         Q0         Q1  A          Y\n",
              "0  0.411958  71.186335  66.803693  0  77.000000\n",
              "1  0.337099  69.780694  66.104271  0  73.666664\n",
              "2  0.532632  70.325724  68.095118  0  70.000000\n",
              "3  0.360352  69.518177  67.319265  0  81.000000\n",
              "4  0.519409  72.097452  70.847277  0  81.500000"
            ],
            "text/html": [
              "\n",
              "  <div id=\"df-5c505800-711c-4e59-a20a-627bc3e3644d\">\n",
              "    <div class=\"colab-df-container\">\n",
              "      <div>\n",
              "<style scoped>\n",
              "    .dataframe tbody tr th:only-of-type {\n",
              "        vertical-align: middle;\n",
              "    }\n",
              "\n",
              "    .dataframe tbody tr th {\n",
              "        vertical-align: top;\n",
              "    }\n",
              "\n",
              "    .dataframe thead th {\n",
              "        text-align: right;\n",
              "    }\n",
              "</style>\n",
              "<table border=\"1\" class=\"dataframe\">\n",
              "  <thead>\n",
              "    <tr style=\"text-align: right;\">\n",
              "      <th></th>\n",
              "      <th>g</th>\n",
              "      <th>Q0</th>\n",
              "      <th>Q1</th>\n",
              "      <th>A</th>\n",
              "      <th>Y</th>\n",
              "    </tr>\n",
              "  </thead>\n",
              "  <tbody>\n",
              "    <tr>\n",
              "      <th>0</th>\n",
              "      <td>0.411958</td>\n",
              "      <td>71.186335</td>\n",
              "      <td>66.803693</td>\n",
              "      <td>0</td>\n",
              "      <td>77.000000</td>\n",
              "    </tr>\n",
              "    <tr>\n",
              "      <th>1</th>\n",
              "      <td>0.337099</td>\n",
              "      <td>69.780694</td>\n",
              "      <td>66.104271</td>\n",
              "      <td>0</td>\n",
              "      <td>73.666664</td>\n",
              "    </tr>\n",
              "    <tr>\n",
              "      <th>2</th>\n",
              "      <td>0.532632</td>\n",
              "      <td>70.325724</td>\n",
              "      <td>68.095118</td>\n",
              "      <td>0</td>\n",
              "      <td>70.000000</td>\n",
              "    </tr>\n",
              "    <tr>\n",
              "      <th>3</th>\n",
              "      <td>0.360352</td>\n",
              "      <td>69.518177</td>\n",
              "      <td>67.319265</td>\n",
              "      <td>0</td>\n",
              "      <td>81.000000</td>\n",
              "    </tr>\n",
              "    <tr>\n",
              "      <th>4</th>\n",
              "      <td>0.519409</td>\n",
              "      <td>72.097452</td>\n",
              "      <td>70.847277</td>\n",
              "      <td>0</td>\n",
              "      <td>81.500000</td>\n",
              "    </tr>\n",
              "  </tbody>\n",
              "</table>\n",
              "</div>\n",
              "      <button class=\"colab-df-convert\" onclick=\"convertToInteractive('df-5c505800-711c-4e59-a20a-627bc3e3644d')\"\n",
              "              title=\"Convert this dataframe to an interactive table.\"\n",
              "              style=\"display:none;\">\n",
              "        \n",
              "  <svg xmlns=\"http://www.w3.org/2000/svg\" height=\"24px\"viewBox=\"0 0 24 24\"\n",
              "       width=\"24px\">\n",
              "    <path d=\"M0 0h24v24H0V0z\" fill=\"none\"/>\n",
              "    <path d=\"M18.56 5.44l.94 2.06.94-2.06 2.06-.94-2.06-.94-.94-2.06-.94 2.06-2.06.94zm-11 1L8.5 8.5l.94-2.06 2.06-.94-2.06-.94L8.5 2.5l-.94 2.06-2.06.94zm10 10l.94 2.06.94-2.06 2.06-.94-2.06-.94-.94-2.06-.94 2.06-2.06.94z\"/><path d=\"M17.41 7.96l-1.37-1.37c-.4-.4-.92-.59-1.43-.59-.52 0-1.04.2-1.43.59L10.3 9.45l-7.72 7.72c-.78.78-.78 2.05 0 2.83L4 21.41c.39.39.9.59 1.41.59.51 0 1.02-.2 1.41-.59l7.78-7.78 2.81-2.81c.8-.78.8-2.07 0-2.86zM5.41 20L4 18.59l7.72-7.72 1.47 1.35L5.41 20z\"/>\n",
              "  </svg>\n",
              "      </button>\n",
              "      \n",
              "  <style>\n",
              "    .colab-df-container {\n",
              "      display:flex;\n",
              "      flex-wrap:wrap;\n",
              "      gap: 12px;\n",
              "    }\n",
              "\n",
              "    .colab-df-convert {\n",
              "      background-color: #E8F0FE;\n",
              "      border: none;\n",
              "      border-radius: 50%;\n",
              "      cursor: pointer;\n",
              "      display: none;\n",
              "      fill: #1967D2;\n",
              "      height: 32px;\n",
              "      padding: 0 0 0 0;\n",
              "      width: 32px;\n",
              "    }\n",
              "\n",
              "    .colab-df-convert:hover {\n",
              "      background-color: #E2EBFA;\n",
              "      box-shadow: 0px 1px 2px rgba(60, 64, 67, 0.3), 0px 1px 3px 1px rgba(60, 64, 67, 0.15);\n",
              "      fill: #174EA6;\n",
              "    }\n",
              "\n",
              "    [theme=dark] .colab-df-convert {\n",
              "      background-color: #3B4455;\n",
              "      fill: #D2E3FC;\n",
              "    }\n",
              "\n",
              "    [theme=dark] .colab-df-convert:hover {\n",
              "      background-color: #434B5C;\n",
              "      box-shadow: 0px 1px 3px 1px rgba(0, 0, 0, 0.15);\n",
              "      filter: drop-shadow(0px 1px 2px rgba(0, 0, 0, 0.3));\n",
              "      fill: #FFFFFF;\n",
              "    }\n",
              "  </style>\n",
              "\n",
              "      <script>\n",
              "        const buttonEl =\n",
              "          document.querySelector('#df-5c505800-711c-4e59-a20a-627bc3e3644d button.colab-df-convert');\n",
              "        buttonEl.style.display =\n",
              "          google.colab.kernel.accessAllowed ? 'block' : 'none';\n",
              "\n",
              "        async function convertToInteractive(key) {\n",
              "          const element = document.querySelector('#df-5c505800-711c-4e59-a20a-627bc3e3644d');\n",
              "          const dataTable =\n",
              "            await google.colab.kernel.invokeFunction('convertToInteractive',\n",
              "                                                     [key], {});\n",
              "          if (!dataTable) return;\n",
              "\n",
              "          const docLinkHtml = 'Like what you see? Visit the ' +\n",
              "            '<a target=\"_blank\" href=https://colab.research.google.com/notebooks/data_table.ipynb>data table notebook</a>'\n",
              "            + ' to learn more about interactive tables.';\n",
              "          element.innerHTML = '';\n",
              "          dataTable['output_type'] = 'display_data';\n",
              "          await google.colab.output.renderOutput(dataTable, element);\n",
              "          const docLink = document.createElement('div');\n",
              "          docLink.innerHTML = docLinkHtml;\n",
              "          element.appendChild(docLink);\n",
              "        }\n",
              "      </script>\n",
              "    </div>\n",
              "  </div>\n",
              "  "
            ]
          },
          "metadata": {},
          "execution_count": 65
        }
      ]
    },
    {
      "cell_type": "code",
      "source": [
        "tau_hat_RFTE, std_hat_RFTE = att_aiptw(**data_and_nuisance_estimates_RFTE)\n",
        "print(f\"The estimate using RandomForest is {tau_hat_RFTE} pm {1.96*std_hat_RFTE}\")"
      ],
      "metadata": {
        "colab": {
          "base_uri": "https://localhost:8080/"
        },
        "id": "RRvEOQfl58x4",
        "outputId": "e3a5a335-50ed-479f-e16c-4ae68346461a"
      },
      "execution_count": null,
      "outputs": [
        {
          "output_type": "stream",
          "name": "stdout",
          "text": [
            "The estimate using RandomForest is -2.2013651850537603 pm 1.6693509737724903\n"
          ]
        }
      ]
    },
    {
      "cell_type": "markdown",
      "source": [
        "### Calculate Total Effect using Logistic Regression"
      ],
      "metadata": {
        "id": "tys7oUAQ50kW"
      }
    },
    {
      "cell_type": "code",
      "source": [
        "Q0_LRTE,Q1_LRTE = outcome_k_fold_fit_and_predict(make_Qmodel_linearRegression, \n",
        "                                             X=confounders_without_Mediator, y=outcome, \n",
        "                                             A=treatment, n_splits=10, output_type=\"continuous\")"
      ],
      "metadata": {
        "id": "EQtboVhd6cuB"
      },
      "execution_count": null,
      "outputs": []
    },
    {
      "cell_type": "code",
      "source": [
        "data_and_nuisance_estimates_LRTE = exclude_moderate(pd.DataFrame({'g': g2_TE, 'Q0': Q0_LRTE, 'Q1': Q1_LRTE, 'A': treatment, 'Y': outcome}))\n",
        "data_and_nuisance_estimates_LRTE.head()"
      ],
      "metadata": {
        "colab": {
          "base_uri": "https://localhost:8080/",
          "height": 206
        },
        "id": "1r-jXEPN6i9t",
        "outputId": "48f408e1-b9fc-40a3-e13b-f54b2a222c4f"
      },
      "execution_count": null,
      "outputs": [
        {
          "output_type": "execute_result",
          "data": {
            "text/plain": [
              "          g         Q0         Q1  A          Y\n",
              "0  0.456252  69.044088  66.615084  0  77.000000\n",
              "1  0.403838  67.693013  65.866381  0  73.666664\n",
              "2  0.528368  70.077743  68.152090  0  70.000000\n",
              "3  0.421758  68.350808  66.425155  0  81.000000\n",
              "4  0.513315  71.925262  70.085348  0  81.500000"
            ],
            "text/html": [
              "\n",
              "  <div id=\"df-9f1a7e5b-1ef0-4858-a207-9d3fca49feba\">\n",
              "    <div class=\"colab-df-container\">\n",
              "      <div>\n",
              "<style scoped>\n",
              "    .dataframe tbody tr th:only-of-type {\n",
              "        vertical-align: middle;\n",
              "    }\n",
              "\n",
              "    .dataframe tbody tr th {\n",
              "        vertical-align: top;\n",
              "    }\n",
              "\n",
              "    .dataframe thead th {\n",
              "        text-align: right;\n",
              "    }\n",
              "</style>\n",
              "<table border=\"1\" class=\"dataframe\">\n",
              "  <thead>\n",
              "    <tr style=\"text-align: right;\">\n",
              "      <th></th>\n",
              "      <th>g</th>\n",
              "      <th>Q0</th>\n",
              "      <th>Q1</th>\n",
              "      <th>A</th>\n",
              "      <th>Y</th>\n",
              "    </tr>\n",
              "  </thead>\n",
              "  <tbody>\n",
              "    <tr>\n",
              "      <th>0</th>\n",
              "      <td>0.456252</td>\n",
              "      <td>69.044088</td>\n",
              "      <td>66.615084</td>\n",
              "      <td>0</td>\n",
              "      <td>77.000000</td>\n",
              "    </tr>\n",
              "    <tr>\n",
              "      <th>1</th>\n",
              "      <td>0.403838</td>\n",
              "      <td>67.693013</td>\n",
              "      <td>65.866381</td>\n",
              "      <td>0</td>\n",
              "      <td>73.666664</td>\n",
              "    </tr>\n",
              "    <tr>\n",
              "      <th>2</th>\n",
              "      <td>0.528368</td>\n",
              "      <td>70.077743</td>\n",
              "      <td>68.152090</td>\n",
              "      <td>0</td>\n",
              "      <td>70.000000</td>\n",
              "    </tr>\n",
              "    <tr>\n",
              "      <th>3</th>\n",
              "      <td>0.421758</td>\n",
              "      <td>68.350808</td>\n",
              "      <td>66.425155</td>\n",
              "      <td>0</td>\n",
              "      <td>81.000000</td>\n",
              "    </tr>\n",
              "    <tr>\n",
              "      <th>4</th>\n",
              "      <td>0.513315</td>\n",
              "      <td>71.925262</td>\n",
              "      <td>70.085348</td>\n",
              "      <td>0</td>\n",
              "      <td>81.500000</td>\n",
              "    </tr>\n",
              "  </tbody>\n",
              "</table>\n",
              "</div>\n",
              "      <button class=\"colab-df-convert\" onclick=\"convertToInteractive('df-9f1a7e5b-1ef0-4858-a207-9d3fca49feba')\"\n",
              "              title=\"Convert this dataframe to an interactive table.\"\n",
              "              style=\"display:none;\">\n",
              "        \n",
              "  <svg xmlns=\"http://www.w3.org/2000/svg\" height=\"24px\"viewBox=\"0 0 24 24\"\n",
              "       width=\"24px\">\n",
              "    <path d=\"M0 0h24v24H0V0z\" fill=\"none\"/>\n",
              "    <path d=\"M18.56 5.44l.94 2.06.94-2.06 2.06-.94-2.06-.94-.94-2.06-.94 2.06-2.06.94zm-11 1L8.5 8.5l.94-2.06 2.06-.94-2.06-.94L8.5 2.5l-.94 2.06-2.06.94zm10 10l.94 2.06.94-2.06 2.06-.94-2.06-.94-.94-2.06-.94 2.06-2.06.94z\"/><path d=\"M17.41 7.96l-1.37-1.37c-.4-.4-.92-.59-1.43-.59-.52 0-1.04.2-1.43.59L10.3 9.45l-7.72 7.72c-.78.78-.78 2.05 0 2.83L4 21.41c.39.39.9.59 1.41.59.51 0 1.02-.2 1.41-.59l7.78-7.78 2.81-2.81c.8-.78.8-2.07 0-2.86zM5.41 20L4 18.59l7.72-7.72 1.47 1.35L5.41 20z\"/>\n",
              "  </svg>\n",
              "      </button>\n",
              "      \n",
              "  <style>\n",
              "    .colab-df-container {\n",
              "      display:flex;\n",
              "      flex-wrap:wrap;\n",
              "      gap: 12px;\n",
              "    }\n",
              "\n",
              "    .colab-df-convert {\n",
              "      background-color: #E8F0FE;\n",
              "      border: none;\n",
              "      border-radius: 50%;\n",
              "      cursor: pointer;\n",
              "      display: none;\n",
              "      fill: #1967D2;\n",
              "      height: 32px;\n",
              "      padding: 0 0 0 0;\n",
              "      width: 32px;\n",
              "    }\n",
              "\n",
              "    .colab-df-convert:hover {\n",
              "      background-color: #E2EBFA;\n",
              "      box-shadow: 0px 1px 2px rgba(60, 64, 67, 0.3), 0px 1px 3px 1px rgba(60, 64, 67, 0.15);\n",
              "      fill: #174EA6;\n",
              "    }\n",
              "\n",
              "    [theme=dark] .colab-df-convert {\n",
              "      background-color: #3B4455;\n",
              "      fill: #D2E3FC;\n",
              "    }\n",
              "\n",
              "    [theme=dark] .colab-df-convert:hover {\n",
              "      background-color: #434B5C;\n",
              "      box-shadow: 0px 1px 3px 1px rgba(0, 0, 0, 0.15);\n",
              "      filter: drop-shadow(0px 1px 2px rgba(0, 0, 0, 0.3));\n",
              "      fill: #FFFFFF;\n",
              "    }\n",
              "  </style>\n",
              "\n",
              "      <script>\n",
              "        const buttonEl =\n",
              "          document.querySelector('#df-9f1a7e5b-1ef0-4858-a207-9d3fca49feba button.colab-df-convert');\n",
              "        buttonEl.style.display =\n",
              "          google.colab.kernel.accessAllowed ? 'block' : 'none';\n",
              "\n",
              "        async function convertToInteractive(key) {\n",
              "          const element = document.querySelector('#df-9f1a7e5b-1ef0-4858-a207-9d3fca49feba');\n",
              "          const dataTable =\n",
              "            await google.colab.kernel.invokeFunction('convertToInteractive',\n",
              "                                                     [key], {});\n",
              "          if (!dataTable) return;\n",
              "\n",
              "          const docLinkHtml = 'Like what you see? Visit the ' +\n",
              "            '<a target=\"_blank\" href=https://colab.research.google.com/notebooks/data_table.ipynb>data table notebook</a>'\n",
              "            + ' to learn more about interactive tables.';\n",
              "          element.innerHTML = '';\n",
              "          dataTable['output_type'] = 'display_data';\n",
              "          await google.colab.output.renderOutput(dataTable, element);\n",
              "          const docLink = document.createElement('div');\n",
              "          docLink.innerHTML = docLinkHtml;\n",
              "          element.appendChild(docLink);\n",
              "        }\n",
              "      </script>\n",
              "    </div>\n",
              "  </div>\n",
              "  "
            ]
          },
          "metadata": {},
          "execution_count": 68
        }
      ]
    },
    {
      "cell_type": "code",
      "source": [
        "tau_hat_LRTE, std_hat_LRTE = att_aiptw(**data_and_nuisance_estimates_LRTE)\n",
        "print(f\"The estimate using Logistic Regression is {tau_hat_LRTE} pm {1.96*std_hat_LRTE}\")"
      ],
      "metadata": {
        "colab": {
          "base_uri": "https://localhost:8080/"
        },
        "id": "f-65NIKL6ot4",
        "outputId": "860b34f2-0b4e-4a53-be83-b327413cb709"
      },
      "execution_count": null,
      "outputs": [
        {
          "output_type": "stream",
          "name": "stdout",
          "text": [
            "The estimate using Logistic Regression is -2.2091922486069926 pm 1.6352836765340613\n"
          ]
        }
      ]
    },
    {
      "cell_type": "markdown",
      "source": [
        "### Calculate Total Effect using XGBoost"
      ],
      "metadata": {
        "id": "QMEDx8iq3cBJ"
      }
    },
    {
      "cell_type": "code",
      "source": [
        "Q0_XGTE,Q1_XGTE = outcome_k_fold_fit_and_predict(make_Qmodel_XGBoost, \n",
        "                                             X=confounders_without_Mediator, y=outcome, \n",
        "                                             A=treatment, n_splits=10, output_type=\"continuous\")"
      ],
      "metadata": {
        "id": "AmPYr52T3ZH0"
      },
      "execution_count": null,
      "outputs": []
    },
    {
      "cell_type": "code",
      "source": [
        "data_and_nuisance_estimates_XGTE = exclude_moderate(pd.DataFrame({'g': g3_TE, 'Q0': Q0_XGTE, 'Q1': Q1_XGTE, 'A': treatment, 'Y': outcome}))\n",
        "data_and_nuisance_estimates_XGTE.head()"
      ],
      "metadata": {
        "colab": {
          "base_uri": "https://localhost:8080/",
          "height": 206
        },
        "id": "55loX07Z3qJV",
        "outputId": "87409b13-816d-4092-9950-6bbd8b770536"
      },
      "execution_count": null,
      "outputs": [
        {
          "output_type": "execute_result",
          "data": {
            "text/plain": [
              "          g         Q0         Q1  A          Y\n",
              "0  0.388895  72.064819  66.912010  0  77.000000\n",
              "1  0.325704  70.125023  65.910683  0  73.666664\n",
              "2  0.553644  71.329063  68.893646  0  70.000000\n",
              "3  0.368042  71.262108  66.487671  0  81.000000\n",
              "4  0.557024  72.482079  70.086472  0  81.500000"
            ],
            "text/html": [
              "\n",
              "  <div id=\"df-7000bf96-e25b-44c7-ac2a-5f5487be2096\">\n",
              "    <div class=\"colab-df-container\">\n",
              "      <div>\n",
              "<style scoped>\n",
              "    .dataframe tbody tr th:only-of-type {\n",
              "        vertical-align: middle;\n",
              "    }\n",
              "\n",
              "    .dataframe tbody tr th {\n",
              "        vertical-align: top;\n",
              "    }\n",
              "\n",
              "    .dataframe thead th {\n",
              "        text-align: right;\n",
              "    }\n",
              "</style>\n",
              "<table border=\"1\" class=\"dataframe\">\n",
              "  <thead>\n",
              "    <tr style=\"text-align: right;\">\n",
              "      <th></th>\n",
              "      <th>g</th>\n",
              "      <th>Q0</th>\n",
              "      <th>Q1</th>\n",
              "      <th>A</th>\n",
              "      <th>Y</th>\n",
              "    </tr>\n",
              "  </thead>\n",
              "  <tbody>\n",
              "    <tr>\n",
              "      <th>0</th>\n",
              "      <td>0.388895</td>\n",
              "      <td>72.064819</td>\n",
              "      <td>66.912010</td>\n",
              "      <td>0</td>\n",
              "      <td>77.000000</td>\n",
              "    </tr>\n",
              "    <tr>\n",
              "      <th>1</th>\n",
              "      <td>0.325704</td>\n",
              "      <td>70.125023</td>\n",
              "      <td>65.910683</td>\n",
              "      <td>0</td>\n",
              "      <td>73.666664</td>\n",
              "    </tr>\n",
              "    <tr>\n",
              "      <th>2</th>\n",
              "      <td>0.553644</td>\n",
              "      <td>71.329063</td>\n",
              "      <td>68.893646</td>\n",
              "      <td>0</td>\n",
              "      <td>70.000000</td>\n",
              "    </tr>\n",
              "    <tr>\n",
              "      <th>3</th>\n",
              "      <td>0.368042</td>\n",
              "      <td>71.262108</td>\n",
              "      <td>66.487671</td>\n",
              "      <td>0</td>\n",
              "      <td>81.000000</td>\n",
              "    </tr>\n",
              "    <tr>\n",
              "      <th>4</th>\n",
              "      <td>0.557024</td>\n",
              "      <td>72.482079</td>\n",
              "      <td>70.086472</td>\n",
              "      <td>0</td>\n",
              "      <td>81.500000</td>\n",
              "    </tr>\n",
              "  </tbody>\n",
              "</table>\n",
              "</div>\n",
              "      <button class=\"colab-df-convert\" onclick=\"convertToInteractive('df-7000bf96-e25b-44c7-ac2a-5f5487be2096')\"\n",
              "              title=\"Convert this dataframe to an interactive table.\"\n",
              "              style=\"display:none;\">\n",
              "        \n",
              "  <svg xmlns=\"http://www.w3.org/2000/svg\" height=\"24px\"viewBox=\"0 0 24 24\"\n",
              "       width=\"24px\">\n",
              "    <path d=\"M0 0h24v24H0V0z\" fill=\"none\"/>\n",
              "    <path d=\"M18.56 5.44l.94 2.06.94-2.06 2.06-.94-2.06-.94-.94-2.06-.94 2.06-2.06.94zm-11 1L8.5 8.5l.94-2.06 2.06-.94-2.06-.94L8.5 2.5l-.94 2.06-2.06.94zm10 10l.94 2.06.94-2.06 2.06-.94-2.06-.94-.94-2.06-.94 2.06-2.06.94z\"/><path d=\"M17.41 7.96l-1.37-1.37c-.4-.4-.92-.59-1.43-.59-.52 0-1.04.2-1.43.59L10.3 9.45l-7.72 7.72c-.78.78-.78 2.05 0 2.83L4 21.41c.39.39.9.59 1.41.59.51 0 1.02-.2 1.41-.59l7.78-7.78 2.81-2.81c.8-.78.8-2.07 0-2.86zM5.41 20L4 18.59l7.72-7.72 1.47 1.35L5.41 20z\"/>\n",
              "  </svg>\n",
              "      </button>\n",
              "      \n",
              "  <style>\n",
              "    .colab-df-container {\n",
              "      display:flex;\n",
              "      flex-wrap:wrap;\n",
              "      gap: 12px;\n",
              "    }\n",
              "\n",
              "    .colab-df-convert {\n",
              "      background-color: #E8F0FE;\n",
              "      border: none;\n",
              "      border-radius: 50%;\n",
              "      cursor: pointer;\n",
              "      display: none;\n",
              "      fill: #1967D2;\n",
              "      height: 32px;\n",
              "      padding: 0 0 0 0;\n",
              "      width: 32px;\n",
              "    }\n",
              "\n",
              "    .colab-df-convert:hover {\n",
              "      background-color: #E2EBFA;\n",
              "      box-shadow: 0px 1px 2px rgba(60, 64, 67, 0.3), 0px 1px 3px 1px rgba(60, 64, 67, 0.15);\n",
              "      fill: #174EA6;\n",
              "    }\n",
              "\n",
              "    [theme=dark] .colab-df-convert {\n",
              "      background-color: #3B4455;\n",
              "      fill: #D2E3FC;\n",
              "    }\n",
              "\n",
              "    [theme=dark] .colab-df-convert:hover {\n",
              "      background-color: #434B5C;\n",
              "      box-shadow: 0px 1px 3px 1px rgba(0, 0, 0, 0.15);\n",
              "      filter: drop-shadow(0px 1px 2px rgba(0, 0, 0, 0.3));\n",
              "      fill: #FFFFFF;\n",
              "    }\n",
              "  </style>\n",
              "\n",
              "      <script>\n",
              "        const buttonEl =\n",
              "          document.querySelector('#df-7000bf96-e25b-44c7-ac2a-5f5487be2096 button.colab-df-convert');\n",
              "        buttonEl.style.display =\n",
              "          google.colab.kernel.accessAllowed ? 'block' : 'none';\n",
              "\n",
              "        async function convertToInteractive(key) {\n",
              "          const element = document.querySelector('#df-7000bf96-e25b-44c7-ac2a-5f5487be2096');\n",
              "          const dataTable =\n",
              "            await google.colab.kernel.invokeFunction('convertToInteractive',\n",
              "                                                     [key], {});\n",
              "          if (!dataTable) return;\n",
              "\n",
              "          const docLinkHtml = 'Like what you see? Visit the ' +\n",
              "            '<a target=\"_blank\" href=https://colab.research.google.com/notebooks/data_table.ipynb>data table notebook</a>'\n",
              "            + ' to learn more about interactive tables.';\n",
              "          element.innerHTML = '';\n",
              "          dataTable['output_type'] = 'display_data';\n",
              "          await google.colab.output.renderOutput(dataTable, element);\n",
              "          const docLink = document.createElement('div');\n",
              "          docLink.innerHTML = docLinkHtml;\n",
              "          element.appendChild(docLink);\n",
              "        }\n",
              "      </script>\n",
              "    </div>\n",
              "  </div>\n",
              "  "
            ]
          },
          "metadata": {},
          "execution_count": 71
        }
      ]
    },
    {
      "cell_type": "code",
      "source": [
        "tau_hat_XGTE, std_hat_XGTE = att_aiptw(**data_and_nuisance_estimates_XGTE)\n",
        "print(f\"The estimate using XGBoost is {tau_hat_XGTE} pm {1.96*std_hat_XGTE}\")"
      ],
      "metadata": {
        "colab": {
          "base_uri": "https://localhost:8080/"
        },
        "id": "gPCScnwa4wsj",
        "outputId": "1718ae8d-0529-4a86-e3b7-ca75ab4ad3b1"
      },
      "execution_count": null,
      "outputs": [
        {
          "output_type": "stream",
          "name": "stdout",
          "text": [
            "The estimate using XGBoost is -1.862313596001122 pm 1.825616471795112\n"
          ]
        }
      ]
    },
    {
      "cell_type": "markdown",
      "source": [
        "# The table of results"
      ],
      "metadata": {
        "id": "XDCavsMVGuMd"
      }
    },
    {
      "cell_type": "markdown",
      "source": [
        "## Natural Direct Effect"
      ],
      "metadata": {
        "id": "FifwR0gFsQ0j"
      }
    },
    {
      "cell_type": "code",
      "source": [
        "NDE_table = [['Outcome','Type of causal effect','Mediator excluded', 'Model', 'Estimate','p/m', 'Standard Error'], \n",
        "         ['Fall_grade','Natural Direct Effect', 'Study Hours', 'RandomForest',tau_hat_RFSH,1.96*std_hat_RFSH, std_hat_RFSH], \n",
        "         ['Fall_grade','Natural Direct Effect', 'Study Hours', 'Logistic Regression',tau_hat_LRSH,1.96*std_hat_LRSH,std_hat_LRSH],\n",
        "         ['Fall_grade','Natural Direct Effect', 'Study Hours', 'XGBoost',tau_hat_XGSH,1.96*std_hat_XGSH,std_hat_XGSH],\n",
        "         ['Fall_grade','Natural Direct Effect', 'Study Habits', 'RandomForest',tau_hat_RFSB,1.96*std_hat_RFSB,std_hat_RFSB], \n",
        "         ['Fall_grade','Natural Direct Effect', 'Study Habits', 'Logistic Regression',tau_hat_LRSB,1.96*std_hat_LRSB,std_hat_LRSB],\n",
        "         ['Fall_grade','Natural Direct Effect', 'Study Habits', 'XGBoost',tau_hat_XGSB,1.96*std_hat_XGSB,std_hat_XGSB],\n",
        "         ['Fall_grade','Natural Direct Effect', 'Study Hours and Study Habits', 'RandomForest',tau_hat_RF,1.96*std_hat_RF,std_hat_RF], \n",
        "         ['Fall_grade','Natural Direct Effect', 'Study Hours and Study Habits', 'Logistic Regression',tau_hat_LR,1.96*std_hat_LR,std_hat_LR],\n",
        "         ['Fall_grade','Natural Direct Effect', 'Study Hours and Study Habits', 'XGBoost',tau_hat_XGB,1.96*std_hat_XGB,std_hat_XGB]]"
      ],
      "metadata": {
        "id": "l6l7o2unG0t4"
      },
      "execution_count": null,
      "outputs": []
    },
    {
      "cell_type": "code",
      "source": [
        "TE_table = [['Outcome','Type of causal effect', 'Model', 'Estimate','p/m', 'Standard Error'],\n",
        "            ['Fall_grade','Total Effect', 'RandomForest',tau_hat_RFTE,1.96*std_hat_RFTE, std_hat_RFTE], \n",
        "            ['Fall_grade','Total Effect', 'Logistic Regression',tau_hat_LRTE,1.96*std_hat_LRTE, std_hat_LRTE],\n",
        "            ['Fall_grade','Total Effect', 'XGBoost',tau_hat_XGTE,1.96*std_hat_XGTE, std_hat_XGTE]]"
      ],
      "metadata": {
        "id": "h8Q9CqAdMY5k"
      },
      "execution_count": null,
      "outputs": []
    },
    {
      "cell_type": "code",
      "source": [
        "df_NDE = pd.DataFrame(NDE_table)\n",
        "df_NDE.columns = df_NDE.iloc[0]\n",
        "df_NDE = df_NDE[1:]\n",
        "df_NDE"
      ],
      "metadata": {
        "colab": {
          "base_uri": "https://localhost:8080/",
          "height": 567
        },
        "id": "pz02hMA-KYyy",
        "outputId": "6c233940-d934-4c63-afe5-fb899023380b"
      },
      "execution_count": null,
      "outputs": [
        {
          "output_type": "execute_result",
          "data": {
            "text/plain": [
              "0     Outcome  Type of causal effect             Mediator excluded  \\\n",
              "1  Fall_grade  Natural Direct Effect                   Study Hours   \n",
              "2  Fall_grade  Natural Direct Effect                   Study Hours   \n",
              "3  Fall_grade  Natural Direct Effect                   Study Hours   \n",
              "4  Fall_grade  Natural Direct Effect                  Study Habits   \n",
              "5  Fall_grade  Natural Direct Effect                  Study Habits   \n",
              "6  Fall_grade  Natural Direct Effect                  Study Habits   \n",
              "7  Fall_grade  Natural Direct Effect  Study Hours and Study Habits   \n",
              "8  Fall_grade  Natural Direct Effect  Study Hours and Study Habits   \n",
              "9  Fall_grade  Natural Direct Effect  Study Hours and Study Habits   \n",
              "\n",
              "0                Model  Estimate       p/m Standard Error  \n",
              "1         RandomForest -1.837253  1.609899       0.821377  \n",
              "2  Logistic Regression -1.698285  1.598712       0.815669  \n",
              "3              XGBoost -2.571081  2.448955       1.249467  \n",
              "4         RandomForest -2.114952  1.631117       0.832203  \n",
              "5  Logistic Regression -2.057961  1.631844       0.832574  \n",
              "6              XGBoost -2.811477  2.388753       1.218751  \n",
              "7         RandomForest -1.822925  1.602896       0.817804  \n",
              "8  Logistic Regression -1.754583  1.611691       0.822291  \n",
              "9              XGBoost -2.373297   2.57755       1.315077  "
            ],
            "text/html": [
              "\n",
              "  <div id=\"df-f1790164-6cca-47ef-80ba-62195233983d\">\n",
              "    <div class=\"colab-df-container\">\n",
              "      <div>\n",
              "<style scoped>\n",
              "    .dataframe tbody tr th:only-of-type {\n",
              "        vertical-align: middle;\n",
              "    }\n",
              "\n",
              "    .dataframe tbody tr th {\n",
              "        vertical-align: top;\n",
              "    }\n",
              "\n",
              "    .dataframe thead th {\n",
              "        text-align: right;\n",
              "    }\n",
              "</style>\n",
              "<table border=\"1\" class=\"dataframe\">\n",
              "  <thead>\n",
              "    <tr style=\"text-align: right;\">\n",
              "      <th></th>\n",
              "      <th>Outcome</th>\n",
              "      <th>Type of causal effect</th>\n",
              "      <th>Mediator excluded</th>\n",
              "      <th>Model</th>\n",
              "      <th>Estimate</th>\n",
              "      <th>p/m</th>\n",
              "      <th>Standard Error</th>\n",
              "    </tr>\n",
              "  </thead>\n",
              "  <tbody>\n",
              "    <tr>\n",
              "      <th>1</th>\n",
              "      <td>Fall_grade</td>\n",
              "      <td>Natural Direct Effect</td>\n",
              "      <td>Study Hours</td>\n",
              "      <td>RandomForest</td>\n",
              "      <td>-1.837253</td>\n",
              "      <td>1.609899</td>\n",
              "      <td>0.821377</td>\n",
              "    </tr>\n",
              "    <tr>\n",
              "      <th>2</th>\n",
              "      <td>Fall_grade</td>\n",
              "      <td>Natural Direct Effect</td>\n",
              "      <td>Study Hours</td>\n",
              "      <td>Logistic Regression</td>\n",
              "      <td>-1.698285</td>\n",
              "      <td>1.598712</td>\n",
              "      <td>0.815669</td>\n",
              "    </tr>\n",
              "    <tr>\n",
              "      <th>3</th>\n",
              "      <td>Fall_grade</td>\n",
              "      <td>Natural Direct Effect</td>\n",
              "      <td>Study Hours</td>\n",
              "      <td>XGBoost</td>\n",
              "      <td>-2.571081</td>\n",
              "      <td>2.448955</td>\n",
              "      <td>1.249467</td>\n",
              "    </tr>\n",
              "    <tr>\n",
              "      <th>4</th>\n",
              "      <td>Fall_grade</td>\n",
              "      <td>Natural Direct Effect</td>\n",
              "      <td>Study Habits</td>\n",
              "      <td>RandomForest</td>\n",
              "      <td>-2.114952</td>\n",
              "      <td>1.631117</td>\n",
              "      <td>0.832203</td>\n",
              "    </tr>\n",
              "    <tr>\n",
              "      <th>5</th>\n",
              "      <td>Fall_grade</td>\n",
              "      <td>Natural Direct Effect</td>\n",
              "      <td>Study Habits</td>\n",
              "      <td>Logistic Regression</td>\n",
              "      <td>-2.057961</td>\n",
              "      <td>1.631844</td>\n",
              "      <td>0.832574</td>\n",
              "    </tr>\n",
              "    <tr>\n",
              "      <th>6</th>\n",
              "      <td>Fall_grade</td>\n",
              "      <td>Natural Direct Effect</td>\n",
              "      <td>Study Habits</td>\n",
              "      <td>XGBoost</td>\n",
              "      <td>-2.811477</td>\n",
              "      <td>2.388753</td>\n",
              "      <td>1.218751</td>\n",
              "    </tr>\n",
              "    <tr>\n",
              "      <th>7</th>\n",
              "      <td>Fall_grade</td>\n",
              "      <td>Natural Direct Effect</td>\n",
              "      <td>Study Hours and Study Habits</td>\n",
              "      <td>RandomForest</td>\n",
              "      <td>-1.822925</td>\n",
              "      <td>1.602896</td>\n",
              "      <td>0.817804</td>\n",
              "    </tr>\n",
              "    <tr>\n",
              "      <th>8</th>\n",
              "      <td>Fall_grade</td>\n",
              "      <td>Natural Direct Effect</td>\n",
              "      <td>Study Hours and Study Habits</td>\n",
              "      <td>Logistic Regression</td>\n",
              "      <td>-1.754583</td>\n",
              "      <td>1.611691</td>\n",
              "      <td>0.822291</td>\n",
              "    </tr>\n",
              "    <tr>\n",
              "      <th>9</th>\n",
              "      <td>Fall_grade</td>\n",
              "      <td>Natural Direct Effect</td>\n",
              "      <td>Study Hours and Study Habits</td>\n",
              "      <td>XGBoost</td>\n",
              "      <td>-2.373297</td>\n",
              "      <td>2.57755</td>\n",
              "      <td>1.315077</td>\n",
              "    </tr>\n",
              "  </tbody>\n",
              "</table>\n",
              "</div>\n",
              "      <button class=\"colab-df-convert\" onclick=\"convertToInteractive('df-f1790164-6cca-47ef-80ba-62195233983d')\"\n",
              "              title=\"Convert this dataframe to an interactive table.\"\n",
              "              style=\"display:none;\">\n",
              "        \n",
              "  <svg xmlns=\"http://www.w3.org/2000/svg\" height=\"24px\"viewBox=\"0 0 24 24\"\n",
              "       width=\"24px\">\n",
              "    <path d=\"M0 0h24v24H0V0z\" fill=\"none\"/>\n",
              "    <path d=\"M18.56 5.44l.94 2.06.94-2.06 2.06-.94-2.06-.94-.94-2.06-.94 2.06-2.06.94zm-11 1L8.5 8.5l.94-2.06 2.06-.94-2.06-.94L8.5 2.5l-.94 2.06-2.06.94zm10 10l.94 2.06.94-2.06 2.06-.94-2.06-.94-.94-2.06-.94 2.06-2.06.94z\"/><path d=\"M17.41 7.96l-1.37-1.37c-.4-.4-.92-.59-1.43-.59-.52 0-1.04.2-1.43.59L10.3 9.45l-7.72 7.72c-.78.78-.78 2.05 0 2.83L4 21.41c.39.39.9.59 1.41.59.51 0 1.02-.2 1.41-.59l7.78-7.78 2.81-2.81c.8-.78.8-2.07 0-2.86zM5.41 20L4 18.59l7.72-7.72 1.47 1.35L5.41 20z\"/>\n",
              "  </svg>\n",
              "      </button>\n",
              "      \n",
              "  <style>\n",
              "    .colab-df-container {\n",
              "      display:flex;\n",
              "      flex-wrap:wrap;\n",
              "      gap: 12px;\n",
              "    }\n",
              "\n",
              "    .colab-df-convert {\n",
              "      background-color: #E8F0FE;\n",
              "      border: none;\n",
              "      border-radius: 50%;\n",
              "      cursor: pointer;\n",
              "      display: none;\n",
              "      fill: #1967D2;\n",
              "      height: 32px;\n",
              "      padding: 0 0 0 0;\n",
              "      width: 32px;\n",
              "    }\n",
              "\n",
              "    .colab-df-convert:hover {\n",
              "      background-color: #E2EBFA;\n",
              "      box-shadow: 0px 1px 2px rgba(60, 64, 67, 0.3), 0px 1px 3px 1px rgba(60, 64, 67, 0.15);\n",
              "      fill: #174EA6;\n",
              "    }\n",
              "\n",
              "    [theme=dark] .colab-df-convert {\n",
              "      background-color: #3B4455;\n",
              "      fill: #D2E3FC;\n",
              "    }\n",
              "\n",
              "    [theme=dark] .colab-df-convert:hover {\n",
              "      background-color: #434B5C;\n",
              "      box-shadow: 0px 1px 3px 1px rgba(0, 0, 0, 0.15);\n",
              "      filter: drop-shadow(0px 1px 2px rgba(0, 0, 0, 0.3));\n",
              "      fill: #FFFFFF;\n",
              "    }\n",
              "  </style>\n",
              "\n",
              "      <script>\n",
              "        const buttonEl =\n",
              "          document.querySelector('#df-f1790164-6cca-47ef-80ba-62195233983d button.colab-df-convert');\n",
              "        buttonEl.style.display =\n",
              "          google.colab.kernel.accessAllowed ? 'block' : 'none';\n",
              "\n",
              "        async function convertToInteractive(key) {\n",
              "          const element = document.querySelector('#df-f1790164-6cca-47ef-80ba-62195233983d');\n",
              "          const dataTable =\n",
              "            await google.colab.kernel.invokeFunction('convertToInteractive',\n",
              "                                                     [key], {});\n",
              "          if (!dataTable) return;\n",
              "\n",
              "          const docLinkHtml = 'Like what you see? Visit the ' +\n",
              "            '<a target=\"_blank\" href=https://colab.research.google.com/notebooks/data_table.ipynb>data table notebook</a>'\n",
              "            + ' to learn more about interactive tables.';\n",
              "          element.innerHTML = '';\n",
              "          dataTable['output_type'] = 'display_data';\n",
              "          await google.colab.output.renderOutput(dataTable, element);\n",
              "          const docLink = document.createElement('div');\n",
              "          docLink.innerHTML = docLinkHtml;\n",
              "          element.appendChild(docLink);\n",
              "        }\n",
              "      </script>\n",
              "    </div>\n",
              "  </div>\n",
              "  "
            ]
          },
          "metadata": {},
          "execution_count": 75
        }
      ]
    },
    {
      "cell_type": "code",
      "source": [
        "df_TE = pd.DataFrame(TE_table)\n",
        "df_TE.columns = df_TE.iloc[0]\n",
        "df_TE = df_TE[1:]\n",
        "df_TE"
      ],
      "metadata": {
        "colab": {
          "base_uri": "https://localhost:8080/",
          "height": 187
        },
        "id": "HaA34SDbNFO3",
        "outputId": "8409749d-8c60-4f27-fe83-95551a8fa029"
      },
      "execution_count": null,
      "outputs": [
        {
          "output_type": "execute_result",
          "data": {
            "text/plain": [
              "0     Outcome Type of causal effect                Model  Estimate       p/m  \\\n",
              "1  Fall_grade          Total Effect         RandomForest -2.201365  1.669351   \n",
              "2  Fall_grade          Total Effect  Logistic Regression -2.209192  1.635284   \n",
              "3  Fall_grade          Total Effect              XGBoost -1.862314  1.825616   \n",
              "\n",
              "0 Standard Error  \n",
              "1        0.85171  \n",
              "2       0.834328  \n",
              "3       0.931437  "
            ],
            "text/html": [
              "\n",
              "  <div id=\"df-f4db07c7-88b2-4f12-9872-fdf560e884b3\">\n",
              "    <div class=\"colab-df-container\">\n",
              "      <div>\n",
              "<style scoped>\n",
              "    .dataframe tbody tr th:only-of-type {\n",
              "        vertical-align: middle;\n",
              "    }\n",
              "\n",
              "    .dataframe tbody tr th {\n",
              "        vertical-align: top;\n",
              "    }\n",
              "\n",
              "    .dataframe thead th {\n",
              "        text-align: right;\n",
              "    }\n",
              "</style>\n",
              "<table border=\"1\" class=\"dataframe\">\n",
              "  <thead>\n",
              "    <tr style=\"text-align: right;\">\n",
              "      <th></th>\n",
              "      <th>Outcome</th>\n",
              "      <th>Type of causal effect</th>\n",
              "      <th>Model</th>\n",
              "      <th>Estimate</th>\n",
              "      <th>p/m</th>\n",
              "      <th>Standard Error</th>\n",
              "    </tr>\n",
              "  </thead>\n",
              "  <tbody>\n",
              "    <tr>\n",
              "      <th>1</th>\n",
              "      <td>Fall_grade</td>\n",
              "      <td>Total Effect</td>\n",
              "      <td>RandomForest</td>\n",
              "      <td>-2.201365</td>\n",
              "      <td>1.669351</td>\n",
              "      <td>0.85171</td>\n",
              "    </tr>\n",
              "    <tr>\n",
              "      <th>2</th>\n",
              "      <td>Fall_grade</td>\n",
              "      <td>Total Effect</td>\n",
              "      <td>Logistic Regression</td>\n",
              "      <td>-2.209192</td>\n",
              "      <td>1.635284</td>\n",
              "      <td>0.834328</td>\n",
              "    </tr>\n",
              "    <tr>\n",
              "      <th>3</th>\n",
              "      <td>Fall_grade</td>\n",
              "      <td>Total Effect</td>\n",
              "      <td>XGBoost</td>\n",
              "      <td>-1.862314</td>\n",
              "      <td>1.825616</td>\n",
              "      <td>0.931437</td>\n",
              "    </tr>\n",
              "  </tbody>\n",
              "</table>\n",
              "</div>\n",
              "      <button class=\"colab-df-convert\" onclick=\"convertToInteractive('df-f4db07c7-88b2-4f12-9872-fdf560e884b3')\"\n",
              "              title=\"Convert this dataframe to an interactive table.\"\n",
              "              style=\"display:none;\">\n",
              "        \n",
              "  <svg xmlns=\"http://www.w3.org/2000/svg\" height=\"24px\"viewBox=\"0 0 24 24\"\n",
              "       width=\"24px\">\n",
              "    <path d=\"M0 0h24v24H0V0z\" fill=\"none\"/>\n",
              "    <path d=\"M18.56 5.44l.94 2.06.94-2.06 2.06-.94-2.06-.94-.94-2.06-.94 2.06-2.06.94zm-11 1L8.5 8.5l.94-2.06 2.06-.94-2.06-.94L8.5 2.5l-.94 2.06-2.06.94zm10 10l.94 2.06.94-2.06 2.06-.94-2.06-.94-.94-2.06-.94 2.06-2.06.94z\"/><path d=\"M17.41 7.96l-1.37-1.37c-.4-.4-.92-.59-1.43-.59-.52 0-1.04.2-1.43.59L10.3 9.45l-7.72 7.72c-.78.78-.78 2.05 0 2.83L4 21.41c.39.39.9.59 1.41.59.51 0 1.02-.2 1.41-.59l7.78-7.78 2.81-2.81c.8-.78.8-2.07 0-2.86zM5.41 20L4 18.59l7.72-7.72 1.47 1.35L5.41 20z\"/>\n",
              "  </svg>\n",
              "      </button>\n",
              "      \n",
              "  <style>\n",
              "    .colab-df-container {\n",
              "      display:flex;\n",
              "      flex-wrap:wrap;\n",
              "      gap: 12px;\n",
              "    }\n",
              "\n",
              "    .colab-df-convert {\n",
              "      background-color: #E8F0FE;\n",
              "      border: none;\n",
              "      border-radius: 50%;\n",
              "      cursor: pointer;\n",
              "      display: none;\n",
              "      fill: #1967D2;\n",
              "      height: 32px;\n",
              "      padding: 0 0 0 0;\n",
              "      width: 32px;\n",
              "    }\n",
              "\n",
              "    .colab-df-convert:hover {\n",
              "      background-color: #E2EBFA;\n",
              "      box-shadow: 0px 1px 2px rgba(60, 64, 67, 0.3), 0px 1px 3px 1px rgba(60, 64, 67, 0.15);\n",
              "      fill: #174EA6;\n",
              "    }\n",
              "\n",
              "    [theme=dark] .colab-df-convert {\n",
              "      background-color: #3B4455;\n",
              "      fill: #D2E3FC;\n",
              "    }\n",
              "\n",
              "    [theme=dark] .colab-df-convert:hover {\n",
              "      background-color: #434B5C;\n",
              "      box-shadow: 0px 1px 3px 1px rgba(0, 0, 0, 0.15);\n",
              "      filter: drop-shadow(0px 1px 2px rgba(0, 0, 0, 0.3));\n",
              "      fill: #FFFFFF;\n",
              "    }\n",
              "  </style>\n",
              "\n",
              "      <script>\n",
              "        const buttonEl =\n",
              "          document.querySelector('#df-f4db07c7-88b2-4f12-9872-fdf560e884b3 button.colab-df-convert');\n",
              "        buttonEl.style.display =\n",
              "          google.colab.kernel.accessAllowed ? 'block' : 'none';\n",
              "\n",
              "        async function convertToInteractive(key) {\n",
              "          const element = document.querySelector('#df-f4db07c7-88b2-4f12-9872-fdf560e884b3');\n",
              "          const dataTable =\n",
              "            await google.colab.kernel.invokeFunction('convertToInteractive',\n",
              "                                                     [key], {});\n",
              "          if (!dataTable) return;\n",
              "\n",
              "          const docLinkHtml = 'Like what you see? Visit the ' +\n",
              "            '<a target=\"_blank\" href=https://colab.research.google.com/notebooks/data_table.ipynb>data table notebook</a>'\n",
              "            + ' to learn more about interactive tables.';\n",
              "          element.innerHTML = '';\n",
              "          dataTable['output_type'] = 'display_data';\n",
              "          await google.colab.output.renderOutput(dataTable, element);\n",
              "          const docLink = document.createElement('div');\n",
              "          docLink.innerHTML = docLinkHtml;\n",
              "          element.appendChild(docLink);\n",
              "        }\n",
              "      </script>\n",
              "    </div>\n",
              "  </div>\n",
              "  "
            ]
          },
          "metadata": {},
          "execution_count": 76
        }
      ]
    },
    {
      "cell_type": "markdown",
      "source": [
        "## Table of Natural Indirect Effect"
      ],
      "metadata": {
        "id": "UfOktM7Dp_gV"
      }
    },
    {
      "cell_type": "code",
      "source": [
        "NIE_table = [['Outcome','Type of causal effect','Through which Mediator', 'Model', 'Estimate'], \n",
        "         ['Fall_grade','Natural Indirect Direct Effect', 'Study Hours', 'RandomForest',tau_hat_RFTE - tau_hat_RFSH], \n",
        "         ['Fall_grade','Natural Indirect Direct Effect', 'Study Hours', 'Logistic Regression',tau_hat_LRTE - tau_hat_LRSH],\n",
        "         ['Fall_grade','Natural Indirect Direct Effect', 'Study Hours', 'XGBoost',tau_hat_XGTE - tau_hat_XGSH],\n",
        "         ['Fall_grade','Natural Indirect Direct Effect', 'Study Habits', 'RandomForest',tau_hat_RFTE - tau_hat_RFSB], \n",
        "         ['Fall_grade','Natural Indirect Direct Effect', 'Study Habits', 'Logistic Regression',tau_hat_LRTE - tau_hat_LRSB],\n",
        "         ['Fall_grade','Natural Indirect Direct Effect', 'Study Habits', 'XGBoost',tau_hat_XGTE - tau_hat_XGSB]]"
      ],
      "metadata": {
        "id": "-rc9niODqHkM"
      },
      "execution_count": null,
      "outputs": []
    },
    {
      "cell_type": "code",
      "source": [
        "df_NIE = pd.DataFrame(NIE_table)\n",
        "df_NIE.columns = df_NIE.iloc[0]\n",
        "df_NIE = df_NIE[1:]\n",
        "df_NIE"
      ],
      "metadata": {
        "colab": {
          "base_uri": "https://localhost:8080/",
          "height": 282
        },
        "id": "mYAqYQOFrLwU",
        "outputId": "90974543-5a33-45e6-930f-1b2f30211dd7"
      },
      "execution_count": null,
      "outputs": [
        {
          "output_type": "execute_result",
          "data": {
            "text/plain": [
              "0     Outcome           Type of causal effect Through which Mediator  \\\n",
              "1  Fall_grade  Natural Indirect Direct Effect            Study Hours   \n",
              "2  Fall_grade  Natural Indirect Direct Effect            Study Hours   \n",
              "3  Fall_grade  Natural Indirect Direct Effect            Study Hours   \n",
              "4  Fall_grade  Natural Indirect Direct Effect           Study Habits   \n",
              "5  Fall_grade  Natural Indirect Direct Effect           Study Habits   \n",
              "6  Fall_grade  Natural Indirect Direct Effect           Study Habits   \n",
              "\n",
              "0                Model  Estimate  \n",
              "1         RandomForest -0.364112  \n",
              "2  Logistic Regression -0.510907  \n",
              "3              XGBoost  0.708768  \n",
              "4         RandomForest -0.086413  \n",
              "5  Logistic Regression -0.151231  \n",
              "6              XGBoost  0.949163  "
            ],
            "text/html": [
              "\n",
              "  <div id=\"df-983c1d7a-b854-43fe-a2f0-0478126e56a7\">\n",
              "    <div class=\"colab-df-container\">\n",
              "      <div>\n",
              "<style scoped>\n",
              "    .dataframe tbody tr th:only-of-type {\n",
              "        vertical-align: middle;\n",
              "    }\n",
              "\n",
              "    .dataframe tbody tr th {\n",
              "        vertical-align: top;\n",
              "    }\n",
              "\n",
              "    .dataframe thead th {\n",
              "        text-align: right;\n",
              "    }\n",
              "</style>\n",
              "<table border=\"1\" class=\"dataframe\">\n",
              "  <thead>\n",
              "    <tr style=\"text-align: right;\">\n",
              "      <th></th>\n",
              "      <th>Outcome</th>\n",
              "      <th>Type of causal effect</th>\n",
              "      <th>Through which Mediator</th>\n",
              "      <th>Model</th>\n",
              "      <th>Estimate</th>\n",
              "    </tr>\n",
              "  </thead>\n",
              "  <tbody>\n",
              "    <tr>\n",
              "      <th>1</th>\n",
              "      <td>Fall_grade</td>\n",
              "      <td>Natural Indirect Direct Effect</td>\n",
              "      <td>Study Hours</td>\n",
              "      <td>RandomForest</td>\n",
              "      <td>-0.364112</td>\n",
              "    </tr>\n",
              "    <tr>\n",
              "      <th>2</th>\n",
              "      <td>Fall_grade</td>\n",
              "      <td>Natural Indirect Direct Effect</td>\n",
              "      <td>Study Hours</td>\n",
              "      <td>Logistic Regression</td>\n",
              "      <td>-0.510907</td>\n",
              "    </tr>\n",
              "    <tr>\n",
              "      <th>3</th>\n",
              "      <td>Fall_grade</td>\n",
              "      <td>Natural Indirect Direct Effect</td>\n",
              "      <td>Study Hours</td>\n",
              "      <td>XGBoost</td>\n",
              "      <td>0.708768</td>\n",
              "    </tr>\n",
              "    <tr>\n",
              "      <th>4</th>\n",
              "      <td>Fall_grade</td>\n",
              "      <td>Natural Indirect Direct Effect</td>\n",
              "      <td>Study Habits</td>\n",
              "      <td>RandomForest</td>\n",
              "      <td>-0.086413</td>\n",
              "    </tr>\n",
              "    <tr>\n",
              "      <th>5</th>\n",
              "      <td>Fall_grade</td>\n",
              "      <td>Natural Indirect Direct Effect</td>\n",
              "      <td>Study Habits</td>\n",
              "      <td>Logistic Regression</td>\n",
              "      <td>-0.151231</td>\n",
              "    </tr>\n",
              "    <tr>\n",
              "      <th>6</th>\n",
              "      <td>Fall_grade</td>\n",
              "      <td>Natural Indirect Direct Effect</td>\n",
              "      <td>Study Habits</td>\n",
              "      <td>XGBoost</td>\n",
              "      <td>0.949163</td>\n",
              "    </tr>\n",
              "  </tbody>\n",
              "</table>\n",
              "</div>\n",
              "      <button class=\"colab-df-convert\" onclick=\"convertToInteractive('df-983c1d7a-b854-43fe-a2f0-0478126e56a7')\"\n",
              "              title=\"Convert this dataframe to an interactive table.\"\n",
              "              style=\"display:none;\">\n",
              "        \n",
              "  <svg xmlns=\"http://www.w3.org/2000/svg\" height=\"24px\"viewBox=\"0 0 24 24\"\n",
              "       width=\"24px\">\n",
              "    <path d=\"M0 0h24v24H0V0z\" fill=\"none\"/>\n",
              "    <path d=\"M18.56 5.44l.94 2.06.94-2.06 2.06-.94-2.06-.94-.94-2.06-.94 2.06-2.06.94zm-11 1L8.5 8.5l.94-2.06 2.06-.94-2.06-.94L8.5 2.5l-.94 2.06-2.06.94zm10 10l.94 2.06.94-2.06 2.06-.94-2.06-.94-.94-2.06-.94 2.06-2.06.94z\"/><path d=\"M17.41 7.96l-1.37-1.37c-.4-.4-.92-.59-1.43-.59-.52 0-1.04.2-1.43.59L10.3 9.45l-7.72 7.72c-.78.78-.78 2.05 0 2.83L4 21.41c.39.39.9.59 1.41.59.51 0 1.02-.2 1.41-.59l7.78-7.78 2.81-2.81c.8-.78.8-2.07 0-2.86zM5.41 20L4 18.59l7.72-7.72 1.47 1.35L5.41 20z\"/>\n",
              "  </svg>\n",
              "      </button>\n",
              "      \n",
              "  <style>\n",
              "    .colab-df-container {\n",
              "      display:flex;\n",
              "      flex-wrap:wrap;\n",
              "      gap: 12px;\n",
              "    }\n",
              "\n",
              "    .colab-df-convert {\n",
              "      background-color: #E8F0FE;\n",
              "      border: none;\n",
              "      border-radius: 50%;\n",
              "      cursor: pointer;\n",
              "      display: none;\n",
              "      fill: #1967D2;\n",
              "      height: 32px;\n",
              "      padding: 0 0 0 0;\n",
              "      width: 32px;\n",
              "    }\n",
              "\n",
              "    .colab-df-convert:hover {\n",
              "      background-color: #E2EBFA;\n",
              "      box-shadow: 0px 1px 2px rgba(60, 64, 67, 0.3), 0px 1px 3px 1px rgba(60, 64, 67, 0.15);\n",
              "      fill: #174EA6;\n",
              "    }\n",
              "\n",
              "    [theme=dark] .colab-df-convert {\n",
              "      background-color: #3B4455;\n",
              "      fill: #D2E3FC;\n",
              "    }\n",
              "\n",
              "    [theme=dark] .colab-df-convert:hover {\n",
              "      background-color: #434B5C;\n",
              "      box-shadow: 0px 1px 3px 1px rgba(0, 0, 0, 0.15);\n",
              "      filter: drop-shadow(0px 1px 2px rgba(0, 0, 0, 0.3));\n",
              "      fill: #FFFFFF;\n",
              "    }\n",
              "  </style>\n",
              "\n",
              "      <script>\n",
              "        const buttonEl =\n",
              "          document.querySelector('#df-983c1d7a-b854-43fe-a2f0-0478126e56a7 button.colab-df-convert');\n",
              "        buttonEl.style.display =\n",
              "          google.colab.kernel.accessAllowed ? 'block' : 'none';\n",
              "\n",
              "        async function convertToInteractive(key) {\n",
              "          const element = document.querySelector('#df-983c1d7a-b854-43fe-a2f0-0478126e56a7');\n",
              "          const dataTable =\n",
              "            await google.colab.kernel.invokeFunction('convertToInteractive',\n",
              "                                                     [key], {});\n",
              "          if (!dataTable) return;\n",
              "\n",
              "          const docLinkHtml = 'Like what you see? Visit the ' +\n",
              "            '<a target=\"_blank\" href=https://colab.research.google.com/notebooks/data_table.ipynb>data table notebook</a>'\n",
              "            + ' to learn more about interactive tables.';\n",
              "          element.innerHTML = '';\n",
              "          dataTable['output_type'] = 'display_data';\n",
              "          await google.colab.output.renderOutput(dataTable, element);\n",
              "          const docLink = document.createElement('div');\n",
              "          docLink.innerHTML = docLinkHtml;\n",
              "          element.appendChild(docLink);\n",
              "        }\n",
              "      </script>\n",
              "    </div>\n",
              "  </div>\n",
              "  "
            ]
          },
          "metadata": {},
          "execution_count": 78
        }
      ]
    },
    {
      "cell_type": "markdown",
      "source": [
        "## Table of Sanity checks results "
      ],
      "metadata": {
        "id": "mswUpixaQNVa"
      }
    },
    {
      "cell_type": "code",
      "source": [
        "San_table = [['Outcome','Mediators','Model','Q model MSE','Q model baseline','g model CE','g model baseline'],\n",
        "             ['Fall_grade', 'none', 'RandomForest', test_mse_RF0, baseline_mse_0, test_ce_RF0, baseline_ce_0],\n",
        "             ['Fall_grade', 'none', 'LogisticRegression', test_mse_LR0, baseline_mse_0, test_ce_LR0, baseline_ce_0],\n",
        "             ['Fall_grade', 'none', 'XGBoost', test_mse_XGB0, baseline_mse_0, test_ce_XGB0, baseline_ce_0],\n",
        "             ['Fall_grade', 'both', 'RandomForest', test_mse_RF1, baseline_mse_1, test_ce_RF1, baseline_ce_1],\n",
        "             ['Fall_grade', 'both', 'LogisticRegression', test_mse_LR1, baseline_mse_1, test_ce_LR1, baseline_ce_1],\n",
        "             ['Fall_grade', 'both', 'XGboost', test_mse_XGB1, baseline_mse_1, test_ce_XGB1, baseline_ce_1],\n",
        "             ['Fall_grade', 'StudyHours', 'RandomForest', test_mse_RF2, baseline_mse_2, test_ce_RF2, baseline_ce_2],\n",
        "             ['Fall_grade', 'StudyHours', 'LogisticRegression', test_mse_LR2, baseline_mse_2, test_ce_LR2, baseline_ce_2],\n",
        "             ['Fall_grade', 'StudyHours', 'XGBoost', test_mse_XGB2, baseline_mse_2, test_ce_XGB2, baseline_ce_2],\n",
        "             ['Fall_grade', 'StudyHabits', 'RandomForest', test_mse_RF3, baseline_mse_3, test_ce_RF3, baseline_ce_3],\n",
        "             ['Fall_grade', 'StudyHabits', 'LogisticRegression', test_mse_LR3, baseline_mse_3, test_ce_LR3, baseline_ce_3],\n",
        "             ['Fall_grade', 'StudyHabits', 'XGBoost', test_mse_XGB3, baseline_mse_3, test_ce_XGB3, baseline_ce_3],\n",
        "             \n",
        "             ]"
      ],
      "metadata": {
        "id": "qs7MclLts7mV"
      },
      "execution_count": null,
      "outputs": []
    },
    {
      "cell_type": "code",
      "source": [
        "df_san = pd.DataFrame(San_table)\n",
        "df_san.columns = df_san.iloc[0]\n",
        "df_san = df_san[1:]\n",
        "df_san"
      ],
      "metadata": {
        "id": "XbtJoPgSQRu8",
        "colab": {
          "base_uri": "https://localhost:8080/",
          "height": 487
        },
        "outputId": "257cf3d9-a191-4cb1-f497-62e8ba159767"
      },
      "execution_count": null,
      "outputs": [
        {
          "output_type": "execute_result",
          "data": {
            "text/plain": [
              "0      Outcome    Mediators               Model Q model MSE Q model baseline  \\\n",
              "1   Fall_grade         none        RandomForest  152.611823       151.601951   \n",
              "2   Fall_grade         none  LogisticRegression   149.51816       151.601951   \n",
              "3   Fall_grade         none             XGBoost  157.875933       151.601951   \n",
              "4   Fall_grade         both        RandomForest  169.400559       182.096039   \n",
              "5   Fall_grade         both  LogisticRegression  168.510748       182.096039   \n",
              "6   Fall_grade         both             XGboost  181.723137       182.096039   \n",
              "7   Fall_grade   StudyHours        RandomForest  121.740535       130.438943   \n",
              "8   Fall_grade   StudyHours  LogisticRegression  121.582864       130.438943   \n",
              "9   Fall_grade   StudyHours             XGBoost  127.014899       130.438943   \n",
              "10  Fall_grade  StudyHabits        RandomForest  146.637146        149.82793   \n",
              "11  Fall_grade  StudyHabits  LogisticRegression  160.548133        149.82793   \n",
              "12  Fall_grade  StudyHabits             XGBoost  155.398148        149.82793   \n",
              "\n",
              "0  g model CE g model baseline  \n",
              "1    0.696954         0.692866  \n",
              "2    0.690182         0.692866  \n",
              "3    0.714846         0.692866  \n",
              "4    0.682537         0.693418  \n",
              "5    0.677284         0.693418  \n",
              "6    0.711953         0.693418  \n",
              "7    0.688138         0.693117  \n",
              "8    0.690446         0.693117  \n",
              "9    0.707408         0.693117  \n",
              "10   0.692113         0.692866  \n",
              "11   0.693429         0.692866  \n",
              "12   0.708847         0.692866  "
            ],
            "text/html": [
              "\n",
              "  <div id=\"df-f095947d-d9f1-4ecb-b10f-e711ee7f161c\">\n",
              "    <div class=\"colab-df-container\">\n",
              "      <div>\n",
              "<style scoped>\n",
              "    .dataframe tbody tr th:only-of-type {\n",
              "        vertical-align: middle;\n",
              "    }\n",
              "\n",
              "    .dataframe tbody tr th {\n",
              "        vertical-align: top;\n",
              "    }\n",
              "\n",
              "    .dataframe thead th {\n",
              "        text-align: right;\n",
              "    }\n",
              "</style>\n",
              "<table border=\"1\" class=\"dataframe\">\n",
              "  <thead>\n",
              "    <tr style=\"text-align: right;\">\n",
              "      <th></th>\n",
              "      <th>Outcome</th>\n",
              "      <th>Mediators</th>\n",
              "      <th>Model</th>\n",
              "      <th>Q model MSE</th>\n",
              "      <th>Q model baseline</th>\n",
              "      <th>g model CE</th>\n",
              "      <th>g model baseline</th>\n",
              "    </tr>\n",
              "  </thead>\n",
              "  <tbody>\n",
              "    <tr>\n",
              "      <th>1</th>\n",
              "      <td>Fall_grade</td>\n",
              "      <td>none</td>\n",
              "      <td>RandomForest</td>\n",
              "      <td>152.611823</td>\n",
              "      <td>151.601951</td>\n",
              "      <td>0.696954</td>\n",
              "      <td>0.692866</td>\n",
              "    </tr>\n",
              "    <tr>\n",
              "      <th>2</th>\n",
              "      <td>Fall_grade</td>\n",
              "      <td>none</td>\n",
              "      <td>LogisticRegression</td>\n",
              "      <td>149.51816</td>\n",
              "      <td>151.601951</td>\n",
              "      <td>0.690182</td>\n",
              "      <td>0.692866</td>\n",
              "    </tr>\n",
              "    <tr>\n",
              "      <th>3</th>\n",
              "      <td>Fall_grade</td>\n",
              "      <td>none</td>\n",
              "      <td>XGBoost</td>\n",
              "      <td>157.875933</td>\n",
              "      <td>151.601951</td>\n",
              "      <td>0.714846</td>\n",
              "      <td>0.692866</td>\n",
              "    </tr>\n",
              "    <tr>\n",
              "      <th>4</th>\n",
              "      <td>Fall_grade</td>\n",
              "      <td>both</td>\n",
              "      <td>RandomForest</td>\n",
              "      <td>169.400559</td>\n",
              "      <td>182.096039</td>\n",
              "      <td>0.682537</td>\n",
              "      <td>0.693418</td>\n",
              "    </tr>\n",
              "    <tr>\n",
              "      <th>5</th>\n",
              "      <td>Fall_grade</td>\n",
              "      <td>both</td>\n",
              "      <td>LogisticRegression</td>\n",
              "      <td>168.510748</td>\n",
              "      <td>182.096039</td>\n",
              "      <td>0.677284</td>\n",
              "      <td>0.693418</td>\n",
              "    </tr>\n",
              "    <tr>\n",
              "      <th>6</th>\n",
              "      <td>Fall_grade</td>\n",
              "      <td>both</td>\n",
              "      <td>XGboost</td>\n",
              "      <td>181.723137</td>\n",
              "      <td>182.096039</td>\n",
              "      <td>0.711953</td>\n",
              "      <td>0.693418</td>\n",
              "    </tr>\n",
              "    <tr>\n",
              "      <th>7</th>\n",
              "      <td>Fall_grade</td>\n",
              "      <td>StudyHours</td>\n",
              "      <td>RandomForest</td>\n",
              "      <td>121.740535</td>\n",
              "      <td>130.438943</td>\n",
              "      <td>0.688138</td>\n",
              "      <td>0.693117</td>\n",
              "    </tr>\n",
              "    <tr>\n",
              "      <th>8</th>\n",
              "      <td>Fall_grade</td>\n",
              "      <td>StudyHours</td>\n",
              "      <td>LogisticRegression</td>\n",
              "      <td>121.582864</td>\n",
              "      <td>130.438943</td>\n",
              "      <td>0.690446</td>\n",
              "      <td>0.693117</td>\n",
              "    </tr>\n",
              "    <tr>\n",
              "      <th>9</th>\n",
              "      <td>Fall_grade</td>\n",
              "      <td>StudyHours</td>\n",
              "      <td>XGBoost</td>\n",
              "      <td>127.014899</td>\n",
              "      <td>130.438943</td>\n",
              "      <td>0.707408</td>\n",
              "      <td>0.693117</td>\n",
              "    </tr>\n",
              "    <tr>\n",
              "      <th>10</th>\n",
              "      <td>Fall_grade</td>\n",
              "      <td>StudyHabits</td>\n",
              "      <td>RandomForest</td>\n",
              "      <td>146.637146</td>\n",
              "      <td>149.82793</td>\n",
              "      <td>0.692113</td>\n",
              "      <td>0.692866</td>\n",
              "    </tr>\n",
              "    <tr>\n",
              "      <th>11</th>\n",
              "      <td>Fall_grade</td>\n",
              "      <td>StudyHabits</td>\n",
              "      <td>LogisticRegression</td>\n",
              "      <td>160.548133</td>\n",
              "      <td>149.82793</td>\n",
              "      <td>0.693429</td>\n",
              "      <td>0.692866</td>\n",
              "    </tr>\n",
              "    <tr>\n",
              "      <th>12</th>\n",
              "      <td>Fall_grade</td>\n",
              "      <td>StudyHabits</td>\n",
              "      <td>XGBoost</td>\n",
              "      <td>155.398148</td>\n",
              "      <td>149.82793</td>\n",
              "      <td>0.708847</td>\n",
              "      <td>0.692866</td>\n",
              "    </tr>\n",
              "  </tbody>\n",
              "</table>\n",
              "</div>\n",
              "      <button class=\"colab-df-convert\" onclick=\"convertToInteractive('df-f095947d-d9f1-4ecb-b10f-e711ee7f161c')\"\n",
              "              title=\"Convert this dataframe to an interactive table.\"\n",
              "              style=\"display:none;\">\n",
              "        \n",
              "  <svg xmlns=\"http://www.w3.org/2000/svg\" height=\"24px\"viewBox=\"0 0 24 24\"\n",
              "       width=\"24px\">\n",
              "    <path d=\"M0 0h24v24H0V0z\" fill=\"none\"/>\n",
              "    <path d=\"M18.56 5.44l.94 2.06.94-2.06 2.06-.94-2.06-.94-.94-2.06-.94 2.06-2.06.94zm-11 1L8.5 8.5l.94-2.06 2.06-.94-2.06-.94L8.5 2.5l-.94 2.06-2.06.94zm10 10l.94 2.06.94-2.06 2.06-.94-2.06-.94-.94-2.06-.94 2.06-2.06.94z\"/><path d=\"M17.41 7.96l-1.37-1.37c-.4-.4-.92-.59-1.43-.59-.52 0-1.04.2-1.43.59L10.3 9.45l-7.72 7.72c-.78.78-.78 2.05 0 2.83L4 21.41c.39.39.9.59 1.41.59.51 0 1.02-.2 1.41-.59l7.78-7.78 2.81-2.81c.8-.78.8-2.07 0-2.86zM5.41 20L4 18.59l7.72-7.72 1.47 1.35L5.41 20z\"/>\n",
              "  </svg>\n",
              "      </button>\n",
              "      \n",
              "  <style>\n",
              "    .colab-df-container {\n",
              "      display:flex;\n",
              "      flex-wrap:wrap;\n",
              "      gap: 12px;\n",
              "    }\n",
              "\n",
              "    .colab-df-convert {\n",
              "      background-color: #E8F0FE;\n",
              "      border: none;\n",
              "      border-radius: 50%;\n",
              "      cursor: pointer;\n",
              "      display: none;\n",
              "      fill: #1967D2;\n",
              "      height: 32px;\n",
              "      padding: 0 0 0 0;\n",
              "      width: 32px;\n",
              "    }\n",
              "\n",
              "    .colab-df-convert:hover {\n",
              "      background-color: #E2EBFA;\n",
              "      box-shadow: 0px 1px 2px rgba(60, 64, 67, 0.3), 0px 1px 3px 1px rgba(60, 64, 67, 0.15);\n",
              "      fill: #174EA6;\n",
              "    }\n",
              "\n",
              "    [theme=dark] .colab-df-convert {\n",
              "      background-color: #3B4455;\n",
              "      fill: #D2E3FC;\n",
              "    }\n",
              "\n",
              "    [theme=dark] .colab-df-convert:hover {\n",
              "      background-color: #434B5C;\n",
              "      box-shadow: 0px 1px 3px 1px rgba(0, 0, 0, 0.15);\n",
              "      filter: drop-shadow(0px 1px 2px rgba(0, 0, 0, 0.3));\n",
              "      fill: #FFFFFF;\n",
              "    }\n",
              "  </style>\n",
              "\n",
              "      <script>\n",
              "        const buttonEl =\n",
              "          document.querySelector('#df-f095947d-d9f1-4ecb-b10f-e711ee7f161c button.colab-df-convert');\n",
              "        buttonEl.style.display =\n",
              "          google.colab.kernel.accessAllowed ? 'block' : 'none';\n",
              "\n",
              "        async function convertToInteractive(key) {\n",
              "          const element = document.querySelector('#df-f095947d-d9f1-4ecb-b10f-e711ee7f161c');\n",
              "          const dataTable =\n",
              "            await google.colab.kernel.invokeFunction('convertToInteractive',\n",
              "                                                     [key], {});\n",
              "          if (!dataTable) return;\n",
              "\n",
              "          const docLinkHtml = 'Like what you see? Visit the ' +\n",
              "            '<a target=\"_blank\" href=https://colab.research.google.com/notebooks/data_table.ipynb>data table notebook</a>'\n",
              "            + ' to learn more about interactive tables.';\n",
              "          element.innerHTML = '';\n",
              "          dataTable['output_type'] = 'display_data';\n",
              "          await google.colab.output.renderOutput(dataTable, element);\n",
              "          const docLink = document.createElement('div');\n",
              "          docLink.innerHTML = docLinkHtml;\n",
              "          element.appendChild(docLink);\n",
              "        }\n",
              "      </script>\n",
              "    </div>\n",
              "  </div>\n",
              "  "
            ]
          },
          "metadata": {},
          "execution_count": 80
        }
      ]
    }
  ],
  "metadata": {
    "colab": {
      "provenance": [],
      "toc_visible": true,
      "collapsed_sections": [
        "ALvKeOdnG2Cb"
      ],
      "include_colab_link": true
    },
    "kernelspec": {
      "display_name": "Python 3",
      "name": "python3"
    },
    "language_info": {
      "name": "python"
    }
  },
  "nbformat": 4,
  "nbformat_minor": 0
}